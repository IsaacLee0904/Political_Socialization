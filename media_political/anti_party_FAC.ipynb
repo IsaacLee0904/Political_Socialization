{
  "cells": [
    {
      "attachments": {},
      "cell_type": "markdown",
      "id": "6e723782-5c0b-4d73-b106-48d894e40a06",
      "metadata": {
        "noteable": {
          "cell_type": "markdown"
        }
      },
      "source": [
        "# anti_party_FAC\n",
        "* 因素分析 -> 根據構面取平均\n",
        "* 因素分析 -> 根據構面取綜合得分\n",
        "* 因素分析 -> 全部算一個綜合得分"
      ]
    },
    {
      "attachments": {},
      "cell_type": "markdown",
      "id": "51ac109b",
      "metadata": {},
      "source": [
        "## Import package"
      ]
    },
    {
      "cell_type": "code",
      "execution_count": 15,
      "id": "f6ef19fe-5a2f-4c79-bb17-5ab7dda76101",
      "metadata": {
        "ExecuteTime": {
          "end_time": "2023-06-30T09:22:48.049245+00:00",
          "start_time": "2023-06-30T09:22:34.047004+00:00"
        },
        "noteable": {
          "cell_type": "python",
          "output_collection_id": "0b64bfa8-9920-474c-8d7d-bac8286d5866"
        },
        "scrolled": false
      },
      "outputs": [],
      "source": [
        "# ! pip install factor_analyzer pingouin stargazer plotnine geopandas folium Factor_Analysis"
      ]
    },
    {
      "cell_type": "code",
      "execution_count": 1,
      "id": "f0c407eb",
      "metadata": {
        "ExecuteTime": {
          "end_time": "2023-06-30T09:22:59.523203+00:00",
          "start_time": "2023-06-30T09:22:57.828347+00:00"
        },
        "noteable": {
          "output_collection_id": "73cfef4b-5351-4e1d-a20a-564ff2a0100b"
        }
      },
      "outputs": [],
      "source": [
        "# for data ETL\n",
        "import pandas as pd\n",
        "import ETL\n",
        "# Module for spatial data manipulation\n",
        "import geopandas as gpd\n",
        "# Module for data viz \n",
        "from plotnine import *\n",
        "import plotnine\n",
        "import plotly.express as px\n",
        "import seaborn as sns               \n",
        "import matplotlib.pyplot as plt\n",
        "# Module for spatial data viz\n",
        "import folium\n",
        "import branca\n",
        "import branca.colormap as cm\n",
        "from folium.features import GeoJson, GeoJsonTooltip\n",
        "# for establish index\n",
        "import Factor_Analysis \n",
        "from factor_analyzer import FactorAnalyzer\n",
        "from factor_analyzer.factor_analyzer import calculate_bartlett_sphericity, calculate_kmo\n",
        "import pingouin as pg # index reliability testing\n",
        "# for stats ml\n",
        "from sklearn.preprocessing import StandardScaler\n",
        "from scipy.stats import pearsonr\n",
        "import statsmodels.api as sm\n",
        "import statsmodels.formula.api as smf\n",
        "from statsmodels.miscmodels.ordinal_model import OrderedModel\n",
        "from stargazer.stargazer import Stargazer"
      ]
    },
    {
      "attachments": {},
      "cell_type": "markdown",
      "id": "2b5ccbd5",
      "metadata": {},
      "source": [
        "## Load data and filiter "
      ]
    },
    {
      "cell_type": "code",
      "execution_count": 2,
      "id": "625c9313",
      "metadata": {
        "ExecuteTime": {
          "end_time": "2023-06-30T09:22:59.741004+00:00",
          "start_time": "2023-06-30T09:22:59.530941+00:00"
        },
        "noteable": {
          "output_collection_id": "2e19b64f-9dcb-4b9f-9311-5719cad2eb72"
        }
      },
      "outputs": [],
      "source": [
        "raw_data = pd.read_csv('raw_data.csv')"
      ]
    },
    {
      "cell_type": "code",
      "execution_count": 3,
      "id": "43440d4d",
      "metadata": {
        "ExecuteTime": {
          "end_time": "2023-06-30T09:22:59.938704+00:00",
          "start_time": "2023-06-30T09:22:59.755372+00:00"
        },
        "noteable": {
          "output_collection_id": "a6e3e4df-b6c7-4617-a448-e45f723569ae"
        }
      },
      "outputs": [
        {
          "name": "stderr",
          "output_type": "stream",
          "text": [
            "/var/folders/dn/wbyhv8k14697mm1zy19w1jh40000gn/T/ipykernel_82029/2097987034.py:2: SettingWithCopyWarning: \n",
            "A value is trying to be set on a copy of a slice from a DataFrame\n",
            "\n",
            "See the caveats in the documentation: https://pandas.pydata.org/pandas-docs/stable/user_guide/indexing.html#returning-a-view-versus-a-copy\n"
          ]
        }
      ],
      "source": [
        "filter_data = raw_data.loc[raw_data['目前國內政黨當中，請問您是否偏向哪一個政黨？'].isin(['沒有特定支持', '都不支持'])]\n",
        "filter_data.drop(['您有絶對的權力決定是否要參與本研究。若您願意參與，請務必勾選下列選項：', '請填寫您的電子信箱，以利後續抽獎聯繫使用'], axis=1, inplace=True)"
      ]
    },
    {
      "attachments": {},
      "cell_type": "markdown",
      "id": "77198f5b",
      "metadata": {},
      "source": [
        "## Data Cleaning"
      ]
    },
    {
      "cell_type": "code",
      "execution_count": 4,
      "id": "f729d4f2-b421-4b59-9f14-4ca7c53a6dae",
      "metadata": {
        "ExecuteTime": {
          "end_time": "2023-06-30T09:23:00.185871+00:00",
          "start_time": "2023-06-30T09:22:59.963361+00:00"
        },
        "datalink": {
          "1a08f08c-eb19-4b2c-bea1-950f87d76998": {
            "applied_filters": [],
            "dataframe_info": {
              "default_index_used": true,
              "orig_num_cols": 33,
              "orig_num_rows": 503,
              "orig_size_bytes": 136816,
              "truncated_num_cols": 33,
              "truncated_num_rows": 503,
              "truncated_size_bytes": 136816,
              "truncated_string_columns": []
            },
            "display_id": "1a08f08c-eb19-4b2c-bea1-950f87d76998",
            "dx_settings": {
              "ALLOW_NOTEABLE_ATTRS": true,
              "COLUMN_SAMPLING_METHOD": "outer",
              "DB_LOCATION": ":memory:",
              "DEV_MODE": false,
              "DISPLAY_MAX_COLUMNS": 100,
              "DISPLAY_MAX_ROWS": 50000,
              "DISPLAY_MODE": "simple",
              "ENABLE_ASSIGNMENT": true,
              "ENABLE_DATALINK": true,
              "FLATTEN_COLUMN_VALUES": true,
              "FLATTEN_INDEX_VALUES": false,
              "GENERATE_DEX_METADATA": false,
              "HTML_TABLE_SCHEMA": false,
              "LOG_LEVEL": 30,
              "MAX_RENDER_SIZE_BYTES": 104857600,
              "MAX_STRING_LENGTH": 250,
              "NUM_PAST_SAMPLES_TRACKED": 3,
              "RANDOM_STATE": 12648430,
              "RESET_INDEX_VALUES": false,
              "ROW_SAMPLING_METHOD": "random",
              "SAMPLING_FACTOR": 0.1,
              "SAMPLING_METHOD": "random",
              "STRINGIFY_COLUMN_VALUES": true,
              "STRINGIFY_INDEX_VALUES": false
            },
            "sample_history": [],
            "sampling_time": "2023-06-29T06:10:52.000856",
            "user_variable_name": null,
            "variable_name": "unk_dataframe_48fd4c1548d645298a554a9689f7b12e"
          },
          "5a0f5b14-d382-43db-8488-90197252082a": {
            "applied_filters": [],
            "dataframe_info": {
              "default_index_used": true,
              "orig_num_cols": 33,
              "orig_num_rows": 503,
              "orig_size_bytes": 136816,
              "truncated_num_cols": 33,
              "truncated_num_rows": 503,
              "truncated_size_bytes": 136816,
              "truncated_string_columns": []
            },
            "display_id": "5a0f5b14-d382-43db-8488-90197252082a",
            "dx_settings": {
              "ALLOW_NOTEABLE_ATTRS": true,
              "COLUMN_SAMPLING_METHOD": "outer",
              "DB_LOCATION": ":memory:",
              "DEV_MODE": false,
              "DISPLAY_MAX_COLUMNS": 100,
              "DISPLAY_MAX_ROWS": 50000,
              "DISPLAY_MODE": "simple",
              "ENABLE_ASSIGNMENT": true,
              "ENABLE_DATALINK": true,
              "FLATTEN_COLUMN_VALUES": true,
              "FLATTEN_INDEX_VALUES": false,
              "GENERATE_DEX_METADATA": false,
              "HTML_TABLE_SCHEMA": false,
              "LOG_LEVEL": 30,
              "MAX_RENDER_SIZE_BYTES": 104857600,
              "MAX_STRING_LENGTH": 250,
              "NUM_PAST_SAMPLES_TRACKED": 3,
              "RANDOM_STATE": 12648430,
              "RESET_INDEX_VALUES": false,
              "ROW_SAMPLING_METHOD": "random",
              "SAMPLING_FACTOR": 0.1,
              "SAMPLING_METHOD": "random",
              "STRINGIFY_COLUMN_VALUES": true,
              "STRINGIFY_INDEX_VALUES": false
            },
            "sample_history": [],
            "sampling_time": "2023-06-29T06:12:15.238058",
            "user_variable_name": null,
            "variable_name": "unk_dataframe_bcb85c06860a4d4c9e947b3aade5f565"
          }
        },
        "jupyter": {
          "outputs_hidden": false,
          "source_hidden": false
        },
        "noteable": {
          "cell_type": "code",
          "output_collection_id": "365234fa-7663-4dd7-bc41-5a48249950b3"
        }
      },
      "outputs": [
        {
          "name": "stderr",
          "output_type": "stream",
          "text": [
            "/Users/wen/Desktop/github/media_political/ETL.py:14: SettingWithCopyWarning: \n",
            "A value is trying to be set on a copy of a slice from a DataFrame.\n",
            "Try using .loc[row_indexer,col_indexer] = value instead\n",
            "\n",
            "See the caveats in the documentation: https://pandas.pydata.org/pandas-docs/stable/user_guide/indexing.html#returning-a-view-versus-a-copy\n",
            "/Users/wen/Desktop/github/media_political/ETL.py:15: SettingWithCopyWarning: \n",
            "A value is trying to be set on a copy of a slice from a DataFrame.\n",
            "Try using .loc[row_indexer,col_indexer] = value instead\n",
            "\n",
            "See the caveats in the documentation: https://pandas.pydata.org/pandas-docs/stable/user_guide/indexing.html#returning-a-view-versus-a-copy\n",
            "/Users/wen/Desktop/github/media_political/ETL.py:16: SettingWithCopyWarning: \n",
            "A value is trying to be set on a copy of a slice from a DataFrame.\n",
            "Try using .loc[row_indexer,col_indexer] = value instead\n",
            "\n",
            "See the caveats in the documentation: https://pandas.pydata.org/pandas-docs/stable/user_guide/indexing.html#returning-a-view-versus-a-copy\n",
            "/Users/wen/Desktop/github/media_political/ETL.py:17: SettingWithCopyWarning: \n",
            "A value is trying to be set on a copy of a slice from a DataFrame.\n",
            "Try using .loc[row_indexer,col_indexer] = value instead\n",
            "\n",
            "See the caveats in the documentation: https://pandas.pydata.org/pandas-docs/stable/user_guide/indexing.html#returning-a-view-versus-a-copy\n",
            "/Users/wen/Desktop/github/media_political/ETL.py:18: SettingWithCopyWarning: \n",
            "A value is trying to be set on a copy of a slice from a DataFrame.\n",
            "Try using .loc[row_indexer,col_indexer] = value instead\n",
            "\n",
            "See the caveats in the documentation: https://pandas.pydata.org/pandas-docs/stable/user_guide/indexing.html#returning-a-view-versus-a-copy\n",
            "/Users/wen/Desktop/github/media_political/ETL.py:19: SettingWithCopyWarning: \n",
            "A value is trying to be set on a copy of a slice from a DataFrame.\n",
            "Try using .loc[row_indexer,col_indexer] = value instead\n",
            "\n",
            "See the caveats in the documentation: https://pandas.pydata.org/pandas-docs/stable/user_guide/indexing.html#returning-a-view-versus-a-copy\n",
            "/Users/wen/Desktop/github/media_political/ETL.py:20: SettingWithCopyWarning: \n",
            "A value is trying to be set on a copy of a slice from a DataFrame.\n",
            "Try using .loc[row_indexer,col_indexer] = value instead\n",
            "\n",
            "See the caveats in the documentation: https://pandas.pydata.org/pandas-docs/stable/user_guide/indexing.html#returning-a-view-versus-a-copy\n",
            "/Users/wen/Desktop/github/media_political/ETL.py:21: SettingWithCopyWarning: \n",
            "A value is trying to be set on a copy of a slice from a DataFrame.\n",
            "Try using .loc[row_indexer,col_indexer] = value instead\n",
            "\n",
            "See the caveats in the documentation: https://pandas.pydata.org/pandas-docs/stable/user_guide/indexing.html#returning-a-view-versus-a-copy\n",
            "/Users/wen/Desktop/github/media_political/ETL.py:22: SettingWithCopyWarning: \n",
            "A value is trying to be set on a copy of a slice from a DataFrame.\n",
            "Try using .loc[row_indexer,col_indexer] = value instead\n",
            "\n",
            "See the caveats in the documentation: https://pandas.pydata.org/pandas-docs/stable/user_guide/indexing.html#returning-a-view-versus-a-copy\n",
            "/Users/wen/Desktop/github/media_political/ETL.py:23: SettingWithCopyWarning: \n",
            "A value is trying to be set on a copy of a slice from a DataFrame.\n",
            "Try using .loc[row_indexer,col_indexer] = value instead\n",
            "\n",
            "See the caveats in the documentation: https://pandas.pydata.org/pandas-docs/stable/user_guide/indexing.html#returning-a-view-versus-a-copy\n",
            "/Users/wen/Desktop/github/media_political/ETL.py:24: SettingWithCopyWarning: \n",
            "A value is trying to be set on a copy of a slice from a DataFrame.\n",
            "Try using .loc[row_indexer,col_indexer] = value instead\n",
            "\n",
            "See the caveats in the documentation: https://pandas.pydata.org/pandas-docs/stable/user_guide/indexing.html#returning-a-view-versus-a-copy\n",
            "/Users/wen/Desktop/github/media_political/ETL.py:25: SettingWithCopyWarning: \n",
            "A value is trying to be set on a copy of a slice from a DataFrame.\n",
            "Try using .loc[row_indexer,col_indexer] = value instead\n",
            "\n",
            "See the caveats in the documentation: https://pandas.pydata.org/pandas-docs/stable/user_guide/indexing.html#returning-a-view-versus-a-copy\n",
            "/Users/wen/Desktop/github/media_political/ETL.py:26: SettingWithCopyWarning: \n",
            "A value is trying to be set on a copy of a slice from a DataFrame.\n",
            "Try using .loc[row_indexer,col_indexer] = value instead\n",
            "\n",
            "See the caveats in the documentation: https://pandas.pydata.org/pandas-docs/stable/user_guide/indexing.html#returning-a-view-versus-a-copy\n",
            "/Users/wen/Desktop/github/media_political/ETL.py:27: SettingWithCopyWarning: \n",
            "A value is trying to be set on a copy of a slice from a DataFrame.\n",
            "Try using .loc[row_indexer,col_indexer] = value instead\n",
            "\n",
            "See the caveats in the documentation: https://pandas.pydata.org/pandas-docs/stable/user_guide/indexing.html#returning-a-view-versus-a-copy\n",
            "/Users/wen/Desktop/github/media_political/ETL.py:28: SettingWithCopyWarning: \n",
            "A value is trying to be set on a copy of a slice from a DataFrame.\n",
            "Try using .loc[row_indexer,col_indexer] = value instead\n",
            "\n",
            "See the caveats in the documentation: https://pandas.pydata.org/pandas-docs/stable/user_guide/indexing.html#returning-a-view-versus-a-copy\n",
            "/Users/wen/Desktop/github/media_political/ETL.py:29: SettingWithCopyWarning: \n",
            "A value is trying to be set on a copy of a slice from a DataFrame.\n",
            "Try using .loc[row_indexer,col_indexer] = value instead\n",
            "\n",
            "See the caveats in the documentation: https://pandas.pydata.org/pandas-docs/stable/user_guide/indexing.html#returning-a-view-versus-a-copy\n",
            "/Users/wen/Desktop/github/media_political/ETL.py:32: SettingWithCopyWarning: \n",
            "A value is trying to be set on a copy of a slice from a DataFrame.\n",
            "Try using .loc[row_indexer,col_indexer] = value instead\n",
            "\n",
            "See the caveats in the documentation: https://pandas.pydata.org/pandas-docs/stable/user_guide/indexing.html#returning-a-view-versus-a-copy\n",
            "/Users/wen/Desktop/github/media_political/ETL.py:33: SettingWithCopyWarning: \n",
            "A value is trying to be set on a copy of a slice from a DataFrame.\n",
            "Try using .loc[row_indexer,col_indexer] = value instead\n",
            "\n",
            "See the caveats in the documentation: https://pandas.pydata.org/pandas-docs/stable/user_guide/indexing.html#returning-a-view-versus-a-copy\n",
            "/Users/wen/Desktop/github/media_political/ETL.py:34: SettingWithCopyWarning: \n",
            "A value is trying to be set on a copy of a slice from a DataFrame.\n",
            "Try using .loc[row_indexer,col_indexer] = value instead\n",
            "\n",
            "See the caveats in the documentation: https://pandas.pydata.org/pandas-docs/stable/user_guide/indexing.html#returning-a-view-versus-a-copy\n",
            "/Users/wen/Desktop/github/media_political/ETL.py:35: SettingWithCopyWarning: \n",
            "A value is trying to be set on a copy of a slice from a DataFrame.\n",
            "Try using .loc[row_indexer,col_indexer] = value instead\n",
            "\n",
            "See the caveats in the documentation: https://pandas.pydata.org/pandas-docs/stable/user_guide/indexing.html#returning-a-view-versus-a-copy\n",
            "/Users/wen/Desktop/github/media_political/ETL.py:36: SettingWithCopyWarning: \n",
            "A value is trying to be set on a copy of a slice from a DataFrame.\n",
            "Try using .loc[row_indexer,col_indexer] = value instead\n",
            "\n",
            "See the caveats in the documentation: https://pandas.pydata.org/pandas-docs/stable/user_guide/indexing.html#returning-a-view-versus-a-copy\n",
            "/Users/wen/Desktop/github/media_political/ETL.py:37: SettingWithCopyWarning: \n",
            "A value is trying to be set on a copy of a slice from a DataFrame.\n",
            "Try using .loc[row_indexer,col_indexer] = value instead\n",
            "\n",
            "See the caveats in the documentation: https://pandas.pydata.org/pandas-docs/stable/user_guide/indexing.html#returning-a-view-versus-a-copy\n",
            "/Users/wen/Desktop/github/media_political/ETL.py:38: SettingWithCopyWarning: \n",
            "A value is trying to be set on a copy of a slice from a DataFrame.\n",
            "Try using .loc[row_indexer,col_indexer] = value instead\n",
            "\n",
            "See the caveats in the documentation: https://pandas.pydata.org/pandas-docs/stable/user_guide/indexing.html#returning-a-view-versus-a-copy\n",
            "/Users/wen/Desktop/github/media_political/ETL.py:39: SettingWithCopyWarning: \n",
            "A value is trying to be set on a copy of a slice from a DataFrame.\n",
            "Try using .loc[row_indexer,col_indexer] = value instead\n",
            "\n",
            "See the caveats in the documentation: https://pandas.pydata.org/pandas-docs/stable/user_guide/indexing.html#returning-a-view-versus-a-copy\n",
            "/Users/wen/Desktop/github/media_political/ETL.py:40: SettingWithCopyWarning: \n",
            "A value is trying to be set on a copy of a slice from a DataFrame.\n",
            "Try using .loc[row_indexer,col_indexer] = value instead\n",
            "\n",
            "See the caveats in the documentation: https://pandas.pydata.org/pandas-docs/stable/user_guide/indexing.html#returning-a-view-versus-a-copy\n",
            "/Users/wen/Desktop/github/media_political/ETL.py:43: SettingWithCopyWarning: \n",
            "A value is trying to be set on a copy of a slice from a DataFrame.\n",
            "Try using .loc[row_indexer,col_indexer] = value instead\n",
            "\n",
            "See the caveats in the documentation: https://pandas.pydata.org/pandas-docs/stable/user_guide/indexing.html#returning-a-view-versus-a-copy\n",
            "/Users/wen/Desktop/github/media_political/ETL.py:43: SettingWithCopyWarning: \n",
            "A value is trying to be set on a copy of a slice from a DataFrame.\n",
            "Try using .loc[row_indexer,col_indexer] = value instead\n",
            "\n",
            "See the caveats in the documentation: https://pandas.pydata.org/pandas-docs/stable/user_guide/indexing.html#returning-a-view-versus-a-copy\n",
            "/Users/wen/Desktop/github/media_political/ETL.py:43: SettingWithCopyWarning: \n",
            "A value is trying to be set on a copy of a slice from a DataFrame.\n",
            "Try using .loc[row_indexer,col_indexer] = value instead\n",
            "\n",
            "See the caveats in the documentation: https://pandas.pydata.org/pandas-docs/stable/user_guide/indexing.html#returning-a-view-versus-a-copy\n",
            "/Users/wen/Desktop/github/media_political/ETL.py:43: SettingWithCopyWarning: \n",
            "A value is trying to be set on a copy of a slice from a DataFrame.\n",
            "Try using .loc[row_indexer,col_indexer] = value instead\n",
            "\n",
            "See the caveats in the documentation: https://pandas.pydata.org/pandas-docs/stable/user_guide/indexing.html#returning-a-view-versus-a-copy\n",
            "/Users/wen/Desktop/github/media_political/ETL.py:43: SettingWithCopyWarning: \n",
            "A value is trying to be set on a copy of a slice from a DataFrame.\n",
            "Try using .loc[row_indexer,col_indexer] = value instead\n",
            "\n",
            "See the caveats in the documentation: https://pandas.pydata.org/pandas-docs/stable/user_guide/indexing.html#returning-a-view-versus-a-copy\n",
            "/Users/wen/Desktop/github/media_political/ETL.py:44: SettingWithCopyWarning: \n",
            "A value is trying to be set on a copy of a slice from a DataFrame.\n",
            "Try using .loc[row_indexer,col_indexer] = value instead\n",
            "\n",
            "See the caveats in the documentation: https://pandas.pydata.org/pandas-docs/stable/user_guide/indexing.html#returning-a-view-versus-a-copy\n",
            "/Users/wen/Desktop/github/media_political/ETL.py:45: SettingWithCopyWarning: \n",
            "A value is trying to be set on a copy of a slice from a DataFrame.\n",
            "Try using .loc[row_indexer,col_indexer] = value instead\n",
            "\n",
            "See the caveats in the documentation: https://pandas.pydata.org/pandas-docs/stable/user_guide/indexing.html#returning-a-view-versus-a-copy\n",
            "/Users/wen/Desktop/github/media_political/ETL.py:46: SettingWithCopyWarning: \n",
            "A value is trying to be set on a copy of a slice from a DataFrame.\n",
            "Try using .loc[row_indexer,col_indexer] = value instead\n",
            "\n",
            "See the caveats in the documentation: https://pandas.pydata.org/pandas-docs/stable/user_guide/indexing.html#returning-a-view-versus-a-copy\n",
            "/Users/wen/Desktop/github/media_political/ETL.py:47: SettingWithCopyWarning: \n",
            "A value is trying to be set on a copy of a slice from a DataFrame.\n",
            "Try using .loc[row_indexer,col_indexer] = value instead\n",
            "\n",
            "See the caveats in the documentation: https://pandas.pydata.org/pandas-docs/stable/user_guide/indexing.html#returning-a-view-versus-a-copy\n"
          ]
        }
      ],
      "source": [
        "ml_df = ETL.data_cleaning(filter_data)\n",
        "ml_df = ml_df.reset_index(drop=True)"
      ]
    },
    {
      "cell_type": "code",
      "execution_count": 5,
      "id": "8d8e086f-db3a-4911-825a-138d54fc02de",
      "metadata": {
        "ExecuteTime": {
          "end_time": "2023-06-30T09:23:00.406784+00:00",
          "start_time": "2023-06-30T09:23:00.248067+00:00"
        },
        "jupyter": {
          "outputs_hidden": false,
          "source_hidden": false
        },
        "noteable": {
          "cell_type": "code",
          "output_collection_id": "b5fe7df4-3105-435c-98ce-3bf0c4bb1017"
        }
      },
      "outputs": [
        {
          "data": {
            "text/plain": [
              "(503, 33)"
            ]
          },
          "execution_count": 5,
          "metadata": {},
          "output_type": "execute_result"
        }
      ],
      "source": [
        "ml_df.shape"
      ]
    },
    {
      "cell_type": "code",
      "execution_count": 6,
      "id": "886a310a",
      "metadata": {},
      "outputs": [
        {
          "data": {
            "text/plain": [
              "(503, 38)"
            ]
          },
          "execution_count": 6,
          "metadata": {},
          "output_type": "execute_result"
        }
      ],
      "source": [
        "ml_df = ETL.anti_party_feature(ml_df)\n",
        "ml_df.shape"
      ]
    },
    {
      "cell_type": "code",
      "execution_count": 7,
      "id": "6f9317e2",
      "metadata": {},
      "outputs": [
        {
          "data": {
            "text/html": [
              "<div>\n",
              "<style scoped>\n",
              "    .dataframe tbody tr th:only-of-type {\n",
              "        vertical-align: middle;\n",
              "    }\n",
              "\n",
              "    .dataframe tbody tr th {\n",
              "        vertical-align: top;\n",
              "    }\n",
              "\n",
              "    .dataframe thead th {\n",
              "        text-align: right;\n",
              "    }\n",
              "</style>\n",
              "<table border=\"1\" class=\"dataframe\">\n",
              "  <thead>\n",
              "    <tr style=\"text-align: right;\">\n",
              "      <th></th>\n",
              "      <th>TV_news_time</th>\n",
              "      <th>news_paper_time</th>\n",
              "      <th>int_news_time</th>\n",
              "      <th>TV_debate</th>\n",
              "      <th>read_media</th>\n",
              "      <th>like_media</th>\n",
              "      <th>share_media</th>\n",
              "      <th>comment_media</th>\n",
              "      <th>int_discuss</th>\n",
              "      <th>read_election_news</th>\n",
              "      <th>...</th>\n",
              "      <th>anti_5</th>\n",
              "      <th>TC_issue</th>\n",
              "      <th>Negative_1</th>\n",
              "      <th>Negative_2</th>\n",
              "      <th>Negative_3</th>\n",
              "      <th>political_polarization_mean</th>\n",
              "      <th>party_image_mean</th>\n",
              "      <th>political_polarization_score</th>\n",
              "      <th>party_image_score</th>\n",
              "      <th>anti_party_scores</th>\n",
              "    </tr>\n",
              "  </thead>\n",
              "  <tbody>\n",
              "    <tr>\n",
              "      <th>0</th>\n",
              "      <td>1.0</td>\n",
              "      <td>1.0</td>\n",
              "      <td>1.0</td>\n",
              "      <td>1.0</td>\n",
              "      <td>3.0</td>\n",
              "      <td>2.0</td>\n",
              "      <td>1.0</td>\n",
              "      <td>1.0</td>\n",
              "      <td>2.0</td>\n",
              "      <td>1.0</td>\n",
              "      <td>...</td>\n",
              "      <td>4</td>\n",
              "      <td>2</td>\n",
              "      <td>轉而支持其他候選人</td>\n",
              "      <td>轉而支持其他候選人</td>\n",
              "      <td>轉而支持其他候選人</td>\n",
              "      <td>5.0</td>\n",
              "      <td>4.666667</td>\n",
              "      <td>1.147308</td>\n",
              "      <td>1.039196</td>\n",
              "      <td>1.103528</td>\n",
              "    </tr>\n",
              "    <tr>\n",
              "      <th>1</th>\n",
              "      <td>1.0</td>\n",
              "      <td>1.0</td>\n",
              "      <td>1.0</td>\n",
              "      <td>1.0</td>\n",
              "      <td>2.0</td>\n",
              "      <td>3.0</td>\n",
              "      <td>1.0</td>\n",
              "      <td>1.0</td>\n",
              "      <td>2.0</td>\n",
              "      <td>2.0</td>\n",
              "      <td>...</td>\n",
              "      <td>4</td>\n",
              "      <td>4</td>\n",
              "      <td>沒有影響</td>\n",
              "      <td>沒有影響</td>\n",
              "      <td>沒有影響</td>\n",
              "      <td>4.0</td>\n",
              "      <td>4.333333</td>\n",
              "      <td>0.921384</td>\n",
              "      <td>-0.109686</td>\n",
              "      <td>0.503846</td>\n",
              "    </tr>\n",
              "    <tr>\n",
              "      <th>2</th>\n",
              "      <td>1.0</td>\n",
              "      <td>1.0</td>\n",
              "      <td>1.0</td>\n",
              "      <td>1.0</td>\n",
              "      <td>3.0</td>\n",
              "      <td>1.0</td>\n",
              "      <td>1.0</td>\n",
              "      <td>1.0</td>\n",
              "      <td>2.0</td>\n",
              "      <td>1.0</td>\n",
              "      <td>...</td>\n",
              "      <td>2</td>\n",
              "      <td>4</td>\n",
              "      <td>沒有影響</td>\n",
              "      <td>轉而支持其他候選人</td>\n",
              "      <td>轉而支持其他候選人</td>\n",
              "      <td>5.0</td>\n",
              "      <td>3.000000</td>\n",
              "      <td>-0.794236</td>\n",
              "      <td>1.176296</td>\n",
              "      <td>0.003743</td>\n",
              "    </tr>\n",
              "    <tr>\n",
              "      <th>3</th>\n",
              "      <td>1.0</td>\n",
              "      <td>1.0</td>\n",
              "      <td>1.0</td>\n",
              "      <td>3.0</td>\n",
              "      <td>4.0</td>\n",
              "      <td>2.0</td>\n",
              "      <td>1.0</td>\n",
              "      <td>1.0</td>\n",
              "      <td>2.0</td>\n",
              "      <td>4.0</td>\n",
              "      <td>...</td>\n",
              "      <td>1</td>\n",
              "      <td>4</td>\n",
              "      <td>沒有影響</td>\n",
              "      <td>沒有影響</td>\n",
              "      <td>轉而支持其他候選人</td>\n",
              "      <td>4.0</td>\n",
              "      <td>1.666667</td>\n",
              "      <td>-1.430942</td>\n",
              "      <td>0.057541</td>\n",
              "      <td>-0.828172</td>\n",
              "    </tr>\n",
              "    <tr>\n",
              "      <th>4</th>\n",
              "      <td>1.0</td>\n",
              "      <td>1.0</td>\n",
              "      <td>1.0</td>\n",
              "      <td>1.0</td>\n",
              "      <td>3.0</td>\n",
              "      <td>2.0</td>\n",
              "      <td>2.0</td>\n",
              "      <td>1.0</td>\n",
              "      <td>3.0</td>\n",
              "      <td>2.0</td>\n",
              "      <td>...</td>\n",
              "      <td>5</td>\n",
              "      <td>2</td>\n",
              "      <td>轉而支持其他候選人</td>\n",
              "      <td>轉而支持其他候選人</td>\n",
              "      <td>沒有影響</td>\n",
              "      <td>2.0</td>\n",
              "      <td>4.666667</td>\n",
              "      <td>1.184414</td>\n",
              "      <td>-2.445558</td>\n",
              "      <td>-0.285565</td>\n",
              "    </tr>\n",
              "    <tr>\n",
              "      <th>...</th>\n",
              "      <td>...</td>\n",
              "      <td>...</td>\n",
              "      <td>...</td>\n",
              "      <td>...</td>\n",
              "      <td>...</td>\n",
              "      <td>...</td>\n",
              "      <td>...</td>\n",
              "      <td>...</td>\n",
              "      <td>...</td>\n",
              "      <td>...</td>\n",
              "      <td>...</td>\n",
              "      <td>...</td>\n",
              "      <td>...</td>\n",
              "      <td>...</td>\n",
              "      <td>...</td>\n",
              "      <td>...</td>\n",
              "      <td>...</td>\n",
              "      <td>...</td>\n",
              "      <td>...</td>\n",
              "      <td>...</td>\n",
              "      <td>...</td>\n",
              "    </tr>\n",
              "    <tr>\n",
              "      <th>498</th>\n",
              "      <td>2.0</td>\n",
              "      <td>2.0</td>\n",
              "      <td>1.0</td>\n",
              "      <td>4.0</td>\n",
              "      <td>1.0</td>\n",
              "      <td>1.0</td>\n",
              "      <td>1.0</td>\n",
              "      <td>1.0</td>\n",
              "      <td>4.0</td>\n",
              "      <td>4.0</td>\n",
              "      <td>...</td>\n",
              "      <td>2</td>\n",
              "      <td>2</td>\n",
              "      <td>轉而支持其他候選人</td>\n",
              "      <td>沒有影響</td>\n",
              "      <td>沒有影響</td>\n",
              "      <td>5.0</td>\n",
              "      <td>2.000000</td>\n",
              "      <td>-1.279918</td>\n",
              "      <td>1.212005</td>\n",
              "      <td>-0.270798</td>\n",
              "    </tr>\n",
              "    <tr>\n",
              "      <th>499</th>\n",
              "      <td>2.0</td>\n",
              "      <td>1.0</td>\n",
              "      <td>3.0</td>\n",
              "      <td>2.0</td>\n",
              "      <td>3.0</td>\n",
              "      <td>3.0</td>\n",
              "      <td>1.0</td>\n",
              "      <td>1.0</td>\n",
              "      <td>2.0</td>\n",
              "      <td>3.0</td>\n",
              "      <td>...</td>\n",
              "      <td>5</td>\n",
              "      <td>2</td>\n",
              "      <td>沒有影響</td>\n",
              "      <td>沒有影響</td>\n",
              "      <td>沒有影響</td>\n",
              "      <td>4.0</td>\n",
              "      <td>4.666667</td>\n",
              "      <td>1.109744</td>\n",
              "      <td>-0.118667</td>\n",
              "      <td>0.612291</td>\n",
              "    </tr>\n",
              "    <tr>\n",
              "      <th>500</th>\n",
              "      <td>1.0</td>\n",
              "      <td>1.0</td>\n",
              "      <td>1.0</td>\n",
              "      <td>1.0</td>\n",
              "      <td>1.0</td>\n",
              "      <td>1.0</td>\n",
              "      <td>1.0</td>\n",
              "      <td>1.0</td>\n",
              "      <td>1.0</td>\n",
              "      <td>1.0</td>\n",
              "      <td>...</td>\n",
              "      <td>2</td>\n",
              "      <td>2</td>\n",
              "      <td>沒有影響</td>\n",
              "      <td>轉而支持其他候選人</td>\n",
              "      <td>可能因此不去投票</td>\n",
              "      <td>2.0</td>\n",
              "      <td>3.333333</td>\n",
              "      <td>0.300458</td>\n",
              "      <td>-2.384222</td>\n",
              "      <td>-0.786720</td>\n",
              "    </tr>\n",
              "    <tr>\n",
              "      <th>501</th>\n",
              "      <td>1.0</td>\n",
              "      <td>1.0</td>\n",
              "      <td>1.0</td>\n",
              "      <td>1.0</td>\n",
              "      <td>1.0</td>\n",
              "      <td>1.0</td>\n",
              "      <td>1.0</td>\n",
              "      <td>1.0</td>\n",
              "      <td>1.0</td>\n",
              "      <td>1.0</td>\n",
              "      <td>...</td>\n",
              "      <td>2</td>\n",
              "      <td>3</td>\n",
              "      <td>轉而支持其他候選人</td>\n",
              "      <td>轉而支持其他候選人</td>\n",
              "      <td>轉而支持其他候選人</td>\n",
              "      <td>2.0</td>\n",
              "      <td>2.666667</td>\n",
              "      <td>-0.869466</td>\n",
              "      <td>-2.301473</td>\n",
              "      <td>-1.449366</td>\n",
              "    </tr>\n",
              "    <tr>\n",
              "      <th>502</th>\n",
              "      <td>1.0</td>\n",
              "      <td>1.0</td>\n",
              "      <td>1.0</td>\n",
              "      <td>1.0</td>\n",
              "      <td>1.0</td>\n",
              "      <td>1.0</td>\n",
              "      <td>1.0</td>\n",
              "      <td>1.0</td>\n",
              "      <td>1.0</td>\n",
              "      <td>1.0</td>\n",
              "      <td>...</td>\n",
              "      <td>2</td>\n",
              "      <td>4</td>\n",
              "      <td>沒有影響</td>\n",
              "      <td>沒有影響</td>\n",
              "      <td>沒有影響</td>\n",
              "      <td>3.0</td>\n",
              "      <td>3.333333</td>\n",
              "      <td>0.187099</td>\n",
              "      <td>-1.218782</td>\n",
              "      <td>-0.382221</td>\n",
              "    </tr>\n",
              "  </tbody>\n",
              "</table>\n",
              "<p>503 rows × 38 columns</p>\n",
              "</div>"
            ],
            "text/plain": [
              "     TV_news_time  news_paper_time  int_news_time  TV_debate  read_media  \\\n",
              "0             1.0              1.0            1.0        1.0         3.0   \n",
              "1             1.0              1.0            1.0        1.0         2.0   \n",
              "2             1.0              1.0            1.0        1.0         3.0   \n",
              "3             1.0              1.0            1.0        3.0         4.0   \n",
              "4             1.0              1.0            1.0        1.0         3.0   \n",
              "..            ...              ...            ...        ...         ...   \n",
              "498           2.0              2.0            1.0        4.0         1.0   \n",
              "499           2.0              1.0            3.0        2.0         3.0   \n",
              "500           1.0              1.0            1.0        1.0         1.0   \n",
              "501           1.0              1.0            1.0        1.0         1.0   \n",
              "502           1.0              1.0            1.0        1.0         1.0   \n",
              "\n",
              "     like_media  share_media  comment_media  int_discuss  read_election_news  \\\n",
              "0           2.0          1.0            1.0          2.0                 1.0   \n",
              "1           3.0          1.0            1.0          2.0                 2.0   \n",
              "2           1.0          1.0            1.0          2.0                 1.0   \n",
              "3           2.0          1.0            1.0          2.0                 4.0   \n",
              "4           2.0          2.0            1.0          3.0                 2.0   \n",
              "..          ...          ...            ...          ...                 ...   \n",
              "498         1.0          1.0            1.0          4.0                 4.0   \n",
              "499         3.0          1.0            1.0          2.0                 3.0   \n",
              "500         1.0          1.0            1.0          1.0                 1.0   \n",
              "501         1.0          1.0            1.0          1.0                 1.0   \n",
              "502         1.0          1.0            1.0          1.0                 1.0   \n",
              "\n",
              "     ...  anti_5  TC_issue  Negative_1  Negative_2  Negative_3  \\\n",
              "0    ...       4         2   轉而支持其他候選人   轉而支持其他候選人   轉而支持其他候選人   \n",
              "1    ...       4         4        沒有影響        沒有影響        沒有影響   \n",
              "2    ...       2         4        沒有影響   轉而支持其他候選人   轉而支持其他候選人   \n",
              "3    ...       1         4        沒有影響        沒有影響   轉而支持其他候選人   \n",
              "4    ...       5         2   轉而支持其他候選人   轉而支持其他候選人        沒有影響   \n",
              "..   ...     ...       ...         ...         ...         ...   \n",
              "498  ...       2         2   轉而支持其他候選人        沒有影響        沒有影響   \n",
              "499  ...       5         2        沒有影響        沒有影響        沒有影響   \n",
              "500  ...       2         2        沒有影響   轉而支持其他候選人    可能因此不去投票   \n",
              "501  ...       2         3   轉而支持其他候選人   轉而支持其他候選人   轉而支持其他候選人   \n",
              "502  ...       2         4        沒有影響        沒有影響        沒有影響   \n",
              "\n",
              "     political_polarization_mean  party_image_mean  \\\n",
              "0                            5.0          4.666667   \n",
              "1                            4.0          4.333333   \n",
              "2                            5.0          3.000000   \n",
              "3                            4.0          1.666667   \n",
              "4                            2.0          4.666667   \n",
              "..                           ...               ...   \n",
              "498                          5.0          2.000000   \n",
              "499                          4.0          4.666667   \n",
              "500                          2.0          3.333333   \n",
              "501                          2.0          2.666667   \n",
              "502                          3.0          3.333333   \n",
              "\n",
              "    political_polarization_score  party_image_score  anti_party_scores  \n",
              "0                       1.147308           1.039196           1.103528  \n",
              "1                       0.921384          -0.109686           0.503846  \n",
              "2                      -0.794236           1.176296           0.003743  \n",
              "3                      -1.430942           0.057541          -0.828172  \n",
              "4                       1.184414          -2.445558          -0.285565  \n",
              "..                           ...                ...                ...  \n",
              "498                    -1.279918           1.212005          -0.270798  \n",
              "499                     1.109744          -0.118667           0.612291  \n",
              "500                     0.300458          -2.384222          -0.786720  \n",
              "501                    -0.869466          -2.301473          -1.449366  \n",
              "502                     0.187099          -1.218782          -0.382221  \n",
              "\n",
              "[503 rows x 38 columns]"
            ]
          },
          "execution_count": 7,
          "metadata": {},
          "output_type": "execute_result"
        }
      ],
      "source": [
        "ml_df"
      ]
    },
    {
      "attachments": {},
      "cell_type": "markdown",
      "id": "4d36f08f-07d2-4a84-83a7-0a4eb195a5b0",
      "metadata": {
        "noteable": {
          "cell_type": "markdown"
        }
      },
      "source": [
        "## Factor Analysis"
      ]
    },
    {
      "attachments": {},
      "cell_type": "markdown",
      "id": "bc1eb6e3-c9ce-4b89-b317-6e487355b131",
      "metadata": {
        "noteable": {
          "cell_type": "markdown"
        }
      },
      "source": [
        "### Filter out IV"
      ]
    },
    {
      "cell_type": "code",
      "execution_count": 8,
      "id": "dcd1dc7d-9dfc-4def-9c4b-3a7715e38e51",
      "metadata": {
        "ExecuteTime": {
          "end_time": "2023-06-30T09:24:27.002079+00:00",
          "start_time": "2023-06-30T09:24:26.844862+00:00"
        },
        "jupyter": {
          "outputs_hidden": false,
          "source_hidden": false
        },
        "noteable": {
          "cell_type": "code",
          "output_collection_id": "964362f9-b338-436b-ac0a-13f04dc73de7"
        }
      },
      "outputs": [],
      "source": [
        "IV_vars = ['anti_1', 'anti_2', 'anti_3', 'anti_4', 'anti_5']\n",
        "IV_df = ml_df[IV_vars]"
      ]
    },
    {
      "attachments": {},
      "cell_type": "markdown",
      "id": "8d232e7a-a798-4329-85fd-646492d31f66",
      "metadata": {
        "noteable": {
          "cell_type": "markdown"
        }
      },
      "source": [
        "### Bartlett’s test and Kaiser-Meyer-Olkin "
      ]
    },
    {
      "cell_type": "code",
      "execution_count": 9,
      "id": "841ee87b-f7aa-4fb9-951d-65fefe786208",
      "metadata": {
        "ExecuteTime": {
          "end_time": "2023-06-30T09:24:36.288455+00:00",
          "start_time": "2023-06-30T09:24:36.128404+00:00"
        },
        "jupyter": {
          "outputs_hidden": false,
          "source_hidden": false
        },
        "noteable": {
          "cell_type": "code",
          "output_collection_id": "0466cbf4-4a68-4e85-b0e1-bd0b90606e1a"
        }
      },
      "outputs": [
        {
          "name": "stdout",
          "output_type": "stream",
          "text": [
            "Chi-square value : 358.638\n",
            "p-value          : 0.0\n"
          ]
        }
      ],
      "source": [
        "# Adequacy test - Bartlett's test\n",
        "chiSquareValue, pValue = calculate_bartlett_sphericity(IV_df)\n",
        "print('Chi-square value : {}'.format(round(chiSquareValue, ndigits = 3)))\n",
        "print('p-value          : {}'.format(round(pValue, ndigits = 3)))"
      ]
    },
    {
      "attachments": {},
      "cell_type": "markdown",
      "id": "9b19203b-45ce-4ace-9aef-31b31a08a6d8",
      "metadata": {
        "noteable": {
          "cell_type": "markdown"
        }
      },
      "source": [
        "The Bartlett test produces a p-value that is less than 0.05. It means, we reject the null hypothesis or in this case, at least two population variances are different."
      ]
    },
    {
      "cell_type": "code",
      "execution_count": 10,
      "id": "e6a3687c-0dd4-493b-b603-410899099357",
      "metadata": {
        "ExecuteTime": {
          "end_time": "2023-06-30T09:24:50.683466+00:00",
          "start_time": "2023-06-30T09:24:50.522262+00:00"
        },
        "jupyter": {
          "outputs_hidden": false,
          "source_hidden": false
        },
        "noteable": {
          "cell_type": "code",
          "output_collection_id": "46384bf7-a2e1-4065-8221-a98713bbe7aa"
        }
      },
      "outputs": [
        {
          "name": "stdout",
          "output_type": "stream",
          "text": [
            "KMO value : 0.675\n"
          ]
        }
      ],
      "source": [
        "# Adequacy test - Kaiser-Meyer-Olkin test\n",
        "KMO, KMO_model = calculate_kmo(IV_df)\n",
        "print('KMO value : {}'.format(round(KMO_model, ndigits = 3)))"
      ]
    },
    {
      "attachments": {},
      "cell_type": "markdown",
      "id": "3510b155-4b42-442c-b661-994256e40fab",
      "metadata": {
        "noteable": {
          "cell_type": "markdown"
        }
      },
      "source": [
        "### Communality testing\n"
      ]
    },
    {
      "cell_type": "code",
      "execution_count": 11,
      "id": "4c30a6ea-4c31-4a6a-8b68-9e1d60f0580d",
      "metadata": {
        "ExecuteTime": {
          "end_time": "2023-06-30T09:25:09.868664+00:00",
          "start_time": "2023-06-30T09:25:09.623278+00:00"
        },
        "datalink": {
          "4ef74b8c-c8bd-4c13-a479-9dff556c4c5b": {
            "applied_filters": [],
            "dataframe_info": {
              "default_index_used": true,
              "orig_num_cols": 2,
              "orig_num_rows": 16,
              "orig_size_bytes": 384,
              "truncated_num_cols": 2,
              "truncated_num_rows": 16,
              "truncated_size_bytes": 384,
              "truncated_string_columns": []
            },
            "display_id": "4ef74b8c-c8bd-4c13-a479-9dff556c4c5b",
            "dx_settings": {
              "ALLOW_NOTEABLE_ATTRS": true,
              "COLUMN_SAMPLING_METHOD": "outer",
              "DB_LOCATION": ":memory:",
              "DEV_MODE": false,
              "DISPLAY_MAX_COLUMNS": 100,
              "DISPLAY_MAX_ROWS": 50000,
              "DISPLAY_MODE": "simple",
              "ENABLE_ASSIGNMENT": true,
              "ENABLE_DATALINK": true,
              "FLATTEN_COLUMN_VALUES": true,
              "FLATTEN_INDEX_VALUES": false,
              "GENERATE_DEX_METADATA": false,
              "HTML_TABLE_SCHEMA": false,
              "LOG_LEVEL": 30,
              "MAX_RENDER_SIZE_BYTES": 104857600,
              "MAX_STRING_LENGTH": 250,
              "NUM_PAST_SAMPLES_TRACKED": 3,
              "RANDOM_STATE": 12648430,
              "RESET_INDEX_VALUES": false,
              "ROW_SAMPLING_METHOD": "random",
              "SAMPLING_FACTOR": 0.1,
              "SAMPLING_METHOD": "random",
              "STRINGIFY_COLUMN_VALUES": true,
              "STRINGIFY_INDEX_VALUES": false
            },
            "sample_history": [],
            "sampling_time": "2023-06-29T10:40:47.044475",
            "user_variable_name": "df_communalities_DV",
            "variable_name": "df_communalities_DV"
          },
          "7037d8f7-698d-4d2e-bc4b-248c64280b70": {
            "applied_filters": [],
            "dataframe_info": {
              "default_index_used": true,
              "orig_num_cols": 2,
              "orig_num_rows": 16,
              "orig_size_bytes": 384,
              "truncated_num_cols": 2,
              "truncated_num_rows": 16,
              "truncated_size_bytes": 384,
              "truncated_string_columns": []
            },
            "display_id": "7037d8f7-698d-4d2e-bc4b-248c64280b70",
            "dx_settings": {
              "ALLOW_NOTEABLE_ATTRS": true,
              "COLUMN_SAMPLING_METHOD": "outer",
              "DB_LOCATION": ":memory:",
              "DEV_MODE": false,
              "DISPLAY_MAX_COLUMNS": 100,
              "DISPLAY_MAX_ROWS": 50000,
              "DISPLAY_MODE": "simple",
              "ENABLE_ASSIGNMENT": true,
              "ENABLE_DATALINK": true,
              "FLATTEN_COLUMN_VALUES": true,
              "FLATTEN_INDEX_VALUES": false,
              "GENERATE_DEX_METADATA": false,
              "HTML_TABLE_SCHEMA": false,
              "LOG_LEVEL": 30,
              "MAX_RENDER_SIZE_BYTES": 104857600,
              "MAX_STRING_LENGTH": 250,
              "NUM_PAST_SAMPLES_TRACKED": 3,
              "RANDOM_STATE": 12648430,
              "RESET_INDEX_VALUES": false,
              "ROW_SAMPLING_METHOD": "random",
              "SAMPLING_FACTOR": 0.1,
              "SAMPLING_METHOD": "random",
              "STRINGIFY_COLUMN_VALUES": true,
              "STRINGIFY_INDEX_VALUES": false
            },
            "sample_history": [],
            "sampling_time": "2023-06-29T10:36:33.340637",
            "user_variable_name": "df_communalities_DV",
            "variable_name": "df_communalities_DV"
          },
          "9214fe27-6163-40d9-bf2c-65d5397af239": {
            "applied_filters": [],
            "dataframe_info": {
              "default_index_used": true,
              "orig_num_cols": 2,
              "orig_num_rows": 16,
              "orig_size_bytes": 384,
              "truncated_num_cols": 2,
              "truncated_num_rows": 16,
              "truncated_size_bytes": 384,
              "truncated_string_columns": []
            },
            "display_id": "9214fe27-6163-40d9-bf2c-65d5397af239",
            "dx_settings": {
              "ALLOW_NOTEABLE_ATTRS": true,
              "COLUMN_SAMPLING_METHOD": "outer",
              "DB_LOCATION": ":memory:",
              "DEV_MODE": false,
              "DISPLAY_MAX_COLUMNS": 100,
              "DISPLAY_MAX_ROWS": 50000,
              "DISPLAY_MODE": "simple",
              "ENABLE_ASSIGNMENT": true,
              "ENABLE_DATALINK": true,
              "FLATTEN_COLUMN_VALUES": true,
              "FLATTEN_INDEX_VALUES": false,
              "GENERATE_DEX_METADATA": false,
              "HTML_TABLE_SCHEMA": false,
              "LOG_LEVEL": 30,
              "MAX_RENDER_SIZE_BYTES": 104857600,
              "MAX_STRING_LENGTH": 250,
              "NUM_PAST_SAMPLES_TRACKED": 3,
              "RANDOM_STATE": 12648430,
              "RESET_INDEX_VALUES": false,
              "ROW_SAMPLING_METHOD": "random",
              "SAMPLING_FACTOR": 0.1,
              "SAMPLING_METHOD": "random",
              "STRINGIFY_COLUMN_VALUES": true,
              "STRINGIFY_INDEX_VALUES": false
            },
            "sample_history": [],
            "sampling_time": "2023-06-29T10:39:03.462254",
            "user_variable_name": "df_communalities_DV",
            "variable_name": "df_communalities_DV"
          }
        },
        "noteable": {
          "cell_type": "python",
          "output_collection_id": "51dc9b91-0048-4a38-b63a-6de07738c2b2"
        }
      },
      "outputs": [
        {
          "data": {
            "text/html": [
              "<style type=\"text/css\">\n",
              "#T_fd6fe_row2_col1, #T_fd6fe_row3_col1 {\n",
              "  background-color: yellow;\n",
              "}\n",
              "</style>\n",
              "<table id=\"T_fd6fe\">\n",
              "  <thead>\n",
              "    <tr>\n",
              "      <th class=\"blank level0\" >&nbsp;</th>\n",
              "      <th id=\"T_fd6fe_level0_col0\" class=\"col_heading level0 col0\" >Column</th>\n",
              "      <th id=\"T_fd6fe_level0_col1\" class=\"col_heading level0 col1\" >Communality</th>\n",
              "    </tr>\n",
              "  </thead>\n",
              "  <tbody>\n",
              "    <tr>\n",
              "      <th id=\"T_fd6fe_level0_row0\" class=\"row_heading level0 row0\" >0</th>\n",
              "      <td id=\"T_fd6fe_row0_col0\" class=\"data row0 col0\" >anti_1</td>\n",
              "      <td id=\"T_fd6fe_row0_col1\" class=\"data row0 col1\" >0.221566</td>\n",
              "    </tr>\n",
              "    <tr>\n",
              "      <th id=\"T_fd6fe_level0_row1\" class=\"row_heading level0 row1\" >1</th>\n",
              "      <td id=\"T_fd6fe_row1_col0\" class=\"data row1 col0\" >anti_2</td>\n",
              "      <td id=\"T_fd6fe_row1_col1\" class=\"data row1 col1\" >0.293960</td>\n",
              "    </tr>\n",
              "    <tr>\n",
              "      <th id=\"T_fd6fe_level0_row2\" class=\"row_heading level0 row2\" >2</th>\n",
              "      <td id=\"T_fd6fe_row2_col0\" class=\"data row2 col0\" >anti_3</td>\n",
              "      <td id=\"T_fd6fe_row2_col1\" class=\"data row2 col1\" >0.505509</td>\n",
              "    </tr>\n",
              "    <tr>\n",
              "      <th id=\"T_fd6fe_level0_row3\" class=\"row_heading level0 row3\" >3</th>\n",
              "      <td id=\"T_fd6fe_row3_col0\" class=\"data row3 col0\" >anti_4</td>\n",
              "      <td id=\"T_fd6fe_row3_col1\" class=\"data row3 col1\" >0.681468</td>\n",
              "    </tr>\n",
              "    <tr>\n",
              "      <th id=\"T_fd6fe_level0_row4\" class=\"row_heading level0 row4\" >4</th>\n",
              "      <td id=\"T_fd6fe_row4_col0\" class=\"data row4 col0\" >anti_5</td>\n",
              "      <td id=\"T_fd6fe_row4_col1\" class=\"data row4 col1\" >0.366133</td>\n",
              "    </tr>\n",
              "  </tbody>\n",
              "</table>\n"
            ],
            "text/plain": [
              "<pandas.io.formats.style.Styler at 0x7fac0880d910>"
            ]
          },
          "execution_count": 11,
          "metadata": {},
          "output_type": "execute_result"
        }
      ],
      "source": [
        "# Create factor analysis object and perform factor analysis\n",
        "fa = FactorAnalyzer(n_factors = 25, rotation = None)\n",
        "fa.fit(IV_df)\n",
        "# The communalities\n",
        "df_communalities_IV = pd.DataFrame(data = {'Column': IV_df.columns, 'Communality': fa.get_communalities()})\n",
        "df_communalities_IV\n",
        "df_communalities_IV.style.apply(Factor_Analysis.highlightCommunalities, subset = ['Communality'])"
      ]
    },
    {
      "attachments": {},
      "cell_type": "markdown",
      "id": "bed105d7-acd7-4556-a9ae-86efeaaabd8e",
      "metadata": {
        "noteable": {
          "cell_type": "markdown"
        }
      },
      "source": [
        "The yellow color indicates that the communality values meet the criteria — greater than 0.5. Eliminated Variable below 0.5 ."
      ]
    },
    {
      "cell_type": "code",
      "execution_count": 12,
      "id": "e3d65067-2aa3-4e5e-9c4d-b995e10aabb5",
      "metadata": {
        "ExecuteTime": {
          "end_time": "2023-06-30T09:25:31.668923+00:00",
          "start_time": "2023-06-30T09:25:30.899989+00:00"
        },
        "jupyter": {
          "outputs_hidden": false,
          "source_hidden": false
        },
        "noteable": {
          "cell_type": "code",
          "output_collection_id": "216b8c0e-afa6-4de8-8cdf-6a19bfb0a3fd"
        }
      },
      "outputs": [
        {
          "data": {
            "image/png": "[encoded data removed]",
            "text/plain": [
              "<Figure size 1080x648 with 1 Axes>"
            ]
          },
          "metadata": {
            "image/png": {
              "height": 648,
              "width": 1080
            },
            "needs_background": "light"
          },
          "output_type": "display_data"
        },
        {
          "data": {
            "text/plain": [
              "<Figure Size: (1080 x 648)>"
            ]
          },
          "execution_count": 12,
          "metadata": {},
          "output_type": "execute_result"
        }
      ],
      "source": [
        "# Data viz\n",
        "plotnine.options.figure_size = (15, 9)\n",
        "communality_bar = (\n",
        "    ggplot(data = df_communalities_IV)+\n",
        "    geom_bar(aes(x = 'Column',\n",
        "                 y = 'Communality'),\n",
        "             width = 0.75,\n",
        "             stat = 'identity')+\n",
        "    geom_hline(yintercept = 0.5)+\n",
        "    scale_x_discrete(limits = df_communalities_IV['Column'].tolist())+\n",
        "    labs(title = 'Communalitites of factor analysis')+\n",
        "    xlab('Columns')+\n",
        "    ylab('Communalities')+\n",
        "    theme_minimal()\n",
        ")\n",
        "# Display the viz\n",
        "communality_bar"
      ]
    },
    {
      "attachments": {},
      "cell_type": "markdown",
      "id": "3bf29d56-af01-495e-b249-19160b13444c",
      "metadata": {
        "noteable": {
          "cell_type": "markdown"
        }
      },
      "source": [
        "### Reduce Factors"
      ]
    },
    {
      "cell_type": "code",
      "execution_count": 13,
      "id": "8a414302-06df-467c-8cd0-ea52be0cb98e",
      "metadata": {
        "ExecuteTime": {
          "end_time": "2023-06-30T09:25:41.775781+00:00",
          "start_time": "2023-06-30T09:25:41.619494+00:00"
        },
        "jupyter": {
          "outputs_hidden": false,
          "source_hidden": false
        },
        "noteable": {
          "cell_type": "code",
          "output_collection_id": "257f3171-0527-4d56-860a-c80ec01d4dd9"
        }
      },
      "outputs": [],
      "source": [
        "# Check Eigenvalues\n",
        "eigenValue, value = fa.get_eigenvalues()"
      ]
    },
    {
      "cell_type": "code",
      "execution_count": 14,
      "id": "c01cb07b-1be4-411e-a7f7-3851eb3a6494",
      "metadata": {
        "ExecuteTime": {
          "end_time": "2023-06-30T09:25:53.662654+00:00",
          "start_time": "2023-06-30T09:25:53.499695+00:00"
        },
        "jupyter": {
          "outputs_hidden": false,
          "source_hidden": false
        },
        "noteable": {
          "cell_type": "code",
          "output_collection_id": "fc9822bc-5f1d-41cf-9d44-de66fd7aed48"
        }
      },
      "outputs": [
        {
          "data": {
            "text/html": [
              "<style type=\"text/css\">\n",
              "#T_c1aec_row0_col1, #T_c1aec_row1_col1 {\n",
              "  background-color: yellow;\n",
              "}\n",
              "</style>\n",
              "<table id=\"T_c1aec\">\n",
              "  <thead>\n",
              "    <tr>\n",
              "      <th class=\"blank level0\" >&nbsp;</th>\n",
              "      <th id=\"T_c1aec_level0_col0\" class=\"col_heading level0 col0\" >Factor</th>\n",
              "      <th id=\"T_c1aec_level0_col1\" class=\"col_heading level0 col1\" >Eigen value</th>\n",
              "    </tr>\n",
              "  </thead>\n",
              "  <tbody>\n",
              "    <tr>\n",
              "      <th id=\"T_c1aec_level0_row0\" class=\"row_heading level0 row0\" >0</th>\n",
              "      <td id=\"T_c1aec_row0_col0\" class=\"data row0 col0\" >1</td>\n",
              "      <td id=\"T_c1aec_row0_col1\" class=\"data row0 col1\" >2.067361</td>\n",
              "    </tr>\n",
              "    <tr>\n",
              "      <th id=\"T_c1aec_level0_row1\" class=\"row_heading level0 row1\" >1</th>\n",
              "      <td id=\"T_c1aec_row1_col0\" class=\"data row1 col0\" >2</td>\n",
              "      <td id=\"T_c1aec_row1_col1\" class=\"data row1 col1\" >1.054130</td>\n",
              "    </tr>\n",
              "    <tr>\n",
              "      <th id=\"T_c1aec_level0_row2\" class=\"row_heading level0 row2\" >2</th>\n",
              "      <td id=\"T_c1aec_row2_col0\" class=\"data row2 col0\" >3</td>\n",
              "      <td id=\"T_c1aec_row2_col1\" class=\"data row2 col1\" >0.782101</td>\n",
              "    </tr>\n",
              "    <tr>\n",
              "      <th id=\"T_c1aec_level0_row3\" class=\"row_heading level0 row3\" >3</th>\n",
              "      <td id=\"T_c1aec_row3_col0\" class=\"data row3 col0\" >4</td>\n",
              "      <td id=\"T_c1aec_row3_col1\" class=\"data row3 col1\" >0.668077</td>\n",
              "    </tr>\n",
              "    <tr>\n",
              "      <th id=\"T_c1aec_level0_row4\" class=\"row_heading level0 row4\" >4</th>\n",
              "      <td id=\"T_c1aec_row4_col0\" class=\"data row4 col0\" >5</td>\n",
              "      <td id=\"T_c1aec_row4_col1\" class=\"data row4 col1\" >0.428330</td>\n",
              "    </tr>\n",
              "  </tbody>\n",
              "</table>\n"
            ],
            "text/plain": [
              "<pandas.io.formats.style.Styler at 0x7fabf9e70fa0>"
            ]
          },
          "execution_count": 14,
          "metadata": {},
          "output_type": "execute_result"
        }
      ],
      "source": [
        "# Convert the results into a dataframe\n",
        "df_eigen = pd.DataFrame({'Factor': range(1, len(eigenValue) + 1), 'Eigen value': eigenValue})\n",
        "df_eigen.style.apply(Factor_Analysis.highlightEigenvalue, subset = ['Eigen value'])"
      ]
    },
    {
      "attachments": {},
      "cell_type": "markdown",
      "id": "d7bfdfc0-bc56-4447-81ff-0d9d16bb4de4",
      "metadata": {
        "noteable": {
          "cell_type": "markdown"
        }
      },
      "source": [
        "According to the Kaiser criteria, the number of factors generated is 2. It means that the 16 columns or well-known variables will be grouped and interpreted into 2 factors."
      ]
    },
    {
      "cell_type": "code",
      "execution_count": 15,
      "id": "3160b2e4-d849-4448-b7cd-224601cf2b37",
      "metadata": {
        "ExecuteTime": {
          "end_time": "2023-06-30T09:26:33.188251+00:00",
          "start_time": "2023-06-30T09:26:32.524293+00:00"
        },
        "jupyter": {
          "outputs_hidden": false,
          "source_hidden": false
        },
        "noteable": {
          "cell_type": "code",
          "output_collection_id": "b476662e-8706-446b-a488-1d1dd05541e9"
        },
        "scrolled": false
      },
      "outputs": [
        {
          "data": {
            "image/png": "[encoded data removed]",
            "text/plain": [
              "<Figure size 800x480 with 1 Axes>"
            ]
          },
          "metadata": {
            "image/png": {
              "height": 480,
              "width": 800
            },
            "needs_background": "light"
          },
          "output_type": "display_data"
        },
        {
          "data": {
            "text/plain": [
              "<Figure Size: (800 x 480)>"
            ]
          },
          "execution_count": 15,
          "metadata": {},
          "output_type": "execute_result"
        }
      ],
      "source": [
        "# Data viz\n",
        "plotnine.options.figure_size = (8, 4.8)\n",
        "scree_eigenvalue = (\n",
        "    ggplot(data = df_eigen)+\n",
        "    geom_hline(yintercept = 1)+\n",
        "    geom_line(aes(x = 'Factor',\n",
        "                  y = 'Eigen value'))+\n",
        "    geom_point(aes(x = 'Factor',\n",
        "                   y = 'Eigen value'),\n",
        "               size = 2)+\n",
        "    labs(title = 'Scree plot of eigen value from factor analysis')+\n",
        "    xlab('Factors')+\n",
        "    ylab('Eigenvalue')+\n",
        "    theme_minimal()\n",
        ")\n",
        "# Display the viz\n",
        "scree_eigenvalue"
      ]
    },
    {
      "cell_type": "code",
      "execution_count": 16,
      "id": "d4469999-ad78-4c57-93d7-8d3b19d28963",
      "metadata": {
        "ExecuteTime": {
          "end_time": "2023-06-30T09:27:13.669186+00:00",
          "start_time": "2023-06-30T09:27:13.370421+00:00"
        },
        "jupyter": {
          "outputs_hidden": false,
          "source_hidden": false
        },
        "noteable": {
          "cell_type": "code",
          "output_collection_id": "257bc9e3-b2b5-47e5-9e1e-845e769adb6a"
        },
        "scrolled": false
      },
      "outputs": [
        {
          "name": "stdout",
          "output_type": "stream",
          "text": [
            "['Factors 1', 'Factors 2']\n"
          ]
        },
        {
          "data": {
            "text/html": [
              "<style type=\"text/css\">\n",
              "#T_ce3cb_row0_col1, #T_ce3cb_row2_col0, #T_ce3cb_row3_col0, #T_ce3cb_row4_col0 {\n",
              "  background-color: yellow;\n",
              "}\n",
              "</style>\n",
              "<table id=\"T_ce3cb\">\n",
              "  <thead>\n",
              "    <tr>\n",
              "      <th class=\"blank level0\" >&nbsp;</th>\n",
              "      <th id=\"T_ce3cb_level0_col0\" class=\"col_heading level0 col0\" >Factors 1</th>\n",
              "      <th id=\"T_ce3cb_level0_col1\" class=\"col_heading level0 col1\" >Factors 2</th>\n",
              "    </tr>\n",
              "  </thead>\n",
              "  <tbody>\n",
              "    <tr>\n",
              "      <th id=\"T_ce3cb_level0_row0\" class=\"row_heading level0 row0\" >anti_1</th>\n",
              "      <td id=\"T_ce3cb_row0_col0\" class=\"data row0 col0\" >0.071513</td>\n",
              "      <td id=\"T_ce3cb_row0_col1\" class=\"data row0 col1\" >0.988910</td>\n",
              "    </tr>\n",
              "    <tr>\n",
              "      <th id=\"T_ce3cb_level0_row1\" class=\"row_heading level0 row1\" >anti_2</th>\n",
              "      <td id=\"T_ce3cb_row1_col0\" class=\"data row1 col0\" >0.313883</td>\n",
              "      <td id=\"T_ce3cb_row1_col1\" class=\"data row1 col1\" >0.186564</td>\n",
              "    </tr>\n",
              "    <tr>\n",
              "      <th id=\"T_ce3cb_level0_row2\" class=\"row_heading level0 row2\" >anti_3</th>\n",
              "      <td id=\"T_ce3cb_row2_col0\" class=\"data row2 col0\" >0.643948</td>\n",
              "      <td id=\"T_ce3cb_row2_col1\" class=\"data row2 col1\" >0.021992</td>\n",
              "    </tr>\n",
              "    <tr>\n",
              "      <th id=\"T_ce3cb_level0_row3\" class=\"row_heading level0 row3\" >anti_4</th>\n",
              "      <td id=\"T_ce3cb_row3_col0\" class=\"data row3 col0\" >0.851234</td>\n",
              "      <td id=\"T_ce3cb_row3_col1\" class=\"data row3 col1\" >0.025711</td>\n",
              "    </tr>\n",
              "    <tr>\n",
              "      <th id=\"T_ce3cb_level0_row4\" class=\"row_heading level0 row4\" >anti_5</th>\n",
              "      <td id=\"T_ce3cb_row4_col0\" class=\"data row4 col0\" >0.507072</td>\n",
              "      <td id=\"T_ce3cb_row4_col1\" class=\"data row4 col1\" >0.083346</td>\n",
              "    </tr>\n",
              "  </tbody>\n",
              "</table>\n"
            ],
            "text/plain": [
              "<pandas.io.formats.style.Styler at 0x7fac0880e6d0>"
            ]
          },
          "execution_count": 16,
          "metadata": {},
          "output_type": "execute_result"
        }
      ],
      "source": [
        "# Factor analysis with rotation\n",
        "fa = FactorAnalyzer(n_factors = 2, rotation = 'varimax')\n",
        "fa.fit(IV_df)\n",
        "# Create a factor's names\n",
        "facs = ['Factors' + ' ' + str(i + 1) for i in range(2)]\n",
        "print(facs)\n",
        "# Loading factors\n",
        "pd.DataFrame(data = fa.loadings_, index = IV_df.columns, columns = facs).style.apply(Factor_Analysis.highlightLoadings)"
      ]
    },
    {
      "attachments": {},
      "cell_type": "markdown",
      "id": "ac44e5e7-459e-4e9e-b85a-5657ee665d51",
      "metadata": {
        "noteable": {
          "cell_type": "markdown"
        }
      },
      "source": [
        "#### 由上述結果可以發現依變數可以分為2個構面：</b>\n",
        "\n",
        "* 極化現象(political_polarization) : anti_1</b>\n",
        "\n",
        "\n",
        "* 政黨形象(party_image) : anti_3 / anti_4 / anti_5"
      ]
    },
    {
      "cell_type": "code",
      "execution_count": 17,
      "id": "e4a07af3-25c0-4aad-be44-90320162cfb9",
      "metadata": {
        "ExecuteTime": {
          "end_time": "2023-06-30T09:40:02.276821+00:00",
          "start_time": "2023-06-30T09:40:01.962450+00:00"
        },
        "datalink": {
          "1ff1b460-556c-46c6-b2c5-3ec1e8859199": {
            "applied_filters": [],
            "dataframe_info": {
              "default_index_used": false,
              "orig_num_cols": 4,
              "orig_num_rows": 4,
              "orig_size_bytes": 160,
              "truncated_num_cols": 4,
              "truncated_num_rows": 4,
              "truncated_size_bytes": 160,
              "truncated_string_columns": []
            },
            "display_id": "1ff1b460-556c-46c6-b2c5-3ec1e8859199",
            "dx_settings": {
              "ALLOW_NOTEABLE_ATTRS": true,
              "COLUMN_SAMPLING_METHOD": "outer",
              "DB_LOCATION": ":memory:",
              "DEV_MODE": false,
              "DISPLAY_MAX_COLUMNS": 100,
              "DISPLAY_MAX_ROWS": 50000,
              "DISPLAY_MODE": "simple",
              "ENABLE_ASSIGNMENT": true,
              "ENABLE_DATALINK": true,
              "FLATTEN_COLUMN_VALUES": true,
              "FLATTEN_INDEX_VALUES": false,
              "GENERATE_DEX_METADATA": false,
              "HTML_TABLE_SCHEMA": false,
              "LOG_LEVEL": 30,
              "MAX_RENDER_SIZE_BYTES": 104857600,
              "MAX_STRING_LENGTH": 250,
              "NUM_PAST_SAMPLES_TRACKED": 3,
              "RANDOM_STATE": 12648430,
              "RESET_INDEX_VALUES": false,
              "ROW_SAMPLING_METHOD": "random",
              "SAMPLING_FACTOR": 0.1,
              "SAMPLING_METHOD": "random",
              "STRINGIFY_COLUMN_VALUES": true,
              "STRINGIFY_INDEX_VALUES": false
            },
            "sample_history": [],
            "sampling_time": "2023-06-30T07:43:52.738630",
            "user_variable_name": null,
            "variable_name": "unk_dataframe_8457f2964311431bb801b503cd360cbe"
          },
          "de21e333-e29e-47d5-ab55-6597932053f5": {
            "applied_filters": [],
            "dataframe_info": {
              "default_index_used": false,
              "orig_num_cols": 4,
              "orig_num_rows": 4,
              "orig_size_bytes": 160,
              "truncated_num_cols": 4,
              "truncated_num_rows": 4,
              "truncated_size_bytes": 160,
              "truncated_string_columns": []
            },
            "display_id": "de21e333-e29e-47d5-ab55-6597932053f5",
            "dx_settings": {
              "ALLOW_NOTEABLE_ATTRS": true,
              "COLUMN_SAMPLING_METHOD": "outer",
              "DB_LOCATION": ":memory:",
              "DEV_MODE": false,
              "DISPLAY_MAX_COLUMNS": 100,
              "DISPLAY_MAX_ROWS": 50000,
              "DISPLAY_MODE": "simple",
              "ENABLE_ASSIGNMENT": true,
              "ENABLE_DATALINK": true,
              "FLATTEN_COLUMN_VALUES": true,
              "FLATTEN_INDEX_VALUES": false,
              "GENERATE_DEX_METADATA": false,
              "HTML_TABLE_SCHEMA": false,
              "LOG_LEVEL": 30,
              "MAX_RENDER_SIZE_BYTES": 104857600,
              "MAX_STRING_LENGTH": 250,
              "NUM_PAST_SAMPLES_TRACKED": 3,
              "RANDOM_STATE": 12648430,
              "RESET_INDEX_VALUES": false,
              "ROW_SAMPLING_METHOD": "random",
              "SAMPLING_FACTOR": 0.1,
              "SAMPLING_METHOD": "random",
              "STRINGIFY_COLUMN_VALUES": true,
              "STRINGIFY_INDEX_VALUES": false
            },
            "sample_history": [],
            "sampling_time": "2023-06-30T08:22:45.439636",
            "user_variable_name": null,
            "variable_name": "unk_dataframe_87373e80730b4353ab01c6e103ee0eeb"
          },
          "f8fd7cd3-adde-4831-81f8-5e54c5713460": {
            "applied_filters": [],
            "dataframe_info": {
              "default_index_used": false,
              "orig_num_cols": 2,
              "orig_num_rows": 4,
              "orig_size_bytes": 96,
              "truncated_num_cols": 2,
              "truncated_num_rows": 4,
              "truncated_size_bytes": 96,
              "truncated_string_columns": []
            },
            "display_id": "f8fd7cd3-adde-4831-81f8-5e54c5713460",
            "dx_settings": {
              "ALLOW_NOTEABLE_ATTRS": true,
              "COLUMN_SAMPLING_METHOD": "outer",
              "DB_LOCATION": ":memory:",
              "DEV_MODE": false,
              "DISPLAY_MAX_COLUMNS": 100,
              "DISPLAY_MAX_ROWS": 50000,
              "DISPLAY_MODE": "simple",
              "ENABLE_ASSIGNMENT": true,
              "ENABLE_DATALINK": true,
              "FLATTEN_COLUMN_VALUES": true,
              "FLATTEN_INDEX_VALUES": false,
              "GENERATE_DEX_METADATA": false,
              "HTML_TABLE_SCHEMA": false,
              "LOG_LEVEL": 30,
              "MAX_RENDER_SIZE_BYTES": 104857600,
              "MAX_STRING_LENGTH": 250,
              "NUM_PAST_SAMPLES_TRACKED": 3,
              "RANDOM_STATE": 12648430,
              "RESET_INDEX_VALUES": false,
              "ROW_SAMPLING_METHOD": "random",
              "SAMPLING_FACTOR": 0.1,
              "SAMPLING_METHOD": "random",
              "STRINGIFY_COLUMN_VALUES": true,
              "STRINGIFY_INDEX_VALUES": false
            },
            "sample_history": [],
            "sampling_time": "2023-06-30T09:40:02.118721",
            "user_variable_name": null,
            "variable_name": "unk_dataframe_0132b21194cc43cd96bd3f313c93ce5b"
          }
        },
        "dx": {
          "dashboard": {
            "multiViews": []
          },
          "fieldMetadata": {},
          "updated": 1688111056702,
          "views": [
            {
              "annotationRules": [],
              "chart": {},
              "chartMode": "grid",
              "confoRules": [],
              "decoration": {
                "footer": "",
                "subtitle": "",
                "title": "Table"
              },
              "facets": [],
              "filterSettings": {
                "SHOW_FILTER_PANEL": true,
                "filters": []
              },
              "id": "first-view",
              "isDefault": true,
              "type": "public",
              "userID": ""
            },
            {
              "annotationRules": [],
              "chart": {
                "tableSparklines": false
              },
              "chartMode": "grid",
              "confoRules": [],
              "decoration": {
                "footer": "",
                "subtitle": "",
                "title": "Table"
              },
              "facets": [],
              "filterSettings": {
                "SHOW_FILTER_PANEL": true,
                "filters": []
              },
              "id": "first-view",
              "isDefault": true,
              "isTransitory": true,
              "type": "public",
              "userID": ""
            }
          ]
        },
        "jupyter": {
          "outputs_hidden": false,
          "source_hidden": false
        },
        "noteable": {
          "cell_type": "code",
          "output_collection_id": "0a4cfc21-d131-4d9e-a7db-15401dd29c65"
        },
        "scrolled": false
      },
      "outputs": [
        {
          "name": "stderr",
          "output_type": "stream",
          "text": [
            "/var/folders/dn/wbyhv8k14697mm1zy19w1jh40000gn/T/ipykernel_81806/2648890745.py:8: FutureWarning: The frame.append method is deprecated and will be removed from pandas in a future version. Use pandas.concat instead.\n"
          ]
        },
        {
          "data": {
            "text/html": [
              "<div>\n",
              "<style scoped>\n",
              "    .dataframe tbody tr th:only-of-type {\n",
              "        vertical-align: middle;\n",
              "    }\n",
              "\n",
              "    .dataframe tbody tr th {\n",
              "        vertical-align: top;\n",
              "    }\n",
              "\n",
              "    .dataframe thead th {\n",
              "        text-align: right;\n",
              "    }\n",
              "</style>\n",
              "<table border=\"1\" class=\"dataframe\">\n",
              "  <thead>\n",
              "    <tr style=\"text-align: right;\">\n",
              "      <th></th>\n",
              "      <th>Factors 1</th>\n",
              "      <th>Factors 2</th>\n",
              "    </tr>\n",
              "  </thead>\n",
              "  <tbody>\n",
              "    <tr>\n",
              "      <th>SS Loadings</th>\n",
              "      <td>1.500027</td>\n",
              "      <td>1.020841</td>\n",
              "    </tr>\n",
              "    <tr>\n",
              "      <th>Proportion Variance</th>\n",
              "      <td>0.300005</td>\n",
              "      <td>0.204168</td>\n",
              "    </tr>\n",
              "    <tr>\n",
              "      <th>Cumulative Variance</th>\n",
              "      <td>0.300005</td>\n",
              "      <td>0.504173</td>\n",
              "    </tr>\n",
              "    <tr>\n",
              "      <th>Ratio Variance</th>\n",
              "      <td>0.595044</td>\n",
              "      <td>0.404956</td>\n",
              "    </tr>\n",
              "  </tbody>\n",
              "</table>\n",
              "</div>"
            ],
            "text/plain": [
              "                     Factors 1  Factors 2\n",
              "SS Loadings           1.500027   1.020841\n",
              "Proportion Variance   0.300005   0.204168\n",
              "Cumulative Variance   0.300005   0.504173\n",
              "Ratio Variance        0.595044   0.404956"
            ]
          },
          "execution_count": 17,
          "metadata": {},
          "output_type": "execute_result"
        }
      ],
      "source": [
        "# Explained variance\n",
        "idx = ['SS Loadings', 'Proportion Variance', 'Cumulative Variance']\n",
        "df_variance = pd.DataFrame(data = fa.get_factor_variance(), index = idx, columns = facs)\n",
        "# Ratio of variance\n",
        "ratioVariance = fa.get_factor_variance()[1] / fa.get_factor_variance()[1].sum()\n",
        "df_ratio_var = pd.DataFrame(data = ratioVariance.reshape((1, 2)), index = ['Ratio Variance'], columns = facs)\n",
        "# New completed dataframe\n",
        "df_variance.append(df_ratio_var)"
      ]
    },
    {
      "cell_type": "code",
      "execution_count": 34,
      "id": "1fc26260-63c3-4728-bbb6-5de12eccb200",
      "metadata": {
        "ExecuteTime": {
          "end_time": "2023-06-30T09:23:06.370204+00:00",
          "start_time": "2023-06-30T09:23:05.525686+00:00"
        },
        "datalink": {
          "024a7a13-bd4f-4a3d-a652-c610afec4670": {
            "applied_filters": [],
            "dataframe_info": {
              "default_index_used": true,
              "orig_num_cols": 4,
              "orig_num_rows": 503,
              "orig_size_bytes": 20120,
              "truncated_num_cols": 4,
              "truncated_num_rows": 503,
              "truncated_size_bytes": 20120,
              "truncated_string_columns": []
            },
            "display_id": "024a7a13-bd4f-4a3d-a652-c610afec4670",
            "dx_settings": {
              "ALLOW_NOTEABLE_ATTRS": true,
              "COLUMN_SAMPLING_METHOD": "outer",
              "DB_LOCATION": ":memory:",
              "DEV_MODE": false,
              "DISPLAY_MAX_COLUMNS": 100,
              "DISPLAY_MAX_ROWS": 50000,
              "DISPLAY_MODE": "simple",
              "ENABLE_ASSIGNMENT": true,
              "ENABLE_DATALINK": true,
              "FLATTEN_COLUMN_VALUES": true,
              "FLATTEN_INDEX_VALUES": false,
              "GENERATE_DEX_METADATA": false,
              "HTML_TABLE_SCHEMA": false,
              "LOG_LEVEL": 30,
              "MAX_RENDER_SIZE_BYTES": 104857600,
              "MAX_STRING_LENGTH": 250,
              "NUM_PAST_SAMPLES_TRACKED": 3,
              "RANDOM_STATE": 12648430,
              "RESET_INDEX_VALUES": false,
              "ROW_SAMPLING_METHOD": "random",
              "SAMPLING_FACTOR": 0.1,
              "SAMPLING_METHOD": "random",
              "STRINGIFY_COLUMN_VALUES": true,
              "STRINGIFY_INDEX_VALUES": false
            },
            "sample_history": [],
            "sampling_time": "2023-06-30T08:00:53.825938",
            "user_variable_name": "df_factors_DV",
            "variable_name": "df_factors_DV"
          },
          "3d01e4ba-75ea-46f4-a583-461780999a39": {
            "applied_filters": [],
            "dataframe_info": {
              "default_index_used": true,
              "orig_num_cols": 4,
              "orig_num_rows": 503,
              "orig_size_bytes": 20120,
              "truncated_num_cols": 4,
              "truncated_num_rows": 503,
              "truncated_size_bytes": 20120,
              "truncated_string_columns": []
            },
            "display_id": "3d01e4ba-75ea-46f4-a583-461780999a39",
            "dx_settings": {
              "ALLOW_NOTEABLE_ATTRS": true,
              "COLUMN_SAMPLING_METHOD": "outer",
              "DB_LOCATION": ":memory:",
              "DEV_MODE": false,
              "DISPLAY_MAX_COLUMNS": 100,
              "DISPLAY_MAX_ROWS": 50000,
              "DISPLAY_MODE": "simple",
              "ENABLE_ASSIGNMENT": true,
              "ENABLE_DATALINK": true,
              "FLATTEN_COLUMN_VALUES": true,
              "FLATTEN_INDEX_VALUES": false,
              "GENERATE_DEX_METADATA": false,
              "HTML_TABLE_SCHEMA": false,
              "LOG_LEVEL": 30,
              "MAX_RENDER_SIZE_BYTES": 104857600,
              "MAX_STRING_LENGTH": 250,
              "NUM_PAST_SAMPLES_TRACKED": 3,
              "RANDOM_STATE": 12648430,
              "RESET_INDEX_VALUES": false,
              "ROW_SAMPLING_METHOD": "random",
              "SAMPLING_FACTOR": 0.1,
              "SAMPLING_METHOD": "random",
              "STRINGIFY_COLUMN_VALUES": true,
              "STRINGIFY_INDEX_VALUES": false
            },
            "sample_history": [],
            "sampling_time": "2023-06-30T08:42:40.536952",
            "user_variable_name": "df_factors_DV",
            "variable_name": "df_factors_DV"
          },
          "4be0dceb-9be7-43a1-851b-83512977a93a": {
            "applied_filters": [],
            "dataframe_info": {
              "default_index_used": true,
              "orig_num_cols": 4,
              "orig_num_rows": 503,
              "orig_size_bytes": 20120,
              "truncated_num_cols": 4,
              "truncated_num_rows": 503,
              "truncated_size_bytes": 20120,
              "truncated_string_columns": []
            },
            "display_id": "4be0dceb-9be7-43a1-851b-83512977a93a",
            "dx_settings": {
              "ALLOW_NOTEABLE_ATTRS": true,
              "COLUMN_SAMPLING_METHOD": "outer",
              "DB_LOCATION": ":memory:",
              "DEV_MODE": false,
              "DISPLAY_MAX_COLUMNS": 100,
              "DISPLAY_MAX_ROWS": 50000,
              "DISPLAY_MODE": "simple",
              "ENABLE_ASSIGNMENT": true,
              "ENABLE_DATALINK": true,
              "FLATTEN_COLUMN_VALUES": true,
              "FLATTEN_INDEX_VALUES": false,
              "GENERATE_DEX_METADATA": false,
              "HTML_TABLE_SCHEMA": false,
              "LOG_LEVEL": 30,
              "MAX_RENDER_SIZE_BYTES": 104857600,
              "MAX_STRING_LENGTH": 250,
              "NUM_PAST_SAMPLES_TRACKED": 3,
              "RANDOM_STATE": 12648430,
              "RESET_INDEX_VALUES": false,
              "ROW_SAMPLING_METHOD": "random",
              "SAMPLING_FACTOR": 0.1,
              "SAMPLING_METHOD": "random",
              "STRINGIFY_COLUMN_VALUES": true,
              "STRINGIFY_INDEX_VALUES": false
            },
            "sample_history": [],
            "sampling_time": "2023-06-30T09:20:37.682895",
            "user_variable_name": "df_factors_DV",
            "variable_name": "df_factors_DV"
          },
          "4de7d7aa-49b5-46c0-8551-1a7c9611056a": {
            "applied_filters": [],
            "dataframe_info": {
              "default_index_used": true,
              "orig_num_cols": 4,
              "orig_num_rows": 503,
              "orig_size_bytes": 20120,
              "truncated_num_cols": 4,
              "truncated_num_rows": 503,
              "truncated_size_bytes": 20120,
              "truncated_string_columns": []
            },
            "display_id": "4de7d7aa-49b5-46c0-8551-1a7c9611056a",
            "dx_settings": {
              "ALLOW_NOTEABLE_ATTRS": true,
              "COLUMN_SAMPLING_METHOD": "outer",
              "DB_LOCATION": ":memory:",
              "DEV_MODE": false,
              "DISPLAY_MAX_COLUMNS": 100,
              "DISPLAY_MAX_ROWS": 50000,
              "DISPLAY_MODE": "simple",
              "ENABLE_ASSIGNMENT": true,
              "ENABLE_DATALINK": true,
              "FLATTEN_COLUMN_VALUES": true,
              "FLATTEN_INDEX_VALUES": false,
              "GENERATE_DEX_METADATA": false,
              "HTML_TABLE_SCHEMA": false,
              "LOG_LEVEL": 30,
              "MAX_RENDER_SIZE_BYTES": 104857600,
              "MAX_STRING_LENGTH": 250,
              "NUM_PAST_SAMPLES_TRACKED": 3,
              "RANDOM_STATE": 12648430,
              "RESET_INDEX_VALUES": false,
              "ROW_SAMPLING_METHOD": "random",
              "SAMPLING_FACTOR": 0.1,
              "SAMPLING_METHOD": "random",
              "STRINGIFY_COLUMN_VALUES": true,
              "STRINGIFY_INDEX_VALUES": false
            },
            "sample_history": [],
            "sampling_time": "2023-06-30T08:22:57.830361",
            "user_variable_name": "df_factors_DV",
            "variable_name": "df_factors_DV"
          },
          "598daa46-1c3e-4cbb-a139-ca5eea4a41e4": {
            "applied_filters": [],
            "dataframe_info": {
              "default_index_used": true,
              "orig_num_cols": 4,
              "orig_num_rows": 503,
              "orig_size_bytes": 20120,
              "truncated_num_cols": 4,
              "truncated_num_rows": 503,
              "truncated_size_bytes": 20120,
              "truncated_string_columns": []
            },
            "display_id": "598daa46-1c3e-4cbb-a139-ca5eea4a41e4",
            "dx_settings": {
              "ALLOW_NOTEABLE_ATTRS": true,
              "COLUMN_SAMPLING_METHOD": "outer",
              "DB_LOCATION": ":memory:",
              "DEV_MODE": false,
              "DISPLAY_MAX_COLUMNS": 100,
              "DISPLAY_MAX_ROWS": 50000,
              "DISPLAY_MODE": "simple",
              "ENABLE_ASSIGNMENT": true,
              "ENABLE_DATALINK": true,
              "FLATTEN_COLUMN_VALUES": true,
              "FLATTEN_INDEX_VALUES": false,
              "GENERATE_DEX_METADATA": false,
              "HTML_TABLE_SCHEMA": false,
              "LOG_LEVEL": 30,
              "MAX_RENDER_SIZE_BYTES": 104857600,
              "MAX_STRING_LENGTH": 250,
              "NUM_PAST_SAMPLES_TRACKED": 3,
              "RANDOM_STATE": 12648430,
              "RESET_INDEX_VALUES": false,
              "ROW_SAMPLING_METHOD": "random",
              "SAMPLING_FACTOR": 0.1,
              "SAMPLING_METHOD": "random",
              "STRINGIFY_COLUMN_VALUES": true,
              "STRINGIFY_INDEX_VALUES": false
            },
            "sample_history": [],
            "sampling_time": "2023-06-30T09:23:06.203334",
            "user_variable_name": "df_factors_DV",
            "variable_name": "df_factors_DV"
          }
        },
        "jupyter": {
          "outputs_hidden": false,
          "source_hidden": false
        },
        "noteable": {
          "cell_type": "code",
          "output_collection_id": "128f8e17-7c28-418f-8115-ead3fbe08eff"
        }
      },
      "outputs": [
        {
          "data": {
            "text/html": [
              "<div>\n",
              "<style scoped>\n",
              "    .dataframe tbody tr th:only-of-type {\n",
              "        vertical-align: middle;\n",
              "    }\n",
              "\n",
              "    .dataframe tbody tr th {\n",
              "        vertical-align: top;\n",
              "    }\n",
              "\n",
              "    .dataframe thead th {\n",
              "        text-align: right;\n",
              "    }\n",
              "</style>\n",
              "<table border=\"1\" class=\"dataframe\">\n",
              "  <thead>\n",
              "    <tr style=\"text-align: right;\">\n",
              "      <th></th>\n",
              "      <th>Factors 1</th>\n",
              "      <th>Factors 2</th>\n",
              "    </tr>\n",
              "  </thead>\n",
              "  <tbody>\n",
              "    <tr>\n",
              "      <th>0</th>\n",
              "      <td>1.147308</td>\n",
              "      <td>1.039196</td>\n",
              "    </tr>\n",
              "    <tr>\n",
              "      <th>1</th>\n",
              "      <td>0.921384</td>\n",
              "      <td>-0.109686</td>\n",
              "    </tr>\n",
              "    <tr>\n",
              "      <th>2</th>\n",
              "      <td>-0.794236</td>\n",
              "      <td>1.176296</td>\n",
              "    </tr>\n",
              "    <tr>\n",
              "      <th>3</th>\n",
              "      <td>-1.430942</td>\n",
              "      <td>0.057541</td>\n",
              "    </tr>\n",
              "    <tr>\n",
              "      <th>4</th>\n",
              "      <td>1.184414</td>\n",
              "      <td>-2.445558</td>\n",
              "    </tr>\n",
              "    <tr>\n",
              "      <th>...</th>\n",
              "      <td>...</td>\n",
              "      <td>...</td>\n",
              "    </tr>\n",
              "    <tr>\n",
              "      <th>498</th>\n",
              "      <td>-1.279918</td>\n",
              "      <td>1.212005</td>\n",
              "    </tr>\n",
              "    <tr>\n",
              "      <th>499</th>\n",
              "      <td>1.109744</td>\n",
              "      <td>-0.118667</td>\n",
              "    </tr>\n",
              "    <tr>\n",
              "      <th>500</th>\n",
              "      <td>0.300458</td>\n",
              "      <td>-2.384222</td>\n",
              "    </tr>\n",
              "    <tr>\n",
              "      <th>501</th>\n",
              "      <td>-0.869466</td>\n",
              "      <td>-2.301473</td>\n",
              "    </tr>\n",
              "    <tr>\n",
              "      <th>502</th>\n",
              "      <td>0.187099</td>\n",
              "      <td>-1.218782</td>\n",
              "    </tr>\n",
              "  </tbody>\n",
              "</table>\n",
              "<p>503 rows × 2 columns</p>\n",
              "</div>"
            ],
            "text/plain": [
              "     Factors 1  Factors 2\n",
              "0     1.147308   1.039196\n",
              "1     0.921384  -0.109686\n",
              "2    -0.794236   1.176296\n",
              "3    -1.430942   0.057541\n",
              "4     1.184414  -2.445558\n",
              "..         ...        ...\n",
              "498  -1.279918   1.212005\n",
              "499   1.109744  -0.118667\n",
              "500   0.300458  -2.384222\n",
              "501  -0.869466  -2.301473\n",
              "502   0.187099  -1.218782\n",
              "\n",
              "[503 rows x 2 columns]"
            ]
          },
          "execution_count": 34,
          "metadata": {},
          "output_type": "execute_result"
        }
      ],
      "source": [
        "df_factors = pd.DataFrame(data = fa.fit_transform(IV_df),columns = facs)\n",
        "df_factors                     "
      ]
    },
    {
      "attachments": {},
      "cell_type": "markdown",
      "id": "51aa365e-41e1-4012-87af-35bb7b7fd9bb",
      "metadata": {
        "noteable": {
          "cell_type": "markdown"
        }
      },
      "source": [
        "### Establish Index with mean method"
      ]
    },
    {
      "cell_type": "code",
      "execution_count": 35,
      "id": "7e8e3a89-00e1-495c-82c8-af55b0ef8b8d",
      "metadata": {
        "ExecuteTime": {
          "end_time": "2023-06-30T09:44:07.374216+00:00",
          "start_time": "2023-06-30T09:44:07.218195+00:00"
        },
        "jupyter": {
          "outputs_hidden": false,
          "source_hidden": false
        },
        "noteable": {
          "cell_type": "code",
          "output_collection_id": "41cec827-9405-4a98-8099-b2eea785a281"
        }
      },
      "outputs": [],
      "source": [
        "# political_polarization_vars = ['anti_1']\n",
        "# party_image_vars = ['anti_3', 'anti_4', 'anti_5']"
      ]
    },
    {
      "cell_type": "code",
      "execution_count": 51,
      "id": "7723885f-f914-475d-aa8f-68e293cd96cf",
      "metadata": {
        "ExecuteTime": {
          "end_time": "2023-06-30T09:44:07.576356+00:00",
          "start_time": "2023-06-30T09:44:07.383419+00:00"
        },
        "jupyter": {
          "outputs_hidden": false,
          "source_hidden": false
        },
        "noteable": {
          "cell_type": "code",
          "output_collection_id": "630fc49e-1e3b-4415-b805-4896cabd3ae9"
        }
      },
      "outputs": [],
      "source": [
        "# # Calculate the scores for each factor\n",
        "# ml_df['political_polarization_mean'] = ml_df[political_polarization_vars].mean(axis=1)\n",
        "# ml_df['party_image_mean'] = ml_df[party_image_vars].mean(axis=1)"
      ]
    },
    {
      "attachments": {},
      "cell_type": "markdown",
      "id": "d7b0a685",
      "metadata": {},
      "source": [
        "### Establish Index with Factor Scores"
      ]
    },
    {
      "cell_type": "code",
      "execution_count": 52,
      "id": "5e8bdc39",
      "metadata": {},
      "outputs": [],
      "source": [
        "# df_factors.rename(columns = {'Factors 1': 'political_polarization_score', \n",
        "#                              'Factors 2': 'party_image_score'}, inplace = True)\n",
        "# ml_df = ml_df.join(df_factors)"
      ]
    },
    {
      "attachments": {},
      "cell_type": "markdown",
      "id": "ed042e44",
      "metadata": {},
      "source": [
        "### Establish Index with Total Scores\n",
        "Total_Scores = (factor1_value * factor1_Proportion + factor2_value * factor2_Proportion) / Cumulative Variance"
      ]
    },
    {
      "cell_type": "code",
      "execution_count": 8,
      "id": "adb2c370",
      "metadata": {},
      "outputs": [],
      "source": [
        "# ml_df['anti_party_scores'] = (ml_df['political_polarization_score'] * fa.get_factor_variance()[1][0] + ml_df['party_image_score'] * fa.get_factor_variance()[1][1]) / fa.get_factor_variance()[1].sum()"
      ]
    },
    {
      "cell_type": "code",
      "execution_count": null,
      "id": "833772ab",
      "metadata": {},
      "outputs": [],
      "source": []
    }
  ],
  "metadata": {
    "kernelspec": {
      "display_name": "base",
      "language": "python",
      "name": "python3"
    },
    "language_info": {
      "codemirror_mode": {
        "name": "ipython",
        "version": 3
      },
      "file_extension": ".py",
      "mimetype": "text/x-python",
      "name": "python",
      "nbconvert_exporter": "python",
      "pygments_lexer": "ipython3",
      "version": "3.9.12"
    },
    "noteable": {
      "last_transaction_id": "9f231223-b6e3-4225-9dac-618972c218ad"
    },
    "orig_nbformat": 4,
    "selected_hardware_size": "small"
  },
  "nbformat": 4,
  "nbformat_minor": 5
}
