{
  "cells": [
    {
      "attachments": {},
      "cell_type": "markdown",
      "id": "6e723782-5c0b-4d73-b106-48d894e40a06",
      "metadata": {
        "noteable": {
          "cell_type": "markdown"
        }
      },
      "source": [
        "# DV_FAC\n",
        "* 因素分析 -> 根據構面取平均\n",
        "* 因素分析 -> 根據構面取綜合得分\n",
        "* 先分 online_pp / offline_pp -> 因素分析 -> 根據因素分析結果建立兩個綜合得分 "
      ]
    },
    {
      "attachments": {},
      "cell_type": "markdown",
      "id": "51ac109b",
      "metadata": {},
      "source": [
        "## Import package"
      ]
    },
    {
      "cell_type": "code",
      "execution_count": 2,
      "id": "f6ef19fe-5a2f-4c79-bb17-5ab7dda76101",
      "metadata": {
        "ExecuteTime": {
          "end_time": "2023-06-30T09:22:48.049245+00:00",
          "start_time": "2023-06-30T09:22:34.047004+00:00"
        },
        "noteable": {
          "cell_type": "python",
          "output_collection_id": "0b64bfa8-9920-474c-8d7d-bac8286d5866"
        },
        "scrolled": false
      },
      "outputs": [],
      "source": [
        "# ! pip install factor_analyzer pingouin stargazer plotnine geopandas folium Factor_Analysis"
      ]
    },
    {
      "cell_type": "code",
      "execution_count": 3,
      "id": "f0c407eb",
      "metadata": {
        "ExecuteTime": {
          "end_time": "2023-06-30T09:22:59.523203+00:00",
          "start_time": "2023-06-30T09:22:57.828347+00:00"
        },
        "noteable": {
          "output_collection_id": "73cfef4b-5351-4e1d-a20a-564ff2a0100b"
        }
      },
      "outputs": [],
      "source": [
        "# for data ETL\n",
        "import pandas as pd\n",
        "import ETL\n",
        "# Module for spatial data manipulation\n",
        "import geopandas as gpd\n",
        "# Module for data viz \n",
        "from plotnine import *\n",
        "import plotnine\n",
        "import plotly.express as px\n",
        "import seaborn as sns               \n",
        "import matplotlib.pyplot as plt\n",
        "# Module for spatial data viz\n",
        "import folium\n",
        "import branca\n",
        "import branca.colormap as cm\n",
        "from folium.features import GeoJson, GeoJsonTooltip\n",
        "# for establish index\n",
        "import Factor_Analysis \n",
        "from factor_analyzer import FactorAnalyzer\n",
        "from factor_analyzer.factor_analyzer import calculate_bartlett_sphericity, calculate_kmo\n",
        "import pingouin as pg # index reliability testing\n",
        "# for stats ml\n",
        "from sklearn.preprocessing import StandardScaler\n",
        "from scipy.stats import pearsonr\n",
        "import statsmodels.api as sm\n",
        "import statsmodels.formula.api as smf\n",
        "from statsmodels.miscmodels.ordinal_model import OrderedModel\n",
        "from stargazer.stargazer import Stargazer"
      ]
    },
    {
      "attachments": {},
      "cell_type": "markdown",
      "id": "2b5ccbd5",
      "metadata": {},
      "source": [
        "## Load data and filiter "
      ]
    },
    {
      "cell_type": "code",
      "execution_count": 4,
      "id": "625c9313",
      "metadata": {
        "ExecuteTime": {
          "end_time": "2023-06-30T09:22:59.741004+00:00",
          "start_time": "2023-06-30T09:22:59.530941+00:00"
        },
        "noteable": {
          "output_collection_id": "2e19b64f-9dcb-4b9f-9311-5719cad2eb72"
        }
      },
      "outputs": [],
      "source": [
        "raw_data = pd.read_csv('raw_data.csv')"
      ]
    },
    {
      "cell_type": "code",
      "execution_count": 5,
      "id": "43440d4d",
      "metadata": {
        "ExecuteTime": {
          "end_time": "2023-06-30T09:22:59.938704+00:00",
          "start_time": "2023-06-30T09:22:59.755372+00:00"
        },
        "noteable": {
          "output_collection_id": "a6e3e4df-b6c7-4617-a448-e45f723569ae"
        }
      },
      "outputs": [
        {
          "name": "stderr",
          "output_type": "stream",
          "text": [
            "/var/folders/dn/wbyhv8k14697mm1zy19w1jh40000gn/T/ipykernel_92133/2097987034.py:2: SettingWithCopyWarning: \n",
            "A value is trying to be set on a copy of a slice from a DataFrame\n",
            "\n",
            "See the caveats in the documentation: https://pandas.pydata.org/pandas-docs/stable/user_guide/indexing.html#returning-a-view-versus-a-copy\n"
          ]
        }
      ],
      "source": [
        "filter_data = raw_data.loc[raw_data['目前國內政黨當中，請問您是否偏向哪一個政黨？'].isin(['沒有特定支持', '都不支持'])]\n",
        "filter_data.drop(['您有絶對的權力決定是否要參與本研究。若您願意參與，請務必勾選下列選項：', '請填寫您的電子信箱，以利後續抽獎聯繫使用'], axis=1, inplace=True)"
      ]
    },
    {
      "attachments": {},
      "cell_type": "markdown",
      "id": "77198f5b",
      "metadata": {},
      "source": [
        "## Data Cleaning"
      ]
    },
    {
      "cell_type": "code",
      "execution_count": 6,
      "id": "f729d4f2-b421-4b59-9f14-4ca7c53a6dae",
      "metadata": {
        "ExecuteTime": {
          "end_time": "2023-06-30T09:23:00.185871+00:00",
          "start_time": "2023-06-30T09:22:59.963361+00:00"
        },
        "datalink": {
          "1a08f08c-eb19-4b2c-bea1-950f87d76998": {
            "applied_filters": [],
            "dataframe_info": {
              "default_index_used": true,
              "orig_num_cols": 33,
              "orig_num_rows": 503,
              "orig_size_bytes": 136816,
              "truncated_num_cols": 33,
              "truncated_num_rows": 503,
              "truncated_size_bytes": 136816,
              "truncated_string_columns": []
            },
            "display_id": "1a08f08c-eb19-4b2c-bea1-950f87d76998",
            "dx_settings": {
              "ALLOW_NOTEABLE_ATTRS": true,
              "COLUMN_SAMPLING_METHOD": "outer",
              "DB_LOCATION": ":memory:",
              "DEV_MODE": false,
              "DISPLAY_MAX_COLUMNS": 100,
              "DISPLAY_MAX_ROWS": 50000,
              "DISPLAY_MODE": "simple",
              "ENABLE_ASSIGNMENT": true,
              "ENABLE_DATALINK": true,
              "FLATTEN_COLUMN_VALUES": true,
              "FLATTEN_INDEX_VALUES": false,
              "GENERATE_DEX_METADATA": false,
              "HTML_TABLE_SCHEMA": false,
              "LOG_LEVEL": 30,
              "MAX_RENDER_SIZE_BYTES": 104857600,
              "MAX_STRING_LENGTH": 250,
              "NUM_PAST_SAMPLES_TRACKED": 3,
              "RANDOM_STATE": 12648430,
              "RESET_INDEX_VALUES": false,
              "ROW_SAMPLING_METHOD": "random",
              "SAMPLING_FACTOR": 0.1,
              "SAMPLING_METHOD": "random",
              "STRINGIFY_COLUMN_VALUES": true,
              "STRINGIFY_INDEX_VALUES": false
            },
            "sample_history": [],
            "sampling_time": "2023-06-29T06:10:52.000856",
            "user_variable_name": null,
            "variable_name": "unk_dataframe_48fd4c1548d645298a554a9689f7b12e"
          },
          "5a0f5b14-d382-43db-8488-90197252082a": {
            "applied_filters": [],
            "dataframe_info": {
              "default_index_used": true,
              "orig_num_cols": 33,
              "orig_num_rows": 503,
              "orig_size_bytes": 136816,
              "truncated_num_cols": 33,
              "truncated_num_rows": 503,
              "truncated_size_bytes": 136816,
              "truncated_string_columns": []
            },
            "display_id": "5a0f5b14-d382-43db-8488-90197252082a",
            "dx_settings": {
              "ALLOW_NOTEABLE_ATTRS": true,
              "COLUMN_SAMPLING_METHOD": "outer",
              "DB_LOCATION": ":memory:",
              "DEV_MODE": false,
              "DISPLAY_MAX_COLUMNS": 100,
              "DISPLAY_MAX_ROWS": 50000,
              "DISPLAY_MODE": "simple",
              "ENABLE_ASSIGNMENT": true,
              "ENABLE_DATALINK": true,
              "FLATTEN_COLUMN_VALUES": true,
              "FLATTEN_INDEX_VALUES": false,
              "GENERATE_DEX_METADATA": false,
              "HTML_TABLE_SCHEMA": false,
              "LOG_LEVEL": 30,
              "MAX_RENDER_SIZE_BYTES": 104857600,
              "MAX_STRING_LENGTH": 250,
              "NUM_PAST_SAMPLES_TRACKED": 3,
              "RANDOM_STATE": 12648430,
              "RESET_INDEX_VALUES": false,
              "ROW_SAMPLING_METHOD": "random",
              "SAMPLING_FACTOR": 0.1,
              "SAMPLING_METHOD": "random",
              "STRINGIFY_COLUMN_VALUES": true,
              "STRINGIFY_INDEX_VALUES": false
            },
            "sample_history": [],
            "sampling_time": "2023-06-29T06:12:15.238058",
            "user_variable_name": null,
            "variable_name": "unk_dataframe_bcb85c06860a4d4c9e947b3aade5f565"
          }
        },
        "jupyter": {
          "outputs_hidden": false,
          "source_hidden": false
        },
        "noteable": {
          "cell_type": "code",
          "output_collection_id": "365234fa-7663-4dd7-bc41-5a48249950b3"
        }
      },
      "outputs": [
        {
          "name": "stderr",
          "output_type": "stream",
          "text": [
            "/Users/wen/Desktop/github/media_political/ETL.py:14: SettingWithCopyWarning: \n",
            "A value is trying to be set on a copy of a slice from a DataFrame.\n",
            "Try using .loc[row_indexer,col_indexer] = value instead\n",
            "\n",
            "See the caveats in the documentation: https://pandas.pydata.org/pandas-docs/stable/user_guide/indexing.html#returning-a-view-versus-a-copy\n",
            "/Users/wen/Desktop/github/media_political/ETL.py:15: SettingWithCopyWarning: \n",
            "A value is trying to be set on a copy of a slice from a DataFrame.\n",
            "Try using .loc[row_indexer,col_indexer] = value instead\n",
            "\n",
            "See the caveats in the documentation: https://pandas.pydata.org/pandas-docs/stable/user_guide/indexing.html#returning-a-view-versus-a-copy\n",
            "/Users/wen/Desktop/github/media_political/ETL.py:16: SettingWithCopyWarning: \n",
            "A value is trying to be set on a copy of a slice from a DataFrame.\n",
            "Try using .loc[row_indexer,col_indexer] = value instead\n",
            "\n",
            "See the caveats in the documentation: https://pandas.pydata.org/pandas-docs/stable/user_guide/indexing.html#returning-a-view-versus-a-copy\n",
            "/Users/wen/Desktop/github/media_political/ETL.py:17: SettingWithCopyWarning: \n",
            "A value is trying to be set on a copy of a slice from a DataFrame.\n",
            "Try using .loc[row_indexer,col_indexer] = value instead\n",
            "\n",
            "See the caveats in the documentation: https://pandas.pydata.org/pandas-docs/stable/user_guide/indexing.html#returning-a-view-versus-a-copy\n",
            "/Users/wen/Desktop/github/media_political/ETL.py:18: SettingWithCopyWarning: \n",
            "A value is trying to be set on a copy of a slice from a DataFrame.\n",
            "Try using .loc[row_indexer,col_indexer] = value instead\n",
            "\n",
            "See the caveats in the documentation: https://pandas.pydata.org/pandas-docs/stable/user_guide/indexing.html#returning-a-view-versus-a-copy\n",
            "/Users/wen/Desktop/github/media_political/ETL.py:19: SettingWithCopyWarning: \n",
            "A value is trying to be set on a copy of a slice from a DataFrame.\n",
            "Try using .loc[row_indexer,col_indexer] = value instead\n",
            "\n",
            "See the caveats in the documentation: https://pandas.pydata.org/pandas-docs/stable/user_guide/indexing.html#returning-a-view-versus-a-copy\n",
            "/Users/wen/Desktop/github/media_political/ETL.py:20: SettingWithCopyWarning: \n",
            "A value is trying to be set on a copy of a slice from a DataFrame.\n",
            "Try using .loc[row_indexer,col_indexer] = value instead\n",
            "\n",
            "See the caveats in the documentation: https://pandas.pydata.org/pandas-docs/stable/user_guide/indexing.html#returning-a-view-versus-a-copy\n",
            "/Users/wen/Desktop/github/media_political/ETL.py:21: SettingWithCopyWarning: \n",
            "A value is trying to be set on a copy of a slice from a DataFrame.\n",
            "Try using .loc[row_indexer,col_indexer] = value instead\n",
            "\n",
            "See the caveats in the documentation: https://pandas.pydata.org/pandas-docs/stable/user_guide/indexing.html#returning-a-view-versus-a-copy\n",
            "/Users/wen/Desktop/github/media_political/ETL.py:22: SettingWithCopyWarning: \n",
            "A value is trying to be set on a copy of a slice from a DataFrame.\n",
            "Try using .loc[row_indexer,col_indexer] = value instead\n",
            "\n",
            "See the caveats in the documentation: https://pandas.pydata.org/pandas-docs/stable/user_guide/indexing.html#returning-a-view-versus-a-copy\n",
            "/Users/wen/Desktop/github/media_political/ETL.py:23: SettingWithCopyWarning: \n",
            "A value is trying to be set on a copy of a slice from a DataFrame.\n",
            "Try using .loc[row_indexer,col_indexer] = value instead\n",
            "\n",
            "See the caveats in the documentation: https://pandas.pydata.org/pandas-docs/stable/user_guide/indexing.html#returning-a-view-versus-a-copy\n",
            "/Users/wen/Desktop/github/media_political/ETL.py:24: SettingWithCopyWarning: \n",
            "A value is trying to be set on a copy of a slice from a DataFrame.\n",
            "Try using .loc[row_indexer,col_indexer] = value instead\n",
            "\n",
            "See the caveats in the documentation: https://pandas.pydata.org/pandas-docs/stable/user_guide/indexing.html#returning-a-view-versus-a-copy\n",
            "/Users/wen/Desktop/github/media_political/ETL.py:25: SettingWithCopyWarning: \n",
            "A value is trying to be set on a copy of a slice from a DataFrame.\n",
            "Try using .loc[row_indexer,col_indexer] = value instead\n",
            "\n",
            "See the caveats in the documentation: https://pandas.pydata.org/pandas-docs/stable/user_guide/indexing.html#returning-a-view-versus-a-copy\n",
            "/Users/wen/Desktop/github/media_political/ETL.py:26: SettingWithCopyWarning: \n",
            "A value is trying to be set on a copy of a slice from a DataFrame.\n",
            "Try using .loc[row_indexer,col_indexer] = value instead\n",
            "\n",
            "See the caveats in the documentation: https://pandas.pydata.org/pandas-docs/stable/user_guide/indexing.html#returning-a-view-versus-a-copy\n",
            "/Users/wen/Desktop/github/media_political/ETL.py:27: SettingWithCopyWarning: \n",
            "A value is trying to be set on a copy of a slice from a DataFrame.\n",
            "Try using .loc[row_indexer,col_indexer] = value instead\n",
            "\n",
            "See the caveats in the documentation: https://pandas.pydata.org/pandas-docs/stable/user_guide/indexing.html#returning-a-view-versus-a-copy\n",
            "/Users/wen/Desktop/github/media_political/ETL.py:28: SettingWithCopyWarning: \n",
            "A value is trying to be set on a copy of a slice from a DataFrame.\n",
            "Try using .loc[row_indexer,col_indexer] = value instead\n",
            "\n",
            "See the caveats in the documentation: https://pandas.pydata.org/pandas-docs/stable/user_guide/indexing.html#returning-a-view-versus-a-copy\n",
            "/Users/wen/Desktop/github/media_political/ETL.py:29: SettingWithCopyWarning: \n",
            "A value is trying to be set on a copy of a slice from a DataFrame.\n",
            "Try using .loc[row_indexer,col_indexer] = value instead\n",
            "\n",
            "See the caveats in the documentation: https://pandas.pydata.org/pandas-docs/stable/user_guide/indexing.html#returning-a-view-versus-a-copy\n",
            "/Users/wen/Desktop/github/media_political/ETL.py:32: SettingWithCopyWarning: \n",
            "A value is trying to be set on a copy of a slice from a DataFrame.\n",
            "Try using .loc[row_indexer,col_indexer] = value instead\n",
            "\n",
            "See the caveats in the documentation: https://pandas.pydata.org/pandas-docs/stable/user_guide/indexing.html#returning-a-view-versus-a-copy\n",
            "/Users/wen/Desktop/github/media_political/ETL.py:33: SettingWithCopyWarning: \n",
            "A value is trying to be set on a copy of a slice from a DataFrame.\n",
            "Try using .loc[row_indexer,col_indexer] = value instead\n",
            "\n",
            "See the caveats in the documentation: https://pandas.pydata.org/pandas-docs/stable/user_guide/indexing.html#returning-a-view-versus-a-copy\n",
            "/Users/wen/Desktop/github/media_political/ETL.py:34: SettingWithCopyWarning: \n",
            "A value is trying to be set on a copy of a slice from a DataFrame.\n",
            "Try using .loc[row_indexer,col_indexer] = value instead\n",
            "\n",
            "See the caveats in the documentation: https://pandas.pydata.org/pandas-docs/stable/user_guide/indexing.html#returning-a-view-versus-a-copy\n",
            "/Users/wen/Desktop/github/media_political/ETL.py:35: SettingWithCopyWarning: \n",
            "A value is trying to be set on a copy of a slice from a DataFrame.\n",
            "Try using .loc[row_indexer,col_indexer] = value instead\n",
            "\n",
            "See the caveats in the documentation: https://pandas.pydata.org/pandas-docs/stable/user_guide/indexing.html#returning-a-view-versus-a-copy\n",
            "/Users/wen/Desktop/github/media_political/ETL.py:36: SettingWithCopyWarning: \n",
            "A value is trying to be set on a copy of a slice from a DataFrame.\n",
            "Try using .loc[row_indexer,col_indexer] = value instead\n",
            "\n",
            "See the caveats in the documentation: https://pandas.pydata.org/pandas-docs/stable/user_guide/indexing.html#returning-a-view-versus-a-copy\n",
            "/Users/wen/Desktop/github/media_political/ETL.py:37: SettingWithCopyWarning: \n",
            "A value is trying to be set on a copy of a slice from a DataFrame.\n",
            "Try using .loc[row_indexer,col_indexer] = value instead\n",
            "\n",
            "See the caveats in the documentation: https://pandas.pydata.org/pandas-docs/stable/user_guide/indexing.html#returning-a-view-versus-a-copy\n",
            "/Users/wen/Desktop/github/media_political/ETL.py:38: SettingWithCopyWarning: \n",
            "A value is trying to be set on a copy of a slice from a DataFrame.\n",
            "Try using .loc[row_indexer,col_indexer] = value instead\n",
            "\n",
            "See the caveats in the documentation: https://pandas.pydata.org/pandas-docs/stable/user_guide/indexing.html#returning-a-view-versus-a-copy\n",
            "/Users/wen/Desktop/github/media_political/ETL.py:39: SettingWithCopyWarning: \n",
            "A value is trying to be set on a copy of a slice from a DataFrame.\n",
            "Try using .loc[row_indexer,col_indexer] = value instead\n",
            "\n",
            "See the caveats in the documentation: https://pandas.pydata.org/pandas-docs/stable/user_guide/indexing.html#returning-a-view-versus-a-copy\n",
            "/Users/wen/Desktop/github/media_political/ETL.py:40: SettingWithCopyWarning: \n",
            "A value is trying to be set on a copy of a slice from a DataFrame.\n",
            "Try using .loc[row_indexer,col_indexer] = value instead\n",
            "\n",
            "See the caveats in the documentation: https://pandas.pydata.org/pandas-docs/stable/user_guide/indexing.html#returning-a-view-versus-a-copy\n",
            "/Users/wen/Desktop/github/media_political/ETL.py:43: SettingWithCopyWarning: \n",
            "A value is trying to be set on a copy of a slice from a DataFrame.\n",
            "Try using .loc[row_indexer,col_indexer] = value instead\n",
            "\n",
            "See the caveats in the documentation: https://pandas.pydata.org/pandas-docs/stable/user_guide/indexing.html#returning-a-view-versus-a-copy\n",
            "/Users/wen/Desktop/github/media_political/ETL.py:43: SettingWithCopyWarning: \n",
            "A value is trying to be set on a copy of a slice from a DataFrame.\n",
            "Try using .loc[row_indexer,col_indexer] = value instead\n",
            "\n",
            "See the caveats in the documentation: https://pandas.pydata.org/pandas-docs/stable/user_guide/indexing.html#returning-a-view-versus-a-copy\n",
            "/Users/wen/Desktop/github/media_political/ETL.py:43: SettingWithCopyWarning: \n",
            "A value is trying to be set on a copy of a slice from a DataFrame.\n",
            "Try using .loc[row_indexer,col_indexer] = value instead\n",
            "\n",
            "See the caveats in the documentation: https://pandas.pydata.org/pandas-docs/stable/user_guide/indexing.html#returning-a-view-versus-a-copy\n",
            "/Users/wen/Desktop/github/media_political/ETL.py:43: SettingWithCopyWarning: \n",
            "A value is trying to be set on a copy of a slice from a DataFrame.\n",
            "Try using .loc[row_indexer,col_indexer] = value instead\n",
            "\n",
            "See the caveats in the documentation: https://pandas.pydata.org/pandas-docs/stable/user_guide/indexing.html#returning-a-view-versus-a-copy\n",
            "/Users/wen/Desktop/github/media_political/ETL.py:43: SettingWithCopyWarning: \n",
            "A value is trying to be set on a copy of a slice from a DataFrame.\n",
            "Try using .loc[row_indexer,col_indexer] = value instead\n",
            "\n",
            "See the caveats in the documentation: https://pandas.pydata.org/pandas-docs/stable/user_guide/indexing.html#returning-a-view-versus-a-copy\n",
            "/Users/wen/Desktop/github/media_political/ETL.py:44: SettingWithCopyWarning: \n",
            "A value is trying to be set on a copy of a slice from a DataFrame.\n",
            "Try using .loc[row_indexer,col_indexer] = value instead\n",
            "\n",
            "See the caveats in the documentation: https://pandas.pydata.org/pandas-docs/stable/user_guide/indexing.html#returning-a-view-versus-a-copy\n",
            "/Users/wen/Desktop/github/media_political/ETL.py:45: SettingWithCopyWarning: \n",
            "A value is trying to be set on a copy of a slice from a DataFrame.\n",
            "Try using .loc[row_indexer,col_indexer] = value instead\n",
            "\n",
            "See the caveats in the documentation: https://pandas.pydata.org/pandas-docs/stable/user_guide/indexing.html#returning-a-view-versus-a-copy\n",
            "/Users/wen/Desktop/github/media_political/ETL.py:46: SettingWithCopyWarning: \n",
            "A value is trying to be set on a copy of a slice from a DataFrame.\n",
            "Try using .loc[row_indexer,col_indexer] = value instead\n",
            "\n",
            "See the caveats in the documentation: https://pandas.pydata.org/pandas-docs/stable/user_guide/indexing.html#returning-a-view-versus-a-copy\n",
            "/Users/wen/Desktop/github/media_political/ETL.py:47: SettingWithCopyWarning: \n",
            "A value is trying to be set on a copy of a slice from a DataFrame.\n",
            "Try using .loc[row_indexer,col_indexer] = value instead\n",
            "\n",
            "See the caveats in the documentation: https://pandas.pydata.org/pandas-docs/stable/user_guide/indexing.html#returning-a-view-versus-a-copy\n"
          ]
        }
      ],
      "source": [
        "ml_df = ETL.data_cleaning(filter_data)\n",
        "ml_df = ml_df.reset_index(drop=True)"
      ]
    },
    {
      "cell_type": "code",
      "execution_count": 7,
      "id": "8d8e086f-db3a-4911-825a-138d54fc02de",
      "metadata": {
        "ExecuteTime": {
          "end_time": "2023-06-30T09:23:00.406784+00:00",
          "start_time": "2023-06-30T09:23:00.248067+00:00"
        },
        "jupyter": {
          "outputs_hidden": false,
          "source_hidden": false
        },
        "noteable": {
          "cell_type": "code",
          "output_collection_id": "b5fe7df4-3105-435c-98ce-3bf0c4bb1017"
        }
      },
      "outputs": [
        {
          "data": {
            "text/plain": [
              "(503, 33)"
            ]
          },
          "execution_count": 7,
          "metadata": {},
          "output_type": "execute_result"
        }
      ],
      "source": [
        "ml_df.shape"
      ]
    },
    {
      "cell_type": "code",
      "execution_count": 8,
      "id": "6f9317e2",
      "metadata": {},
      "outputs": [
        {
          "ename": "ValueError",
          "evalue": "Shape of passed values is (503, 4), indices imply (503, 3)",
          "output_type": "error",
          "traceback": [
            "\u001b[0;31m---------------------------------------------------------------------------\u001b[0m",
            "\u001b[0;31mValueError\u001b[0m                                Traceback (most recent call last)",
            "\u001b[1;32m/Users/wen/Desktop/github/media_political/DV_FAC.ipynb Cell 11\u001b[0m in \u001b[0;36m<cell line: 1>\u001b[0;34m()\u001b[0m\n\u001b[0;32m----> <a href='vscode-notebook-cell:/Users/wen/Desktop/github/media_political/DV_FAC.ipynb#X13sZmlsZQ%3D%3D?line=0'>1</a>\u001b[0m ml_df \u001b[39m=\u001b[39m ETL\u001b[39m.\u001b[39;49mDV_feature(ml_df)\n\u001b[1;32m      <a href='vscode-notebook-cell:/Users/wen/Desktop/github/media_political/DV_FAC.ipynb#X13sZmlsZQ%3D%3D?line=1'>2</a>\u001b[0m ml_df\u001b[39m.\u001b[39mshape\n",
            "File \u001b[0;32m~/Desktop/github/media_political/ETL.py:155\u001b[0m, in \u001b[0;36mDV_feature\u001b[0;34m(ml_df)\u001b[0m\n\u001b[1;32m    153\u001b[0m fa_online\u001b[39m.\u001b[39mfit(online_pp_df)\n\u001b[1;32m    154\u001b[0m facs \u001b[39m=\u001b[39m [\u001b[39m'\u001b[39m\u001b[39mFactors\u001b[39m\u001b[39m'\u001b[39m \u001b[39m+\u001b[39m \u001b[39m'\u001b[39m\u001b[39m \u001b[39m\u001b[39m'\u001b[39m \u001b[39m+\u001b[39m \u001b[39mstr\u001b[39m(i \u001b[39m+\u001b[39m \u001b[39m1\u001b[39m) \u001b[39mfor\u001b[39;00m i \u001b[39min\u001b[39;00m \u001b[39mrange\u001b[39m(\u001b[39m3\u001b[39m)]\n\u001b[0;32m--> 155\u001b[0m df_factors_onlnie \u001b[39m=\u001b[39m pd\u001b[39m.\u001b[39;49mDataFrame(data \u001b[39m=\u001b[39;49m fa\u001b[39m.\u001b[39;49mfit_transform(online_pp_df),columns \u001b[39m=\u001b[39;49m facs)\n\u001b[1;32m    156\u001b[0m ml_df[\u001b[39m'\u001b[39m\u001b[39monlnie_scores\u001b[39m\u001b[39m'\u001b[39m] \u001b[39m=\u001b[39m (df_factors_onlnie[\u001b[39m'\u001b[39m\u001b[39mFactors 1\u001b[39m\u001b[39m'\u001b[39m] \u001b[39m*\u001b[39m fa_online\u001b[39m.\u001b[39mget_factor_variance()[\u001b[39m1\u001b[39m][\u001b[39m0\u001b[39m] \u001b[39m+\u001b[39m df_factors_onlnie[\u001b[39m'\u001b[39m\u001b[39mFactors 2\u001b[39m\u001b[39m'\u001b[39m] \u001b[39m*\u001b[39m fa_online\u001b[39m.\u001b[39mget_factor_variance()[\u001b[39m1\u001b[39m][\u001b[39m1\u001b[39m] \u001b[39m+\u001b[39m df_factors_onlnie[\u001b[39m'\u001b[39m\u001b[39mFactors 3\u001b[39m\u001b[39m'\u001b[39m] \u001b[39m*\u001b[39m fa_online\u001b[39m.\u001b[39mget_factor_variance()[\u001b[39m1\u001b[39m][\u001b[39m2\u001b[39m]) \u001b[39m/\u001b[39m fa_online\u001b[39m.\u001b[39mget_factor_variance()[\u001b[39m1\u001b[39m]\u001b[39m.\u001b[39msum()  \n\u001b[1;32m    157\u001b[0m \u001b[39m# offline_pp\u001b[39;00m\n",
            "File \u001b[0;32m~/opt/anaconda3/lib/python3.9/site-packages/pandas/core/frame.py:694\u001b[0m, in \u001b[0;36mDataFrame.__init__\u001b[0;34m(self, data, index, columns, dtype, copy)\u001b[0m\n\u001b[1;32m    684\u001b[0m         mgr \u001b[39m=\u001b[39m dict_to_mgr(\n\u001b[1;32m    685\u001b[0m             \u001b[39m# error: Item \"ndarray\" of \"Union[ndarray, Series, Index]\" has no\u001b[39;00m\n\u001b[1;32m    686\u001b[0m             \u001b[39m# attribute \"name\"\u001b[39;00m\n\u001b[0;32m   (...)\u001b[0m\n\u001b[1;32m    691\u001b[0m             typ\u001b[39m=\u001b[39mmanager,\n\u001b[1;32m    692\u001b[0m         )\n\u001b[1;32m    693\u001b[0m     \u001b[39melse\u001b[39;00m:\n\u001b[0;32m--> 694\u001b[0m         mgr \u001b[39m=\u001b[39m ndarray_to_mgr(\n\u001b[1;32m    695\u001b[0m             data,\n\u001b[1;32m    696\u001b[0m             index,\n\u001b[1;32m    697\u001b[0m             columns,\n\u001b[1;32m    698\u001b[0m             dtype\u001b[39m=\u001b[39;49mdtype,\n\u001b[1;32m    699\u001b[0m             copy\u001b[39m=\u001b[39;49mcopy,\n\u001b[1;32m    700\u001b[0m             typ\u001b[39m=\u001b[39;49mmanager,\n\u001b[1;32m    701\u001b[0m         )\n\u001b[1;32m    703\u001b[0m \u001b[39m# For data is list-like, or Iterable (will consume into list)\u001b[39;00m\n\u001b[1;32m    704\u001b[0m \u001b[39melif\u001b[39;00m is_list_like(data):\n",
            "File \u001b[0;32m~/opt/anaconda3/lib/python3.9/site-packages/pandas/core/internals/construction.py:351\u001b[0m, in \u001b[0;36mndarray_to_mgr\u001b[0;34m(values, index, columns, dtype, copy, typ)\u001b[0m\n\u001b[1;32m    346\u001b[0m \u001b[39m# _prep_ndarray ensures that values.ndim == 2 at this point\u001b[39;00m\n\u001b[1;32m    347\u001b[0m index, columns \u001b[39m=\u001b[39m _get_axes(\n\u001b[1;32m    348\u001b[0m     values\u001b[39m.\u001b[39mshape[\u001b[39m0\u001b[39m], values\u001b[39m.\u001b[39mshape[\u001b[39m1\u001b[39m], index\u001b[39m=\u001b[39mindex, columns\u001b[39m=\u001b[39mcolumns\n\u001b[1;32m    349\u001b[0m )\n\u001b[0;32m--> 351\u001b[0m _check_values_indices_shape_match(values, index, columns)\n\u001b[1;32m    353\u001b[0m \u001b[39mif\u001b[39;00m typ \u001b[39m==\u001b[39m \u001b[39m\"\u001b[39m\u001b[39marray\u001b[39m\u001b[39m\"\u001b[39m:\n\u001b[1;32m    355\u001b[0m     \u001b[39mif\u001b[39;00m \u001b[39missubclass\u001b[39m(values\u001b[39m.\u001b[39mdtype\u001b[39m.\u001b[39mtype, \u001b[39mstr\u001b[39m):\n",
            "File \u001b[0;32m~/opt/anaconda3/lib/python3.9/site-packages/pandas/core/internals/construction.py:422\u001b[0m, in \u001b[0;36m_check_values_indices_shape_match\u001b[0;34m(values, index, columns)\u001b[0m\n\u001b[1;32m    420\u001b[0m passed \u001b[39m=\u001b[39m values\u001b[39m.\u001b[39mshape\n\u001b[1;32m    421\u001b[0m implied \u001b[39m=\u001b[39m (\u001b[39mlen\u001b[39m(index), \u001b[39mlen\u001b[39m(columns))\n\u001b[0;32m--> 422\u001b[0m \u001b[39mraise\u001b[39;00m \u001b[39mValueError\u001b[39;00m(\u001b[39mf\u001b[39m\u001b[39m\"\u001b[39m\u001b[39mShape of passed values is \u001b[39m\u001b[39m{\u001b[39;00mpassed\u001b[39m}\u001b[39;00m\u001b[39m, indices imply \u001b[39m\u001b[39m{\u001b[39;00mimplied\u001b[39m}\u001b[39;00m\u001b[39m\"\u001b[39m)\n",
            "\u001b[0;31mValueError\u001b[0m: Shape of passed values is (503, 4), indices imply (503, 3)"
          ]
        }
      ],
      "source": [
        "ml_df = ETL.DV_feature(ml_df)\n",
        "ml_df.shape"
      ]
    },
    {
      "attachments": {},
      "cell_type": "markdown",
      "id": "4d36f08f-07d2-4a84-83a7-0a4eb195a5b0",
      "metadata": {
        "noteable": {
          "cell_type": "markdown"
        }
      },
      "source": [
        "## Factor Analysis"
      ]
    },
    {
      "attachments": {},
      "cell_type": "markdown",
      "id": "bc1eb6e3-c9ce-4b89-b317-6e487355b131",
      "metadata": {
        "noteable": {
          "cell_type": "markdown"
        }
      },
      "source": [
        "### Filter out DV"
      ]
    },
    {
      "cell_type": "code",
      "execution_count": null,
      "id": "dcd1dc7d-9dfc-4def-9c4b-3a7715e38e51",
      "metadata": {
        "ExecuteTime": {
          "end_time": "2023-06-30T09:24:27.002079+00:00",
          "start_time": "2023-06-30T09:24:26.844862+00:00"
        },
        "jupyter": {
          "outputs_hidden": false,
          "source_hidden": false
        },
        "noteable": {
          "cell_type": "code",
          "output_collection_id": "964362f9-b338-436b-ac0a-13f04dc73de7"
        }
      },
      "outputs": [],
      "source": [
        "DV_vars = ['TV_news_time', 'news_paper_time', 'int_news_time', 'TV_debate', 'read_media', 'like_media', 'share_media', 'comment_media', 'int_discuss', 'read_election_news', 'read_election_leaflet', 'convince', 'campaign', 'volunteer', 'election_mayor', 'election_18']\n",
        "DV_df = ml_df[DV_vars]"
      ]
    },
    {
      "attachments": {},
      "cell_type": "markdown",
      "id": "8d232e7a-a798-4329-85fd-646492d31f66",
      "metadata": {
        "noteable": {
          "cell_type": "markdown"
        }
      },
      "source": [
        "### Bartlett’s test and Kaiser-Meyer-Olkin "
      ]
    },
    {
      "cell_type": "code",
      "execution_count": null,
      "id": "841ee87b-f7aa-4fb9-951d-65fefe786208",
      "metadata": {
        "ExecuteTime": {
          "end_time": "2023-06-30T09:24:36.288455+00:00",
          "start_time": "2023-06-30T09:24:36.128404+00:00"
        },
        "jupyter": {
          "outputs_hidden": false,
          "source_hidden": false
        },
        "noteable": {
          "cell_type": "code",
          "output_collection_id": "0466cbf4-4a68-4e85-b0e1-bd0b90606e1a"
        }
      },
      "outputs": [
        {
          "name": "stdout",
          "output_type": "stream",
          "text": [
            "Chi-square value : 2616.18\n",
            "p-value          : 0.0\n"
          ]
        }
      ],
      "source": [
        "# Adequacy test - Bartlett's test\n",
        "chiSquareValue, pValue = calculate_bartlett_sphericity(DV_df)\n",
        "print('Chi-square value : {}'.format(round(chiSquareValue, ndigits = 3)))\n",
        "print('p-value          : {}'.format(round(pValue, ndigits = 3)))"
      ]
    },
    {
      "attachments": {},
      "cell_type": "markdown",
      "id": "9b19203b-45ce-4ace-9aef-31b31a08a6d8",
      "metadata": {
        "noteable": {
          "cell_type": "markdown"
        }
      },
      "source": [
        "The Bartlett test produces a p-value that is less than 0.05. It means, we reject the null hypothesis or in this case, at least two population variances are different."
      ]
    },
    {
      "cell_type": "code",
      "execution_count": null,
      "id": "e6a3687c-0dd4-493b-b603-410899099357",
      "metadata": {
        "ExecuteTime": {
          "end_time": "2023-06-30T09:24:50.683466+00:00",
          "start_time": "2023-06-30T09:24:50.522262+00:00"
        },
        "jupyter": {
          "outputs_hidden": false,
          "source_hidden": false
        },
        "noteable": {
          "cell_type": "code",
          "output_collection_id": "46384bf7-a2e1-4065-8221-a98713bbe7aa"
        }
      },
      "outputs": [
        {
          "name": "stdout",
          "output_type": "stream",
          "text": [
            "KMO value : 0.771\n"
          ]
        },
        {
          "name": "stderr",
          "output_type": "stream",
          "text": [
            "/Users/wen/opt/anaconda3/lib/python3.9/site-packages/factor_analyzer/utils.py:244: UserWarning: The inverse of the variance-covariance matrix was calculated using the Moore-Penrose generalized matrix inversion, due to its determinant being at or very close to zero.\n"
          ]
        }
      ],
      "source": [
        "# Adequacy test - Kaiser-Meyer-Olkin test\n",
        "KMO, KMO_model = calculate_kmo(DV_df)\n",
        "print('KMO value : {}'.format(round(KMO_model, ndigits = 3)))"
      ]
    },
    {
      "attachments": {},
      "cell_type": "markdown",
      "id": "3510b155-4b42-442c-b661-994256e40fab",
      "metadata": {
        "noteable": {
          "cell_type": "markdown"
        }
      },
      "source": [
        "### Communality testing\n"
      ]
    },
    {
      "cell_type": "code",
      "execution_count": null,
      "id": "4c30a6ea-4c31-4a6a-8b68-9e1d60f0580d",
      "metadata": {
        "ExecuteTime": {
          "end_time": "2023-06-30T09:25:09.868664+00:00",
          "start_time": "2023-06-30T09:25:09.623278+00:00"
        },
        "datalink": {
          "4ef74b8c-c8bd-4c13-a479-9dff556c4c5b": {
            "applied_filters": [],
            "dataframe_info": {
              "default_index_used": true,
              "orig_num_cols": 2,
              "orig_num_rows": 16,
              "orig_size_bytes": 384,
              "truncated_num_cols": 2,
              "truncated_num_rows": 16,
              "truncated_size_bytes": 384,
              "truncated_string_columns": []
            },
            "display_id": "4ef74b8c-c8bd-4c13-a479-9dff556c4c5b",
            "dx_settings": {
              "ALLOW_NOTEABLE_ATTRS": true,
              "COLUMN_SAMPLING_METHOD": "outer",
              "DB_LOCATION": ":memory:",
              "DEV_MODE": false,
              "DISPLAY_MAX_COLUMNS": 100,
              "DISPLAY_MAX_ROWS": 50000,
              "DISPLAY_MODE": "simple",
              "ENABLE_ASSIGNMENT": true,
              "ENABLE_DATALINK": true,
              "FLATTEN_COLUMN_VALUES": true,
              "FLATTEN_INDEX_VALUES": false,
              "GENERATE_DEX_METADATA": false,
              "HTML_TABLE_SCHEMA": false,
              "LOG_LEVEL": 30,
              "MAX_RENDER_SIZE_BYTES": 104857600,
              "MAX_STRING_LENGTH": 250,
              "NUM_PAST_SAMPLES_TRACKED": 3,
              "RANDOM_STATE": 12648430,
              "RESET_INDEX_VALUES": false,
              "ROW_SAMPLING_METHOD": "random",
              "SAMPLING_FACTOR": 0.1,
              "SAMPLING_METHOD": "random",
              "STRINGIFY_COLUMN_VALUES": true,
              "STRINGIFY_INDEX_VALUES": false
            },
            "sample_history": [],
            "sampling_time": "2023-06-29T10:40:47.044475",
            "user_variable_name": "df_communalities_DV",
            "variable_name": "df_communalities_DV"
          },
          "7037d8f7-698d-4d2e-bc4b-248c64280b70": {
            "applied_filters": [],
            "dataframe_info": {
              "default_index_used": true,
              "orig_num_cols": 2,
              "orig_num_rows": 16,
              "orig_size_bytes": 384,
              "truncated_num_cols": 2,
              "truncated_num_rows": 16,
              "truncated_size_bytes": 384,
              "truncated_string_columns": []
            },
            "display_id": "7037d8f7-698d-4d2e-bc4b-248c64280b70",
            "dx_settings": {
              "ALLOW_NOTEABLE_ATTRS": true,
              "COLUMN_SAMPLING_METHOD": "outer",
              "DB_LOCATION": ":memory:",
              "DEV_MODE": false,
              "DISPLAY_MAX_COLUMNS": 100,
              "DISPLAY_MAX_ROWS": 50000,
              "DISPLAY_MODE": "simple",
              "ENABLE_ASSIGNMENT": true,
              "ENABLE_DATALINK": true,
              "FLATTEN_COLUMN_VALUES": true,
              "FLATTEN_INDEX_VALUES": false,
              "GENERATE_DEX_METADATA": false,
              "HTML_TABLE_SCHEMA": false,
              "LOG_LEVEL": 30,
              "MAX_RENDER_SIZE_BYTES": 104857600,
              "MAX_STRING_LENGTH": 250,
              "NUM_PAST_SAMPLES_TRACKED": 3,
              "RANDOM_STATE": 12648430,
              "RESET_INDEX_VALUES": false,
              "ROW_SAMPLING_METHOD": "random",
              "SAMPLING_FACTOR": 0.1,
              "SAMPLING_METHOD": "random",
              "STRINGIFY_COLUMN_VALUES": true,
              "STRINGIFY_INDEX_VALUES": false
            },
            "sample_history": [],
            "sampling_time": "2023-06-29T10:36:33.340637",
            "user_variable_name": "df_communalities_DV",
            "variable_name": "df_communalities_DV"
          },
          "9214fe27-6163-40d9-bf2c-65d5397af239": {
            "applied_filters": [],
            "dataframe_info": {
              "default_index_used": true,
              "orig_num_cols": 2,
              "orig_num_rows": 16,
              "orig_size_bytes": 384,
              "truncated_num_cols": 2,
              "truncated_num_rows": 16,
              "truncated_size_bytes": 384,
              "truncated_string_columns": []
            },
            "display_id": "9214fe27-6163-40d9-bf2c-65d5397af239",
            "dx_settings": {
              "ALLOW_NOTEABLE_ATTRS": true,
              "COLUMN_SAMPLING_METHOD": "outer",
              "DB_LOCATION": ":memory:",
              "DEV_MODE": false,
              "DISPLAY_MAX_COLUMNS": 100,
              "DISPLAY_MAX_ROWS": 50000,
              "DISPLAY_MODE": "simple",
              "ENABLE_ASSIGNMENT": true,
              "ENABLE_DATALINK": true,
              "FLATTEN_COLUMN_VALUES": true,
              "FLATTEN_INDEX_VALUES": false,
              "GENERATE_DEX_METADATA": false,
              "HTML_TABLE_SCHEMA": false,
              "LOG_LEVEL": 30,
              "MAX_RENDER_SIZE_BYTES": 104857600,
              "MAX_STRING_LENGTH": 250,
              "NUM_PAST_SAMPLES_TRACKED": 3,
              "RANDOM_STATE": 12648430,
              "RESET_INDEX_VALUES": false,
              "ROW_SAMPLING_METHOD": "random",
              "SAMPLING_FACTOR": 0.1,
              "SAMPLING_METHOD": "random",
              "STRINGIFY_COLUMN_VALUES": true,
              "STRINGIFY_INDEX_VALUES": false
            },
            "sample_history": [],
            "sampling_time": "2023-06-29T10:39:03.462254",
            "user_variable_name": "df_communalities_DV",
            "variable_name": "df_communalities_DV"
          }
        },
        "noteable": {
          "cell_type": "python",
          "output_collection_id": "51dc9b91-0048-4a38-b63a-6de07738c2b2"
        }
      },
      "outputs": [
        {
          "data": {
            "text/html": [
              "<style type=\"text/css\">\n",
              "#T_9a1b2_row3_col1, #T_9a1b2_row4_col1, #T_9a1b2_row5_col1, #T_9a1b2_row6_col1, #T_9a1b2_row7_col1, #T_9a1b2_row9_col1, #T_9a1b2_row10_col1, #T_9a1b2_row12_col1, #T_9a1b2_row13_col1, #T_9a1b2_row14_col1, #T_9a1b2_row15_col1 {\n",
              "  background-color: yellow;\n",
              "}\n",
              "</style>\n",
              "<table id=\"T_9a1b2\">\n",
              "  <thead>\n",
              "    <tr>\n",
              "      <th class=\"blank level0\" >&nbsp;</th>\n",
              "      <th id=\"T_9a1b2_level0_col0\" class=\"col_heading level0 col0\" >Column</th>\n",
              "      <th id=\"T_9a1b2_level0_col1\" class=\"col_heading level0 col1\" >Communality</th>\n",
              "    </tr>\n",
              "  </thead>\n",
              "  <tbody>\n",
              "    <tr>\n",
              "      <th id=\"T_9a1b2_level0_row0\" class=\"row_heading level0 row0\" >0</th>\n",
              "      <td id=\"T_9a1b2_row0_col0\" class=\"data row0 col0\" >TV_news_time</td>\n",
              "      <td id=\"T_9a1b2_row0_col1\" class=\"data row0 col1\" >0.409374</td>\n",
              "    </tr>\n",
              "    <tr>\n",
              "      <th id=\"T_9a1b2_level0_row1\" class=\"row_heading level0 row1\" >1</th>\n",
              "      <td id=\"T_9a1b2_row1_col0\" class=\"data row1 col0\" >news_paper_time</td>\n",
              "      <td id=\"T_9a1b2_row1_col1\" class=\"data row1 col1\" >0.289999</td>\n",
              "    </tr>\n",
              "    <tr>\n",
              "      <th id=\"T_9a1b2_level0_row2\" class=\"row_heading level0 row2\" >2</th>\n",
              "      <td id=\"T_9a1b2_row2_col0\" class=\"data row2 col0\" >int_news_time</td>\n",
              "      <td id=\"T_9a1b2_row2_col1\" class=\"data row2 col1\" >0.443625</td>\n",
              "    </tr>\n",
              "    <tr>\n",
              "      <th id=\"T_9a1b2_level0_row3\" class=\"row_heading level0 row3\" >3</th>\n",
              "      <td id=\"T_9a1b2_row3_col0\" class=\"data row3 col0\" >TV_debate</td>\n",
              "      <td id=\"T_9a1b2_row3_col1\" class=\"data row3 col1\" >0.520139</td>\n",
              "    </tr>\n",
              "    <tr>\n",
              "      <th id=\"T_9a1b2_level0_row4\" class=\"row_heading level0 row4\" >4</th>\n",
              "      <td id=\"T_9a1b2_row4_col0\" class=\"data row4 col0\" >read_media</td>\n",
              "      <td id=\"T_9a1b2_row4_col1\" class=\"data row4 col1\" >0.770703</td>\n",
              "    </tr>\n",
              "    <tr>\n",
              "      <th id=\"T_9a1b2_level0_row5\" class=\"row_heading level0 row5\" >5</th>\n",
              "      <td id=\"T_9a1b2_row5_col0\" class=\"data row5 col0\" >like_media</td>\n",
              "      <td id=\"T_9a1b2_row5_col1\" class=\"data row5 col1\" >0.716518</td>\n",
              "    </tr>\n",
              "    <tr>\n",
              "      <th id=\"T_9a1b2_level0_row6\" class=\"row_heading level0 row6\" >6</th>\n",
              "      <td id=\"T_9a1b2_row6_col0\" class=\"data row6 col0\" >share_media</td>\n",
              "      <td id=\"T_9a1b2_row6_col1\" class=\"data row6 col1\" >0.558656</td>\n",
              "    </tr>\n",
              "    <tr>\n",
              "      <th id=\"T_9a1b2_level0_row7\" class=\"row_heading level0 row7\" >7</th>\n",
              "      <td id=\"T_9a1b2_row7_col0\" class=\"data row7 col0\" >comment_media</td>\n",
              "      <td id=\"T_9a1b2_row7_col1\" class=\"data row7 col1\" >0.602209</td>\n",
              "    </tr>\n",
              "    <tr>\n",
              "      <th id=\"T_9a1b2_level0_row8\" class=\"row_heading level0 row8\" >8</th>\n",
              "      <td id=\"T_9a1b2_row8_col0\" class=\"data row8 col0\" >int_discuss</td>\n",
              "      <td id=\"T_9a1b2_row8_col1\" class=\"data row8 col1\" >0.303170</td>\n",
              "    </tr>\n",
              "    <tr>\n",
              "      <th id=\"T_9a1b2_level0_row9\" class=\"row_heading level0 row9\" >9</th>\n",
              "      <td id=\"T_9a1b2_row9_col0\" class=\"data row9 col0\" >read_election_news</td>\n",
              "      <td id=\"T_9a1b2_row9_col1\" class=\"data row9 col1\" >0.757665</td>\n",
              "    </tr>\n",
              "    <tr>\n",
              "      <th id=\"T_9a1b2_level0_row10\" class=\"row_heading level0 row10\" >10</th>\n",
              "      <td id=\"T_9a1b2_row10_col0\" class=\"data row10 col0\" >read_election_leaflet</td>\n",
              "      <td id=\"T_9a1b2_row10_col1\" class=\"data row10 col1\" >0.705906</td>\n",
              "    </tr>\n",
              "    <tr>\n",
              "      <th id=\"T_9a1b2_level0_row11\" class=\"row_heading level0 row11\" >11</th>\n",
              "      <td id=\"T_9a1b2_row11_col0\" class=\"data row11 col0\" >convince</td>\n",
              "      <td id=\"T_9a1b2_row11_col1\" class=\"data row11 col1\" >0.371549</td>\n",
              "    </tr>\n",
              "    <tr>\n",
              "      <th id=\"T_9a1b2_level0_row12\" class=\"row_heading level0 row12\" >12</th>\n",
              "      <td id=\"T_9a1b2_row12_col0\" class=\"data row12 col0\" >campaign</td>\n",
              "      <td id=\"T_9a1b2_row12_col1\" class=\"data row12 col1\" >0.696298</td>\n",
              "    </tr>\n",
              "    <tr>\n",
              "      <th id=\"T_9a1b2_level0_row13\" class=\"row_heading level0 row13\" >13</th>\n",
              "      <td id=\"T_9a1b2_row13_col0\" class=\"data row13 col0\" >volunteer</td>\n",
              "      <td id=\"T_9a1b2_row13_col1\" class=\"data row13 col1\" >0.619827</td>\n",
              "    </tr>\n",
              "    <tr>\n",
              "      <th id=\"T_9a1b2_level0_row14\" class=\"row_heading level0 row14\" >14</th>\n",
              "      <td id=\"T_9a1b2_row14_col0\" class=\"data row14 col0\" >election_mayor</td>\n",
              "      <td id=\"T_9a1b2_row14_col1\" class=\"data row14 col1\" >0.919017</td>\n",
              "    </tr>\n",
              "    <tr>\n",
              "      <th id=\"T_9a1b2_level0_row15\" class=\"row_heading level0 row15\" >15</th>\n",
              "      <td id=\"T_9a1b2_row15_col0\" class=\"data row15 col0\" >election_18</td>\n",
              "      <td id=\"T_9a1b2_row15_col1\" class=\"data row15 col1\" >0.949480</td>\n",
              "    </tr>\n",
              "  </tbody>\n",
              "</table>\n"
            ],
            "text/plain": [
              "<pandas.io.formats.style.Styler at 0x7fc1905b39a0>"
            ]
          },
          "execution_count": 31,
          "metadata": {},
          "output_type": "execute_result"
        }
      ],
      "source": [
        "# Create factor analysis object and perform factor analysis\n",
        "fa = FactorAnalyzer(n_factors = 25, rotation = None)\n",
        "fa.fit(DV_df)\n",
        "# The communalities\n",
        "df_communalities_DV = pd.DataFrame(data = {'Column': DV_df.columns, 'Communality': fa.get_communalities()})\n",
        "df_communalities_DV\n",
        "df_communalities_DV.style.apply(Factor_Analysis.highlightCommunalities, subset = ['Communality'])"
      ]
    },
    {
      "attachments": {},
      "cell_type": "markdown",
      "id": "bed105d7-acd7-4556-a9ae-86efeaaabd8e",
      "metadata": {
        "noteable": {
          "cell_type": "markdown"
        }
      },
      "source": [
        "The yellow color indicates that the communality values meet the criteria — greater than 0.5. Eliminated Variable below 0.5 ."
      ]
    },
    {
      "cell_type": "code",
      "execution_count": null,
      "id": "e3d65067-2aa3-4e5e-9c4d-b995e10aabb5",
      "metadata": {
        "ExecuteTime": {
          "end_time": "2023-06-30T09:25:31.668923+00:00",
          "start_time": "2023-06-30T09:25:30.899989+00:00"
        },
        "jupyter": {
          "outputs_hidden": false,
          "source_hidden": false
        },
        "noteable": {
          "cell_type": "code",
          "output_collection_id": "216b8c0e-afa6-4de8-8cdf-6a19bfb0a3fd"
        }
      },
      "outputs": [
        {
          "data": {
            "image/png": "[encoded data removed]",
            "text/plain": [
              "<Figure size 1080x648 with 1 Axes>"
            ]
          },
          "metadata": {
            "image/png": {
              "height": 648,
              "width": 1080
            },
            "needs_background": "light"
          },
          "output_type": "display_data"
        },
        {
          "data": {
            "text/plain": [
              "<Figure Size: (1080 x 648)>"
            ]
          },
          "execution_count": 32,
          "metadata": {},
          "output_type": "execute_result"
        }
      ],
      "source": [
        "# Data viz\n",
        "plotnine.options.figure_size = (15, 9)\n",
        "communality_bar = (\n",
        "    ggplot(data = df_communalities_DV)+\n",
        "    geom_bar(aes(x = 'Column',\n",
        "                 y = 'Communality'),\n",
        "             width = 0.75,\n",
        "             stat = 'identity')+\n",
        "    geom_hline(yintercept = 0.5)+\n",
        "    scale_x_discrete(limits = df_communalities_DV['Column'].tolist())+\n",
        "    labs(title = 'Communalitites of factor analysis')+\n",
        "    xlab('Columns')+\n",
        "    ylab('Communalities')+\n",
        "    theme_minimal()\n",
        ")\n",
        "# Display the viz\n",
        "communality_bar"
      ]
    },
    {
      "attachments": {},
      "cell_type": "markdown",
      "id": "3bf29d56-af01-495e-b249-19160b13444c",
      "metadata": {
        "noteable": {
          "cell_type": "markdown"
        }
      },
      "source": [
        "### Reduce Factors"
      ]
    },
    {
      "cell_type": "code",
      "execution_count": null,
      "id": "8a414302-06df-467c-8cd0-ea52be0cb98e",
      "metadata": {
        "ExecuteTime": {
          "end_time": "2023-06-30T09:25:41.775781+00:00",
          "start_time": "2023-06-30T09:25:41.619494+00:00"
        },
        "jupyter": {
          "outputs_hidden": false,
          "source_hidden": false
        },
        "noteable": {
          "cell_type": "code",
          "output_collection_id": "257f3171-0527-4d56-860a-c80ec01d4dd9"
        }
      },
      "outputs": [],
      "source": [
        "# Check Eigenvalues\n",
        "eigenValue, value = fa.get_eigenvalues()"
      ]
    },
    {
      "cell_type": "code",
      "execution_count": null,
      "id": "c01cb07b-1be4-411e-a7f7-3851eb3a6494",
      "metadata": {
        "ExecuteTime": {
          "end_time": "2023-06-30T09:25:53.662654+00:00",
          "start_time": "2023-06-30T09:25:53.499695+00:00"
        },
        "jupyter": {
          "outputs_hidden": false,
          "source_hidden": false
        },
        "noteable": {
          "cell_type": "code",
          "output_collection_id": "fc9822bc-5f1d-41cf-9d44-de66fd7aed48"
        }
      },
      "outputs": [
        {
          "data": {
            "text/html": [
              "<style type=\"text/css\">\n",
              "#T_35252_row0_col1, #T_35252_row1_col1, #T_35252_row2_col1, #T_35252_row3_col1 {\n",
              "  background-color: yellow;\n",
              "}\n",
              "</style>\n",
              "<table id=\"T_35252\">\n",
              "  <thead>\n",
              "    <tr>\n",
              "      <th class=\"blank level0\" >&nbsp;</th>\n",
              "      <th id=\"T_35252_level0_col0\" class=\"col_heading level0 col0\" >Factor</th>\n",
              "      <th id=\"T_35252_level0_col1\" class=\"col_heading level0 col1\" >Eigen value</th>\n",
              "    </tr>\n",
              "  </thead>\n",
              "  <tbody>\n",
              "    <tr>\n",
              "      <th id=\"T_35252_level0_row0\" class=\"row_heading level0 row0\" >0</th>\n",
              "      <td id=\"T_35252_row0_col0\" class=\"data row0 col0\" >1</td>\n",
              "      <td id=\"T_35252_row0_col1\" class=\"data row0 col1\" >4.251428</td>\n",
              "    </tr>\n",
              "    <tr>\n",
              "      <th id=\"T_35252_level0_row1\" class=\"row_heading level0 row1\" >1</th>\n",
              "      <td id=\"T_35252_row1_col0\" class=\"data row1 col0\" >2</td>\n",
              "      <td id=\"T_35252_row1_col1\" class=\"data row1 col1\" >2.057097</td>\n",
              "    </tr>\n",
              "    <tr>\n",
              "      <th id=\"T_35252_level0_row2\" class=\"row_heading level0 row2\" >2</th>\n",
              "      <td id=\"T_35252_row2_col0\" class=\"data row2 col0\" >3</td>\n",
              "      <td id=\"T_35252_row2_col1\" class=\"data row2 col1\" >1.428251</td>\n",
              "    </tr>\n",
              "    <tr>\n",
              "      <th id=\"T_35252_level0_row3\" class=\"row_heading level0 row3\" >3</th>\n",
              "      <td id=\"T_35252_row3_col0\" class=\"data row3 col0\" >4</td>\n",
              "      <td id=\"T_35252_row3_col1\" class=\"data row3 col1\" >1.185024</td>\n",
              "    </tr>\n",
              "    <tr>\n",
              "      <th id=\"T_35252_level0_row4\" class=\"row_heading level0 row4\" >4</th>\n",
              "      <td id=\"T_35252_row4_col0\" class=\"data row4 col0\" >5</td>\n",
              "      <td id=\"T_35252_row4_col1\" class=\"data row4 col1\" >0.982240</td>\n",
              "    </tr>\n",
              "    <tr>\n",
              "      <th id=\"T_35252_level0_row5\" class=\"row_heading level0 row5\" >5</th>\n",
              "      <td id=\"T_35252_row5_col0\" class=\"data row5 col0\" >6</td>\n",
              "      <td id=\"T_35252_row5_col1\" class=\"data row5 col1\" >0.846947</td>\n",
              "    </tr>\n",
              "    <tr>\n",
              "      <th id=\"T_35252_level0_row6\" class=\"row_heading level0 row6\" >6</th>\n",
              "      <td id=\"T_35252_row6_col0\" class=\"data row6 col0\" >7</td>\n",
              "      <td id=\"T_35252_row6_col1\" class=\"data row6 col1\" >0.832451</td>\n",
              "    </tr>\n",
              "    <tr>\n",
              "      <th id=\"T_35252_level0_row7\" class=\"row_heading level0 row7\" >7</th>\n",
              "      <td id=\"T_35252_row7_col0\" class=\"data row7 col0\" >8</td>\n",
              "      <td id=\"T_35252_row7_col1\" class=\"data row7 col1\" >0.772555</td>\n",
              "    </tr>\n",
              "    <tr>\n",
              "      <th id=\"T_35252_level0_row8\" class=\"row_heading level0 row8\" >8</th>\n",
              "      <td id=\"T_35252_row8_col0\" class=\"data row8 col0\" >9</td>\n",
              "      <td id=\"T_35252_row8_col1\" class=\"data row8 col1\" >0.682499</td>\n",
              "    </tr>\n",
              "    <tr>\n",
              "      <th id=\"T_35252_level0_row9\" class=\"row_heading level0 row9\" >9</th>\n",
              "      <td id=\"T_35252_row9_col0\" class=\"data row9 col0\" >10</td>\n",
              "      <td id=\"T_35252_row9_col1\" class=\"data row9 col1\" >0.631522</td>\n",
              "    </tr>\n",
              "    <tr>\n",
              "      <th id=\"T_35252_level0_row10\" class=\"row_heading level0 row10\" >10</th>\n",
              "      <td id=\"T_35252_row10_col0\" class=\"data row10 col0\" >11</td>\n",
              "      <td id=\"T_35252_row10_col1\" class=\"data row10 col1\" >0.612828</td>\n",
              "    </tr>\n",
              "    <tr>\n",
              "      <th id=\"T_35252_level0_row11\" class=\"row_heading level0 row11\" >11</th>\n",
              "      <td id=\"T_35252_row11_col0\" class=\"data row11 col0\" >12</td>\n",
              "      <td id=\"T_35252_row11_col1\" class=\"data row11 col1\" >0.522093</td>\n",
              "    </tr>\n",
              "    <tr>\n",
              "      <th id=\"T_35252_level0_row12\" class=\"row_heading level0 row12\" >12</th>\n",
              "      <td id=\"T_35252_row12_col0\" class=\"data row12 col0\" >13</td>\n",
              "      <td id=\"T_35252_row12_col1\" class=\"data row12 col1\" >0.420308</td>\n",
              "    </tr>\n",
              "    <tr>\n",
              "      <th id=\"T_35252_level0_row13\" class=\"row_heading level0 row13\" >13</th>\n",
              "      <td id=\"T_35252_row13_col0\" class=\"data row13 col0\" >14</td>\n",
              "      <td id=\"T_35252_row13_col1\" class=\"data row13 col1\" >0.363497</td>\n",
              "    </tr>\n",
              "    <tr>\n",
              "      <th id=\"T_35252_level0_row14\" class=\"row_heading level0 row14\" >14</th>\n",
              "      <td id=\"T_35252_row14_col0\" class=\"data row14 col0\" >15</td>\n",
              "      <td id=\"T_35252_row14_col1\" class=\"data row14 col1\" >0.313567</td>\n",
              "    </tr>\n",
              "    <tr>\n",
              "      <th id=\"T_35252_level0_row15\" class=\"row_heading level0 row15\" >15</th>\n",
              "      <td id=\"T_35252_row15_col0\" class=\"data row15 col0\" >16</td>\n",
              "      <td id=\"T_35252_row15_col1\" class=\"data row15 col1\" >0.097692</td>\n",
              "    </tr>\n",
              "  </tbody>\n",
              "</table>\n"
            ],
            "text/plain": [
              "<pandas.io.formats.style.Styler at 0x7fc1b3f06d00>"
            ]
          },
          "execution_count": 34,
          "metadata": {},
          "output_type": "execute_result"
        }
      ],
      "source": [
        "# Convert the results into a dataframe\n",
        "df_DV_eigen = pd.DataFrame({'Factor': range(1, len(eigenValue) + 1), 'Eigen value': eigenValue})\n",
        "df_DV_eigen.style.apply(Factor_Analysis.highlightEigenvalue, subset = ['Eigen value'])"
      ]
    },
    {
      "attachments": {},
      "cell_type": "markdown",
      "id": "d7bfdfc0-bc56-4447-81ff-0d9d16bb4de4",
      "metadata": {
        "noteable": {
          "cell_type": "markdown"
        }
      },
      "source": [
        "According to the Kaiser criteria, the number of factors generated is 2. It means that the 16 columns or well-known variables will be grouped and interpreted into 2 factors."
      ]
    },
    {
      "cell_type": "code",
      "execution_count": null,
      "id": "3160b2e4-d849-4448-b7cd-224601cf2b37",
      "metadata": {
        "ExecuteTime": {
          "end_time": "2023-06-30T09:26:33.188251+00:00",
          "start_time": "2023-06-30T09:26:32.524293+00:00"
        },
        "jupyter": {
          "outputs_hidden": false,
          "source_hidden": false
        },
        "noteable": {
          "cell_type": "code",
          "output_collection_id": "b476662e-8706-446b-a488-1d1dd05541e9"
        },
        "scrolled": false
      },
      "outputs": [
        {
          "data": {
            "image/png": "[encoded data removed]",
            "text/plain": [
              "<Figure size 800x480 with 1 Axes>"
            ]
          },
          "metadata": {
            "image/png": {
              "height": 480,
              "width": 800
            },
            "needs_background": "light"
          },
          "output_type": "display_data"
        },
        {
          "data": {
            "text/plain": [
              "<Figure Size: (800 x 480)>"
            ]
          },
          "execution_count": 35,
          "metadata": {},
          "output_type": "execute_result"
        }
      ],
      "source": [
        "# Data viz\n",
        "plotnine.options.figure_size = (8, 4.8)\n",
        "DV_scree_eigenvalue = (\n",
        "    ggplot(data = df_DV_eigen)+\n",
        "    geom_hline(yintercept = 1)+\n",
        "    geom_line(aes(x = 'Factor',\n",
        "                  y = 'Eigen value'))+\n",
        "    geom_point(aes(x = 'Factor',\n",
        "                   y = 'Eigen value'),\n",
        "               size = 2)+\n",
        "    labs(title = 'Scree plot of eigen value from factor analysis')+\n",
        "    xlab('Factors')+\n",
        "    ylab('Eigenvalue')+\n",
        "    theme_minimal()\n",
        ")\n",
        "# Display the viz\n",
        "DV_scree_eigenvalue"
      ]
    },
    {
      "cell_type": "code",
      "execution_count": null,
      "id": "d4469999-ad78-4c57-93d7-8d3b19d28963",
      "metadata": {
        "ExecuteTime": {
          "end_time": "2023-06-30T09:27:13.669186+00:00",
          "start_time": "2023-06-30T09:27:13.370421+00:00"
        },
        "jupyter": {
          "outputs_hidden": false,
          "source_hidden": false
        },
        "noteable": {
          "cell_type": "code",
          "output_collection_id": "257bc9e3-b2b5-47e5-9e1e-845e769adb6a"
        },
        "scrolled": false
      },
      "outputs": [
        {
          "name": "stdout",
          "output_type": "stream",
          "text": [
            "['Factors 1', 'Factors 2', 'Factors 3', 'Factors 4']\n"
          ]
        },
        {
          "data": {
            "text/html": [
              "<style type=\"text/css\">\n",
              "#T_8ba56_row4_col0, #T_8ba56_row5_col0, #T_8ba56_row6_col0, #T_8ba56_row7_col0, #T_8ba56_row9_col2, #T_8ba56_row10_col2, #T_8ba56_row12_col3, #T_8ba56_row13_col3, #T_8ba56_row14_col1, #T_8ba56_row15_col1 {\n",
              "  background-color: yellow;\n",
              "}\n",
              "</style>\n",
              "<table id=\"T_8ba56\">\n",
              "  <thead>\n",
              "    <tr>\n",
              "      <th class=\"blank level0\" >&nbsp;</th>\n",
              "      <th id=\"T_8ba56_level0_col0\" class=\"col_heading level0 col0\" >Factors 1</th>\n",
              "      <th id=\"T_8ba56_level0_col1\" class=\"col_heading level0 col1\" >Factors 2</th>\n",
              "      <th id=\"T_8ba56_level0_col2\" class=\"col_heading level0 col2\" >Factors 3</th>\n",
              "      <th id=\"T_8ba56_level0_col3\" class=\"col_heading level0 col3\" >Factors 4</th>\n",
              "    </tr>\n",
              "  </thead>\n",
              "  <tbody>\n",
              "    <tr>\n",
              "      <th id=\"T_8ba56_level0_row0\" class=\"row_heading level0 row0\" >TV_news_time</th>\n",
              "      <td id=\"T_8ba56_row0_col0\" class=\"data row0 col0\" >0.249018</td>\n",
              "      <td id=\"T_8ba56_row0_col1\" class=\"data row0 col1\" >0.034852</td>\n",
              "      <td id=\"T_8ba56_row0_col2\" class=\"data row0 col2\" >0.287438</td>\n",
              "      <td id=\"T_8ba56_row0_col3\" class=\"data row0 col3\" >0.045294</td>\n",
              "    </tr>\n",
              "    <tr>\n",
              "      <th id=\"T_8ba56_level0_row1\" class=\"row_heading level0 row1\" >news_paper_time</th>\n",
              "      <td id=\"T_8ba56_row1_col0\" class=\"data row1 col0\" >0.129048</td>\n",
              "      <td id=\"T_8ba56_row1_col1\" class=\"data row1 col1\" >-0.074070</td>\n",
              "      <td id=\"T_8ba56_row1_col2\" class=\"data row1 col2\" >0.157857</td>\n",
              "      <td id=\"T_8ba56_row1_col3\" class=\"data row1 col3\" >0.078601</td>\n",
              "    </tr>\n",
              "    <tr>\n",
              "      <th id=\"T_8ba56_level0_row2\" class=\"row_heading level0 row2\" >int_news_time</th>\n",
              "      <td id=\"T_8ba56_row2_col0\" class=\"data row2 col0\" >0.416359</td>\n",
              "      <td id=\"T_8ba56_row2_col1\" class=\"data row2 col1\" >0.000136</td>\n",
              "      <td id=\"T_8ba56_row2_col2\" class=\"data row2 col2\" >0.296613</td>\n",
              "      <td id=\"T_8ba56_row2_col3\" class=\"data row2 col3\" >0.006881</td>\n",
              "    </tr>\n",
              "    <tr>\n",
              "      <th id=\"T_8ba56_level0_row3\" class=\"row_heading level0 row3\" >TV_debate</th>\n",
              "      <td id=\"T_8ba56_row3_col0\" class=\"data row3 col0\" >0.208112</td>\n",
              "      <td id=\"T_8ba56_row3_col1\" class=\"data row3 col1\" >0.207312</td>\n",
              "      <td id=\"T_8ba56_row3_col2\" class=\"data row3 col2\" >0.467451</td>\n",
              "      <td id=\"T_8ba56_row3_col3\" class=\"data row3 col3\" >0.203049</td>\n",
              "    </tr>\n",
              "    <tr>\n",
              "      <th id=\"T_8ba56_level0_row4\" class=\"row_heading level0 row4\" >read_media</th>\n",
              "      <td id=\"T_8ba56_row4_col0\" class=\"data row4 col0\" >0.598707</td>\n",
              "      <td id=\"T_8ba56_row4_col1\" class=\"data row4 col1\" >0.125468</td>\n",
              "      <td id=\"T_8ba56_row4_col2\" class=\"data row4 col2\" >0.362657</td>\n",
              "      <td id=\"T_8ba56_row4_col3\" class=\"data row4 col3\" >0.063921</td>\n",
              "    </tr>\n",
              "    <tr>\n",
              "      <th id=\"T_8ba56_level0_row5\" class=\"row_heading level0 row5\" >like_media</th>\n",
              "      <td id=\"T_8ba56_row5_col0\" class=\"data row5 col0\" >0.629836</td>\n",
              "      <td id=\"T_8ba56_row5_col1\" class=\"data row5 col1\" >0.048903</td>\n",
              "      <td id=\"T_8ba56_row5_col2\" class=\"data row5 col2\" >0.216531</td>\n",
              "      <td id=\"T_8ba56_row5_col3\" class=\"data row5 col3\" >0.067014</td>\n",
              "    </tr>\n",
              "    <tr>\n",
              "      <th id=\"T_8ba56_level0_row6\" class=\"row_heading level0 row6\" >share_media</th>\n",
              "      <td id=\"T_8ba56_row6_col0\" class=\"data row6 col0\" >0.600315</td>\n",
              "      <td id=\"T_8ba56_row6_col1\" class=\"data row6 col1\" >0.047601</td>\n",
              "      <td id=\"T_8ba56_row6_col2\" class=\"data row6 col2\" >-0.021777</td>\n",
              "      <td id=\"T_8ba56_row6_col3\" class=\"data row6 col3\" >0.136630</td>\n",
              "    </tr>\n",
              "    <tr>\n",
              "      <th id=\"T_8ba56_level0_row7\" class=\"row_heading level0 row7\" >comment_media</th>\n",
              "      <td id=\"T_8ba56_row7_col0\" class=\"data row7 col0\" >0.568489</td>\n",
              "      <td id=\"T_8ba56_row7_col1\" class=\"data row7 col1\" >-0.022581</td>\n",
              "      <td id=\"T_8ba56_row7_col2\" class=\"data row7 col2\" >0.031048</td>\n",
              "      <td id=\"T_8ba56_row7_col3\" class=\"data row7 col3\" >0.177959</td>\n",
              "    </tr>\n",
              "    <tr>\n",
              "      <th id=\"T_8ba56_level0_row8\" class=\"row_heading level0 row8\" >int_discuss</th>\n",
              "      <td id=\"T_8ba56_row8_col0\" class=\"data row8 col0\" >0.395835</td>\n",
              "      <td id=\"T_8ba56_row8_col1\" class=\"data row8 col1\" >0.030205</td>\n",
              "      <td id=\"T_8ba56_row8_col2\" class=\"data row8 col2\" >0.100321</td>\n",
              "      <td id=\"T_8ba56_row8_col3\" class=\"data row8 col3\" >0.007741</td>\n",
              "    </tr>\n",
              "    <tr>\n",
              "      <th id=\"T_8ba56_level0_row9\" class=\"row_heading level0 row9\" >read_election_news</th>\n",
              "      <td id=\"T_8ba56_row9_col0\" class=\"data row9 col0\" >0.034269</td>\n",
              "      <td id=\"T_8ba56_row9_col1\" class=\"data row9 col1\" >0.359524</td>\n",
              "      <td id=\"T_8ba56_row9_col2\" class=\"data row9 col2\" >0.659196</td>\n",
              "      <td id=\"T_8ba56_row9_col3\" class=\"data row9 col3\" >0.118846</td>\n",
              "    </tr>\n",
              "    <tr>\n",
              "      <th id=\"T_8ba56_level0_row10\" class=\"row_heading level0 row10\" >read_election_leaflet</th>\n",
              "      <td id=\"T_8ba56_row10_col0\" class=\"data row10 col0\" >0.131426</td>\n",
              "      <td id=\"T_8ba56_row10_col1\" class=\"data row10 col1\" >0.224548</td>\n",
              "      <td id=\"T_8ba56_row10_col2\" class=\"data row10 col2\" >0.745567</td>\n",
              "      <td id=\"T_8ba56_row10_col3\" class=\"data row10 col3\" >0.078169</td>\n",
              "    </tr>\n",
              "    <tr>\n",
              "      <th id=\"T_8ba56_level0_row11\" class=\"row_heading level0 row11\" >convince</th>\n",
              "      <td id=\"T_8ba56_row11_col0\" class=\"data row11 col0\" >0.441978</td>\n",
              "      <td id=\"T_8ba56_row11_col1\" class=\"data row11 col1\" >0.163013</td>\n",
              "      <td id=\"T_8ba56_row11_col2\" class=\"data row11 col2\" >0.089002</td>\n",
              "      <td id=\"T_8ba56_row11_col3\" class=\"data row11 col3\" >0.075908</td>\n",
              "    </tr>\n",
              "    <tr>\n",
              "      <th id=\"T_8ba56_level0_row12\" class=\"row_heading level0 row12\" >campaign</th>\n",
              "      <td id=\"T_8ba56_row12_col0\" class=\"data row12 col0\" >0.225264</td>\n",
              "      <td id=\"T_8ba56_row12_col1\" class=\"data row12 col1\" >0.011765</td>\n",
              "      <td id=\"T_8ba56_row12_col2\" class=\"data row12 col2\" >0.097581</td>\n",
              "      <td id=\"T_8ba56_row12_col3\" class=\"data row12 col3\" >0.781470</td>\n",
              "    </tr>\n",
              "    <tr>\n",
              "      <th id=\"T_8ba56_level0_row13\" class=\"row_heading level0 row13\" >volunteer</th>\n",
              "      <td id=\"T_8ba56_row13_col0\" class=\"data row13 col0\" >0.070231</td>\n",
              "      <td id=\"T_8ba56_row13_col1\" class=\"data row13 col1\" >-0.016829</td>\n",
              "      <td id=\"T_8ba56_row13_col2\" class=\"data row13 col2\" >0.170293</td>\n",
              "      <td id=\"T_8ba56_row13_col3\" class=\"data row13 col3\" >0.669699</td>\n",
              "    </tr>\n",
              "    <tr>\n",
              "      <th id=\"T_8ba56_level0_row14\" class=\"row_heading level0 row14\" >election_mayor</th>\n",
              "      <td id=\"T_8ba56_row14_col0\" class=\"data row14 col0\" >0.128497</td>\n",
              "      <td id=\"T_8ba56_row14_col1\" class=\"data row14 col1\" >0.901639</td>\n",
              "      <td id=\"T_8ba56_row14_col2\" class=\"data row14 col2\" >0.225535</td>\n",
              "      <td id=\"T_8ba56_row14_col3\" class=\"data row14 col3\" >0.012550</td>\n",
              "    </tr>\n",
              "    <tr>\n",
              "      <th id=\"T_8ba56_level0_row15\" class=\"row_heading level0 row15\" >election_18</th>\n",
              "      <td id=\"T_8ba56_row15_col0\" class=\"data row15 col0\" >0.096852</td>\n",
              "      <td id=\"T_8ba56_row15_col1\" class=\"data row15 col1\" >0.922784</td>\n",
              "      <td id=\"T_8ba56_row15_col2\" class=\"data row15 col2\" >0.215083</td>\n",
              "      <td id=\"T_8ba56_row15_col3\" class=\"data row15 col3\" >-0.044588</td>\n",
              "    </tr>\n",
              "  </tbody>\n",
              "</table>\n"
            ],
            "text/plain": [
              "<pandas.io.formats.style.Styler at 0x7fc1c20aac40>"
            ]
          },
          "execution_count": 36,
          "metadata": {},
          "output_type": "execute_result"
        }
      ],
      "source": [
        "# Factor analysis with rotation\n",
        "fa = FactorAnalyzer(n_factors = 4, rotation = 'varimax')\n",
        "fa.fit(DV_df)\n",
        "# Create a factor's names\n",
        "facs = ['Factors' + ' ' + str(i + 1) for i in range(4)]\n",
        "print(facs)\n",
        "# Loading factors\n",
        "pd.DataFrame(data = fa.loadings_, index = DV_df.columns, columns = facs).style.apply(Factor_Analysis.highlightLoadings)"
      ]
    },
    {
      "attachments": {},
      "cell_type": "markdown",
      "id": "ac44e5e7-459e-4e9e-b85a-5657ee665d51",
      "metadata": {
        "noteable": {
          "cell_type": "markdown"
        }
      },
      "source": [
        "#### 由上述結果可以發現依變數可以分為4個構面：</b>\n",
        "\n",
        "* 線上媒體政治參與(online_media_pp) : read_media / like_media / share_media / comment_media</b>\n",
        "\n",
        "-> reference : 劉嘉薇，2019\n",
        "* 投票參與(voting) : election_mayor / election_18</b>\n",
        "\n",
        "-> reference : Barnes and  Kaase (1979) \n",
        "\n",
        "* 線下媒體政治參與(offline_media_pp) : read_election_news / read_election_leaflet\n",
        "\n",
        "-> reference : 徐火炎，2001\n",
        "* 競選工作式政治參與(campaign_worker_pp) : campaign / volunteer\n",
        "\n",
        "-> reference : Mibrath and Goel，1977"
      ]
    },
    {
      "cell_type": "code",
      "execution_count": null,
      "id": "e4a07af3-25c0-4aad-be44-90320162cfb9",
      "metadata": {
        "ExecuteTime": {
          "end_time": "2023-06-30T09:40:02.276821+00:00",
          "start_time": "2023-06-30T09:40:01.962450+00:00"
        },
        "datalink": {
          "1ff1b460-556c-46c6-b2c5-3ec1e8859199": {
            "applied_filters": [],
            "dataframe_info": {
              "default_index_used": false,
              "orig_num_cols": 4,
              "orig_num_rows": 4,
              "orig_size_bytes": 160,
              "truncated_num_cols": 4,
              "truncated_num_rows": 4,
              "truncated_size_bytes": 160,
              "truncated_string_columns": []
            },
            "display_id": "1ff1b460-556c-46c6-b2c5-3ec1e8859199",
            "dx_settings": {
              "ALLOW_NOTEABLE_ATTRS": true,
              "COLUMN_SAMPLING_METHOD": "outer",
              "DB_LOCATION": ":memory:",
              "DEV_MODE": false,
              "DISPLAY_MAX_COLUMNS": 100,
              "DISPLAY_MAX_ROWS": 50000,
              "DISPLAY_MODE": "simple",
              "ENABLE_ASSIGNMENT": true,
              "ENABLE_DATALINK": true,
              "FLATTEN_COLUMN_VALUES": true,
              "FLATTEN_INDEX_VALUES": false,
              "GENERATE_DEX_METADATA": false,
              "HTML_TABLE_SCHEMA": false,
              "LOG_LEVEL": 30,
              "MAX_RENDER_SIZE_BYTES": 104857600,
              "MAX_STRING_LENGTH": 250,
              "NUM_PAST_SAMPLES_TRACKED": 3,
              "RANDOM_STATE": 12648430,
              "RESET_INDEX_VALUES": false,
              "ROW_SAMPLING_METHOD": "random",
              "SAMPLING_FACTOR": 0.1,
              "SAMPLING_METHOD": "random",
              "STRINGIFY_COLUMN_VALUES": true,
              "STRINGIFY_INDEX_VALUES": false
            },
            "sample_history": [],
            "sampling_time": "2023-06-30T07:43:52.738630",
            "user_variable_name": null,
            "variable_name": "unk_dataframe_8457f2964311431bb801b503cd360cbe"
          },
          "de21e333-e29e-47d5-ab55-6597932053f5": {
            "applied_filters": [],
            "dataframe_info": {
              "default_index_used": false,
              "orig_num_cols": 4,
              "orig_num_rows": 4,
              "orig_size_bytes": 160,
              "truncated_num_cols": 4,
              "truncated_num_rows": 4,
              "truncated_size_bytes": 160,
              "truncated_string_columns": []
            },
            "display_id": "de21e333-e29e-47d5-ab55-6597932053f5",
            "dx_settings": {
              "ALLOW_NOTEABLE_ATTRS": true,
              "COLUMN_SAMPLING_METHOD": "outer",
              "DB_LOCATION": ":memory:",
              "DEV_MODE": false,
              "DISPLAY_MAX_COLUMNS": 100,
              "DISPLAY_MAX_ROWS": 50000,
              "DISPLAY_MODE": "simple",
              "ENABLE_ASSIGNMENT": true,
              "ENABLE_DATALINK": true,
              "FLATTEN_COLUMN_VALUES": true,
              "FLATTEN_INDEX_VALUES": false,
              "GENERATE_DEX_METADATA": false,
              "HTML_TABLE_SCHEMA": false,
              "LOG_LEVEL": 30,
              "MAX_RENDER_SIZE_BYTES": 104857600,
              "MAX_STRING_LENGTH": 250,
              "NUM_PAST_SAMPLES_TRACKED": 3,
              "RANDOM_STATE": 12648430,
              "RESET_INDEX_VALUES": false,
              "ROW_SAMPLING_METHOD": "random",
              "SAMPLING_FACTOR": 0.1,
              "SAMPLING_METHOD": "random",
              "STRINGIFY_COLUMN_VALUES": true,
              "STRINGIFY_INDEX_VALUES": false
            },
            "sample_history": [],
            "sampling_time": "2023-06-30T08:22:45.439636",
            "user_variable_name": null,
            "variable_name": "unk_dataframe_87373e80730b4353ab01c6e103ee0eeb"
          },
          "f8fd7cd3-adde-4831-81f8-5e54c5713460": {
            "applied_filters": [],
            "dataframe_info": {
              "default_index_used": false,
              "orig_num_cols": 2,
              "orig_num_rows": 4,
              "orig_size_bytes": 96,
              "truncated_num_cols": 2,
              "truncated_num_rows": 4,
              "truncated_size_bytes": 96,
              "truncated_string_columns": []
            },
            "display_id": "f8fd7cd3-adde-4831-81f8-5e54c5713460",
            "dx_settings": {
              "ALLOW_NOTEABLE_ATTRS": true,
              "COLUMN_SAMPLING_METHOD": "outer",
              "DB_LOCATION": ":memory:",
              "DEV_MODE": false,
              "DISPLAY_MAX_COLUMNS": 100,
              "DISPLAY_MAX_ROWS": 50000,
              "DISPLAY_MODE": "simple",
              "ENABLE_ASSIGNMENT": true,
              "ENABLE_DATALINK": true,
              "FLATTEN_COLUMN_VALUES": true,
              "FLATTEN_INDEX_VALUES": false,
              "GENERATE_DEX_METADATA": false,
              "HTML_TABLE_SCHEMA": false,
              "LOG_LEVEL": 30,
              "MAX_RENDER_SIZE_BYTES": 104857600,
              "MAX_STRING_LENGTH": 250,
              "NUM_PAST_SAMPLES_TRACKED": 3,
              "RANDOM_STATE": 12648430,
              "RESET_INDEX_VALUES": false,
              "ROW_SAMPLING_METHOD": "random",
              "SAMPLING_FACTOR": 0.1,
              "SAMPLING_METHOD": "random",
              "STRINGIFY_COLUMN_VALUES": true,
              "STRINGIFY_INDEX_VALUES": false
            },
            "sample_history": [],
            "sampling_time": "2023-06-30T09:40:02.118721",
            "user_variable_name": null,
            "variable_name": "unk_dataframe_0132b21194cc43cd96bd3f313c93ce5b"
          }
        },
        "dx": {
          "dashboard": {
            "multiViews": []
          },
          "fieldMetadata": {},
          "updated": 1688111056702,
          "views": [
            {
              "annotationRules": [],
              "chart": {},
              "chartMode": "grid",
              "confoRules": [],
              "decoration": {
                "footer": "",
                "subtitle": "",
                "title": "Table"
              },
              "facets": [],
              "filterSettings": {
                "SHOW_FILTER_PANEL": true,
                "filters": []
              },
              "id": "first-view",
              "isDefault": true,
              "type": "public",
              "userID": ""
            },
            {
              "annotationRules": [],
              "chart": {
                "tableSparklines": false
              },
              "chartMode": "grid",
              "confoRules": [],
              "decoration": {
                "footer": "",
                "subtitle": "",
                "title": "Table"
              },
              "facets": [],
              "filterSettings": {
                "SHOW_FILTER_PANEL": true,
                "filters": []
              },
              "id": "first-view",
              "isDefault": true,
              "isTransitory": true,
              "type": "public",
              "userID": ""
            }
          ]
        },
        "jupyter": {
          "outputs_hidden": false,
          "source_hidden": false
        },
        "noteable": {
          "cell_type": "code",
          "output_collection_id": "0a4cfc21-d131-4d9e-a7db-15401dd29c65"
        },
        "scrolled": false
      },
      "outputs": [
        {
          "name": "stderr",
          "output_type": "stream",
          "text": [
            "/var/folders/dn/wbyhv8k14697mm1zy19w1jh40000gn/T/ipykernel_82610/1363470732.py:8: FutureWarning: The frame.append method is deprecated and will be removed from pandas in a future version. Use pandas.concat instead.\n"
          ]
        },
        {
          "data": {
            "text/html": [
              "<div>\n",
              "<style scoped>\n",
              "    .dataframe tbody tr th:only-of-type {\n",
              "        vertical-align: middle;\n",
              "    }\n",
              "\n",
              "    .dataframe tbody tr th {\n",
              "        vertical-align: top;\n",
              "    }\n",
              "\n",
              "    .dataframe thead th {\n",
              "        text-align: right;\n",
              "    }\n",
              "</style>\n",
              "<table border=\"1\" class=\"dataframe\">\n",
              "  <thead>\n",
              "    <tr style=\"text-align: right;\">\n",
              "      <th></th>\n",
              "      <th>Factors 1</th>\n",
              "      <th>Factors 2</th>\n",
              "      <th>Factors 3</th>\n",
              "      <th>Factors 4</th>\n",
              "    </tr>\n",
              "  </thead>\n",
              "  <tbody>\n",
              "    <tr>\n",
              "      <th>SS Loadings</th>\n",
              "      <td>2.186075</td>\n",
              "      <td>1.942658</td>\n",
              "      <td>1.737916</td>\n",
              "      <td>1.195815</td>\n",
              "    </tr>\n",
              "    <tr>\n",
              "      <th>Proportion Variance</th>\n",
              "      <td>0.136630</td>\n",
              "      <td>0.121416</td>\n",
              "      <td>0.108620</td>\n",
              "      <td>0.074738</td>\n",
              "    </tr>\n",
              "    <tr>\n",
              "      <th>Cumulative Variance</th>\n",
              "      <td>0.136630</td>\n",
              "      <td>0.258046</td>\n",
              "      <td>0.366666</td>\n",
              "      <td>0.441404</td>\n",
              "    </tr>\n",
              "    <tr>\n",
              "      <th>Ratio Variance</th>\n",
              "      <td>0.309534</td>\n",
              "      <td>0.275068</td>\n",
              "      <td>0.246078</td>\n",
              "      <td>0.169320</td>\n",
              "    </tr>\n",
              "  </tbody>\n",
              "</table>\n",
              "</div>"
            ],
            "text/plain": [
              "                     Factors 1  Factors 2  Factors 3  Factors 4\n",
              "SS Loadings           2.186075   1.942658   1.737916   1.195815\n",
              "Proportion Variance   0.136630   0.121416   0.108620   0.074738\n",
              "Cumulative Variance   0.136630   0.258046   0.366666   0.441404\n",
              "Ratio Variance        0.309534   0.275068   0.246078   0.169320"
            ]
          },
          "execution_count": 38,
          "metadata": {},
          "output_type": "execute_result"
        }
      ],
      "source": [
        "# Explained variance\n",
        "idx = ['SS Loadings', 'Proportion Variance', 'Cumulative Variance']\n",
        "df_variance = pd.DataFrame(data = fa.get_factor_variance(), index = idx, columns = facs)\n",
        "# Ratio of variance\n",
        "ratioVariance = fa.get_factor_variance()[1] / fa.get_factor_variance()[1].sum()\n",
        "df_ratio_var = pd.DataFrame(data = ratioVariance.reshape((1, 4)), index = ['Ratio Variance'], columns = facs)\n",
        "# New completed dataframe\n",
        "df_variance.append(df_ratio_var)"
      ]
    },
    {
      "cell_type": "code",
      "execution_count": null,
      "id": "1fc26260-63c3-4728-bbb6-5de12eccb200",
      "metadata": {
        "ExecuteTime": {
          "end_time": "2023-06-30T09:23:06.370204+00:00",
          "start_time": "2023-06-30T09:23:05.525686+00:00"
        },
        "datalink": {
          "024a7a13-bd4f-4a3d-a652-c610afec4670": {
            "applied_filters": [],
            "dataframe_info": {
              "default_index_used": true,
              "orig_num_cols": 4,
              "orig_num_rows": 503,
              "orig_size_bytes": 20120,
              "truncated_num_cols": 4,
              "truncated_num_rows": 503,
              "truncated_size_bytes": 20120,
              "truncated_string_columns": []
            },
            "display_id": "024a7a13-bd4f-4a3d-a652-c610afec4670",
            "dx_settings": {
              "ALLOW_NOTEABLE_ATTRS": true,
              "COLUMN_SAMPLING_METHOD": "outer",
              "DB_LOCATION": ":memory:",
              "DEV_MODE": false,
              "DISPLAY_MAX_COLUMNS": 100,
              "DISPLAY_MAX_ROWS": 50000,
              "DISPLAY_MODE": "simple",
              "ENABLE_ASSIGNMENT": true,
              "ENABLE_DATALINK": true,
              "FLATTEN_COLUMN_VALUES": true,
              "FLATTEN_INDEX_VALUES": false,
              "GENERATE_DEX_METADATA": false,
              "HTML_TABLE_SCHEMA": false,
              "LOG_LEVEL": 30,
              "MAX_RENDER_SIZE_BYTES": 104857600,
              "MAX_STRING_LENGTH": 250,
              "NUM_PAST_SAMPLES_TRACKED": 3,
              "RANDOM_STATE": 12648430,
              "RESET_INDEX_VALUES": false,
              "ROW_SAMPLING_METHOD": "random",
              "SAMPLING_FACTOR": 0.1,
              "SAMPLING_METHOD": "random",
              "STRINGIFY_COLUMN_VALUES": true,
              "STRINGIFY_INDEX_VALUES": false
            },
            "sample_history": [],
            "sampling_time": "2023-06-30T08:00:53.825938",
            "user_variable_name": "df_factors_DV",
            "variable_name": "df_factors_DV"
          },
          "3d01e4ba-75ea-46f4-a583-461780999a39": {
            "applied_filters": [],
            "dataframe_info": {
              "default_index_used": true,
              "orig_num_cols": 4,
              "orig_num_rows": 503,
              "orig_size_bytes": 20120,
              "truncated_num_cols": 4,
              "truncated_num_rows": 503,
              "truncated_size_bytes": 20120,
              "truncated_string_columns": []
            },
            "display_id": "3d01e4ba-75ea-46f4-a583-461780999a39",
            "dx_settings": {
              "ALLOW_NOTEABLE_ATTRS": true,
              "COLUMN_SAMPLING_METHOD": "outer",
              "DB_LOCATION": ":memory:",
              "DEV_MODE": false,
              "DISPLAY_MAX_COLUMNS": 100,
              "DISPLAY_MAX_ROWS": 50000,
              "DISPLAY_MODE": "simple",
              "ENABLE_ASSIGNMENT": true,
              "ENABLE_DATALINK": true,
              "FLATTEN_COLUMN_VALUES": true,
              "FLATTEN_INDEX_VALUES": false,
              "GENERATE_DEX_METADATA": false,
              "HTML_TABLE_SCHEMA": false,
              "LOG_LEVEL": 30,
              "MAX_RENDER_SIZE_BYTES": 104857600,
              "MAX_STRING_LENGTH": 250,
              "NUM_PAST_SAMPLES_TRACKED": 3,
              "RANDOM_STATE": 12648430,
              "RESET_INDEX_VALUES": false,
              "ROW_SAMPLING_METHOD": "random",
              "SAMPLING_FACTOR": 0.1,
              "SAMPLING_METHOD": "random",
              "STRINGIFY_COLUMN_VALUES": true,
              "STRINGIFY_INDEX_VALUES": false
            },
            "sample_history": [],
            "sampling_time": "2023-06-30T08:42:40.536952",
            "user_variable_name": "df_factors_DV",
            "variable_name": "df_factors_DV"
          },
          "4be0dceb-9be7-43a1-851b-83512977a93a": {
            "applied_filters": [],
            "dataframe_info": {
              "default_index_used": true,
              "orig_num_cols": 4,
              "orig_num_rows": 503,
              "orig_size_bytes": 20120,
              "truncated_num_cols": 4,
              "truncated_num_rows": 503,
              "truncated_size_bytes": 20120,
              "truncated_string_columns": []
            },
            "display_id": "4be0dceb-9be7-43a1-851b-83512977a93a",
            "dx_settings": {
              "ALLOW_NOTEABLE_ATTRS": true,
              "COLUMN_SAMPLING_METHOD": "outer",
              "DB_LOCATION": ":memory:",
              "DEV_MODE": false,
              "DISPLAY_MAX_COLUMNS": 100,
              "DISPLAY_MAX_ROWS": 50000,
              "DISPLAY_MODE": "simple",
              "ENABLE_ASSIGNMENT": true,
              "ENABLE_DATALINK": true,
              "FLATTEN_COLUMN_VALUES": true,
              "FLATTEN_INDEX_VALUES": false,
              "GENERATE_DEX_METADATA": false,
              "HTML_TABLE_SCHEMA": false,
              "LOG_LEVEL": 30,
              "MAX_RENDER_SIZE_BYTES": 104857600,
              "MAX_STRING_LENGTH": 250,
              "NUM_PAST_SAMPLES_TRACKED": 3,
              "RANDOM_STATE": 12648430,
              "RESET_INDEX_VALUES": false,
              "ROW_SAMPLING_METHOD": "random",
              "SAMPLING_FACTOR": 0.1,
              "SAMPLING_METHOD": "random",
              "STRINGIFY_COLUMN_VALUES": true,
              "STRINGIFY_INDEX_VALUES": false
            },
            "sample_history": [],
            "sampling_time": "2023-06-30T09:20:37.682895",
            "user_variable_name": "df_factors_DV",
            "variable_name": "df_factors_DV"
          },
          "4de7d7aa-49b5-46c0-8551-1a7c9611056a": {
            "applied_filters": [],
            "dataframe_info": {
              "default_index_used": true,
              "orig_num_cols": 4,
              "orig_num_rows": 503,
              "orig_size_bytes": 20120,
              "truncated_num_cols": 4,
              "truncated_num_rows": 503,
              "truncated_size_bytes": 20120,
              "truncated_string_columns": []
            },
            "display_id": "4de7d7aa-49b5-46c0-8551-1a7c9611056a",
            "dx_settings": {
              "ALLOW_NOTEABLE_ATTRS": true,
              "COLUMN_SAMPLING_METHOD": "outer",
              "DB_LOCATION": ":memory:",
              "DEV_MODE": false,
              "DISPLAY_MAX_COLUMNS": 100,
              "DISPLAY_MAX_ROWS": 50000,
              "DISPLAY_MODE": "simple",
              "ENABLE_ASSIGNMENT": true,
              "ENABLE_DATALINK": true,
              "FLATTEN_COLUMN_VALUES": true,
              "FLATTEN_INDEX_VALUES": false,
              "GENERATE_DEX_METADATA": false,
              "HTML_TABLE_SCHEMA": false,
              "LOG_LEVEL": 30,
              "MAX_RENDER_SIZE_BYTES": 104857600,
              "MAX_STRING_LENGTH": 250,
              "NUM_PAST_SAMPLES_TRACKED": 3,
              "RANDOM_STATE": 12648430,
              "RESET_INDEX_VALUES": false,
              "ROW_SAMPLING_METHOD": "random",
              "SAMPLING_FACTOR": 0.1,
              "SAMPLING_METHOD": "random",
              "STRINGIFY_COLUMN_VALUES": true,
              "STRINGIFY_INDEX_VALUES": false
            },
            "sample_history": [],
            "sampling_time": "2023-06-30T08:22:57.830361",
            "user_variable_name": "df_factors_DV",
            "variable_name": "df_factors_DV"
          },
          "598daa46-1c3e-4cbb-a139-ca5eea4a41e4": {
            "applied_filters": [],
            "dataframe_info": {
              "default_index_used": true,
              "orig_num_cols": 4,
              "orig_num_rows": 503,
              "orig_size_bytes": 20120,
              "truncated_num_cols": 4,
              "truncated_num_rows": 503,
              "truncated_size_bytes": 20120,
              "truncated_string_columns": []
            },
            "display_id": "598daa46-1c3e-4cbb-a139-ca5eea4a41e4",
            "dx_settings": {
              "ALLOW_NOTEABLE_ATTRS": true,
              "COLUMN_SAMPLING_METHOD": "outer",
              "DB_LOCATION": ":memory:",
              "DEV_MODE": false,
              "DISPLAY_MAX_COLUMNS": 100,
              "DISPLAY_MAX_ROWS": 50000,
              "DISPLAY_MODE": "simple",
              "ENABLE_ASSIGNMENT": true,
              "ENABLE_DATALINK": true,
              "FLATTEN_COLUMN_VALUES": true,
              "FLATTEN_INDEX_VALUES": false,
              "GENERATE_DEX_METADATA": false,
              "HTML_TABLE_SCHEMA": false,
              "LOG_LEVEL": 30,
              "MAX_RENDER_SIZE_BYTES": 104857600,
              "MAX_STRING_LENGTH": 250,
              "NUM_PAST_SAMPLES_TRACKED": 3,
              "RANDOM_STATE": 12648430,
              "RESET_INDEX_VALUES": false,
              "ROW_SAMPLING_METHOD": "random",
              "SAMPLING_FACTOR": 0.1,
              "SAMPLING_METHOD": "random",
              "STRINGIFY_COLUMN_VALUES": true,
              "STRINGIFY_INDEX_VALUES": false
            },
            "sample_history": [],
            "sampling_time": "2023-06-30T09:23:06.203334",
            "user_variable_name": "df_factors_DV",
            "variable_name": "df_factors_DV"
          }
        },
        "jupyter": {
          "outputs_hidden": false,
          "source_hidden": false
        },
        "noteable": {
          "cell_type": "code",
          "output_collection_id": "128f8e17-7c28-418f-8115-ead3fbe08eff"
        }
      },
      "outputs": [
        {
          "data": {
            "text/html": [
              "<div>\n",
              "<style scoped>\n",
              "    .dataframe tbody tr th:only-of-type {\n",
              "        vertical-align: middle;\n",
              "    }\n",
              "\n",
              "    .dataframe tbody tr th {\n",
              "        vertical-align: top;\n",
              "    }\n",
              "\n",
              "    .dataframe thead th {\n",
              "        text-align: right;\n",
              "    }\n",
              "</style>\n",
              "<table border=\"1\" class=\"dataframe\">\n",
              "  <thead>\n",
              "    <tr style=\"text-align: right;\">\n",
              "      <th></th>\n",
              "      <th>Factors 1</th>\n",
              "      <th>Factors 2</th>\n",
              "      <th>Factors 3</th>\n",
              "      <th>Factors 4</th>\n",
              "    </tr>\n",
              "  </thead>\n",
              "  <tbody>\n",
              "    <tr>\n",
              "      <th>0</th>\n",
              "      <td>0.401327</td>\n",
              "      <td>1.090674</td>\n",
              "      <td>-1.326542</td>\n",
              "      <td>-0.408041</td>\n",
              "    </tr>\n",
              "    <tr>\n",
              "      <th>1</th>\n",
              "      <td>0.174039</td>\n",
              "      <td>-1.503807</td>\n",
              "      <td>0.263618</td>\n",
              "      <td>-0.413159</td>\n",
              "    </tr>\n",
              "    <tr>\n",
              "      <th>2</th>\n",
              "      <td>0.268508</td>\n",
              "      <td>-0.493079</td>\n",
              "      <td>-1.069408</td>\n",
              "      <td>-0.314089</td>\n",
              "    </tr>\n",
              "    <tr>\n",
              "      <th>3</th>\n",
              "      <td>0.614651</td>\n",
              "      <td>0.756339</td>\n",
              "      <td>0.826183</td>\n",
              "      <td>-0.460537</td>\n",
              "    </tr>\n",
              "    <tr>\n",
              "      <th>4</th>\n",
              "      <td>1.106974</td>\n",
              "      <td>0.230415</td>\n",
              "      <td>-0.299575</td>\n",
              "      <td>-0.609832</td>\n",
              "    </tr>\n",
              "    <tr>\n",
              "      <th>...</th>\n",
              "      <td>...</td>\n",
              "      <td>...</td>\n",
              "      <td>...</td>\n",
              "      <td>...</td>\n",
              "    </tr>\n",
              "    <tr>\n",
              "      <th>498</th>\n",
              "      <td>-0.537318</td>\n",
              "      <td>0.600628</td>\n",
              "      <td>1.502293</td>\n",
              "      <td>-0.276675</td>\n",
              "    </tr>\n",
              "    <tr>\n",
              "      <th>499</th>\n",
              "      <td>0.982530</td>\n",
              "      <td>0.584389</td>\n",
              "      <td>0.723440</td>\n",
              "      <td>-0.687787</td>\n",
              "    </tr>\n",
              "    <tr>\n",
              "      <th>500</th>\n",
              "      <td>-0.673782</td>\n",
              "      <td>-1.172304</td>\n",
              "      <td>-1.105332</td>\n",
              "      <td>-0.073598</td>\n",
              "    </tr>\n",
              "    <tr>\n",
              "      <th>501</th>\n",
              "      <td>-0.673782</td>\n",
              "      <td>-1.172304</td>\n",
              "      <td>-1.105332</td>\n",
              "      <td>-0.073598</td>\n",
              "    </tr>\n",
              "    <tr>\n",
              "      <th>502</th>\n",
              "      <td>-0.673782</td>\n",
              "      <td>-1.172304</td>\n",
              "      <td>-1.105332</td>\n",
              "      <td>-0.073598</td>\n",
              "    </tr>\n",
              "  </tbody>\n",
              "</table>\n",
              "<p>503 rows × 4 columns</p>\n",
              "</div>"
            ],
            "text/plain": [
              "     Factors 1  Factors 2  Factors 3  Factors 4\n",
              "0     0.401327   1.090674  -1.326542  -0.408041\n",
              "1     0.174039  -1.503807   0.263618  -0.413159\n",
              "2     0.268508  -0.493079  -1.069408  -0.314089\n",
              "3     0.614651   0.756339   0.826183  -0.460537\n",
              "4     1.106974   0.230415  -0.299575  -0.609832\n",
              "..         ...        ...        ...        ...\n",
              "498  -0.537318   0.600628   1.502293  -0.276675\n",
              "499   0.982530   0.584389   0.723440  -0.687787\n",
              "500  -0.673782  -1.172304  -1.105332  -0.073598\n",
              "501  -0.673782  -1.172304  -1.105332  -0.073598\n",
              "502  -0.673782  -1.172304  -1.105332  -0.073598\n",
              "\n",
              "[503 rows x 4 columns]"
            ]
          },
          "execution_count": 39,
          "metadata": {},
          "output_type": "execute_result"
        }
      ],
      "source": [
        "df_factors = pd.DataFrame(data = fa.fit_transform(DV_df),columns = facs)\n",
        "df_factors                     "
      ]
    },
    {
      "attachments": {},
      "cell_type": "markdown",
      "id": "51aa365e-41e1-4012-87af-35bb7b7fd9bb",
      "metadata": {
        "noteable": {
          "cell_type": "markdown"
        }
      },
      "source": [
        "### Establish Index with mean method after FAC"
      ]
    },
    {
      "cell_type": "code",
      "execution_count": null,
      "id": "7e8e3a89-00e1-495c-82c8-af55b0ef8b8d",
      "metadata": {
        "ExecuteTime": {
          "end_time": "2023-06-30T09:44:07.374216+00:00",
          "start_time": "2023-06-30T09:44:07.218195+00:00"
        },
        "jupyter": {
          "outputs_hidden": false,
          "source_hidden": false
        },
        "noteable": {
          "cell_type": "code",
          "output_collection_id": "41cec827-9405-4a98-8099-b2eea785a281"
        }
      },
      "outputs": [],
      "source": [
        "online_media_pp_vars = ['read_media', 'like_media', 'share_media', 'comment_media']\n",
        "voting_vars = ['election_mayor', 'election_18']\n",
        "offline_media_pp_vars = ['read_election_news', 'read_election_leaflet']\n",
        "campaign_worker_pp_vars = ['campaign', 'volunteer']"
      ]
    },
    {
      "cell_type": "code",
      "execution_count": null,
      "id": "7723885f-f914-475d-aa8f-68e293cd96cf",
      "metadata": {
        "ExecuteTime": {
          "end_time": "2023-06-30T09:44:07.576356+00:00",
          "start_time": "2023-06-30T09:44:07.383419+00:00"
        },
        "jupyter": {
          "outputs_hidden": false,
          "source_hidden": false
        },
        "noteable": {
          "cell_type": "code",
          "output_collection_id": "630fc49e-1e3b-4415-b805-4896cabd3ae9"
        }
      },
      "outputs": [],
      "source": [
        "# Calculate the scores for each factor\n",
        "ml_df['online_media_pp_mean'] = ml_df[online_media_pp_vars].mean(axis=1)\n",
        "ml_df['voting_mean'] = ml_df[voting_vars].mean(axis=1)\n",
        "ml_df['offline_media_pp_mean'] = ml_df[offline_media_pp_vars].mean(axis=1)\n",
        "ml_df['campaign_worker_pp_mean'] = ml_df[campaign_worker_pp_vars].mean(axis=1)"
      ]
    },
    {
      "attachments": {},
      "cell_type": "markdown",
      "id": "d7b0a685",
      "metadata": {},
      "source": [
        "### Establish Index with Factor Scores after FAC"
      ]
    },
    {
      "cell_type": "code",
      "execution_count": null,
      "id": "5e8bdc39",
      "metadata": {},
      "outputs": [],
      "source": [
        "df_factors.rename(columns = {'Factors 1': 'online_media_pp', \n",
        "                             'Factors 2': 'voting',\n",
        "                             'Factors 3': 'offline_media_pp',\n",
        "                             'Factors 4': 'campaign_worker_pp'}, inplace = True)\n",
        "ml_df = ml_df.join(df_factors)"
      ]
    },
    {
      "cell_type": "code",
      "execution_count": null,
      "id": "8223ca7e",
      "metadata": {},
      "outputs": [
        {
          "data": {
            "text/html": [
              "<div>\n",
              "<style scoped>\n",
              "    .dataframe tbody tr th:only-of-type {\n",
              "        vertical-align: middle;\n",
              "    }\n",
              "\n",
              "    .dataframe tbody tr th {\n",
              "        vertical-align: top;\n",
              "    }\n",
              "\n",
              "    .dataframe thead th {\n",
              "        text-align: right;\n",
              "    }\n",
              "</style>\n",
              "<table border=\"1\" class=\"dataframe\">\n",
              "  <thead>\n",
              "    <tr style=\"text-align: right;\">\n",
              "      <th></th>\n",
              "      <th>TV_news_time</th>\n",
              "      <th>news_paper_time</th>\n",
              "      <th>int_news_time</th>\n",
              "      <th>TV_debate</th>\n",
              "      <th>read_media</th>\n",
              "      <th>like_media</th>\n",
              "      <th>share_media</th>\n",
              "      <th>comment_media</th>\n",
              "      <th>int_discuss</th>\n",
              "      <th>read_election_news</th>\n",
              "      <th>...</th>\n",
              "      <th>Negative_2</th>\n",
              "      <th>Negative_3</th>\n",
              "      <th>online_media_pp_mean</th>\n",
              "      <th>voting_mean</th>\n",
              "      <th>offline_media_pp_mean</th>\n",
              "      <th>campaign_worker_pp_mean</th>\n",
              "      <th>online_media_pp</th>\n",
              "      <th>voting</th>\n",
              "      <th>offline_media_pp</th>\n",
              "      <th>campaign_worker_pp</th>\n",
              "    </tr>\n",
              "  </thead>\n",
              "  <tbody>\n",
              "    <tr>\n",
              "      <th>0</th>\n",
              "      <td>1.0</td>\n",
              "      <td>1.0</td>\n",
              "      <td>1.0</td>\n",
              "      <td>1.0</td>\n",
              "      <td>3.0</td>\n",
              "      <td>2.0</td>\n",
              "      <td>1.0</td>\n",
              "      <td>1.0</td>\n",
              "      <td>2.0</td>\n",
              "      <td>1.0</td>\n",
              "      <td>...</td>\n",
              "      <td>轉而支持其他候選人</td>\n",
              "      <td>轉而支持其他候選人</td>\n",
              "      <td>1.75</td>\n",
              "      <td>4.0</td>\n",
              "      <td>1.0</td>\n",
              "      <td>1.0</td>\n",
              "      <td>0.401327</td>\n",
              "      <td>1.090674</td>\n",
              "      <td>-1.326542</td>\n",
              "      <td>-0.408041</td>\n",
              "    </tr>\n",
              "    <tr>\n",
              "      <th>1</th>\n",
              "      <td>1.0</td>\n",
              "      <td>1.0</td>\n",
              "      <td>1.0</td>\n",
              "      <td>1.0</td>\n",
              "      <td>2.0</td>\n",
              "      <td>3.0</td>\n",
              "      <td>1.0</td>\n",
              "      <td>1.0</td>\n",
              "      <td>2.0</td>\n",
              "      <td>2.0</td>\n",
              "      <td>...</td>\n",
              "      <td>沒有影響</td>\n",
              "      <td>沒有影響</td>\n",
              "      <td>1.75</td>\n",
              "      <td>1.0</td>\n",
              "      <td>2.5</td>\n",
              "      <td>1.0</td>\n",
              "      <td>0.174039</td>\n",
              "      <td>-1.503807</td>\n",
              "      <td>0.263618</td>\n",
              "      <td>-0.413159</td>\n",
              "    </tr>\n",
              "    <tr>\n",
              "      <th>2</th>\n",
              "      <td>1.0</td>\n",
              "      <td>1.0</td>\n",
              "      <td>1.0</td>\n",
              "      <td>1.0</td>\n",
              "      <td>3.0</td>\n",
              "      <td>1.0</td>\n",
              "      <td>1.0</td>\n",
              "      <td>1.0</td>\n",
              "      <td>2.0</td>\n",
              "      <td>1.0</td>\n",
              "      <td>...</td>\n",
              "      <td>轉而支持其他候選人</td>\n",
              "      <td>轉而支持其他候選人</td>\n",
              "      <td>1.50</td>\n",
              "      <td>2.0</td>\n",
              "      <td>1.0</td>\n",
              "      <td>1.0</td>\n",
              "      <td>0.268508</td>\n",
              "      <td>-0.493079</td>\n",
              "      <td>-1.069408</td>\n",
              "      <td>-0.314089</td>\n",
              "    </tr>\n",
              "    <tr>\n",
              "      <th>3</th>\n",
              "      <td>1.0</td>\n",
              "      <td>1.0</td>\n",
              "      <td>1.0</td>\n",
              "      <td>3.0</td>\n",
              "      <td>4.0</td>\n",
              "      <td>2.0</td>\n",
              "      <td>1.0</td>\n",
              "      <td>1.0</td>\n",
              "      <td>2.0</td>\n",
              "      <td>4.0</td>\n",
              "      <td>...</td>\n",
              "      <td>沒有影響</td>\n",
              "      <td>轉而支持其他候選人</td>\n",
              "      <td>2.00</td>\n",
              "      <td>4.0</td>\n",
              "      <td>3.5</td>\n",
              "      <td>1.0</td>\n",
              "      <td>0.614651</td>\n",
              "      <td>0.756339</td>\n",
              "      <td>0.826183</td>\n",
              "      <td>-0.460537</td>\n",
              "    </tr>\n",
              "    <tr>\n",
              "      <th>4</th>\n",
              "      <td>1.0</td>\n",
              "      <td>1.0</td>\n",
              "      <td>1.0</td>\n",
              "      <td>1.0</td>\n",
              "      <td>3.0</td>\n",
              "      <td>2.0</td>\n",
              "      <td>2.0</td>\n",
              "      <td>1.0</td>\n",
              "      <td>3.0</td>\n",
              "      <td>2.0</td>\n",
              "      <td>...</td>\n",
              "      <td>轉而支持其他候選人</td>\n",
              "      <td>沒有影響</td>\n",
              "      <td>2.00</td>\n",
              "      <td>3.0</td>\n",
              "      <td>2.5</td>\n",
              "      <td>1.0</td>\n",
              "      <td>1.106974</td>\n",
              "      <td>0.230415</td>\n",
              "      <td>-0.299575</td>\n",
              "      <td>-0.609832</td>\n",
              "    </tr>\n",
              "    <tr>\n",
              "      <th>...</th>\n",
              "      <td>...</td>\n",
              "      <td>...</td>\n",
              "      <td>...</td>\n",
              "      <td>...</td>\n",
              "      <td>...</td>\n",
              "      <td>...</td>\n",
              "      <td>...</td>\n",
              "      <td>...</td>\n",
              "      <td>...</td>\n",
              "      <td>...</td>\n",
              "      <td>...</td>\n",
              "      <td>...</td>\n",
              "      <td>...</td>\n",
              "      <td>...</td>\n",
              "      <td>...</td>\n",
              "      <td>...</td>\n",
              "      <td>...</td>\n",
              "      <td>...</td>\n",
              "      <td>...</td>\n",
              "      <td>...</td>\n",
              "      <td>...</td>\n",
              "    </tr>\n",
              "    <tr>\n",
              "      <th>498</th>\n",
              "      <td>2.0</td>\n",
              "      <td>2.0</td>\n",
              "      <td>1.0</td>\n",
              "      <td>4.0</td>\n",
              "      <td>1.0</td>\n",
              "      <td>1.0</td>\n",
              "      <td>1.0</td>\n",
              "      <td>1.0</td>\n",
              "      <td>4.0</td>\n",
              "      <td>4.0</td>\n",
              "      <td>...</td>\n",
              "      <td>沒有影響</td>\n",
              "      <td>沒有影響</td>\n",
              "      <td>1.00</td>\n",
              "      <td>4.0</td>\n",
              "      <td>4.0</td>\n",
              "      <td>1.0</td>\n",
              "      <td>-0.537318</td>\n",
              "      <td>0.600628</td>\n",
              "      <td>1.502293</td>\n",
              "      <td>-0.276675</td>\n",
              "    </tr>\n",
              "    <tr>\n",
              "      <th>499</th>\n",
              "      <td>2.0</td>\n",
              "      <td>1.0</td>\n",
              "      <td>3.0</td>\n",
              "      <td>2.0</td>\n",
              "      <td>3.0</td>\n",
              "      <td>3.0</td>\n",
              "      <td>1.0</td>\n",
              "      <td>1.0</td>\n",
              "      <td>2.0</td>\n",
              "      <td>3.0</td>\n",
              "      <td>...</td>\n",
              "      <td>沒有影響</td>\n",
              "      <td>沒有影響</td>\n",
              "      <td>2.00</td>\n",
              "      <td>4.0</td>\n",
              "      <td>3.0</td>\n",
              "      <td>1.0</td>\n",
              "      <td>0.982530</td>\n",
              "      <td>0.584389</td>\n",
              "      <td>0.723440</td>\n",
              "      <td>-0.687787</td>\n",
              "    </tr>\n",
              "    <tr>\n",
              "      <th>500</th>\n",
              "      <td>1.0</td>\n",
              "      <td>1.0</td>\n",
              "      <td>1.0</td>\n",
              "      <td>1.0</td>\n",
              "      <td>1.0</td>\n",
              "      <td>1.0</td>\n",
              "      <td>1.0</td>\n",
              "      <td>1.0</td>\n",
              "      <td>1.0</td>\n",
              "      <td>1.0</td>\n",
              "      <td>...</td>\n",
              "      <td>轉而支持其他候選人</td>\n",
              "      <td>可能因此不去投票</td>\n",
              "      <td>1.00</td>\n",
              "      <td>1.0</td>\n",
              "      <td>1.0</td>\n",
              "      <td>1.0</td>\n",
              "      <td>-0.673782</td>\n",
              "      <td>-1.172304</td>\n",
              "      <td>-1.105332</td>\n",
              "      <td>-0.073598</td>\n",
              "    </tr>\n",
              "    <tr>\n",
              "      <th>501</th>\n",
              "      <td>1.0</td>\n",
              "      <td>1.0</td>\n",
              "      <td>1.0</td>\n",
              "      <td>1.0</td>\n",
              "      <td>1.0</td>\n",
              "      <td>1.0</td>\n",
              "      <td>1.0</td>\n",
              "      <td>1.0</td>\n",
              "      <td>1.0</td>\n",
              "      <td>1.0</td>\n",
              "      <td>...</td>\n",
              "      <td>轉而支持其他候選人</td>\n",
              "      <td>轉而支持其他候選人</td>\n",
              "      <td>1.00</td>\n",
              "      <td>1.0</td>\n",
              "      <td>1.0</td>\n",
              "      <td>1.0</td>\n",
              "      <td>-0.673782</td>\n",
              "      <td>-1.172304</td>\n",
              "      <td>-1.105332</td>\n",
              "      <td>-0.073598</td>\n",
              "    </tr>\n",
              "    <tr>\n",
              "      <th>502</th>\n",
              "      <td>1.0</td>\n",
              "      <td>1.0</td>\n",
              "      <td>1.0</td>\n",
              "      <td>1.0</td>\n",
              "      <td>1.0</td>\n",
              "      <td>1.0</td>\n",
              "      <td>1.0</td>\n",
              "      <td>1.0</td>\n",
              "      <td>1.0</td>\n",
              "      <td>1.0</td>\n",
              "      <td>...</td>\n",
              "      <td>沒有影響</td>\n",
              "      <td>沒有影響</td>\n",
              "      <td>1.00</td>\n",
              "      <td>1.0</td>\n",
              "      <td>1.0</td>\n",
              "      <td>1.0</td>\n",
              "      <td>-0.673782</td>\n",
              "      <td>-1.172304</td>\n",
              "      <td>-1.105332</td>\n",
              "      <td>-0.073598</td>\n",
              "    </tr>\n",
              "  </tbody>\n",
              "</table>\n",
              "<p>503 rows × 41 columns</p>\n",
              "</div>"
            ],
            "text/plain": [
              "     TV_news_time  news_paper_time  int_news_time  TV_debate  read_media  \\\n",
              "0             1.0              1.0            1.0        1.0         3.0   \n",
              "1             1.0              1.0            1.0        1.0         2.0   \n",
              "2             1.0              1.0            1.0        1.0         3.0   \n",
              "3             1.0              1.0            1.0        3.0         4.0   \n",
              "4             1.0              1.0            1.0        1.0         3.0   \n",
              "..            ...              ...            ...        ...         ...   \n",
              "498           2.0              2.0            1.0        4.0         1.0   \n",
              "499           2.0              1.0            3.0        2.0         3.0   \n",
              "500           1.0              1.0            1.0        1.0         1.0   \n",
              "501           1.0              1.0            1.0        1.0         1.0   \n",
              "502           1.0              1.0            1.0        1.0         1.0   \n",
              "\n",
              "     like_media  share_media  comment_media  int_discuss  read_election_news  \\\n",
              "0           2.0          1.0            1.0          2.0                 1.0   \n",
              "1           3.0          1.0            1.0          2.0                 2.0   \n",
              "2           1.0          1.0            1.0          2.0                 1.0   \n",
              "3           2.0          1.0            1.0          2.0                 4.0   \n",
              "4           2.0          2.0            1.0          3.0                 2.0   \n",
              "..          ...          ...            ...          ...                 ...   \n",
              "498         1.0          1.0            1.0          4.0                 4.0   \n",
              "499         3.0          1.0            1.0          2.0                 3.0   \n",
              "500         1.0          1.0            1.0          1.0                 1.0   \n",
              "501         1.0          1.0            1.0          1.0                 1.0   \n",
              "502         1.0          1.0            1.0          1.0                 1.0   \n",
              "\n",
              "     ...  Negative_2  Negative_3  online_media_pp_mean  voting_mean  \\\n",
              "0    ...   轉而支持其他候選人   轉而支持其他候選人                  1.75          4.0   \n",
              "1    ...        沒有影響        沒有影響                  1.75          1.0   \n",
              "2    ...   轉而支持其他候選人   轉而支持其他候選人                  1.50          2.0   \n",
              "3    ...        沒有影響   轉而支持其他候選人                  2.00          4.0   \n",
              "4    ...   轉而支持其他候選人        沒有影響                  2.00          3.0   \n",
              "..   ...         ...         ...                   ...          ...   \n",
              "498  ...        沒有影響        沒有影響                  1.00          4.0   \n",
              "499  ...        沒有影響        沒有影響                  2.00          4.0   \n",
              "500  ...   轉而支持其他候選人    可能因此不去投票                  1.00          1.0   \n",
              "501  ...   轉而支持其他候選人   轉而支持其他候選人                  1.00          1.0   \n",
              "502  ...        沒有影響        沒有影響                  1.00          1.0   \n",
              "\n",
              "     offline_media_pp_mean  campaign_worker_pp_mean  online_media_pp  \\\n",
              "0                      1.0                      1.0         0.401327   \n",
              "1                      2.5                      1.0         0.174039   \n",
              "2                      1.0                      1.0         0.268508   \n",
              "3                      3.5                      1.0         0.614651   \n",
              "4                      2.5                      1.0         1.106974   \n",
              "..                     ...                      ...              ...   \n",
              "498                    4.0                      1.0        -0.537318   \n",
              "499                    3.0                      1.0         0.982530   \n",
              "500                    1.0                      1.0        -0.673782   \n",
              "501                    1.0                      1.0        -0.673782   \n",
              "502                    1.0                      1.0        -0.673782   \n",
              "\n",
              "       voting  offline_media_pp  campaign_worker_pp  \n",
              "0    1.090674         -1.326542           -0.408041  \n",
              "1   -1.503807          0.263618           -0.413159  \n",
              "2   -0.493079         -1.069408           -0.314089  \n",
              "3    0.756339          0.826183           -0.460537  \n",
              "4    0.230415         -0.299575           -0.609832  \n",
              "..        ...               ...                 ...  \n",
              "498  0.600628          1.502293           -0.276675  \n",
              "499  0.584389          0.723440           -0.687787  \n",
              "500 -1.172304         -1.105332           -0.073598  \n",
              "501 -1.172304         -1.105332           -0.073598  \n",
              "502 -1.172304         -1.105332           -0.073598  \n",
              "\n",
              "[503 rows x 41 columns]"
            ]
          },
          "execution_count": 44,
          "metadata": {},
          "output_type": "execute_result"
        }
      ],
      "source": [
        "ml_df"
      ]
    },
    {
      "attachments": {},
      "cell_type": "markdown",
      "id": "ed042e44",
      "metadata": {},
      "source": [
        "### Establish Index with Total Scores : goruping to offlinepp and onlinepp before FAC\n",
        "Total_Scores = (factor1_value * factor1_Proportion + factor2_value * factor2_Proportion) / Cumulative Variance"
      ]
    },
    {
      "cell_type": "code",
      "execution_count": null,
      "id": "adb2c370",
      "metadata": {},
      "outputs": [],
      "source": [
        "online_pp_vars = ['TV_news_time', 'news_paper_time', 'int_news_time', 'TV_debate', 'read_media', 'like_media', 'share_media', 'comment_media', 'int_discuss']\n",
        "offline_pp_vars = ['read_election_news', 'read_election_leaflet', 'convince', 'campaign', 'volunteer', 'election_mayor', 'election_18']\n",
        "online_pp_df = ml_df[online_pp_vars]\n",
        "offline_pp_df = ml_df[offline_pp_vars]"
      ]
    },
    {
      "attachments": {},
      "cell_type": "markdown",
      "id": "995ce098",
      "metadata": {},
      "source": [
        "#### Online PP"
      ]
    },
    {
      "cell_type": "code",
      "execution_count": null,
      "id": "833772ab",
      "metadata": {},
      "outputs": [
        {
          "name": "stdout",
          "output_type": "stream",
          "text": [
            "-------------------- offlnie_pp --------------------\n",
            "\n",
            "\n",
            "* Bartlett's test\n",
            "Chi-square value : 784.803\n",
            "p-value          : 0.0\n",
            "\n",
            "\n",
            "* Kaiser-Meyer-Olkin\n",
            "KMO value : 0.77\n"
          ]
        }
      ],
      "source": [
        "print('-' * 20 + \" offlnie_pp \" + '-' * 20)\n",
        "print('\\n')\n",
        "print(\"* Bartlett's test\")\n",
        "chiSquareValue, pValue = calculate_bartlett_sphericity(online_pp_df)\n",
        "print('Chi-square value : {}'.format(round(chiSquareValue, ndigits = 3)))\n",
        "print('p-value          : {}'.format(round(pValue, ndigits = 3)))\n",
        "print('\\n')\n",
        "print('* Kaiser-Meyer-Olkin')\n",
        "KMO, KMO_model = calculate_kmo(online_pp_df)\n",
        "print('KMO value : {}'.format(round(KMO_model, ndigits = 3)))"
      ]
    },
    {
      "attachments": {},
      "cell_type": "markdown",
      "id": "d041ddd8",
      "metadata": {},
      "source": [
        "The Bartlett test produces a p-value that is less than 0.05. It means, we reject the null hypothesis or in this case, at least two population variances are different."
      ]
    },
    {
      "cell_type": "code",
      "execution_count": null,
      "metadata": {},
      "outputs": [
        {
          "data": {
            "text/html": [
              "<style type=\"text/css\">\n",
              "#T_aa581_row4_col1, #T_aa581_row5_col1, #T_aa581_row6_col1, #T_aa581_row7_col1 {\n",
              "  background-color: yellow;\n",
              "}\n",
              "</style>\n",
              "<table id=\"T_aa581\">\n",
              "  <thead>\n",
              "    <tr>\n",
              "      <th class=\"blank level0\" >&nbsp;</th>\n",
              "      <th id=\"T_aa581_level0_col0\" class=\"col_heading level0 col0\" >Column</th>\n",
              "      <th id=\"T_aa581_level0_col1\" class=\"col_heading level0 col1\" >Communality</th>\n",
              "    </tr>\n",
              "  </thead>\n",
              "  <tbody>\n",
              "    <tr>\n",
              "      <th id=\"T_aa581_level0_row0\" class=\"row_heading level0 row0\" >0</th>\n",
              "      <td id=\"T_aa581_row0_col0\" class=\"data row0 col0\" >TV_news_time</td>\n",
              "      <td id=\"T_aa581_row0_col1\" class=\"data row0 col1\" >0.414622</td>\n",
              "    </tr>\n",
              "    <tr>\n",
              "      <th id=\"T_aa581_level0_row1\" class=\"row_heading level0 row1\" >1</th>\n",
              "      <td id=\"T_aa581_row1_col0\" class=\"data row1 col0\" >news_paper_time</td>\n",
              "      <td id=\"T_aa581_row1_col1\" class=\"data row1 col1\" >0.238235</td>\n",
              "    </tr>\n",
              "    <tr>\n",
              "      <th id=\"T_aa581_level0_row2\" class=\"row_heading level0 row2\" >2</th>\n",
              "      <td id=\"T_aa581_row2_col0\" class=\"data row2 col0\" >int_news_time</td>\n",
              "      <td id=\"T_aa581_row2_col1\" class=\"data row2 col1\" >0.449395</td>\n",
              "    </tr>\n",
              "    <tr>\n",
              "      <th id=\"T_aa581_level0_row3\" class=\"row_heading level0 row3\" >3</th>\n",
              "      <td id=\"T_aa581_row3_col0\" class=\"data row3 col0\" >TV_debate</td>\n",
              "      <td id=\"T_aa581_row3_col1\" class=\"data row3 col1\" >0.369029</td>\n",
              "    </tr>\n",
              "    <tr>\n",
              "      <th id=\"T_aa581_level0_row4\" class=\"row_heading level0 row4\" >4</th>\n",
              "      <td id=\"T_aa581_row4_col0\" class=\"data row4 col0\" >read_media</td>\n",
              "      <td id=\"T_aa581_row4_col1\" class=\"data row4 col1\" >0.777808</td>\n",
              "    </tr>\n",
              "    <tr>\n",
              "      <th id=\"T_aa581_level0_row5\" class=\"row_heading level0 row5\" >5</th>\n",
              "      <td id=\"T_aa581_row5_col0\" class=\"data row5 col0\" >like_media</td>\n",
              "      <td id=\"T_aa581_row5_col1\" class=\"data row5 col1\" >0.693477</td>\n",
              "    </tr>\n",
              "    <tr>\n",
              "      <th id=\"T_aa581_level0_row6\" class=\"row_heading level0 row6\" >6</th>\n",
              "      <td id=\"T_aa581_row6_col0\" class=\"data row6 col0\" >share_media</td>\n",
              "      <td id=\"T_aa581_row6_col1\" class=\"data row6 col1\" >0.502956</td>\n",
              "    </tr>\n",
              "    <tr>\n",
              "      <th id=\"T_aa581_level0_row7\" class=\"row_heading level0 row7\" >7</th>\n",
              "      <td id=\"T_aa581_row7_col0\" class=\"data row7 col0\" >comment_media</td>\n",
              "      <td id=\"T_aa581_row7_col1\" class=\"data row7 col1\" >0.605432</td>\n",
              "    </tr>\n",
              "    <tr>\n",
              "      <th id=\"T_aa581_level0_row8\" class=\"row_heading level0 row8\" >8</th>\n",
              "      <td id=\"T_aa581_row8_col0\" class=\"data row8 col0\" >int_discuss</td>\n",
              "      <td id=\"T_aa581_row8_col1\" class=\"data row8 col1\" >0.211261</td>\n",
              "    </tr>\n",
              "  </tbody>\n",
              "</table>\n"
            ],
            "text/plain": [
              "<pandas.io.formats.style.Styler at 0x7fc170c9ca60>"
            ]
          },
          "execution_count": 66,
          "metadata": {},
          "output_type": "execute_result"
        }
      ],
      "source": [
        "# Create factor analysis object and perform factor analysis\n",
        "fa = FactorAnalyzer(n_factors = 25, rotation = None)\n",
        "fa.fit(online_pp_df)\n",
        "# The communalities\n",
        "df_communalities_online_pp = pd.DataFrame(data = {'Column': online_pp_df.columns, 'Communality': fa.get_communalities()})\n",
        "df_communalities_online_pp\n",
        "df_communalities_online_pp.style.apply(Factor_Analysis.highlightCommunalities, subset = ['Communality'])"
      ]
    },
    {
      "cell_type": "code",
      "execution_count": null,
      "id": "d2b6e0ee",
      "metadata": {},
      "outputs": [
        {
          "data": {
            "image/png": "[encoded data removed]",
            "text/plain": [
              "<Figure size 1500x900 with 1 Axes>"
            ]
          },
          "metadata": {
            "image/png": {
              "height": 900,
              "width": 1500
            },
            "needs_background": "light"
          },
          "output_type": "display_data"
        },
        {
          "data": {
            "text/plain": [
              "<Figure Size: (1500 x 900)>"
            ]
          },
          "execution_count": 67,
          "metadata": {},
          "output_type": "execute_result"
        }
      ],
      "source": [
        "# Data viz\n",
        "plotnine.options.figure_size = (15, 9)\n",
        "communality_bar = (\n",
        "    ggplot(data = df_communalities_online_pp)+\n",
        "    geom_bar(aes(x = 'Column',\n",
        "                 y = 'Communality'),\n",
        "             width = 0.75,\n",
        "             stat = 'identity')+\n",
        "    geom_hline(yintercept = 0.5)+\n",
        "    scale_x_discrete(limits = df_communalities_online_pp['Column'].tolist())+\n",
        "    labs(title = 'Communalitites of factor analysis')+\n",
        "    xlab('Columns')+\n",
        "    ylab('Communalities')+\n",
        "    theme_minimal()\n",
        ")\n",
        "# Display the viz\n",
        "communality_bar"
      ]
    },
    {
      "cell_type": "code",
      "execution_count": null,
      "id": "3a4b5b15",
      "metadata": {},
      "outputs": [],
      "source": [
        "# Check Eigenvalues\n",
        "eigenValue, value = fa.get_eigenvalues()"
      ]
    },
    {
      "cell_type": "code",
      "execution_count": null,
      "id": "ce3b7ee6",
      "metadata": {},
      "outputs": [
        {
          "data": {
            "text/html": [
              "<style type=\"text/css\">\n",
              "#T_0af0e_row0_col1, #T_0af0e_row1_col1, #T_0af0e_row2_col1 {\n",
              "  background-color: yellow;\n",
              "}\n",
              "</style>\n",
              "<table id=\"T_0af0e\">\n",
              "  <thead>\n",
              "    <tr>\n",
              "      <th class=\"blank level0\" >&nbsp;</th>\n",
              "      <th id=\"T_0af0e_level0_col0\" class=\"col_heading level0 col0\" >Factor</th>\n",
              "      <th id=\"T_0af0e_level0_col1\" class=\"col_heading level0 col1\" >Eigen value</th>\n",
              "    </tr>\n",
              "  </thead>\n",
              "  <tbody>\n",
              "    <tr>\n",
              "      <th id=\"T_0af0e_level0_row0\" class=\"row_heading level0 row0\" >0</th>\n",
              "      <td id=\"T_0af0e_row0_col0\" class=\"data row0 col0\" >1</td>\n",
              "      <td id=\"T_0af0e_row0_col1\" class=\"data row0 col1\" >2.934852</td>\n",
              "    </tr>\n",
              "    <tr>\n",
              "      <th id=\"T_0af0e_level0_row1\" class=\"row_heading level0 row1\" >1</th>\n",
              "      <td id=\"T_0af0e_row1_col0\" class=\"data row1 col0\" >2</td>\n",
              "      <td id=\"T_0af0e_row1_col1\" class=\"data row1 col1\" >1.135618</td>\n",
              "    </tr>\n",
              "    <tr>\n",
              "      <th id=\"T_0af0e_level0_row2\" class=\"row_heading level0 row2\" >2</th>\n",
              "      <td id=\"T_0af0e_row2_col0\" class=\"data row2 col0\" >3</td>\n",
              "      <td id=\"T_0af0e_row2_col1\" class=\"data row2 col1\" >1.068118</td>\n",
              "    </tr>\n",
              "    <tr>\n",
              "      <th id=\"T_0af0e_level0_row3\" class=\"row_heading level0 row3\" >3</th>\n",
              "      <td id=\"T_0af0e_row3_col0\" class=\"data row3 col0\" >4</td>\n",
              "      <td id=\"T_0af0e_row3_col1\" class=\"data row3 col1\" >0.836136</td>\n",
              "    </tr>\n",
              "    <tr>\n",
              "      <th id=\"T_0af0e_level0_row4\" class=\"row_heading level0 row4\" >4</th>\n",
              "      <td id=\"T_0af0e_row4_col0\" class=\"data row4 col0\" >5</td>\n",
              "      <td id=\"T_0af0e_row4_col1\" class=\"data row4 col1\" >0.791042</td>\n",
              "    </tr>\n",
              "    <tr>\n",
              "      <th id=\"T_0af0e_level0_row5\" class=\"row_heading level0 row5\" >5</th>\n",
              "      <td id=\"T_0af0e_row5_col0\" class=\"data row5 col0\" >6</td>\n",
              "      <td id=\"T_0af0e_row5_col1\" class=\"data row5 col1\" >0.664594</td>\n",
              "    </tr>\n",
              "    <tr>\n",
              "      <th id=\"T_0af0e_level0_row6\" class=\"row_heading level0 row6\" >6</th>\n",
              "      <td id=\"T_0af0e_row6_col0\" class=\"data row6 col0\" >7</td>\n",
              "      <td id=\"T_0af0e_row6_col1\" class=\"data row6 col1\" >0.640115</td>\n",
              "    </tr>\n",
              "    <tr>\n",
              "      <th id=\"T_0af0e_level0_row7\" class=\"row_heading level0 row7\" >7</th>\n",
              "      <td id=\"T_0af0e_row7_col0\" class=\"data row7 col0\" >8</td>\n",
              "      <td id=\"T_0af0e_row7_col1\" class=\"data row7 col1\" >0.561833</td>\n",
              "    </tr>\n",
              "    <tr>\n",
              "      <th id=\"T_0af0e_level0_row8\" class=\"row_heading level0 row8\" >8</th>\n",
              "      <td id=\"T_0af0e_row8_col0\" class=\"data row8 col0\" >9</td>\n",
              "      <td id=\"T_0af0e_row8_col1\" class=\"data row8 col1\" >0.367692</td>\n",
              "    </tr>\n",
              "  </tbody>\n",
              "</table>\n"
            ],
            "text/plain": [
              "<pandas.io.formats.style.Styler at 0x7fc1a1625280>"
            ]
          },
          "execution_count": 69,
          "metadata": {},
          "output_type": "execute_result"
        }
      ],
      "source": [
        "# Convert the results into a dataframe\n",
        "df_online_eigen = pd.DataFrame({'Factor': range(1, len(eigenValue) + 1), 'Eigen value': eigenValue})\n",
        "df_online_eigen.style.apply(Factor_Analysis.highlightEigenvalue, subset = ['Eigen value'])"
      ]
    },
    {
      "cell_type": "code",
      "execution_count": null,
      "id": "80d9d23f",
      "metadata": {},
      "outputs": [
        {
          "data": {
            "image/png": "[encoded data removed]",
            "text/plain": [
              "<Figure size 800x480 with 1 Axes>"
            ]
          },
          "metadata": {
            "image/png": {
              "height": 480,
              "width": 800
            },
            "needs_background": "light"
          },
          "output_type": "display_data"
        },
        {
          "data": {
            "text/plain": [
              "<Figure Size: (800 x 480)>"
            ]
          },
          "execution_count": 101,
          "metadata": {},
          "output_type": "execute_result"
        }
      ],
      "source": [
        "# Data viz\n",
        "plotnine.options.figure_size = (8, 4.8)\n",
        "online_scree_eigenvalue = (\n",
        "    ggplot(data = df_online_eigen)+\n",
        "    geom_hline(yintercept = 1)+\n",
        "    geom_line(aes(x = 'Factor',\n",
        "                  y = 'Eigen value'))+\n",
        "    geom_point(aes(x = 'Factor',\n",
        "                   y = 'Eigen value'),\n",
        "               size = 2)+\n",
        "    labs(title = 'Scree plot of eigen value from factor analysis')+\n",
        "    xlab('Factors')+\n",
        "    ylab('Eigenvalue')+\n",
        "    theme_minimal()\n",
        ")\n",
        "# Display the viz\n",
        "online_scree_eigenvalue"
      ]
    },
    {
      "cell_type": "code",
      "execution_count": null,
      "id": "8738c3f1",
      "metadata": {},
      "outputs": [
        {
          "name": "stdout",
          "output_type": "stream",
          "text": [
            "['Factors 1', 'Factors 2', 'Factors 3']\n"
          ]
        },
        {
          "data": {
            "text/html": [
              "<style type=\"text/css\">\n",
              "#T_6e38c_row4_col0, #T_6e38c_row5_col0, #T_6e38c_row6_col1, #T_6e38c_row7_col1 {\n",
              "  background-color: yellow;\n",
              "}\n",
              "</style>\n",
              "<table id=\"T_6e38c\">\n",
              "  <thead>\n",
              "    <tr>\n",
              "      <th class=\"blank level0\" >&nbsp;</th>\n",
              "      <th id=\"T_6e38c_level0_col0\" class=\"col_heading level0 col0\" >Factors 1</th>\n",
              "      <th id=\"T_6e38c_level0_col1\" class=\"col_heading level0 col1\" >Factors 2</th>\n",
              "      <th id=\"T_6e38c_level0_col2\" class=\"col_heading level0 col2\" >Factors 3</th>\n",
              "    </tr>\n",
              "  </thead>\n",
              "  <tbody>\n",
              "    <tr>\n",
              "      <th id=\"T_6e38c_level0_row0\" class=\"row_heading level0 row0\" >TV_news_time</th>\n",
              "      <td id=\"T_6e38c_row0_col0\" class=\"data row0 col0\" >0.263118</td>\n",
              "      <td id=\"T_6e38c_row0_col1\" class=\"data row0 col1\" >0.070958</td>\n",
              "      <td id=\"T_6e38c_row0_col2\" class=\"data row0 col2\" >0.434839</td>\n",
              "    </tr>\n",
              "    <tr>\n",
              "      <th id=\"T_6e38c_level0_row1\" class=\"row_heading level0 row1\" >news_paper_time</th>\n",
              "      <td id=\"T_6e38c_row1_col0\" class=\"data row1 col0\" >-0.012978</td>\n",
              "      <td id=\"T_6e38c_row1_col1\" class=\"data row1 col1\" >0.102923</td>\n",
              "      <td id=\"T_6e38c_row1_col2\" class=\"data row1 col2\" >0.405417</td>\n",
              "    </tr>\n",
              "    <tr>\n",
              "      <th id=\"T_6e38c_level0_row2\" class=\"row_heading level0 row2\" >int_news_time</th>\n",
              "      <td id=\"T_6e38c_row2_col0\" class=\"data row2 col0\" >0.384558</td>\n",
              "      <td id=\"T_6e38c_row2_col1\" class=\"data row2 col1\" >0.177302</td>\n",
              "      <td id=\"T_6e38c_row2_col2\" class=\"data row2 col2\" >0.419706</td>\n",
              "    </tr>\n",
              "    <tr>\n",
              "      <th id=\"T_6e38c_level0_row3\" class=\"row_heading level0 row3\" >TV_debate</th>\n",
              "      <td id=\"T_6e38c_row3_col0\" class=\"data row3 col0\" >0.428353</td>\n",
              "      <td id=\"T_6e38c_row3_col1\" class=\"data row3 col1\" >0.068104</td>\n",
              "      <td id=\"T_6e38c_row3_col2\" class=\"data row3 col2\" >0.168913</td>\n",
              "    </tr>\n",
              "    <tr>\n",
              "      <th id=\"T_6e38c_level0_row4\" class=\"row_heading level0 row4\" >read_media</th>\n",
              "      <td id=\"T_6e38c_row4_col0\" class=\"data row4 col0\" >0.798005</td>\n",
              "      <td id=\"T_6e38c_row4_col1\" class=\"data row4 col1\" >0.272922</td>\n",
              "      <td id=\"T_6e38c_row4_col2\" class=\"data row4 col2\" >0.076706</td>\n",
              "    </tr>\n",
              "    <tr>\n",
              "      <th id=\"T_6e38c_level0_row5\" class=\"row_heading level0 row5\" >like_media</th>\n",
              "      <td id=\"T_6e38c_row5_col0\" class=\"data row5 col0\" >0.534038</td>\n",
              "      <td id=\"T_6e38c_row5_col1\" class=\"data row5 col1\" >0.479717</td>\n",
              "      <td id=\"T_6e38c_row5_col2\" class=\"data row5 col2\" >0.008996</td>\n",
              "    </tr>\n",
              "    <tr>\n",
              "      <th id=\"T_6e38c_level0_row6\" class=\"row_heading level0 row6\" >share_media</th>\n",
              "      <td id=\"T_6e38c_row6_col0\" class=\"data row6 col0\" >0.133200</td>\n",
              "      <td id=\"T_6e38c_row6_col1\" class=\"data row6 col1\" >0.610286</td>\n",
              "      <td id=\"T_6e38c_row6_col2\" class=\"data row6 col2\" >0.148361</td>\n",
              "    </tr>\n",
              "    <tr>\n",
              "      <th id=\"T_6e38c_level0_row7\" class=\"row_heading level0 row7\" >comment_media</th>\n",
              "      <td id=\"T_6e38c_row7_col0\" class=\"data row7 col0\" >0.128193</td>\n",
              "      <td id=\"T_6e38c_row7_col1\" class=\"data row7 col1\" >0.668791</td>\n",
              "      <td id=\"T_6e38c_row7_col2\" class=\"data row7 col2\" >0.145699</td>\n",
              "    </tr>\n",
              "    <tr>\n",
              "      <th id=\"T_6e38c_level0_row8\" class=\"row_heading level0 row8\" >int_discuss</th>\n",
              "      <td id=\"T_6e38c_row8_col0\" class=\"data row8 col0\" >0.230473</td>\n",
              "      <td id=\"T_6e38c_row8_col1\" class=\"data row8 col1\" >0.299298</td>\n",
              "      <td id=\"T_6e38c_row8_col2\" class=\"data row8 col2\" >0.119721</td>\n",
              "    </tr>\n",
              "  </tbody>\n",
              "</table>\n"
            ],
            "text/plain": [
              "<pandas.io.formats.style.Styler at 0x7fc170c937f0>"
            ]
          },
          "execution_count": 73,
          "metadata": {},
          "output_type": "execute_result"
        }
      ],
      "source": [
        "# Factor analysis with rotation\n",
        "fa = FactorAnalyzer(n_factors = 3, rotation = 'varimax')\n",
        "fa.fit(online_pp_df)\n",
        "# Create a factor's names\n",
        "facs = ['Factors' + ' ' + str(i + 1) for i in range(3)]\n",
        "print(facs)\n",
        "# Loading factors\n",
        "pd.DataFrame(data = fa.loadings_, index = online_pp_df.columns, columns = facs).style.apply(Factor_Analysis.highlightLoadings)"
      ]
    },
    {
      "cell_type": "code",
      "execution_count": null,
      "id": "95ecf09a",
      "metadata": {},
      "outputs": [
        {
          "name": "stderr",
          "output_type": "stream",
          "text": [
            "/var/folders/dn/wbyhv8k14697mm1zy19w1jh40000gn/T/ipykernel_82610/3722499014.py:8: FutureWarning: The frame.append method is deprecated and will be removed from pandas in a future version. Use pandas.concat instead.\n"
          ]
        },
        {
          "data": {
            "text/html": [
              "<div>\n",
              "<style scoped>\n",
              "    .dataframe tbody tr th:only-of-type {\n",
              "        vertical-align: middle;\n",
              "    }\n",
              "\n",
              "    .dataframe tbody tr th {\n",
              "        vertical-align: top;\n",
              "    }\n",
              "\n",
              "    .dataframe thead th {\n",
              "        text-align: right;\n",
              "    }\n",
              "</style>\n",
              "<table border=\"1\" class=\"dataframe\">\n",
              "  <thead>\n",
              "    <tr style=\"text-align: right;\">\n",
              "      <th></th>\n",
              "      <th>Factors 1</th>\n",
              "      <th>Factors 2</th>\n",
              "      <th>Factors 3</th>\n",
              "    </tr>\n",
              "  </thead>\n",
              "  <tbody>\n",
              "    <tr>\n",
              "      <th>SS Loadings</th>\n",
              "      <td>1.410073</td>\n",
              "      <td>1.265628</td>\n",
              "      <td>0.621669</td>\n",
              "    </tr>\n",
              "    <tr>\n",
              "      <th>Proportion Variance</th>\n",
              "      <td>0.156675</td>\n",
              "      <td>0.140625</td>\n",
              "      <td>0.069074</td>\n",
              "    </tr>\n",
              "    <tr>\n",
              "      <th>Cumulative Variance</th>\n",
              "      <td>0.156675</td>\n",
              "      <td>0.297300</td>\n",
              "      <td>0.366374</td>\n",
              "    </tr>\n",
              "    <tr>\n",
              "      <th>Ratio Variance</th>\n",
              "      <td>0.427636</td>\n",
              "      <td>0.383829</td>\n",
              "      <td>0.188535</td>\n",
              "    </tr>\n",
              "  </tbody>\n",
              "</table>\n",
              "</div>"
            ],
            "text/plain": [
              "                     Factors 1  Factors 2  Factors 3\n",
              "SS Loadings           1.410073   1.265628   0.621669\n",
              "Proportion Variance   0.156675   0.140625   0.069074\n",
              "Cumulative Variance   0.156675   0.297300   0.366374\n",
              "Ratio Variance        0.427636   0.383829   0.188535"
            ]
          },
          "execution_count": 78,
          "metadata": {},
          "output_type": "execute_result"
        }
      ],
      "source": [
        "# Explained variance\n",
        "idx = ['SS Loadings', 'Proportion Variance', 'Cumulative Variance']\n",
        "df_variance = pd.DataFrame(data = fa.get_factor_variance(), index = idx, columns = facs)\n",
        "# Ratio of variance\n",
        "ratioVariance = fa.get_factor_variance()[1] / fa.get_factor_variance()[1].sum()\n",
        "df_ratio_var = pd.DataFrame(data = ratioVariance.reshape((1, 3)), index = ['Ratio Variance'], columns = facs)\n",
        "# New completed dataframe\n",
        "df_variance.append(df_ratio_var)"
      ]
    },
    {
      "cell_type": "code",
      "execution_count": null,
      "id": "af31ac57",
      "metadata": {},
      "outputs": [
        {
          "data": {
            "text/html": [
              "<div>\n",
              "<style scoped>\n",
              "    .dataframe tbody tr th:only-of-type {\n",
              "        vertical-align: middle;\n",
              "    }\n",
              "\n",
              "    .dataframe tbody tr th {\n",
              "        vertical-align: top;\n",
              "    }\n",
              "\n",
              "    .dataframe thead th {\n",
              "        text-align: right;\n",
              "    }\n",
              "</style>\n",
              "<table border=\"1\" class=\"dataframe\">\n",
              "  <thead>\n",
              "    <tr style=\"text-align: right;\">\n",
              "      <th></th>\n",
              "      <th>Factors 1</th>\n",
              "      <th>Factors 2</th>\n",
              "      <th>Factors 3</th>\n",
              "    </tr>\n",
              "  </thead>\n",
              "  <tbody>\n",
              "    <tr>\n",
              "      <th>0</th>\n",
              "      <td>0.722378</td>\n",
              "      <td>-0.076201</td>\n",
              "      <td>-0.630175</td>\n",
              "    </tr>\n",
              "    <tr>\n",
              "      <th>1</th>\n",
              "      <td>0.151671</td>\n",
              "      <td>0.265266</td>\n",
              "      <td>-0.677950</td>\n",
              "    </tr>\n",
              "    <tr>\n",
              "      <th>2</th>\n",
              "      <td>0.495475</td>\n",
              "      <td>-0.358419</td>\n",
              "      <td>-0.434383</td>\n",
              "    </tr>\n",
              "    <tr>\n",
              "      <th>3</th>\n",
              "      <td>1.761728</td>\n",
              "      <td>-0.264966</td>\n",
              "      <td>-0.617789</td>\n",
              "    </tr>\n",
              "    <tr>\n",
              "      <th>4</th>\n",
              "      <td>0.435594</td>\n",
              "      <td>0.918510</td>\n",
              "      <td>-0.445414</td>\n",
              "    </tr>\n",
              "    <tr>\n",
              "      <th>...</th>\n",
              "      <td>...</td>\n",
              "      <td>...</td>\n",
              "      <td>...</td>\n",
              "    </tr>\n",
              "    <tr>\n",
              "      <th>498</th>\n",
              "      <td>-0.973771</td>\n",
              "      <td>-0.225250</td>\n",
              "      <td>2.159402</td>\n",
              "    </tr>\n",
              "    <tr>\n",
              "      <th>499</th>\n",
              "      <td>1.426749</td>\n",
              "      <td>-0.047664</td>\n",
              "      <td>0.693567</td>\n",
              "    </tr>\n",
              "    <tr>\n",
              "      <th>500</th>\n",
              "      <td>-1.118462</td>\n",
              "      <td>-0.356609</td>\n",
              "      <td>-0.184334</td>\n",
              "    </tr>\n",
              "    <tr>\n",
              "      <th>501</th>\n",
              "      <td>-1.118462</td>\n",
              "      <td>-0.356609</td>\n",
              "      <td>-0.184334</td>\n",
              "    </tr>\n",
              "    <tr>\n",
              "      <th>502</th>\n",
              "      <td>-1.118462</td>\n",
              "      <td>-0.356609</td>\n",
              "      <td>-0.184334</td>\n",
              "    </tr>\n",
              "  </tbody>\n",
              "</table>\n",
              "<p>503 rows × 3 columns</p>\n",
              "</div>"
            ],
            "text/plain": [
              "     Factors 1  Factors 2  Factors 3\n",
              "0     0.722378  -0.076201  -0.630175\n",
              "1     0.151671   0.265266  -0.677950\n",
              "2     0.495475  -0.358419  -0.434383\n",
              "3     1.761728  -0.264966  -0.617789\n",
              "4     0.435594   0.918510  -0.445414\n",
              "..         ...        ...        ...\n",
              "498  -0.973771  -0.225250   2.159402\n",
              "499   1.426749  -0.047664   0.693567\n",
              "500  -1.118462  -0.356609  -0.184334\n",
              "501  -1.118462  -0.356609  -0.184334\n",
              "502  -1.118462  -0.356609  -0.184334\n",
              "\n",
              "[503 rows x 3 columns]"
            ]
          },
          "execution_count": 75,
          "metadata": {},
          "output_type": "execute_result"
        }
      ],
      "source": [
        "df_factors_onlnie = pd.DataFrame(data = fa.fit_transform(online_pp_df),columns = facs)\n",
        "df_factors_onlnie                     "
      ]
    },
    {
      "cell_type": "code",
      "execution_count": null,
      "id": "2aae1609",
      "metadata": {},
      "outputs": [],
      "source": [
        "ml_df['onlnie_scores'] = (df_factors_onlnie['Factors 1'] * fa.get_factor_variance()[1][0] + df_factors_onlnie['Factors 2'] * fa.get_factor_variance()[1][1] + df_factors_onlnie['Factors 3'] * fa.get_factor_variance()[1][2]) / fa.get_factor_variance()[1].sum()"
      ]
    },
    {
      "attachments": {},
      "cell_type": "markdown",
      "id": "2c1ae835",
      "metadata": {},
      "source": [
        "#### Offline PP"
      ]
    },
    {
      "cell_type": "code",
      "execution_count": null,
      "id": "b658f14c",
      "metadata": {},
      "outputs": [
        {
          "name": "stdout",
          "output_type": "stream",
          "text": [
            "-------------------- offlnie_pp --------------------\n",
            "\n",
            "\n",
            "* Bartlett's test\n",
            "Chi-square value : 1495.95\n",
            "p-value          : 0.0\n",
            "\n",
            "\n",
            "* Kaiser-Meyer-Olkin\n",
            "KMO value : 0.64\n"
          ]
        }
      ],
      "source": [
        "print('-' * 20 + \" offlnie_pp \" + '-' * 20)\n",
        "print('\\n')\n",
        "print(\"* Bartlett's test\")\n",
        "chiSquareValue, pValue = calculate_bartlett_sphericity(offline_pp_df)\n",
        "print('Chi-square value : {}'.format(round(chiSquareValue, ndigits = 3)))\n",
        "print('p-value          : {}'.format(round(pValue, ndigits = 3)))\n",
        "print('\\n')\n",
        "print('* Kaiser-Meyer-Olkin')\n",
        "KMO, KMO_model = calculate_kmo(offline_pp_df)\n",
        "print('KMO value : {}'.format(round(KMO_model, ndigits = 3)))"
      ]
    },
    {
      "cell_type": "code",
      "execution_count": null,
      "id": "c8f10682",
      "metadata": {},
      "outputs": [
        {
          "data": {
            "text/html": [
              "<style type=\"text/css\">\n",
              "#T_f2bd1_row0_col1, #T_f2bd1_row1_col1, #T_f2bd1_row3_col1, #T_f2bd1_row4_col1, #T_f2bd1_row5_col1, #T_f2bd1_row6_col1 {\n",
              "  background-color: yellow;\n",
              "}\n",
              "</style>\n",
              "<table id=\"T_f2bd1\">\n",
              "  <thead>\n",
              "    <tr>\n",
              "      <th class=\"blank level0\" >&nbsp;</th>\n",
              "      <th id=\"T_f2bd1_level0_col0\" class=\"col_heading level0 col0\" >Column</th>\n",
              "      <th id=\"T_f2bd1_level0_col1\" class=\"col_heading level0 col1\" >Communality</th>\n",
              "    </tr>\n",
              "  </thead>\n",
              "  <tbody>\n",
              "    <tr>\n",
              "      <th id=\"T_f2bd1_level0_row0\" class=\"row_heading level0 row0\" >0</th>\n",
              "      <td id=\"T_f2bd1_row0_col0\" class=\"data row0 col0\" >read_election_news</td>\n",
              "      <td id=\"T_f2bd1_row0_col1\" class=\"data row0 col1\" >0.726516</td>\n",
              "    </tr>\n",
              "    <tr>\n",
              "      <th id=\"T_f2bd1_level0_row1\" class=\"row_heading level0 row1\" >1</th>\n",
              "      <td id=\"T_f2bd1_row1_col0\" class=\"data row1 col0\" >read_election_leaflet</td>\n",
              "      <td id=\"T_f2bd1_row1_col1\" class=\"data row1 col1\" >0.690885</td>\n",
              "    </tr>\n",
              "    <tr>\n",
              "      <th id=\"T_f2bd1_level0_row2\" class=\"row_heading level0 row2\" >2</th>\n",
              "      <td id=\"T_f2bd1_row2_col0\" class=\"data row2 col0\" >convince</td>\n",
              "      <td id=\"T_f2bd1_row2_col1\" class=\"data row2 col1\" >0.237935</td>\n",
              "    </tr>\n",
              "    <tr>\n",
              "      <th id=\"T_f2bd1_level0_row3\" class=\"row_heading level0 row3\" >3</th>\n",
              "      <td id=\"T_f2bd1_row3_col0\" class=\"data row3 col0\" >campaign</td>\n",
              "      <td id=\"T_f2bd1_row3_col1\" class=\"data row3 col1\" >0.646440</td>\n",
              "    </tr>\n",
              "    <tr>\n",
              "      <th id=\"T_f2bd1_level0_row4\" class=\"row_heading level0 row4\" >4</th>\n",
              "      <td id=\"T_f2bd1_row4_col0\" class=\"data row4 col0\" >volunteer</td>\n",
              "      <td id=\"T_f2bd1_row4_col1\" class=\"data row4 col1\" >0.601955</td>\n",
              "    </tr>\n",
              "    <tr>\n",
              "      <th id=\"T_f2bd1_level0_row5\" class=\"row_heading level0 row5\" >5</th>\n",
              "      <td id=\"T_f2bd1_row5_col0\" class=\"data row5 col0\" >election_mayor</td>\n",
              "      <td id=\"T_f2bd1_row5_col1\" class=\"data row5 col1\" >0.904081</td>\n",
              "    </tr>\n",
              "    <tr>\n",
              "      <th id=\"T_f2bd1_level0_row6\" class=\"row_heading level0 row6\" >6</th>\n",
              "      <td id=\"T_f2bd1_row6_col0\" class=\"data row6 col0\" >election_18</td>\n",
              "      <td id=\"T_f2bd1_row6_col1\" class=\"data row6 col1\" >0.908956</td>\n",
              "    </tr>\n",
              "  </tbody>\n",
              "</table>\n"
            ],
            "text/plain": [
              "<pandas.io.formats.style.Styler at 0x7fc1902eaa60>"
            ]
          },
          "execution_count": 95,
          "metadata": {},
          "output_type": "execute_result"
        }
      ],
      "source": [
        "# Create factor analysis object and perform factor analysis\n",
        "fa = FactorAnalyzer(n_factors = 25, rotation = None)\n",
        "fa.fit(offline_pp_df)\n",
        "# The communalities\n",
        "df_communalities_offline_pp = pd.DataFrame(data = {'Column': offline_pp_df.columns, 'Communality': fa.get_communalities()})\n",
        "df_communalities_offline_pp\n",
        "df_communalities_offline_pp.style.apply(Factor_Analysis.highlightCommunalities, subset = ['Communality'])"
      ]
    },
    {
      "cell_type": "code",
      "execution_count": null,
      "id": "3ca69b31",
      "metadata": {},
      "outputs": [
        {
          "data": {
            "image/png": "[encoded data removed]",
            "text/plain": [
              "<Figure size 1500x900 with 1 Axes>"
            ]
          },
          "metadata": {
            "image/png": {
              "height": 900,
              "width": 1500
            },
            "needs_background": "light"
          },
          "output_type": "display_data"
        },
        {
          "data": {
            "text/plain": [
              "<Figure Size: (1500 x 900)>"
            ]
          },
          "execution_count": 96,
          "metadata": {},
          "output_type": "execute_result"
        }
      ],
      "source": [
        "# Data viz\n",
        "plotnine.options.figure_size = (15, 9)\n",
        "communality_bar = (\n",
        "    ggplot(data = df_communalities_offline_pp)+\n",
        "    geom_bar(aes(x = 'Column',\n",
        "                 y = 'Communality'),\n",
        "             width = 0.75,\n",
        "             stat = 'identity')+\n",
        "    geom_hline(yintercept = 0.5)+\n",
        "    scale_x_discrete(limits = df_communalities_offline_pp['Column'].tolist())+\n",
        "    labs(title = 'Communalitites of factor analysis')+\n",
        "    xlab('Columns')+\n",
        "    ylab('Communalities')+\n",
        "    theme_minimal()\n",
        ")\n",
        "# Display the viz\n",
        "communality_bar"
      ]
    },
    {
      "cell_type": "code",
      "execution_count": null,
      "id": "acc486dd",
      "metadata": {},
      "outputs": [],
      "source": [
        "# Check Eigenvalues\n",
        "eigenValue, value = fa.get_eigenvalues()"
      ]
    },
    {
      "cell_type": "code",
      "execution_count": null,
      "id": "d6165964",
      "metadata": {},
      "outputs": [
        {
          "data": {
            "text/html": [
              "<style type=\"text/css\">\n",
              "#T_a7acb_row0_col1, #T_a7acb_row1_col1 {\n",
              "  background-color: yellow;\n",
              "}\n",
              "</style>\n",
              "<table id=\"T_a7acb\">\n",
              "  <thead>\n",
              "    <tr>\n",
              "      <th class=\"blank level0\" >&nbsp;</th>\n",
              "      <th id=\"T_a7acb_level0_col0\" class=\"col_heading level0 col0\" >Factor</th>\n",
              "      <th id=\"T_a7acb_level0_col1\" class=\"col_heading level0 col1\" >Eigen value</th>\n",
              "    </tr>\n",
              "  </thead>\n",
              "  <tbody>\n",
              "    <tr>\n",
              "      <th id=\"T_a7acb_level0_row0\" class=\"row_heading level0 row0\" >0</th>\n",
              "      <td id=\"T_a7acb_row0_col0\" class=\"data row0 col0\" >1</td>\n",
              "      <td id=\"T_a7acb_row0_col1\" class=\"data row0 col1\" >2.786724</td>\n",
              "    </tr>\n",
              "    <tr>\n",
              "      <th id=\"T_a7acb_level0_row1\" class=\"row_heading level0 row1\" >1</th>\n",
              "      <td id=\"T_a7acb_row1_col0\" class=\"data row1 col0\" >2</td>\n",
              "      <td id=\"T_a7acb_row1_col1\" class=\"data row1 col1\" >1.570308</td>\n",
              "    </tr>\n",
              "    <tr>\n",
              "      <th id=\"T_a7acb_level0_row2\" class=\"row_heading level0 row2\" >2</th>\n",
              "      <td id=\"T_a7acb_row2_col0\" class=\"data row2 col0\" >3</td>\n",
              "      <td id=\"T_a7acb_row2_col1\" class=\"data row2 col1\" >0.945140</td>\n",
              "    </tr>\n",
              "    <tr>\n",
              "      <th id=\"T_a7acb_level0_row3\" class=\"row_heading level0 row3\" >3</th>\n",
              "      <td id=\"T_a7acb_row3_col0\" class=\"data row3 col0\" >4</td>\n",
              "      <td id=\"T_a7acb_row3_col1\" class=\"data row3 col1\" >0.830727</td>\n",
              "    </tr>\n",
              "    <tr>\n",
              "      <th id=\"T_a7acb_level0_row4\" class=\"row_heading level0 row4\" >4</th>\n",
              "      <td id=\"T_a7acb_row4_col0\" class=\"data row4 col0\" >5</td>\n",
              "      <td id=\"T_a7acb_row4_col1\" class=\"data row4 col1\" >0.427812</td>\n",
              "    </tr>\n",
              "    <tr>\n",
              "      <th id=\"T_a7acb_level0_row5\" class=\"row_heading level0 row5\" >5</th>\n",
              "      <td id=\"T_a7acb_row5_col0\" class=\"data row5 col0\" >6</td>\n",
              "      <td id=\"T_a7acb_row5_col1\" class=\"data row5 col1\" >0.339374</td>\n",
              "    </tr>\n",
              "    <tr>\n",
              "      <th id=\"T_a7acb_level0_row6\" class=\"row_heading level0 row6\" >6</th>\n",
              "      <td id=\"T_a7acb_row6_col0\" class=\"data row6 col0\" >7</td>\n",
              "      <td id=\"T_a7acb_row6_col1\" class=\"data row6 col1\" >0.099915</td>\n",
              "    </tr>\n",
              "  </tbody>\n",
              "</table>\n"
            ],
            "text/plain": [
              "<pandas.io.formats.style.Styler at 0x7fc1a1a0a370>"
            ]
          },
          "execution_count": 98,
          "metadata": {},
          "output_type": "execute_result"
        }
      ],
      "source": [
        "# Convert the results into a dataframe\n",
        "df_offline_eigen = pd.DataFrame({'Factor': range(1, len(eigenValue) + 1), 'Eigen value': eigenValue})\n",
        "df_offline_eigen.style.apply(Factor_Analysis.highlightEigenvalue, subset = ['Eigen value'])"
      ]
    },
    {
      "cell_type": "code",
      "execution_count": null,
      "id": "ca4a10ff",
      "metadata": {},
      "outputs": [
        {
          "data": {
            "image/png": "[encoded data removed]",
            "text/plain": [
              "<Figure size 800x480 with 1 Axes>"
            ]
          },
          "metadata": {
            "image/png": {
              "height": 480,
              "width": 800
            },
            "needs_background": "light"
          },
          "output_type": "display_data"
        },
        {
          "data": {
            "text/plain": [
              "<Figure Size: (800 x 480)>"
            ]
          },
          "execution_count": 102,
          "metadata": {},
          "output_type": "execute_result"
        }
      ],
      "source": [
        "# Data viz\n",
        "plotnine.options.figure_size = (8, 4.8)\n",
        "offline_scree_eigenvalue = (\n",
        "    ggplot(data = df_offline_eigen)+\n",
        "    geom_hline(yintercept = 1)+\n",
        "    geom_line(aes(x = 'Factor',\n",
        "                  y = 'Eigen value'))+\n",
        "    geom_point(aes(x = 'Factor',\n",
        "                   y = 'Eigen value'),\n",
        "               size = 2)+\n",
        "    labs(title = 'Scree plot of eigen value from factor analysis')+\n",
        "    xlab('Factors')+\n",
        "    ylab('Eigenvalue')+\n",
        "    theme_minimal()\n",
        ")\n",
        "# Display the viz\n",
        "offline_scree_eigenvalue"
      ]
    },
    {
      "cell_type": "code",
      "execution_count": null,
      "id": "cd8ccb15",
      "metadata": {},
      "outputs": [
        {
          "name": "stdout",
          "output_type": "stream",
          "text": [
            "['Factors 1', 'Factors 2']\n"
          ]
        },
        {
          "data": {
            "text/html": [
              "<style type=\"text/css\">\n",
              "#T_bbdf4_row0_col0, #T_bbdf4_row1_col0, #T_bbdf4_row3_col1, #T_bbdf4_row4_col1, #T_bbdf4_row5_col0, #T_bbdf4_row6_col0 {\n",
              "  background-color: yellow;\n",
              "}\n",
              "</style>\n",
              "<table id=\"T_bbdf4\">\n",
              "  <thead>\n",
              "    <tr>\n",
              "      <th class=\"blank level0\" >&nbsp;</th>\n",
              "      <th id=\"T_bbdf4_level0_col0\" class=\"col_heading level0 col0\" >Factors 1</th>\n",
              "      <th id=\"T_bbdf4_level0_col1\" class=\"col_heading level0 col1\" >Factors 2</th>\n",
              "    </tr>\n",
              "  </thead>\n",
              "  <tbody>\n",
              "    <tr>\n",
              "      <th id=\"T_bbdf4_level0_row0\" class=\"row_heading level0 row0\" >read_election_news</th>\n",
              "      <td id=\"T_bbdf4_row0_col0\" class=\"data row0 col0\" >0.621619</td>\n",
              "      <td id=\"T_bbdf4_row0_col1\" class=\"data row0 col1\" >0.240353</td>\n",
              "    </tr>\n",
              "    <tr>\n",
              "      <th id=\"T_bbdf4_level0_row1\" class=\"row_heading level0 row1\" >read_election_leaflet</th>\n",
              "      <td id=\"T_bbdf4_row1_col0\" class=\"data row1 col0\" >0.535222</td>\n",
              "      <td id=\"T_bbdf4_row1_col1\" class=\"data row1 col1\" >0.258769</td>\n",
              "    </tr>\n",
              "    <tr>\n",
              "      <th id=\"T_bbdf4_level0_row2\" class=\"row_heading level0 row2\" >convince</th>\n",
              "      <td id=\"T_bbdf4_row2_col0\" class=\"data row2 col0\" >0.238827</td>\n",
              "      <td id=\"T_bbdf4_row2_col1\" class=\"data row2 col1\" >0.143331</td>\n",
              "    </tr>\n",
              "    <tr>\n",
              "      <th id=\"T_bbdf4_level0_row3\" class=\"row_heading level0 row3\" >campaign</th>\n",
              "      <td id=\"T_bbdf4_row3_col0\" class=\"data row3 col0\" >0.081556</td>\n",
              "      <td id=\"T_bbdf4_row3_col1\" class=\"data row3 col1\" >0.694075</td>\n",
              "    </tr>\n",
              "    <tr>\n",
              "      <th id=\"T_bbdf4_level0_row4\" class=\"row_heading level0 row4\" >volunteer</th>\n",
              "      <td id=\"T_bbdf4_row4_col0\" class=\"data row4 col0\" >0.067147</td>\n",
              "      <td id=\"T_bbdf4_row4_col1\" class=\"data row4 col1\" >0.737542</td>\n",
              "    </tr>\n",
              "    <tr>\n",
              "      <th id=\"T_bbdf4_level0_row5\" class=\"row_heading level0 row5\" >election_mayor</th>\n",
              "      <td id=\"T_bbdf4_row5_col0\" class=\"data row5 col0\" >0.896737</td>\n",
              "      <td id=\"T_bbdf4_row5_col1\" class=\"data row5 col1\" >-0.060803</td>\n",
              "    </tr>\n",
              "    <tr>\n",
              "      <th id=\"T_bbdf4_level0_row6\" class=\"row_heading level0 row6\" >election_18</th>\n",
              "      <td id=\"T_bbdf4_row6_col0\" class=\"data row6 col0\" >0.896609</td>\n",
              "      <td id=\"T_bbdf4_row6_col1\" class=\"data row6 col1\" >-0.116633</td>\n",
              "    </tr>\n",
              "  </tbody>\n",
              "</table>\n"
            ],
            "text/plain": [
              "<pandas.io.formats.style.Styler at 0x7fc1a1a2acd0>"
            ]
          },
          "execution_count": 105,
          "metadata": {},
          "output_type": "execute_result"
        }
      ],
      "source": [
        "# Factor analysis with rotation\n",
        "fa = FactorAnalyzer(n_factors = 2, rotation = 'varimax')\n",
        "fa.fit(offline_pp_df)\n",
        "# Create a factor's names\n",
        "facs = ['Factors' + ' ' + str(i + 1) for i in range(2)]\n",
        "print(facs)\n",
        "# Loading factors\n",
        "pd.DataFrame(data = fa.loadings_, index = offline_pp_df.columns, columns = facs).style.apply(Factor_Analysis.highlightLoadings)"
      ]
    },
    {
      "cell_type": "code",
      "execution_count": null,
      "id": "f3300b1a",
      "metadata": {},
      "outputs": [
        {
          "name": "stderr",
          "output_type": "stream",
          "text": [
            "/var/folders/dn/wbyhv8k14697mm1zy19w1jh40000gn/T/ipykernel_82610/2648890745.py:8: FutureWarning: The frame.append method is deprecated and will be removed from pandas in a future version. Use pandas.concat instead.\n"
          ]
        },
        {
          "data": {
            "text/html": [
              "<div>\n",
              "<style scoped>\n",
              "    .dataframe tbody tr th:only-of-type {\n",
              "        vertical-align: middle;\n",
              "    }\n",
              "\n",
              "    .dataframe tbody tr th {\n",
              "        vertical-align: top;\n",
              "    }\n",
              "\n",
              "    .dataframe thead th {\n",
              "        text-align: right;\n",
              "    }\n",
              "</style>\n",
              "<table border=\"1\" class=\"dataframe\">\n",
              "  <thead>\n",
              "    <tr style=\"text-align: right;\">\n",
              "      <th></th>\n",
              "      <th>Factors 1</th>\n",
              "      <th>Factors 2</th>\n",
              "    </tr>\n",
              "  </thead>\n",
              "  <tbody>\n",
              "    <tr>\n",
              "      <th>SS Loadings</th>\n",
              "      <td>2.349115</td>\n",
              "      <td>1.188282</td>\n",
              "    </tr>\n",
              "    <tr>\n",
              "      <th>Proportion Variance</th>\n",
              "      <td>0.335588</td>\n",
              "      <td>0.169755</td>\n",
              "    </tr>\n",
              "    <tr>\n",
              "      <th>Cumulative Variance</th>\n",
              "      <td>0.335588</td>\n",
              "      <td>0.505343</td>\n",
              "    </tr>\n",
              "    <tr>\n",
              "      <th>Ratio Variance</th>\n",
              "      <td>0.664080</td>\n",
              "      <td>0.335920</td>\n",
              "    </tr>\n",
              "  </tbody>\n",
              "</table>\n",
              "</div>"
            ],
            "text/plain": [
              "                     Factors 1  Factors 2\n",
              "SS Loadings           2.349115   1.188282\n",
              "Proportion Variance   0.335588   0.169755\n",
              "Cumulative Variance   0.335588   0.505343\n",
              "Ratio Variance        0.664080   0.335920"
            ]
          },
          "execution_count": 108,
          "metadata": {},
          "output_type": "execute_result"
        }
      ],
      "source": [
        "# Explained variance\n",
        "idx = ['SS Loadings', 'Proportion Variance', 'Cumulative Variance']\n",
        "df_variance = pd.DataFrame(data = fa.get_factor_variance(), index = idx, columns = facs)\n",
        "# Ratio of variance\n",
        "ratioVariance = fa.get_factor_variance()[1] / fa.get_factor_variance()[1].sum()\n",
        "df_ratio_var = pd.DataFrame(data = ratioVariance.reshape((1, 2)), index = ['Ratio Variance'], columns = facs)\n",
        "# New completed dataframe\n",
        "df_variance.append(df_ratio_var)"
      ]
    },
    {
      "cell_type": "code",
      "execution_count": null,
      "id": "f6be7648",
      "metadata": {},
      "outputs": [
        {
          "data": {
            "text/html": [
              "<div>\n",
              "<style scoped>\n",
              "    .dataframe tbody tr th:only-of-type {\n",
              "        vertical-align: middle;\n",
              "    }\n",
              "\n",
              "    .dataframe tbody tr th {\n",
              "        vertical-align: top;\n",
              "    }\n",
              "\n",
              "    .dataframe thead th {\n",
              "        text-align: right;\n",
              "    }\n",
              "</style>\n",
              "<table border=\"1\" class=\"dataframe\">\n",
              "  <thead>\n",
              "    <tr style=\"text-align: right;\">\n",
              "      <th></th>\n",
              "      <th>Factors 1</th>\n",
              "      <th>Factors 2</th>\n",
              "    </tr>\n",
              "  </thead>\n",
              "  <tbody>\n",
              "    <tr>\n",
              "      <th>0</th>\n",
              "      <td>0.333988</td>\n",
              "      <td>-0.823392</td>\n",
              "    </tr>\n",
              "    <tr>\n",
              "      <th>1</th>\n",
              "      <td>-1.166190</td>\n",
              "      <td>0.052735</td>\n",
              "    </tr>\n",
              "    <tr>\n",
              "      <th>2</th>\n",
              "      <td>-0.888512</td>\n",
              "      <td>-0.374432</td>\n",
              "    </tr>\n",
              "    <tr>\n",
              "      <th>3</th>\n",
              "      <td>1.053984</td>\n",
              "      <td>-0.124877</td>\n",
              "    </tr>\n",
              "    <tr>\n",
              "      <th>4</th>\n",
              "      <td>0.154959</td>\n",
              "      <td>-0.364895</td>\n",
              "    </tr>\n",
              "    <tr>\n",
              "      <th>...</th>\n",
              "      <td>...</td>\n",
              "      <td>...</td>\n",
              "    </tr>\n",
              "    <tr>\n",
              "      <th>498</th>\n",
              "      <td>1.110757</td>\n",
              "      <td>-0.175752</td>\n",
              "    </tr>\n",
              "    <tr>\n",
              "      <th>499</th>\n",
              "      <td>0.887584</td>\n",
              "      <td>-0.316267</td>\n",
              "    </tr>\n",
              "    <tr>\n",
              "      <th>500</th>\n",
              "      <td>-1.553387</td>\n",
              "      <td>-0.263000</td>\n",
              "    </tr>\n",
              "    <tr>\n",
              "      <th>501</th>\n",
              "      <td>-1.553387</td>\n",
              "      <td>-0.263000</td>\n",
              "    </tr>\n",
              "    <tr>\n",
              "      <th>502</th>\n",
              "      <td>-1.553387</td>\n",
              "      <td>-0.263000</td>\n",
              "    </tr>\n",
              "  </tbody>\n",
              "</table>\n",
              "<p>503 rows × 2 columns</p>\n",
              "</div>"
            ],
            "text/plain": [
              "     Factors 1  Factors 2\n",
              "0     0.333988  -0.823392\n",
              "1    -1.166190   0.052735\n",
              "2    -0.888512  -0.374432\n",
              "3     1.053984  -0.124877\n",
              "4     0.154959  -0.364895\n",
              "..         ...        ...\n",
              "498   1.110757  -0.175752\n",
              "499   0.887584  -0.316267\n",
              "500  -1.553387  -0.263000\n",
              "501  -1.553387  -0.263000\n",
              "502  -1.553387  -0.263000\n",
              "\n",
              "[503 rows x 2 columns]"
            ]
          },
          "execution_count": 111,
          "metadata": {},
          "output_type": "execute_result"
        }
      ],
      "source": [
        "df_factors_offlnie = pd.DataFrame(data = fa.fit_transform(offline_pp_df),columns = facs)\n",
        "df_factors_offlnie                     "
      ]
    },
    {
      "cell_type": "code",
      "execution_count": null,
      "id": "3a687f32",
      "metadata": {},
      "outputs": [],
      "source": [
        "ml_df['offlnie_scores'] = (df_factors_offlnie['Factors 1'] * fa.get_factor_variance()[1][0] + df_factors_offlnie['Factors 2'] * fa.get_factor_variance()[1][1]) / fa.get_factor_variance()[1].sum()"
      ]
    },
    {
      "cell_type": "code",
      "execution_count": null,
      "id": "1553a1d0",
      "metadata": {},
      "outputs": [],
      "source": []
    }
  ],
  "metadata": {
    "kernelspec": {
      "display_name": "base",
      "language": "python",
      "name": "python3"
    },
    "language_info": {
      "codemirror_mode": {
        "name": "ipython",
        "version": 3
      },
      "file_extension": ".py",
      "mimetype": "text/x-python",
      "name": "python",
      "nbconvert_exporter": "python",
      "pygments_lexer": "ipython3",
      "version": "3.9.12"
    },
    "noteable": {
      "last_transaction_id": "9f231223-b6e3-4225-9dac-618972c218ad"
    },
    "orig_nbformat": 4,
    "selected_hardware_size": "small"
  },
  "nbformat": 4,
  "nbformat_minor": 5
}
