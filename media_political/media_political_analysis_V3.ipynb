{
  "cells": [
    {
      "attachments": {},
      "cell_type": "markdown",
      "metadata": {},
      "source": [
        "## Import package"
      ],
      "id": "51ac109b"
    },
    {
      "id": "f6ef19fe-5a2f-4c79-bb17-5ab7dda76101",
      "cell_type": "code",
      "metadata": {
        "noteable": {
          "cell_type": "python",
          "output_collection_id": "9dcacbc0-ee45-470e-8963-b2c269a90f9f"
        },
        "ExecuteTime": {
          "end_time": "2023-06-30T08:38:25.535363+00:00",
          "start_time": "2023-06-30T08:38:10.713823+00:00"
        },
        "scrolled": false
      },
      "execution_count": null,
      "source": "!pip install factor_analyzer pingouin stargazer",
      "outputs": []
    },
    {
      "id": "3a7c79c9-f8e5-4b1a-b45a-72622ff33a8b",
      "cell_type": "code",
      "metadata": {
        "jupyter": {
          "outputs_hidden": false,
          "source_hidden": false
        },
        "noteable": {
          "cell_type": "code",
          "output_collection_id": "e9e5a596-be78-4a10-98a7-090aea542a1f"
        },
        "ExecuteTime": {
          "end_time": "2023-06-30T08:38:35.729952+00:00",
          "start_time": "2023-06-30T08:38:25.547183+00:00"
        }
      },
      "execution_count": null,
      "source": "! pip install plotnine",
      "outputs": []
    },
    {
      "cell_type": "code",
      "execution_count": 183,
      "metadata": {
        "noteable": {
          "output_collection_id": "d83942c1-d1b1-4be8-b062-9b90b585a86b"
        },
        "ExecuteTime": {
          "end_time": "2023-06-30T08:38:37.414104+00:00",
          "start_time": "2023-06-30T08:38:35.738456+00:00"
        }
      },
      "outputs": [],
      "source": "# for data ETL\nimport pandas as pd\nimport ETL\n# Module for spatial data manipulation\nimport geopandas as gpd\n# Module for data viz \nfrom plotnine import *\nimport plotnine\nimport plotly.express as px\nimport seaborn as sns               \nimport matplotlib.pyplot as plt\n# Module for spatial data viz\nimport folium\nimport branca\nimport branca.colormap as cm\nfrom folium.features import GeoJson, GeoJsonTooltip\n# for establish index\nimport Factor_Analysis \nfrom factor_analyzer import FactorAnalyzer\nfrom factor_analyzer.factor_analyzer import calculate_bartlett_sphericity, calculate_kmo\nimport pingouin as pg # index reliability testing\n# for stats ml\nfrom sklearn.preprocessing import StandardScaler\nfrom scipy.stats import pearsonr\nimport statsmodels.api as sm\nimport statsmodels.formula.api as smf\nfrom statsmodels.miscmodels.ordinal_model import OrderedModel\nfrom stargazer.stargazer import Stargazer",
      "id": "f0c407eb"
    },
    {
      "attachments": {},
      "cell_type": "markdown",
      "metadata": {},
      "source": [
        "## Load data and filiter "
      ],
      "id": "2b5ccbd5"
    },
    {
      "cell_type": "code",
      "execution_count": 157,
      "metadata": {
        "noteable": {
          "output_collection_id": "190aa583-d2dc-49ab-9698-2dbccf75bfa5"
        },
        "ExecuteTime": {
          "end_time": "2023-06-30T08:38:37.633309+00:00",
          "start_time": "2023-06-30T08:38:37.422617+00:00"
        }
      },
      "outputs": [],
      "source": "raw_data = pd.read_csv('raw_data.csv')",
      "id": "625c9313"
    },
    {
      "cell_type": "code",
      "execution_count": 159,
      "metadata": {
        "noteable": {
          "output_collection_id": "0408431f-b3de-4983-911d-160e0aae2e10"
        },
        "ExecuteTime": {
          "end_time": "2023-06-30T08:38:37.839616+00:00",
          "start_time": "2023-06-30T08:38:37.641596+00:00"
        }
      },
      "outputs": [],
      "source": [
        "filter_data = raw_data.loc[raw_data['目前國內政黨當中，請問您是否偏向哪一個政黨？'].isin(['沒有特定支持', '都不支持'])]\n",
        "filter_data.drop(['您有絶對的權力決定是否要參與本研究。若您願意參與，請務必勾選下列選項：', '請填寫您的電子信箱，以利後續抽獎聯繫使用'], axis=1, inplace=True)"
      ],
      "id": "43440d4d"
    },
    {
      "attachments": {},
      "cell_type": "markdown",
      "metadata": {},
      "source": "## Data Cleaning",
      "id": "77198f5b"
    },
    {
      "id": "f729d4f2-b421-4b59-9f14-4ca7c53a6dae",
      "cell_type": "code",
      "metadata": {
        "jupyter": {
          "outputs_hidden": false,
          "source_hidden": false
        },
        "noteable": {
          "cell_type": "code",
          "output_collection_id": "5452ac05-b0ab-4046-8cce-1d167392470a"
        },
        "ExecuteTime": {
          "end_time": "2023-06-30T08:38:38.085161+00:00",
          "start_time": "2023-06-30T08:38:37.870222+00:00"
        },
        "datalink": {
          "1a08f08c-eb19-4b2c-bea1-950f87d76998": {
            "applied_filters": [],
            "dataframe_info": {
              "default_index_used": true,
              "orig_num_cols": 33,
              "orig_num_rows": 503,
              "orig_size_bytes": 136816,
              "truncated_num_cols": 33,
              "truncated_num_rows": 503,
              "truncated_size_bytes": 136816,
              "truncated_string_columns": []
            },
            "display_id": "1a08f08c-eb19-4b2c-bea1-950f87d76998",
            "dx_settings": {
              "ALLOW_NOTEABLE_ATTRS": true,
              "COLUMN_SAMPLING_METHOD": "outer",
              "DB_LOCATION": ":memory:",
              "DEV_MODE": false,
              "DISPLAY_MAX_COLUMNS": 100,
              "DISPLAY_MAX_ROWS": 50000,
              "DISPLAY_MODE": "simple",
              "ENABLE_ASSIGNMENT": true,
              "ENABLE_DATALINK": true,
              "FLATTEN_COLUMN_VALUES": true,
              "FLATTEN_INDEX_VALUES": false,
              "GENERATE_DEX_METADATA": false,
              "HTML_TABLE_SCHEMA": false,
              "LOG_LEVEL": 30,
              "MAX_RENDER_SIZE_BYTES": 104857600,
              "MAX_STRING_LENGTH": 250,
              "NUM_PAST_SAMPLES_TRACKED": 3,
              "RANDOM_STATE": 12648430,
              "RESET_INDEX_VALUES": false,
              "ROW_SAMPLING_METHOD": "random",
              "SAMPLING_FACTOR": 0.1,
              "SAMPLING_METHOD": "random",
              "STRINGIFY_COLUMN_VALUES": true,
              "STRINGIFY_INDEX_VALUES": false
            },
            "sample_history": [],
            "sampling_time": "2023-06-29T06:10:52.000856",
            "user_variable_name": null,
            "variable_name": "unk_dataframe_48fd4c1548d645298a554a9689f7b12e"
          },
          "5a0f5b14-d382-43db-8488-90197252082a": {
            "applied_filters": [],
            "dataframe_info": {
              "default_index_used": true,
              "orig_num_cols": 33,
              "orig_num_rows": 503,
              "orig_size_bytes": 136816,
              "truncated_num_cols": 33,
              "truncated_num_rows": 503,
              "truncated_size_bytes": 136816,
              "truncated_string_columns": []
            },
            "display_id": "5a0f5b14-d382-43db-8488-90197252082a",
            "dx_settings": {
              "ALLOW_NOTEABLE_ATTRS": true,
              "COLUMN_SAMPLING_METHOD": "outer",
              "DB_LOCATION": ":memory:",
              "DEV_MODE": false,
              "DISPLAY_MAX_COLUMNS": 100,
              "DISPLAY_MAX_ROWS": 50000,
              "DISPLAY_MODE": "simple",
              "ENABLE_ASSIGNMENT": true,
              "ENABLE_DATALINK": true,
              "FLATTEN_COLUMN_VALUES": true,
              "FLATTEN_INDEX_VALUES": false,
              "GENERATE_DEX_METADATA": false,
              "HTML_TABLE_SCHEMA": false,
              "LOG_LEVEL": 30,
              "MAX_RENDER_SIZE_BYTES": 104857600,
              "MAX_STRING_LENGTH": 250,
              "NUM_PAST_SAMPLES_TRACKED": 3,
              "RANDOM_STATE": 12648430,
              "RESET_INDEX_VALUES": false,
              "ROW_SAMPLING_METHOD": "random",
              "SAMPLING_FACTOR": 0.1,
              "SAMPLING_METHOD": "random",
              "STRINGIFY_COLUMN_VALUES": true,
              "STRINGIFY_INDEX_VALUES": false
            },
            "sample_history": [],
            "sampling_time": "2023-06-29T06:12:15.238058",
            "user_variable_name": null,
            "variable_name": "unk_dataframe_bcb85c06860a4d4c9e947b3aade5f565"
          }
        }
      },
      "execution_count": null,
      "source": "ml_df = ETL.data_cleaning(filter_data)",
      "outputs": []
    },
    {
      "id": "8d8e086f-db3a-4911-825a-138d54fc02de",
      "cell_type": "code",
      "metadata": {
        "jupyter": {
          "outputs_hidden": false,
          "source_hidden": false
        },
        "noteable": {
          "cell_type": "code",
          "output_collection_id": "8293ef58-162f-42e0-b750-4627772dc3cc"
        },
        "ExecuteTime": {
          "end_time": "2023-06-30T08:38:38.292474+00:00",
          "start_time": "2023-06-30T08:38:38.132875+00:00"
        }
      },
      "execution_count": null,
      "source": "ml_df.shape",
      "outputs": []
    },
    {
      "id": "4d36f08f-07d2-4a84-83a7-0a4eb195a5b0",
      "cell_type": "markdown",
      "source": "## Establish DV Index with Factor Analysis",
      "metadata": {
        "noteable": {
          "cell_type": "markdown"
        }
      }
    },
    {
      "id": "bc1eb6e3-c9ce-4b89-b317-6e487355b131",
      "cell_type": "markdown",
      "source": "### Filter out DV",
      "metadata": {
        "noteable": {
          "cell_type": "markdown"
        }
      }
    },
    {
      "id": "dcd1dc7d-9dfc-4def-9c4b-3a7715e38e51",
      "cell_type": "code",
      "metadata": {
        "jupyter": {
          "outputs_hidden": false,
          "source_hidden": false
        },
        "noteable": {
          "cell_type": "code",
          "output_collection_id": "f266e399-2156-48af-a588-7738f935364b"
        },
        "ExecuteTime": {
          "end_time": "2023-06-30T08:38:38.587235+00:00",
          "start_time": "2023-06-30T08:38:38.430004+00:00"
        }
      },
      "execution_count": null,
      "source": "DV_vars = ['TV_news_time', 'news_paper_time', 'int_news_time', 'TV_debate', 'read_media', 'like_media', 'share_media', 'comment_media', 'int_discuss', 'read_election_news', 'read_election_leaflet', 'convince', 'campaign', 'volunteer', 'election_mayor', 'election_18']\n\nDV_df = ml_df[DV_vars]",
      "outputs": []
    },
    {
      "id": "8d232e7a-a798-4329-85fd-646492d31f66",
      "cell_type": "markdown",
      "source": "### Bartlett’s test and Kaiser-Meyer-Olkin ",
      "metadata": {
        "noteable": {
          "cell_type": "markdown"
        }
      }
    },
    {
      "id": "841ee87b-f7aa-4fb9-951d-65fefe786208",
      "cell_type": "code",
      "metadata": {
        "jupyter": {
          "outputs_hidden": false,
          "source_hidden": false
        },
        "noteable": {
          "cell_type": "code",
          "output_collection_id": "3bc358af-a81d-47cd-9dbc-ca116aeda41b"
        },
        "ExecuteTime": {
          "end_time": "2023-06-30T08:38:38.783472+00:00",
          "start_time": "2023-06-30T08:38:38.611941+00:00"
        }
      },
      "execution_count": null,
      "source": "# Adequacy test - Bartlett's test\nchiSquareValue, pValue = calculate_bartlett_sphericity(DV_df)\nprint('Chi-square value : {}'.format(round(chiSquareValue, ndigits = 3)))\nprint('p-value          : {}'.format(round(pValue, ndigits = 3)))",
      "outputs": []
    },
    {
      "id": "9b19203b-45ce-4ace-9aef-31b31a08a6d8",
      "cell_type": "markdown",
      "source": "The Bartlett test produces a p-value that is less than 0.05. It means, we reject the null hypothesis or in this case, at least two population variances are different.",
      "metadata": {
        "noteable": {
          "cell_type": "markdown"
        }
      }
    },
    {
      "id": "e6a3687c-0dd4-493b-b603-410899099357",
      "cell_type": "code",
      "metadata": {
        "jupyter": {
          "outputs_hidden": false,
          "source_hidden": false
        },
        "noteable": {
          "cell_type": "code",
          "output_collection_id": "635c7a1c-245e-4ed0-82f1-e2e64030b9ac"
        },
        "ExecuteTime": {
          "end_time": "2023-06-30T08:38:38.980668+00:00",
          "start_time": "2023-06-30T08:38:38.811420+00:00"
        }
      },
      "execution_count": null,
      "source": "# Adequacy test - Kaiser-Meyer-Olkin test\nKMO, KMO_model = calculate_kmo(DV_df)\nprint('KMO value : {}'.format(round(KMO_model, ndigits = 3)))",
      "outputs": []
    },
    {
      "id": "3510b155-4b42-442c-b661-994256e40fab",
      "cell_type": "markdown",
      "source": "### Communality testing\n",
      "metadata": {
        "noteable": {
          "cell_type": "markdown"
        }
      }
    },
    {
      "id": "4c30a6ea-4c31-4a6a-8b68-9e1d60f0580d",
      "cell_type": "code",
      "metadata": {
        "noteable": {
          "cell_type": "python",
          "output_collection_id": "a3484225-3379-432c-8834-3bf3056e8177"
        },
        "ExecuteTime": {
          "end_time": "2023-06-30T08:38:39.781531+00:00",
          "start_time": "2023-06-30T08:38:39.020590+00:00"
        },
        "datalink": {
          "7037d8f7-698d-4d2e-bc4b-248c64280b70": {
            "applied_filters": [],
            "dataframe_info": {
              "default_index_used": true,
              "orig_num_cols": 2,
              "orig_num_rows": 16,
              "orig_size_bytes": 384,
              "truncated_num_cols": 2,
              "truncated_num_rows": 16,
              "truncated_size_bytes": 384,
              "truncated_string_columns": []
            },
            "display_id": "7037d8f7-698d-4d2e-bc4b-248c64280b70",
            "dx_settings": {
              "ALLOW_NOTEABLE_ATTRS": true,
              "COLUMN_SAMPLING_METHOD": "outer",
              "DB_LOCATION": ":memory:",
              "DEV_MODE": false,
              "DISPLAY_MAX_COLUMNS": 100,
              "DISPLAY_MAX_ROWS": 50000,
              "DISPLAY_MODE": "simple",
              "ENABLE_ASSIGNMENT": true,
              "ENABLE_DATALINK": true,
              "FLATTEN_COLUMN_VALUES": true,
              "FLATTEN_INDEX_VALUES": false,
              "GENERATE_DEX_METADATA": false,
              "HTML_TABLE_SCHEMA": false,
              "LOG_LEVEL": 30,
              "MAX_RENDER_SIZE_BYTES": 104857600,
              "MAX_STRING_LENGTH": 250,
              "NUM_PAST_SAMPLES_TRACKED": 3,
              "RANDOM_STATE": 12648430,
              "RESET_INDEX_VALUES": false,
              "ROW_SAMPLING_METHOD": "random",
              "SAMPLING_FACTOR": 0.1,
              "SAMPLING_METHOD": "random",
              "STRINGIFY_COLUMN_VALUES": true,
              "STRINGIFY_INDEX_VALUES": false
            },
            "sample_history": [],
            "sampling_time": "2023-06-29T10:36:33.340637",
            "user_variable_name": "df_communalities_DV",
            "variable_name": "df_communalities_DV"
          },
          "9214fe27-6163-40d9-bf2c-65d5397af239": {
            "applied_filters": [],
            "dataframe_info": {
              "default_index_used": true,
              "orig_num_cols": 2,
              "orig_num_rows": 16,
              "orig_size_bytes": 384,
              "truncated_num_cols": 2,
              "truncated_num_rows": 16,
              "truncated_size_bytes": 384,
              "truncated_string_columns": []
            },
            "display_id": "9214fe27-6163-40d9-bf2c-65d5397af239",
            "dx_settings": {
              "ALLOW_NOTEABLE_ATTRS": true,
              "COLUMN_SAMPLING_METHOD": "outer",
              "DB_LOCATION": ":memory:",
              "DEV_MODE": false,
              "DISPLAY_MAX_COLUMNS": 100,
              "DISPLAY_MAX_ROWS": 50000,
              "DISPLAY_MODE": "simple",
              "ENABLE_ASSIGNMENT": true,
              "ENABLE_DATALINK": true,
              "FLATTEN_COLUMN_VALUES": true,
              "FLATTEN_INDEX_VALUES": false,
              "GENERATE_DEX_METADATA": false,
              "HTML_TABLE_SCHEMA": false,
              "LOG_LEVEL": 30,
              "MAX_RENDER_SIZE_BYTES": 104857600,
              "MAX_STRING_LENGTH": 250,
              "NUM_PAST_SAMPLES_TRACKED": 3,
              "RANDOM_STATE": 12648430,
              "RESET_INDEX_VALUES": false,
              "ROW_SAMPLING_METHOD": "random",
              "SAMPLING_FACTOR": 0.1,
              "SAMPLING_METHOD": "random",
              "STRINGIFY_COLUMN_VALUES": true,
              "STRINGIFY_INDEX_VALUES": false
            },
            "sample_history": [],
            "sampling_time": "2023-06-29T10:39:03.462254",
            "user_variable_name": "df_communalities_DV",
            "variable_name": "df_communalities_DV"
          },
          "4ef74b8c-c8bd-4c13-a479-9dff556c4c5b": {
            "applied_filters": [],
            "dataframe_info": {
              "default_index_used": true,
              "orig_num_cols": 2,
              "orig_num_rows": 16,
              "orig_size_bytes": 384,
              "truncated_num_cols": 2,
              "truncated_num_rows": 16,
              "truncated_size_bytes": 384,
              "truncated_string_columns": []
            },
            "display_id": "4ef74b8c-c8bd-4c13-a479-9dff556c4c5b",
            "dx_settings": {
              "ALLOW_NOTEABLE_ATTRS": true,
              "COLUMN_SAMPLING_METHOD": "outer",
              "DB_LOCATION": ":memory:",
              "DEV_MODE": false,
              "DISPLAY_MAX_COLUMNS": 100,
              "DISPLAY_MAX_ROWS": 50000,
              "DISPLAY_MODE": "simple",
              "ENABLE_ASSIGNMENT": true,
              "ENABLE_DATALINK": true,
              "FLATTEN_COLUMN_VALUES": true,
              "FLATTEN_INDEX_VALUES": false,
              "GENERATE_DEX_METADATA": false,
              "HTML_TABLE_SCHEMA": false,
              "LOG_LEVEL": 30,
              "MAX_RENDER_SIZE_BYTES": 104857600,
              "MAX_STRING_LENGTH": 250,
              "NUM_PAST_SAMPLES_TRACKED": 3,
              "RANDOM_STATE": 12648430,
              "RESET_INDEX_VALUES": false,
              "ROW_SAMPLING_METHOD": "random",
              "SAMPLING_FACTOR": 0.1,
              "SAMPLING_METHOD": "random",
              "STRINGIFY_COLUMN_VALUES": true,
              "STRINGIFY_INDEX_VALUES": false
            },
            "sample_history": [],
            "sampling_time": "2023-06-29T10:40:47.044475",
            "user_variable_name": "df_communalities_DV",
            "variable_name": "df_communalities_DV"
          }
        }
      },
      "execution_count": null,
      "source": "# Create factor analysis object and perform factor analysis\nfa = FactorAnalyzer(n_factors = 25, rotation = None)\nfa.fit(DV_df)\n# The communalities\ndf_communalities_DV = pd.DataFrame(data = {'Column': DV_df.columns, 'Communality': fa.get_communalities()})\ndf_communalities_DV\ndf_communalities_DV.style.apply(Factor_Analysis.highlightCommunalities, subset = ['Communality'])",
      "outputs": []
    },
    {
      "id": "bed105d7-acd7-4556-a9ae-86efeaaabd8e",
      "cell_type": "markdown",
      "source": "The yellow color indicates that the communality values meet the criteria — greater than 0.5. Eliminated Variable below 0.5 .",
      "metadata": {
        "noteable": {
          "cell_type": "markdown"
        }
      }
    },
    {
      "id": "e3d65067-2aa3-4e5e-9c4d-b995e10aabb5",
      "cell_type": "code",
      "metadata": {
        "jupyter": {
          "outputs_hidden": false,
          "source_hidden": false
        },
        "noteable": {
          "cell_type": "code",
          "output_collection_id": "663c2065-9aaf-4a5f-9d68-4607366b08ea"
        },
        "ExecuteTime": {
          "end_time": "2023-06-30T08:38:40.787564+00:00",
          "start_time": "2023-06-30T08:38:39.789245+00:00"
        }
      },
      "execution_count": null,
      "source": "# Data viz\nplotnine.options.figure_size = (15, 9)\ncommunality_bar = (\n    ggplot(data = df_communalities_DV)+\n    geom_bar(aes(x = 'Column',\n                 y = 'Communality'),\n             width = 0.75,\n             stat = 'identity')+\n    geom_hline(yintercept = 0.5)+\n    scale_x_discrete(limits = df_communalities_DV['Column'].tolist())+\n    labs(title = 'Communalitites of factor analysis')+\n    xlab('Columns')+\n    ylab('Communalities')+\n    theme_minimal()\n)\n# Display the viz\ncommunality_bar",
      "outputs": []
    },
    {
      "id": "3bf29d56-af01-495e-b249-19160b13444c",
      "cell_type": "markdown",
      "source": "### Reduce Factors",
      "metadata": {
        "noteable": {
          "cell_type": "markdown"
        }
      }
    },
    {
      "id": "8a414302-06df-467c-8cd0-ea52be0cb98e",
      "cell_type": "code",
      "metadata": {
        "jupyter": {
          "outputs_hidden": false,
          "source_hidden": false
        },
        "noteable": {
          "cell_type": "code",
          "output_collection_id": "a6b27e2a-ae4e-4c7a-a3e4-8f0bddaecd00"
        },
        "ExecuteTime": {
          "end_time": "2023-06-30T08:38:41.293012+00:00",
          "start_time": "2023-06-30T08:38:41.137025+00:00"
        }
      },
      "execution_count": null,
      "source": "# Check Eigenvalues\neigenValue, value = fa.get_eigenvalues()",
      "outputs": []
    },
    {
      "id": "c01cb07b-1be4-411e-a7f7-3851eb3a6494",
      "cell_type": "code",
      "metadata": {
        "jupyter": {
          "outputs_hidden": false,
          "source_hidden": false
        },
        "noteable": {
          "cell_type": "code",
          "output_collection_id": "73d46de4-d7cf-402d-9018-90dca168b7c9"
        },
        "ExecuteTime": {
          "end_time": "2023-06-30T08:38:41.505705+00:00",
          "start_time": "2023-06-30T08:38:41.310472+00:00"
        }
      },
      "execution_count": null,
      "source": "# Convert the results into a dataframe\ndf_DV_eigen = pd.DataFrame({'Factor': range(1, len(eigenValue) + 1), 'Eigen value': eigenValue})\ndf_DV_eigen.style.apply(Factor_Analysis.highlightEigenvalue, subset = ['Eigen value'])",
      "outputs": []
    },
    {
      "id": "d7bfdfc0-bc56-4447-81ff-0d9d16bb4de4",
      "cell_type": "markdown",
      "source": "According to the Kaiser criteria, the number of factors generated is 4. It means that the 16 columns or well-known variables will be grouped and interpreted into 4 factors.",
      "metadata": {
        "noteable": {
          "cell_type": "markdown"
        }
      }
    },
    {
      "id": "3160b2e4-d849-4448-b7cd-224601cf2b37",
      "cell_type": "code",
      "metadata": {
        "jupyter": {
          "outputs_hidden": false,
          "source_hidden": false
        },
        "noteable": {
          "cell_type": "code",
          "output_collection_id": "c4abd853-82eb-46aa-8a0c-149fe3732aa1"
        },
        "ExecuteTime": {
          "end_time": "2023-06-30T08:38:42.298043+00:00",
          "start_time": "2023-06-30T08:38:41.512901+00:00"
        },
        "scrolled": false
      },
      "execution_count": null,
      "source": "# Data viz\nplotnine.options.figure_size = (8, 4.8)\nDV_scree_eigenvalue = (\n    ggplot(data = df_DV_eigen)+\n    geom_hline(yintercept = 1)+\n    geom_line(aes(x = 'Factor',\n                  y = 'Eigen value'))+\n    geom_point(aes(x = 'Factor',\n                   y = 'Eigen value'),\n               size = 2)+\n    labs(title = 'Scree plot of eigen value from factor analysis')+\n    xlab('Factors')+\n    ylab('Eigenvalue')+\n    theme_minimal()\n)\n# Display the viz\nDV_scree_eigenvalue",
      "outputs": []
    },
    {
      "id": "d4469999-ad78-4c57-93d7-8d3b19d28963",
      "cell_type": "code",
      "metadata": {
        "jupyter": {
          "outputs_hidden": false,
          "source_hidden": false
        },
        "noteable": {
          "cell_type": "code",
          "output_collection_id": "b3a470e2-bb84-4da6-9256-aed7a587e601"
        },
        "ExecuteTime": {
          "end_time": "2023-06-30T08:38:43.157024+00:00",
          "start_time": "2023-06-30T08:38:42.550344+00:00"
        },
        "scrolled": false
      },
      "execution_count": null,
      "source": "# Factor analysis with rotation\nfa = FactorAnalyzer(n_factors = 4, rotation = 'varimax')\nfa.fit(DV_df)\n# Create a factor's names\nfacs = ['Factors' + ' ' + str(i + 1) for i in range(4)]\nprint(facs)\n# Loading factors\npd.DataFrame(data = fa.loadings_, index = DV_df.columns, columns = facs).style.apply(Factor_Analysis.highlightLoadings)",
      "outputs": []
    },
    {
      "id": "ac44e5e7-459e-4e9e-b85a-5657ee665d51",
      "cell_type": "markdown",
      "source": "#### 由上述結果可以發現依變數可以分為4個構面：</b>\n\n* 線上媒體政治參與(online_media_pp) : read_media / like_media / share_media / comment_media</b>\n\n-> reference : 劉嘉薇，2019\n* 投票參與(voting) : election_mayor / election_18</b>\n\n-> reference : Barnes and  Kaase (1979) \n\n* 線下媒體政治參與(offline_media_pp) : read_election_news / read_election_leaflet\n\n-> reference : 徐火炎，2001\n* 競選工作式政治參與(campaign_worker_pp) : campaign / volunteer\n\n-> reference : Mibrath and Goel，1977",
      "metadata": {
        "noteable": {
          "cell_type": "markdown"
        }
      }
    },
    {
      "id": "e4a07af3-25c0-4aad-be44-90320162cfb9",
      "cell_type": "code",
      "metadata": {
        "jupyter": {
          "outputs_hidden": false,
          "source_hidden": false
        },
        "noteable": {
          "cell_type": "code",
          "output_collection_id": "cb841514-7c00-4ff7-b879-58bc980e15ab"
        },
        "ExecuteTime": {
          "end_time": "2023-06-30T08:38:43.366308+00:00",
          "start_time": "2023-06-30T08:38:43.183425+00:00"
        },
        "datalink": {
          "1ff1b460-556c-46c6-b2c5-3ec1e8859199": {
            "applied_filters": [],
            "dataframe_info": {
              "default_index_used": false,
              "orig_num_cols": 4,
              "orig_num_rows": 4,
              "orig_size_bytes": 160,
              "truncated_num_cols": 4,
              "truncated_num_rows": 4,
              "truncated_size_bytes": 160,
              "truncated_string_columns": []
            },
            "display_id": "1ff1b460-556c-46c6-b2c5-3ec1e8859199",
            "dx_settings": {
              "ALLOW_NOTEABLE_ATTRS": true,
              "COLUMN_SAMPLING_METHOD": "outer",
              "DB_LOCATION": ":memory:",
              "DEV_MODE": false,
              "DISPLAY_MAX_COLUMNS": 100,
              "DISPLAY_MAX_ROWS": 50000,
              "DISPLAY_MODE": "simple",
              "ENABLE_ASSIGNMENT": true,
              "ENABLE_DATALINK": true,
              "FLATTEN_COLUMN_VALUES": true,
              "FLATTEN_INDEX_VALUES": false,
              "GENERATE_DEX_METADATA": false,
              "HTML_TABLE_SCHEMA": false,
              "LOG_LEVEL": 30,
              "MAX_RENDER_SIZE_BYTES": 104857600,
              "MAX_STRING_LENGTH": 250,
              "NUM_PAST_SAMPLES_TRACKED": 3,
              "RANDOM_STATE": 12648430,
              "RESET_INDEX_VALUES": false,
              "ROW_SAMPLING_METHOD": "random",
              "SAMPLING_FACTOR": 0.1,
              "SAMPLING_METHOD": "random",
              "STRINGIFY_COLUMN_VALUES": true,
              "STRINGIFY_INDEX_VALUES": false
            },
            "sample_history": [],
            "sampling_time": "2023-06-30T07:43:52.738630",
            "user_variable_name": null,
            "variable_name": "unk_dataframe_8457f2964311431bb801b503cd360cbe"
          },
          "de21e333-e29e-47d5-ab55-6597932053f5": {
            "applied_filters": [],
            "dataframe_info": {
              "default_index_used": false,
              "orig_num_cols": 4,
              "orig_num_rows": 4,
              "orig_size_bytes": 160,
              "truncated_num_cols": 4,
              "truncated_num_rows": 4,
              "truncated_size_bytes": 160,
              "truncated_string_columns": []
            },
            "display_id": "de21e333-e29e-47d5-ab55-6597932053f5",
            "dx_settings": {
              "ALLOW_NOTEABLE_ATTRS": true,
              "COLUMN_SAMPLING_METHOD": "outer",
              "DB_LOCATION": ":memory:",
              "DEV_MODE": false,
              "DISPLAY_MAX_COLUMNS": 100,
              "DISPLAY_MAX_ROWS": 50000,
              "DISPLAY_MODE": "simple",
              "ENABLE_ASSIGNMENT": true,
              "ENABLE_DATALINK": true,
              "FLATTEN_COLUMN_VALUES": true,
              "FLATTEN_INDEX_VALUES": false,
              "GENERATE_DEX_METADATA": false,
              "HTML_TABLE_SCHEMA": false,
              "LOG_LEVEL": 30,
              "MAX_RENDER_SIZE_BYTES": 104857600,
              "MAX_STRING_LENGTH": 250,
              "NUM_PAST_SAMPLES_TRACKED": 3,
              "RANDOM_STATE": 12648430,
              "RESET_INDEX_VALUES": false,
              "ROW_SAMPLING_METHOD": "random",
              "SAMPLING_FACTOR": 0.1,
              "SAMPLING_METHOD": "random",
              "STRINGIFY_COLUMN_VALUES": true,
              "STRINGIFY_INDEX_VALUES": false
            },
            "sample_history": [],
            "sampling_time": "2023-06-30T08:22:45.439636",
            "user_variable_name": null,
            "variable_name": "unk_dataframe_87373e80730b4353ab01c6e103ee0eeb"
          }
        },
        "dx": {
          "dashboard": {
            "multiViews": []
          },
          "fieldMetadata": {},
          "updated": 1688111056702,
          "views": [
            {
              "annotationRules": [],
              "chart": {},
              "chartMode": "grid",
              "confoRules": [],
              "decoration": {
                "footer": "",
                "subtitle": "",
                "title": "Table"
              },
              "facets": [],
              "filterSettings": {
                "SHOW_FILTER_PANEL": true,
                "filters": []
              },
              "id": "first-view",
              "isDefault": true,
              "type": "public",
              "userID": ""
            },
            {
              "annotationRules": [],
              "chart": {
                "tableSparklines": false
              },
              "chartMode": "grid",
              "confoRules": [],
              "decoration": {
                "footer": "",
                "subtitle": "",
                "title": "Table"
              },
              "facets": [],
              "filterSettings": {
                "SHOW_FILTER_PANEL": true,
                "filters": []
              },
              "id": "first-view",
              "isDefault": true,
              "isTransitory": true,
              "type": "public",
              "userID": ""
            }
          ]
        },
        "scrolled": false
      },
      "execution_count": null,
      "source": "# # Explained variance\n# idx = ['SS Loadings', 'Proportion Variance', 'Cumulative Variance']\n# df_variance_DV = pd.DataFrame(data = fa.get_factor_variance(), index = idx, columns = facs)\n# # Ratio of variance\n# ratioVariance_DV = fa.get_factor_variance()[1] / fa.get_factor_variance()[1].sum()\n# df_ratio_var_DV = pd.DataFrame(data = ratioVariance_DV.reshape((1, 4)), index = ['Ratio Variance'], columns = facs)\n# # New completed dataframe\n# df_variance_DV.append(df_ratio_var_DV)",
      "outputs": []
    },
    {
      "id": "1fc26260-63c3-4728-bbb6-5de12eccb200",
      "cell_type": "code",
      "metadata": {
        "jupyter": {
          "outputs_hidden": false,
          "source_hidden": false
        },
        "noteable": {
          "cell_type": "code",
          "output_collection_id": "0ecf6052-1824-41c2-a5db-ec01adbe57d2"
        },
        "ExecuteTime": {
          "end_time": "2023-06-30T08:38:44.569299+00:00",
          "start_time": "2023-06-30T08:38:43.722637+00:00"
        },
        "datalink": {
          "024a7a13-bd4f-4a3d-a652-c610afec4670": {
            "applied_filters": [],
            "dataframe_info": {
              "default_index_used": true,
              "orig_num_cols": 4,
              "orig_num_rows": 503,
              "orig_size_bytes": 20120,
              "truncated_num_cols": 4,
              "truncated_num_rows": 503,
              "truncated_size_bytes": 20120,
              "truncated_string_columns": []
            },
            "display_id": "024a7a13-bd4f-4a3d-a652-c610afec4670",
            "dx_settings": {
              "ALLOW_NOTEABLE_ATTRS": true,
              "COLUMN_SAMPLING_METHOD": "outer",
              "DB_LOCATION": ":memory:",
              "DEV_MODE": false,
              "DISPLAY_MAX_COLUMNS": 100,
              "DISPLAY_MAX_ROWS": 50000,
              "DISPLAY_MODE": "simple",
              "ENABLE_ASSIGNMENT": true,
              "ENABLE_DATALINK": true,
              "FLATTEN_COLUMN_VALUES": true,
              "FLATTEN_INDEX_VALUES": false,
              "GENERATE_DEX_METADATA": false,
              "HTML_TABLE_SCHEMA": false,
              "LOG_LEVEL": 30,
              "MAX_RENDER_SIZE_BYTES": 104857600,
              "MAX_STRING_LENGTH": 250,
              "NUM_PAST_SAMPLES_TRACKED": 3,
              "RANDOM_STATE": 12648430,
              "RESET_INDEX_VALUES": false,
              "ROW_SAMPLING_METHOD": "random",
              "SAMPLING_FACTOR": 0.1,
              "SAMPLING_METHOD": "random",
              "STRINGIFY_COLUMN_VALUES": true,
              "STRINGIFY_INDEX_VALUES": false
            },
            "sample_history": [],
            "sampling_time": "2023-06-30T08:00:53.825938",
            "user_variable_name": "df_factors_DV",
            "variable_name": "df_factors_DV"
          },
          "4de7d7aa-49b5-46c0-8551-1a7c9611056a": {
            "applied_filters": [],
            "dataframe_info": {
              "default_index_used": true,
              "orig_num_cols": 4,
              "orig_num_rows": 503,
              "orig_size_bytes": 20120,
              "truncated_num_cols": 4,
              "truncated_num_rows": 503,
              "truncated_size_bytes": 20120,
              "truncated_string_columns": []
            },
            "display_id": "4de7d7aa-49b5-46c0-8551-1a7c9611056a",
            "dx_settings": {
              "ALLOW_NOTEABLE_ATTRS": true,
              "COLUMN_SAMPLING_METHOD": "outer",
              "DB_LOCATION": ":memory:",
              "DEV_MODE": false,
              "DISPLAY_MAX_COLUMNS": 100,
              "DISPLAY_MAX_ROWS": 50000,
              "DISPLAY_MODE": "simple",
              "ENABLE_ASSIGNMENT": true,
              "ENABLE_DATALINK": true,
              "FLATTEN_COLUMN_VALUES": true,
              "FLATTEN_INDEX_VALUES": false,
              "GENERATE_DEX_METADATA": false,
              "HTML_TABLE_SCHEMA": false,
              "LOG_LEVEL": 30,
              "MAX_RENDER_SIZE_BYTES": 104857600,
              "MAX_STRING_LENGTH": 250,
              "NUM_PAST_SAMPLES_TRACKED": 3,
              "RANDOM_STATE": 12648430,
              "RESET_INDEX_VALUES": false,
              "ROW_SAMPLING_METHOD": "random",
              "SAMPLING_FACTOR": 0.1,
              "SAMPLING_METHOD": "random",
              "STRINGIFY_COLUMN_VALUES": true,
              "STRINGIFY_INDEX_VALUES": false
            },
            "sample_history": [],
            "sampling_time": "2023-06-30T08:22:57.830361",
            "user_variable_name": "df_factors_DV",
            "variable_name": "df_factors_DV"
          },
          "4468e301-334f-4e67-a25f-de95a3824704": {
            "applied_filters": [],
            "dataframe_info": {
              "default_index_used": true,
              "orig_num_cols": 4,
              "orig_num_rows": 503,
              "orig_size_bytes": 20120,
              "truncated_num_cols": 4,
              "truncated_num_rows": 503,
              "truncated_size_bytes": 20120,
              "truncated_string_columns": []
            },
            "display_id": "4468e301-334f-4e67-a25f-de95a3824704",
            "dx_settings": {
              "ALLOW_NOTEABLE_ATTRS": true,
              "COLUMN_SAMPLING_METHOD": "outer",
              "DB_LOCATION": ":memory:",
              "DEV_MODE": false,
              "DISPLAY_MAX_COLUMNS": 100,
              "DISPLAY_MAX_ROWS": 50000,
              "DISPLAY_MODE": "simple",
              "ENABLE_ASSIGNMENT": true,
              "ENABLE_DATALINK": true,
              "FLATTEN_COLUMN_VALUES": true,
              "FLATTEN_INDEX_VALUES": false,
              "GENERATE_DEX_METADATA": false,
              "HTML_TABLE_SCHEMA": false,
              "LOG_LEVEL": 30,
              "MAX_RENDER_SIZE_BYTES": 104857600,
              "MAX_STRING_LENGTH": 250,
              "NUM_PAST_SAMPLES_TRACKED": 3,
              "RANDOM_STATE": 12648430,
              "RESET_INDEX_VALUES": false,
              "ROW_SAMPLING_METHOD": "random",
              "SAMPLING_FACTOR": 0.1,
              "SAMPLING_METHOD": "random",
              "STRINGIFY_COLUMN_VALUES": true,
              "STRINGIFY_INDEX_VALUES": false
            },
            "sample_history": [],
            "sampling_time": "2023-06-30T08:38:44.407213",
            "user_variable_name": "df_factors_DV",
            "variable_name": "df_factors_DV"
          }
        }
      },
      "execution_count": null,
      "source": "df_factors_DV = pd.DataFrame(data = fa.fit_transform(DV_df),columns = facs)\ndf_factors_DV                     ",
      "outputs": []
    },
    {
      "id": "51aa365e-41e1-4012-87af-35bb7b7fd9bb",
      "cell_type": "markdown",
      "source": "### Establish Index with mean method",
      "metadata": {
        "noteable": {
          "cell_type": "markdown"
        }
      }
    },
    {
      "id": "0c464dab-8c8e-4441-9bc0-0c4cce8f505b",
      "cell_type": "code",
      "metadata": {
        "jupyter": {
          "outputs_hidden": false,
          "source_hidden": false
        },
        "noteable": {
          "cell_type": "code",
          "output_collection_id": "eea0b4d9-03c2-4235-b455-efc3d1d59411"
        },
        "ExecuteTime": {
          "end_time": "2023-06-30T08:38:45.688946+00:00",
          "start_time": "2023-06-30T08:38:45.531039+00:00"
        }
      },
      "execution_count": null,
      "source": "",
      "outputs": []
    },
    {
      "id": "7e8e3a89-00e1-495c-82c8-af55b0ef8b8d",
      "cell_type": "code",
      "metadata": {
        "jupyter": {
          "outputs_hidden": false,
          "source_hidden": false
        },
        "noteable": {
          "cell_type": "code",
          "output_collection_id": "f4b9de44-25f4-444d-9a02-30b8ad676297"
        },
        "ExecuteTime": {
          "end_time": "2023-06-30T08:38:57.188409+00:00",
          "start_time": "2023-06-30T08:38:57.021027+00:00"
        }
      },
      "execution_count": null,
      "source": "",
      "outputs": []
    }
  ],
  "metadata": {
    "kernelspec": {
      "display_name": "base",
      "language": "python",
      "name": "python3"
    },
    "language_info": {
      "codemirror_mode": {
        "name": "ipython",
        "version": 3
      },
      "file_extension": ".py",
      "mimetype": "text/x-python",
      "name": "python",
      "nbconvert_exporter": "python",
      "pygments_lexer": "ipython3",
      "version": "3.9.12"
    },
    "orig_nbformat": 4,
    "noteable": {
      "last_transaction_id": "7830d4e5-a1b7-4ba1-87fd-35dab5fb2dc4"
    },
    "selected_hardware_size": "small"
  },
  "nbformat": 4,
  "nbformat_minor": 5
}