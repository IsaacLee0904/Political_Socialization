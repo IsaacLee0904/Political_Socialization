{
  "cells": [
    {
      "cell_type": "markdown",
      "id": "10138122-2bc3-42f4-b997-1ac41d3122b8",
      "metadata": {
        "noteable": {
          "cell_type": "markdown"
        }
      },
      "source": [
        "# media_political_analysis_basic\n",
        "* DV : online.mean() / offline.mean() \n",
        "* IV : anti_party.mean()\n"
      ]
    },
    {
      "attachments": {},
      "cell_type": "markdown",
      "id": "51ac109b",
      "metadata": {},
      "source": [
        "## Import package"
      ]
    },
    {
      "cell_type": "code",
      "execution_count": 6,
      "id": "f0c407eb",
      "metadata": {
        "ExecuteTime": {
          "end_time": "2023-06-30T09:50:34.264085+00:00",
          "start_time": "2023-06-30T09:50:34.107389+00:00"
        },
        "noteable": {
          "output_collection_id": "ae4e9684-f786-4faa-8960-285173948ecd"
        }
      },
      "outputs": [],
      "source": [
        "# for data ETL\n",
        "import pandas as pd\n",
        "import ETL\n",
        "# for stats ml\n",
        "import statsmodels.api as sm\n",
        "import statsmodels.formula.api as smf\n",
        "from statsmodels.miscmodels.ordinal_model import OrderedModel"
      ]
    },
    {
      "attachments": {},
      "cell_type": "markdown",
      "id": "2b5ccbd5",
      "metadata": {},
      "source": [
        "## Load data and filiter "
      ]
    },
    {
      "cell_type": "code",
      "execution_count": 7,
      "id": "625c9313",
      "metadata": {
        "ExecuteTime": {
          "end_time": "2023-06-30T09:50:34.464775+00:00",
          "start_time": "2023-06-30T09:50:34.283408+00:00"
        },
        "noteable": {
          "output_collection_id": "f42180ed-ce58-493c-825e-a0c0d9ff0639"
        }
      },
      "outputs": [],
      "source": [
        "raw_data = pd.read_csv('raw_data.csv')"
      ]
    },
    {
      "cell_type": "code",
      "execution_count": 8,
      "id": "43440d4d",
      "metadata": {
        "ExecuteTime": {
          "end_time": "2023-06-30T09:50:34.633282+00:00",
          "start_time": "2023-06-30T09:50:34.471154+00:00"
        },
        "noteable": {
          "output_collection_id": "46115b64-7cdd-4b1d-aef2-6ad96775cf0e"
        }
      },
      "outputs": [
        {
          "name": "stderr",
          "output_type": "stream",
          "text": [
            "C:\\Users\\GTW_user\\AppData\\Local\\Temp\\ipykernel_9080\\2097987034.py:2: SettingWithCopyWarning: \n",
            "A value is trying to be set on a copy of a slice from a DataFrame\n",
            "\n",
            "See the caveats in the documentation: https://pandas.pydata.org/pandas-docs/stable/user_guide/indexing.html#returning-a-view-versus-a-copy\n",
            "  filter_data.drop(['您有絶對的權力決定是否要參與本研究。若您願意參與，請務必勾選下列選項：', '請填寫您的電子信箱，以利後續抽獎聯繫使用'], axis=1, inplace=True)\n"
          ]
        }
      ],
      "source": [
        "filter_data = raw_data.loc[raw_data['目前國內政黨當中，請問您是否偏向哪一個政黨？'].isin(['沒有特定支持', '都不支持'])]\n",
        "filter_data.drop(['您有絶對的權力決定是否要參與本研究。若您願意參與，請務必勾選下列選項：', '請填寫您的電子信箱，以利後續抽獎聯繫使用'], axis=1, inplace=True)"
      ]
    },
    {
      "attachments": {},
      "cell_type": "markdown",
      "id": "77198f5b",
      "metadata": {},
      "source": [
        "## Data Cleaning"
      ]
    },
    {
      "cell_type": "code",
      "execution_count": 9,
      "id": "4f009c58-e34f-4a63-bbf9-b3cedab4374e",
      "metadata": {
        "ExecuteTime": {
          "end_time": "2023-06-30T09:50:34.845042+00:00",
          "start_time": "2023-06-30T09:50:34.638592+00:00"
        },
        "noteable": {
          "cell_type": "python",
          "output_collection_id": "8d853eef-0863-464a-8263-f61d34ef3dee"
        }
      },
      "outputs": [
        {
          "name": "stderr",
          "output_type": "stream",
          "text": [
            "c:\\Users\\GTW_user\\Desktop\\Github\\media_political\\ETL.py:11: SettingWithCopyWarning: \n",
            "A value is trying to be set on a copy of a slice from a DataFrame.\n",
            "Try using .loc[row_indexer,col_indexer] = value instead\n",
            "\n",
            "See the caveats in the documentation: https://pandas.pydata.org/pandas-docs/stable/user_guide/indexing.html#returning-a-view-versus-a-copy\n",
            "  filter_data['TV_news_time'] = filter_data['請問您平均每天花多少時間注意電視上的選舉新聞？'].apply(ETL_function.news_time)\n",
            "c:\\Users\\GTW_user\\Desktop\\Github\\media_political\\ETL.py:12: SettingWithCopyWarning: \n",
            "A value is trying to be set on a copy of a slice from a DataFrame.\n",
            "Try using .loc[row_indexer,col_indexer] = value instead\n",
            "\n",
            "See the caveats in the documentation: https://pandas.pydata.org/pandas-docs/stable/user_guide/indexing.html#returning-a-view-versus-a-copy\n",
            "  filter_data['news_paper_time'] = filter_data['請問您平均每天花多少時間注意報紙上的選舉新聞？'].apply(ETL_function.news_time)\n",
            "c:\\Users\\GTW_user\\Desktop\\Github\\media_political\\ETL.py:13: SettingWithCopyWarning: \n",
            "A value is trying to be set on a copy of a slice from a DataFrame.\n",
            "Try using .loc[row_indexer,col_indexer] = value instead\n",
            "\n",
            "See the caveats in the documentation: https://pandas.pydata.org/pandas-docs/stable/user_guide/indexing.html#returning-a-view-versus-a-copy\n",
            "  filter_data['int_news_time'] = filter_data['請問您平均每天花多少時間注意網路上的選舉新聞？'].apply(ETL_function.news_time)\n",
            "c:\\Users\\GTW_user\\Desktop\\Github\\media_political\\ETL.py:14: SettingWithCopyWarning: \n",
            "A value is trying to be set on a copy of a slice from a DataFrame.\n",
            "Try using .loc[row_indexer,col_indexer] = value instead\n",
            "\n",
            "See the caveats in the documentation: https://pandas.pydata.org/pandas-docs/stable/user_guide/indexing.html#returning-a-view-versus-a-copy\n",
            "  filter_data['TV_debate'] = filter_data['今年九合一選舉中，我有觀看候選人電視辯論會。'].apply(ETL_function.TV_debate)\n",
            "c:\\Users\\GTW_user\\Desktop\\Github\\media_political\\ETL.py:15: SettingWithCopyWarning: \n",
            "A value is trying to be set on a copy of a slice from a DataFrame.\n",
            "Try using .loc[row_indexer,col_indexer] = value instead\n",
            "\n",
            "See the caveats in the documentation: https://pandas.pydata.org/pandas-docs/stable/user_guide/indexing.html#returning-a-view-versus-a-copy\n",
            "  filter_data['read_media'] = filter_data['請問您有多常瀏覽候選人的社群媒體？'].apply(ETL_function.read_media)\n",
            "c:\\Users\\GTW_user\\Desktop\\Github\\media_political\\ETL.py:16: SettingWithCopyWarning: \n",
            "A value is trying to be set on a copy of a slice from a DataFrame.\n",
            "Try using .loc[row_indexer,col_indexer] = value instead\n",
            "\n",
            "See the caveats in the documentation: https://pandas.pydata.org/pandas-docs/stable/user_guide/indexing.html#returning-a-view-versus-a-copy\n",
            "  filter_data['like_media'] = filter_data['請問您有多常在候選人的社群媒體貼文下按讚（任何表情符號）？'].apply(ETL_function.like_media)\n",
            "c:\\Users\\GTW_user\\Desktop\\Github\\media_political\\ETL.py:17: SettingWithCopyWarning: \n",
            "A value is trying to be set on a copy of a slice from a DataFrame.\n",
            "Try using .loc[row_indexer,col_indexer] = value instead\n",
            "\n",
            "See the caveats in the documentation: https://pandas.pydata.org/pandas-docs/stable/user_guide/indexing.html#returning-a-view-versus-a-copy\n",
            "  filter_data['share_media'] = filter_data['請問您有多常分享候選人的社群媒體貼文？'].apply(ETL_function.share_media)\n",
            "c:\\Users\\GTW_user\\Desktop\\Github\\media_political\\ETL.py:18: SettingWithCopyWarning: \n",
            "A value is trying to be set on a copy of a slice from a DataFrame.\n",
            "Try using .loc[row_indexer,col_indexer] = value instead\n",
            "\n",
            "See the caveats in the documentation: https://pandas.pydata.org/pandas-docs/stable/user_guide/indexing.html#returning-a-view-versus-a-copy\n",
            "  filter_data['comment_media'] = filter_data['請問您有多常在候選人的社群媒體貼文底下留言？'].apply(ETL_function.comment_media)\n",
            "c:\\Users\\GTW_user\\Desktop\\Github\\media_political\\ETL.py:19: SettingWithCopyWarning: \n",
            "A value is trying to be set on a copy of a slice from a DataFrame.\n",
            "Try using .loc[row_indexer,col_indexer] = value instead\n",
            "\n",
            "See the caveats in the documentation: https://pandas.pydata.org/pandas-docs/stable/user_guide/indexing.html#returning-a-view-versus-a-copy\n",
            "  filter_data['int_discuss'] = filter_data['請問您平時會不會在網路上與他人討論有關政治或選舉方面的議題？'].apply(ETL_function.int_discuss)\n",
            "c:\\Users\\GTW_user\\Desktop\\Github\\media_political\\ETL.py:20: SettingWithCopyWarning: \n",
            "A value is trying to be set on a copy of a slice from a DataFrame.\n",
            "Try using .loc[row_indexer,col_indexer] = value instead\n",
            "\n",
            "See the caveats in the documentation: https://pandas.pydata.org/pandas-docs/stable/user_guide/indexing.html#returning-a-view-versus-a-copy\n",
            "  filter_data['read_election_news'] = filter_data['今年九合一選舉中，我有閱讀選舉公報。'].apply(ETL_function.Likert)\n",
            "c:\\Users\\GTW_user\\Desktop\\Github\\media_political\\ETL.py:21: SettingWithCopyWarning: \n",
            "A value is trying to be set on a copy of a slice from a DataFrame.\n",
            "Try using .loc[row_indexer,col_indexer] = value instead\n",
            "\n",
            "See the caveats in the documentation: https://pandas.pydata.org/pandas-docs/stable/user_guide/indexing.html#returning-a-view-versus-a-copy\n",
            "  filter_data['read_election_leaflet'] = filter_data['今年九合一選舉中，我有閱讀候選人傳單、快報或報刊廣告。'].apply(ETL_function.Likert)\n",
            "c:\\Users\\GTW_user\\Desktop\\Github\\media_political\\ETL.py:22: SettingWithCopyWarning: \n",
            "A value is trying to be set on a copy of a slice from a DataFrame.\n",
            "Try using .loc[row_indexer,col_indexer] = value instead\n",
            "\n",
            "See the caveats in the documentation: https://pandas.pydata.org/pandas-docs/stable/user_guide/indexing.html#returning-a-view-versus-a-copy\n",
            "  filter_data['convince'] = filter_data['請問您有多常遊說或勸說親友投票給某位候選人？'].apply(ETL_function.convince)\n",
            "c:\\Users\\GTW_user\\Desktop\\Github\\media_political\\ETL.py:23: SettingWithCopyWarning: \n",
            "A value is trying to be set on a copy of a slice from a DataFrame.\n",
            "Try using .loc[row_indexer,col_indexer] = value instead\n",
            "\n",
            "See the caveats in the documentation: https://pandas.pydata.org/pandas-docs/stable/user_guide/indexing.html#returning-a-view-versus-a-copy\n",
            "  filter_data['campaign'] = filter_data['今年九合一選舉中，我有主動參加造勢活動。'].apply(ETL_function.Likert)\n",
            "c:\\Users\\GTW_user\\Desktop\\Github\\media_political\\ETL.py:24: SettingWithCopyWarning: \n",
            "A value is trying to be set on a copy of a slice from a DataFrame.\n",
            "Try using .loc[row_indexer,col_indexer] = value instead\n",
            "\n",
            "See the caveats in the documentation: https://pandas.pydata.org/pandas-docs/stable/user_guide/indexing.html#returning-a-view-versus-a-copy\n",
            "  filter_data['volunteer'] = filter_data['今年九合一選舉中，我有擔任候選人或政黨的助選工作人員或義工。'].apply(ETL_function.Likert)\n",
            "c:\\Users\\GTW_user\\Desktop\\Github\\media_political\\ETL.py:25: SettingWithCopyWarning: \n",
            "A value is trying to be set on a copy of a slice from a DataFrame.\n",
            "Try using .loc[row_indexer,col_indexer] = value instead\n",
            "\n",
            "See the caveats in the documentation: https://pandas.pydata.org/pandas-docs/stable/user_guide/indexing.html#returning-a-view-versus-a-copy\n",
            "  filter_data['election_mayor'] = filter_data['請問今年縣市長選舉中，您是否可能去投票？'].apply(ETL_function.election)\n",
            "c:\\Users\\GTW_user\\Desktop\\Github\\media_political\\ETL.py:26: SettingWithCopyWarning: \n",
            "A value is trying to be set on a copy of a slice from a DataFrame.\n",
            "Try using .loc[row_indexer,col_indexer] = value instead\n",
            "\n",
            "See the caveats in the documentation: https://pandas.pydata.org/pandas-docs/stable/user_guide/indexing.html#returning-a-view-versus-a-copy\n",
            "  filter_data['election_18'] = filter_data['請問今年18歲公民權修憲公投，您是否可能去投票？'].apply(ETL_function.election)\n",
            "c:\\Users\\GTW_user\\Desktop\\Github\\media_political\\ETL.py:29: SettingWithCopyWarning: \n",
            "A value is trying to be set on a copy of a slice from a DataFrame.\n",
            "Try using .loc[row_indexer,col_indexer] = value instead\n",
            "\n",
            "See the caveats in the documentation: https://pandas.pydata.org/pandas-docs/stable/user_guide/indexing.html#returning-a-view-versus-a-copy\n",
            "  filter_data['sex'] = filter_data['受訪者性別'].apply(ETL_function.sex)\n",
            "c:\\Users\\GTW_user\\Desktop\\Github\\media_political\\ETL.py:30: SettingWithCopyWarning: \n",
            "A value is trying to be set on a copy of a slice from a DataFrame.\n",
            "Try using .loc[row_indexer,col_indexer] = value instead\n",
            "\n",
            "See the caveats in the documentation: https://pandas.pydata.org/pandas-docs/stable/user_guide/indexing.html#returning-a-view-versus-a-copy\n",
            "  filter_data['台灣社會有多重的身份認同，有人認為自己是本省客家人、本省閩南人、大陸各省市人或原住民，請問您認為您的認同較接近哪一個?'] = filter_data.apply(lambda row: row['其他.6'] if row['台灣社會有多重的身份認同，有人認為自己是本省客家人、本省閩南人、大陸各省市人或原住民，請問您認為您的認同較接近哪一個?'] == '其他' else row['台灣社會有多重的身份認同，有人認為自己是本省客家人、本省閩南人、大陸各省市人或原住民，請問您認為您的認同較接近哪一個?'],axis=1)\n",
            "c:\\Users\\GTW_user\\Desktop\\Github\\media_political\\ETL.py:31: SettingWithCopyWarning: \n",
            "A value is trying to be set on a copy of a slice from a DataFrame.\n",
            "Try using .loc[row_indexer,col_indexer] = value instead\n",
            "\n",
            "See the caveats in the documentation: https://pandas.pydata.org/pandas-docs/stable/user_guide/indexing.html#returning-a-view-versus-a-copy\n",
            "  filter_data['ethnic'] = filter_data['台灣社會有多重的身份認同，有人認為自己是本省客家人、本省閩南人、大陸各省市人或原住民，請問您認為您的認同較接近哪一個?'].apply(ETL_function.ethnic)\n",
            "c:\\Users\\GTW_user\\Desktop\\Github\\media_political\\ETL.py:32: SettingWithCopyWarning: \n",
            "A value is trying to be set on a copy of a slice from a DataFrame.\n",
            "Try using .loc[row_indexer,col_indexer] = value instead\n",
            "\n",
            "See the caveats in the documentation: https://pandas.pydata.org/pandas-docs/stable/user_guide/indexing.html#returning-a-view-versus-a-copy\n",
            "  filter_data['edu'] = filter_data['請問您的教育程度是什麼？'].apply(ETL_function.edu)\n",
            "c:\\Users\\GTW_user\\Desktop\\Github\\media_political\\ETL.py:33: SettingWithCopyWarning: \n",
            "A value is trying to be set on a copy of a slice from a DataFrame.\n",
            "Try using .loc[row_indexer,col_indexer] = value instead\n",
            "\n",
            "See the caveats in the documentation: https://pandas.pydata.org/pandas-docs/stable/user_guide/indexing.html#returning-a-view-versus-a-copy\n",
            "  filter_data['income'] = filter_data['請問您平均月收入大約是多少?'].apply(ETL_function.income)\n",
            "c:\\Users\\GTW_user\\Desktop\\Github\\media_political\\ETL.py:34: SettingWithCopyWarning: \n",
            "A value is trying to be set on a copy of a slice from a DataFrame.\n",
            "Try using .loc[row_indexer,col_indexer] = value instead\n",
            "\n",
            "See the caveats in the documentation: https://pandas.pydata.org/pandas-docs/stable/user_guide/indexing.html#returning-a-view-versus-a-copy\n",
            "  filter_data['pk_1'] = filter_data['請問您現任的美國總統是誰？'].apply(ETL_function.pk_1)\n",
            "c:\\Users\\GTW_user\\Desktop\\Github\\media_political\\ETL.py:35: SettingWithCopyWarning: \n",
            "A value is trying to be set on a copy of a slice from a DataFrame.\n",
            "Try using .loc[row_indexer,col_indexer] = value instead\n",
            "\n",
            "See the caveats in the documentation: https://pandas.pydata.org/pandas-docs/stable/user_guide/indexing.html#returning-a-view-versus-a-copy\n",
            "  filter_data['pk_2'] = filter_data['請問您現任的行政院長是誰？'].apply(ETL_function.pk_2)\n",
            "c:\\Users\\GTW_user\\Desktop\\Github\\media_political\\ETL.py:36: SettingWithCopyWarning: \n",
            "A value is trying to be set on a copy of a slice from a DataFrame.\n",
            "Try using .loc[row_indexer,col_indexer] = value instead\n",
            "\n",
            "See the caveats in the documentation: https://pandas.pydata.org/pandas-docs/stable/user_guide/indexing.html#returning-a-view-versus-a-copy\n",
            "  filter_data['pk_3'] = filter_data['請問您我國哪一個政府機關有權解釋憲法？'].apply(ETL_function.pk_3)\n",
            "c:\\Users\\GTW_user\\Desktop\\Github\\media_political\\ETL.py:37: SettingWithCopyWarning: \n",
            "A value is trying to be set on a copy of a slice from a DataFrame.\n",
            "Try using .loc[row_indexer,col_indexer] = value instead\n",
            "\n",
            "See the caveats in the documentation: https://pandas.pydata.org/pandas-docs/stable/user_guide/indexing.html#returning-a-view-versus-a-copy\n",
            "  filter_data['political_knowledge'] = filter_data['pk_1'] + filter_data['pk_2'] + filter_data['pk_3']\n",
            "c:\\Users\\GTW_user\\Desktop\\Github\\media_political\\ETL.py:40: SettingWithCopyWarning: \n",
            "A value is trying to be set on a copy of a slice from a DataFrame.\n",
            "Try using .loc[row_indexer,col_indexer] = value instead\n",
            "\n",
            "See the caveats in the documentation: https://pandas.pydata.org/pandas-docs/stable/user_guide/indexing.html#returning-a-view-versus-a-copy\n",
            "  filter_data['anti_'+str(j)] = filter_data[i].apply(ETL_function.five_agree)\n",
            "c:\\Users\\GTW_user\\Desktop\\Github\\media_political\\ETL.py:40: SettingWithCopyWarning: \n",
            "A value is trying to be set on a copy of a slice from a DataFrame.\n",
            "Try using .loc[row_indexer,col_indexer] = value instead\n",
            "\n",
            "See the caveats in the documentation: https://pandas.pydata.org/pandas-docs/stable/user_guide/indexing.html#returning-a-view-versus-a-copy\n",
            "  filter_data['anti_'+str(j)] = filter_data[i].apply(ETL_function.five_agree)\n",
            "c:\\Users\\GTW_user\\Desktop\\Github\\media_political\\ETL.py:40: SettingWithCopyWarning: \n",
            "A value is trying to be set on a copy of a slice from a DataFrame.\n",
            "Try using .loc[row_indexer,col_indexer] = value instead\n",
            "\n",
            "See the caveats in the documentation: https://pandas.pydata.org/pandas-docs/stable/user_guide/indexing.html#returning-a-view-versus-a-copy\n",
            "  filter_data['anti_'+str(j)] = filter_data[i].apply(ETL_function.five_agree)\n",
            "c:\\Users\\GTW_user\\Desktop\\Github\\media_political\\ETL.py:40: SettingWithCopyWarning: \n",
            "A value is trying to be set on a copy of a slice from a DataFrame.\n",
            "Try using .loc[row_indexer,col_indexer] = value instead\n",
            "\n",
            "See the caveats in the documentation: https://pandas.pydata.org/pandas-docs/stable/user_guide/indexing.html#returning-a-view-versus-a-copy\n",
            "  filter_data['anti_'+str(j)] = filter_data[i].apply(ETL_function.five_agree)\n",
            "c:\\Users\\GTW_user\\Desktop\\Github\\media_political\\ETL.py:40: SettingWithCopyWarning: \n",
            "A value is trying to be set on a copy of a slice from a DataFrame.\n",
            "Try using .loc[row_indexer,col_indexer] = value instead\n",
            "\n",
            "See the caveats in the documentation: https://pandas.pydata.org/pandas-docs/stable/user_guide/indexing.html#returning-a-view-versus-a-copy\n",
            "  filter_data['anti_'+str(j)] = filter_data[i].apply(ETL_function.five_agree)\n",
            "c:\\Users\\GTW_user\\Desktop\\Github\\media_political\\ETL.py:41: SettingWithCopyWarning: \n",
            "A value is trying to be set on a copy of a slice from a DataFrame.\n",
            "Try using .loc[row_indexer,col_indexer] = value instead\n",
            "\n",
            "See the caveats in the documentation: https://pandas.pydata.org/pandas-docs/stable/user_guide/indexing.html#returning-a-view-versus-a-copy\n",
            "  filter_data['TC_issue'] = filter_data['有人說：「這次選舉中，抗中保台很重要」，請問您同不同意這種說法？'].apply(ETL_function.five_agree)\n",
            "c:\\Users\\GTW_user\\Desktop\\Github\\media_political\\ETL.py:42: SettingWithCopyWarning: \n",
            "A value is trying to be set on a copy of a slice from a DataFrame.\n",
            "Try using .loc[row_indexer,col_indexer] = value instead\n",
            "\n",
            "See the caveats in the documentation: https://pandas.pydata.org/pandas-docs/stable/user_guide/indexing.html#returning-a-view-versus-a-copy\n",
            "  filter_data['Negative_1'] = filter_data['在這次縣市長選舉過程中，有大量關於林智堅的論文爭議的報導，請問這些報導對您的投票選擇可能有什麼影響？']\n",
            "c:\\Users\\GTW_user\\Desktop\\Github\\media_political\\ETL.py:43: SettingWithCopyWarning: \n",
            "A value is trying to be set on a copy of a slice from a DataFrame.\n",
            "Try using .loc[row_indexer,col_indexer] = value instead\n",
            "\n",
            "See the caveats in the documentation: https://pandas.pydata.org/pandas-docs/stable/user_guide/indexing.html#returning-a-view-versus-a-copy\n",
            "  filter_data['Negative_2'] = filter_data['在這次縣市長選舉過程中，有大量關於陳時中的防疫表現的報導，這些報導對您的投票選擇可能有什麼影響？']\n",
            "c:\\Users\\GTW_user\\Desktop\\Github\\media_political\\ETL.py:44: SettingWithCopyWarning: \n",
            "A value is trying to be set on a copy of a slice from a DataFrame.\n",
            "Try using .loc[row_indexer,col_indexer] = value instead\n",
            "\n",
            "See the caveats in the documentation: https://pandas.pydata.org/pandas-docs/stable/user_guide/indexing.html#returning-a-view-versus-a-copy\n",
            "  filter_data['Negative_3'] = filter_data['在這次縣市長選舉過程中，有大量關於高虹安的助理門事件爭議的報導，這些報導對您的投票選擇有什麼影響？']\n"
          ]
        }
      ],
      "source": [
        "ml_df = ETL.data_cleaning(filter_data)"
      ]
    },
    {
      "cell_type": "code",
      "execution_count": 10,
      "id": "407bbfcc-add4-4377-885c-7877f7596ed8",
      "metadata": {
        "ExecuteTime": {
          "end_time": "2023-06-30T09:50:35.028974+00:00",
          "start_time": "2023-06-30T09:50:34.851473+00:00"
        },
        "jupyter": {
          "outputs_hidden": false,
          "source_hidden": false
        },
        "noteable": {
          "cell_type": "code",
          "output_collection_id": "2163b5de-a65d-41e8-b06f-168dc8034ae6"
        }
      },
      "outputs": [],
      "source": [
        "ml_df = ETL.feature_engineering(ml_df)"
      ]
    },
    {
      "cell_type": "code",
      "execution_count": 11,
      "id": "2c420769-aca8-47e7-bea0-bb7bb4cfcf19",
      "metadata": {
        "jupyter": {
          "outputs_hidden": false,
          "source_hidden": false
        },
        "noteable": {
          "cell_type": "code",
          "output_collection_id": "66bcee7d-3113-43a4-9f0e-a2fd9b6147ef"
        }
      },
      "outputs": [
        {
          "data": {
            "text/plain": [
              "(503, 36)"
            ]
          },
          "execution_count": 11,
          "metadata": {},
          "output_type": "execute_result"
        }
      ],
      "source": [
        "ml_df.shape"
      ]
    },
    {
      "cell_type": "markdown",
      "id": "b022c16d-c6b7-4c99-bf9c-34cff6322b34",
      "metadata": {
        "noteable": {
          "cell_type": "markdown"
        }
      },
      "source": [
        "## Build Index"
      ]
    },
    {
      "cell_type": "code",
      "execution_count": 12,
      "id": "44c91b3a-6bbe-4c1d-9b76-0673907ccf83",
      "metadata": {
        "ExecuteTime": {
          "end_time": "2023-06-30T09:02:57.460199+00:00",
          "start_time": "2023-06-30T09:02:56.606089+00:00"
        },
        "jupyter": {
          "outputs_hidden": false,
          "source_hidden": false
        },
        "noteable": {
          "cell_type": "code",
          "output_collection_id": "c1790ec0-210e-4444-b308-388e2be3a5c2"
        }
      },
      "outputs": [
        {
          "name": "stdout",
          "output_type": "stream",
          "text": [
            "                            OLS Regression Results                            \n",
            "==============================================================================\n",
            "Dep. Variable:              online_pp   R-squared:                       0.111\n",
            "Model:                            OLS   Adj. R-squared:                  0.075\n",
            "Method:                 Least Squares   F-statistic:                     3.024\n",
            "Date:                Fri, 30 Jun 2023   Prob (F-statistic):           1.44e-05\n",
            "Time:                        18:06:08   Log-Likelihood:                -190.94\n",
            "No. Observations:                 503   AIC:                             423.9\n",
            "Df Residuals:                     482   BIC:                             512.5\n",
            "Df Model:                          20                                         \n",
            "Covariance Type:            nonrobust                                         \n",
            "===========================================================================================================================\n",
            "                                                              coef    std err          t      P>|t|      [0.025      0.975]\n",
            "---------------------------------------------------------------------------------------------------------------------------\n",
            "Intercept                                                   1.2786      0.187      6.842      0.000       0.911       1.646\n",
            "C(ethnic, Treatment(reference=\"臺灣人\"))[T.其他]                 0.0474      0.115      0.411      0.681      -0.179       0.274\n",
            "C(ethnic, Treatment(reference=\"臺灣人\"))[T.原住民]                0.0783      0.130      0.601      0.548      -0.177       0.334\n",
            "C(ethnic, Treatment(reference=\"臺灣人\"))[T.大陸各省市人]            -0.1455      0.121     -1.202      0.230      -0.383       0.092\n",
            "C(ethnic, Treatment(reference=\"臺灣人\"))[T.本省客家人]             -0.1006      0.086     -1.172      0.242      -0.269       0.068\n",
            "C(ethnic, Treatment(reference=\"臺灣人\"))[T.本省閩南人]             -0.0811      0.069     -1.174      0.241      -0.217       0.055\n",
            "C(Negative_1, Treatment(reference=\"沒有影響\"))[T.不知道]           0.0197      0.070      0.281      0.779      -0.118       0.157\n",
            "C(Negative_1, Treatment(reference=\"沒有影響\"))[T.可能因此不去投票]      0.0870      0.077      1.134      0.257      -0.064       0.238\n",
            "C(Negative_1, Treatment(reference=\"沒有影響\"))[T.轉而支持其他候選人]     0.0471      0.043      1.107      0.269      -0.036       0.131\n",
            "C(Negative_2, Treatment(reference=\"沒有影響\"))[T.不知道]          -0.0529      0.070     -0.761      0.447      -0.189       0.084\n",
            "C(Negative_2, Treatment(reference=\"沒有影響\"))[T.可能因此不去投票]     -0.2218      0.105     -2.116      0.035      -0.428      -0.016\n",
            "C(Negative_2, Treatment(reference=\"沒有影響\"))[T.轉而支持其他候選人]     0.1053      0.040      2.633      0.009       0.027       0.184\n",
            "C(Negative_3, Treatment(reference=\"沒有影響\"))[T.不知道]          -0.0594      0.065     -0.915      0.361      -0.187       0.068\n",
            "C(Negative_3, Treatment(reference=\"沒有影響\"))[T.可能因此不去投票]      0.1301      0.090      1.450      0.148      -0.046       0.307\n",
            "C(Negative_3, Treatment(reference=\"沒有影響\"))[T.轉而支持其他候選人]    -0.0495      0.041     -1.203      0.230      -0.130       0.031\n",
            "sex                                                         0.1060      0.036      2.932      0.004       0.035       0.177\n",
            "edu                                                         0.0615      0.037      1.651      0.099      -0.012       0.135\n",
            "income                                                      0.0279      0.016      1.720      0.086      -0.004       0.060\n",
            "political_knowledge                                         0.0586      0.029      1.995      0.047       0.001       0.116\n",
            "TC_issue                                                   -0.0046      0.015     -0.307      0.759      -0.034       0.025\n",
            "anti_party                                                 -0.0575      0.023     -2.484      0.013      -0.103      -0.012\n",
            "==============================================================================\n",
            "Omnibus:                       80.458   Durbin-Watson:                   2.018\n",
            "Prob(Omnibus):                  0.000   Jarque-Bera (JB):              126.537\n",
            "Skew:                           1.010   Prob(JB):                     3.33e-28\n",
            "Kurtosis:                       4.398   Cond. No.                         87.3\n",
            "==============================================================================\n",
            "\n",
            "Notes:\n",
            "[1] Standard Errors assume that the covariance matrix of the errors is correctly specified.\n",
            "                            OLS Regression Results                            \n",
            "==============================================================================\n",
            "Dep. Variable:             offline_pp   R-squared:                       0.105\n",
            "Model:                            OLS   Adj. R-squared:                  0.068\n",
            "Method:                 Least Squares   F-statistic:                     2.834\n",
            "Date:                Fri, 30 Jun 2023   Prob (F-statistic):           4.75e-05\n",
            "Time:                        18:06:08   Log-Likelihood:                -445.89\n",
            "No. Observations:                 503   AIC:                             933.8\n",
            "Df Residuals:                     482   BIC:                             1022.\n",
            "Df Model:                          20                                         \n",
            "Covariance Type:            nonrobust                                         \n",
            "===========================================================================================================================\n",
            "                                                              coef    std err          t      P>|t|      [0.025      0.975]\n",
            "---------------------------------------------------------------------------------------------------------------------------\n",
            "Intercept                                                   1.5175      0.310      4.892      0.000       0.908       2.127\n",
            "C(ethnic, Treatment(reference=\"臺灣人\"))[T.其他]                 0.2128      0.191      1.113      0.266      -0.163       0.589\n",
            "C(ethnic, Treatment(reference=\"臺灣人\"))[T.原住民]                0.2065      0.216      0.956      0.340      -0.218       0.631\n",
            "C(ethnic, Treatment(reference=\"臺灣人\"))[T.大陸各省市人]            -0.2850      0.201     -1.418      0.157      -0.680       0.110\n",
            "C(ethnic, Treatment(reference=\"臺灣人\"))[T.本省客家人]             -0.0065      0.142     -0.045      0.964      -0.286       0.274\n",
            "C(ethnic, Treatment(reference=\"臺灣人\"))[T.本省閩南人]             -0.0309      0.115     -0.269      0.788      -0.256       0.194\n",
            "C(Negative_1, Treatment(reference=\"沒有影響\"))[T.不知道]          -0.0128      0.116     -0.111      0.912      -0.241       0.215\n",
            "C(Negative_1, Treatment(reference=\"沒有影響\"))[T.可能因此不去投票]      0.1058      0.127      0.831      0.406      -0.144       0.356\n",
            "C(Negative_1, Treatment(reference=\"沒有影響\"))[T.轉而支持其他候選人]     0.2009      0.071      2.846      0.005       0.062       0.340\n",
            "C(Negative_2, Treatment(reference=\"沒有影響\"))[T.不知道]          -0.1936      0.115     -1.678      0.094      -0.420       0.033\n",
            "C(Negative_2, Treatment(reference=\"沒有影響\"))[T.可能因此不去投票]     -0.3635      0.174     -2.089      0.037      -0.705      -0.022\n",
            "C(Negative_2, Treatment(reference=\"沒有影響\"))[T.轉而支持其他候選人]     0.0693      0.066      1.044      0.297      -0.061       0.200\n",
            "C(Negative_3, Treatment(reference=\"沒有影響\"))[T.不知道]          -0.1024      0.108     -0.951      0.342      -0.314       0.109\n",
            "C(Negative_3, Treatment(reference=\"沒有影響\"))[T.可能因此不去投票]     -0.0604      0.149     -0.405      0.686      -0.353       0.232\n",
            "C(Negative_3, Treatment(reference=\"沒有影響\"))[T.轉而支持其他候選人]    -0.0705      0.068     -1.031      0.303      -0.205       0.064\n",
            "sex                                                        -0.0388      0.060     -0.647      0.518      -0.157       0.079\n",
            "edu                                                         0.0653      0.062      1.058      0.291      -0.056       0.187\n",
            "income                                                      0.0700      0.027      2.597      0.010       0.017       0.123\n",
            "political_knowledge                                         0.1236      0.049      2.535      0.012       0.028       0.219\n",
            "TC_issue                                                    0.0061      0.025      0.249      0.803      -0.042       0.055\n",
            "anti_party                                                 -0.0536      0.038     -1.395      0.164      -0.129       0.022\n",
            "==============================================================================\n",
            "Omnibus:                        8.079   Durbin-Watson:                   1.978\n",
            "Prob(Omnibus):                  0.018   Jarque-Bera (JB):                5.023\n",
            "Skew:                           0.036   Prob(JB):                       0.0812\n",
            "Kurtosis:                       2.516   Cond. No.                         87.3\n",
            "==============================================================================\n",
            "\n",
            "Notes:\n",
            "[1] Standard Errors assume that the covariance matrix of the errors is correctly specified.\n"
          ]
        }
      ],
      "source": [
        "# Define the dependent and independent variables\n",
        "dependent_variables = ['online_pp', 'offline_pp']\n",
        "independent_variables = ['sex', 'C(ethnic, Treatment(reference=\"臺灣人\"))', 'edu', 'income', 'political_knowledge', 'TC_issue', 'anti_party', 'C(Negative_1, Treatment(reference=\"沒有影響\"))', 'C(Negative_2, Treatment(reference=\"沒有影響\"))', 'C(Negative_3, Treatment(reference=\"沒有影響\"))']\n",
        "\n",
        "# Create the models and print the summaries\n",
        "for dep_var in dependent_variables:\n",
        "    formula = dep_var + ' ~ ' + ' + '.join(independent_variables)\n",
        "    model = smf.ols(formula, data=ml_df).fit()\n",
        "    print(model.summary())"
      ]
    },
    {
      "cell_type": "code",
      "execution_count": null,
      "id": "39055eed-ec5c-4186-a698-8d41bc0a2db1",
      "metadata": {
        "jupyter": {
          "outputs_hidden": false,
          "source_hidden": false
        },
        "noteable": {
          "cell_type": "code"
        }
      },
      "outputs": [],
      "source": []
    }
  ],
  "metadata": {
    "kernelspec": {
      "display_name": "base",
      "language": "python",
      "name": "python3"
    },
    "language_info": {
      "codemirror_mode": {
        "name": "ipython",
        "version": 3
      },
      "file_extension": ".py",
      "mimetype": "text/x-python",
      "name": "python",
      "nbconvert_exporter": "python",
      "pygments_lexer": "ipython3",
      "version": "3.9.13"
    },
    "noteable": {
      "last_transaction_id": "58c23795-8f31-4a4a-8eda-b55800f52cf2"
    },
    "orig_nbformat": 4,
    "selected_hardware_size": "small"
  },
  "nbformat": 4,
  "nbformat_minor": 5
}
