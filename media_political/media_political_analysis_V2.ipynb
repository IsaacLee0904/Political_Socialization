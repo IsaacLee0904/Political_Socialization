{
  "cells": [
    {
      "attachments": {},
      "cell_type": "markdown",
      "id": "6e723782-5c0b-4d73-b106-48d894e40a06",
      "metadata": {
        "noteable": {
          "cell_type": "markdown"
        }
      },
      "source": [
        "# media_politicval_anlalysis_V2\n",
        "* 16 DV -> FAC get 4 mean\n",
        "* IV : anti_party "
      ]
    },
    {
      "attachments": {},
      "cell_type": "markdown",
      "id": "51ac109b",
      "metadata": {},
      "source": [
        "## Import package"
      ]
    },
    {
      "cell_type": "code",
      "execution_count": 1,
      "id": "f6ef19fe-5a2f-4c79-bb17-5ab7dda76101",
      "metadata": {
        "ExecuteTime": {
          "end_time": "2023-06-30T09:20:18.340540+00:00",
          "start_time": "2023-06-30T09:20:03.790349+00:00"
        },
        "noteable": {
          "cell_type": "python",
          "output_collection_id": "0eda1d95-dcba-42ac-ab89-683e67e47f4d"
        },
        "scrolled": false
      },
      "outputs": [],
      "source": [
        "# !pip install factor_analyzer pingouin stargazer"
      ]
    },
    {
      "cell_type": "code",
      "execution_count": 2,
      "id": "3a7c79c9-f8e5-4b1a-b45a-72622ff33a8b",
      "metadata": {
        "ExecuteTime": {
          "end_time": "2023-06-30T09:20:28.282976+00:00",
          "start_time": "2023-06-30T09:20:18.351840+00:00"
        },
        "jupyter": {
          "outputs_hidden": false,
          "source_hidden": false
        },
        "noteable": {
          "cell_type": "code",
          "output_collection_id": "ee9b6e74-1794-48c6-ac60-5f6db8675e3d"
        }
      },
      "outputs": [],
      "source": [
        "# ! pip install plotnine"
      ]
    },
    {
      "cell_type": "code",
      "execution_count": 3,
      "id": "f0c407eb",
      "metadata": {
        "ExecuteTime": {
          "end_time": "2023-06-30T09:20:29.940169+00:00",
          "start_time": "2023-06-30T09:20:28.292269+00:00"
        },
        "noteable": {
          "output_collection_id": "d1d67238-20b0-4b28-8a19-19a74bd2cc64"
        }
      },
      "outputs": [],
      "source": [
        "# for data ETL\n",
        "import pandas as pd\n",
        "import ETL\n",
        "# Module for spatial data manipulation\n",
        "import geopandas as gpd\n",
        "# Module for data viz \n",
        "from plotnine import *\n",
        "import plotnine\n",
        "import plotly.express as px\n",
        "import seaborn as sns               \n",
        "import matplotlib.pyplot as plt\n",
        "# Module for spatial data viz\n",
        "import folium\n",
        "import branca\n",
        "import branca.colormap as cm\n",
        "from folium.features import GeoJson, GeoJsonTooltip\n",
        "# for establish index\n",
        "import Factor_Analysis \n",
        "from factor_analyzer import FactorAnalyzer\n",
        "from factor_analyzer.factor_analyzer import calculate_bartlett_sphericity, calculate_kmo\n",
        "import pingouin as pg # index reliability testing\n",
        "# for stats ml\n",
        "from sklearn.preprocessing import StandardScaler\n",
        "from scipy.stats import pearsonr\n",
        "import statsmodels.api as sm\n",
        "import statsmodels.formula.api as smf\n",
        "from statsmodels.miscmodels.ordinal_model import OrderedModel\n",
        "from stargazer.stargazer import Stargazer"
      ]
    },
    {
      "attachments": {},
      "cell_type": "markdown",
      "id": "2b5ccbd5",
      "metadata": {},
      "source": [
        "## Load data and filiter "
      ]
    },
    {
      "cell_type": "code",
      "execution_count": 4,
      "id": "625c9313",
      "metadata": {
        "ExecuteTime": {
          "end_time": "2023-06-30T09:20:30.158434+00:00",
          "start_time": "2023-06-30T09:20:29.949925+00:00"
        },
        "noteable": {
          "output_collection_id": "656ee306-0987-4f1e-ae88-980842e8afd2"
        }
      },
      "outputs": [],
      "source": [
        "raw_data = pd.read_csv('raw_data.csv')"
      ]
    },
    {
      "cell_type": "code",
      "execution_count": 5,
      "id": "43440d4d",
      "metadata": {
        "ExecuteTime": {
          "end_time": "2023-06-30T09:20:30.478829+00:00",
          "start_time": "2023-06-30T09:20:30.319111+00:00"
        },
        "noteable": {
          "output_collection_id": "41216897-68dc-4ac7-a3d7-465e977e97db"
        }
      },
      "outputs": [
        {
          "name": "stderr",
          "output_type": "stream",
          "text": [
            "/var/folders/dn/wbyhv8k14697mm1zy19w1jh40000gn/T/ipykernel_83566/2097987034.py:2: SettingWithCopyWarning: \n",
            "A value is trying to be set on a copy of a slice from a DataFrame\n",
            "\n",
            "See the caveats in the documentation: https://pandas.pydata.org/pandas-docs/stable/user_guide/indexing.html#returning-a-view-versus-a-copy\n"
          ]
        }
      ],
      "source": [
        "filter_data = raw_data.loc[raw_data['目前國內政黨當中，請問您是否偏向哪一個政黨？'].isin(['沒有特定支持', '都不支持'])]\n",
        "filter_data.drop(['您有絶對的權力決定是否要參與本研究。若您願意參與，請務必勾選下列選項：', '請填寫您的電子信箱，以利後續抽獎聯繫使用'], axis=1, inplace=True)"
      ]
    },
    {
      "attachments": {},
      "cell_type": "markdown",
      "id": "77198f5b",
      "metadata": {},
      "source": [
        "## Data Cleaning"
      ]
    },
    {
      "cell_type": "code",
      "execution_count": 6,
      "id": "f729d4f2-b421-4b59-9f14-4ca7c53a6dae",
      "metadata": {
        "ExecuteTime": {
          "end_time": "2023-06-30T09:20:30.725689+00:00",
          "start_time": "2023-06-30T09:20:30.519887+00:00"
        },
        "datalink": {
          "1a08f08c-eb19-4b2c-bea1-950f87d76998": {
            "applied_filters": [],
            "dataframe_info": {
              "default_index_used": true,
              "orig_num_cols": 33,
              "orig_num_rows": 503,
              "orig_size_bytes": 136816,
              "truncated_num_cols": 33,
              "truncated_num_rows": 503,
              "truncated_size_bytes": 136816,
              "truncated_string_columns": []
            },
            "display_id": "1a08f08c-eb19-4b2c-bea1-950f87d76998",
            "dx_settings": {
              "ALLOW_NOTEABLE_ATTRS": true,
              "COLUMN_SAMPLING_METHOD": "outer",
              "DB_LOCATION": ":memory:",
              "DEV_MODE": false,
              "DISPLAY_MAX_COLUMNS": 100,
              "DISPLAY_MAX_ROWS": 50000,
              "DISPLAY_MODE": "simple",
              "ENABLE_ASSIGNMENT": true,
              "ENABLE_DATALINK": true,
              "FLATTEN_COLUMN_VALUES": true,
              "FLATTEN_INDEX_VALUES": false,
              "GENERATE_DEX_METADATA": false,
              "HTML_TABLE_SCHEMA": false,
              "LOG_LEVEL": 30,
              "MAX_RENDER_SIZE_BYTES": 104857600,
              "MAX_STRING_LENGTH": 250,
              "NUM_PAST_SAMPLES_TRACKED": 3,
              "RANDOM_STATE": 12648430,
              "RESET_INDEX_VALUES": false,
              "ROW_SAMPLING_METHOD": "random",
              "SAMPLING_FACTOR": 0.1,
              "SAMPLING_METHOD": "random",
              "STRINGIFY_COLUMN_VALUES": true,
              "STRINGIFY_INDEX_VALUES": false
            },
            "sample_history": [],
            "sampling_time": "2023-06-29T06:10:52.000856",
            "user_variable_name": null,
            "variable_name": "unk_dataframe_48fd4c1548d645298a554a9689f7b12e"
          },
          "5a0f5b14-d382-43db-8488-90197252082a": {
            "applied_filters": [],
            "dataframe_info": {
              "default_index_used": true,
              "orig_num_cols": 33,
              "orig_num_rows": 503,
              "orig_size_bytes": 136816,
              "truncated_num_cols": 33,
              "truncated_num_rows": 503,
              "truncated_size_bytes": 136816,
              "truncated_string_columns": []
            },
            "display_id": "5a0f5b14-d382-43db-8488-90197252082a",
            "dx_settings": {
              "ALLOW_NOTEABLE_ATTRS": true,
              "COLUMN_SAMPLING_METHOD": "outer",
              "DB_LOCATION": ":memory:",
              "DEV_MODE": false,
              "DISPLAY_MAX_COLUMNS": 100,
              "DISPLAY_MAX_ROWS": 50000,
              "DISPLAY_MODE": "simple",
              "ENABLE_ASSIGNMENT": true,
              "ENABLE_DATALINK": true,
              "FLATTEN_COLUMN_VALUES": true,
              "FLATTEN_INDEX_VALUES": false,
              "GENERATE_DEX_METADATA": false,
              "HTML_TABLE_SCHEMA": false,
              "LOG_LEVEL": 30,
              "MAX_RENDER_SIZE_BYTES": 104857600,
              "MAX_STRING_LENGTH": 250,
              "NUM_PAST_SAMPLES_TRACKED": 3,
              "RANDOM_STATE": 12648430,
              "RESET_INDEX_VALUES": false,
              "ROW_SAMPLING_METHOD": "random",
              "SAMPLING_FACTOR": 0.1,
              "SAMPLING_METHOD": "random",
              "STRINGIFY_COLUMN_VALUES": true,
              "STRINGIFY_INDEX_VALUES": false
            },
            "sample_history": [],
            "sampling_time": "2023-06-29T06:12:15.238058",
            "user_variable_name": null,
            "variable_name": "unk_dataframe_bcb85c06860a4d4c9e947b3aade5f565"
          }
        },
        "jupyter": {
          "outputs_hidden": false,
          "source_hidden": false
        },
        "noteable": {
          "cell_type": "code",
          "output_collection_id": "69a6f80a-537e-4d43-b5df-36771d70a35f"
        }
      },
      "outputs": [
        {
          "name": "stderr",
          "output_type": "stream",
          "text": [
            "/Users/wen/Desktop/github/media_political/ETL.py:14: SettingWithCopyWarning: \n",
            "A value is trying to be set on a copy of a slice from a DataFrame.\n",
            "Try using .loc[row_indexer,col_indexer] = value instead\n",
            "\n",
            "See the caveats in the documentation: https://pandas.pydata.org/pandas-docs/stable/user_guide/indexing.html#returning-a-view-versus-a-copy\n",
            "/Users/wen/Desktop/github/media_political/ETL.py:15: SettingWithCopyWarning: \n",
            "A value is trying to be set on a copy of a slice from a DataFrame.\n",
            "Try using .loc[row_indexer,col_indexer] = value instead\n",
            "\n",
            "See the caveats in the documentation: https://pandas.pydata.org/pandas-docs/stable/user_guide/indexing.html#returning-a-view-versus-a-copy\n",
            "/Users/wen/Desktop/github/media_political/ETL.py:16: SettingWithCopyWarning: \n",
            "A value is trying to be set on a copy of a slice from a DataFrame.\n",
            "Try using .loc[row_indexer,col_indexer] = value instead\n",
            "\n",
            "See the caveats in the documentation: https://pandas.pydata.org/pandas-docs/stable/user_guide/indexing.html#returning-a-view-versus-a-copy\n",
            "/Users/wen/Desktop/github/media_political/ETL.py:17: SettingWithCopyWarning: \n",
            "A value is trying to be set on a copy of a slice from a DataFrame.\n",
            "Try using .loc[row_indexer,col_indexer] = value instead\n",
            "\n",
            "See the caveats in the documentation: https://pandas.pydata.org/pandas-docs/stable/user_guide/indexing.html#returning-a-view-versus-a-copy\n",
            "/Users/wen/Desktop/github/media_political/ETL.py:18: SettingWithCopyWarning: \n",
            "A value is trying to be set on a copy of a slice from a DataFrame.\n",
            "Try using .loc[row_indexer,col_indexer] = value instead\n",
            "\n",
            "See the caveats in the documentation: https://pandas.pydata.org/pandas-docs/stable/user_guide/indexing.html#returning-a-view-versus-a-copy\n",
            "/Users/wen/Desktop/github/media_political/ETL.py:19: SettingWithCopyWarning: \n",
            "A value is trying to be set on a copy of a slice from a DataFrame.\n",
            "Try using .loc[row_indexer,col_indexer] = value instead\n",
            "\n",
            "See the caveats in the documentation: https://pandas.pydata.org/pandas-docs/stable/user_guide/indexing.html#returning-a-view-versus-a-copy\n",
            "/Users/wen/Desktop/github/media_political/ETL.py:20: SettingWithCopyWarning: \n",
            "A value is trying to be set on a copy of a slice from a DataFrame.\n",
            "Try using .loc[row_indexer,col_indexer] = value instead\n",
            "\n",
            "See the caveats in the documentation: https://pandas.pydata.org/pandas-docs/stable/user_guide/indexing.html#returning-a-view-versus-a-copy\n",
            "/Users/wen/Desktop/github/media_political/ETL.py:21: SettingWithCopyWarning: \n",
            "A value is trying to be set on a copy of a slice from a DataFrame.\n",
            "Try using .loc[row_indexer,col_indexer] = value instead\n",
            "\n",
            "See the caveats in the documentation: https://pandas.pydata.org/pandas-docs/stable/user_guide/indexing.html#returning-a-view-versus-a-copy\n",
            "/Users/wen/Desktop/github/media_political/ETL.py:22: SettingWithCopyWarning: \n",
            "A value is trying to be set on a copy of a slice from a DataFrame.\n",
            "Try using .loc[row_indexer,col_indexer] = value instead\n",
            "\n",
            "See the caveats in the documentation: https://pandas.pydata.org/pandas-docs/stable/user_guide/indexing.html#returning-a-view-versus-a-copy\n",
            "/Users/wen/Desktop/github/media_political/ETL.py:23: SettingWithCopyWarning: \n",
            "A value is trying to be set on a copy of a slice from a DataFrame.\n",
            "Try using .loc[row_indexer,col_indexer] = value instead\n",
            "\n",
            "See the caveats in the documentation: https://pandas.pydata.org/pandas-docs/stable/user_guide/indexing.html#returning-a-view-versus-a-copy\n",
            "/Users/wen/Desktop/github/media_political/ETL.py:24: SettingWithCopyWarning: \n",
            "A value is trying to be set on a copy of a slice from a DataFrame.\n",
            "Try using .loc[row_indexer,col_indexer] = value instead\n",
            "\n",
            "See the caveats in the documentation: https://pandas.pydata.org/pandas-docs/stable/user_guide/indexing.html#returning-a-view-versus-a-copy\n",
            "/Users/wen/Desktop/github/media_political/ETL.py:25: SettingWithCopyWarning: \n",
            "A value is trying to be set on a copy of a slice from a DataFrame.\n",
            "Try using .loc[row_indexer,col_indexer] = value instead\n",
            "\n",
            "See the caveats in the documentation: https://pandas.pydata.org/pandas-docs/stable/user_guide/indexing.html#returning-a-view-versus-a-copy\n",
            "/Users/wen/Desktop/github/media_political/ETL.py:26: SettingWithCopyWarning: \n",
            "A value is trying to be set on a copy of a slice from a DataFrame.\n",
            "Try using .loc[row_indexer,col_indexer] = value instead\n",
            "\n",
            "See the caveats in the documentation: https://pandas.pydata.org/pandas-docs/stable/user_guide/indexing.html#returning-a-view-versus-a-copy\n",
            "/Users/wen/Desktop/github/media_political/ETL.py:27: SettingWithCopyWarning: \n",
            "A value is trying to be set on a copy of a slice from a DataFrame.\n",
            "Try using .loc[row_indexer,col_indexer] = value instead\n",
            "\n",
            "See the caveats in the documentation: https://pandas.pydata.org/pandas-docs/stable/user_guide/indexing.html#returning-a-view-versus-a-copy\n",
            "/Users/wen/Desktop/github/media_political/ETL.py:28: SettingWithCopyWarning: \n",
            "A value is trying to be set on a copy of a slice from a DataFrame.\n",
            "Try using .loc[row_indexer,col_indexer] = value instead\n",
            "\n",
            "See the caveats in the documentation: https://pandas.pydata.org/pandas-docs/stable/user_guide/indexing.html#returning-a-view-versus-a-copy\n",
            "/Users/wen/Desktop/github/media_political/ETL.py:29: SettingWithCopyWarning: \n",
            "A value is trying to be set on a copy of a slice from a DataFrame.\n",
            "Try using .loc[row_indexer,col_indexer] = value instead\n",
            "\n",
            "See the caveats in the documentation: https://pandas.pydata.org/pandas-docs/stable/user_guide/indexing.html#returning-a-view-versus-a-copy\n",
            "/Users/wen/Desktop/github/media_political/ETL.py:32: SettingWithCopyWarning: \n",
            "A value is trying to be set on a copy of a slice from a DataFrame.\n",
            "Try using .loc[row_indexer,col_indexer] = value instead\n",
            "\n",
            "See the caveats in the documentation: https://pandas.pydata.org/pandas-docs/stable/user_guide/indexing.html#returning-a-view-versus-a-copy\n",
            "/Users/wen/Desktop/github/media_political/ETL.py:33: SettingWithCopyWarning: \n",
            "A value is trying to be set on a copy of a slice from a DataFrame.\n",
            "Try using .loc[row_indexer,col_indexer] = value instead\n",
            "\n",
            "See the caveats in the documentation: https://pandas.pydata.org/pandas-docs/stable/user_guide/indexing.html#returning-a-view-versus-a-copy\n",
            "/Users/wen/Desktop/github/media_political/ETL.py:34: SettingWithCopyWarning: \n",
            "A value is trying to be set on a copy of a slice from a DataFrame.\n",
            "Try using .loc[row_indexer,col_indexer] = value instead\n",
            "\n",
            "See the caveats in the documentation: https://pandas.pydata.org/pandas-docs/stable/user_guide/indexing.html#returning-a-view-versus-a-copy\n",
            "/Users/wen/Desktop/github/media_political/ETL.py:35: SettingWithCopyWarning: \n",
            "A value is trying to be set on a copy of a slice from a DataFrame.\n",
            "Try using .loc[row_indexer,col_indexer] = value instead\n",
            "\n",
            "See the caveats in the documentation: https://pandas.pydata.org/pandas-docs/stable/user_guide/indexing.html#returning-a-view-versus-a-copy\n",
            "/Users/wen/Desktop/github/media_political/ETL.py:36: SettingWithCopyWarning: \n",
            "A value is trying to be set on a copy of a slice from a DataFrame.\n",
            "Try using .loc[row_indexer,col_indexer] = value instead\n",
            "\n",
            "See the caveats in the documentation: https://pandas.pydata.org/pandas-docs/stable/user_guide/indexing.html#returning-a-view-versus-a-copy\n",
            "/Users/wen/Desktop/github/media_political/ETL.py:37: SettingWithCopyWarning: \n",
            "A value is trying to be set on a copy of a slice from a DataFrame.\n",
            "Try using .loc[row_indexer,col_indexer] = value instead\n",
            "\n",
            "See the caveats in the documentation: https://pandas.pydata.org/pandas-docs/stable/user_guide/indexing.html#returning-a-view-versus-a-copy\n",
            "/Users/wen/Desktop/github/media_political/ETL.py:38: SettingWithCopyWarning: \n",
            "A value is trying to be set on a copy of a slice from a DataFrame.\n",
            "Try using .loc[row_indexer,col_indexer] = value instead\n",
            "\n",
            "See the caveats in the documentation: https://pandas.pydata.org/pandas-docs/stable/user_guide/indexing.html#returning-a-view-versus-a-copy\n",
            "/Users/wen/Desktop/github/media_political/ETL.py:39: SettingWithCopyWarning: \n",
            "A value is trying to be set on a copy of a slice from a DataFrame.\n",
            "Try using .loc[row_indexer,col_indexer] = value instead\n",
            "\n",
            "See the caveats in the documentation: https://pandas.pydata.org/pandas-docs/stable/user_guide/indexing.html#returning-a-view-versus-a-copy\n",
            "/Users/wen/Desktop/github/media_political/ETL.py:40: SettingWithCopyWarning: \n",
            "A value is trying to be set on a copy of a slice from a DataFrame.\n",
            "Try using .loc[row_indexer,col_indexer] = value instead\n",
            "\n",
            "See the caveats in the documentation: https://pandas.pydata.org/pandas-docs/stable/user_guide/indexing.html#returning-a-view-versus-a-copy\n",
            "/Users/wen/Desktop/github/media_political/ETL.py:43: SettingWithCopyWarning: \n",
            "A value is trying to be set on a copy of a slice from a DataFrame.\n",
            "Try using .loc[row_indexer,col_indexer] = value instead\n",
            "\n",
            "See the caveats in the documentation: https://pandas.pydata.org/pandas-docs/stable/user_guide/indexing.html#returning-a-view-versus-a-copy\n",
            "/Users/wen/Desktop/github/media_political/ETL.py:43: SettingWithCopyWarning: \n",
            "A value is trying to be set on a copy of a slice from a DataFrame.\n",
            "Try using .loc[row_indexer,col_indexer] = value instead\n",
            "\n",
            "See the caveats in the documentation: https://pandas.pydata.org/pandas-docs/stable/user_guide/indexing.html#returning-a-view-versus-a-copy\n",
            "/Users/wen/Desktop/github/media_political/ETL.py:43: SettingWithCopyWarning: \n",
            "A value is trying to be set on a copy of a slice from a DataFrame.\n",
            "Try using .loc[row_indexer,col_indexer] = value instead\n",
            "\n",
            "See the caveats in the documentation: https://pandas.pydata.org/pandas-docs/stable/user_guide/indexing.html#returning-a-view-versus-a-copy\n",
            "/Users/wen/Desktop/github/media_political/ETL.py:43: SettingWithCopyWarning: \n",
            "A value is trying to be set on a copy of a slice from a DataFrame.\n",
            "Try using .loc[row_indexer,col_indexer] = value instead\n",
            "\n",
            "See the caveats in the documentation: https://pandas.pydata.org/pandas-docs/stable/user_guide/indexing.html#returning-a-view-versus-a-copy\n",
            "/Users/wen/Desktop/github/media_political/ETL.py:43: SettingWithCopyWarning: \n",
            "A value is trying to be set on a copy of a slice from a DataFrame.\n",
            "Try using .loc[row_indexer,col_indexer] = value instead\n",
            "\n",
            "See the caveats in the documentation: https://pandas.pydata.org/pandas-docs/stable/user_guide/indexing.html#returning-a-view-versus-a-copy\n",
            "/Users/wen/Desktop/github/media_political/ETL.py:44: SettingWithCopyWarning: \n",
            "A value is trying to be set on a copy of a slice from a DataFrame.\n",
            "Try using .loc[row_indexer,col_indexer] = value instead\n",
            "\n",
            "See the caveats in the documentation: https://pandas.pydata.org/pandas-docs/stable/user_guide/indexing.html#returning-a-view-versus-a-copy\n",
            "/Users/wen/Desktop/github/media_political/ETL.py:45: SettingWithCopyWarning: \n",
            "A value is trying to be set on a copy of a slice from a DataFrame.\n",
            "Try using .loc[row_indexer,col_indexer] = value instead\n",
            "\n",
            "See the caveats in the documentation: https://pandas.pydata.org/pandas-docs/stable/user_guide/indexing.html#returning-a-view-versus-a-copy\n",
            "/Users/wen/Desktop/github/media_political/ETL.py:46: SettingWithCopyWarning: \n",
            "A value is trying to be set on a copy of a slice from a DataFrame.\n",
            "Try using .loc[row_indexer,col_indexer] = value instead\n",
            "\n",
            "See the caveats in the documentation: https://pandas.pydata.org/pandas-docs/stable/user_guide/indexing.html#returning-a-view-versus-a-copy\n",
            "/Users/wen/Desktop/github/media_political/ETL.py:47: SettingWithCopyWarning: \n",
            "A value is trying to be set on a copy of a slice from a DataFrame.\n",
            "Try using .loc[row_indexer,col_indexer] = value instead\n",
            "\n",
            "See the caveats in the documentation: https://pandas.pydata.org/pandas-docs/stable/user_guide/indexing.html#returning-a-view-versus-a-copy\n"
          ]
        }
      ],
      "source": [
        "ml_df = ETL.data_cleaning(filter_data)"
      ]
    },
    {
      "cell_type": "code",
      "execution_count": 7,
      "id": "8d8e086f-db3a-4911-825a-138d54fc02de",
      "metadata": {
        "ExecuteTime": {
          "end_time": "2023-06-30T09:20:30.919945+00:00",
          "start_time": "2023-06-30T09:20:30.733788+00:00"
        },
        "jupyter": {
          "outputs_hidden": false,
          "source_hidden": false
        },
        "noteable": {
          "cell_type": "code",
          "output_collection_id": "57c16c67-e40c-453b-a2a9-32ad2f989049"
        }
      },
      "outputs": [
        {
          "data": {
            "text/plain": [
              "(503, 33)"
            ]
          },
          "execution_count": 7,
          "metadata": {},
          "output_type": "execute_result"
        }
      ],
      "source": [
        "ml_df.shape"
      ]
    },
    {
      "attachments": {},
      "cell_type": "markdown",
      "id": "4d36f08f-07d2-4a84-83a7-0a4eb195a5b0",
      "metadata": {
        "noteable": {
          "cell_type": "markdown"
        }
      },
      "source": [
        "## Establish DV Index with Factor Analysis"
      ]
    },
    {
      "attachments": {},
      "cell_type": "markdown",
      "id": "bc1eb6e3-c9ce-4b89-b317-6e487355b131",
      "metadata": {
        "noteable": {
          "cell_type": "markdown"
        }
      },
      "source": [
        "### Filter out DV"
      ]
    },
    {
      "cell_type": "code",
      "execution_count": 8,
      "id": "dcd1dc7d-9dfc-4def-9c4b-3a7715e38e51",
      "metadata": {
        "ExecuteTime": {
          "end_time": "2023-06-30T09:20:31.208945+00:00",
          "start_time": "2023-06-30T09:20:31.051286+00:00"
        },
        "jupyter": {
          "outputs_hidden": false,
          "source_hidden": false
        },
        "noteable": {
          "cell_type": "code",
          "output_collection_id": "f739f492-6f33-4bb9-be56-0efcb435414c"
        }
      },
      "outputs": [],
      "source": [
        "DV_vars = ['TV_news_time', 'news_paper_time', 'int_news_time', 'TV_debate', 'read_media', 'like_media', 'share_media', 'comment_media', 'int_discuss', 'read_election_news', 'read_election_leaflet', 'convince', 'campaign', 'volunteer', 'election_mayor', 'election_18']\n",
        "\n",
        "DV_df = ml_df[DV_vars]"
      ]
    },
    {
      "attachments": {},
      "cell_type": "markdown",
      "id": "8d232e7a-a798-4329-85fd-646492d31f66",
      "metadata": {
        "noteable": {
          "cell_type": "markdown"
        }
      },
      "source": [
        "### Bartlett’s test and Kaiser-Meyer-Olkin "
      ]
    },
    {
      "cell_type": "code",
      "execution_count": 9,
      "id": "841ee87b-f7aa-4fb9-951d-65fefe786208",
      "metadata": {
        "ExecuteTime": {
          "end_time": "2023-06-30T09:20:31.405177+00:00",
          "start_time": "2023-06-30T09:20:31.220930+00:00"
        },
        "jupyter": {
          "outputs_hidden": false,
          "source_hidden": false
        },
        "noteable": {
          "cell_type": "code",
          "output_collection_id": "ca00ad95-7151-4fe8-bb66-20a0feb9a9ce"
        }
      },
      "outputs": [
        {
          "name": "stdout",
          "output_type": "stream",
          "text": [
            "Chi-square value : 2616.18\n",
            "p-value          : 0.0\n"
          ]
        }
      ],
      "source": [
        "# Adequacy test - Bartlett's test\n",
        "chiSquareValue, pValue = calculate_bartlett_sphericity(DV_df)\n",
        "print('Chi-square value : {}'.format(round(chiSquareValue, ndigits = 3)))\n",
        "print('p-value          : {}'.format(round(pValue, ndigits = 3)))"
      ]
    },
    {
      "attachments": {},
      "cell_type": "markdown",
      "id": "9b19203b-45ce-4ace-9aef-31b31a08a6d8",
      "metadata": {
        "noteable": {
          "cell_type": "markdown"
        }
      },
      "source": [
        "The Bartlett test produces a p-value that is less than 0.05. It means, we reject the null hypothesis or in this case, at least two population variances are different."
      ]
    },
    {
      "cell_type": "code",
      "execution_count": 10,
      "id": "e6a3687c-0dd4-493b-b603-410899099357",
      "metadata": {
        "ExecuteTime": {
          "end_time": "2023-06-30T09:20:31.605659+00:00",
          "start_time": "2023-06-30T09:20:31.414401+00:00"
        },
        "jupyter": {
          "outputs_hidden": false,
          "source_hidden": false
        },
        "noteable": {
          "cell_type": "code",
          "output_collection_id": "3fb944f0-ee2e-4e51-b854-45601cefff1f"
        }
      },
      "outputs": [
        {
          "name": "stdout",
          "output_type": "stream",
          "text": [
            "KMO value : 0.771\n"
          ]
        },
        {
          "name": "stderr",
          "output_type": "stream",
          "text": [
            "/Users/wen/opt/anaconda3/lib/python3.9/site-packages/factor_analyzer/utils.py:244: UserWarning: The inverse of the variance-covariance matrix was calculated using the Moore-Penrose generalized matrix inversion, due to its determinant being at or very close to zero.\n"
          ]
        }
      ],
      "source": [
        "# Adequacy test - Kaiser-Meyer-Olkin test\n",
        "KMO, KMO_model = calculate_kmo(DV_df)\n",
        "print('KMO value : {}'.format(round(KMO_model, ndigits = 3)))"
      ]
    },
    {
      "attachments": {},
      "cell_type": "markdown",
      "id": "3510b155-4b42-442c-b661-994256e40fab",
      "metadata": {
        "noteable": {
          "cell_type": "markdown"
        }
      },
      "source": [
        "### Communality testing\n"
      ]
    },
    {
      "cell_type": "code",
      "execution_count": 11,
      "id": "4c30a6ea-4c31-4a6a-8b68-9e1d60f0580d",
      "metadata": {
        "ExecuteTime": {
          "end_time": "2023-06-30T09:20:32.400861+00:00",
          "start_time": "2023-06-30T09:20:31.615512+00:00"
        },
        "datalink": {
          "4ef74b8c-c8bd-4c13-a479-9dff556c4c5b": {
            "applied_filters": [],
            "dataframe_info": {
              "default_index_used": true,
              "orig_num_cols": 2,
              "orig_num_rows": 16,
              "orig_size_bytes": 384,
              "truncated_num_cols": 2,
              "truncated_num_rows": 16,
              "truncated_size_bytes": 384,
              "truncated_string_columns": []
            },
            "display_id": "4ef74b8c-c8bd-4c13-a479-9dff556c4c5b",
            "dx_settings": {
              "ALLOW_NOTEABLE_ATTRS": true,
              "COLUMN_SAMPLING_METHOD": "outer",
              "DB_LOCATION": ":memory:",
              "DEV_MODE": false,
              "DISPLAY_MAX_COLUMNS": 100,
              "DISPLAY_MAX_ROWS": 50000,
              "DISPLAY_MODE": "simple",
              "ENABLE_ASSIGNMENT": true,
              "ENABLE_DATALINK": true,
              "FLATTEN_COLUMN_VALUES": true,
              "FLATTEN_INDEX_VALUES": false,
              "GENERATE_DEX_METADATA": false,
              "HTML_TABLE_SCHEMA": false,
              "LOG_LEVEL": 30,
              "MAX_RENDER_SIZE_BYTES": 104857600,
              "MAX_STRING_LENGTH": 250,
              "NUM_PAST_SAMPLES_TRACKED": 3,
              "RANDOM_STATE": 12648430,
              "RESET_INDEX_VALUES": false,
              "ROW_SAMPLING_METHOD": "random",
              "SAMPLING_FACTOR": 0.1,
              "SAMPLING_METHOD": "random",
              "STRINGIFY_COLUMN_VALUES": true,
              "STRINGIFY_INDEX_VALUES": false
            },
            "sample_history": [],
            "sampling_time": "2023-06-29T10:40:47.044475",
            "user_variable_name": "df_communalities_DV",
            "variable_name": "df_communalities_DV"
          },
          "7037d8f7-698d-4d2e-bc4b-248c64280b70": {
            "applied_filters": [],
            "dataframe_info": {
              "default_index_used": true,
              "orig_num_cols": 2,
              "orig_num_rows": 16,
              "orig_size_bytes": 384,
              "truncated_num_cols": 2,
              "truncated_num_rows": 16,
              "truncated_size_bytes": 384,
              "truncated_string_columns": []
            },
            "display_id": "7037d8f7-698d-4d2e-bc4b-248c64280b70",
            "dx_settings": {
              "ALLOW_NOTEABLE_ATTRS": true,
              "COLUMN_SAMPLING_METHOD": "outer",
              "DB_LOCATION": ":memory:",
              "DEV_MODE": false,
              "DISPLAY_MAX_COLUMNS": 100,
              "DISPLAY_MAX_ROWS": 50000,
              "DISPLAY_MODE": "simple",
              "ENABLE_ASSIGNMENT": true,
              "ENABLE_DATALINK": true,
              "FLATTEN_COLUMN_VALUES": true,
              "FLATTEN_INDEX_VALUES": false,
              "GENERATE_DEX_METADATA": false,
              "HTML_TABLE_SCHEMA": false,
              "LOG_LEVEL": 30,
              "MAX_RENDER_SIZE_BYTES": 104857600,
              "MAX_STRING_LENGTH": 250,
              "NUM_PAST_SAMPLES_TRACKED": 3,
              "RANDOM_STATE": 12648430,
              "RESET_INDEX_VALUES": false,
              "ROW_SAMPLING_METHOD": "random",
              "SAMPLING_FACTOR": 0.1,
              "SAMPLING_METHOD": "random",
              "STRINGIFY_COLUMN_VALUES": true,
              "STRINGIFY_INDEX_VALUES": false
            },
            "sample_history": [],
            "sampling_time": "2023-06-29T10:36:33.340637",
            "user_variable_name": "df_communalities_DV",
            "variable_name": "df_communalities_DV"
          },
          "9214fe27-6163-40d9-bf2c-65d5397af239": {
            "applied_filters": [],
            "dataframe_info": {
              "default_index_used": true,
              "orig_num_cols": 2,
              "orig_num_rows": 16,
              "orig_size_bytes": 384,
              "truncated_num_cols": 2,
              "truncated_num_rows": 16,
              "truncated_size_bytes": 384,
              "truncated_string_columns": []
            },
            "display_id": "9214fe27-6163-40d9-bf2c-65d5397af239",
            "dx_settings": {
              "ALLOW_NOTEABLE_ATTRS": true,
              "COLUMN_SAMPLING_METHOD": "outer",
              "DB_LOCATION": ":memory:",
              "DEV_MODE": false,
              "DISPLAY_MAX_COLUMNS": 100,
              "DISPLAY_MAX_ROWS": 50000,
              "DISPLAY_MODE": "simple",
              "ENABLE_ASSIGNMENT": true,
              "ENABLE_DATALINK": true,
              "FLATTEN_COLUMN_VALUES": true,
              "FLATTEN_INDEX_VALUES": false,
              "GENERATE_DEX_METADATA": false,
              "HTML_TABLE_SCHEMA": false,
              "LOG_LEVEL": 30,
              "MAX_RENDER_SIZE_BYTES": 104857600,
              "MAX_STRING_LENGTH": 250,
              "NUM_PAST_SAMPLES_TRACKED": 3,
              "RANDOM_STATE": 12648430,
              "RESET_INDEX_VALUES": false,
              "ROW_SAMPLING_METHOD": "random",
              "SAMPLING_FACTOR": 0.1,
              "SAMPLING_METHOD": "random",
              "STRINGIFY_COLUMN_VALUES": true,
              "STRINGIFY_INDEX_VALUES": false
            },
            "sample_history": [],
            "sampling_time": "2023-06-29T10:39:03.462254",
            "user_variable_name": "df_communalities_DV",
            "variable_name": "df_communalities_DV"
          }
        },
        "noteable": {
          "cell_type": "python",
          "output_collection_id": "2464ded8-1fbc-4295-9014-edcbf17c3a49"
        }
      },
      "outputs": [
        {
          "data": {
            "text/html": [
              "<style type=\"text/css\">\n",
              "#T_c4031_row3_col1, #T_c4031_row4_col1, #T_c4031_row5_col1, #T_c4031_row6_col1, #T_c4031_row7_col1, #T_c4031_row9_col1, #T_c4031_row10_col1, #T_c4031_row12_col1, #T_c4031_row13_col1, #T_c4031_row14_col1, #T_c4031_row15_col1 {\n",
              "  background-color: yellow;\n",
              "}\n",
              "</style>\n",
              "<table id=\"T_c4031\">\n",
              "  <thead>\n",
              "    <tr>\n",
              "      <th class=\"blank level0\" >&nbsp;</th>\n",
              "      <th id=\"T_c4031_level0_col0\" class=\"col_heading level0 col0\" >Column</th>\n",
              "      <th id=\"T_c4031_level0_col1\" class=\"col_heading level0 col1\" >Communality</th>\n",
              "    </tr>\n",
              "  </thead>\n",
              "  <tbody>\n",
              "    <tr>\n",
              "      <th id=\"T_c4031_level0_row0\" class=\"row_heading level0 row0\" >0</th>\n",
              "      <td id=\"T_c4031_row0_col0\" class=\"data row0 col0\" >TV_news_time</td>\n",
              "      <td id=\"T_c4031_row0_col1\" class=\"data row0 col1\" >0.409374</td>\n",
              "    </tr>\n",
              "    <tr>\n",
              "      <th id=\"T_c4031_level0_row1\" class=\"row_heading level0 row1\" >1</th>\n",
              "      <td id=\"T_c4031_row1_col0\" class=\"data row1 col0\" >news_paper_time</td>\n",
              "      <td id=\"T_c4031_row1_col1\" class=\"data row1 col1\" >0.289999</td>\n",
              "    </tr>\n",
              "    <tr>\n",
              "      <th id=\"T_c4031_level0_row2\" class=\"row_heading level0 row2\" >2</th>\n",
              "      <td id=\"T_c4031_row2_col0\" class=\"data row2 col0\" >int_news_time</td>\n",
              "      <td id=\"T_c4031_row2_col1\" class=\"data row2 col1\" >0.443625</td>\n",
              "    </tr>\n",
              "    <tr>\n",
              "      <th id=\"T_c4031_level0_row3\" class=\"row_heading level0 row3\" >3</th>\n",
              "      <td id=\"T_c4031_row3_col0\" class=\"data row3 col0\" >TV_debate</td>\n",
              "      <td id=\"T_c4031_row3_col1\" class=\"data row3 col1\" >0.520139</td>\n",
              "    </tr>\n",
              "    <tr>\n",
              "      <th id=\"T_c4031_level0_row4\" class=\"row_heading level0 row4\" >4</th>\n",
              "      <td id=\"T_c4031_row4_col0\" class=\"data row4 col0\" >read_media</td>\n",
              "      <td id=\"T_c4031_row4_col1\" class=\"data row4 col1\" >0.770703</td>\n",
              "    </tr>\n",
              "    <tr>\n",
              "      <th id=\"T_c4031_level0_row5\" class=\"row_heading level0 row5\" >5</th>\n",
              "      <td id=\"T_c4031_row5_col0\" class=\"data row5 col0\" >like_media</td>\n",
              "      <td id=\"T_c4031_row5_col1\" class=\"data row5 col1\" >0.716518</td>\n",
              "    </tr>\n",
              "    <tr>\n",
              "      <th id=\"T_c4031_level0_row6\" class=\"row_heading level0 row6\" >6</th>\n",
              "      <td id=\"T_c4031_row6_col0\" class=\"data row6 col0\" >share_media</td>\n",
              "      <td id=\"T_c4031_row6_col1\" class=\"data row6 col1\" >0.558656</td>\n",
              "    </tr>\n",
              "    <tr>\n",
              "      <th id=\"T_c4031_level0_row7\" class=\"row_heading level0 row7\" >7</th>\n",
              "      <td id=\"T_c4031_row7_col0\" class=\"data row7 col0\" >comment_media</td>\n",
              "      <td id=\"T_c4031_row7_col1\" class=\"data row7 col1\" >0.602209</td>\n",
              "    </tr>\n",
              "    <tr>\n",
              "      <th id=\"T_c4031_level0_row8\" class=\"row_heading level0 row8\" >8</th>\n",
              "      <td id=\"T_c4031_row8_col0\" class=\"data row8 col0\" >int_discuss</td>\n",
              "      <td id=\"T_c4031_row8_col1\" class=\"data row8 col1\" >0.303170</td>\n",
              "    </tr>\n",
              "    <tr>\n",
              "      <th id=\"T_c4031_level0_row9\" class=\"row_heading level0 row9\" >9</th>\n",
              "      <td id=\"T_c4031_row9_col0\" class=\"data row9 col0\" >read_election_news</td>\n",
              "      <td id=\"T_c4031_row9_col1\" class=\"data row9 col1\" >0.757665</td>\n",
              "    </tr>\n",
              "    <tr>\n",
              "      <th id=\"T_c4031_level0_row10\" class=\"row_heading level0 row10\" >10</th>\n",
              "      <td id=\"T_c4031_row10_col0\" class=\"data row10 col0\" >read_election_leaflet</td>\n",
              "      <td id=\"T_c4031_row10_col1\" class=\"data row10 col1\" >0.705906</td>\n",
              "    </tr>\n",
              "    <tr>\n",
              "      <th id=\"T_c4031_level0_row11\" class=\"row_heading level0 row11\" >11</th>\n",
              "      <td id=\"T_c4031_row11_col0\" class=\"data row11 col0\" >convince</td>\n",
              "      <td id=\"T_c4031_row11_col1\" class=\"data row11 col1\" >0.371549</td>\n",
              "    </tr>\n",
              "    <tr>\n",
              "      <th id=\"T_c4031_level0_row12\" class=\"row_heading level0 row12\" >12</th>\n",
              "      <td id=\"T_c4031_row12_col0\" class=\"data row12 col0\" >campaign</td>\n",
              "      <td id=\"T_c4031_row12_col1\" class=\"data row12 col1\" >0.696298</td>\n",
              "    </tr>\n",
              "    <tr>\n",
              "      <th id=\"T_c4031_level0_row13\" class=\"row_heading level0 row13\" >13</th>\n",
              "      <td id=\"T_c4031_row13_col0\" class=\"data row13 col0\" >volunteer</td>\n",
              "      <td id=\"T_c4031_row13_col1\" class=\"data row13 col1\" >0.619827</td>\n",
              "    </tr>\n",
              "    <tr>\n",
              "      <th id=\"T_c4031_level0_row14\" class=\"row_heading level0 row14\" >14</th>\n",
              "      <td id=\"T_c4031_row14_col0\" class=\"data row14 col0\" >election_mayor</td>\n",
              "      <td id=\"T_c4031_row14_col1\" class=\"data row14 col1\" >0.919017</td>\n",
              "    </tr>\n",
              "    <tr>\n",
              "      <th id=\"T_c4031_level0_row15\" class=\"row_heading level0 row15\" >15</th>\n",
              "      <td id=\"T_c4031_row15_col0\" class=\"data row15 col0\" >election_18</td>\n",
              "      <td id=\"T_c4031_row15_col1\" class=\"data row15 col1\" >0.949480</td>\n",
              "    </tr>\n",
              "  </tbody>\n",
              "</table>\n"
            ],
            "text/plain": [
              "<pandas.io.formats.style.Styler at 0x7f864a0996d0>"
            ]
          },
          "execution_count": 11,
          "metadata": {},
          "output_type": "execute_result"
        }
      ],
      "source": [
        "# Create factor analysis object and perform factor analysis\n",
        "fa = FactorAnalyzer(n_factors = 25, rotation = None)\n",
        "fa.fit(DV_df)\n",
        "# The communalities\n",
        "df_communalities_DV = pd.DataFrame(data = {'Column': DV_df.columns, 'Communality': fa.get_communalities()})\n",
        "df_communalities_DV\n",
        "df_communalities_DV.style.apply(Factor_Analysis.highlightCommunalities, subset = ['Communality'])"
      ]
    },
    {
      "attachments": {},
      "cell_type": "markdown",
      "id": "bed105d7-acd7-4556-a9ae-86efeaaabd8e",
      "metadata": {
        "noteable": {
          "cell_type": "markdown"
        }
      },
      "source": [
        "The yellow color indicates that the communality values meet the criteria — greater than 0.5. Eliminated Variable below 0.5 ."
      ]
    },
    {
      "cell_type": "code",
      "execution_count": 12,
      "id": "e3d65067-2aa3-4e5e-9c4d-b995e10aabb5",
      "metadata": {
        "ExecuteTime": {
          "end_time": "2023-06-30T09:20:33.438419+00:00",
          "start_time": "2023-06-30T09:20:32.427762+00:00"
        },
        "jupyter": {
          "outputs_hidden": false,
          "source_hidden": false
        },
        "noteable": {
          "cell_type": "code",
          "output_collection_id": "cf6f290b-57cc-4ac6-9db2-b6e442004d6d"
        }
      },
      "outputs": [
        {
          "data": {
            "image/png": "[encoded data removed]",
            "text/plain": [
              "<Figure size 1080x648 with 1 Axes>"
            ]
          },
          "metadata": {
            "image/png": {
              "height": 648,
              "width": 1080
            },
            "needs_background": "light"
          },
          "output_type": "display_data"
        },
        {
          "data": {
            "text/plain": [
              "<Figure Size: (1080 x 648)>"
            ]
          },
          "execution_count": 12,
          "metadata": {},
          "output_type": "execute_result"
        }
      ],
      "source": [
        "# Data viz\n",
        "plotnine.options.figure_size = (15, 9)\n",
        "communality_bar = (\n",
        "    ggplot(data = df_communalities_DV)+\n",
        "    geom_bar(aes(x = 'Column',\n",
        "                 y = 'Communality'),\n",
        "             width = 0.75,\n",
        "             stat = 'identity')+\n",
        "    geom_hline(yintercept = 0.5)+\n",
        "    scale_x_discrete(limits = df_communalities_DV['Column'].tolist())+\n",
        "    labs(title = 'Communalitites of factor analysis')+\n",
        "    xlab('Columns')+\n",
        "    ylab('Communalities')+\n",
        "    theme_minimal()\n",
        ")\n",
        "# Display the viz\n",
        "communality_bar"
      ]
    },
    {
      "attachments": {},
      "cell_type": "markdown",
      "id": "3bf29d56-af01-495e-b249-19160b13444c",
      "metadata": {
        "noteable": {
          "cell_type": "markdown"
        }
      },
      "source": [
        "### Reduce Factors"
      ]
    },
    {
      "cell_type": "code",
      "execution_count": 13,
      "id": "8a414302-06df-467c-8cd0-ea52be0cb98e",
      "metadata": {
        "ExecuteTime": {
          "end_time": "2023-06-30T09:20:34.275269+00:00",
          "start_time": "2023-06-30T09:20:34.119324+00:00"
        },
        "jupyter": {
          "outputs_hidden": false,
          "source_hidden": false
        },
        "noteable": {
          "cell_type": "code",
          "output_collection_id": "c1370e17-ff78-4aa9-a7b9-a7eec8ab59df"
        }
      },
      "outputs": [],
      "source": [
        "# Check Eigenvalues\n",
        "eigenValue, value = fa.get_eigenvalues()"
      ]
    },
    {
      "cell_type": "code",
      "execution_count": 14,
      "id": "c01cb07b-1be4-411e-a7f7-3851eb3a6494",
      "metadata": {
        "ExecuteTime": {
          "end_time": "2023-06-30T09:20:34.517250+00:00",
          "start_time": "2023-06-30T09:20:34.320758+00:00"
        },
        "jupyter": {
          "outputs_hidden": false,
          "source_hidden": false
        },
        "noteable": {
          "cell_type": "code",
          "output_collection_id": "471cb821-54a4-4215-a437-aae7b2f74486"
        }
      },
      "outputs": [
        {
          "data": {
            "text/html": [
              "<style type=\"text/css\">\n",
              "#T_32069_row0_col1, #T_32069_row1_col1, #T_32069_row2_col1, #T_32069_row3_col1 {\n",
              "  background-color: yellow;\n",
              "}\n",
              "</style>\n",
              "<table id=\"T_32069\">\n",
              "  <thead>\n",
              "    <tr>\n",
              "      <th class=\"blank level0\" >&nbsp;</th>\n",
              "      <th id=\"T_32069_level0_col0\" class=\"col_heading level0 col0\" >Factor</th>\n",
              "      <th id=\"T_32069_level0_col1\" class=\"col_heading level0 col1\" >Eigen value</th>\n",
              "    </tr>\n",
              "  </thead>\n",
              "  <tbody>\n",
              "    <tr>\n",
              "      <th id=\"T_32069_level0_row0\" class=\"row_heading level0 row0\" >0</th>\n",
              "      <td id=\"T_32069_row0_col0\" class=\"data row0 col0\" >1</td>\n",
              "      <td id=\"T_32069_row0_col1\" class=\"data row0 col1\" >4.251428</td>\n",
              "    </tr>\n",
              "    <tr>\n",
              "      <th id=\"T_32069_level0_row1\" class=\"row_heading level0 row1\" >1</th>\n",
              "      <td id=\"T_32069_row1_col0\" class=\"data row1 col0\" >2</td>\n",
              "      <td id=\"T_32069_row1_col1\" class=\"data row1 col1\" >2.057097</td>\n",
              "    </tr>\n",
              "    <tr>\n",
              "      <th id=\"T_32069_level0_row2\" class=\"row_heading level0 row2\" >2</th>\n",
              "      <td id=\"T_32069_row2_col0\" class=\"data row2 col0\" >3</td>\n",
              "      <td id=\"T_32069_row2_col1\" class=\"data row2 col1\" >1.428251</td>\n",
              "    </tr>\n",
              "    <tr>\n",
              "      <th id=\"T_32069_level0_row3\" class=\"row_heading level0 row3\" >3</th>\n",
              "      <td id=\"T_32069_row3_col0\" class=\"data row3 col0\" >4</td>\n",
              "      <td id=\"T_32069_row3_col1\" class=\"data row3 col1\" >1.185024</td>\n",
              "    </tr>\n",
              "    <tr>\n",
              "      <th id=\"T_32069_level0_row4\" class=\"row_heading level0 row4\" >4</th>\n",
              "      <td id=\"T_32069_row4_col0\" class=\"data row4 col0\" >5</td>\n",
              "      <td id=\"T_32069_row4_col1\" class=\"data row4 col1\" >0.982240</td>\n",
              "    </tr>\n",
              "    <tr>\n",
              "      <th id=\"T_32069_level0_row5\" class=\"row_heading level0 row5\" >5</th>\n",
              "      <td id=\"T_32069_row5_col0\" class=\"data row5 col0\" >6</td>\n",
              "      <td id=\"T_32069_row5_col1\" class=\"data row5 col1\" >0.846947</td>\n",
              "    </tr>\n",
              "    <tr>\n",
              "      <th id=\"T_32069_level0_row6\" class=\"row_heading level0 row6\" >6</th>\n",
              "      <td id=\"T_32069_row6_col0\" class=\"data row6 col0\" >7</td>\n",
              "      <td id=\"T_32069_row6_col1\" class=\"data row6 col1\" >0.832451</td>\n",
              "    </tr>\n",
              "    <tr>\n",
              "      <th id=\"T_32069_level0_row7\" class=\"row_heading level0 row7\" >7</th>\n",
              "      <td id=\"T_32069_row7_col0\" class=\"data row7 col0\" >8</td>\n",
              "      <td id=\"T_32069_row7_col1\" class=\"data row7 col1\" >0.772555</td>\n",
              "    </tr>\n",
              "    <tr>\n",
              "      <th id=\"T_32069_level0_row8\" class=\"row_heading level0 row8\" >8</th>\n",
              "      <td id=\"T_32069_row8_col0\" class=\"data row8 col0\" >9</td>\n",
              "      <td id=\"T_32069_row8_col1\" class=\"data row8 col1\" >0.682499</td>\n",
              "    </tr>\n",
              "    <tr>\n",
              "      <th id=\"T_32069_level0_row9\" class=\"row_heading level0 row9\" >9</th>\n",
              "      <td id=\"T_32069_row9_col0\" class=\"data row9 col0\" >10</td>\n",
              "      <td id=\"T_32069_row9_col1\" class=\"data row9 col1\" >0.631522</td>\n",
              "    </tr>\n",
              "    <tr>\n",
              "      <th id=\"T_32069_level0_row10\" class=\"row_heading level0 row10\" >10</th>\n",
              "      <td id=\"T_32069_row10_col0\" class=\"data row10 col0\" >11</td>\n",
              "      <td id=\"T_32069_row10_col1\" class=\"data row10 col1\" >0.612828</td>\n",
              "    </tr>\n",
              "    <tr>\n",
              "      <th id=\"T_32069_level0_row11\" class=\"row_heading level0 row11\" >11</th>\n",
              "      <td id=\"T_32069_row11_col0\" class=\"data row11 col0\" >12</td>\n",
              "      <td id=\"T_32069_row11_col1\" class=\"data row11 col1\" >0.522093</td>\n",
              "    </tr>\n",
              "    <tr>\n",
              "      <th id=\"T_32069_level0_row12\" class=\"row_heading level0 row12\" >12</th>\n",
              "      <td id=\"T_32069_row12_col0\" class=\"data row12 col0\" >13</td>\n",
              "      <td id=\"T_32069_row12_col1\" class=\"data row12 col1\" >0.420308</td>\n",
              "    </tr>\n",
              "    <tr>\n",
              "      <th id=\"T_32069_level0_row13\" class=\"row_heading level0 row13\" >13</th>\n",
              "      <td id=\"T_32069_row13_col0\" class=\"data row13 col0\" >14</td>\n",
              "      <td id=\"T_32069_row13_col1\" class=\"data row13 col1\" >0.363497</td>\n",
              "    </tr>\n",
              "    <tr>\n",
              "      <th id=\"T_32069_level0_row14\" class=\"row_heading level0 row14\" >14</th>\n",
              "      <td id=\"T_32069_row14_col0\" class=\"data row14 col0\" >15</td>\n",
              "      <td id=\"T_32069_row14_col1\" class=\"data row14 col1\" >0.313567</td>\n",
              "    </tr>\n",
              "    <tr>\n",
              "      <th id=\"T_32069_level0_row15\" class=\"row_heading level0 row15\" >15</th>\n",
              "      <td id=\"T_32069_row15_col0\" class=\"data row15 col0\" >16</td>\n",
              "      <td id=\"T_32069_row15_col1\" class=\"data row15 col1\" >0.097692</td>\n",
              "    </tr>\n",
              "  </tbody>\n",
              "</table>\n"
            ],
            "text/plain": [
              "<pandas.io.formats.style.Styler at 0x7f861835da90>"
            ]
          },
          "execution_count": 14,
          "metadata": {},
          "output_type": "execute_result"
        }
      ],
      "source": [
        "# Convert the results into a dataframe\n",
        "df_DV_eigen = pd.DataFrame({'Factor': range(1, len(eigenValue) + 1), 'Eigen value': eigenValue})\n",
        "df_DV_eigen.style.apply(Factor_Analysis.highlightEigenvalue, subset = ['Eigen value'])"
      ]
    },
    {
      "attachments": {},
      "cell_type": "markdown",
      "id": "d7bfdfc0-bc56-4447-81ff-0d9d16bb4de4",
      "metadata": {
        "noteable": {
          "cell_type": "markdown"
        }
      },
      "source": [
        "According to the Kaiser criteria, the number of factors generated is 4. It means that the 16 columns or well-known variables will be grouped and interpreted into 4 factors."
      ]
    },
    {
      "cell_type": "code",
      "execution_count": 15,
      "id": "3160b2e4-d849-4448-b7cd-224601cf2b37",
      "metadata": {
        "ExecuteTime": {
          "end_time": "2023-06-30T09:20:35.350664+00:00",
          "start_time": "2023-06-30T09:20:34.543699+00:00"
        },
        "jupyter": {
          "outputs_hidden": false,
          "source_hidden": false
        },
        "noteable": {
          "cell_type": "code",
          "output_collection_id": "bcd118fe-9f59-4184-9061-6c105755bf7a"
        },
        "scrolled": false
      },
      "outputs": [
        {
          "data": {
            "image/png": "[encoded data removed]",
            "text/plain": [
              "<Figure size 800x480 with 1 Axes>"
            ]
          },
          "metadata": {
            "image/png": {
              "height": 480,
              "width": 800
            },
            "needs_background": "light"
          },
          "output_type": "display_data"
        },
        {
          "data": {
            "text/plain": [
              "<Figure Size: (800 x 480)>"
            ]
          },
          "execution_count": 15,
          "metadata": {},
          "output_type": "execute_result"
        }
      ],
      "source": [
        "# Data viz\n",
        "plotnine.options.figure_size = (8, 4.8)\n",
        "DV_scree_eigenvalue = (\n",
        "    ggplot(data = df_DV_eigen)+\n",
        "    geom_hline(yintercept = 1)+\n",
        "    geom_line(aes(x = 'Factor',\n",
        "                  y = 'Eigen value'))+\n",
        "    geom_point(aes(x = 'Factor',\n",
        "                   y = 'Eigen value'),\n",
        "               size = 2)+\n",
        "    labs(title = 'Scree plot of eigen value from factor analysis')+\n",
        "    xlab('Factors')+\n",
        "    ylab('Eigenvalue')+\n",
        "    theme_minimal()\n",
        ")\n",
        "# Display the viz\n",
        "DV_scree_eigenvalue"
      ]
    },
    {
      "cell_type": "code",
      "execution_count": 16,
      "id": "d4469999-ad78-4c57-93d7-8d3b19d28963",
      "metadata": {
        "ExecuteTime": {
          "end_time": "2023-06-30T09:20:36.766392+00:00",
          "start_time": "2023-06-30T09:20:36.117809+00:00"
        },
        "jupyter": {
          "outputs_hidden": false,
          "source_hidden": false
        },
        "noteable": {
          "cell_type": "code",
          "output_collection_id": "fd1e58d4-884b-4208-b22e-68c6e8d15950"
        },
        "scrolled": false
      },
      "outputs": [
        {
          "name": "stdout",
          "output_type": "stream",
          "text": [
            "['Factors 1', 'Factors 2', 'Factors 3', 'Factors 4']\n"
          ]
        },
        {
          "data": {
            "text/html": [
              "<style type=\"text/css\">\n",
              "#T_d66f3_row4_col0, #T_d66f3_row5_col0, #T_d66f3_row6_col0, #T_d66f3_row7_col0, #T_d66f3_row9_col2, #T_d66f3_row10_col2, #T_d66f3_row12_col3, #T_d66f3_row13_col3, #T_d66f3_row14_col1, #T_d66f3_row15_col1 {\n",
              "  background-color: yellow;\n",
              "}\n",
              "</style>\n",
              "<table id=\"T_d66f3\">\n",
              "  <thead>\n",
              "    <tr>\n",
              "      <th class=\"blank level0\" >&nbsp;</th>\n",
              "      <th id=\"T_d66f3_level0_col0\" class=\"col_heading level0 col0\" >Factors 1</th>\n",
              "      <th id=\"T_d66f3_level0_col1\" class=\"col_heading level0 col1\" >Factors 2</th>\n",
              "      <th id=\"T_d66f3_level0_col2\" class=\"col_heading level0 col2\" >Factors 3</th>\n",
              "      <th id=\"T_d66f3_level0_col3\" class=\"col_heading level0 col3\" >Factors 4</th>\n",
              "    </tr>\n",
              "  </thead>\n",
              "  <tbody>\n",
              "    <tr>\n",
              "      <th id=\"T_d66f3_level0_row0\" class=\"row_heading level0 row0\" >TV_news_time</th>\n",
              "      <td id=\"T_d66f3_row0_col0\" class=\"data row0 col0\" >0.249018</td>\n",
              "      <td id=\"T_d66f3_row0_col1\" class=\"data row0 col1\" >0.034852</td>\n",
              "      <td id=\"T_d66f3_row0_col2\" class=\"data row0 col2\" >0.287438</td>\n",
              "      <td id=\"T_d66f3_row0_col3\" class=\"data row0 col3\" >0.045294</td>\n",
              "    </tr>\n",
              "    <tr>\n",
              "      <th id=\"T_d66f3_level0_row1\" class=\"row_heading level0 row1\" >news_paper_time</th>\n",
              "      <td id=\"T_d66f3_row1_col0\" class=\"data row1 col0\" >0.129048</td>\n",
              "      <td id=\"T_d66f3_row1_col1\" class=\"data row1 col1\" >-0.074070</td>\n",
              "      <td id=\"T_d66f3_row1_col2\" class=\"data row1 col2\" >0.157857</td>\n",
              "      <td id=\"T_d66f3_row1_col3\" class=\"data row1 col3\" >0.078601</td>\n",
              "    </tr>\n",
              "    <tr>\n",
              "      <th id=\"T_d66f3_level0_row2\" class=\"row_heading level0 row2\" >int_news_time</th>\n",
              "      <td id=\"T_d66f3_row2_col0\" class=\"data row2 col0\" >0.416359</td>\n",
              "      <td id=\"T_d66f3_row2_col1\" class=\"data row2 col1\" >0.000136</td>\n",
              "      <td id=\"T_d66f3_row2_col2\" class=\"data row2 col2\" >0.296613</td>\n",
              "      <td id=\"T_d66f3_row2_col3\" class=\"data row2 col3\" >0.006881</td>\n",
              "    </tr>\n",
              "    <tr>\n",
              "      <th id=\"T_d66f3_level0_row3\" class=\"row_heading level0 row3\" >TV_debate</th>\n",
              "      <td id=\"T_d66f3_row3_col0\" class=\"data row3 col0\" >0.208112</td>\n",
              "      <td id=\"T_d66f3_row3_col1\" class=\"data row3 col1\" >0.207312</td>\n",
              "      <td id=\"T_d66f3_row3_col2\" class=\"data row3 col2\" >0.467451</td>\n",
              "      <td id=\"T_d66f3_row3_col3\" class=\"data row3 col3\" >0.203049</td>\n",
              "    </tr>\n",
              "    <tr>\n",
              "      <th id=\"T_d66f3_level0_row4\" class=\"row_heading level0 row4\" >read_media</th>\n",
              "      <td id=\"T_d66f3_row4_col0\" class=\"data row4 col0\" >0.598707</td>\n",
              "      <td id=\"T_d66f3_row4_col1\" class=\"data row4 col1\" >0.125468</td>\n",
              "      <td id=\"T_d66f3_row4_col2\" class=\"data row4 col2\" >0.362657</td>\n",
              "      <td id=\"T_d66f3_row4_col3\" class=\"data row4 col3\" >0.063921</td>\n",
              "    </tr>\n",
              "    <tr>\n",
              "      <th id=\"T_d66f3_level0_row5\" class=\"row_heading level0 row5\" >like_media</th>\n",
              "      <td id=\"T_d66f3_row5_col0\" class=\"data row5 col0\" >0.629836</td>\n",
              "      <td id=\"T_d66f3_row5_col1\" class=\"data row5 col1\" >0.048903</td>\n",
              "      <td id=\"T_d66f3_row5_col2\" class=\"data row5 col2\" >0.216531</td>\n",
              "      <td id=\"T_d66f3_row5_col3\" class=\"data row5 col3\" >0.067014</td>\n",
              "    </tr>\n",
              "    <tr>\n",
              "      <th id=\"T_d66f3_level0_row6\" class=\"row_heading level0 row6\" >share_media</th>\n",
              "      <td id=\"T_d66f3_row6_col0\" class=\"data row6 col0\" >0.600315</td>\n",
              "      <td id=\"T_d66f3_row6_col1\" class=\"data row6 col1\" >0.047601</td>\n",
              "      <td id=\"T_d66f3_row6_col2\" class=\"data row6 col2\" >-0.021777</td>\n",
              "      <td id=\"T_d66f3_row6_col3\" class=\"data row6 col3\" >0.136630</td>\n",
              "    </tr>\n",
              "    <tr>\n",
              "      <th id=\"T_d66f3_level0_row7\" class=\"row_heading level0 row7\" >comment_media</th>\n",
              "      <td id=\"T_d66f3_row7_col0\" class=\"data row7 col0\" >0.568489</td>\n",
              "      <td id=\"T_d66f3_row7_col1\" class=\"data row7 col1\" >-0.022581</td>\n",
              "      <td id=\"T_d66f3_row7_col2\" class=\"data row7 col2\" >0.031048</td>\n",
              "      <td id=\"T_d66f3_row7_col3\" class=\"data row7 col3\" >0.177959</td>\n",
              "    </tr>\n",
              "    <tr>\n",
              "      <th id=\"T_d66f3_level0_row8\" class=\"row_heading level0 row8\" >int_discuss</th>\n",
              "      <td id=\"T_d66f3_row8_col0\" class=\"data row8 col0\" >0.395835</td>\n",
              "      <td id=\"T_d66f3_row8_col1\" class=\"data row8 col1\" >0.030205</td>\n",
              "      <td id=\"T_d66f3_row8_col2\" class=\"data row8 col2\" >0.100321</td>\n",
              "      <td id=\"T_d66f3_row8_col3\" class=\"data row8 col3\" >0.007741</td>\n",
              "    </tr>\n",
              "    <tr>\n",
              "      <th id=\"T_d66f3_level0_row9\" class=\"row_heading level0 row9\" >read_election_news</th>\n",
              "      <td id=\"T_d66f3_row9_col0\" class=\"data row9 col0\" >0.034269</td>\n",
              "      <td id=\"T_d66f3_row9_col1\" class=\"data row9 col1\" >0.359524</td>\n",
              "      <td id=\"T_d66f3_row9_col2\" class=\"data row9 col2\" >0.659196</td>\n",
              "      <td id=\"T_d66f3_row9_col3\" class=\"data row9 col3\" >0.118846</td>\n",
              "    </tr>\n",
              "    <tr>\n",
              "      <th id=\"T_d66f3_level0_row10\" class=\"row_heading level0 row10\" >read_election_leaflet</th>\n",
              "      <td id=\"T_d66f3_row10_col0\" class=\"data row10 col0\" >0.131426</td>\n",
              "      <td id=\"T_d66f3_row10_col1\" class=\"data row10 col1\" >0.224548</td>\n",
              "      <td id=\"T_d66f3_row10_col2\" class=\"data row10 col2\" >0.745567</td>\n",
              "      <td id=\"T_d66f3_row10_col3\" class=\"data row10 col3\" >0.078169</td>\n",
              "    </tr>\n",
              "    <tr>\n",
              "      <th id=\"T_d66f3_level0_row11\" class=\"row_heading level0 row11\" >convince</th>\n",
              "      <td id=\"T_d66f3_row11_col0\" class=\"data row11 col0\" >0.441978</td>\n",
              "      <td id=\"T_d66f3_row11_col1\" class=\"data row11 col1\" >0.163013</td>\n",
              "      <td id=\"T_d66f3_row11_col2\" class=\"data row11 col2\" >0.089002</td>\n",
              "      <td id=\"T_d66f3_row11_col3\" class=\"data row11 col3\" >0.075908</td>\n",
              "    </tr>\n",
              "    <tr>\n",
              "      <th id=\"T_d66f3_level0_row12\" class=\"row_heading level0 row12\" >campaign</th>\n",
              "      <td id=\"T_d66f3_row12_col0\" class=\"data row12 col0\" >0.225264</td>\n",
              "      <td id=\"T_d66f3_row12_col1\" class=\"data row12 col1\" >0.011765</td>\n",
              "      <td id=\"T_d66f3_row12_col2\" class=\"data row12 col2\" >0.097581</td>\n",
              "      <td id=\"T_d66f3_row12_col3\" class=\"data row12 col3\" >0.781470</td>\n",
              "    </tr>\n",
              "    <tr>\n",
              "      <th id=\"T_d66f3_level0_row13\" class=\"row_heading level0 row13\" >volunteer</th>\n",
              "      <td id=\"T_d66f3_row13_col0\" class=\"data row13 col0\" >0.070231</td>\n",
              "      <td id=\"T_d66f3_row13_col1\" class=\"data row13 col1\" >-0.016829</td>\n",
              "      <td id=\"T_d66f3_row13_col2\" class=\"data row13 col2\" >0.170293</td>\n",
              "      <td id=\"T_d66f3_row13_col3\" class=\"data row13 col3\" >0.669699</td>\n",
              "    </tr>\n",
              "    <tr>\n",
              "      <th id=\"T_d66f3_level0_row14\" class=\"row_heading level0 row14\" >election_mayor</th>\n",
              "      <td id=\"T_d66f3_row14_col0\" class=\"data row14 col0\" >0.128497</td>\n",
              "      <td id=\"T_d66f3_row14_col1\" class=\"data row14 col1\" >0.901639</td>\n",
              "      <td id=\"T_d66f3_row14_col2\" class=\"data row14 col2\" >0.225535</td>\n",
              "      <td id=\"T_d66f3_row14_col3\" class=\"data row14 col3\" >0.012550</td>\n",
              "    </tr>\n",
              "    <tr>\n",
              "      <th id=\"T_d66f3_level0_row15\" class=\"row_heading level0 row15\" >election_18</th>\n",
              "      <td id=\"T_d66f3_row15_col0\" class=\"data row15 col0\" >0.096852</td>\n",
              "      <td id=\"T_d66f3_row15_col1\" class=\"data row15 col1\" >0.922784</td>\n",
              "      <td id=\"T_d66f3_row15_col2\" class=\"data row15 col2\" >0.215083</td>\n",
              "      <td id=\"T_d66f3_row15_col3\" class=\"data row15 col3\" >-0.044588</td>\n",
              "    </tr>\n",
              "  </tbody>\n",
              "</table>\n"
            ],
            "text/plain": [
              "<pandas.io.formats.style.Styler at 0x7f864a099100>"
            ]
          },
          "execution_count": 16,
          "metadata": {},
          "output_type": "execute_result"
        }
      ],
      "source": [
        "# Factor analysis with rotation\n",
        "fa = FactorAnalyzer(n_factors = 4, rotation = 'varimax')\n",
        "fa.fit(DV_df)\n",
        "# Create a factor's names\n",
        "facs = ['Factors' + ' ' + str(i + 1) for i in range(4)]\n",
        "print(facs)\n",
        "# Loading factors\n",
        "pd.DataFrame(data = fa.loadings_, index = DV_df.columns, columns = facs).style.apply(Factor_Analysis.highlightLoadings)"
      ]
    },
    {
      "attachments": {},
      "cell_type": "markdown",
      "id": "ac44e5e7-459e-4e9e-b85a-5657ee665d51",
      "metadata": {
        "noteable": {
          "cell_type": "markdown"
        }
      },
      "source": [
        "#### 由上述結果可以發現依變數可以分為4個構面：</b>\n",
        "\n",
        "* 線上媒體政治參與(online_media_pp) : read_media / like_media / share_media / comment_media</b>\n",
        "\n",
        "-> reference : 劉嘉薇，2019\n",
        "* 投票參與(voting) : election_mayor / election_18</b>\n",
        "\n",
        "-> reference : Barnes and  Kaase (1979) \n",
        "\n",
        "* 線下媒體政治參與(offline_media_pp) : read_election_news / read_election_leaflet\n",
        "\n",
        "-> reference : 徐火炎，2001\n",
        "* 競選工作式政治參與(campaign_worker_pp) : campaign / volunteer\n",
        "\n",
        "-> reference : Mibrath and Goel，1977"
      ]
    },
    {
      "cell_type": "code",
      "execution_count": 17,
      "id": "e4a07af3-25c0-4aad-be44-90320162cfb9",
      "metadata": {
        "ExecuteTime": {
          "end_time": "2023-06-30T09:20:36.958416+00:00",
          "start_time": "2023-06-30T09:20:36.774154+00:00"
        },
        "datalink": {
          "1ff1b460-556c-46c6-b2c5-3ec1e8859199": {
            "applied_filters": [],
            "dataframe_info": {
              "default_index_used": false,
              "orig_num_cols": 4,
              "orig_num_rows": 4,
              "orig_size_bytes": 160,
              "truncated_num_cols": 4,
              "truncated_num_rows": 4,
              "truncated_size_bytes": 160,
              "truncated_string_columns": []
            },
            "display_id": "1ff1b460-556c-46c6-b2c5-3ec1e8859199",
            "dx_settings": {
              "ALLOW_NOTEABLE_ATTRS": true,
              "COLUMN_SAMPLING_METHOD": "outer",
              "DB_LOCATION": ":memory:",
              "DEV_MODE": false,
              "DISPLAY_MAX_COLUMNS": 100,
              "DISPLAY_MAX_ROWS": 50000,
              "DISPLAY_MODE": "simple",
              "ENABLE_ASSIGNMENT": true,
              "ENABLE_DATALINK": true,
              "FLATTEN_COLUMN_VALUES": true,
              "FLATTEN_INDEX_VALUES": false,
              "GENERATE_DEX_METADATA": false,
              "HTML_TABLE_SCHEMA": false,
              "LOG_LEVEL": 30,
              "MAX_RENDER_SIZE_BYTES": 104857600,
              "MAX_STRING_LENGTH": 250,
              "NUM_PAST_SAMPLES_TRACKED": 3,
              "RANDOM_STATE": 12648430,
              "RESET_INDEX_VALUES": false,
              "ROW_SAMPLING_METHOD": "random",
              "SAMPLING_FACTOR": 0.1,
              "SAMPLING_METHOD": "random",
              "STRINGIFY_COLUMN_VALUES": true,
              "STRINGIFY_INDEX_VALUES": false
            },
            "sample_history": [],
            "sampling_time": "2023-06-30T07:43:52.738630",
            "user_variable_name": null,
            "variable_name": "unk_dataframe_8457f2964311431bb801b503cd360cbe"
          },
          "de21e333-e29e-47d5-ab55-6597932053f5": {
            "applied_filters": [],
            "dataframe_info": {
              "default_index_used": false,
              "orig_num_cols": 4,
              "orig_num_rows": 4,
              "orig_size_bytes": 160,
              "truncated_num_cols": 4,
              "truncated_num_rows": 4,
              "truncated_size_bytes": 160,
              "truncated_string_columns": []
            },
            "display_id": "de21e333-e29e-47d5-ab55-6597932053f5",
            "dx_settings": {
              "ALLOW_NOTEABLE_ATTRS": true,
              "COLUMN_SAMPLING_METHOD": "outer",
              "DB_LOCATION": ":memory:",
              "DEV_MODE": false,
              "DISPLAY_MAX_COLUMNS": 100,
              "DISPLAY_MAX_ROWS": 50000,
              "DISPLAY_MODE": "simple",
              "ENABLE_ASSIGNMENT": true,
              "ENABLE_DATALINK": true,
              "FLATTEN_COLUMN_VALUES": true,
              "FLATTEN_INDEX_VALUES": false,
              "GENERATE_DEX_METADATA": false,
              "HTML_TABLE_SCHEMA": false,
              "LOG_LEVEL": 30,
              "MAX_RENDER_SIZE_BYTES": 104857600,
              "MAX_STRING_LENGTH": 250,
              "NUM_PAST_SAMPLES_TRACKED": 3,
              "RANDOM_STATE": 12648430,
              "RESET_INDEX_VALUES": false,
              "ROW_SAMPLING_METHOD": "random",
              "SAMPLING_FACTOR": 0.1,
              "SAMPLING_METHOD": "random",
              "STRINGIFY_COLUMN_VALUES": true,
              "STRINGIFY_INDEX_VALUES": false
            },
            "sample_history": [],
            "sampling_time": "2023-06-30T08:22:45.439636",
            "user_variable_name": null,
            "variable_name": "unk_dataframe_87373e80730b4353ab01c6e103ee0eeb"
          }
        },
        "dx": {
          "dashboard": {
            "multiViews": []
          },
          "fieldMetadata": {},
          "updated": 1688111056702,
          "views": [
            {
              "annotationRules": [],
              "chart": {},
              "chartMode": "grid",
              "confoRules": [],
              "decoration": {
                "footer": "",
                "subtitle": "",
                "title": "Table"
              },
              "facets": [],
              "filterSettings": {
                "SHOW_FILTER_PANEL": true,
                "filters": []
              },
              "id": "first-view",
              "isDefault": true,
              "type": "public",
              "userID": ""
            },
            {
              "annotationRules": [],
              "chart": {
                "tableSparklines": false
              },
              "chartMode": "grid",
              "confoRules": [],
              "decoration": {
                "footer": "",
                "subtitle": "",
                "title": "Table"
              },
              "facets": [],
              "filterSettings": {
                "SHOW_FILTER_PANEL": true,
                "filters": []
              },
              "id": "first-view",
              "isDefault": true,
              "isTransitory": true,
              "type": "public",
              "userID": ""
            }
          ]
        },
        "jupyter": {
          "outputs_hidden": false,
          "source_hidden": false
        },
        "noteable": {
          "cell_type": "code",
          "output_collection_id": "dc6dde03-4d2f-48b8-803d-51e36d9dfa3a"
        },
        "scrolled": false
      },
      "outputs": [],
      "source": [
        "# # Explained variance\n",
        "# idx = ['SS Loadings', 'Proportion Variance', 'Cumulative Variance']\n",
        "# df_variance_DV = pd.DataFrame(data = fa.get_factor_variance(), index = idx, columns = facs)\n",
        "# # Ratio of variance\n",
        "# ratioVariance_DV = fa.get_factor_variance()[1] / fa.get_factor_variance()[1].sum()\n",
        "# df_ratio_var_DV = pd.DataFrame(data = ratioVariance_DV.reshape((1, 4)), index = ['Ratio Variance'], columns = facs)\n",
        "# # New completed dataframe\n",
        "# df_variance_DV.append(df_ratio_var_DV)"
      ]
    },
    {
      "cell_type": "code",
      "execution_count": 18,
      "id": "1fc26260-63c3-4728-bbb6-5de12eccb200",
      "metadata": {
        "ExecuteTime": {
          "end_time": "2023-06-30T09:20:37.842040+00:00",
          "start_time": "2023-06-30T09:20:36.964772+00:00"
        },
        "datalink": {
          "024a7a13-bd4f-4a3d-a652-c610afec4670": {
            "applied_filters": [],
            "dataframe_info": {
              "default_index_used": true,
              "orig_num_cols": 4,
              "orig_num_rows": 503,
              "orig_size_bytes": 20120,
              "truncated_num_cols": 4,
              "truncated_num_rows": 503,
              "truncated_size_bytes": 20120,
              "truncated_string_columns": []
            },
            "display_id": "024a7a13-bd4f-4a3d-a652-c610afec4670",
            "dx_settings": {
              "ALLOW_NOTEABLE_ATTRS": true,
              "COLUMN_SAMPLING_METHOD": "outer",
              "DB_LOCATION": ":memory:",
              "DEV_MODE": false,
              "DISPLAY_MAX_COLUMNS": 100,
              "DISPLAY_MAX_ROWS": 50000,
              "DISPLAY_MODE": "simple",
              "ENABLE_ASSIGNMENT": true,
              "ENABLE_DATALINK": true,
              "FLATTEN_COLUMN_VALUES": true,
              "FLATTEN_INDEX_VALUES": false,
              "GENERATE_DEX_METADATA": false,
              "HTML_TABLE_SCHEMA": false,
              "LOG_LEVEL": 30,
              "MAX_RENDER_SIZE_BYTES": 104857600,
              "MAX_STRING_LENGTH": 250,
              "NUM_PAST_SAMPLES_TRACKED": 3,
              "RANDOM_STATE": 12648430,
              "RESET_INDEX_VALUES": false,
              "ROW_SAMPLING_METHOD": "random",
              "SAMPLING_FACTOR": 0.1,
              "SAMPLING_METHOD": "random",
              "STRINGIFY_COLUMN_VALUES": true,
              "STRINGIFY_INDEX_VALUES": false
            },
            "sample_history": [],
            "sampling_time": "2023-06-30T08:00:53.825938",
            "user_variable_name": "df_factors_DV",
            "variable_name": "df_factors_DV"
          },
          "3d01e4ba-75ea-46f4-a583-461780999a39": {
            "applied_filters": [],
            "dataframe_info": {
              "default_index_used": true,
              "orig_num_cols": 4,
              "orig_num_rows": 503,
              "orig_size_bytes": 20120,
              "truncated_num_cols": 4,
              "truncated_num_rows": 503,
              "truncated_size_bytes": 20120,
              "truncated_string_columns": []
            },
            "display_id": "3d01e4ba-75ea-46f4-a583-461780999a39",
            "dx_settings": {
              "ALLOW_NOTEABLE_ATTRS": true,
              "COLUMN_SAMPLING_METHOD": "outer",
              "DB_LOCATION": ":memory:",
              "DEV_MODE": false,
              "DISPLAY_MAX_COLUMNS": 100,
              "DISPLAY_MAX_ROWS": 50000,
              "DISPLAY_MODE": "simple",
              "ENABLE_ASSIGNMENT": true,
              "ENABLE_DATALINK": true,
              "FLATTEN_COLUMN_VALUES": true,
              "FLATTEN_INDEX_VALUES": false,
              "GENERATE_DEX_METADATA": false,
              "HTML_TABLE_SCHEMA": false,
              "LOG_LEVEL": 30,
              "MAX_RENDER_SIZE_BYTES": 104857600,
              "MAX_STRING_LENGTH": 250,
              "NUM_PAST_SAMPLES_TRACKED": 3,
              "RANDOM_STATE": 12648430,
              "RESET_INDEX_VALUES": false,
              "ROW_SAMPLING_METHOD": "random",
              "SAMPLING_FACTOR": 0.1,
              "SAMPLING_METHOD": "random",
              "STRINGIFY_COLUMN_VALUES": true,
              "STRINGIFY_INDEX_VALUES": false
            },
            "sample_history": [],
            "sampling_time": "2023-06-30T08:42:40.536952",
            "user_variable_name": "df_factors_DV",
            "variable_name": "df_factors_DV"
          },
          "4be0dceb-9be7-43a1-851b-83512977a93a": {
            "applied_filters": [],
            "dataframe_info": {
              "default_index_used": true,
              "orig_num_cols": 4,
              "orig_num_rows": 503,
              "orig_size_bytes": 20120,
              "truncated_num_cols": 4,
              "truncated_num_rows": 503,
              "truncated_size_bytes": 20120,
              "truncated_string_columns": []
            },
            "display_id": "4be0dceb-9be7-43a1-851b-83512977a93a",
            "dx_settings": {
              "ALLOW_NOTEABLE_ATTRS": true,
              "COLUMN_SAMPLING_METHOD": "outer",
              "DB_LOCATION": ":memory:",
              "DEV_MODE": false,
              "DISPLAY_MAX_COLUMNS": 100,
              "DISPLAY_MAX_ROWS": 50000,
              "DISPLAY_MODE": "simple",
              "ENABLE_ASSIGNMENT": true,
              "ENABLE_DATALINK": true,
              "FLATTEN_COLUMN_VALUES": true,
              "FLATTEN_INDEX_VALUES": false,
              "GENERATE_DEX_METADATA": false,
              "HTML_TABLE_SCHEMA": false,
              "LOG_LEVEL": 30,
              "MAX_RENDER_SIZE_BYTES": 104857600,
              "MAX_STRING_LENGTH": 250,
              "NUM_PAST_SAMPLES_TRACKED": 3,
              "RANDOM_STATE": 12648430,
              "RESET_INDEX_VALUES": false,
              "ROW_SAMPLING_METHOD": "random",
              "SAMPLING_FACTOR": 0.1,
              "SAMPLING_METHOD": "random",
              "STRINGIFY_COLUMN_VALUES": true,
              "STRINGIFY_INDEX_VALUES": false
            },
            "sample_history": [],
            "sampling_time": "2023-06-30T09:20:37.682895",
            "user_variable_name": "df_factors_DV",
            "variable_name": "df_factors_DV"
          },
          "4de7d7aa-49b5-46c0-8551-1a7c9611056a": {
            "applied_filters": [],
            "dataframe_info": {
              "default_index_used": true,
              "orig_num_cols": 4,
              "orig_num_rows": 503,
              "orig_size_bytes": 20120,
              "truncated_num_cols": 4,
              "truncated_num_rows": 503,
              "truncated_size_bytes": 20120,
              "truncated_string_columns": []
            },
            "display_id": "4de7d7aa-49b5-46c0-8551-1a7c9611056a",
            "dx_settings": {
              "ALLOW_NOTEABLE_ATTRS": true,
              "COLUMN_SAMPLING_METHOD": "outer",
              "DB_LOCATION": ":memory:",
              "DEV_MODE": false,
              "DISPLAY_MAX_COLUMNS": 100,
              "DISPLAY_MAX_ROWS": 50000,
              "DISPLAY_MODE": "simple",
              "ENABLE_ASSIGNMENT": true,
              "ENABLE_DATALINK": true,
              "FLATTEN_COLUMN_VALUES": true,
              "FLATTEN_INDEX_VALUES": false,
              "GENERATE_DEX_METADATA": false,
              "HTML_TABLE_SCHEMA": false,
              "LOG_LEVEL": 30,
              "MAX_RENDER_SIZE_BYTES": 104857600,
              "MAX_STRING_LENGTH": 250,
              "NUM_PAST_SAMPLES_TRACKED": 3,
              "RANDOM_STATE": 12648430,
              "RESET_INDEX_VALUES": false,
              "ROW_SAMPLING_METHOD": "random",
              "SAMPLING_FACTOR": 0.1,
              "SAMPLING_METHOD": "random",
              "STRINGIFY_COLUMN_VALUES": true,
              "STRINGIFY_INDEX_VALUES": false
            },
            "sample_history": [],
            "sampling_time": "2023-06-30T08:22:57.830361",
            "user_variable_name": "df_factors_DV",
            "variable_name": "df_factors_DV"
          }
        },
        "jupyter": {
          "outputs_hidden": false,
          "source_hidden": false
        },
        "noteable": {
          "cell_type": "code",
          "output_collection_id": "aa5a33ab-e014-4514-ab44-8ec03be07087"
        }
      },
      "outputs": [
        {
          "data": {
            "text/html": [
              "<div>\n",
              "<style scoped>\n",
              "    .dataframe tbody tr th:only-of-type {\n",
              "        vertical-align: middle;\n",
              "    }\n",
              "\n",
              "    .dataframe tbody tr th {\n",
              "        vertical-align: top;\n",
              "    }\n",
              "\n",
              "    .dataframe thead th {\n",
              "        text-align: right;\n",
              "    }\n",
              "</style>\n",
              "<table border=\"1\" class=\"dataframe\">\n",
              "  <thead>\n",
              "    <tr style=\"text-align: right;\">\n",
              "      <th></th>\n",
              "      <th>Factors 1</th>\n",
              "      <th>Factors 2</th>\n",
              "      <th>Factors 3</th>\n",
              "      <th>Factors 4</th>\n",
              "    </tr>\n",
              "  </thead>\n",
              "  <tbody>\n",
              "    <tr>\n",
              "      <th>0</th>\n",
              "      <td>0.401327</td>\n",
              "      <td>1.090674</td>\n",
              "      <td>-1.326542</td>\n",
              "      <td>-0.408041</td>\n",
              "    </tr>\n",
              "    <tr>\n",
              "      <th>1</th>\n",
              "      <td>0.174039</td>\n",
              "      <td>-1.503807</td>\n",
              "      <td>0.263618</td>\n",
              "      <td>-0.413159</td>\n",
              "    </tr>\n",
              "    <tr>\n",
              "      <th>2</th>\n",
              "      <td>0.268508</td>\n",
              "      <td>-0.493079</td>\n",
              "      <td>-1.069408</td>\n",
              "      <td>-0.314089</td>\n",
              "    </tr>\n",
              "    <tr>\n",
              "      <th>3</th>\n",
              "      <td>0.614651</td>\n",
              "      <td>0.756339</td>\n",
              "      <td>0.826183</td>\n",
              "      <td>-0.460537</td>\n",
              "    </tr>\n",
              "    <tr>\n",
              "      <th>4</th>\n",
              "      <td>1.106974</td>\n",
              "      <td>0.230415</td>\n",
              "      <td>-0.299575</td>\n",
              "      <td>-0.609832</td>\n",
              "    </tr>\n",
              "    <tr>\n",
              "      <th>...</th>\n",
              "      <td>...</td>\n",
              "      <td>...</td>\n",
              "      <td>...</td>\n",
              "      <td>...</td>\n",
              "    </tr>\n",
              "    <tr>\n",
              "      <th>498</th>\n",
              "      <td>-0.537318</td>\n",
              "      <td>0.600628</td>\n",
              "      <td>1.502293</td>\n",
              "      <td>-0.276675</td>\n",
              "    </tr>\n",
              "    <tr>\n",
              "      <th>499</th>\n",
              "      <td>0.982530</td>\n",
              "      <td>0.584389</td>\n",
              "      <td>0.723440</td>\n",
              "      <td>-0.687787</td>\n",
              "    </tr>\n",
              "    <tr>\n",
              "      <th>500</th>\n",
              "      <td>-0.673782</td>\n",
              "      <td>-1.172304</td>\n",
              "      <td>-1.105332</td>\n",
              "      <td>-0.073598</td>\n",
              "    </tr>\n",
              "    <tr>\n",
              "      <th>501</th>\n",
              "      <td>-0.673782</td>\n",
              "      <td>-1.172304</td>\n",
              "      <td>-1.105332</td>\n",
              "      <td>-0.073598</td>\n",
              "    </tr>\n",
              "    <tr>\n",
              "      <th>502</th>\n",
              "      <td>-0.673782</td>\n",
              "      <td>-1.172304</td>\n",
              "      <td>-1.105332</td>\n",
              "      <td>-0.073598</td>\n",
              "    </tr>\n",
              "  </tbody>\n",
              "</table>\n",
              "<p>503 rows × 4 columns</p>\n",
              "</div>"
            ],
            "text/plain": [
              "     Factors 1  Factors 2  Factors 3  Factors 4\n",
              "0     0.401327   1.090674  -1.326542  -0.408041\n",
              "1     0.174039  -1.503807   0.263618  -0.413159\n",
              "2     0.268508  -0.493079  -1.069408  -0.314089\n",
              "3     0.614651   0.756339   0.826183  -0.460537\n",
              "4     1.106974   0.230415  -0.299575  -0.609832\n",
              "..         ...        ...        ...        ...\n",
              "498  -0.537318   0.600628   1.502293  -0.276675\n",
              "499   0.982530   0.584389   0.723440  -0.687787\n",
              "500  -0.673782  -1.172304  -1.105332  -0.073598\n",
              "501  -0.673782  -1.172304  -1.105332  -0.073598\n",
              "502  -0.673782  -1.172304  -1.105332  -0.073598\n",
              "\n",
              "[503 rows x 4 columns]"
            ]
          },
          "execution_count": 18,
          "metadata": {},
          "output_type": "execute_result"
        }
      ],
      "source": [
        "df_factors_DV = pd.DataFrame(data = fa.fit_transform(DV_df),columns = facs)\n",
        "df_factors_DV                     "
      ]
    },
    {
      "attachments": {},
      "cell_type": "markdown",
      "id": "51aa365e-41e1-4012-87af-35bb7b7fd9bb",
      "metadata": {
        "noteable": {
          "cell_type": "markdown"
        }
      },
      "source": [
        "### Establish Index with mean method"
      ]
    },
    {
      "cell_type": "code",
      "execution_count": 19,
      "id": "7e8e3a89-00e1-495c-82c8-af55b0ef8b8d",
      "metadata": {
        "ExecuteTime": {
          "end_time": "2023-06-30T09:20:38.082330+00:00",
          "start_time": "2023-06-30T09:20:37.925584+00:00"
        },
        "jupyter": {
          "outputs_hidden": false,
          "source_hidden": false
        },
        "noteable": {
          "cell_type": "code",
          "output_collection_id": "17802358-ffa8-48a5-ae36-bb037f48e01d"
        }
      },
      "outputs": [],
      "source": [
        "online_media_pp_vars = ['read_media', 'like_media', 'share_media', 'comment_media']\n",
        "voting_vars = ['election_mayor', 'election_18']\n",
        "offline_media_pp_vars = ['read_election_news', 'read_election_leaflet']\n",
        "campaign_worker_pp_vars = ['campaign', 'volunteer']"
      ]
    },
    {
      "cell_type": "code",
      "execution_count": 20,
      "id": "7723885f-f914-475d-aa8f-68e293cd96cf",
      "metadata": {
        "ExecuteTime": {
          "end_time": "2023-06-30T09:20:38.285949+00:00",
          "start_time": "2023-06-30T09:20:38.121779+00:00"
        },
        "jupyter": {
          "outputs_hidden": false,
          "source_hidden": false
        },
        "noteable": {
          "cell_type": "code",
          "output_collection_id": "4966c301-1d12-42d0-bab9-35cf1c8fe71e"
        }
      },
      "outputs": [],
      "source": [
        "# Calculate the scores for each factor\n",
        "ml_df['online_media_pp_mean'] = ml_df[online_media_pp_vars].mean(axis=1)\n",
        "ml_df['voting_mean'] = ml_df[voting_vars].mean(axis=1)\n",
        "ml_df['offline_media_pp_mean'] = ml_df[offline_media_pp_vars].mean(axis=1)\n",
        "ml_df['campaign_worker_pp_mean'] = ml_df[campaign_worker_pp_vars].mean(axis=1)"
      ]
    }
  ],
  "metadata": {
    "kernelspec": {
      "display_name": "base",
      "language": "python",
      "name": "python3"
    },
    "language_info": {
      "codemirror_mode": {
        "name": "ipython",
        "version": 3
      },
      "file_extension": ".py",
      "mimetype": "text/x-python",
      "name": "python",
      "nbconvert_exporter": "python",
      "pygments_lexer": "ipython3",
      "version": "3.9.12"
    },
    "noteable": {
      "last_transaction_id": "15813134-d2d0-407c-af9e-6ddb7d43fa13"
    },
    "orig_nbformat": 4,
    "selected_hardware_size": "small"
  },
  "nbformat": 4,
  "nbformat_minor": 5
}
