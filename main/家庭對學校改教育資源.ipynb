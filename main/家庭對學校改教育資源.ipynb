{
 "cells": [
  {
   "cell_type": "markdown",
   "metadata": {},
   "source": [
    "## Import Package\n",
    "* https://github.com/mwburke/stargazer\n",
    "* https://github.com/mwburke/stargazer/issues/71"
   ]
  },
  {
   "cell_type": "code",
   "execution_count": 2,
   "metadata": {},
   "outputs": [],
   "source": [
    "import pandas as pd\n",
    "import numpy as np\n",
    "import plotly.express as px\n",
    "import seaborn as sns               \n",
    "import matplotlib.pyplot as plt     \n",
    "import statsmodels.formula.api as smf\n",
    "from statsmodels.miscmodels.ordinal_model import OrderedModel\n",
    "from stargazer.stargazer import Stargazer\n",
    "#from stargazer.utils import LogitOdds\n",
    "from IPython.core.display import HTML"
   ]
  },
  {
   "cell_type": "markdown",
   "metadata": {},
   "source": [
    "## Load Data"
   ]
  },
  {
   "cell_type": "code",
   "execution_count": 3,
   "metadata": {},
   "outputs": [],
   "source": [
    "df = pd.read_spss('/Users/wen/Desktop/論文/E10053_4/data.sav')"
   ]
  },
  {
   "cell_type": "code",
   "execution_count": 4,
   "metadata": {},
   "outputs": [],
   "source": [
    "year1 = pd.read_spss('/Users/wen/Desktop/論文/E10053_1/data.sav')"
   ]
  },
  {
   "cell_type": "code",
   "execution_count": 5,
   "metadata": {},
   "outputs": [],
   "source": [
    "mergedf = year1.loc[:, ['id', 'fedu', 'medu']]"
   ]
  },
  {
   "cell_type": "code",
   "execution_count": 6,
   "metadata": {},
   "outputs": [],
   "source": [
    "df = pd.merge(df, mergedf, on = 'id')"
   ]
  },
  {
   "cell_type": "code",
   "execution_count": 7,
   "metadata": {},
   "outputs": [
    {
     "data": {
      "text/html": [
       "<div>\n",
       "<style scoped>\n",
       "    .dataframe tbody tr th:only-of-type {\n",
       "        vertical-align: middle;\n",
       "    }\n",
       "\n",
       "    .dataframe tbody tr th {\n",
       "        vertical-align: top;\n",
       "    }\n",
       "\n",
       "    .dataframe thead th {\n",
       "        text-align: right;\n",
       "    }\n",
       "</style>\n",
       "<table border=\"1\" class=\"dataframe\">\n",
       "  <thead>\n",
       "    <tr style=\"text-align: right;\">\n",
       "      <th></th>\n",
       "      <th>id</th>\n",
       "      <th>v01</th>\n",
       "      <th>v03</th>\n",
       "      <th>v10</th>\n",
       "      <th>v11</th>\n",
       "      <th>v12</th>\n",
       "      <th>v13</th>\n",
       "      <th>v14</th>\n",
       "      <th>a1a</th>\n",
       "      <th>a1b</th>\n",
       "      <th>...</th>\n",
       "      <th>fcareer8</th>\n",
       "      <th>mcareer5</th>\n",
       "      <th>mcareer8</th>\n",
       "      <th>fpartyid</th>\n",
       "      <th>mpartyid</th>\n",
       "      <th>fparty</th>\n",
       "      <th>mparty</th>\n",
       "      <th>w</th>\n",
       "      <th>fedu</th>\n",
       "      <th>medu</th>\n",
       "    </tr>\n",
       "  </thead>\n",
       "  <tbody>\n",
       "    <tr>\n",
       "      <th>0</th>\n",
       "      <td>120101.0</td>\n",
       "      <td>國立臺灣大學</td>\n",
       "      <td>27.0</td>\n",
       "      <td>5.0</td>\n",
       "      <td>13.0</td>\n",
       "      <td>3.0</td>\n",
       "      <td>18.0</td>\n",
       "      <td>5.0</td>\n",
       "      <td>很少</td>\n",
       "      <td>很少</td>\n",
       "      <td>...</td>\n",
       "      <td>私部門管理階層及專業人員</td>\n",
       "      <td>高、中級白領</td>\n",
       "      <td>私部門管理階層及專業人員</td>\n",
       "      <td>無反應及其他政黨</td>\n",
       "      <td>中立及看情形</td>\n",
       "      <td>中立無反應</td>\n",
       "      <td>中立無反應</td>\n",
       "      <td>0.959659</td>\n",
       "      <td>大學及以上</td>\n",
       "      <td>大學及以上</td>\n",
       "    </tr>\n",
       "    <tr>\n",
       "      <th>1</th>\n",
       "      <td>120102.0</td>\n",
       "      <td>國立政治大學</td>\n",
       "      <td>14.0</td>\n",
       "      <td>4.0</td>\n",
       "      <td>22.0</td>\n",
       "      <td>3.0</td>\n",
       "      <td>11.0</td>\n",
       "      <td>50.0</td>\n",
       "      <td>很少</td>\n",
       "      <td>很少</td>\n",
       "      <td>...</td>\n",
       "      <td>軍公教人員</td>\n",
       "      <td>其他</td>\n",
       "      <td>家管</td>\n",
       "      <td>中立及看情形</td>\n",
       "      <td>中立及看情形</td>\n",
       "      <td>中立無反應</td>\n",
       "      <td>中立無反應</td>\n",
       "      <td>0.959659</td>\n",
       "      <td>大學及以上</td>\n",
       "      <td>高中、職</td>\n",
       "    </tr>\n",
       "    <tr>\n",
       "      <th>2</th>\n",
       "      <td>120103.0</td>\n",
       "      <td>國立政治大學</td>\n",
       "      <td>13.0</td>\n",
       "      <td>4.0</td>\n",
       "      <td>14.0</td>\n",
       "      <td>2.0</td>\n",
       "      <td>11.0</td>\n",
       "      <td>6.0</td>\n",
       "      <td>有時</td>\n",
       "      <td>時常</td>\n",
       "      <td>...</td>\n",
       "      <td>私部門勞工</td>\n",
       "      <td>其他</td>\n",
       "      <td>家管</td>\n",
       "      <td>中立及看情形</td>\n",
       "      <td>中立及看情形</td>\n",
       "      <td>中立無反應</td>\n",
       "      <td>中立無反應</td>\n",
       "      <td>0.959659</td>\n",
       "      <td>高中、職</td>\n",
       "      <td>高中、職</td>\n",
       "    </tr>\n",
       "    <tr>\n",
       "      <th>3</th>\n",
       "      <td>120107.0</td>\n",
       "      <td>國立政治大學</td>\n",
       "      <td>25.0</td>\n",
       "      <td>4.0</td>\n",
       "      <td>14.0</td>\n",
       "      <td>2.0</td>\n",
       "      <td>11.0</td>\n",
       "      <td>5.0</td>\n",
       "      <td>很少</td>\n",
       "      <td>很少</td>\n",
       "      <td>...</td>\n",
       "      <td>軍公教人員</td>\n",
       "      <td>高、中級白領</td>\n",
       "      <td>軍公教人員</td>\n",
       "      <td>無反應及其他政黨</td>\n",
       "      <td>國民黨</td>\n",
       "      <td>中立無反應</td>\n",
       "      <td>普通支持國民黨</td>\n",
       "      <td>1.087015</td>\n",
       "      <td>大學及以上</td>\n",
       "      <td>大學及以上</td>\n",
       "    </tr>\n",
       "    <tr>\n",
       "      <th>4</th>\n",
       "      <td>120108.0</td>\n",
       "      <td>國立政治大學</td>\n",
       "      <td>20.0</td>\n",
       "      <td>5.0</td>\n",
       "      <td>5.0</td>\n",
       "      <td>2.0</td>\n",
       "      <td>15.0</td>\n",
       "      <td>26.0</td>\n",
       "      <td>時常</td>\n",
       "      <td>很少</td>\n",
       "      <td>...</td>\n",
       "      <td>私部門管理階層及專業人員</td>\n",
       "      <td>藍領</td>\n",
       "      <td>私部門勞工</td>\n",
       "      <td>民進黨</td>\n",
       "      <td>民進黨</td>\n",
       "      <td>普通支持民進黨</td>\n",
       "      <td>普通支持民進黨</td>\n",
       "      <td>0.959659</td>\n",
       "      <td>專科</td>\n",
       "      <td>高中、職</td>\n",
       "    </tr>\n",
       "    <tr>\n",
       "      <th>...</th>\n",
       "      <td>...</td>\n",
       "      <td>...</td>\n",
       "      <td>...</td>\n",
       "      <td>...</td>\n",
       "      <td>...</td>\n",
       "      <td>...</td>\n",
       "      <td>...</td>\n",
       "      <td>...</td>\n",
       "      <td>...</td>\n",
       "      <td>...</td>\n",
       "      <td>...</td>\n",
       "      <td>...</td>\n",
       "      <td>...</td>\n",
       "      <td>...</td>\n",
       "      <td>...</td>\n",
       "      <td>...</td>\n",
       "      <td>...</td>\n",
       "      <td>...</td>\n",
       "      <td>...</td>\n",
       "      <td>...</td>\n",
       "      <td>...</td>\n",
       "    </tr>\n",
       "    <tr>\n",
       "      <th>1089</th>\n",
       "      <td>2560308.0</td>\n",
       "      <td>國立高雄師範大學</td>\n",
       "      <td>19.0</td>\n",
       "      <td>3.0</td>\n",
       "      <td>26.0</td>\n",
       "      <td>4.0</td>\n",
       "      <td>8.0</td>\n",
       "      <td>40.0</td>\n",
       "      <td>有時</td>\n",
       "      <td>很少</td>\n",
       "      <td>...</td>\n",
       "      <td>私部門勞工</td>\n",
       "      <td>其他</td>\n",
       "      <td>家管</td>\n",
       "      <td>民進黨</td>\n",
       "      <td>民進黨</td>\n",
       "      <td>普通支持民進黨</td>\n",
       "      <td>偏民進黨</td>\n",
       "      <td>0.897055</td>\n",
       "      <td>大學及以上</td>\n",
       "      <td>高中、職</td>\n",
       "    </tr>\n",
       "    <tr>\n",
       "      <th>1090</th>\n",
       "      <td>2560309.0</td>\n",
       "      <td>國立高雄師範大學</td>\n",
       "      <td>18.0</td>\n",
       "      <td>3.0</td>\n",
       "      <td>26.0</td>\n",
       "      <td>4.0</td>\n",
       "      <td>12.0</td>\n",
       "      <td>7.0</td>\n",
       "      <td>有時</td>\n",
       "      <td>很少</td>\n",
       "      <td>...</td>\n",
       "      <td>軍公教人員</td>\n",
       "      <td>高、中級白領</td>\n",
       "      <td>私部門管理階層及專業人員</td>\n",
       "      <td>國民黨</td>\n",
       "      <td>民進黨</td>\n",
       "      <td>普通支持國民黨</td>\n",
       "      <td>偏民進黨</td>\n",
       "      <td>1.016103</td>\n",
       "      <td>專科</td>\n",
       "      <td>高中、職</td>\n",
       "    </tr>\n",
       "    <tr>\n",
       "      <th>1091</th>\n",
       "      <td>2560310.0</td>\n",
       "      <td>國立高雄師範大學</td>\n",
       "      <td>32.0</td>\n",
       "      <td>3.0</td>\n",
       "      <td>26.0</td>\n",
       "      <td>4.0</td>\n",
       "      <td>12.0</td>\n",
       "      <td>6.0</td>\n",
       "      <td>有時</td>\n",
       "      <td>很少</td>\n",
       "      <td>...</td>\n",
       "      <td>軍公教人員</td>\n",
       "      <td>其他</td>\n",
       "      <td>家管</td>\n",
       "      <td>國民黨</td>\n",
       "      <td>國民黨</td>\n",
       "      <td>普通支持國民黨</td>\n",
       "      <td>非常支持國民黨</td>\n",
       "      <td>1.016103</td>\n",
       "      <td>專科</td>\n",
       "      <td>專科</td>\n",
       "    </tr>\n",
       "    <tr>\n",
       "      <th>1092</th>\n",
       "      <td>2560311.0</td>\n",
       "      <td>國立高雄師範大學</td>\n",
       "      <td>15.0</td>\n",
       "      <td>3.0</td>\n",
       "      <td>26.0</td>\n",
       "      <td>4.0</td>\n",
       "      <td>12.0</td>\n",
       "      <td>7.0</td>\n",
       "      <td>有時</td>\n",
       "      <td>有時</td>\n",
       "      <td>...</td>\n",
       "      <td>私部門勞工</td>\n",
       "      <td>藍領</td>\n",
       "      <td>私部門勞工</td>\n",
       "      <td>無反應及其他政黨</td>\n",
       "      <td>無反應及其他政黨</td>\n",
       "      <td>中立無反應</td>\n",
       "      <td>中立無反應</td>\n",
       "      <td>1.016103</td>\n",
       "      <td>高中、職</td>\n",
       "      <td>高中、職</td>\n",
       "    </tr>\n",
       "    <tr>\n",
       "      <th>1093</th>\n",
       "      <td>2560312.0</td>\n",
       "      <td>國立高雄師範大學</td>\n",
       "      <td>21.0</td>\n",
       "      <td>3.0</td>\n",
       "      <td>26.0</td>\n",
       "      <td>4.0</td>\n",
       "      <td>8.0</td>\n",
       "      <td>41.0</td>\n",
       "      <td>很少</td>\n",
       "      <td>從不</td>\n",
       "      <td>...</td>\n",
       "      <td>私部門職員</td>\n",
       "      <td>中低、低級白領</td>\n",
       "      <td>私部門職員</td>\n",
       "      <td>國民黨</td>\n",
       "      <td>國民黨</td>\n",
       "      <td>非常支持國民黨</td>\n",
       "      <td>普通支持國民黨</td>\n",
       "      <td>0.897055</td>\n",
       "      <td>國、初中</td>\n",
       "      <td>高中、職</td>\n",
       "    </tr>\n",
       "  </tbody>\n",
       "</table>\n",
       "<p>1094 rows × 293 columns</p>\n",
       "</div>"
      ],
      "text/plain": [
       "             id       v01   v03  v10   v11  v12   v13   v14 a1a a1b  ...  \\\n",
       "0      120101.0    國立臺灣大學  27.0  5.0  13.0  3.0  18.0   5.0  很少  很少  ...   \n",
       "1      120102.0    國立政治大學  14.0  4.0  22.0  3.0  11.0  50.0  很少  很少  ...   \n",
       "2      120103.0    國立政治大學  13.0  4.0  14.0  2.0  11.0   6.0  有時  時常  ...   \n",
       "3      120107.0    國立政治大學  25.0  4.0  14.0  2.0  11.0   5.0  很少  很少  ...   \n",
       "4      120108.0    國立政治大學  20.0  5.0   5.0  2.0  15.0  26.0  時常  很少  ...   \n",
       "...         ...       ...   ...  ...   ...  ...   ...   ...  ..  ..  ...   \n",
       "1089  2560308.0  國立高雄師範大學  19.0  3.0  26.0  4.0   8.0  40.0  有時  很少  ...   \n",
       "1090  2560309.0  國立高雄師範大學  18.0  3.0  26.0  4.0  12.0   7.0  有時  很少  ...   \n",
       "1091  2560310.0  國立高雄師範大學  32.0  3.0  26.0  4.0  12.0   6.0  有時  很少  ...   \n",
       "1092  2560311.0  國立高雄師範大學  15.0  3.0  26.0  4.0  12.0   7.0  有時  有時  ...   \n",
       "1093  2560312.0  國立高雄師範大學  21.0  3.0  26.0  4.0   8.0  41.0  很少  從不  ...   \n",
       "\n",
       "          fcareer8 mcareer5      mcareer8  fpartyid  mpartyid   fparty  \\\n",
       "0     私部門管理階層及專業人員   高、中級白領  私部門管理階層及專業人員  無反應及其他政黨    中立及看情形    中立無反應   \n",
       "1            軍公教人員       其他            家管    中立及看情形    中立及看情形    中立無反應   \n",
       "2            私部門勞工       其他            家管    中立及看情形    中立及看情形    中立無反應   \n",
       "3            軍公教人員   高、中級白領         軍公教人員  無反應及其他政黨       國民黨    中立無反應   \n",
       "4     私部門管理階層及專業人員       藍領         私部門勞工       民進黨       民進黨  普通支持民進黨   \n",
       "...            ...      ...           ...       ...       ...      ...   \n",
       "1089         私部門勞工       其他            家管       民進黨       民進黨  普通支持民進黨   \n",
       "1090         軍公教人員   高、中級白領  私部門管理階層及專業人員       國民黨       民進黨  普通支持國民黨   \n",
       "1091         軍公教人員       其他            家管       國民黨       國民黨  普通支持國民黨   \n",
       "1092         私部門勞工       藍領         私部門勞工  無反應及其他政黨  無反應及其他政黨    中立無反應   \n",
       "1093         私部門職員  中低、低級白領         私部門職員       國民黨       國民黨  非常支持國民黨   \n",
       "\n",
       "       mparty         w   fedu   medu  \n",
       "0       中立無反應  0.959659  大學及以上  大學及以上  \n",
       "1       中立無反應  0.959659  大學及以上   高中、職  \n",
       "2       中立無反應  0.959659   高中、職   高中、職  \n",
       "3     普通支持國民黨  1.087015  大學及以上  大學及以上  \n",
       "4     普通支持民進黨  0.959659     專科   高中、職  \n",
       "...       ...       ...    ...    ...  \n",
       "1089     偏民進黨  0.897055  大學及以上   高中、職  \n",
       "1090     偏民進黨  1.016103     專科   高中、職  \n",
       "1091  非常支持國民黨  1.016103     專科     專科  \n",
       "1092    中立無反應  1.016103   高中、職   高中、職  \n",
       "1093  普通支持國民黨  0.897055   國、初中   高中、職  \n",
       "\n",
       "[1094 rows x 293 columns]"
      ]
     },
     "execution_count": 7,
     "metadata": {},
     "output_type": "execute_result"
    }
   ],
   "source": [
    "df"
   ]
  },
  {
   "cell_type": "code",
   "execution_count": 8,
   "metadata": {},
   "outputs": [
    {
     "ename": "FileNotFoundError",
     "evalue": "[Errno 2] No such file or directory: '/Users/wen/Desktop/school_list.xlsx'",
     "output_type": "error",
     "traceback": [
      "\u001b[0;31m---------------------------------------------------------------------------\u001b[0m",
      "\u001b[0;31mFileNotFoundError\u001b[0m                         Traceback (most recent call last)",
      "\u001b[1;32m/Users/wen/Desktop/論文/main/家庭對學校改教育資源.ipynb Cell 9\u001b[0m in \u001b[0;36m<cell line: 1>\u001b[0;34m()\u001b[0m\n\u001b[0;32m----> <a href='vscode-notebook-cell:/Users/wen/Desktop/%E8%AB%96%E6%96%87/main/%E5%AE%B6%E5%BA%AD%E5%B0%8D%E5%AD%B8%E6%A0%A1%E6%94%B9%E6%95%99%E8%82%B2%E8%B3%87%E6%BA%90.ipynb#X11sZmlsZQ%3D%3D?line=0'>1</a>\u001b[0m BG_df \u001b[39m=\u001b[39m pd\u001b[39m.\u001b[39;49mread_excel(\u001b[39m'\u001b[39;49m\u001b[39m/Users/wen/Desktop/school_list.xlsx\u001b[39;49m\u001b[39m'\u001b[39;49m)\n",
      "File \u001b[0;32m~/opt/anaconda3/lib/python3.9/site-packages/pandas/util/_decorators.py:211\u001b[0m, in \u001b[0;36mdeprecate_kwarg.<locals>._deprecate_kwarg.<locals>.wrapper\u001b[0;34m(*args, **kwargs)\u001b[0m\n\u001b[1;32m    209\u001b[0m     \u001b[39melse\u001b[39;00m:\n\u001b[1;32m    210\u001b[0m         kwargs[new_arg_name] \u001b[39m=\u001b[39m new_arg_value\n\u001b[0;32m--> 211\u001b[0m \u001b[39mreturn\u001b[39;00m func(\u001b[39m*\u001b[39;49margs, \u001b[39m*\u001b[39;49m\u001b[39m*\u001b[39;49mkwargs)\n",
      "File \u001b[0;32m~/opt/anaconda3/lib/python3.9/site-packages/pandas/util/_decorators.py:331\u001b[0m, in \u001b[0;36mdeprecate_nonkeyword_arguments.<locals>.decorate.<locals>.wrapper\u001b[0;34m(*args, **kwargs)\u001b[0m\n\u001b[1;32m    325\u001b[0m \u001b[39mif\u001b[39;00m \u001b[39mlen\u001b[39m(args) \u001b[39m>\u001b[39m num_allow_args:\n\u001b[1;32m    326\u001b[0m     warnings\u001b[39m.\u001b[39mwarn(\n\u001b[1;32m    327\u001b[0m         msg\u001b[39m.\u001b[39mformat(arguments\u001b[39m=\u001b[39m_format_argument_list(allow_args)),\n\u001b[1;32m    328\u001b[0m         \u001b[39mFutureWarning\u001b[39;00m,\n\u001b[1;32m    329\u001b[0m         stacklevel\u001b[39m=\u001b[39mfind_stack_level(),\n\u001b[1;32m    330\u001b[0m     )\n\u001b[0;32m--> 331\u001b[0m \u001b[39mreturn\u001b[39;00m func(\u001b[39m*\u001b[39;49margs, \u001b[39m*\u001b[39;49m\u001b[39m*\u001b[39;49mkwargs)\n",
      "File \u001b[0;32m~/opt/anaconda3/lib/python3.9/site-packages/pandas/io/excel/_base.py:482\u001b[0m, in \u001b[0;36mread_excel\u001b[0;34m(io, sheet_name, header, names, index_col, usecols, squeeze, dtype, engine, converters, true_values, false_values, skiprows, nrows, na_values, keep_default_na, na_filter, verbose, parse_dates, date_parser, thousands, decimal, comment, skipfooter, convert_float, mangle_dupe_cols, storage_options)\u001b[0m\n\u001b[1;32m    480\u001b[0m \u001b[39mif\u001b[39;00m \u001b[39mnot\u001b[39;00m \u001b[39misinstance\u001b[39m(io, ExcelFile):\n\u001b[1;32m    481\u001b[0m     should_close \u001b[39m=\u001b[39m \u001b[39mTrue\u001b[39;00m\n\u001b[0;32m--> 482\u001b[0m     io \u001b[39m=\u001b[39m ExcelFile(io, storage_options\u001b[39m=\u001b[39;49mstorage_options, engine\u001b[39m=\u001b[39;49mengine)\n\u001b[1;32m    483\u001b[0m \u001b[39melif\u001b[39;00m engine \u001b[39mand\u001b[39;00m engine \u001b[39m!=\u001b[39m io\u001b[39m.\u001b[39mengine:\n\u001b[1;32m    484\u001b[0m     \u001b[39mraise\u001b[39;00m \u001b[39mValueError\u001b[39;00m(\n\u001b[1;32m    485\u001b[0m         \u001b[39m\"\u001b[39m\u001b[39mEngine should not be specified when passing \u001b[39m\u001b[39m\"\u001b[39m\n\u001b[1;32m    486\u001b[0m         \u001b[39m\"\u001b[39m\u001b[39man ExcelFile - ExcelFile already has the engine set\u001b[39m\u001b[39m\"\u001b[39m\n\u001b[1;32m    487\u001b[0m     )\n",
      "File \u001b[0;32m~/opt/anaconda3/lib/python3.9/site-packages/pandas/io/excel/_base.py:1652\u001b[0m, in \u001b[0;36mExcelFile.__init__\u001b[0;34m(self, path_or_buffer, engine, storage_options)\u001b[0m\n\u001b[1;32m   1650\u001b[0m     ext \u001b[39m=\u001b[39m \u001b[39m\"\u001b[39m\u001b[39mxls\u001b[39m\u001b[39m\"\u001b[39m\n\u001b[1;32m   1651\u001b[0m \u001b[39melse\u001b[39;00m:\n\u001b[0;32m-> 1652\u001b[0m     ext \u001b[39m=\u001b[39m inspect_excel_format(\n\u001b[1;32m   1653\u001b[0m         content_or_path\u001b[39m=\u001b[39;49mpath_or_buffer, storage_options\u001b[39m=\u001b[39;49mstorage_options\n\u001b[1;32m   1654\u001b[0m     )\n\u001b[1;32m   1655\u001b[0m     \u001b[39mif\u001b[39;00m ext \u001b[39mis\u001b[39;00m \u001b[39mNone\u001b[39;00m:\n\u001b[1;32m   1656\u001b[0m         \u001b[39mraise\u001b[39;00m \u001b[39mValueError\u001b[39;00m(\n\u001b[1;32m   1657\u001b[0m             \u001b[39m\"\u001b[39m\u001b[39mExcel file format cannot be determined, you must specify \u001b[39m\u001b[39m\"\u001b[39m\n\u001b[1;32m   1658\u001b[0m             \u001b[39m\"\u001b[39m\u001b[39man engine manually.\u001b[39m\u001b[39m\"\u001b[39m\n\u001b[1;32m   1659\u001b[0m         )\n",
      "File \u001b[0;32m~/opt/anaconda3/lib/python3.9/site-packages/pandas/io/excel/_base.py:1525\u001b[0m, in \u001b[0;36minspect_excel_format\u001b[0;34m(content_or_path, storage_options)\u001b[0m\n\u001b[1;32m   1522\u001b[0m \u001b[39mif\u001b[39;00m \u001b[39misinstance\u001b[39m(content_or_path, \u001b[39mbytes\u001b[39m):\n\u001b[1;32m   1523\u001b[0m     content_or_path \u001b[39m=\u001b[39m BytesIO(content_or_path)\n\u001b[0;32m-> 1525\u001b[0m \u001b[39mwith\u001b[39;00m get_handle(\n\u001b[1;32m   1526\u001b[0m     content_or_path, \u001b[39m\"\u001b[39;49m\u001b[39mrb\u001b[39;49m\u001b[39m\"\u001b[39;49m, storage_options\u001b[39m=\u001b[39;49mstorage_options, is_text\u001b[39m=\u001b[39;49m\u001b[39mFalse\u001b[39;49;00m\n\u001b[1;32m   1527\u001b[0m ) \u001b[39mas\u001b[39;00m handle:\n\u001b[1;32m   1528\u001b[0m     stream \u001b[39m=\u001b[39m handle\u001b[39m.\u001b[39mhandle\n\u001b[1;32m   1529\u001b[0m     stream\u001b[39m.\u001b[39mseek(\u001b[39m0\u001b[39m)\n",
      "File \u001b[0;32m~/opt/anaconda3/lib/python3.9/site-packages/pandas/io/common.py:865\u001b[0m, in \u001b[0;36mget_handle\u001b[0;34m(path_or_buf, mode, encoding, compression, memory_map, is_text, errors, storage_options)\u001b[0m\n\u001b[1;32m    856\u001b[0m         handle \u001b[39m=\u001b[39m \u001b[39mopen\u001b[39m(\n\u001b[1;32m    857\u001b[0m             handle,\n\u001b[1;32m    858\u001b[0m             ioargs\u001b[39m.\u001b[39mmode,\n\u001b[0;32m   (...)\u001b[0m\n\u001b[1;32m    861\u001b[0m             newline\u001b[39m=\u001b[39m\u001b[39m\"\u001b[39m\u001b[39m\"\u001b[39m,\n\u001b[1;32m    862\u001b[0m         )\n\u001b[1;32m    863\u001b[0m     \u001b[39melse\u001b[39;00m:\n\u001b[1;32m    864\u001b[0m         \u001b[39m# Binary mode\u001b[39;00m\n\u001b[0;32m--> 865\u001b[0m         handle \u001b[39m=\u001b[39m \u001b[39mopen\u001b[39;49m(handle, ioargs\u001b[39m.\u001b[39;49mmode)\n\u001b[1;32m    866\u001b[0m     handles\u001b[39m.\u001b[39mappend(handle)\n\u001b[1;32m    868\u001b[0m \u001b[39m# Convert BytesIO or file objects passed with an encoding\u001b[39;00m\n",
      "\u001b[0;31mFileNotFoundError\u001b[0m: [Errno 2] No such file or directory: '/Users/wen/Desktop/school_list.xlsx'"
     ]
    }
   ],
   "source": [
    "BG_df = pd.read_excel('/Users/wen/Desktop/school_list.xlsx')"
   ]
  },
  {
   "cell_type": "code",
   "execution_count": null,
   "metadata": {},
   "outputs": [
    {
     "data": {
      "text/html": [
       "<div>\n",
       "<style scoped>\n",
       "    .dataframe tbody tr th:only-of-type {\n",
       "        vertical-align: middle;\n",
       "    }\n",
       "\n",
       "    .dataframe tbody tr th {\n",
       "        vertical-align: top;\n",
       "    }\n",
       "\n",
       "    .dataframe thead th {\n",
       "        text-align: right;\n",
       "    }\n",
       "</style>\n",
       "<table border=\"1\" class=\"dataframe\">\n",
       "  <thead>\n",
       "    <tr style=\"text-align: right;\">\n",
       "      <th></th>\n",
       "      <th>Schoolname</th>\n",
       "      <th>SchoolType</th>\n",
       "      <th>100_BG</th>\n",
       "      <th>101_BG</th>\n",
       "      <th>102_BG</th>\n",
       "      <th>103_BG</th>\n",
       "      <th>100_ST</th>\n",
       "      <th>101_ST</th>\n",
       "      <th>102_ST</th>\n",
       "      <th>103_ST</th>\n",
       "      <th>100_Total</th>\n",
       "      <th>101_Total</th>\n",
       "      <th>102_Total</th>\n",
       "      <th>103_Total</th>\n",
       "      <th>Credit</th>\n",
       "    </tr>\n",
       "  </thead>\n",
       "  <tbody>\n",
       "    <tr>\n",
       "      <th>0</th>\n",
       "      <td>國立臺灣大學</td>\n",
       "      <td>公立一般</td>\n",
       "      <td>467.619000</td>\n",
       "      <td>478.596000</td>\n",
       "      <td>435.382000</td>\n",
       "      <td>489.447000</td>\n",
       "      <td>32693</td>\n",
       "      <td>32168</td>\n",
       "      <td>31791</td>\n",
       "      <td>31758</td>\n",
       "      <td>1.528788e+07</td>\n",
       "      <td>1.539546e+07</td>\n",
       "      <td>1.384122e+07</td>\n",
       "      <td>1.554385e+07</td>\n",
       "      <td>18.000000</td>\n",
       "    </tr>\n",
       "    <tr>\n",
       "      <th>1</th>\n",
       "      <td>國立政治大學</td>\n",
       "      <td>公立一般</td>\n",
       "      <td>253.211000</td>\n",
       "      <td>249.462000</td>\n",
       "      <td>228.192000</td>\n",
       "      <td>210.148000</td>\n",
       "      <td>16028</td>\n",
       "      <td>15927</td>\n",
       "      <td>16053</td>\n",
       "      <td>16247</td>\n",
       "      <td>4.058472e+06</td>\n",
       "      <td>3.973185e+06</td>\n",
       "      <td>3.663164e+06</td>\n",
       "      <td>3.414267e+06</td>\n",
       "      <td>1.000000</td>\n",
       "    </tr>\n",
       "    <tr>\n",
       "      <th>2</th>\n",
       "      <td>國立中央大學</td>\n",
       "      <td>公立一般</td>\n",
       "      <td>332.006000</td>\n",
       "      <td>395.528000</td>\n",
       "      <td>362.300000</td>\n",
       "      <td>390.166000</td>\n",
       "      <td>9414</td>\n",
       "      <td>12057</td>\n",
       "      <td>11864</td>\n",
       "      <td>11962</td>\n",
       "      <td>3.125507e+06</td>\n",
       "      <td>4.768880e+06</td>\n",
       "      <td>4.298329e+06</td>\n",
       "      <td>4.667165e+06</td>\n",
       "      <td>1.545455</td>\n",
       "    </tr>\n",
       "    <tr>\n",
       "      <th>3</th>\n",
       "      <td>輔仁大學</td>\n",
       "      <td>私立一般</td>\n",
       "      <td>165.138000</td>\n",
       "      <td>138.093000</td>\n",
       "      <td>138.609000</td>\n",
       "      <td>134.000000</td>\n",
       "      <td>20784</td>\n",
       "      <td>26661</td>\n",
       "      <td>26984</td>\n",
       "      <td>27427</td>\n",
       "      <td>3.432234e+06</td>\n",
       "      <td>3.681698e+06</td>\n",
       "      <td>3.740233e+06</td>\n",
       "      <td>3.675230e+06</td>\n",
       "      <td>0.948276</td>\n",
       "    </tr>\n",
       "    <tr>\n",
       "      <th>4</th>\n",
       "      <td>東吳大學</td>\n",
       "      <td>私立一般</td>\n",
       "      <td>177.680105</td>\n",
       "      <td>173.947257</td>\n",
       "      <td>173.393199</td>\n",
       "      <td>174.086559</td>\n",
       "      <td>11752</td>\n",
       "      <td>11793</td>\n",
       "      <td>11861</td>\n",
       "      <td>11911</td>\n",
       "      <td>2.088097e+06</td>\n",
       "      <td>2.051360e+06</td>\n",
       "      <td>2.044826e+06</td>\n",
       "      <td>2.073545e+06</td>\n",
       "      <td>2.434211</td>\n",
       "    </tr>\n",
       "    <tr>\n",
       "      <th>5</th>\n",
       "      <td>銘傳大學</td>\n",
       "      <td>私立一般</td>\n",
       "      <td>130.671889</td>\n",
       "      <td>140.905987</td>\n",
       "      <td>137.771299</td>\n",
       "      <td>139.324812</td>\n",
       "      <td>16806</td>\n",
       "      <td>16902</td>\n",
       "      <td>17254</td>\n",
       "      <td>17524</td>\n",
       "      <td>2.196072e+06</td>\n",
       "      <td>2.381593e+06</td>\n",
       "      <td>2.377106e+06</td>\n",
       "      <td>2.441528e+06</td>\n",
       "      <td>1.718310</td>\n",
       "    </tr>\n",
       "    <tr>\n",
       "      <th>6</th>\n",
       "      <td>元智大學</td>\n",
       "      <td>私立一般</td>\n",
       "      <td>248.098101</td>\n",
       "      <td>254.325604</td>\n",
       "      <td>248.713100</td>\n",
       "      <td>243.882999</td>\n",
       "      <td>7003</td>\n",
       "      <td>7073</td>\n",
       "      <td>7107</td>\n",
       "      <td>7188</td>\n",
       "      <td>1.737431e+06</td>\n",
       "      <td>1.798845e+06</td>\n",
       "      <td>1.767604e+06</td>\n",
       "      <td>1.753031e+06</td>\n",
       "      <td>1.900000</td>\n",
       "    </tr>\n",
       "    <tr>\n",
       "      <th>7</th>\n",
       "      <td>明志科技大學</td>\n",
       "      <td>私立技職</td>\n",
       "      <td>215.927971</td>\n",
       "      <td>209.680951</td>\n",
       "      <td>192.301251</td>\n",
       "      <td>194.462626</td>\n",
       "      <td>3030</td>\n",
       "      <td>3197</td>\n",
       "      <td>3356</td>\n",
       "      <td>3465</td>\n",
       "      <td>6.542618e+05</td>\n",
       "      <td>6.703500e+05</td>\n",
       "      <td>6.453630e+05</td>\n",
       "      <td>6.738130e+05</td>\n",
       "      <td>1.467532</td>\n",
       "    </tr>\n",
       "    <tr>\n",
       "      <th>8</th>\n",
       "      <td>黎明技術學院</td>\n",
       "      <td>私立技職</td>\n",
       "      <td>179.099439</td>\n",
       "      <td>182.987961</td>\n",
       "      <td>178.287703</td>\n",
       "      <td>171.996999</td>\n",
       "      <td>2402</td>\n",
       "      <td>2492</td>\n",
       "      <td>2586</td>\n",
       "      <td>2666</td>\n",
       "      <td>4.301969e+05</td>\n",
       "      <td>4.560060e+05</td>\n",
       "      <td>4.610520e+05</td>\n",
       "      <td>4.585440e+05</td>\n",
       "      <td>1.698113</td>\n",
       "    </tr>\n",
       "    <tr>\n",
       "      <th>9</th>\n",
       "      <td>龍華科技大學</td>\n",
       "      <td>私立技職</td>\n",
       "      <td>179.771753</td>\n",
       "      <td>165.110621</td>\n",
       "      <td>163.214558</td>\n",
       "      <td>163.581347</td>\n",
       "      <td>6196</td>\n",
       "      <td>6346</td>\n",
       "      <td>6567</td>\n",
       "      <td>6712</td>\n",
       "      <td>1.113866e+06</td>\n",
       "      <td>1.047792e+06</td>\n",
       "      <td>1.071830e+06</td>\n",
       "      <td>1.097958e+06</td>\n",
       "      <td>1.105263</td>\n",
       "    </tr>\n",
       "    <tr>\n",
       "      <th>10</th>\n",
       "      <td>元培醫事科技大學(原:元培科技大學)</td>\n",
       "      <td>私立技職</td>\n",
       "      <td>133.175683</td>\n",
       "      <td>134.519306</td>\n",
       "      <td>140.486970</td>\n",
       "      <td>141.383394</td>\n",
       "      <td>6077</td>\n",
       "      <td>6112</td>\n",
       "      <td>5871</td>\n",
       "      <td>5733</td>\n",
       "      <td>8.093086e+05</td>\n",
       "      <td>8.221820e+05</td>\n",
       "      <td>8.247990e+05</td>\n",
       "      <td>8.105510e+05</td>\n",
       "      <td>1.234043</td>\n",
       "    </tr>\n",
       "    <tr>\n",
       "      <th>11</th>\n",
       "      <td>國立臺北教育大學</td>\n",
       "      <td>公立一般</td>\n",
       "      <td>282.044333</td>\n",
       "      <td>334.843996</td>\n",
       "      <td>333.643921</td>\n",
       "      <td>332.721407</td>\n",
       "      <td>3203</td>\n",
       "      <td>3173</td>\n",
       "      <td>3224</td>\n",
       "      <td>3270</td>\n",
       "      <td>9.033880e+05</td>\n",
       "      <td>1.062460e+06</td>\n",
       "      <td>1.075668e+06</td>\n",
       "      <td>1.087999e+06</td>\n",
       "      <td>0.466667</td>\n",
       "    </tr>\n",
       "    <tr>\n",
       "      <th>12</th>\n",
       "      <td>國立中興大學</td>\n",
       "      <td>公立一般</td>\n",
       "      <td>364.495000</td>\n",
       "      <td>290.222000</td>\n",
       "      <td>283.476000</td>\n",
       "      <td>299.051000</td>\n",
       "      <td>14624</td>\n",
       "      <td>15597</td>\n",
       "      <td>15350</td>\n",
       "      <td>15141</td>\n",
       "      <td>5.330375e+06</td>\n",
       "      <td>4.526589e+06</td>\n",
       "      <td>4.351361e+06</td>\n",
       "      <td>4.527932e+06</td>\n",
       "      <td>1.551020</td>\n",
       "    </tr>\n",
       "    <tr>\n",
       "      <th>13</th>\n",
       "      <td>國立成功大學</td>\n",
       "      <td>公立一般</td>\n",
       "      <td>374.735000</td>\n",
       "      <td>397.894000</td>\n",
       "      <td>375.969000</td>\n",
       "      <td>416.486000</td>\n",
       "      <td>22417</td>\n",
       "      <td>21979</td>\n",
       "      <td>21698</td>\n",
       "      <td>21236</td>\n",
       "      <td>8.400426e+06</td>\n",
       "      <td>8.745321e+06</td>\n",
       "      <td>8.157780e+06</td>\n",
       "      <td>8.844491e+06</td>\n",
       "      <td>0.622222</td>\n",
       "    </tr>\n",
       "    <tr>\n",
       "      <th>14</th>\n",
       "      <td>逢甲大學</td>\n",
       "      <td>私立一般</td>\n",
       "      <td>167.248000</td>\n",
       "      <td>162.133000</td>\n",
       "      <td>167.697000</td>\n",
       "      <td>170.457000</td>\n",
       "      <td>20761</td>\n",
       "      <td>20848</td>\n",
       "      <td>21014</td>\n",
       "      <td>21201</td>\n",
       "      <td>3.472239e+06</td>\n",
       "      <td>3.380141e+06</td>\n",
       "      <td>3.523990e+06</td>\n",
       "      <td>3.613853e+06</td>\n",
       "      <td>1.682927</td>\n",
       "    </tr>\n",
       "    <tr>\n",
       "      <th>15</th>\n",
       "      <td>明道大學</td>\n",
       "      <td>私立一般</td>\n",
       "      <td>236.488294</td>\n",
       "      <td>236.265690</td>\n",
       "      <td>220.044406</td>\n",
       "      <td>209.865468</td>\n",
       "      <td>3289</td>\n",
       "      <td>3346</td>\n",
       "      <td>3468</td>\n",
       "      <td>3672</td>\n",
       "      <td>7.778100e+05</td>\n",
       "      <td>7.905450e+05</td>\n",
       "      <td>7.631140e+05</td>\n",
       "      <td>7.706260e+05</td>\n",
       "      <td>2.342466</td>\n",
       "    </tr>\n",
       "    <tr>\n",
       "      <th>16</th>\n",
       "      <td>臺南應用科技大學</td>\n",
       "      <td>私立技職</td>\n",
       "      <td>134.094885</td>\n",
       "      <td>136.036173</td>\n",
       "      <td>135.352641</td>\n",
       "      <td>132.870502</td>\n",
       "      <td>8113</td>\n",
       "      <td>8487</td>\n",
       "      <td>8615</td>\n",
       "      <td>8587</td>\n",
       "      <td>1.087912e+06</td>\n",
       "      <td>1.154539e+06</td>\n",
       "      <td>1.166063e+06</td>\n",
       "      <td>1.140959e+06</td>\n",
       "      <td>1.101449</td>\n",
       "    </tr>\n",
       "    <tr>\n",
       "      <th>17</th>\n",
       "      <td>國立勤益科技大學</td>\n",
       "      <td>公立技職</td>\n",
       "      <td>171.207985</td>\n",
       "      <td>194.192145</td>\n",
       "      <td>188.964643</td>\n",
       "      <td>193.126106</td>\n",
       "      <td>6257</td>\n",
       "      <td>6365</td>\n",
       "      <td>6590</td>\n",
       "      <td>6780</td>\n",
       "      <td>1.071248e+06</td>\n",
       "      <td>1.236033e+06</td>\n",
       "      <td>1.245277e+06</td>\n",
       "      <td>1.309395e+06</td>\n",
       "      <td>3.200000</td>\n",
       "    </tr>\n",
       "    <tr>\n",
       "      <th>18</th>\n",
       "      <td>國立虎尾科技大學</td>\n",
       "      <td>公立技職</td>\n",
       "      <td>189.813043</td>\n",
       "      <td>196.813839</td>\n",
       "      <td>199.100064</td>\n",
       "      <td>198.780412</td>\n",
       "      <td>7360</td>\n",
       "      <td>7703</td>\n",
       "      <td>7775</td>\n",
       "      <td>7760</td>\n",
       "      <td>1.397024e+06</td>\n",
       "      <td>1.516057e+06</td>\n",
       "      <td>1.548003e+06</td>\n",
       "      <td>1.542536e+06</td>\n",
       "      <td>1.250000</td>\n",
       "    </tr>\n",
       "    <tr>\n",
       "      <th>19</th>\n",
       "      <td>中臺科技大學</td>\n",
       "      <td>私立技職</td>\n",
       "      <td>156.482829</td>\n",
       "      <td>157.738631</td>\n",
       "      <td>159.729012</td>\n",
       "      <td>150.517888</td>\n",
       "      <td>6406</td>\n",
       "      <td>6355</td>\n",
       "      <td>6325</td>\n",
       "      <td>6345</td>\n",
       "      <td>1.002429e+06</td>\n",
       "      <td>1.002429e+06</td>\n",
       "      <td>1.010286e+06</td>\n",
       "      <td>9.550360e+05</td>\n",
       "      <td>1.125000</td>\n",
       "    </tr>\n",
       "    <tr>\n",
       "      <th>20</th>\n",
       "      <td>國立東華大學</td>\n",
       "      <td>公立一般</td>\n",
       "      <td>139.204000</td>\n",
       "      <td>227.702000</td>\n",
       "      <td>231.425000</td>\n",
       "      <td>232.502000</td>\n",
       "      <td>26339</td>\n",
       "      <td>10186</td>\n",
       "      <td>10093</td>\n",
       "      <td>10174</td>\n",
       "      <td>3.729751e+06</td>\n",
       "      <td>2.319374e+06</td>\n",
       "      <td>2.335768e+06</td>\n",
       "      <td>2.365474e+06</td>\n",
       "      <td>3.073171</td>\n",
       "    </tr>\n",
       "    <tr>\n",
       "      <th>21</th>\n",
       "      <td>國立高雄海洋科技大學</td>\n",
       "      <td>公立技職</td>\n",
       "      <td>213.648487</td>\n",
       "      <td>218.559247</td>\n",
       "      <td>229.147833</td>\n",
       "      <td>227.053269</td>\n",
       "      <td>5024</td>\n",
       "      <td>4996</td>\n",
       "      <td>4938</td>\n",
       "      <td>4956</td>\n",
       "      <td>1.073370e+06</td>\n",
       "      <td>1.091922e+06</td>\n",
       "      <td>1.131532e+06</td>\n",
       "      <td>1.125276e+06</td>\n",
       "      <td>1.000000</td>\n",
       "    </tr>\n",
       "    <tr>\n",
       "      <th>22</th>\n",
       "      <td>國立屏東大學(屏商校區)(原:國立屏東商)</td>\n",
       "      <td>公立技職</td>\n",
       "      <td>140.153986</td>\n",
       "      <td>142.178767</td>\n",
       "      <td>140.041292</td>\n",
       "      <td>136.802188</td>\n",
       "      <td>6072</td>\n",
       "      <td>6198</td>\n",
       "      <td>6345</td>\n",
       "      <td>6582</td>\n",
       "      <td>8.510150e+05</td>\n",
       "      <td>8.812240e+05</td>\n",
       "      <td>8.885620e+05</td>\n",
       "      <td>9.004320e+05</td>\n",
       "      <td>1.258065</td>\n",
       "    </tr>\n",
       "    <tr>\n",
       "      <th>23</th>\n",
       "      <td>大同技術學院</td>\n",
       "      <td>私立技職</td>\n",
       "      <td>159.203292</td>\n",
       "      <td>151.280888</td>\n",
       "      <td>162.800202</td>\n",
       "      <td>178.667230</td>\n",
       "      <td>2318</td>\n",
       "      <td>2161</td>\n",
       "      <td>1977</td>\n",
       "      <td>1776</td>\n",
       "      <td>3.690332e+05</td>\n",
       "      <td>3.269180e+05</td>\n",
       "      <td>3.218560e+05</td>\n",
       "      <td>3.173130e+05</td>\n",
       "      <td>1.090909</td>\n",
       "    </tr>\n",
       "    <tr>\n",
       "      <th>24</th>\n",
       "      <td>高苑科技大學</td>\n",
       "      <td>私立技職</td>\n",
       "      <td>109.888841</td>\n",
       "      <td>113.066166</td>\n",
       "      <td>113.438868</td>\n",
       "      <td>107.855999</td>\n",
       "      <td>7696</td>\n",
       "      <td>7497</td>\n",
       "      <td>7468</td>\n",
       "      <td>7723</td>\n",
       "      <td>8.457045e+05</td>\n",
       "      <td>8.476570e+05</td>\n",
       "      <td>8.471615e+05</td>\n",
       "      <td>8.329719e+05</td>\n",
       "      <td>1.107143</td>\n",
       "    </tr>\n",
       "    <tr>\n",
       "      <th>25</th>\n",
       "      <td>國立高雄師範大學</td>\n",
       "      <td>公立一般</td>\n",
       "      <td>220.890000</td>\n",
       "      <td>200.384000</td>\n",
       "      <td>203.202000</td>\n",
       "      <td>200.489000</td>\n",
       "      <td>10356</td>\n",
       "      <td>6701</td>\n",
       "      <td>6612</td>\n",
       "      <td>6631</td>\n",
       "      <td>2.287536e+06</td>\n",
       "      <td>1.342774e+06</td>\n",
       "      <td>1.343574e+06</td>\n",
       "      <td>1.329443e+06</td>\n",
       "      <td>0.869565</td>\n",
       "    </tr>\n",
       "  </tbody>\n",
       "</table>\n",
       "</div>"
      ],
      "text/plain": [
       "               Schoolname SchoolType      100_BG      101_BG      102_BG  \\\n",
       "0                  國立臺灣大學       公立一般  467.619000  478.596000  435.382000   \n",
       "1                  國立政治大學       公立一般  253.211000  249.462000  228.192000   \n",
       "2                  國立中央大學       公立一般  332.006000  395.528000  362.300000   \n",
       "3                    輔仁大學       私立一般  165.138000  138.093000  138.609000   \n",
       "4                    東吳大學       私立一般  177.680105  173.947257  173.393199   \n",
       "5                    銘傳大學       私立一般  130.671889  140.905987  137.771299   \n",
       "6                    元智大學       私立一般  248.098101  254.325604  248.713100   \n",
       "7                  明志科技大學       私立技職  215.927971  209.680951  192.301251   \n",
       "8                  黎明技術學院       私立技職  179.099439  182.987961  178.287703   \n",
       "9                  龍華科技大學       私立技職  179.771753  165.110621  163.214558   \n",
       "10     元培醫事科技大學(原:元培科技大學)       私立技職  133.175683  134.519306  140.486970   \n",
       "11               國立臺北教育大學       公立一般  282.044333  334.843996  333.643921   \n",
       "12                 國立中興大學       公立一般  364.495000  290.222000  283.476000   \n",
       "13                 國立成功大學       公立一般  374.735000  397.894000  375.969000   \n",
       "14                   逢甲大學       私立一般  167.248000  162.133000  167.697000   \n",
       "15                   明道大學       私立一般  236.488294  236.265690  220.044406   \n",
       "16               臺南應用科技大學       私立技職  134.094885  136.036173  135.352641   \n",
       "17               國立勤益科技大學       公立技職  171.207985  194.192145  188.964643   \n",
       "18               國立虎尾科技大學       公立技職  189.813043  196.813839  199.100064   \n",
       "19                 中臺科技大學       私立技職  156.482829  157.738631  159.729012   \n",
       "20                 國立東華大學       公立一般  139.204000  227.702000  231.425000   \n",
       "21             國立高雄海洋科技大學       公立技職  213.648487  218.559247  229.147833   \n",
       "22  國立屏東大學(屏商校區)(原:國立屏東商)       公立技職  140.153986  142.178767  140.041292   \n",
       "23                 大同技術學院       私立技職  159.203292  151.280888  162.800202   \n",
       "24                 高苑科技大學       私立技職  109.888841  113.066166  113.438868   \n",
       "25               國立高雄師範大學       公立一般  220.890000  200.384000  203.202000   \n",
       "\n",
       "        103_BG  100_ST  101_ST  102_ST  103_ST     100_Total     101_Total  \\\n",
       "0   489.447000   32693   32168   31791   31758  1.528788e+07  1.539546e+07   \n",
       "1   210.148000   16028   15927   16053   16247  4.058472e+06  3.973185e+06   \n",
       "2   390.166000    9414   12057   11864   11962  3.125507e+06  4.768880e+06   \n",
       "3   134.000000   20784   26661   26984   27427  3.432234e+06  3.681698e+06   \n",
       "4   174.086559   11752   11793   11861   11911  2.088097e+06  2.051360e+06   \n",
       "5   139.324812   16806   16902   17254   17524  2.196072e+06  2.381593e+06   \n",
       "6   243.882999    7003    7073    7107    7188  1.737431e+06  1.798845e+06   \n",
       "7   194.462626    3030    3197    3356    3465  6.542618e+05  6.703500e+05   \n",
       "8   171.996999    2402    2492    2586    2666  4.301969e+05  4.560060e+05   \n",
       "9   163.581347    6196    6346    6567    6712  1.113866e+06  1.047792e+06   \n",
       "10  141.383394    6077    6112    5871    5733  8.093086e+05  8.221820e+05   \n",
       "11  332.721407    3203    3173    3224    3270  9.033880e+05  1.062460e+06   \n",
       "12  299.051000   14624   15597   15350   15141  5.330375e+06  4.526589e+06   \n",
       "13  416.486000   22417   21979   21698   21236  8.400426e+06  8.745321e+06   \n",
       "14  170.457000   20761   20848   21014   21201  3.472239e+06  3.380141e+06   \n",
       "15  209.865468    3289    3346    3468    3672  7.778100e+05  7.905450e+05   \n",
       "16  132.870502    8113    8487    8615    8587  1.087912e+06  1.154539e+06   \n",
       "17  193.126106    6257    6365    6590    6780  1.071248e+06  1.236033e+06   \n",
       "18  198.780412    7360    7703    7775    7760  1.397024e+06  1.516057e+06   \n",
       "19  150.517888    6406    6355    6325    6345  1.002429e+06  1.002429e+06   \n",
       "20  232.502000   26339   10186   10093   10174  3.729751e+06  2.319374e+06   \n",
       "21  227.053269    5024    4996    4938    4956  1.073370e+06  1.091922e+06   \n",
       "22  136.802188    6072    6198    6345    6582  8.510150e+05  8.812240e+05   \n",
       "23  178.667230    2318    2161    1977    1776  3.690332e+05  3.269180e+05   \n",
       "24  107.855999    7696    7497    7468    7723  8.457045e+05  8.476570e+05   \n",
       "25  200.489000   10356    6701    6612    6631  2.287536e+06  1.342774e+06   \n",
       "\n",
       "       102_Total     103_Total     Credit  \n",
       "0   1.384122e+07  1.554385e+07  18.000000  \n",
       "1   3.663164e+06  3.414267e+06   1.000000  \n",
       "2   4.298329e+06  4.667165e+06   1.545455  \n",
       "3   3.740233e+06  3.675230e+06   0.948276  \n",
       "4   2.044826e+06  2.073545e+06   2.434211  \n",
       "5   2.377106e+06  2.441528e+06   1.718310  \n",
       "6   1.767604e+06  1.753031e+06   1.900000  \n",
       "7   6.453630e+05  6.738130e+05   1.467532  \n",
       "8   4.610520e+05  4.585440e+05   1.698113  \n",
       "9   1.071830e+06  1.097958e+06   1.105263  \n",
       "10  8.247990e+05  8.105510e+05   1.234043  \n",
       "11  1.075668e+06  1.087999e+06   0.466667  \n",
       "12  4.351361e+06  4.527932e+06   1.551020  \n",
       "13  8.157780e+06  8.844491e+06   0.622222  \n",
       "14  3.523990e+06  3.613853e+06   1.682927  \n",
       "15  7.631140e+05  7.706260e+05   2.342466  \n",
       "16  1.166063e+06  1.140959e+06   1.101449  \n",
       "17  1.245277e+06  1.309395e+06   3.200000  \n",
       "18  1.548003e+06  1.542536e+06   1.250000  \n",
       "19  1.010286e+06  9.550360e+05   1.125000  \n",
       "20  2.335768e+06  2.365474e+06   3.073171  \n",
       "21  1.131532e+06  1.125276e+06   1.000000  \n",
       "22  8.885620e+05  9.004320e+05   1.258065  \n",
       "23  3.218560e+05  3.173130e+05   1.090909  \n",
       "24  8.471615e+05  8.329719e+05   1.107143  \n",
       "25  1.343574e+06  1.329443e+06   0.869565  "
      ]
     },
     "execution_count": 8,
     "metadata": {},
     "output_type": "execute_result"
    }
   ],
   "source": [
    "BG_df"
   ]
  },
  {
   "cell_type": "code",
   "execution_count": null,
   "metadata": {},
   "outputs": [],
   "source": [
    "#BG_df['AVG_BG_1'] = (BG_df['100_Total'] + BG_df['101_Total'] + BG_df['102_Total'] + BG_df['103_Total']) / (BG_df['100_ST'] + BG_df['101_ST'] + BG_df['102_ST'] + BG_df['103_ST'])\n",
    "BG_df['AVG_BG'] = (BG_df['100_BG'] + BG_df['101_BG'] + BG_df['102_BG'] + BG_df['103_BG']) / 4"
   ]
  },
  {
   "cell_type": "code",
   "execution_count": null,
   "metadata": {},
   "outputs": [
    {
     "data": {
      "text/html": [
       "<div>\n",
       "<style scoped>\n",
       "    .dataframe tbody tr th:only-of-type {\n",
       "        vertical-align: middle;\n",
       "    }\n",
       "\n",
       "    .dataframe tbody tr th {\n",
       "        vertical-align: top;\n",
       "    }\n",
       "\n",
       "    .dataframe thead th {\n",
       "        text-align: right;\n",
       "    }\n",
       "</style>\n",
       "<table border=\"1\" class=\"dataframe\">\n",
       "  <thead>\n",
       "    <tr style=\"text-align: right;\">\n",
       "      <th></th>\n",
       "      <th>Schoolname</th>\n",
       "      <th>SchoolType</th>\n",
       "      <th>100_BG</th>\n",
       "      <th>101_BG</th>\n",
       "      <th>102_BG</th>\n",
       "      <th>103_BG</th>\n",
       "      <th>100_ST</th>\n",
       "      <th>101_ST</th>\n",
       "      <th>102_ST</th>\n",
       "      <th>103_ST</th>\n",
       "      <th>100_Total</th>\n",
       "      <th>101_Total</th>\n",
       "      <th>102_Total</th>\n",
       "      <th>103_Total</th>\n",
       "      <th>Credit</th>\n",
       "      <th>AVG_BG</th>\n",
       "    </tr>\n",
       "  </thead>\n",
       "  <tbody>\n",
       "    <tr>\n",
       "      <th>0</th>\n",
       "      <td>國立臺灣大學</td>\n",
       "      <td>公立一般</td>\n",
       "      <td>467.619000</td>\n",
       "      <td>478.596000</td>\n",
       "      <td>435.382000</td>\n",
       "      <td>489.447000</td>\n",
       "      <td>32693</td>\n",
       "      <td>32168</td>\n",
       "      <td>31791</td>\n",
       "      <td>31758</td>\n",
       "      <td>1.528788e+07</td>\n",
       "      <td>1.539546e+07</td>\n",
       "      <td>1.384122e+07</td>\n",
       "      <td>1.554385e+07</td>\n",
       "      <td>18.000000</td>\n",
       "      <td>467.761000</td>\n",
       "    </tr>\n",
       "    <tr>\n",
       "      <th>1</th>\n",
       "      <td>國立政治大學</td>\n",
       "      <td>公立一般</td>\n",
       "      <td>253.211000</td>\n",
       "      <td>249.462000</td>\n",
       "      <td>228.192000</td>\n",
       "      <td>210.148000</td>\n",
       "      <td>16028</td>\n",
       "      <td>15927</td>\n",
       "      <td>16053</td>\n",
       "      <td>16247</td>\n",
       "      <td>4.058472e+06</td>\n",
       "      <td>3.973185e+06</td>\n",
       "      <td>3.663164e+06</td>\n",
       "      <td>3.414267e+06</td>\n",
       "      <td>1.000000</td>\n",
       "      <td>235.253250</td>\n",
       "    </tr>\n",
       "    <tr>\n",
       "      <th>2</th>\n",
       "      <td>國立中央大學</td>\n",
       "      <td>公立一般</td>\n",
       "      <td>332.006000</td>\n",
       "      <td>395.528000</td>\n",
       "      <td>362.300000</td>\n",
       "      <td>390.166000</td>\n",
       "      <td>9414</td>\n",
       "      <td>12057</td>\n",
       "      <td>11864</td>\n",
       "      <td>11962</td>\n",
       "      <td>3.125507e+06</td>\n",
       "      <td>4.768880e+06</td>\n",
       "      <td>4.298329e+06</td>\n",
       "      <td>4.667165e+06</td>\n",
       "      <td>1.545455</td>\n",
       "      <td>370.000000</td>\n",
       "    </tr>\n",
       "    <tr>\n",
       "      <th>3</th>\n",
       "      <td>輔仁大學</td>\n",
       "      <td>私立一般</td>\n",
       "      <td>165.138000</td>\n",
       "      <td>138.093000</td>\n",
       "      <td>138.609000</td>\n",
       "      <td>134.000000</td>\n",
       "      <td>20784</td>\n",
       "      <td>26661</td>\n",
       "      <td>26984</td>\n",
       "      <td>27427</td>\n",
       "      <td>3.432234e+06</td>\n",
       "      <td>3.681698e+06</td>\n",
       "      <td>3.740233e+06</td>\n",
       "      <td>3.675230e+06</td>\n",
       "      <td>0.948276</td>\n",
       "      <td>143.960000</td>\n",
       "    </tr>\n",
       "    <tr>\n",
       "      <th>4</th>\n",
       "      <td>東吳大學</td>\n",
       "      <td>私立一般</td>\n",
       "      <td>177.680105</td>\n",
       "      <td>173.947257</td>\n",
       "      <td>173.393199</td>\n",
       "      <td>174.086559</td>\n",
       "      <td>11752</td>\n",
       "      <td>11793</td>\n",
       "      <td>11861</td>\n",
       "      <td>11911</td>\n",
       "      <td>2.088097e+06</td>\n",
       "      <td>2.051360e+06</td>\n",
       "      <td>2.044826e+06</td>\n",
       "      <td>2.073545e+06</td>\n",
       "      <td>2.434211</td>\n",
       "      <td>174.776780</td>\n",
       "    </tr>\n",
       "    <tr>\n",
       "      <th>5</th>\n",
       "      <td>銘傳大學</td>\n",
       "      <td>私立一般</td>\n",
       "      <td>130.671889</td>\n",
       "      <td>140.905987</td>\n",
       "      <td>137.771299</td>\n",
       "      <td>139.324812</td>\n",
       "      <td>16806</td>\n",
       "      <td>16902</td>\n",
       "      <td>17254</td>\n",
       "      <td>17524</td>\n",
       "      <td>2.196072e+06</td>\n",
       "      <td>2.381593e+06</td>\n",
       "      <td>2.377106e+06</td>\n",
       "      <td>2.441528e+06</td>\n",
       "      <td>1.718310</td>\n",
       "      <td>137.168497</td>\n",
       "    </tr>\n",
       "    <tr>\n",
       "      <th>6</th>\n",
       "      <td>元智大學</td>\n",
       "      <td>私立一般</td>\n",
       "      <td>248.098101</td>\n",
       "      <td>254.325604</td>\n",
       "      <td>248.713100</td>\n",
       "      <td>243.882999</td>\n",
       "      <td>7003</td>\n",
       "      <td>7073</td>\n",
       "      <td>7107</td>\n",
       "      <td>7188</td>\n",
       "      <td>1.737431e+06</td>\n",
       "      <td>1.798845e+06</td>\n",
       "      <td>1.767604e+06</td>\n",
       "      <td>1.753031e+06</td>\n",
       "      <td>1.900000</td>\n",
       "      <td>248.754951</td>\n",
       "    </tr>\n",
       "    <tr>\n",
       "      <th>7</th>\n",
       "      <td>明志科技大學</td>\n",
       "      <td>私立技職</td>\n",
       "      <td>215.927971</td>\n",
       "      <td>209.680951</td>\n",
       "      <td>192.301251</td>\n",
       "      <td>194.462626</td>\n",
       "      <td>3030</td>\n",
       "      <td>3197</td>\n",
       "      <td>3356</td>\n",
       "      <td>3465</td>\n",
       "      <td>6.542618e+05</td>\n",
       "      <td>6.703500e+05</td>\n",
       "      <td>6.453630e+05</td>\n",
       "      <td>6.738130e+05</td>\n",
       "      <td>1.467532</td>\n",
       "      <td>203.093200</td>\n",
       "    </tr>\n",
       "    <tr>\n",
       "      <th>8</th>\n",
       "      <td>黎明技術學院</td>\n",
       "      <td>私立技職</td>\n",
       "      <td>179.099439</td>\n",
       "      <td>182.987961</td>\n",
       "      <td>178.287703</td>\n",
       "      <td>171.996999</td>\n",
       "      <td>2402</td>\n",
       "      <td>2492</td>\n",
       "      <td>2586</td>\n",
       "      <td>2666</td>\n",
       "      <td>4.301969e+05</td>\n",
       "      <td>4.560060e+05</td>\n",
       "      <td>4.610520e+05</td>\n",
       "      <td>4.585440e+05</td>\n",
       "      <td>1.698113</td>\n",
       "      <td>178.093026</td>\n",
       "    </tr>\n",
       "    <tr>\n",
       "      <th>9</th>\n",
       "      <td>龍華科技大學</td>\n",
       "      <td>私立技職</td>\n",
       "      <td>179.771753</td>\n",
       "      <td>165.110621</td>\n",
       "      <td>163.214558</td>\n",
       "      <td>163.581347</td>\n",
       "      <td>6196</td>\n",
       "      <td>6346</td>\n",
       "      <td>6567</td>\n",
       "      <td>6712</td>\n",
       "      <td>1.113866e+06</td>\n",
       "      <td>1.047792e+06</td>\n",
       "      <td>1.071830e+06</td>\n",
       "      <td>1.097958e+06</td>\n",
       "      <td>1.105263</td>\n",
       "      <td>167.919570</td>\n",
       "    </tr>\n",
       "    <tr>\n",
       "      <th>10</th>\n",
       "      <td>元培醫事科技大學(原:元培科技大學)</td>\n",
       "      <td>私立技職</td>\n",
       "      <td>133.175683</td>\n",
       "      <td>134.519306</td>\n",
       "      <td>140.486970</td>\n",
       "      <td>141.383394</td>\n",
       "      <td>6077</td>\n",
       "      <td>6112</td>\n",
       "      <td>5871</td>\n",
       "      <td>5733</td>\n",
       "      <td>8.093086e+05</td>\n",
       "      <td>8.221820e+05</td>\n",
       "      <td>8.247990e+05</td>\n",
       "      <td>8.105510e+05</td>\n",
       "      <td>1.234043</td>\n",
       "      <td>137.391338</td>\n",
       "    </tr>\n",
       "    <tr>\n",
       "      <th>11</th>\n",
       "      <td>國立臺北教育大學</td>\n",
       "      <td>公立一般</td>\n",
       "      <td>282.044333</td>\n",
       "      <td>334.843996</td>\n",
       "      <td>333.643921</td>\n",
       "      <td>332.721407</td>\n",
       "      <td>3203</td>\n",
       "      <td>3173</td>\n",
       "      <td>3224</td>\n",
       "      <td>3270</td>\n",
       "      <td>9.033880e+05</td>\n",
       "      <td>1.062460e+06</td>\n",
       "      <td>1.075668e+06</td>\n",
       "      <td>1.087999e+06</td>\n",
       "      <td>0.466667</td>\n",
       "      <td>320.813414</td>\n",
       "    </tr>\n",
       "    <tr>\n",
       "      <th>12</th>\n",
       "      <td>國立中興大學</td>\n",
       "      <td>公立一般</td>\n",
       "      <td>364.495000</td>\n",
       "      <td>290.222000</td>\n",
       "      <td>283.476000</td>\n",
       "      <td>299.051000</td>\n",
       "      <td>14624</td>\n",
       "      <td>15597</td>\n",
       "      <td>15350</td>\n",
       "      <td>15141</td>\n",
       "      <td>5.330375e+06</td>\n",
       "      <td>4.526589e+06</td>\n",
       "      <td>4.351361e+06</td>\n",
       "      <td>4.527932e+06</td>\n",
       "      <td>1.551020</td>\n",
       "      <td>309.311000</td>\n",
       "    </tr>\n",
       "    <tr>\n",
       "      <th>13</th>\n",
       "      <td>國立成功大學</td>\n",
       "      <td>公立一般</td>\n",
       "      <td>374.735000</td>\n",
       "      <td>397.894000</td>\n",
       "      <td>375.969000</td>\n",
       "      <td>416.486000</td>\n",
       "      <td>22417</td>\n",
       "      <td>21979</td>\n",
       "      <td>21698</td>\n",
       "      <td>21236</td>\n",
       "      <td>8.400426e+06</td>\n",
       "      <td>8.745321e+06</td>\n",
       "      <td>8.157780e+06</td>\n",
       "      <td>8.844491e+06</td>\n",
       "      <td>0.622222</td>\n",
       "      <td>391.271000</td>\n",
       "    </tr>\n",
       "    <tr>\n",
       "      <th>14</th>\n",
       "      <td>逢甲大學</td>\n",
       "      <td>私立一般</td>\n",
       "      <td>167.248000</td>\n",
       "      <td>162.133000</td>\n",
       "      <td>167.697000</td>\n",
       "      <td>170.457000</td>\n",
       "      <td>20761</td>\n",
       "      <td>20848</td>\n",
       "      <td>21014</td>\n",
       "      <td>21201</td>\n",
       "      <td>3.472239e+06</td>\n",
       "      <td>3.380141e+06</td>\n",
       "      <td>3.523990e+06</td>\n",
       "      <td>3.613853e+06</td>\n",
       "      <td>1.682927</td>\n",
       "      <td>166.883750</td>\n",
       "    </tr>\n",
       "    <tr>\n",
       "      <th>15</th>\n",
       "      <td>明道大學</td>\n",
       "      <td>私立一般</td>\n",
       "      <td>236.488294</td>\n",
       "      <td>236.265690</td>\n",
       "      <td>220.044406</td>\n",
       "      <td>209.865468</td>\n",
       "      <td>3289</td>\n",
       "      <td>3346</td>\n",
       "      <td>3468</td>\n",
       "      <td>3672</td>\n",
       "      <td>7.778100e+05</td>\n",
       "      <td>7.905450e+05</td>\n",
       "      <td>7.631140e+05</td>\n",
       "      <td>7.706260e+05</td>\n",
       "      <td>2.342466</td>\n",
       "      <td>225.665965</td>\n",
       "    </tr>\n",
       "    <tr>\n",
       "      <th>16</th>\n",
       "      <td>臺南應用科技大學</td>\n",
       "      <td>私立技職</td>\n",
       "      <td>134.094885</td>\n",
       "      <td>136.036173</td>\n",
       "      <td>135.352641</td>\n",
       "      <td>132.870502</td>\n",
       "      <td>8113</td>\n",
       "      <td>8487</td>\n",
       "      <td>8615</td>\n",
       "      <td>8587</td>\n",
       "      <td>1.087912e+06</td>\n",
       "      <td>1.154539e+06</td>\n",
       "      <td>1.166063e+06</td>\n",
       "      <td>1.140959e+06</td>\n",
       "      <td>1.101449</td>\n",
       "      <td>134.588550</td>\n",
       "    </tr>\n",
       "    <tr>\n",
       "      <th>17</th>\n",
       "      <td>國立勤益科技大學</td>\n",
       "      <td>公立技職</td>\n",
       "      <td>171.207985</td>\n",
       "      <td>194.192145</td>\n",
       "      <td>188.964643</td>\n",
       "      <td>193.126106</td>\n",
       "      <td>6257</td>\n",
       "      <td>6365</td>\n",
       "      <td>6590</td>\n",
       "      <td>6780</td>\n",
       "      <td>1.071248e+06</td>\n",
       "      <td>1.236033e+06</td>\n",
       "      <td>1.245277e+06</td>\n",
       "      <td>1.309395e+06</td>\n",
       "      <td>3.200000</td>\n",
       "      <td>186.872720</td>\n",
       "    </tr>\n",
       "    <tr>\n",
       "      <th>18</th>\n",
       "      <td>國立虎尾科技大學</td>\n",
       "      <td>公立技職</td>\n",
       "      <td>189.813043</td>\n",
       "      <td>196.813839</td>\n",
       "      <td>199.100064</td>\n",
       "      <td>198.780412</td>\n",
       "      <td>7360</td>\n",
       "      <td>7703</td>\n",
       "      <td>7775</td>\n",
       "      <td>7760</td>\n",
       "      <td>1.397024e+06</td>\n",
       "      <td>1.516057e+06</td>\n",
       "      <td>1.548003e+06</td>\n",
       "      <td>1.542536e+06</td>\n",
       "      <td>1.250000</td>\n",
       "      <td>196.126840</td>\n",
       "    </tr>\n",
       "    <tr>\n",
       "      <th>19</th>\n",
       "      <td>中臺科技大學</td>\n",
       "      <td>私立技職</td>\n",
       "      <td>156.482829</td>\n",
       "      <td>157.738631</td>\n",
       "      <td>159.729012</td>\n",
       "      <td>150.517888</td>\n",
       "      <td>6406</td>\n",
       "      <td>6355</td>\n",
       "      <td>6325</td>\n",
       "      <td>6345</td>\n",
       "      <td>1.002429e+06</td>\n",
       "      <td>1.002429e+06</td>\n",
       "      <td>1.010286e+06</td>\n",
       "      <td>9.550360e+05</td>\n",
       "      <td>1.125000</td>\n",
       "      <td>156.117090</td>\n",
       "    </tr>\n",
       "    <tr>\n",
       "      <th>20</th>\n",
       "      <td>國立東華大學</td>\n",
       "      <td>公立一般</td>\n",
       "      <td>139.204000</td>\n",
       "      <td>227.702000</td>\n",
       "      <td>231.425000</td>\n",
       "      <td>232.502000</td>\n",
       "      <td>26339</td>\n",
       "      <td>10186</td>\n",
       "      <td>10093</td>\n",
       "      <td>10174</td>\n",
       "      <td>3.729751e+06</td>\n",
       "      <td>2.319374e+06</td>\n",
       "      <td>2.335768e+06</td>\n",
       "      <td>2.365474e+06</td>\n",
       "      <td>3.073171</td>\n",
       "      <td>207.708250</td>\n",
       "    </tr>\n",
       "    <tr>\n",
       "      <th>21</th>\n",
       "      <td>國立高雄海洋科技大學</td>\n",
       "      <td>公立技職</td>\n",
       "      <td>213.648487</td>\n",
       "      <td>218.559247</td>\n",
       "      <td>229.147833</td>\n",
       "      <td>227.053269</td>\n",
       "      <td>5024</td>\n",
       "      <td>4996</td>\n",
       "      <td>4938</td>\n",
       "      <td>4956</td>\n",
       "      <td>1.073370e+06</td>\n",
       "      <td>1.091922e+06</td>\n",
       "      <td>1.131532e+06</td>\n",
       "      <td>1.125276e+06</td>\n",
       "      <td>1.000000</td>\n",
       "      <td>222.102209</td>\n",
       "    </tr>\n",
       "    <tr>\n",
       "      <th>22</th>\n",
       "      <td>國立屏東大學(屏商校區)(原:國立屏東商)</td>\n",
       "      <td>公立技職</td>\n",
       "      <td>140.153986</td>\n",
       "      <td>142.178767</td>\n",
       "      <td>140.041292</td>\n",
       "      <td>136.802188</td>\n",
       "      <td>6072</td>\n",
       "      <td>6198</td>\n",
       "      <td>6345</td>\n",
       "      <td>6582</td>\n",
       "      <td>8.510150e+05</td>\n",
       "      <td>8.812240e+05</td>\n",
       "      <td>8.885620e+05</td>\n",
       "      <td>9.004320e+05</td>\n",
       "      <td>1.258065</td>\n",
       "      <td>139.794058</td>\n",
       "    </tr>\n",
       "    <tr>\n",
       "      <th>23</th>\n",
       "      <td>大同技術學院</td>\n",
       "      <td>私立技職</td>\n",
       "      <td>159.203292</td>\n",
       "      <td>151.280888</td>\n",
       "      <td>162.800202</td>\n",
       "      <td>178.667230</td>\n",
       "      <td>2318</td>\n",
       "      <td>2161</td>\n",
       "      <td>1977</td>\n",
       "      <td>1776</td>\n",
       "      <td>3.690332e+05</td>\n",
       "      <td>3.269180e+05</td>\n",
       "      <td>3.218560e+05</td>\n",
       "      <td>3.173130e+05</td>\n",
       "      <td>1.090909</td>\n",
       "      <td>162.987903</td>\n",
       "    </tr>\n",
       "    <tr>\n",
       "      <th>24</th>\n",
       "      <td>高苑科技大學</td>\n",
       "      <td>私立技職</td>\n",
       "      <td>109.888841</td>\n",
       "      <td>113.066166</td>\n",
       "      <td>113.438868</td>\n",
       "      <td>107.855999</td>\n",
       "      <td>7696</td>\n",
       "      <td>7497</td>\n",
       "      <td>7468</td>\n",
       "      <td>7723</td>\n",
       "      <td>8.457045e+05</td>\n",
       "      <td>8.476570e+05</td>\n",
       "      <td>8.471615e+05</td>\n",
       "      <td>8.329719e+05</td>\n",
       "      <td>1.107143</td>\n",
       "      <td>111.062469</td>\n",
       "    </tr>\n",
       "    <tr>\n",
       "      <th>25</th>\n",
       "      <td>國立高雄師範大學</td>\n",
       "      <td>公立一般</td>\n",
       "      <td>220.890000</td>\n",
       "      <td>200.384000</td>\n",
       "      <td>203.202000</td>\n",
       "      <td>200.489000</td>\n",
       "      <td>10356</td>\n",
       "      <td>6701</td>\n",
       "      <td>6612</td>\n",
       "      <td>6631</td>\n",
       "      <td>2.287536e+06</td>\n",
       "      <td>1.342774e+06</td>\n",
       "      <td>1.343574e+06</td>\n",
       "      <td>1.329443e+06</td>\n",
       "      <td>0.869565</td>\n",
       "      <td>206.241250</td>\n",
       "    </tr>\n",
       "  </tbody>\n",
       "</table>\n",
       "</div>"
      ],
      "text/plain": [
       "               Schoolname SchoolType      100_BG      101_BG      102_BG  \\\n",
       "0                  國立臺灣大學       公立一般  467.619000  478.596000  435.382000   \n",
       "1                  國立政治大學       公立一般  253.211000  249.462000  228.192000   \n",
       "2                  國立中央大學       公立一般  332.006000  395.528000  362.300000   \n",
       "3                    輔仁大學       私立一般  165.138000  138.093000  138.609000   \n",
       "4                    東吳大學       私立一般  177.680105  173.947257  173.393199   \n",
       "5                    銘傳大學       私立一般  130.671889  140.905987  137.771299   \n",
       "6                    元智大學       私立一般  248.098101  254.325604  248.713100   \n",
       "7                  明志科技大學       私立技職  215.927971  209.680951  192.301251   \n",
       "8                  黎明技術學院       私立技職  179.099439  182.987961  178.287703   \n",
       "9                  龍華科技大學       私立技職  179.771753  165.110621  163.214558   \n",
       "10     元培醫事科技大學(原:元培科技大學)       私立技職  133.175683  134.519306  140.486970   \n",
       "11               國立臺北教育大學       公立一般  282.044333  334.843996  333.643921   \n",
       "12                 國立中興大學       公立一般  364.495000  290.222000  283.476000   \n",
       "13                 國立成功大學       公立一般  374.735000  397.894000  375.969000   \n",
       "14                   逢甲大學       私立一般  167.248000  162.133000  167.697000   \n",
       "15                   明道大學       私立一般  236.488294  236.265690  220.044406   \n",
       "16               臺南應用科技大學       私立技職  134.094885  136.036173  135.352641   \n",
       "17               國立勤益科技大學       公立技職  171.207985  194.192145  188.964643   \n",
       "18               國立虎尾科技大學       公立技職  189.813043  196.813839  199.100064   \n",
       "19                 中臺科技大學       私立技職  156.482829  157.738631  159.729012   \n",
       "20                 國立東華大學       公立一般  139.204000  227.702000  231.425000   \n",
       "21             國立高雄海洋科技大學       公立技職  213.648487  218.559247  229.147833   \n",
       "22  國立屏東大學(屏商校區)(原:國立屏東商)       公立技職  140.153986  142.178767  140.041292   \n",
       "23                 大同技術學院       私立技職  159.203292  151.280888  162.800202   \n",
       "24                 高苑科技大學       私立技職  109.888841  113.066166  113.438868   \n",
       "25               國立高雄師範大學       公立一般  220.890000  200.384000  203.202000   \n",
       "\n",
       "        103_BG  100_ST  101_ST  102_ST  103_ST     100_Total     101_Total  \\\n",
       "0   489.447000   32693   32168   31791   31758  1.528788e+07  1.539546e+07   \n",
       "1   210.148000   16028   15927   16053   16247  4.058472e+06  3.973185e+06   \n",
       "2   390.166000    9414   12057   11864   11962  3.125507e+06  4.768880e+06   \n",
       "3   134.000000   20784   26661   26984   27427  3.432234e+06  3.681698e+06   \n",
       "4   174.086559   11752   11793   11861   11911  2.088097e+06  2.051360e+06   \n",
       "5   139.324812   16806   16902   17254   17524  2.196072e+06  2.381593e+06   \n",
       "6   243.882999    7003    7073    7107    7188  1.737431e+06  1.798845e+06   \n",
       "7   194.462626    3030    3197    3356    3465  6.542618e+05  6.703500e+05   \n",
       "8   171.996999    2402    2492    2586    2666  4.301969e+05  4.560060e+05   \n",
       "9   163.581347    6196    6346    6567    6712  1.113866e+06  1.047792e+06   \n",
       "10  141.383394    6077    6112    5871    5733  8.093086e+05  8.221820e+05   \n",
       "11  332.721407    3203    3173    3224    3270  9.033880e+05  1.062460e+06   \n",
       "12  299.051000   14624   15597   15350   15141  5.330375e+06  4.526589e+06   \n",
       "13  416.486000   22417   21979   21698   21236  8.400426e+06  8.745321e+06   \n",
       "14  170.457000   20761   20848   21014   21201  3.472239e+06  3.380141e+06   \n",
       "15  209.865468    3289    3346    3468    3672  7.778100e+05  7.905450e+05   \n",
       "16  132.870502    8113    8487    8615    8587  1.087912e+06  1.154539e+06   \n",
       "17  193.126106    6257    6365    6590    6780  1.071248e+06  1.236033e+06   \n",
       "18  198.780412    7360    7703    7775    7760  1.397024e+06  1.516057e+06   \n",
       "19  150.517888    6406    6355    6325    6345  1.002429e+06  1.002429e+06   \n",
       "20  232.502000   26339   10186   10093   10174  3.729751e+06  2.319374e+06   \n",
       "21  227.053269    5024    4996    4938    4956  1.073370e+06  1.091922e+06   \n",
       "22  136.802188    6072    6198    6345    6582  8.510150e+05  8.812240e+05   \n",
       "23  178.667230    2318    2161    1977    1776  3.690332e+05  3.269180e+05   \n",
       "24  107.855999    7696    7497    7468    7723  8.457045e+05  8.476570e+05   \n",
       "25  200.489000   10356    6701    6612    6631  2.287536e+06  1.342774e+06   \n",
       "\n",
       "       102_Total     103_Total     Credit      AVG_BG  \n",
       "0   1.384122e+07  1.554385e+07  18.000000  467.761000  \n",
       "1   3.663164e+06  3.414267e+06   1.000000  235.253250  \n",
       "2   4.298329e+06  4.667165e+06   1.545455  370.000000  \n",
       "3   3.740233e+06  3.675230e+06   0.948276  143.960000  \n",
       "4   2.044826e+06  2.073545e+06   2.434211  174.776780  \n",
       "5   2.377106e+06  2.441528e+06   1.718310  137.168497  \n",
       "6   1.767604e+06  1.753031e+06   1.900000  248.754951  \n",
       "7   6.453630e+05  6.738130e+05   1.467532  203.093200  \n",
       "8   4.610520e+05  4.585440e+05   1.698113  178.093026  \n",
       "9   1.071830e+06  1.097958e+06   1.105263  167.919570  \n",
       "10  8.247990e+05  8.105510e+05   1.234043  137.391338  \n",
       "11  1.075668e+06  1.087999e+06   0.466667  320.813414  \n",
       "12  4.351361e+06  4.527932e+06   1.551020  309.311000  \n",
       "13  8.157780e+06  8.844491e+06   0.622222  391.271000  \n",
       "14  3.523990e+06  3.613853e+06   1.682927  166.883750  \n",
       "15  7.631140e+05  7.706260e+05   2.342466  225.665965  \n",
       "16  1.166063e+06  1.140959e+06   1.101449  134.588550  \n",
       "17  1.245277e+06  1.309395e+06   3.200000  186.872720  \n",
       "18  1.548003e+06  1.542536e+06   1.250000  196.126840  \n",
       "19  1.010286e+06  9.550360e+05   1.125000  156.117090  \n",
       "20  2.335768e+06  2.365474e+06   3.073171  207.708250  \n",
       "21  1.131532e+06  1.125276e+06   1.000000  222.102209  \n",
       "22  8.885620e+05  9.004320e+05   1.258065  139.794058  \n",
       "23  3.218560e+05  3.173130e+05   1.090909  162.987903  \n",
       "24  8.471615e+05  8.329719e+05   1.107143  111.062469  \n",
       "25  1.343574e+06  1.329443e+06   0.869565  206.241250  "
      ]
     },
     "execution_count": 10,
     "metadata": {},
     "output_type": "execute_result"
    }
   ],
   "source": [
    "# Check if AVG_BG correct\n",
    "BG_df"
   ]
  },
  {
   "cell_type": "markdown",
   "metadata": {},
   "source": [
    "## Data Cleaning"
   ]
  },
  {
   "cell_type": "markdown",
   "metadata": {},
   "source": [
    "* 家庭\n",
    "* 教育 - v01\n",
    "* 政治參與"
   ]
  },
  {
   "cell_type": "markdown",
   "metadata": {},
   "source": [
    "### 學校屬性"
   ]
  },
  {
   "cell_type": "markdown",
   "metadata": {},
   "source": [
    "* 受訪者學校"
   ]
  },
  {
   "cell_type": "code",
   "execution_count": null,
   "metadata": {},
   "outputs": [
    {
     "data": {
      "text/plain": [
       "私立技職    404\n",
       "私立一般    359\n",
       "公立一般    210\n",
       "公立技職     83\n",
       "師範       38\n",
       "Name: strata5, dtype: int64"
      ]
     },
     "execution_count": 11,
     "metadata": {},
     "output_type": "execute_result"
    }
   ],
   "source": [
    "df['strata5'].value_counts()"
   ]
  },
  {
   "cell_type": "code",
   "execution_count": null,
   "metadata": {},
   "outputs": [],
   "source": [
    "def schooltype(strata5):\n",
    "    if strata5 == '私立技職':\n",
    "        return '私立技職'\n",
    "    elif strata5 == '私立一般':\n",
    "        return '私立一般'\n",
    "    elif strata5 == '公立一般':\n",
    "        return '公立一般'\n",
    "    elif strata5 == '公立技職':\n",
    "        return '公立技職'\n",
    "    elif strata5 == '師範':\n",
    "        return '公立一般'\n",
    "    else:\n",
    "        return float('NaN')"
   ]
  },
  {
   "cell_type": "code",
   "execution_count": null,
   "metadata": {},
   "outputs": [],
   "source": [
    "df['SchoolType'] = df['strata5'].apply(schooltype)"
   ]
  },
  {
   "cell_type": "code",
   "execution_count": null,
   "metadata": {},
   "outputs": [
    {
     "data": {
      "text/plain": [
       "私立技職    404\n",
       "私立一般    359\n",
       "公立一般    248\n",
       "公立技職     83\n",
       "Name: SchoolType, dtype: int64"
      ]
     },
     "execution_count": 14,
     "metadata": {},
     "output_type": "execute_result"
    }
   ],
   "source": [
    "df['SchoolType'].value_counts()"
   ]
  },
  {
   "cell_type": "code",
   "execution_count": null,
   "metadata": {},
   "outputs": [
    {
     "data": {
      "application/vnd.plotly.v1+json": {
       "config": {
        "plotlyServerURL": "https://plot.ly"
       },
       "data": [
        {
         "alignmentgroup": "True",
         "hovertemplate": "SchoolType=%{x}<br>y=%{y}<br>text=%{text}<extra></extra>",
         "legendgroup": "公立一般",
         "marker": {
          "color": "#636efa",
          "pattern": {
           "shape": ""
          }
         },
         "name": "公立一般",
         "offsetgroup": "公立一般",
         "orientation": "v",
         "showlegend": true,
         "text": [
          248
         ],
         "textposition": "auto",
         "type": "bar",
         "x": [
          "公立一般"
         ],
         "xaxis": "x",
         "y": [
          248
         ],
         "yaxis": "y"
        },
        {
         "alignmentgroup": "True",
         "hovertemplate": "SchoolType=%{x}<br>y=%{y}<br>text=%{text}<extra></extra>",
         "legendgroup": "公立技職",
         "marker": {
          "color": "#EF553B",
          "pattern": {
           "shape": ""
          }
         },
         "name": "公立技職",
         "offsetgroup": "公立技職",
         "orientation": "v",
         "showlegend": true,
         "text": [
          83
         ],
         "textposition": "auto",
         "type": "bar",
         "x": [
          "公立技職"
         ],
         "xaxis": "x",
         "y": [
          83
         ],
         "yaxis": "y"
        },
        {
         "alignmentgroup": "True",
         "hovertemplate": "SchoolType=%{x}<br>y=%{y}<br>text=%{text}<extra></extra>",
         "legendgroup": "私立一般",
         "marker": {
          "color": "#00cc96",
          "pattern": {
           "shape": ""
          }
         },
         "name": "私立一般",
         "offsetgroup": "私立一般",
         "orientation": "v",
         "showlegend": true,
         "text": [
          359
         ],
         "textposition": "auto",
         "type": "bar",
         "x": [
          "私立一般"
         ],
         "xaxis": "x",
         "y": [
          359
         ],
         "yaxis": "y"
        },
        {
         "alignmentgroup": "True",
         "hovertemplate": "SchoolType=%{x}<br>y=%{y}<br>text=%{text}<extra></extra>",
         "legendgroup": "私立技職",
         "marker": {
          "color": "#ab63fa",
          "pattern": {
           "shape": ""
          }
         },
         "name": "私立技職",
         "offsetgroup": "私立技職",
         "orientation": "v",
         "showlegend": true,
         "text": [
          404
         ],
         "textposition": "auto",
         "type": "bar",
         "x": [
          "私立技職"
         ],
         "xaxis": "x",
         "y": [
          404
         ],
         "yaxis": "y"
        }
       ],
       "layout": {
        "barmode": "relative",
        "height": 500,
        "legend": {
         "title": {
          "text": "SchoolType"
         },
         "tracegroupgap": 0
        },
        "template": {
         "data": {
          "bar": [
           {
            "error_x": {
             "color": "#2a3f5f"
            },
            "error_y": {
             "color": "#2a3f5f"
            },
            "marker": {
             "line": {
              "color": "#E5ECF6",
              "width": 0.5
             },
             "pattern": {
              "fillmode": "overlay",
              "size": 10,
              "solidity": 0.2
             }
            },
            "type": "bar"
           }
          ],
          "barpolar": [
           {
            "marker": {
             "line": {
              "color": "#E5ECF6",
              "width": 0.5
             },
             "pattern": {
              "fillmode": "overlay",
              "size": 10,
              "solidity": 0.2
             }
            },
            "type": "barpolar"
           }
          ],
          "carpet": [
           {
            "aaxis": {
             "endlinecolor": "#2a3f5f",
             "gridcolor": "white",
             "linecolor": "white",
             "minorgridcolor": "white",
             "startlinecolor": "#2a3f5f"
            },
            "baxis": {
             "endlinecolor": "#2a3f5f",
             "gridcolor": "white",
             "linecolor": "white",
             "minorgridcolor": "white",
             "startlinecolor": "#2a3f5f"
            },
            "type": "carpet"
           }
          ],
          "choropleth": [
           {
            "colorbar": {
             "outlinewidth": 0,
             "ticks": ""
            },
            "type": "choropleth"
           }
          ],
          "contour": [
           {
            "colorbar": {
             "outlinewidth": 0,
             "ticks": ""
            },
            "colorscale": [
             [
              0,
              "#0d0887"
             ],
             [
              0.1111111111111111,
              "#46039f"
             ],
             [
              0.2222222222222222,
              "#7201a8"
             ],
             [
              0.3333333333333333,
              "#9c179e"
             ],
             [
              0.4444444444444444,
              "#bd3786"
             ],
             [
              0.5555555555555556,
              "#d8576b"
             ],
             [
              0.6666666666666666,
              "#ed7953"
             ],
             [
              0.7777777777777778,
              "#fb9f3a"
             ],
             [
              0.8888888888888888,
              "#fdca26"
             ],
             [
              1,
              "#f0f921"
             ]
            ],
            "type": "contour"
           }
          ],
          "contourcarpet": [
           {
            "colorbar": {
             "outlinewidth": 0,
             "ticks": ""
            },
            "type": "contourcarpet"
           }
          ],
          "heatmap": [
           {
            "colorbar": {
             "outlinewidth": 0,
             "ticks": ""
            },
            "colorscale": [
             [
              0,
              "#0d0887"
             ],
             [
              0.1111111111111111,
              "#46039f"
             ],
             [
              0.2222222222222222,
              "#7201a8"
             ],
             [
              0.3333333333333333,
              "#9c179e"
             ],
             [
              0.4444444444444444,
              "#bd3786"
             ],
             [
              0.5555555555555556,
              "#d8576b"
             ],
             [
              0.6666666666666666,
              "#ed7953"
             ],
             [
              0.7777777777777778,
              "#fb9f3a"
             ],
             [
              0.8888888888888888,
              "#fdca26"
             ],
             [
              1,
              "#f0f921"
             ]
            ],
            "type": "heatmap"
           }
          ],
          "heatmapgl": [
           {
            "colorbar": {
             "outlinewidth": 0,
             "ticks": ""
            },
            "colorscale": [
             [
              0,
              "#0d0887"
             ],
             [
              0.1111111111111111,
              "#46039f"
             ],
             [
              0.2222222222222222,
              "#7201a8"
             ],
             [
              0.3333333333333333,
              "#9c179e"
             ],
             [
              0.4444444444444444,
              "#bd3786"
             ],
             [
              0.5555555555555556,
              "#d8576b"
             ],
             [
              0.6666666666666666,
              "#ed7953"
             ],
             [
              0.7777777777777778,
              "#fb9f3a"
             ],
             [
              0.8888888888888888,
              "#fdca26"
             ],
             [
              1,
              "#f0f921"
             ]
            ],
            "type": "heatmapgl"
           }
          ],
          "histogram": [
           {
            "marker": {
             "pattern": {
              "fillmode": "overlay",
              "size": 10,
              "solidity": 0.2
             }
            },
            "type": "histogram"
           }
          ],
          "histogram2d": [
           {
            "colorbar": {
             "outlinewidth": 0,
             "ticks": ""
            },
            "colorscale": [
             [
              0,
              "#0d0887"
             ],
             [
              0.1111111111111111,
              "#46039f"
             ],
             [
              0.2222222222222222,
              "#7201a8"
             ],
             [
              0.3333333333333333,
              "#9c179e"
             ],
             [
              0.4444444444444444,
              "#bd3786"
             ],
             [
              0.5555555555555556,
              "#d8576b"
             ],
             [
              0.6666666666666666,
              "#ed7953"
             ],
             [
              0.7777777777777778,
              "#fb9f3a"
             ],
             [
              0.8888888888888888,
              "#fdca26"
             ],
             [
              1,
              "#f0f921"
             ]
            ],
            "type": "histogram2d"
           }
          ],
          "histogram2dcontour": [
           {
            "colorbar": {
             "outlinewidth": 0,
             "ticks": ""
            },
            "colorscale": [
             [
              0,
              "#0d0887"
             ],
             [
              0.1111111111111111,
              "#46039f"
             ],
             [
              0.2222222222222222,
              "#7201a8"
             ],
             [
              0.3333333333333333,
              "#9c179e"
             ],
             [
              0.4444444444444444,
              "#bd3786"
             ],
             [
              0.5555555555555556,
              "#d8576b"
             ],
             [
              0.6666666666666666,
              "#ed7953"
             ],
             [
              0.7777777777777778,
              "#fb9f3a"
             ],
             [
              0.8888888888888888,
              "#fdca26"
             ],
             [
              1,
              "#f0f921"
             ]
            ],
            "type": "histogram2dcontour"
           }
          ],
          "mesh3d": [
           {
            "colorbar": {
             "outlinewidth": 0,
             "ticks": ""
            },
            "type": "mesh3d"
           }
          ],
          "parcoords": [
           {
            "line": {
             "colorbar": {
              "outlinewidth": 0,
              "ticks": ""
             }
            },
            "type": "parcoords"
           }
          ],
          "pie": [
           {
            "automargin": true,
            "type": "pie"
           }
          ],
          "scatter": [
           {
            "fillpattern": {
             "fillmode": "overlay",
             "size": 10,
             "solidity": 0.2
            },
            "type": "scatter"
           }
          ],
          "scatter3d": [
           {
            "line": {
             "colorbar": {
              "outlinewidth": 0,
              "ticks": ""
             }
            },
            "marker": {
             "colorbar": {
              "outlinewidth": 0,
              "ticks": ""
             }
            },
            "type": "scatter3d"
           }
          ],
          "scattercarpet": [
           {
            "marker": {
             "colorbar": {
              "outlinewidth": 0,
              "ticks": ""
             }
            },
            "type": "scattercarpet"
           }
          ],
          "scattergeo": [
           {
            "marker": {
             "colorbar": {
              "outlinewidth": 0,
              "ticks": ""
             }
            },
            "type": "scattergeo"
           }
          ],
          "scattergl": [
           {
            "marker": {
             "colorbar": {
              "outlinewidth": 0,
              "ticks": ""
             }
            },
            "type": "scattergl"
           }
          ],
          "scattermapbox": [
           {
            "marker": {
             "colorbar": {
              "outlinewidth": 0,
              "ticks": ""
             }
            },
            "type": "scattermapbox"
           }
          ],
          "scatterpolar": [
           {
            "marker": {
             "colorbar": {
              "outlinewidth": 0,
              "ticks": ""
             }
            },
            "type": "scatterpolar"
           }
          ],
          "scatterpolargl": [
           {
            "marker": {
             "colorbar": {
              "outlinewidth": 0,
              "ticks": ""
             }
            },
            "type": "scatterpolargl"
           }
          ],
          "scatterternary": [
           {
            "marker": {
             "colorbar": {
              "outlinewidth": 0,
              "ticks": ""
             }
            },
            "type": "scatterternary"
           }
          ],
          "surface": [
           {
            "colorbar": {
             "outlinewidth": 0,
             "ticks": ""
            },
            "colorscale": [
             [
              0,
              "#0d0887"
             ],
             [
              0.1111111111111111,
              "#46039f"
             ],
             [
              0.2222222222222222,
              "#7201a8"
             ],
             [
              0.3333333333333333,
              "#9c179e"
             ],
             [
              0.4444444444444444,
              "#bd3786"
             ],
             [
              0.5555555555555556,
              "#d8576b"
             ],
             [
              0.6666666666666666,
              "#ed7953"
             ],
             [
              0.7777777777777778,
              "#fb9f3a"
             ],
             [
              0.8888888888888888,
              "#fdca26"
             ],
             [
              1,
              "#f0f921"
             ]
            ],
            "type": "surface"
           }
          ],
          "table": [
           {
            "cells": {
             "fill": {
              "color": "#EBF0F8"
             },
             "line": {
              "color": "white"
             }
            },
            "header": {
             "fill": {
              "color": "#C8D4E3"
             },
             "line": {
              "color": "white"
             }
            },
            "type": "table"
           }
          ]
         },
         "layout": {
          "annotationdefaults": {
           "arrowcolor": "#2a3f5f",
           "arrowhead": 0,
           "arrowwidth": 1
          },
          "autotypenumbers": "strict",
          "coloraxis": {
           "colorbar": {
            "outlinewidth": 0,
            "ticks": ""
           }
          },
          "colorscale": {
           "diverging": [
            [
             0,
             "#8e0152"
            ],
            [
             0.1,
             "#c51b7d"
            ],
            [
             0.2,
             "#de77ae"
            ],
            [
             0.3,
             "#f1b6da"
            ],
            [
             0.4,
             "#fde0ef"
            ],
            [
             0.5,
             "#f7f7f7"
            ],
            [
             0.6,
             "#e6f5d0"
            ],
            [
             0.7,
             "#b8e186"
            ],
            [
             0.8,
             "#7fbc41"
            ],
            [
             0.9,
             "#4d9221"
            ],
            [
             1,
             "#276419"
            ]
           ],
           "sequential": [
            [
             0,
             "#0d0887"
            ],
            [
             0.1111111111111111,
             "#46039f"
            ],
            [
             0.2222222222222222,
             "#7201a8"
            ],
            [
             0.3333333333333333,
             "#9c179e"
            ],
            [
             0.4444444444444444,
             "#bd3786"
            ],
            [
             0.5555555555555556,
             "#d8576b"
            ],
            [
             0.6666666666666666,
             "#ed7953"
            ],
            [
             0.7777777777777778,
             "#fb9f3a"
            ],
            [
             0.8888888888888888,
             "#fdca26"
            ],
            [
             1,
             "#f0f921"
            ]
           ],
           "sequentialminus": [
            [
             0,
             "#0d0887"
            ],
            [
             0.1111111111111111,
             "#46039f"
            ],
            [
             0.2222222222222222,
             "#7201a8"
            ],
            [
             0.3333333333333333,
             "#9c179e"
            ],
            [
             0.4444444444444444,
             "#bd3786"
            ],
            [
             0.5555555555555556,
             "#d8576b"
            ],
            [
             0.6666666666666666,
             "#ed7953"
            ],
            [
             0.7777777777777778,
             "#fb9f3a"
            ],
            [
             0.8888888888888888,
             "#fdca26"
            ],
            [
             1,
             "#f0f921"
            ]
           ]
          },
          "colorway": [
           "#636efa",
           "#EF553B",
           "#00cc96",
           "#ab63fa",
           "#FFA15A",
           "#19d3f3",
           "#FF6692",
           "#B6E880",
           "#FF97FF",
           "#FECB52"
          ],
          "font": {
           "color": "#2a3f5f"
          },
          "geo": {
           "bgcolor": "white",
           "lakecolor": "white",
           "landcolor": "#E5ECF6",
           "showlakes": true,
           "showland": true,
           "subunitcolor": "white"
          },
          "hoverlabel": {
           "align": "left"
          },
          "hovermode": "closest",
          "mapbox": {
           "style": "light"
          },
          "paper_bgcolor": "white",
          "plot_bgcolor": "#E5ECF6",
          "polar": {
           "angularaxis": {
            "gridcolor": "white",
            "linecolor": "white",
            "ticks": ""
           },
           "bgcolor": "#E5ECF6",
           "radialaxis": {
            "gridcolor": "white",
            "linecolor": "white",
            "ticks": ""
           }
          },
          "scene": {
           "xaxis": {
            "backgroundcolor": "#E5ECF6",
            "gridcolor": "white",
            "gridwidth": 2,
            "linecolor": "white",
            "showbackground": true,
            "ticks": "",
            "zerolinecolor": "white"
           },
           "yaxis": {
            "backgroundcolor": "#E5ECF6",
            "gridcolor": "white",
            "gridwidth": 2,
            "linecolor": "white",
            "showbackground": true,
            "ticks": "",
            "zerolinecolor": "white"
           },
           "zaxis": {
            "backgroundcolor": "#E5ECF6",
            "gridcolor": "white",
            "gridwidth": 2,
            "linecolor": "white",
            "showbackground": true,
            "ticks": "",
            "zerolinecolor": "white"
           }
          },
          "shapedefaults": {
           "line": {
            "color": "#2a3f5f"
           }
          },
          "ternary": {
           "aaxis": {
            "gridcolor": "white",
            "linecolor": "white",
            "ticks": ""
           },
           "baxis": {
            "gridcolor": "white",
            "linecolor": "white",
            "ticks": ""
           },
           "bgcolor": "#E5ECF6",
           "caxis": {
            "gridcolor": "white",
            "linecolor": "white",
            "ticks": ""
           }
          },
          "title": {
           "x": 0.05
          },
          "xaxis": {
           "automargin": true,
           "gridcolor": "white",
           "linecolor": "white",
           "ticks": "",
           "title": {
            "standoff": 15
           },
           "zerolinecolor": "white",
           "zerolinewidth": 2
          },
          "yaxis": {
           "automargin": true,
           "gridcolor": "white",
           "linecolor": "white",
           "ticks": "",
           "title": {
            "standoff": 15
           },
           "zerolinecolor": "white",
           "zerolinewidth": 2
          }
         }
        },
        "title": {
         "text": "學校屬性分佈"
        },
        "width": 600,
        "xaxis": {
         "anchor": "y",
         "categoryarray": [
          "公立一般",
          "公立技職",
          "私立一般",
          "私立技職"
         ],
         "categoryorder": "array",
         "domain": [
          0,
          1
         ],
         "title": {
          "text": "SchoolType"
         }
        },
        "yaxis": {
         "anchor": "x",
         "domain": [
          0,
          1
         ],
         "title": {
          "text": "y"
         }
        }
       }
      }
     },
     "metadata": {},
     "output_type": "display_data"
    }
   ],
   "source": [
    "df1 = df.groupby([\"SchoolType\"]).count().reset_index()\n",
    "\n",
    "fig1 = px.bar(df1, height=500, width=600,\n",
    "             y = df.groupby([\"SchoolType\"]).size(),\n",
    "             x=\"SchoolType\",\n",
    "             color='SchoolType',\n",
    "             text = df.groupby([\"SchoolType\"]).size(), \n",
    "             title = '學校屬性分佈')\n",
    "fig1.show()"
   ]
  },
  {
   "cell_type": "markdown",
   "metadata": {},
   "source": [
    "* SchoolType to num：數值越大教育資源越高(假設的)"
   ]
  },
  {
   "cell_type": "code",
   "execution_count": null,
   "metadata": {},
   "outputs": [],
   "source": [
    "def schooltype_num(SchoolType):\n",
    "    if SchoolType == '公立一般':\n",
    "        return float(4)\n",
    "    elif SchoolType == '私立一般':\n",
    "        return float(3)\n",
    "    elif SchoolType == '公立技職':\n",
    "        return float(2)\n",
    "    else:\n",
    "        return float(1)"
   ]
  },
  {
   "cell_type": "code",
   "execution_count": null,
   "metadata": {},
   "outputs": [],
   "source": [
    "df['SchoolType_num'] = df['SchoolType'].apply(schooltype_num)"
   ]
  },
  {
   "cell_type": "markdown",
   "metadata": {},
   "source": [
    "* 受訪者科系"
   ]
  },
  {
   "cell_type": "code",
   "execution_count": null,
   "metadata": {},
   "outputs": [
    {
     "data": {
      "text/plain": [
       "商學管理    299\n",
       "工科      296\n",
       "人文藝術    178\n",
       "理科      123\n",
       "經社心理    105\n",
       "醫科       38\n",
       "教育       27\n",
       "農科       19\n",
       "法律        9\n",
       "Name: strata9, dtype: int64"
      ]
     },
     "execution_count": 18,
     "metadata": {},
     "output_type": "execute_result"
    }
   ],
   "source": [
    "df['strata9'].value_counts()"
   ]
  },
  {
   "cell_type": "code",
   "execution_count": null,
   "metadata": {},
   "outputs": [],
   "source": [
    "def major(strata9):\n",
    "    if strata9 == '經社心理':\n",
    "        return int(1)\n",
    "    else:\n",
    "        return int(0)"
   ]
  },
  {
   "cell_type": "code",
   "execution_count": null,
   "metadata": {},
   "outputs": [],
   "source": [
    "df['Major_dummy'] = df['strata9'].apply(major)"
   ]
  },
  {
   "cell_type": "markdown",
   "metadata": {},
   "source": [
    "* 學校到立法院距離(最短行車距離) </br>\n",
    "資料搜集日期：2022.08.18 14:23-14:45"
   ]
  },
  {
   "cell_type": "code",
   "execution_count": null,
   "metadata": {},
   "outputs": [],
   "source": [
    "def distance(v01):\n",
    "    if v01 == '明志科技大學':\n",
    "        return float(12.3)\n",
    "    elif v01 == '東吳大學':\n",
    "        return float(9.0)\n",
    "    elif v01 == '明道大學':\n",
    "        return float(202)\n",
    "    elif v01 == '銘傳大學':\n",
    "        return  float(7.1)\n",
    "    elif v01 == '臺南應用科技大學':\n",
    "        return float(299)\n",
    "    elif v01 == '輔仁大學':\n",
    "        return float(10.9)\n",
    "    elif v01 == '高苑科技大學':\n",
    "        return float(325)\n",
    "    elif v01 == '黎明技術學院':\n",
    "        return float(11.9)\n",
    "    elif v01 == '國立中興大學':\n",
    "        return float(166)\n",
    "    elif v01 == '元培醫事科技大學(原:元培科技大學)':\n",
    "        return float(83.9)\n",
    "    elif v01 == '國立成功大學':\n",
    "        return float(306)\n",
    "    elif v01 == '大同技術學院':\n",
    "        return float(251)\n",
    "    elif v01 == '國立東華大學':\n",
    "        return float(172)\n",
    "    elif v01 == '逢甲大學':\n",
    "        return float(155)\n",
    "    elif v01 == '國立政治大學':\n",
    "        return float(12.3)\n",
    "    elif v01 == '元智大學':\n",
    "        return float(36.3)\n",
    "    elif v01 == '龍華科技大學':\n",
    "        return float(15.5)\n",
    "    elif v01 == '國立中央大學':\n",
    "        return float(41.8)\n",
    "    elif v01 == '國立屏東大學(屏商校區)(原:國立屏東商)':\n",
    "        return float(365)\n",
    "    elif v01 == '國立虎尾科技大學':\n",
    "        return float(224)\n",
    "    elif v01 == '國立高雄師範大學':\n",
    "        return float(347)\n",
    "    elif v01 == '國立高雄海洋科技大學':\n",
    "        return float(337)\n",
    "    elif v01 == '中臺科技大學':\n",
    "        return float(159)\n",
    "    elif v01 == '國立臺北教育大學':\n",
    "        return float(4.6)\n",
    "    elif v01 == '國立勤益科技大學':\n",
    "        return float(161)\n",
    "    elif v01 == '國立臺灣大學':\n",
    "        return float(4.0)\n",
    "    else:\n",
    "        return float('NaN')"
   ]
  },
  {
   "cell_type": "code",
   "execution_count": null,
   "metadata": {},
   "outputs": [],
   "source": [
    "df['Distance'] = df['v01'].apply(distance)"
   ]
  },
  {
   "cell_type": "markdown",
   "metadata": {},
   "source": [
    "* 平均每生支出"
   ]
  },
  {
   "cell_type": "code",
   "execution_count": null,
   "metadata": {},
   "outputs": [],
   "source": [
    "def AVG_BG(v01):\n",
    "    if v01 == '明志科技大學':\n",
    "        return float(203.093200)\n",
    "    elif v01 == '東吳大學':\n",
    "        return float(174.776780)\n",
    "    elif v01 == '明道大學':\n",
    "        return float(225.665965)\n",
    "    elif v01 == '銘傳大學':\n",
    "        return  float(137.168497)\n",
    "    elif v01 == '臺南應用科技大學':\n",
    "        return float(134.588550)\n",
    "    elif v01 == '輔仁大學':\n",
    "        return float(143.960000)\n",
    "    elif v01 == '高苑科技大學':\n",
    "        return float(111.062469)\n",
    "    elif v01 == '黎明技術學院':\n",
    "        return float(178.093026)\n",
    "    elif v01 == '國立中興大學':\n",
    "        return float(309.311000)\n",
    "    elif v01 == '元培醫事科技大學(原:元培科技大學)':\n",
    "        return float(137.391338)\n",
    "    elif v01 == '國立成功大學':\n",
    "        return float(391.271000)\n",
    "    elif v01 == '大同技術學院':\n",
    "        return float(162.987903)\n",
    "    elif v01 == '國立東華大學':\n",
    "        return float(207.708250)\n",
    "    elif v01 == '逢甲大學':\n",
    "        return float(166.883750)\n",
    "    elif v01 == '國立政治大學':\n",
    "        return float(235.253250)\n",
    "    elif v01 == '元智大學':\n",
    "        return float(248.754951)\n",
    "    elif v01 == '龍華科技大學':\n",
    "        return float(167.919570)\n",
    "    elif v01 == '國立中央大學':\n",
    "        return float(370.000000)\n",
    "    elif v01 == '國立屏東大學(屏商校區)(原:國立屏東商)':\n",
    "        return float(139.794058)\n",
    "    elif v01 == '國立虎尾科技大學':\n",
    "        return float(196.126840)\n",
    "    elif v01 == '國立高雄師範大學':\n",
    "        return float(206.241250)\n",
    "    elif v01 == '國立高雄海洋科技大學':\n",
    "        return float(222.102209)\n",
    "    elif v01 == '中臺科技大學':\n",
    "        return float(156.117090)\n",
    "    elif v01 == '國立臺北教育大學':\n",
    "        return float(320.813414)\n",
    "    elif v01 == '國立勤益科技大學':\n",
    "        return float(186.872720)\n",
    "    elif v01 == '國立臺灣大學':\n",
    "        return float(467.761000)\n",
    "    else:\n",
    "        return float('NaN')"
   ]
  },
  {
   "cell_type": "code",
   "execution_count": null,
   "metadata": {},
   "outputs": [],
   "source": [
    "df['AVG_BG'] = df['v01'].apply(AVG_BG)"
   ]
  },
  {
   "cell_type": "markdown",
   "metadata": {},
   "source": [
    "### 政治參與 / 投票"
   ]
  },
  {
   "cell_type": "markdown",
   "metadata": {},
   "source": [
    "* 是否參加太陽花學運"
   ]
  },
  {
   "cell_type": "code",
   "execution_count": null,
   "metadata": {},
   "outputs": [
    {
     "data": {
      "text/plain": [
       "從不(跳答R1題)    772\n",
       "有時           140\n",
       "很少           138\n",
       "時常            42\n",
       "拒答             2\n",
       "Name: q17, dtype: int64"
      ]
     },
     "execution_count": 25,
     "metadata": {},
     "output_type": "execute_result"
    }
   ],
   "source": [
    "df['q17'].value_counts()"
   ]
  },
  {
   "cell_type": "code",
   "execution_count": null,
   "metadata": {},
   "outputs": [],
   "source": [
    "def Funflower(q17):\n",
    "    if q17 == '從不(跳答R1題)':\n",
    "        return '沒有'\n",
    "    elif q17 == '拒答':\n",
    "        return float('NaN')\n",
    "    else:\n",
    "        return '有'"
   ]
  },
  {
   "cell_type": "code",
   "execution_count": null,
   "metadata": {},
   "outputs": [],
   "source": [
    "df['Funflower_movement'] = df['q17'].apply(Funflower)"
   ]
  },
  {
   "cell_type": "code",
   "execution_count": null,
   "metadata": {},
   "outputs": [
    {
     "data": {
      "application/vnd.plotly.v1+json": {
       "config": {
        "plotlyServerURL": "https://plot.ly"
       },
       "data": [
        {
         "alignmentgroup": "True",
         "hovertemplate": "是否參與太陽花學運=%{x}<br>次數分配=%{y}<br>text=%{text}<extra></extra>",
         "legendgroup": "有",
         "marker": {
          "color": "#636efa",
          "pattern": {
           "shape": ""
          }
         },
         "name": "有",
         "offsetgroup": "有",
         "orientation": "v",
         "showlegend": true,
         "text": [
          320
         ],
         "textposition": "auto",
         "type": "bar",
         "x": [
          "有"
         ],
         "xaxis": "x",
         "y": [
          320
         ],
         "yaxis": "y"
        },
        {
         "alignmentgroup": "True",
         "hovertemplate": "是否參與太陽花學運=%{x}<br>次數分配=%{y}<br>text=%{text}<extra></extra>",
         "legendgroup": "沒有",
         "marker": {
          "color": "#EF553B",
          "pattern": {
           "shape": ""
          }
         },
         "name": "沒有",
         "offsetgroup": "沒有",
         "orientation": "v",
         "showlegend": true,
         "text": [
          772
         ],
         "textposition": "auto",
         "type": "bar",
         "x": [
          "沒有"
         ],
         "xaxis": "x",
         "y": [
          772
         ],
         "yaxis": "y"
        }
       ],
       "layout": {
        "barmode": "relative",
        "height": 500,
        "legend": {
         "title": {
          "text": "是否參與太陽花學運"
         },
         "tracegroupgap": 0
        },
        "template": {
         "data": {
          "bar": [
           {
            "error_x": {
             "color": "#2a3f5f"
            },
            "error_y": {
             "color": "#2a3f5f"
            },
            "marker": {
             "line": {
              "color": "#E5ECF6",
              "width": 0.5
             },
             "pattern": {
              "fillmode": "overlay",
              "size": 10,
              "solidity": 0.2
             }
            },
            "type": "bar"
           }
          ],
          "barpolar": [
           {
            "marker": {
             "line": {
              "color": "#E5ECF6",
              "width": 0.5
             },
             "pattern": {
              "fillmode": "overlay",
              "size": 10,
              "solidity": 0.2
             }
            },
            "type": "barpolar"
           }
          ],
          "carpet": [
           {
            "aaxis": {
             "endlinecolor": "#2a3f5f",
             "gridcolor": "white",
             "linecolor": "white",
             "minorgridcolor": "white",
             "startlinecolor": "#2a3f5f"
            },
            "baxis": {
             "endlinecolor": "#2a3f5f",
             "gridcolor": "white",
             "linecolor": "white",
             "minorgridcolor": "white",
             "startlinecolor": "#2a3f5f"
            },
            "type": "carpet"
           }
          ],
          "choropleth": [
           {
            "colorbar": {
             "outlinewidth": 0,
             "ticks": ""
            },
            "type": "choropleth"
           }
          ],
          "contour": [
           {
            "colorbar": {
             "outlinewidth": 0,
             "ticks": ""
            },
            "colorscale": [
             [
              0,
              "#0d0887"
             ],
             [
              0.1111111111111111,
              "#46039f"
             ],
             [
              0.2222222222222222,
              "#7201a8"
             ],
             [
              0.3333333333333333,
              "#9c179e"
             ],
             [
              0.4444444444444444,
              "#bd3786"
             ],
             [
              0.5555555555555556,
              "#d8576b"
             ],
             [
              0.6666666666666666,
              "#ed7953"
             ],
             [
              0.7777777777777778,
              "#fb9f3a"
             ],
             [
              0.8888888888888888,
              "#fdca26"
             ],
             [
              1,
              "#f0f921"
             ]
            ],
            "type": "contour"
           }
          ],
          "contourcarpet": [
           {
            "colorbar": {
             "outlinewidth": 0,
             "ticks": ""
            },
            "type": "contourcarpet"
           }
          ],
          "heatmap": [
           {
            "colorbar": {
             "outlinewidth": 0,
             "ticks": ""
            },
            "colorscale": [
             [
              0,
              "#0d0887"
             ],
             [
              0.1111111111111111,
              "#46039f"
             ],
             [
              0.2222222222222222,
              "#7201a8"
             ],
             [
              0.3333333333333333,
              "#9c179e"
             ],
             [
              0.4444444444444444,
              "#bd3786"
             ],
             [
              0.5555555555555556,
              "#d8576b"
             ],
             [
              0.6666666666666666,
              "#ed7953"
             ],
             [
              0.7777777777777778,
              "#fb9f3a"
             ],
             [
              0.8888888888888888,
              "#fdca26"
             ],
             [
              1,
              "#f0f921"
             ]
            ],
            "type": "heatmap"
           }
          ],
          "heatmapgl": [
           {
            "colorbar": {
             "outlinewidth": 0,
             "ticks": ""
            },
            "colorscale": [
             [
              0,
              "#0d0887"
             ],
             [
              0.1111111111111111,
              "#46039f"
             ],
             [
              0.2222222222222222,
              "#7201a8"
             ],
             [
              0.3333333333333333,
              "#9c179e"
             ],
             [
              0.4444444444444444,
              "#bd3786"
             ],
             [
              0.5555555555555556,
              "#d8576b"
             ],
             [
              0.6666666666666666,
              "#ed7953"
             ],
             [
              0.7777777777777778,
              "#fb9f3a"
             ],
             [
              0.8888888888888888,
              "#fdca26"
             ],
             [
              1,
              "#f0f921"
             ]
            ],
            "type": "heatmapgl"
           }
          ],
          "histogram": [
           {
            "marker": {
             "pattern": {
              "fillmode": "overlay",
              "size": 10,
              "solidity": 0.2
             }
            },
            "type": "histogram"
           }
          ],
          "histogram2d": [
           {
            "colorbar": {
             "outlinewidth": 0,
             "ticks": ""
            },
            "colorscale": [
             [
              0,
              "#0d0887"
             ],
             [
              0.1111111111111111,
              "#46039f"
             ],
             [
              0.2222222222222222,
              "#7201a8"
             ],
             [
              0.3333333333333333,
              "#9c179e"
             ],
             [
              0.4444444444444444,
              "#bd3786"
             ],
             [
              0.5555555555555556,
              "#d8576b"
             ],
             [
              0.6666666666666666,
              "#ed7953"
             ],
             [
              0.7777777777777778,
              "#fb9f3a"
             ],
             [
              0.8888888888888888,
              "#fdca26"
             ],
             [
              1,
              "#f0f921"
             ]
            ],
            "type": "histogram2d"
           }
          ],
          "histogram2dcontour": [
           {
            "colorbar": {
             "outlinewidth": 0,
             "ticks": ""
            },
            "colorscale": [
             [
              0,
              "#0d0887"
             ],
             [
              0.1111111111111111,
              "#46039f"
             ],
             [
              0.2222222222222222,
              "#7201a8"
             ],
             [
              0.3333333333333333,
              "#9c179e"
             ],
             [
              0.4444444444444444,
              "#bd3786"
             ],
             [
              0.5555555555555556,
              "#d8576b"
             ],
             [
              0.6666666666666666,
              "#ed7953"
             ],
             [
              0.7777777777777778,
              "#fb9f3a"
             ],
             [
              0.8888888888888888,
              "#fdca26"
             ],
             [
              1,
              "#f0f921"
             ]
            ],
            "type": "histogram2dcontour"
           }
          ],
          "mesh3d": [
           {
            "colorbar": {
             "outlinewidth": 0,
             "ticks": ""
            },
            "type": "mesh3d"
           }
          ],
          "parcoords": [
           {
            "line": {
             "colorbar": {
              "outlinewidth": 0,
              "ticks": ""
             }
            },
            "type": "parcoords"
           }
          ],
          "pie": [
           {
            "automargin": true,
            "type": "pie"
           }
          ],
          "scatter": [
           {
            "fillpattern": {
             "fillmode": "overlay",
             "size": 10,
             "solidity": 0.2
            },
            "type": "scatter"
           }
          ],
          "scatter3d": [
           {
            "line": {
             "colorbar": {
              "outlinewidth": 0,
              "ticks": ""
             }
            },
            "marker": {
             "colorbar": {
              "outlinewidth": 0,
              "ticks": ""
             }
            },
            "type": "scatter3d"
           }
          ],
          "scattercarpet": [
           {
            "marker": {
             "colorbar": {
              "outlinewidth": 0,
              "ticks": ""
             }
            },
            "type": "scattercarpet"
           }
          ],
          "scattergeo": [
           {
            "marker": {
             "colorbar": {
              "outlinewidth": 0,
              "ticks": ""
             }
            },
            "type": "scattergeo"
           }
          ],
          "scattergl": [
           {
            "marker": {
             "colorbar": {
              "outlinewidth": 0,
              "ticks": ""
             }
            },
            "type": "scattergl"
           }
          ],
          "scattermapbox": [
           {
            "marker": {
             "colorbar": {
              "outlinewidth": 0,
              "ticks": ""
             }
            },
            "type": "scattermapbox"
           }
          ],
          "scatterpolar": [
           {
            "marker": {
             "colorbar": {
              "outlinewidth": 0,
              "ticks": ""
             }
            },
            "type": "scatterpolar"
           }
          ],
          "scatterpolargl": [
           {
            "marker": {
             "colorbar": {
              "outlinewidth": 0,
              "ticks": ""
             }
            },
            "type": "scatterpolargl"
           }
          ],
          "scatterternary": [
           {
            "marker": {
             "colorbar": {
              "outlinewidth": 0,
              "ticks": ""
             }
            },
            "type": "scatterternary"
           }
          ],
          "surface": [
           {
            "colorbar": {
             "outlinewidth": 0,
             "ticks": ""
            },
            "colorscale": [
             [
              0,
              "#0d0887"
             ],
             [
              0.1111111111111111,
              "#46039f"
             ],
             [
              0.2222222222222222,
              "#7201a8"
             ],
             [
              0.3333333333333333,
              "#9c179e"
             ],
             [
              0.4444444444444444,
              "#bd3786"
             ],
             [
              0.5555555555555556,
              "#d8576b"
             ],
             [
              0.6666666666666666,
              "#ed7953"
             ],
             [
              0.7777777777777778,
              "#fb9f3a"
             ],
             [
              0.8888888888888888,
              "#fdca26"
             ],
             [
              1,
              "#f0f921"
             ]
            ],
            "type": "surface"
           }
          ],
          "table": [
           {
            "cells": {
             "fill": {
              "color": "#EBF0F8"
             },
             "line": {
              "color": "white"
             }
            },
            "header": {
             "fill": {
              "color": "#C8D4E3"
             },
             "line": {
              "color": "white"
             }
            },
            "type": "table"
           }
          ]
         },
         "layout": {
          "annotationdefaults": {
           "arrowcolor": "#2a3f5f",
           "arrowhead": 0,
           "arrowwidth": 1
          },
          "autotypenumbers": "strict",
          "coloraxis": {
           "colorbar": {
            "outlinewidth": 0,
            "ticks": ""
           }
          },
          "colorscale": {
           "diverging": [
            [
             0,
             "#8e0152"
            ],
            [
             0.1,
             "#c51b7d"
            ],
            [
             0.2,
             "#de77ae"
            ],
            [
             0.3,
             "#f1b6da"
            ],
            [
             0.4,
             "#fde0ef"
            ],
            [
             0.5,
             "#f7f7f7"
            ],
            [
             0.6,
             "#e6f5d0"
            ],
            [
             0.7,
             "#b8e186"
            ],
            [
             0.8,
             "#7fbc41"
            ],
            [
             0.9,
             "#4d9221"
            ],
            [
             1,
             "#276419"
            ]
           ],
           "sequential": [
            [
             0,
             "#0d0887"
            ],
            [
             0.1111111111111111,
             "#46039f"
            ],
            [
             0.2222222222222222,
             "#7201a8"
            ],
            [
             0.3333333333333333,
             "#9c179e"
            ],
            [
             0.4444444444444444,
             "#bd3786"
            ],
            [
             0.5555555555555556,
             "#d8576b"
            ],
            [
             0.6666666666666666,
             "#ed7953"
            ],
            [
             0.7777777777777778,
             "#fb9f3a"
            ],
            [
             0.8888888888888888,
             "#fdca26"
            ],
            [
             1,
             "#f0f921"
            ]
           ],
           "sequentialminus": [
            [
             0,
             "#0d0887"
            ],
            [
             0.1111111111111111,
             "#46039f"
            ],
            [
             0.2222222222222222,
             "#7201a8"
            ],
            [
             0.3333333333333333,
             "#9c179e"
            ],
            [
             0.4444444444444444,
             "#bd3786"
            ],
            [
             0.5555555555555556,
             "#d8576b"
            ],
            [
             0.6666666666666666,
             "#ed7953"
            ],
            [
             0.7777777777777778,
             "#fb9f3a"
            ],
            [
             0.8888888888888888,
             "#fdca26"
            ],
            [
             1,
             "#f0f921"
            ]
           ]
          },
          "colorway": [
           "#636efa",
           "#EF553B",
           "#00cc96",
           "#ab63fa",
           "#FFA15A",
           "#19d3f3",
           "#FF6692",
           "#B6E880",
           "#FF97FF",
           "#FECB52"
          ],
          "font": {
           "color": "#2a3f5f"
          },
          "geo": {
           "bgcolor": "white",
           "lakecolor": "white",
           "landcolor": "#E5ECF6",
           "showlakes": true,
           "showland": true,
           "subunitcolor": "white"
          },
          "hoverlabel": {
           "align": "left"
          },
          "hovermode": "closest",
          "mapbox": {
           "style": "light"
          },
          "paper_bgcolor": "white",
          "plot_bgcolor": "#E5ECF6",
          "polar": {
           "angularaxis": {
            "gridcolor": "white",
            "linecolor": "white",
            "ticks": ""
           },
           "bgcolor": "#E5ECF6",
           "radialaxis": {
            "gridcolor": "white",
            "linecolor": "white",
            "ticks": ""
           }
          },
          "scene": {
           "xaxis": {
            "backgroundcolor": "#E5ECF6",
            "gridcolor": "white",
            "gridwidth": 2,
            "linecolor": "white",
            "showbackground": true,
            "ticks": "",
            "zerolinecolor": "white"
           },
           "yaxis": {
            "backgroundcolor": "#E5ECF6",
            "gridcolor": "white",
            "gridwidth": 2,
            "linecolor": "white",
            "showbackground": true,
            "ticks": "",
            "zerolinecolor": "white"
           },
           "zaxis": {
            "backgroundcolor": "#E5ECF6",
            "gridcolor": "white",
            "gridwidth": 2,
            "linecolor": "white",
            "showbackground": true,
            "ticks": "",
            "zerolinecolor": "white"
           }
          },
          "shapedefaults": {
           "line": {
            "color": "#2a3f5f"
           }
          },
          "ternary": {
           "aaxis": {
            "gridcolor": "white",
            "linecolor": "white",
            "ticks": ""
           },
           "baxis": {
            "gridcolor": "white",
            "linecolor": "white",
            "ticks": ""
           },
           "bgcolor": "#E5ECF6",
           "caxis": {
            "gridcolor": "white",
            "linecolor": "white",
            "ticks": ""
           }
          },
          "title": {
           "x": 0.05
          },
          "xaxis": {
           "automargin": true,
           "gridcolor": "white",
           "linecolor": "white",
           "ticks": "",
           "title": {
            "standoff": 15
           },
           "zerolinecolor": "white",
           "zerolinewidth": 2
          },
          "yaxis": {
           "automargin": true,
           "gridcolor": "white",
           "linecolor": "white",
           "ticks": "",
           "title": {
            "standoff": 15
           },
           "zerolinecolor": "white",
           "zerolinewidth": 2
          }
         }
        },
        "title": {
         "text": "大學生是否參與太陽花學運次數分配"
        },
        "width": 800,
        "xaxis": {
         "anchor": "y",
         "categoryarray": [
          "有",
          "沒有"
         ],
         "categoryorder": "array",
         "domain": [
          0,
          1
         ],
         "title": {
          "text": "是否參與太陽花學運"
         }
        },
        "yaxis": {
         "anchor": "x",
         "domain": [
          0,
          1
         ],
         "title": {
          "text": "次數分配"
         }
        }
       }
      }
     },
     "metadata": {},
     "output_type": "display_data"
    }
   ],
   "source": [
    "df2 = df.groupby([\"Funflower_movement\"]).count().reset_index()\n",
    "\n",
    "fig2 = px.bar(df2, height=500, width=800,\n",
    "             y = df.groupby([\"Funflower_movement\"]).size(),\n",
    "             x = \"Funflower_movement\",\n",
    "             labels={\n",
    "                     \"Funflower_movement\":\"是否參與太陽花學運\",\n",
    "                     \"y\": \"次數分配\"},\n",
    "             color='Funflower_movement',\n",
    "             text = df.groupby([\"Funflower_movement\"]).size(),\n",
    "             title = '大學生是否參與太陽花學運次數分配')\n",
    "fig2.show()"
   ]
  },
  {
   "cell_type": "markdown",
   "metadata": {},
   "source": [
    "* Funflower_movement to dummy"
   ]
  },
  {
   "cell_type": "code",
   "execution_count": null,
   "metadata": {},
   "outputs": [],
   "source": [
    "def Funflower_num(q17):\n",
    "    if q17 == '從不(跳答R1題)':\n",
    "        return int(0)\n",
    "    elif q17 == '拒答':\n",
    "        return float('NaN')\n",
    "    else:\n",
    "        return int(1)"
   ]
  },
  {
   "cell_type": "code",
   "execution_count": null,
   "metadata": {},
   "outputs": [],
   "source": [
    "df['Funflower_movement_num'] = df['q17'].apply(Funflower_num)"
   ]
  },
  {
   "cell_type": "markdown",
   "metadata": {},
   "source": [
    "* Vote"
   ]
  },
  {
   "cell_type": "code",
   "execution_count": null,
   "metadata": {},
   "outputs": [
    {
     "data": {
      "text/plain": [
       "民進黨     347\n",
       "沒有去投    337\n",
       "國民黨     190\n",
       "無黨籍     119\n",
       "投廢票      45\n",
       "沒領票      30\n",
       "不知道      21\n",
       "拒答        3\n",
       "無投票權      2\n",
       "Name: q08, dtype: int64"
      ]
     },
     "execution_count": 31,
     "metadata": {},
     "output_type": "execute_result"
    }
   ],
   "source": [
    "df['q08'].value_counts()"
   ]
  },
  {
   "cell_type": "code",
   "execution_count": null,
   "metadata": {},
   "outputs": [],
   "source": [
    "def Vote(q08):\n",
    "    if q08 == '民進黨':\n",
    "        return '有'\n",
    "    elif q08 == '沒有去投':\n",
    "        return '沒有'\n",
    "    elif q08 == '國民黨':\n",
    "        return '有'\n",
    "    elif q08 == '無黨籍':\n",
    "        return '有'\n",
    "    elif q08 == '投廢票':\n",
    "        return '有'\n",
    "    elif q08 == '沒領票':\n",
    "        return '沒有'\n",
    "    else:\n",
    "        return float('NaN')"
   ]
  },
  {
   "cell_type": "markdown",
   "metadata": {},
   "source": [
    "### 家庭屬性"
   ]
  },
  {
   "cell_type": "markdown",
   "metadata": {},
   "source": [
    "* 主觀階級"
   ]
  },
  {
   "cell_type": "code",
   "execution_count": null,
   "metadata": {},
   "outputs": [
    {
     "data": {
      "text/plain": [
       "中等    659\n",
       "中下    245\n",
       "中上    133\n",
       "下層     55\n",
       "上層      2\n",
       "Name: u04, dtype: int64"
      ]
     },
     "execution_count": 33,
     "metadata": {},
     "output_type": "execute_result"
    }
   ],
   "source": [
    "df['u04'].value_counts()"
   ]
  },
  {
   "cell_type": "code",
   "execution_count": null,
   "metadata": {},
   "outputs": [],
   "source": [
    "# df3 = df.groupby([\"u04\"]).count().reset_index()\n",
    "\n",
    "# fig3 = px.bar(df, height=500, width=600,\n",
    "#              y = df.groupby([\"u04\"]).size(),\n",
    "#              x=\"u04\",\n",
    "#              color='u04',\n",
    "#              text = df.groupby([\"u04\"]).size(), \n",
    "#              title = '原生家庭社經階級')\n",
    "# fig3.show()"
   ]
  },
  {
   "cell_type": "code",
   "execution_count": null,
   "metadata": {},
   "outputs": [],
   "source": [
    "def Class(u04):\n",
    "    if u04 == '上層':\n",
    "        return (5)\n",
    "    elif u04 == '中上':\n",
    "        return int(4)\n",
    "    elif u04 == '中等':\n",
    "        return int(3)\n",
    "    elif u04 == '中下':\n",
    "        return int(2)\n",
    "    elif u04 == '下層':\n",
    "        return int(1)\n",
    "    else:\n",
    "        return float('NaN')"
   ]
  },
  {
   "cell_type": "code",
   "execution_count": null,
   "metadata": {},
   "outputs": [],
   "source": [
    "df['Fam_Class'] = df['u04'].apply(Class)"
   ]
  },
  {
   "cell_type": "code",
   "execution_count": null,
   "metadata": {},
   "outputs": [
    {
     "data": {
      "text/plain": [
       "3    659\n",
       "2    245\n",
       "4    133\n",
       "1     55\n",
       "5      2\n",
       "Name: Fam_Class, dtype: int64"
      ]
     },
     "execution_count": 37,
     "metadata": {},
     "output_type": "execute_result"
    }
   ],
   "source": [
    "df['Fam_Class'].value_counts()"
   ]
  },
  {
   "cell_type": "markdown",
   "metadata": {},
   "source": [
    "* 父母親收入"
   ]
  },
  {
   "cell_type": "code",
   "execution_count": null,
   "metadata": {},
   "outputs": [
    {
     "data": {
      "text/plain": [
       "50000-69999      203\n",
       "30000-49999      188\n",
       "70000-99999      175\n",
       "不知道              174\n",
       "100000-199999    125\n",
       "15000-29999      108\n",
       "沒有收入              40\n",
       "1-14999           35\n",
       "200000-300000     16\n",
       "300000以上          11\n",
       "拒答                10\n",
       "看情形                8\n",
       "漏填                 1\n",
       "Name: u13, dtype: int64"
      ]
     },
     "execution_count": 38,
     "metadata": {},
     "output_type": "execute_result"
    }
   ],
   "source": [
    "df['u13'].value_counts()"
   ]
  },
  {
   "cell_type": "code",
   "execution_count": null,
   "metadata": {},
   "outputs": [],
   "source": [
    "def Income(u13):\n",
    "    if u13 == '300000以上':\n",
    "        return int(8)\n",
    "    elif u13 == '200000-300000':\n",
    "        return int(7)\n",
    "    elif u13 == '100000-199999':\n",
    "        return int(6)\n",
    "    elif u13 == '70000-99999':\n",
    "        return int(5)\n",
    "    elif u13 == '50000-69999':\n",
    "        return int(4)\n",
    "    elif u13 == '30000-49999':\n",
    "        return int(3)    \n",
    "    elif u13 == '15000-29999':\n",
    "        return int(2)    \n",
    "    elif u13 == '1-14999':\n",
    "        return int(1)      \n",
    "    else:\n",
    "        return float('NaN')"
   ]
  },
  {
   "cell_type": "code",
   "execution_count": null,
   "metadata": {},
   "outputs": [],
   "source": [
    "df['Fam_Income'] = df['u13'].apply(Income)"
   ]
  },
  {
   "cell_type": "markdown",
   "metadata": {},
   "source": [
    "### 控制變數"
   ]
  },
  {
   "cell_type": "markdown",
   "metadata": {},
   "source": [
    "* 性別"
   ]
  },
  {
   "cell_type": "code",
   "execution_count": null,
   "metadata": {},
   "outputs": [
    {
     "data": {
      "text/plain": [
       "女性    548\n",
       "男性    546\n",
       "Name: sex, dtype: int64"
      ]
     },
     "execution_count": 41,
     "metadata": {},
     "output_type": "execute_result"
    }
   ],
   "source": [
    "df['sex'].value_counts()"
   ]
  },
  {
   "cell_type": "code",
   "execution_count": null,
   "metadata": {},
   "outputs": [],
   "source": [
    "def Sex(sex):\n",
    "    if sex == '女性':\n",
    "        return int(0)\n",
    "    elif sex == '男性':\n",
    "        return int(1)\n",
    "    else:\n",
    "        return float('NaN')"
   ]
  },
  {
   "cell_type": "code",
   "execution_count": null,
   "metadata": {},
   "outputs": [],
   "source": [
    "df['Sex'] = df['sex'].apply(Sex)"
   ]
  },
  {
   "cell_type": "code",
   "execution_count": null,
   "metadata": {},
   "outputs": [
    {
     "data": {
      "text/plain": [
       "0    548\n",
       "1    546\n",
       "Name: Sex, dtype: int64"
      ]
     },
     "execution_count": 44,
     "metadata": {},
     "output_type": "execute_result"
    }
   ],
   "source": [
    "df['Sex'].value_counts()"
   ]
  },
  {
   "cell_type": "markdown",
   "metadata": {},
   "source": [
    "* 年齡"
   ]
  },
  {
   "cell_type": "code",
   "execution_count": null,
   "metadata": {},
   "outputs": [
    {
     "data": {
      "text/plain": [
       "22.0    691\n",
       "23.0    364\n",
       "24.0     15\n",
       "無反應      11\n",
       "25.0      7\n",
       "21.0      2\n",
       "26.0      1\n",
       "27.0      1\n",
       "28.0      1\n",
       "29.0      1\n",
       "Name: age, dtype: int64"
      ]
     },
     "execution_count": 45,
     "metadata": {},
     "output_type": "execute_result"
    }
   ],
   "source": [
    "df['age'].value_counts()"
   ]
  },
  {
   "cell_type": "code",
   "execution_count": null,
   "metadata": {},
   "outputs": [],
   "source": [
    "def Age(age):\n",
    "    if age == 22.0:\n",
    "        return int(22.0)\n",
    "    elif age == 23.0:\n",
    "        return int(23.0)\n",
    "    elif age == 24.0:\n",
    "        return int(24.0)\n",
    "    elif age == 25.0:\n",
    "        return int(25.0)\n",
    "    elif age == 21.0:\n",
    "        return int(21.0)\n",
    "    elif age == 26.0:\n",
    "        return int(26.0)\n",
    "    elif age == 27.0:\n",
    "        return int(27.0)\n",
    "    elif age == 28.0:\n",
    "        return int(28.0)\n",
    "    elif age == 29.0:\n",
    "        return int(29.0)\n",
    "    else:\n",
    "        return float('NaN')"
   ]
  },
  {
   "cell_type": "code",
   "execution_count": null,
   "metadata": {},
   "outputs": [],
   "source": [
    "df['Age'] = df['age'].apply(Age)"
   ]
  },
  {
   "cell_type": "code",
   "execution_count": null,
   "metadata": {},
   "outputs": [
    {
     "data": {
      "text/plain": [
       "22.0    691\n",
       "23.0    364\n",
       "24.0     15\n",
       "25.0      7\n",
       "21.0      2\n",
       "28.0      1\n",
       "26.0      1\n",
       "27.0      1\n",
       "29.0      1\n",
       "Name: Age, dtype: int64"
      ]
     },
     "execution_count": 48,
     "metadata": {},
     "output_type": "execute_result"
    }
   ],
   "source": [
    "df['Age'].value_counts()"
   ]
  },
  {
   "cell_type": "markdown",
   "metadata": {},
   "source": [
    "* 政黨三分類"
   ]
  },
  {
   "cell_type": "code",
   "execution_count": null,
   "metadata": {},
   "outputs": [
    {
     "data": {
      "text/plain": [
       "中立無傾向       546\n",
       "泛綠          302\n",
       "泛藍          226\n",
       "無反應及其他政黨     20\n",
       "Name: partyid3, dtype: int64"
      ]
     },
     "execution_count": 49,
     "metadata": {},
     "output_type": "execute_result"
    }
   ],
   "source": [
    "df['partyid3'].value_counts()"
   ]
  },
  {
   "cell_type": "code",
   "execution_count": null,
   "metadata": {},
   "outputs": [],
   "source": [
    "def party(partyid3):\n",
    "    if partyid3 == '泛藍':\n",
    "        return str('泛藍')\n",
    "    elif partyid3 == '泛綠':\n",
    "        return str('泛綠')\n",
    "    elif partyid3 == '中立無傾向':\n",
    "        return str('中立無傾向')\n",
    "    else:\n",
    "        return float('NaN')"
   ]
  },
  {
   "cell_type": "code",
   "execution_count": null,
   "metadata": {},
   "outputs": [],
   "source": [
    "df['Party3'] = df['partyid3'].apply(party)"
   ]
  },
  {
   "cell_type": "markdown",
   "metadata": {},
   "source": [
    "* 統獨三分類"
   ]
  },
  {
   "cell_type": "code",
   "execution_count": null,
   "metadata": {},
   "outputs": [
    {
     "data": {
      "text/plain": [
       "傾向獨立      556\n",
       "傾向維持現狀    442\n",
       "傾向統一       78\n",
       "無反應        18\n",
       "Name: tondu3, dtype: int64"
      ]
     },
     "execution_count": 52,
     "metadata": {},
     "output_type": "execute_result"
    }
   ],
   "source": [
    "df['tondu3'].value_counts()"
   ]
  },
  {
   "cell_type": "code",
   "execution_count": null,
   "metadata": {},
   "outputs": [],
   "source": [
    "def tondu(tondu3):\n",
    "    if tondu3 == '傾向獨立':\n",
    "        return str('傾向獨立')\n",
    "    elif tondu3 == '傾向維持現狀':\n",
    "        return str('傾向維持現狀')\n",
    "    elif tondu3 == '傾向統一':\n",
    "        return str('傾向統一')\n",
    "    else:\n",
    "        return float('NaN')"
   ]
  },
  {
   "cell_type": "code",
   "execution_count": null,
   "metadata": {},
   "outputs": [],
   "source": [
    "df['Tondu3'] = df['tondu3'].apply(tondu)"
   ]
  },
  {
   "cell_type": "code",
   "execution_count": null,
   "metadata": {},
   "outputs": [
    {
     "data": {
      "text/plain": [
       "傾向獨立      556\n",
       "傾向維持現狀    442\n",
       "傾向統一       78\n",
       "Name: Tondu3, dtype: int64"
      ]
     },
     "execution_count": 55,
     "metadata": {},
     "output_type": "execute_result"
    }
   ],
   "source": [
    "df['Tondu3'].value_counts()"
   ]
  },
  {
   "cell_type": "markdown",
   "metadata": {},
   "source": [
    "* 台灣人/中國人認同"
   ]
  },
  {
   "cell_type": "code",
   "execution_count": null,
   "metadata": {},
   "outputs": [
    {
     "data": {
      "text/plain": [
       "臺灣人    945\n",
       "都是     130\n",
       "中國人     13\n",
       "無反應      6\n",
       "Name: t_cidentity, dtype: int64"
      ]
     },
     "execution_count": 56,
     "metadata": {},
     "output_type": "execute_result"
    }
   ],
   "source": [
    "df['t_cidentity'].value_counts()"
   ]
  },
  {
   "cell_type": "code",
   "execution_count": null,
   "metadata": {},
   "outputs": [],
   "source": [
    "def TC_identity(t_cidentity):\n",
    "    if t_cidentity == '臺灣人':\n",
    "        return str('臺灣人')\n",
    "    elif t_cidentity == '都是':\n",
    "        return str('都是')\n",
    "    elif t_cidentity == '中國人':\n",
    "        return str('中國人')\n",
    "    else:\n",
    "        return float('NaN')"
   ]
  },
  {
   "cell_type": "code",
   "execution_count": null,
   "metadata": {},
   "outputs": [],
   "source": [
    "df['TC_identity'] = df['t_cidentity'].apply(TC_identity)"
   ]
  },
  {
   "cell_type": "code",
   "execution_count": null,
   "metadata": {},
   "outputs": [
    {
     "data": {
      "text/plain": [
       "臺灣人    945\n",
       "都是     130\n",
       "中國人     13\n",
       "Name: TC_identity, dtype: int64"
      ]
     },
     "execution_count": 59,
     "metadata": {},
     "output_type": "execute_result"
    }
   ],
   "source": [
    "df['TC_identity'].value_counts()"
   ]
  },
  {
   "cell_type": "markdown",
   "metadata": {},
   "source": [
    "* 政治興趣"
   ]
  },
  {
   "cell_type": "code",
   "execution_count": null,
   "metadata": {},
   "outputs": [
    {
     "data": {
      "text/plain": [
       "不太有興趣    551\n",
       "有點興趣     333\n",
       "非常沒興趣    166\n",
       "非常有興趣     44\n",
       "Name: q01, dtype: int64"
      ]
     },
     "execution_count": 60,
     "metadata": {},
     "output_type": "execute_result"
    }
   ],
   "source": [
    "df['q01'].value_counts()"
   ]
  },
  {
   "cell_type": "code",
   "execution_count": null,
   "metadata": {},
   "outputs": [],
   "source": [
    "def pp_interest(q01):\n",
    "    if q01 == '不太有興趣':\n",
    "        return int(0)\n",
    "    elif q01 == '非常沒興趣':\n",
    "        return int(0)\n",
    "    elif q01 == '有點興趣':\n",
    "        return int(1)\n",
    "    elif q01 == '非常有興趣':\n",
    "        return int(1)\n",
    "    else:\n",
    "        return float('NaN')"
   ]
  },
  {
   "cell_type": "code",
   "execution_count": null,
   "metadata": {},
   "outputs": [],
   "source": [
    "df['Political_Interest'] = df['q01'].apply(pp_interest)"
   ]
  },
  {
   "cell_type": "code",
   "execution_count": null,
   "metadata": {},
   "outputs": [
    {
     "data": {
      "text/plain": [
       "0    717\n",
       "1    377\n",
       "Name: Political_Interest, dtype: int64"
      ]
     },
     "execution_count": 63,
     "metadata": {},
     "output_type": "execute_result"
    }
   ],
   "source": [
    "df['Political_Interest'].value_counts()"
   ]
  },
  {
   "cell_type": "markdown",
   "metadata": {},
   "source": [
    "* 對中國態度"
   ]
  },
  {
   "cell_type": "code",
   "execution_count": null,
   "metadata": {},
   "outputs": [
    {
     "data": {
      "text/plain": [
       "不友善      677\n",
       "友善       247\n",
       "非常不友善    155\n",
       "非常友善      14\n",
       "不知道        1\n",
       "Name: p01, dtype: int64"
      ]
     },
     "execution_count": 64,
     "metadata": {},
     "output_type": "execute_result"
    }
   ],
   "source": [
    "df['p01'].value_counts()"
   ]
  },
  {
   "cell_type": "code",
   "execution_count": null,
   "metadata": {},
   "outputs": [],
   "source": [
    "def CN_attitude(p01):\n",
    "    if p01 == '非常不友善':\n",
    "        return int(1)\n",
    "    elif p01 == '不友善':\n",
    "        return int(2)\n",
    "    elif p01 == '友善':\n",
    "        return int(3)\n",
    "    elif p01 == '非常友善':\n",
    "        return int(4)\n",
    "    else:\n",
    "        return float('NaN')"
   ]
  },
  {
   "cell_type": "code",
   "execution_count": null,
   "metadata": {},
   "outputs": [],
   "source": [
    "df['CN_attitude'] = df['p01'].apply(CN_attitude)"
   ]
  },
  {
   "cell_type": "code",
   "execution_count": null,
   "metadata": {},
   "outputs": [
    {
     "data": {
      "text/plain": [
       "2.0    677\n",
       "3.0    247\n",
       "1.0    155\n",
       "4.0     14\n",
       "Name: CN_attitude, dtype: int64"
      ]
     },
     "execution_count": 67,
     "metadata": {},
     "output_type": "execute_result"
    }
   ],
   "source": [
    "df['CN_attitude'].value_counts()"
   ]
  },
  {
   "cell_type": "markdown",
   "metadata": {},
   "source": [
    "* 父親 / 母親職業 -> 是否受雇於政府部門有影響"
   ]
  },
  {
   "cell_type": "code",
   "execution_count": null,
   "metadata": {},
   "outputs": [
    {
     "data": {
      "text/plain": [
       "私部門管理階層及專業人員    312\n",
       "私部門勞工           231\n",
       "私部門職員           190\n",
       "軍公教人員           177\n",
       "其他              137\n",
       "農林漁牧             33\n",
       "家管               14\n",
       "Name: fcareer8, dtype: int64"
      ]
     },
     "execution_count": 68,
     "metadata": {},
     "output_type": "execute_result"
    }
   ],
   "source": [
    "df['fcareer8'].value_counts()"
   ]
  },
  {
   "cell_type": "code",
   "execution_count": null,
   "metadata": {},
   "outputs": [],
   "source": [
    "def career_dummy(fcareer8):\n",
    "    if fcareer8 == '軍公教人員':\n",
    "        return int(1)\n",
    "    elif fcareer8 == '私部門管理階層及專業人員':\n",
    "        return int(0)\n",
    "    elif fcareer8 == '私部門勞工':\n",
    "        return int(0)\n",
    "    elif fcareer8 == '私部門職員':\n",
    "        return int(0)\n",
    "    elif fcareer8 == '其他':\n",
    "        return int(0)\n",
    "    elif fcareer8 == '農林漁牧':\n",
    "        return int(0)   \n",
    "    elif fcareer8 == '家管':\n",
    "        return int(0) \n",
    "    else:\n",
    "        return float('NaN')"
   ]
  },
  {
   "cell_type": "code",
   "execution_count": null,
   "metadata": {},
   "outputs": [],
   "source": [
    "df['Fcareer'] = df['fcareer8'].apply(career_dummy)"
   ]
  },
  {
   "cell_type": "code",
   "execution_count": null,
   "metadata": {},
   "outputs": [
    {
     "data": {
      "text/plain": [
       "0    917\n",
       "1    177\n",
       "Name: Fcareer, dtype: int64"
      ]
     },
     "execution_count": 71,
     "metadata": {},
     "output_type": "execute_result"
    }
   ],
   "source": [
    "df['Fcareer'].value_counts()"
   ]
  },
  {
   "cell_type": "code",
   "execution_count": null,
   "metadata": {},
   "outputs": [
    {
     "data": {
      "text/plain": [
       "家管              351\n",
       "私部門職員           239\n",
       "私部門勞工           132\n",
       "私部門管理階層及專業人員    129\n",
       "軍公教人員           124\n",
       "其他              104\n",
       "農林漁牧             15\n",
       "Name: mcareer8, dtype: int64"
      ]
     },
     "execution_count": 72,
     "metadata": {},
     "output_type": "execute_result"
    }
   ],
   "source": [
    "df['mcareer8'].value_counts()"
   ]
  },
  {
   "cell_type": "code",
   "execution_count": null,
   "metadata": {},
   "outputs": [],
   "source": [
    "df['Mcareer'] = df['mcareer8'].apply(career_dummy)"
   ]
  },
  {
   "cell_type": "code",
   "execution_count": null,
   "metadata": {},
   "outputs": [
    {
     "data": {
      "text/plain": [
       "0    970\n",
       "1    124\n",
       "Name: Mcareer, dtype: int64"
      ]
     },
     "execution_count": 74,
     "metadata": {},
     "output_type": "execute_result"
    }
   ],
   "source": [
    "df['Mcareer'].value_counts()"
   ]
  },
  {
   "cell_type": "markdown",
   "metadata": {},
   "source": [
    "* 城鄉差距 - 高中居住縣市"
   ]
  },
  {
   "cell_type": "code",
   "execution_count": null,
   "metadata": {},
   "outputs": [
    {
     "data": {
      "text/plain": [
       "臺北市    207\n",
       "新北市    181\n",
       "臺中市    128\n",
       "高雄市    117\n",
       "臺南市     87\n",
       "彰化縣     62\n",
       "桃園市     56\n",
       "新竹市     41\n",
       "桃園縣     36\n",
       "宜蘭縣     30\n",
       "嘉義市     24\n",
       "新竹縣     18\n",
       "苗栗縣     17\n",
       "雲林縣     16\n",
       "屏東縣     14\n",
       "基隆市     12\n",
       "嘉義縣     11\n",
       "臺東縣     11\n",
       "花蓮縣     11\n",
       "南投縣     11\n",
       "澎湖縣      2\n",
       "越南       1\n",
       "金門縣      1\n",
       "Name: u10, dtype: int64"
      ]
     },
     "execution_count": 75,
     "metadata": {},
     "output_type": "execute_result"
    }
   ],
   "source": [
    "df['u10'].value_counts()"
   ]
  },
  {
   "cell_type": "code",
   "execution_count": null,
   "metadata": {},
   "outputs": [],
   "source": [
    "def living_city(u10):\n",
    "    if u10 == '臺北市':\n",
    "        return int(1)\n",
    "    else:\n",
    "        return int(0)"
   ]
  },
  {
   "cell_type": "code",
   "execution_count": null,
   "metadata": {},
   "outputs": [],
   "source": [
    "df['LivingCity'] = df['u10'].apply(living_city)"
   ]
  },
  {
   "cell_type": "code",
   "execution_count": null,
   "metadata": {},
   "outputs": [
    {
     "data": {
      "text/plain": [
       "0    887\n",
       "1    207\n",
       "Name: LivingCity, dtype: int64"
      ]
     },
     "execution_count": 78,
     "metadata": {},
     "output_type": "execute_result"
    }
   ],
   "source": [
    "df['LivingCity'].value_counts()"
   ]
  },
  {
   "cell_type": "markdown",
   "metadata": {},
   "source": [
    "* 父親 / 母親教育程度"
   ]
  },
  {
   "cell_type": "code",
   "execution_count": null,
   "metadata": {},
   "outputs": [
    {
     "data": {
      "text/plain": [
       "高中、職     406\n",
       "大學及以上    239\n",
       "專科       204\n",
       "國、初中     153\n",
       "小學及以下     57\n",
       "無反應       35\n",
       "Name: fedu, dtype: int64"
      ]
     },
     "execution_count": 79,
     "metadata": {},
     "output_type": "execute_result"
    }
   ],
   "source": [
    "df['fedu'].value_counts()"
   ]
  },
  {
   "cell_type": "code",
   "execution_count": null,
   "metadata": {},
   "outputs": [],
   "source": [
    "def fa_edu(fedu):\n",
    "    if fedu == '大學及以上':\n",
    "        return int(1)\n",
    "    else:\n",
    "        return int(0)"
   ]
  },
  {
   "cell_type": "code",
   "execution_count": null,
   "metadata": {},
   "outputs": [],
   "source": [
    "df['Fa_Edu'] = df['fedu'].apply(fa_edu)"
   ]
  },
  {
   "cell_type": "code",
   "execution_count": null,
   "metadata": {},
   "outputs": [
    {
     "data": {
      "text/plain": [
       "0    855\n",
       "1    239\n",
       "Name: Fa_Edu, dtype: int64"
      ]
     },
     "execution_count": 82,
     "metadata": {},
     "output_type": "execute_result"
    }
   ],
   "source": [
    "df['Fa_Edu'].value_counts()"
   ]
  },
  {
   "cell_type": "code",
   "execution_count": null,
   "metadata": {},
   "outputs": [
    {
     "data": {
      "text/plain": [
       "高中、職     494\n",
       "專科       166\n",
       "大學及以上    165\n",
       "國、初中     154\n",
       "小學及以下     80\n",
       "無反應       35\n",
       "Name: medu, dtype: int64"
      ]
     },
     "execution_count": 83,
     "metadata": {},
     "output_type": "execute_result"
    }
   ],
   "source": [
    "df['medu'].value_counts()"
   ]
  },
  {
   "cell_type": "code",
   "execution_count": null,
   "metadata": {},
   "outputs": [],
   "source": [
    "df['Ma_Edu'] = df['medu'].apply(fa_edu)"
   ]
  },
  {
   "cell_type": "code",
   "execution_count": null,
   "metadata": {},
   "outputs": [
    {
     "data": {
      "text/plain": [
       "0    929\n",
       "1    165\n",
       "Name: Ma_Edu, dtype: int64"
      ]
     },
     "execution_count": 85,
     "metadata": {},
     "output_type": "execute_result"
    }
   ],
   "source": [
    "df['Ma_Edu'].value_counts()"
   ]
  },
  {
   "cell_type": "markdown",
   "metadata": {},
   "source": [
    "* 父親 / 母親省籍"
   ]
  },
  {
   "cell_type": "code",
   "execution_count": null,
   "metadata": {},
   "outputs": [
    {
     "data": {
      "text/plain": [
       "本省閩南人     815\n",
       "本省客家人     128\n",
       "大陸各省市人     80\n",
       "無反應及其他     55\n",
       "原住民        16\n",
       "Name: sengi, dtype: int64"
      ]
     },
     "execution_count": 86,
     "metadata": {},
     "output_type": "execute_result"
    }
   ],
   "source": [
    "df['sengi'].value_counts()"
   ]
  },
  {
   "cell_type": "code",
   "execution_count": null,
   "metadata": {},
   "outputs": [],
   "source": [
    "def recode_sengi(sengi):\n",
    "    if sengi == '本省閩南人':\n",
    "        return str('本省閩南人')\n",
    "    elif sengi == '本省客家人':\n",
    "        return str('本省客家人')\n",
    "    elif sengi == '大陸各省市人':\n",
    "        return str('大陸各省市人')\n",
    "    else:\n",
    "        return float('NaN')"
   ]
  },
  {
   "cell_type": "code",
   "execution_count": null,
   "metadata": {},
   "outputs": [],
   "source": [
    "df['Fa_Sengi'] = df['sengi'].apply(recode_sengi)"
   ]
  },
  {
   "cell_type": "code",
   "execution_count": null,
   "metadata": {},
   "outputs": [
    {
     "data": {
      "text/plain": [
       "本省閩南人     815\n",
       "本省客家人     128\n",
       "大陸各省市人     80\n",
       "Name: Fa_Sengi, dtype: int64"
      ]
     },
     "execution_count": 89,
     "metadata": {},
     "output_type": "execute_result"
    }
   ],
   "source": [
    "df['Fa_Sengi'].value_counts()"
   ]
  },
  {
   "cell_type": "code",
   "execution_count": null,
   "metadata": {},
   "outputs": [
    {
     "data": {
      "text/plain": [
       "本省閩南人     830\n",
       "本省客家人     120\n",
       "大陸各省市人     66\n",
       "無反應及其他     54\n",
       "原住民        24\n",
       "Name: msengi, dtype: int64"
      ]
     },
     "execution_count": 90,
     "metadata": {},
     "output_type": "execute_result"
    }
   ],
   "source": [
    "df['msengi'].value_counts()"
   ]
  },
  {
   "cell_type": "code",
   "execution_count": null,
   "metadata": {},
   "outputs": [],
   "source": [
    "df['Ma_Sengi'] = df['msengi'].apply(recode_sengi)"
   ]
  },
  {
   "cell_type": "code",
   "execution_count": null,
   "metadata": {},
   "outputs": [
    {
     "data": {
      "text/plain": [
       "本省閩南人     830\n",
       "本省客家人     120\n",
       "大陸各省市人     66\n",
       "Name: Ma_Sengi, dtype: int64"
      ]
     },
     "execution_count": 92,
     "metadata": {},
     "output_type": "execute_result"
    }
   ],
   "source": [
    "df['Ma_Sengi'].value_counts()"
   ]
  },
  {
   "cell_type": "markdown",
   "metadata": {},
   "source": [
    "* 政治相關課程學分數"
   ]
  },
  {
   "cell_type": "code",
   "execution_count": null,
   "metadata": {},
   "outputs": [
    {
     "data": {
      "text/plain": [
       "0.0    1009\n",
       "2.0      53\n",
       "3.0      18\n",
       "4.0       5\n",
       "1.0       4\n",
       "不知道       3\n",
       "6.0       1\n",
       "漏填        1\n",
       "Name: b9c, dtype: int64"
      ]
     },
     "execution_count": 93,
     "metadata": {},
     "output_type": "execute_result"
    }
   ],
   "source": [
    "df['b9c'].value_counts()"
   ]
  },
  {
   "cell_type": "code",
   "execution_count": null,
   "metadata": {},
   "outputs": [],
   "source": [
    "def b9a(b9a):\n",
    "    if b9a == 0.0:\n",
    "        return int(0)\n",
    "    elif b9a == 1.0:\n",
    "        return int(1)\n",
    "    elif b9a == 2.0:\n",
    "        return int(2)\n",
    "    elif b9a == 3.0:\n",
    "        return int(3)\n",
    "    elif b9a == 4.0:\n",
    "        return int(4)\n",
    "    elif b9a == 5.0:\n",
    "        return int(5)\n",
    "    elif b9a == 6.0:\n",
    "        return int(6)\n",
    "    elif b9a == 7.0:\n",
    "        return int(7)\n",
    "    else:\n",
    "        return float('NaN')"
   ]
  },
  {
   "cell_type": "code",
   "execution_count": null,
   "metadata": {},
   "outputs": [],
   "source": [
    "def b9b(b9b):\n",
    "    if b9b == 0.0:\n",
    "        return int(0)\n",
    "    elif b9b == 1.0:\n",
    "        return int(1)\n",
    "    elif b9b == 2.0:\n",
    "        return int(2)\n",
    "    elif b9b == 3.0:\n",
    "        return int(3)\n",
    "    elif b9b == 4.0:\n",
    "        return int(4)\n",
    "    elif b9b == 5.0:\n",
    "        return int(5)\n",
    "    elif b9b == 6.0:\n",
    "        return int(6)\n",
    "    elif b9b == 7.0:\n",
    "        return int(7)\n",
    "    elif b9b == 8.0:\n",
    "        return int(8)\n",
    "    elif b9b == 9.0:\n",
    "        return int(9)\n",
    "    elif b9b == 10.0:\n",
    "        return int(10)\n",
    "    elif b9b == 18.0:\n",
    "        return int(18)\n",
    "    elif b9b == 26.0:\n",
    "        return int(26)\n",
    "    elif b9b == 36.0:\n",
    "        return int(36)\n",
    "    else:\n",
    "        return float('NaN')"
   ]
  },
  {
   "cell_type": "code",
   "execution_count": null,
   "metadata": {},
   "outputs": [],
   "source": [
    "def b9c(b9c):\n",
    "    if b9c == 0.0:\n",
    "        return int(0)\n",
    "    elif b9c == 1.0:\n",
    "        return int(1)\n",
    "    elif b9c == 2.0:\n",
    "        return int(2)\n",
    "    elif b9c == 3.0:\n",
    "        return int(3)\n",
    "    elif b9c == 4.0:\n",
    "        return int(4)\n",
    "    elif b9c == 6.0:\n",
    "        return int(6)\n",
    "    else:\n",
    "        return float('NaN')"
   ]
  },
  {
   "cell_type": "code",
   "execution_count": null,
   "metadata": {},
   "outputs": [],
   "source": [
    "df['re_b9a'] = df['b9a'].apply(b9a)\n",
    "df['re_b9b'] = df['b9b'].apply(b9b)\n",
    "df['re_b9c'] = df['b9c'].apply(b9c)"
   ]
  },
  {
   "cell_type": "code",
   "execution_count": null,
   "metadata": {},
   "outputs": [],
   "source": [
    "df['Credit'] = df['re_b9a'] + df['re_b9b'] + df['re_b9c']"
   ]
  },
  {
   "cell_type": "markdown",
   "metadata": {},
   "source": [
    "* 政治效能感"
   ]
  },
  {
   "cell_type": "code",
   "execution_count": null,
   "metadata": {},
   "outputs": [],
   "source": [
    "def PE(j01):\n",
    "    if j01 == '非常同意':\n",
    "        return int(0)\n",
    "    elif j01 == '有點同意':\n",
    "        return int(1)\n",
    "    elif j01 == '不太同意':\n",
    "        return int(2)\n",
    "    elif j01 == '非常不同意':\n",
    "        return int(3)\n",
    "    else:\n",
    "        return float('NaN')"
   ]
  },
  {
   "cell_type": "code",
   "execution_count": null,
   "metadata": {},
   "outputs": [],
   "source": [
    "df['re_j01'] = df['j01'].apply(PE)\n",
    "df['re_j02'] = df['j02'].apply(PE)\n",
    "df['re_j03'] = df['j03'].apply(PE)"
   ]
  },
  {
   "cell_type": "code",
   "execution_count": null,
   "metadata": {},
   "outputs": [],
   "source": [
    "df['Political_Efficacy'] = df['re_j01'].astype(int) + df['re_j02'].astype(int) + df['re_j03'].astype(int)"
   ]
  },
  {
   "cell_type": "markdown",
   "metadata": {},
   "source": [
    "* 臉書使用"
   ]
  },
  {
   "cell_type": "code",
   "execution_count": null,
   "metadata": {},
   "outputs": [],
   "source": [
    "def facebook(q11):\n",
    "    if q11 == '時常':\n",
    "        return int(4)\n",
    "    elif q11 == '有時':\n",
    "        return int(3)\n",
    "    elif q11 == '很少':\n",
    "        return int(2)\n",
    "    elif q11 == '從不':\n",
    "        return int(1)\n",
    "    else:\n",
    "        return float('NaN')  "
   ]
  },
  {
   "cell_type": "code",
   "execution_count": null,
   "metadata": {},
   "outputs": [],
   "source": [
    "df['re_q11'] = df['q11'].apply(facebook)\n",
    "df['re_q12'] = df['q12'].apply(facebook)\n",
    "df['re_q13'] = df['q13'].apply(facebook)\n",
    "df['re_q14'] = df['q14'].apply(facebook)\n",
    "df['re_q15'] = df['q15'].apply(facebook)\n",
    "df['re_q16'] = df['q16'].apply(facebook)"
   ]
  },
  {
   "cell_type": "code",
   "execution_count": null,
   "metadata": {},
   "outputs": [],
   "source": [
    "df['Facebook'] = df['re_q11'] + df['re_q12'] + df['re_q13'] + df['re_q14'] + df['re_q15'] + df['re_q16']"
   ]
  },
  {
   "cell_type": "code",
   "execution_count": null,
   "metadata": {},
   "outputs": [
    {
     "data": {
      "text/plain": [
       "8.0     125\n",
       "9.0     102\n",
       "10.0     87\n",
       "7.0      84\n",
       "11.0     81\n",
       "12.0     80\n",
       "14.0     73\n",
       "13.0     71\n",
       "15.0     62\n",
       "6.0      61\n",
       "16.0     55\n",
       "17.0     47\n",
       "18.0     44\n",
       "19.0     41\n",
       "21.0     19\n",
       "24.0     19\n",
       "22.0     15\n",
       "20.0     15\n",
       "23.0     11\n",
       "Name: Facebook, dtype: int64"
      ]
     },
     "execution_count": 105,
     "metadata": {},
     "output_type": "execute_result"
    }
   ],
   "source": [
    "df['Facebook'].value_counts()"
   ]
  },
  {
   "cell_type": "markdown",
   "metadata": {},
   "source": [
    "* 媒體使用"
   ]
  },
  {
   "cell_type": "code",
   "execution_count": null,
   "metadata": {},
   "outputs": [],
   "source": [
    "def news(a1a):\n",
    "    if a1a == '時常':\n",
    "        return int(4)\n",
    "    elif a1a == '有時':\n",
    "        return int(3)\n",
    "    elif a1a == '很少':\n",
    "        return int(2)\n",
    "    elif a1a == '從不':\n",
    "        return int(1)\n",
    "    else:\n",
    "        return float('NaN')  "
   ]
  },
  {
   "cell_type": "code",
   "execution_count": null,
   "metadata": {},
   "outputs": [],
   "source": [
    "df['re_a1a'] = df['a1a'].apply(news)\n",
    "df['re_a1b'] = df['a1b'].apply(news)\n",
    "df['re_a1c'] = df['a1c'].apply(news)\n",
    "df['re_a1d'] = df['a1d'].apply(news)\n",
    "df['re_a1e'] = df['a1e'].apply(news)"
   ]
  },
  {
   "cell_type": "code",
   "execution_count": null,
   "metadata": {},
   "outputs": [
    {
     "data": {
      "text/plain": [
       "numpy.int64"
      ]
     },
     "execution_count": 108,
     "metadata": {},
     "output_type": "execute_result"
    }
   ],
   "source": [
    "type(df['re_a1a'][0])"
   ]
  },
  {
   "cell_type": "code",
   "execution_count": null,
   "metadata": {},
   "outputs": [],
   "source": [
    "df['News'] = df['re_a1a'].astype(int) + df['re_a1b'].astype(int) + df['re_a1c'].astype(int) + df['re_a1d'].astype(int) + df['re_a1e'].astype(int) "
   ]
  },
  {
   "cell_type": "code",
   "execution_count": null,
   "metadata": {},
   "outputs": [
    {
     "data": {
      "text/plain": [
       "11    166\n",
       "12    160\n",
       "13    152\n",
       "10    134\n",
       "14    120\n",
       "15     99\n",
       "9      82\n",
       "16     57\n",
       "8      42\n",
       "17     35\n",
       "7      20\n",
       "18     10\n",
       "6       6\n",
       "5       4\n",
       "19      4\n",
       "20      3\n",
       "Name: News, dtype: int64"
      ]
     },
     "execution_count": 110,
     "metadata": {},
     "output_type": "execute_result"
    }
   ],
   "source": [
    "df['News'].value_counts()"
   ]
  },
  {
   "cell_type": "markdown",
   "metadata": {},
   "source": [
    "* 社團參與"
   ]
  },
  {
   "cell_type": "code",
   "execution_count": null,
   "metadata": {},
   "outputs": [
    {
     "data": {
      "text/plain": [
       "是     728\n",
       "否     365\n",
       "漏填      1\n",
       "Name: b8b, dtype: int64"
      ]
     },
     "execution_count": 111,
     "metadata": {},
     "output_type": "execute_result"
    }
   ],
   "source": [
    "df['b8b'].value_counts()"
   ]
  },
  {
   "cell_type": "code",
   "execution_count": null,
   "metadata": {},
   "outputs": [],
   "source": [
    "def Club(b8b):\n",
    "    if b8b == '是':\n",
    "        return int(1)\n",
    "    elif b8b == '否':\n",
    "        return int(0)\n",
    "    else:\n",
    "        return float('NaN')"
   ]
  },
  {
   "cell_type": "code",
   "execution_count": null,
   "metadata": {},
   "outputs": [],
   "source": [
    "df['Club'] = df['b8b'].apply(Club)"
   ]
  },
  {
   "cell_type": "code",
   "execution_count": null,
   "metadata": {},
   "outputs": [
    {
     "data": {
      "text/plain": [
       "1.0    728\n",
       "0.0    365\n",
       "Name: Club, dtype: int64"
      ]
     },
     "execution_count": 114,
     "metadata": {},
     "output_type": "execute_result"
    }
   ],
   "source": [
    "df['Club'].value_counts()"
   ]
  },
  {
   "cell_type": "markdown",
   "metadata": {},
   "source": [
    "## 模型先驗假設定\n",
    "Doc：\n",
    "https://www.statsmodels.org/devel/regression.html </br>\n",
    "OLS：\n",
    "https://datatofish.com/statsmodels-linear-regression/ </br>\n",
    "Logit：\n",
    "https://www.geeksforgeeks.org/logistic-regression-using-statsmodels/ </br>\n",
    "Ordered Logit：\n",
    "https://www.statsmodels.org/dev/examples/notebooks/generated/ordinal_regression.html</br>\n",
    "moderator–mediator：\n",
    "https://pypi.org/project/PyProcessMacro/"
   ]
  },
  {
   "cell_type": "markdown",
   "metadata": {},
   "source": [
    "#### 變數操作記錄\n",
    "1. **Political_Interest** 放入後會稀釋家庭與學校效果(雖然仍然顯著) **0.000 / 0.059** ->  **0.012 / 0.098**\n",
    "2. 最終模型 **class 0.059** -> **income 0.123**，但家庭對政治參與用 **income 0.010** (要確認)\n",
    "3. **CN_attitude** 家庭對政治參與 fam_class 0.004 -> 0.003 最終模型 **0.000 / 0.059** -> **0.001 / 0.049** (但是已經有放統獨三分類)\n",
    "4. **Age** 最終模型 **0.00 / 0.59** -> **0.00 / 0.45**\n",
    "5. **Fam_Income** 不顯著(需要用**Fam_Class**)"
   ]
  },
  {
   "cell_type": "markdown",
   "metadata": {},
   "source": [
    "### Reshape Data"
   ]
  },
  {
   "cell_type": "code",
   "execution_count": null,
   "metadata": {},
   "outputs": [
    {
     "data": {
      "text/html": [
       "<div>\n",
       "<style scoped>\n",
       "    .dataframe tbody tr th:only-of-type {\n",
       "        vertical-align: middle;\n",
       "    }\n",
       "\n",
       "    .dataframe tbody tr th {\n",
       "        vertical-align: top;\n",
       "    }\n",
       "\n",
       "    .dataframe thead th {\n",
       "        text-align: right;\n",
       "    }\n",
       "</style>\n",
       "<table border=\"1\" class=\"dataframe\">\n",
       "  <thead>\n",
       "    <tr style=\"text-align: right;\">\n",
       "      <th></th>\n",
       "      <th>School</th>\n",
       "      <th>Funflower_movement_num</th>\n",
       "      <th>Fam_Class</th>\n",
       "      <th>Major</th>\n",
       "      <th>Distance</th>\n",
       "      <th>Sex</th>\n",
       "      <th>Age</th>\n",
       "      <th>Club</th>\n",
       "      <th>Party3</th>\n",
       "      <th>Tondu3</th>\n",
       "      <th>...</th>\n",
       "      <th>Political_Efficacy</th>\n",
       "      <th>TC_identity</th>\n",
       "      <th>Fcareer</th>\n",
       "      <th>Mcareer</th>\n",
       "      <th>LivingCity</th>\n",
       "      <th>Fa_Edu</th>\n",
       "      <th>Ma_Edu</th>\n",
       "      <th>Fa_Sengi</th>\n",
       "      <th>News</th>\n",
       "      <th>AVG_BG</th>\n",
       "    </tr>\n",
       "  </thead>\n",
       "  <tbody>\n",
       "    <tr>\n",
       "      <th>0</th>\n",
       "      <td>國立臺灣大學</td>\n",
       "      <td>1</td>\n",
       "      <td>3</td>\n",
       "      <td>人文藝術</td>\n",
       "      <td>4.0</td>\n",
       "      <td>0</td>\n",
       "      <td>23</td>\n",
       "      <td>1.0</td>\n",
       "      <td>泛綠</td>\n",
       "      <td>傾向獨立</td>\n",
       "      <td>...</td>\n",
       "      <td>1</td>\n",
       "      <td>臺灣人</td>\n",
       "      <td>0</td>\n",
       "      <td>0</td>\n",
       "      <td>1</td>\n",
       "      <td>1</td>\n",
       "      <td>1</td>\n",
       "      <td>大陸各省市人</td>\n",
       "      <td>8</td>\n",
       "      <td>467</td>\n",
       "    </tr>\n",
       "    <tr>\n",
       "      <th>1</th>\n",
       "      <td>國立政治大學</td>\n",
       "      <td>1</td>\n",
       "      <td>3</td>\n",
       "      <td>人文藝術</td>\n",
       "      <td>12.3</td>\n",
       "      <td>0</td>\n",
       "      <td>23</td>\n",
       "      <td>1.0</td>\n",
       "      <td>泛綠</td>\n",
       "      <td>傾向獨立</td>\n",
       "      <td>...</td>\n",
       "      <td>3</td>\n",
       "      <td>臺灣人</td>\n",
       "      <td>1</td>\n",
       "      <td>0</td>\n",
       "      <td>1</td>\n",
       "      <td>1</td>\n",
       "      <td>0</td>\n",
       "      <td>本省閩南人</td>\n",
       "      <td>10</td>\n",
       "      <td>235</td>\n",
       "    </tr>\n",
       "    <tr>\n",
       "      <th>2</th>\n",
       "      <td>國立政治大學</td>\n",
       "      <td>1</td>\n",
       "      <td>3</td>\n",
       "      <td>人文藝術</td>\n",
       "      <td>12.3</td>\n",
       "      <td>0</td>\n",
       "      <td>22</td>\n",
       "      <td>1.0</td>\n",
       "      <td>泛綠</td>\n",
       "      <td>傾向獨立</td>\n",
       "      <td>...</td>\n",
       "      <td>7</td>\n",
       "      <td>臺灣人</td>\n",
       "      <td>0</td>\n",
       "      <td>0</td>\n",
       "      <td>0</td>\n",
       "      <td>0</td>\n",
       "      <td>0</td>\n",
       "      <td>本省閩南人</td>\n",
       "      <td>17</td>\n",
       "      <td>235</td>\n",
       "    </tr>\n",
       "    <tr>\n",
       "      <th>3</th>\n",
       "      <td>國立政治大學</td>\n",
       "      <td>0</td>\n",
       "      <td>3</td>\n",
       "      <td>人文藝術</td>\n",
       "      <td>12.3</td>\n",
       "      <td>1</td>\n",
       "      <td>23</td>\n",
       "      <td>1.0</td>\n",
       "      <td>中立無傾向</td>\n",
       "      <td>傾向維持現狀</td>\n",
       "      <td>...</td>\n",
       "      <td>5</td>\n",
       "      <td>臺灣人</td>\n",
       "      <td>1</td>\n",
       "      <td>1</td>\n",
       "      <td>0</td>\n",
       "      <td>1</td>\n",
       "      <td>1</td>\n",
       "      <td>本省閩南人</td>\n",
       "      <td>9</td>\n",
       "      <td>235</td>\n",
       "    </tr>\n",
       "    <tr>\n",
       "      <th>4</th>\n",
       "      <td>國立政治大學</td>\n",
       "      <td>1</td>\n",
       "      <td>3</td>\n",
       "      <td>人文藝術</td>\n",
       "      <td>12.3</td>\n",
       "      <td>0</td>\n",
       "      <td>22</td>\n",
       "      <td>1.0</td>\n",
       "      <td>泛綠</td>\n",
       "      <td>傾向獨立</td>\n",
       "      <td>...</td>\n",
       "      <td>4</td>\n",
       "      <td>臺灣人</td>\n",
       "      <td>0</td>\n",
       "      <td>0</td>\n",
       "      <td>0</td>\n",
       "      <td>0</td>\n",
       "      <td>0</td>\n",
       "      <td>本省閩南人</td>\n",
       "      <td>12</td>\n",
       "      <td>235</td>\n",
       "    </tr>\n",
       "    <tr>\n",
       "      <th>...</th>\n",
       "      <td>...</td>\n",
       "      <td>...</td>\n",
       "      <td>...</td>\n",
       "      <td>...</td>\n",
       "      <td>...</td>\n",
       "      <td>...</td>\n",
       "      <td>...</td>\n",
       "      <td>...</td>\n",
       "      <td>...</td>\n",
       "      <td>...</td>\n",
       "      <td>...</td>\n",
       "      <td>...</td>\n",
       "      <td>...</td>\n",
       "      <td>...</td>\n",
       "      <td>...</td>\n",
       "      <td>...</td>\n",
       "      <td>...</td>\n",
       "      <td>...</td>\n",
       "      <td>...</td>\n",
       "      <td>...</td>\n",
       "      <td>...</td>\n",
       "    </tr>\n",
       "    <tr>\n",
       "      <th>1088</th>\n",
       "      <td>國立高雄師範大學</td>\n",
       "      <td>0</td>\n",
       "      <td>2</td>\n",
       "      <td>理科</td>\n",
       "      <td>347.0</td>\n",
       "      <td>0</td>\n",
       "      <td>22</td>\n",
       "      <td>1.0</td>\n",
       "      <td>中立無傾向</td>\n",
       "      <td>傾向維持現狀</td>\n",
       "      <td>...</td>\n",
       "      <td>6</td>\n",
       "      <td>臺灣人</td>\n",
       "      <td>0</td>\n",
       "      <td>0</td>\n",
       "      <td>0</td>\n",
       "      <td>1</td>\n",
       "      <td>0</td>\n",
       "      <td>本省閩南人</td>\n",
       "      <td>14</td>\n",
       "      <td>206</td>\n",
       "    </tr>\n",
       "    <tr>\n",
       "      <th>1089</th>\n",
       "      <td>國立高雄師範大學</td>\n",
       "      <td>1</td>\n",
       "      <td>3</td>\n",
       "      <td>理科</td>\n",
       "      <td>347.0</td>\n",
       "      <td>0</td>\n",
       "      <td>23</td>\n",
       "      <td>1.0</td>\n",
       "      <td>泛綠</td>\n",
       "      <td>傾向獨立</td>\n",
       "      <td>...</td>\n",
       "      <td>3</td>\n",
       "      <td>臺灣人</td>\n",
       "      <td>0</td>\n",
       "      <td>0</td>\n",
       "      <td>0</td>\n",
       "      <td>1</td>\n",
       "      <td>0</td>\n",
       "      <td>本省閩南人</td>\n",
       "      <td>11</td>\n",
       "      <td>206</td>\n",
       "    </tr>\n",
       "    <tr>\n",
       "      <th>1090</th>\n",
       "      <td>國立高雄師範大學</td>\n",
       "      <td>0</td>\n",
       "      <td>3</td>\n",
       "      <td>理科</td>\n",
       "      <td>347.0</td>\n",
       "      <td>1</td>\n",
       "      <td>23</td>\n",
       "      <td>1.0</td>\n",
       "      <td>泛綠</td>\n",
       "      <td>傾向獨立</td>\n",
       "      <td>...</td>\n",
       "      <td>4</td>\n",
       "      <td>臺灣人</td>\n",
       "      <td>1</td>\n",
       "      <td>0</td>\n",
       "      <td>0</td>\n",
       "      <td>0</td>\n",
       "      <td>0</td>\n",
       "      <td>本省閩南人</td>\n",
       "      <td>11</td>\n",
       "      <td>206</td>\n",
       "    </tr>\n",
       "    <tr>\n",
       "      <th>1092</th>\n",
       "      <td>國立高雄師範大學</td>\n",
       "      <td>1</td>\n",
       "      <td>3</td>\n",
       "      <td>理科</td>\n",
       "      <td>347.0</td>\n",
       "      <td>1</td>\n",
       "      <td>22</td>\n",
       "      <td>1.0</td>\n",
       "      <td>中立無傾向</td>\n",
       "      <td>傾向獨立</td>\n",
       "      <td>...</td>\n",
       "      <td>3</td>\n",
       "      <td>臺灣人</td>\n",
       "      <td>0</td>\n",
       "      <td>0</td>\n",
       "      <td>0</td>\n",
       "      <td>0</td>\n",
       "      <td>0</td>\n",
       "      <td>本省閩南人</td>\n",
       "      <td>13</td>\n",
       "      <td>206</td>\n",
       "    </tr>\n",
       "    <tr>\n",
       "      <th>1093</th>\n",
       "      <td>國立高雄師範大學</td>\n",
       "      <td>0</td>\n",
       "      <td>3</td>\n",
       "      <td>理科</td>\n",
       "      <td>347.0</td>\n",
       "      <td>0</td>\n",
       "      <td>21</td>\n",
       "      <td>0.0</td>\n",
       "      <td>中立無傾向</td>\n",
       "      <td>傾向維持現狀</td>\n",
       "      <td>...</td>\n",
       "      <td>3</td>\n",
       "      <td>臺灣人</td>\n",
       "      <td>0</td>\n",
       "      <td>0</td>\n",
       "      <td>0</td>\n",
       "      <td>0</td>\n",
       "      <td>0</td>\n",
       "      <td>本省閩南人</td>\n",
       "      <td>10</td>\n",
       "      <td>206</td>\n",
       "    </tr>\n",
       "  </tbody>\n",
       "</table>\n",
       "<p>976 rows × 21 columns</p>\n",
       "</div>"
      ],
      "text/plain": [
       "        School  Funflower_movement_num  Fam_Class Major  Distance Sex  Age  \\\n",
       "0       國立臺灣大學                       1          3  人文藝術       4.0   0   23   \n",
       "1       國立政治大學                       1          3  人文藝術      12.3   0   23   \n",
       "2       國立政治大學                       1          3  人文藝術      12.3   0   22   \n",
       "3       國立政治大學                       0          3  人文藝術      12.3   1   23   \n",
       "4       國立政治大學                       1          3  人文藝術      12.3   0   22   \n",
       "...        ...                     ...        ...   ...       ...  ..  ...   \n",
       "1088  國立高雄師範大學                       0          2    理科     347.0   0   22   \n",
       "1089  國立高雄師範大學                       1          3    理科     347.0   0   23   \n",
       "1090  國立高雄師範大學                       0          3    理科     347.0   1   23   \n",
       "1092  國立高雄師範大學                       1          3    理科     347.0   1   22   \n",
       "1093  國立高雄師範大學                       0          3    理科     347.0   0   21   \n",
       "\n",
       "      Club Party3  Tondu3  ...  Political_Efficacy  TC_identity Fcareer  \\\n",
       "0      1.0     泛綠    傾向獨立  ...                   1          臺灣人       0   \n",
       "1      1.0     泛綠    傾向獨立  ...                   3          臺灣人       1   \n",
       "2      1.0     泛綠    傾向獨立  ...                   7          臺灣人       0   \n",
       "3      1.0  中立無傾向  傾向維持現狀  ...                   5          臺灣人       1   \n",
       "4      1.0     泛綠    傾向獨立  ...                   4          臺灣人       0   \n",
       "...    ...    ...     ...  ...                 ...          ...     ...   \n",
       "1088   1.0  中立無傾向  傾向維持現狀  ...                   6          臺灣人       0   \n",
       "1089   1.0     泛綠    傾向獨立  ...                   3          臺灣人       0   \n",
       "1090   1.0     泛綠    傾向獨立  ...                   4          臺灣人       1   \n",
       "1092   1.0  中立無傾向    傾向獨立  ...                   3          臺灣人       0   \n",
       "1093   0.0  中立無傾向  傾向維持現狀  ...                   3          臺灣人       0   \n",
       "\n",
       "      Mcareer  LivingCity  Fa_Edu  Ma_Edu  Fa_Sengi News  AVG_BG  \n",
       "0           0           1       1       1    大陸各省市人    8     467  \n",
       "1           0           1       1       0     本省閩南人   10     235  \n",
       "2           0           0       0       0     本省閩南人   17     235  \n",
       "3           1           0       1       1     本省閩南人    9     235  \n",
       "4           0           0       0       0     本省閩南人   12     235  \n",
       "...       ...         ...     ...     ...       ...  ...     ...  \n",
       "1088        0           0       1       0     本省閩南人   14     206  \n",
       "1089        0           0       1       0     本省閩南人   11     206  \n",
       "1090        0           0       0       0     本省閩南人   11     206  \n",
       "1092        0           0       0       0     本省閩南人   13     206  \n",
       "1093        0           0       0       0     本省閩南人   10     206  \n",
       "\n",
       "[976 rows x 21 columns]"
      ]
     },
     "execution_count": 115,
     "metadata": {},
     "output_type": "execute_result"
    }
   ],
   "source": [
    "ml_data = df.loc[:, ['v01', 'Funflower_movement_num', 'Fam_Class','strata9', 'Distance', 'Sex', 'Age', 'Club', 'Party3', \n",
    "                    'Tondu3', 'Credit', 'Political_Efficacy', 'TC_identity', 'Fcareer', 'Mcareer', 'LivingCity', 'Fa_Edu', 'Ma_Edu', 'Fa_Sengi', 'News', 'AVG_BG']]\n",
    "ml_data = ml_data.rename(columns = {'v01': 'School', 'Funflower_movement_num': 'Funflower_movement_num', 'Political_Efficacy':'Political_Efficacy',\n",
    "                            'Fam_Income':'Fam_Income', 'strata9':'Major', 'Distance': 'Distance', 'Credit' : 'Credit', \n",
    "                            'Sex':'Sex', 'Age':'Age', 'Club':'Club', 'Party3': 'Party3', 'Tondu3':'Tondu3','TC_identity':'TC_identity', 'Fcareer':'Fcareer', 'Mcareer':'Mcareer', \n",
    "                            'LivingCity':'LivingCity', 'Fa_Edu':'Fa_Edu', 'Ma_Edu':'Ma_Edu', 'Fa_Sengi':'Fa_Sengi', 'News':'News', 'AVG_BG':'AVG_BG'})\n",
    "ml_data = ml_data.dropna()\n",
    "ml_data = ml_data.astype({\"Funflower_movement_num\":'int64', 'Fam_Class':'int64', 'Age':'int64', 'Credit':'int64', 'Political_Efficacy':'int64', 'News':'int64', 'AVG_BG':'int64'}) \n",
    "#SchoolType_order = pd.CategoricalDtype(categories = ['公立一般', '私立一般', '公立技職', '私立技職'], ordered = True)\n",
    "#ml_data['SchoolType'] = ml_data['SchoolType'].astype(SchoolType_order)\n",
    "ml_data"
   ]
  },
  {
   "cell_type": "markdown",
   "metadata": {},
   "source": [
    "### 描述性統計"
   ]
  },
  {
   "cell_type": "markdown",
   "metadata": {},
   "source": [
    "#### 各校預算變化"
   ]
  },
  {
   "cell_type": "markdown",
   "metadata": {},
   "source": [
    "### 最基本三變數模型"
   ]
  },
  {
   "cell_type": "markdown",
   "metadata": {},
   "source": [
    "* 家庭對政治參與 </br>\n",
    "[Fam_Class需要是顯著正相關]</br>\n",
    "Distance + Credit + C(Major)"
   ]
  },
  {
   "cell_type": "code",
   "execution_count": null,
   "metadata": {},
   "outputs": [
    {
     "name": "stdout",
     "output_type": "stream",
     "text": [
      "Optimization terminated successfully.\n",
      "         Current function value: 0.522164\n",
      "         Iterations 6\n"
     ]
    },
    {
     "data": {
      "text/html": [
       "<table class=\"simpletable\">\n",
       "<caption>Logit Regression Results</caption>\n",
       "<tr>\n",
       "  <th>Dep. Variable:</th>   <td>Funflower_movement_num</td> <th>  No. Observations:  </th>  <td>   976</td>  \n",
       "</tr>\n",
       "<tr>\n",
       "  <th>Model:</th>                    <td>Logit</td>         <th>  Df Residuals:      </th>  <td>   951</td>  \n",
       "</tr>\n",
       "<tr>\n",
       "  <th>Method:</th>                    <td>MLE</td>          <th>  Df Model:          </th>  <td>    24</td>  \n",
       "</tr>\n",
       "<tr>\n",
       "  <th>Date:</th>               <td>Fri, 02 Dec 2022</td>    <th>  Pseudo R-squ.:     </th>  <td>0.1490</td>  \n",
       "</tr>\n",
       "<tr>\n",
       "  <th>Time:</th>                   <td>22:00:50</td>        <th>  Log-Likelihood:    </th> <td> -509.63</td> \n",
       "</tr>\n",
       "<tr>\n",
       "  <th>converged:</th>                <td>True</td>          <th>  LL-Null:           </th> <td> -598.89</td> \n",
       "</tr>\n",
       "<tr>\n",
       "  <th>Covariance Type:</th>        <td>nonrobust</td>       <th>  LLR p-value:       </th> <td>1.406e-25</td>\n",
       "</tr>\n",
       "</table>\n",
       "<table class=\"simpletable\">\n",
       "<tr>\n",
       "            <td></td>               <th>coef</th>     <th>std err</th>      <th>z</th>      <th>P>|z|</th>  <th>[0.025</th>    <th>0.975]</th>  \n",
       "</tr>\n",
       "<tr>\n",
       "  <th>Intercept</th>             <td>   -7.3175</td> <td>    3.067</td> <td>   -2.386</td> <td> 0.017</td> <td>  -13.328</td> <td>   -1.307</td>\n",
       "</tr>\n",
       "<tr>\n",
       "  <th>Sex[T.1]</th>              <td>    0.4026</td> <td>    0.179</td> <td>    2.244</td> <td> 0.025</td> <td>    0.051</td> <td>    0.754</td>\n",
       "</tr>\n",
       "<tr>\n",
       "  <th>C(Major)[T.商學管理]</th>      <td>    0.1449</td> <td>    0.245</td> <td>    0.592</td> <td> 0.554</td> <td>   -0.335</td> <td>    0.625</td>\n",
       "</tr>\n",
       "<tr>\n",
       "  <th>C(Major)[T.工科]</th>        <td>   -0.1451</td> <td>    0.262</td> <td>   -0.555</td> <td> 0.579</td> <td>   -0.658</td> <td>    0.368</td>\n",
       "</tr>\n",
       "<tr>\n",
       "  <th>C(Major)[T.教育]</th>        <td>   -0.1636</td> <td>    0.575</td> <td>   -0.284</td> <td> 0.776</td> <td>   -1.291</td> <td>    0.964</td>\n",
       "</tr>\n",
       "<tr>\n",
       "  <th>C(Major)[T.法律]</th>        <td>    2.6502</td> <td>    1.176</td> <td>    2.254</td> <td> 0.024</td> <td>    0.346</td> <td>    4.954</td>\n",
       "</tr>\n",
       "<tr>\n",
       "  <th>C(Major)[T.理科]</th>        <td>    0.0065</td> <td>    0.306</td> <td>    0.021</td> <td> 0.983</td> <td>   -0.593</td> <td>    0.606</td>\n",
       "</tr>\n",
       "<tr>\n",
       "  <th>C(Major)[T.經社心理]</th>      <td>    0.8044</td> <td>    0.299</td> <td>    2.688</td> <td> 0.007</td> <td>    0.218</td> <td>    1.391</td>\n",
       "</tr>\n",
       "<tr>\n",
       "  <th>C(Major)[T.農科]</th>        <td>   -0.7070</td> <td>    0.803</td> <td>   -0.881</td> <td> 0.378</td> <td>   -2.280</td> <td>    0.866</td>\n",
       "</tr>\n",
       "<tr>\n",
       "  <th>C(Major)[T.醫科]</th>        <td>   -0.4632</td> <td>    0.506</td> <td>   -0.915</td> <td> 0.360</td> <td>   -1.456</td> <td>    0.529</td>\n",
       "</tr>\n",
       "<tr>\n",
       "  <th>C(Party3)[T.泛綠]</th>       <td>    0.5447</td> <td>    0.178</td> <td>    3.058</td> <td> 0.002</td> <td>    0.196</td> <td>    0.894</td>\n",
       "</tr>\n",
       "<tr>\n",
       "  <th>C(Party3)[T.泛藍]</th>       <td>   -0.3428</td> <td>    0.217</td> <td>   -1.576</td> <td> 0.115</td> <td>   -0.769</td> <td>    0.083</td>\n",
       "</tr>\n",
       "<tr>\n",
       "  <th>C(Tondu3)[T.傾向統一]</th>     <td>   -0.2506</td> <td>    0.335</td> <td>   -0.749</td> <td> 0.454</td> <td>   -0.907</td> <td>    0.406</td>\n",
       "</tr>\n",
       "<tr>\n",
       "  <th>C(Tondu3)[T.傾向維持現狀]</th>   <td>   -0.4803</td> <td>    0.172</td> <td>   -2.799</td> <td> 0.005</td> <td>   -0.817</td> <td>   -0.144</td>\n",
       "</tr>\n",
       "<tr>\n",
       "  <th>C(TC_identity)[T.臺灣人]</th> <td>    1.5705</td> <td>    1.114</td> <td>    1.410</td> <td> 0.158</td> <td>   -0.612</td> <td>    3.753</td>\n",
       "</tr>\n",
       "<tr>\n",
       "  <th>C(TC_identity)[T.都是]</th>  <td>    1.2984</td> <td>    1.130</td> <td>    1.149</td> <td> 0.250</td> <td>   -0.916</td> <td>    3.513</td>\n",
       "</tr>\n",
       "<tr>\n",
       "  <th>C(Fa_Sengi)[T.本省客家人]</th>  <td>   -0.3631</td> <td>    0.362</td> <td>   -1.002</td> <td> 0.316</td> <td>   -1.074</td> <td>    0.347</td>\n",
       "</tr>\n",
       "<tr>\n",
       "  <th>C(Fa_Sengi)[T.本省閩南人]</th>  <td>   -0.0108</td> <td>    0.294</td> <td>   -0.037</td> <td> 0.971</td> <td>   -0.587</td> <td>    0.565</td>\n",
       "</tr>\n",
       "<tr>\n",
       "  <th>Fam_Class</th>             <td>    0.2507</td> <td>    0.116</td> <td>    2.170</td> <td> 0.030</td> <td>    0.024</td> <td>    0.477</td>\n",
       "</tr>\n",
       "<tr>\n",
       "  <th>Political_Efficacy</th>    <td>    0.0963</td> <td>    0.044</td> <td>    2.205</td> <td> 0.027</td> <td>    0.011</td> <td>    0.182</td>\n",
       "</tr>\n",
       "<tr>\n",
       "  <th>Age</th>                   <td>    0.0929</td> <td>    0.121</td> <td>    0.771</td> <td> 0.441</td> <td>   -0.143</td> <td>    0.329</td>\n",
       "</tr>\n",
       "<tr>\n",
       "  <th>News</th>                  <td>    0.1573</td> <td>    0.032</td> <td>    4.876</td> <td> 0.000</td> <td>    0.094</td> <td>    0.221</td>\n",
       "</tr>\n",
       "<tr>\n",
       "  <th>Club</th>                  <td>    0.2440</td> <td>    0.169</td> <td>    1.445</td> <td> 0.149</td> <td>   -0.087</td> <td>    0.575</td>\n",
       "</tr>\n",
       "<tr>\n",
       "  <th>Distance</th>              <td>   -0.0044</td> <td>    0.001</td> <td>   -6.295</td> <td> 0.000</td> <td>   -0.006</td> <td>   -0.003</td>\n",
       "</tr>\n",
       "<tr>\n",
       "  <th>Credit</th>                <td>    0.0241</td> <td>    0.029</td> <td>    0.831</td> <td> 0.406</td> <td>   -0.033</td> <td>    0.081</td>\n",
       "</tr>\n",
       "</table>"
      ],
      "text/plain": [
       "<class 'statsmodels.iolib.summary.Summary'>\n",
       "\"\"\"\n",
       "                             Logit Regression Results                             \n",
       "==================================================================================\n",
       "Dep. Variable:     Funflower_movement_num   No. Observations:                  976\n",
       "Model:                              Logit   Df Residuals:                      951\n",
       "Method:                               MLE   Df Model:                           24\n",
       "Date:                    Fri, 02 Dec 2022   Pseudo R-squ.:                  0.1490\n",
       "Time:                            22:00:50   Log-Likelihood:                -509.63\n",
       "converged:                           True   LL-Null:                       -598.89\n",
       "Covariance Type:                nonrobust   LLR p-value:                 1.406e-25\n",
       "=========================================================================================\n",
       "                            coef    std err          z      P>|z|      [0.025      0.975]\n",
       "-----------------------------------------------------------------------------------------\n",
       "Intercept                -7.3175      3.067     -2.386      0.017     -13.328      -1.307\n",
       "Sex[T.1]                  0.4026      0.179      2.244      0.025       0.051       0.754\n",
       "C(Major)[T.商學管理]          0.1449      0.245      0.592      0.554      -0.335       0.625\n",
       "C(Major)[T.工科]           -0.1451      0.262     -0.555      0.579      -0.658       0.368\n",
       "C(Major)[T.教育]           -0.1636      0.575     -0.284      0.776      -1.291       0.964\n",
       "C(Major)[T.法律]            2.6502      1.176      2.254      0.024       0.346       4.954\n",
       "C(Major)[T.理科]            0.0065      0.306      0.021      0.983      -0.593       0.606\n",
       "C(Major)[T.經社心理]          0.8044      0.299      2.688      0.007       0.218       1.391\n",
       "C(Major)[T.農科]           -0.7070      0.803     -0.881      0.378      -2.280       0.866\n",
       "C(Major)[T.醫科]           -0.4632      0.506     -0.915      0.360      -1.456       0.529\n",
       "C(Party3)[T.泛綠]           0.5447      0.178      3.058      0.002       0.196       0.894\n",
       "C(Party3)[T.泛藍]          -0.3428      0.217     -1.576      0.115      -0.769       0.083\n",
       "C(Tondu3)[T.傾向統一]        -0.2506      0.335     -0.749      0.454      -0.907       0.406\n",
       "C(Tondu3)[T.傾向維持現狀]      -0.4803      0.172     -2.799      0.005      -0.817      -0.144\n",
       "C(TC_identity)[T.臺灣人]     1.5705      1.114      1.410      0.158      -0.612       3.753\n",
       "C(TC_identity)[T.都是]      1.2984      1.130      1.149      0.250      -0.916       3.513\n",
       "C(Fa_Sengi)[T.本省客家人]     -0.3631      0.362     -1.002      0.316      -1.074       0.347\n",
       "C(Fa_Sengi)[T.本省閩南人]     -0.0108      0.294     -0.037      0.971      -0.587       0.565\n",
       "Fam_Class                 0.2507      0.116      2.170      0.030       0.024       0.477\n",
       "Political_Efficacy        0.0963      0.044      2.205      0.027       0.011       0.182\n",
       "Age                       0.0929      0.121      0.771      0.441      -0.143       0.329\n",
       "News                      0.1573      0.032      4.876      0.000       0.094       0.221\n",
       "Club                      0.2440      0.169      1.445      0.149      -0.087       0.575\n",
       "Distance                 -0.0044      0.001     -6.295      0.000      -0.006      -0.003\n",
       "Credit                    0.0241      0.029      0.831      0.406      -0.033       0.081\n",
       "=========================================================================================\n",
       "\"\"\""
      ]
     },
     "execution_count": 116,
     "metadata": {},
     "output_type": "execute_result"
    }
   ],
   "source": [
    "fam_pp_log = smf.logit(formula = \"Funflower_movement_num ~ Fam_Class + Political_Efficacy + Sex + Age + News + Club + Distance + Credit + C(Major) + C(Party3) + C(Tondu3) + C(TC_identity) + C(Fa_Sengi)\", data = ml_data).fit()\n",
    "fam_pp_log.summary()"
   ]
  },
  {
   "cell_type": "code",
   "execution_count": null,
   "metadata": {},
   "outputs": [],
   "source": [
    "# stargazer1 = Stargazer([fam_pp_log])\n",
    "# stargazer1\n",
    "# HTML(stargazer1.render_html())"
   ]
  },
  {
   "cell_type": "markdown",
   "metadata": {},
   "source": [
    "* 學校對政治參與(不用跑)"
   ]
  },
  {
   "cell_type": "code",
   "execution_count": null,
   "metadata": {},
   "outputs": [],
   "source": [
    "# school_pp_log = smf.logit(formula = \"Funflower_movement_num ~ AVG_BG + Distance + Credit + Sex + Fa_Sengi + C(Party3) + C(Tondu3) + C(TC_identity)\", data = ml_data).fit()\n",
    "# school_pp_log.summary()"
   ]
  },
  {
   "cell_type": "markdown",
   "metadata": {},
   "source": [
    "* 家庭對學校</br>\n",
    "[Fam_Class需要是顯著正相關]</br>\n",
    "A -> 預算(ols)</br> \n",
    "A 如果是類別的時候</br>\n",
    "order logit試試看"
   ]
  },
  {
   "cell_type": "code",
   "execution_count": null,
   "metadata": {},
   "outputs": [
    {
     "data": {
      "text/html": [
       "<table class=\"simpletable\">\n",
       "<caption>OLS Regression Results</caption>\n",
       "<tr>\n",
       "  <th>Dep. Variable:</th>         <td>AVG_BG</td>      <th>  R-squared:         </th> <td>   0.078</td> \n",
       "</tr>\n",
       "<tr>\n",
       "  <th>Model:</th>                   <td>OLS</td>       <th>  Adj. R-squared:    </th> <td>   0.069</td> \n",
       "</tr>\n",
       "<tr>\n",
       "  <th>Method:</th>             <td>Least Squares</td>  <th>  F-statistic:       </th> <td>   8.220</td> \n",
       "</tr>\n",
       "<tr>\n",
       "  <th>Date:</th>             <td>Fri, 02 Dec 2022</td> <th>  Prob (F-statistic):</th> <td>7.15e-13</td> \n",
       "</tr>\n",
       "<tr>\n",
       "  <th>Time:</th>                 <td>22:00:50</td>     <th>  Log-Likelihood:    </th> <td> -5527.4</td> \n",
       "</tr>\n",
       "<tr>\n",
       "  <th>No. Observations:</th>      <td>   976</td>      <th>  AIC:               </th> <td>1.108e+04</td>\n",
       "</tr>\n",
       "<tr>\n",
       "  <th>Df Residuals:</th>          <td>   965</td>      <th>  BIC:               </th> <td>1.113e+04</td>\n",
       "</tr>\n",
       "<tr>\n",
       "  <th>Df Model:</th>              <td>    10</td>      <th>                     </th>     <td> </td>    \n",
       "</tr>\n",
       "<tr>\n",
       "  <th>Covariance Type:</th>      <td>nonrobust</td>    <th>                     </th>     <td> </td>    \n",
       "</tr>\n",
       "</table>\n",
       "<table class=\"simpletable\">\n",
       "<tr>\n",
       "            <td></td>              <th>coef</th>     <th>std err</th>      <th>t</th>      <th>P>|t|</th>  <th>[0.025</th>    <th>0.975]</th>  \n",
       "</tr>\n",
       "<tr>\n",
       "  <th>Intercept</th>            <td>  167.9563</td> <td>   81.919</td> <td>    2.050</td> <td> 0.041</td> <td>    7.197</td> <td>  328.716</td>\n",
       "</tr>\n",
       "<tr>\n",
       "  <th>Sex[T.1]</th>             <td>    9.7980</td> <td>    4.507</td> <td>    2.174</td> <td> 0.030</td> <td>    0.953</td> <td>   18.643</td>\n",
       "</tr>\n",
       "<tr>\n",
       "  <th>C(Fa_Sengi)[T.本省客家人]</th> <td>    5.2825</td> <td>   10.574</td> <td>    0.500</td> <td> 0.617</td> <td>  -15.468</td> <td>   26.033</td>\n",
       "</tr>\n",
       "<tr>\n",
       "  <th>C(Fa_Sengi)[T.本省閩南人]</th> <td>    7.6209</td> <td>    8.708</td> <td>    0.875</td> <td> 0.382</td> <td>   -9.469</td> <td>   24.710</td>\n",
       "</tr>\n",
       "<tr>\n",
       "  <th>Fam_Class</th>            <td>   10.8049</td> <td>    3.334</td> <td>    3.241</td> <td> 0.001</td> <td>    4.262</td> <td>   17.348</td>\n",
       "</tr>\n",
       "<tr>\n",
       "  <th>Age</th>                  <td>   -1.0157</td> <td>    3.595</td> <td>   -0.283</td> <td> 0.778</td> <td>   -8.070</td> <td>    6.039</td>\n",
       "</tr>\n",
       "<tr>\n",
       "  <th>Fcareer</th>              <td>    3.0539</td> <td>    6.822</td> <td>    0.448</td> <td> 0.655</td> <td>  -10.334</td> <td>   16.442</td>\n",
       "</tr>\n",
       "<tr>\n",
       "  <th>Mcareer</th>              <td>    0.4145</td> <td>    8.055</td> <td>    0.051</td> <td> 0.959</td> <td>  -15.393</td> <td>   16.222</td>\n",
       "</tr>\n",
       "<tr>\n",
       "  <th>Fa_Edu</th>               <td>   28.5555</td> <td>    6.830</td> <td>    4.181</td> <td> 0.000</td> <td>   15.152</td> <td>   41.959</td>\n",
       "</tr>\n",
       "<tr>\n",
       "  <th>Ma_Edu</th>               <td>    8.3461</td> <td>    7.793</td> <td>    1.071</td> <td> 0.284</td> <td>   -6.947</td> <td>   23.639</td>\n",
       "</tr>\n",
       "<tr>\n",
       "  <th>LivingCity</th>           <td>   17.9547</td> <td>    5.894</td> <td>    3.046</td> <td> 0.002</td> <td>    6.389</td> <td>   29.520</td>\n",
       "</tr>\n",
       "</table>\n",
       "<table class=\"simpletable\">\n",
       "<tr>\n",
       "  <th>Omnibus:</th>       <td>187.544</td> <th>  Durbin-Watson:     </th> <td>   0.214</td>\n",
       "</tr>\n",
       "<tr>\n",
       "  <th>Prob(Omnibus):</th> <td> 0.000</td>  <th>  Jarque-Bera (JB):  </th> <td> 308.367</td>\n",
       "</tr>\n",
       "<tr>\n",
       "  <th>Skew:</th>          <td> 1.247</td>  <th>  Prob(JB):          </th> <td>1.09e-67</td>\n",
       "</tr>\n",
       "<tr>\n",
       "  <th>Kurtosis:</th>      <td> 4.168</td>  <th>  Cond. No.          </th> <td>    827.</td>\n",
       "</tr>\n",
       "</table><br/><br/>Notes:<br/>[1] Standard Errors assume that the covariance matrix of the errors is correctly specified."
      ],
      "text/plain": [
       "<class 'statsmodels.iolib.summary.Summary'>\n",
       "\"\"\"\n",
       "                            OLS Regression Results                            \n",
       "==============================================================================\n",
       "Dep. Variable:                 AVG_BG   R-squared:                       0.078\n",
       "Model:                            OLS   Adj. R-squared:                  0.069\n",
       "Method:                 Least Squares   F-statistic:                     8.220\n",
       "Date:                Fri, 02 Dec 2022   Prob (F-statistic):           7.15e-13\n",
       "Time:                        22:00:50   Log-Likelihood:                -5527.4\n",
       "No. Observations:                 976   AIC:                         1.108e+04\n",
       "Df Residuals:                     965   BIC:                         1.113e+04\n",
       "Df Model:                          10                                         \n",
       "Covariance Type:            nonrobust                                         \n",
       "========================================================================================\n",
       "                           coef    std err          t      P>|t|      [0.025      0.975]\n",
       "----------------------------------------------------------------------------------------\n",
       "Intercept              167.9563     81.919      2.050      0.041       7.197     328.716\n",
       "Sex[T.1]                 9.7980      4.507      2.174      0.030       0.953      18.643\n",
       "C(Fa_Sengi)[T.本省客家人]     5.2825     10.574      0.500      0.617     -15.468      26.033\n",
       "C(Fa_Sengi)[T.本省閩南人]     7.6209      8.708      0.875      0.382      -9.469      24.710\n",
       "Fam_Class               10.8049      3.334      3.241      0.001       4.262      17.348\n",
       "Age                     -1.0157      3.595     -0.283      0.778      -8.070       6.039\n",
       "Fcareer                  3.0539      6.822      0.448      0.655     -10.334      16.442\n",
       "Mcareer                  0.4145      8.055      0.051      0.959     -15.393      16.222\n",
       "Fa_Edu                  28.5555      6.830      4.181      0.000      15.152      41.959\n",
       "Ma_Edu                   8.3461      7.793      1.071      0.284      -6.947      23.639\n",
       "LivingCity              17.9547      5.894      3.046      0.002       6.389      29.520\n",
       "==============================================================================\n",
       "Omnibus:                      187.544   Durbin-Watson:                   0.214\n",
       "Prob(Omnibus):                  0.000   Jarque-Bera (JB):              308.367\n",
       "Skew:                           1.247   Prob(JB):                     1.09e-67\n",
       "Kurtosis:                       4.168   Cond. No.                         827.\n",
       "==============================================================================\n",
       "\n",
       "Notes:\n",
       "[1] Standard Errors assume that the covariance matrix of the errors is correctly specified.\n",
       "\"\"\""
      ]
     },
     "execution_count": 119,
     "metadata": {},
     "output_type": "execute_result"
    }
   ],
   "source": [
    "school_fm_lm = smf.ols(formula = \"AVG_BG ~ Fam_Class + Sex + Age + Fcareer + Mcareer + Fa_Edu + Ma_Edu + C(Fa_Sengi) + LivingCity\", data = ml_data).fit()\n",
    "school_fm_lm.summary()"
   ]
  },
  {
   "cell_type": "code",
   "execution_count": null,
   "metadata": {},
   "outputs": [],
   "source": [
    "# # Check SchoolType if as ordinal\n",
    "# ml_data['SchoolType'].dtypes"
   ]
  },
  {
   "cell_type": "code",
   "execution_count": null,
   "metadata": {},
   "outputs": [],
   "source": [
    "# # 家庭對學校 Ordered Logit -> 變顯著負相關\n",
    "# school_fm_log = OrderedModel.from_formula(\"SchoolType ~ Fam_Class + Sex + Fcareer + Mcareer + Fa_Edu + Ma_Edu + Fa_Sengi + Ma_Sengi + LivingCity\", ml_data, distr = 'logit').fit(method='bfgs', disp=False)                                   \n",
    "# school_fm_log.summary()"
   ]
  },
  {
   "cell_type": "markdown",
   "metadata": {},
   "source": [
    "* 家庭 + 學校對政治參與</br>\n",
    "[Fam_Class需要是不顯著正相關 and AVG_BG要是顯著正相關]"
   ]
  },
  {
   "cell_type": "code",
   "execution_count": null,
   "metadata": {},
   "outputs": [
    {
     "name": "stdout",
     "output_type": "stream",
     "text": [
      "Optimization terminated successfully.\n",
      "         Current function value: 0.509782\n",
      "         Iterations 7\n"
     ]
    },
    {
     "data": {
      "text/html": [
       "<table class=\"simpletable\">\n",
       "<caption>Logit Regression Results</caption>\n",
       "<tr>\n",
       "  <th>Dep. Variable:</th>   <td>Funflower_movement_num</td> <th>  No. Observations:  </th>  <td>   976</td>  \n",
       "</tr>\n",
       "<tr>\n",
       "  <th>Model:</th>                    <td>Logit</td>         <th>  Df Residuals:      </th>  <td>   950</td>  \n",
       "</tr>\n",
       "<tr>\n",
       "  <th>Method:</th>                    <td>MLE</td>          <th>  Df Model:          </th>  <td>    25</td>  \n",
       "</tr>\n",
       "<tr>\n",
       "  <th>Date:</th>               <td>Fri, 02 Dec 2022</td>    <th>  Pseudo R-squ.:     </th>  <td>0.1692</td>  \n",
       "</tr>\n",
       "<tr>\n",
       "  <th>Time:</th>                   <td>22:00:50</td>        <th>  Log-Likelihood:    </th> <td> -497.55</td> \n",
       "</tr>\n",
       "<tr>\n",
       "  <th>converged:</th>                <td>True</td>          <th>  LL-Null:           </th> <td> -598.89</td> \n",
       "</tr>\n",
       "<tr>\n",
       "  <th>Covariance Type:</th>        <td>nonrobust</td>       <th>  LLR p-value:       </th> <td>9.325e-30</td>\n",
       "</tr>\n",
       "</table>\n",
       "<table class=\"simpletable\">\n",
       "<tr>\n",
       "            <td></td>               <th>coef</th>     <th>std err</th>      <th>z</th>      <th>P>|z|</th>  <th>[0.025</th>    <th>0.975]</th>  \n",
       "</tr>\n",
       "<tr>\n",
       "  <th>Intercept</th>             <td>   -8.3615</td> <td>    3.081</td> <td>   -2.714</td> <td> 0.007</td> <td>  -14.400</td> <td>   -2.323</td>\n",
       "</tr>\n",
       "<tr>\n",
       "  <th>Sex[T.1]</th>              <td>    0.3580</td> <td>    0.181</td> <td>    1.983</td> <td> 0.047</td> <td>    0.004</td> <td>    0.712</td>\n",
       "</tr>\n",
       "<tr>\n",
       "  <th>C(Major)[T.商學管理]</th>      <td>    0.1324</td> <td>    0.250</td> <td>    0.529</td> <td> 0.597</td> <td>   -0.358</td> <td>    0.623</td>\n",
       "</tr>\n",
       "<tr>\n",
       "  <th>C(Major)[T.工科]</th>        <td>   -0.2202</td> <td>    0.267</td> <td>   -0.826</td> <td> 0.409</td> <td>   -0.743</td> <td>    0.302</td>\n",
       "</tr>\n",
       "<tr>\n",
       "  <th>C(Major)[T.教育]</th>        <td>   -0.0280</td> <td>    0.574</td> <td>   -0.049</td> <td> 0.961</td> <td>   -1.154</td> <td>    1.098</td>\n",
       "</tr>\n",
       "<tr>\n",
       "  <th>C(Major)[T.法律]</th>        <td>    2.8029</td> <td>    1.190</td> <td>    2.356</td> <td> 0.018</td> <td>    0.471</td> <td>    5.135</td>\n",
       "</tr>\n",
       "<tr>\n",
       "  <th>C(Major)[T.理科]</th>        <td>   -0.0439</td> <td>    0.310</td> <td>   -0.142</td> <td> 0.887</td> <td>   -0.651</td> <td>    0.563</td>\n",
       "</tr>\n",
       "<tr>\n",
       "  <th>C(Major)[T.經社心理]</th>      <td>    0.7761</td> <td>    0.304</td> <td>    2.552</td> <td> 0.011</td> <td>    0.180</td> <td>    1.372</td>\n",
       "</tr>\n",
       "<tr>\n",
       "  <th>C(Major)[T.農科]</th>        <td>   -1.0723</td> <td>    0.811</td> <td>   -1.322</td> <td> 0.186</td> <td>   -2.662</td> <td>    0.518</td>\n",
       "</tr>\n",
       "<tr>\n",
       "  <th>C(Major)[T.醫科]</th>        <td>   -0.6353</td> <td>    0.514</td> <td>   -1.235</td> <td> 0.217</td> <td>   -1.644</td> <td>    0.373</td>\n",
       "</tr>\n",
       "<tr>\n",
       "  <th>C(Fa_Sengi)[T.本省客家人]</th>  <td>   -0.2921</td> <td>    0.368</td> <td>   -0.794</td> <td> 0.427</td> <td>   -1.013</td> <td>    0.429</td>\n",
       "</tr>\n",
       "<tr>\n",
       "  <th>C(Fa_Sengi)[T.本省閩南人]</th>  <td>    0.0579</td> <td>    0.298</td> <td>    0.194</td> <td> 0.846</td> <td>   -0.527</td> <td>    0.643</td>\n",
       "</tr>\n",
       "<tr>\n",
       "  <th>C(Party3)[T.泛綠]</th>       <td>    0.5180</td> <td>    0.181</td> <td>    2.860</td> <td> 0.004</td> <td>    0.163</td> <td>    0.873</td>\n",
       "</tr>\n",
       "<tr>\n",
       "  <th>C(Party3)[T.泛藍]</th>       <td>   -0.3429</td> <td>    0.220</td> <td>   -1.560</td> <td> 0.119</td> <td>   -0.774</td> <td>    0.088</td>\n",
       "</tr>\n",
       "<tr>\n",
       "  <th>C(Tondu3)[T.傾向統一]</th>     <td>   -0.1902</td> <td>    0.338</td> <td>   -0.563</td> <td> 0.573</td> <td>   -0.852</td> <td>    0.472</td>\n",
       "</tr>\n",
       "<tr>\n",
       "  <th>C(Tondu3)[T.傾向維持現狀]</th>   <td>   -0.4793</td> <td>    0.174</td> <td>   -2.756</td> <td> 0.006</td> <td>   -0.820</td> <td>   -0.138</td>\n",
       "</tr>\n",
       "<tr>\n",
       "  <th>C(TC_identity)[T.臺灣人]</th> <td>    1.3273</td> <td>    1.119</td> <td>    1.186</td> <td> 0.236</td> <td>   -0.866</td> <td>    3.521</td>\n",
       "</tr>\n",
       "<tr>\n",
       "  <th>C(TC_identity)[T.都是]</th>  <td>    1.0487</td> <td>    1.135</td> <td>    0.924</td> <td> 0.356</td> <td>   -1.176</td> <td>    3.273</td>\n",
       "</tr>\n",
       "<tr>\n",
       "  <th>AVG_BG</th>                <td>    0.0055</td> <td>    0.001</td> <td>    4.893</td> <td> 0.000</td> <td>    0.003</td> <td>    0.008</td>\n",
       "</tr>\n",
       "<tr>\n",
       "  <th>Fam_Class</th>             <td>    0.1580</td> <td>    0.119</td> <td>    1.331</td> <td> 0.183</td> <td>   -0.075</td> <td>    0.391</td>\n",
       "</tr>\n",
       "<tr>\n",
       "  <th>Distance</th>              <td>   -0.0048</td> <td>    0.001</td> <td>   -6.577</td> <td> 0.000</td> <td>   -0.006</td> <td>   -0.003</td>\n",
       "</tr>\n",
       "<tr>\n",
       "  <th>Credit</th>                <td>    0.0188</td> <td>    0.031</td> <td>    0.611</td> <td> 0.542</td> <td>   -0.042</td> <td>    0.079</td>\n",
       "</tr>\n",
       "<tr>\n",
       "  <th>Political_Efficacy</th>    <td>    0.0725</td> <td>    0.045</td> <td>    1.623</td> <td> 0.105</td> <td>   -0.015</td> <td>    0.160</td>\n",
       "</tr>\n",
       "<tr>\n",
       "  <th>Age</th>                   <td>    0.1069</td> <td>    0.120</td> <td>    0.888</td> <td> 0.375</td> <td>   -0.129</td> <td>    0.343</td>\n",
       "</tr>\n",
       "<tr>\n",
       "  <th>News</th>                  <td>    0.1799</td> <td>    0.033</td> <td>    5.399</td> <td> 0.000</td> <td>    0.115</td> <td>    0.245</td>\n",
       "</tr>\n",
       "<tr>\n",
       "  <th>Club</th>                  <td>    0.2248</td> <td>    0.170</td> <td>    1.319</td> <td> 0.187</td> <td>   -0.109</td> <td>    0.559</td>\n",
       "</tr>\n",
       "</table>"
      ],
      "text/plain": [
       "<class 'statsmodels.iolib.summary.Summary'>\n",
       "\"\"\"\n",
       "                             Logit Regression Results                             \n",
       "==================================================================================\n",
       "Dep. Variable:     Funflower_movement_num   No. Observations:                  976\n",
       "Model:                              Logit   Df Residuals:                      950\n",
       "Method:                               MLE   Df Model:                           25\n",
       "Date:                    Fri, 02 Dec 2022   Pseudo R-squ.:                  0.1692\n",
       "Time:                            22:00:50   Log-Likelihood:                -497.55\n",
       "converged:                           True   LL-Null:                       -598.89\n",
       "Covariance Type:                nonrobust   LLR p-value:                 9.325e-30\n",
       "=========================================================================================\n",
       "                            coef    std err          z      P>|z|      [0.025      0.975]\n",
       "-----------------------------------------------------------------------------------------\n",
       "Intercept                -8.3615      3.081     -2.714      0.007     -14.400      -2.323\n",
       "Sex[T.1]                  0.3580      0.181      1.983      0.047       0.004       0.712\n",
       "C(Major)[T.商學管理]          0.1324      0.250      0.529      0.597      -0.358       0.623\n",
       "C(Major)[T.工科]           -0.2202      0.267     -0.826      0.409      -0.743       0.302\n",
       "C(Major)[T.教育]           -0.0280      0.574     -0.049      0.961      -1.154       1.098\n",
       "C(Major)[T.法律]            2.8029      1.190      2.356      0.018       0.471       5.135\n",
       "C(Major)[T.理科]           -0.0439      0.310     -0.142      0.887      -0.651       0.563\n",
       "C(Major)[T.經社心理]          0.7761      0.304      2.552      0.011       0.180       1.372\n",
       "C(Major)[T.農科]           -1.0723      0.811     -1.322      0.186      -2.662       0.518\n",
       "C(Major)[T.醫科]           -0.6353      0.514     -1.235      0.217      -1.644       0.373\n",
       "C(Fa_Sengi)[T.本省客家人]     -0.2921      0.368     -0.794      0.427      -1.013       0.429\n",
       "C(Fa_Sengi)[T.本省閩南人]      0.0579      0.298      0.194      0.846      -0.527       0.643\n",
       "C(Party3)[T.泛綠]           0.5180      0.181      2.860      0.004       0.163       0.873\n",
       "C(Party3)[T.泛藍]          -0.3429      0.220     -1.560      0.119      -0.774       0.088\n",
       "C(Tondu3)[T.傾向統一]        -0.1902      0.338     -0.563      0.573      -0.852       0.472\n",
       "C(Tondu3)[T.傾向維持現狀]      -0.4793      0.174     -2.756      0.006      -0.820      -0.138\n",
       "C(TC_identity)[T.臺灣人]     1.3273      1.119      1.186      0.236      -0.866       3.521\n",
       "C(TC_identity)[T.都是]      1.0487      1.135      0.924      0.356      -1.176       3.273\n",
       "AVG_BG                    0.0055      0.001      4.893      0.000       0.003       0.008\n",
       "Fam_Class                 0.1580      0.119      1.331      0.183      -0.075       0.391\n",
       "Distance                 -0.0048      0.001     -6.577      0.000      -0.006      -0.003\n",
       "Credit                    0.0188      0.031      0.611      0.542      -0.042       0.079\n",
       "Political_Efficacy        0.0725      0.045      1.623      0.105      -0.015       0.160\n",
       "Age                       0.1069      0.120      0.888      0.375      -0.129       0.343\n",
       "News                      0.1799      0.033      5.399      0.000       0.115       0.245\n",
       "Club                      0.2248      0.170      1.319      0.187      -0.109       0.559\n",
       "=========================================================================================\n",
       "\"\"\""
      ]
     },
     "execution_count": 122,
     "metadata": {},
     "output_type": "execute_result"
    }
   ],
   "source": [
    "school_fam_pp_log = smf.logit(formula = \"Funflower_movement_num ~ AVG_BG + Fam_Class + Distance + Credit + Political_Efficacy + Sex + Age + News + Club + C(Major) + C(Fa_Sengi) + C(Party3) + C(Tondu3) + C(TC_identity)\", data = ml_data).fit()\n",
    "school_fam_pp_log.summary()"
   ]
  },
  {
   "cell_type": "markdown",
   "metadata": {},
   "source": [
    "#### Political Socialization Agent\n",
    "1. 家庭 - 省籍 家庭討論\n",
    "2. 學校 - 學校討論 相關課程\n",
    "3. 媒體 - 媒體接觸\n",
    "4. 同儕 - 同儕討論 同儕態度\n",
    "5. 重要事件 - 太陽花(V)\n",
    "6. 世代 - 同世代不討論(V)"
   ]
  }
 ],
 "metadata": {
  "kernelspec": {
   "display_name": "base",
   "language": "python",
   "name": "python3"
  },
  "language_info": {
   "codemirror_mode": {
    "name": "ipython",
    "version": 3
   },
   "file_extension": ".py",
   "mimetype": "text/x-python",
   "name": "python",
   "nbconvert_exporter": "python",
   "pygments_lexer": "ipython3",
   "version": "3.9.12"
  },
  "orig_nbformat": 4,
  "vscode": {
   "interpreter": {
    "hash": "6602c2885c02d123719f05763fdd31327dda850adf85d09c83d4eb769f341e41"
   }
  }
 },
 "nbformat": 4,
 "nbformat_minor": 2
}
