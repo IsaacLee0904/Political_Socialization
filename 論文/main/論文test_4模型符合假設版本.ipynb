{
 "cells": [
  {
   "cell_type": "markdown",
   "metadata": {},
   "source": [
    "## Import Package"
   ]
  },
  {
   "cell_type": "code",
   "execution_count": 386,
   "metadata": {},
   "outputs": [],
   "source": [
    "import pandas as pd\n",
    "import numpy as np\n",
    "import plotly.express as px\n",
    "import seaborn as sns               \n",
    "import matplotlib.pyplot as plt     \n",
    "import statsmodels.formula.api as smf\n",
    "from statsmodels.miscmodels.ordinal_model import OrderedModel"
   ]
  },
  {
   "cell_type": "markdown",
   "metadata": {},
   "source": [
    "## Load Data"
   ]
  },
  {
   "cell_type": "code",
   "execution_count": 387,
   "metadata": {},
   "outputs": [],
   "source": [
    "df = pd.read_spss('/Users/wen/Desktop/論文/E10053_4/data.sav')"
   ]
  },
  {
   "cell_type": "code",
   "execution_count": 388,
   "metadata": {},
   "outputs": [],
   "source": [
    "year1 = pd.read_spss('/Users/wen/Desktop/論文/E10053_1/data.sav')"
   ]
  },
  {
   "cell_type": "code",
   "execution_count": 389,
   "metadata": {},
   "outputs": [],
   "source": [
    "mergedf = year1.loc[:, ['id', 'fedu', 'medu']]"
   ]
  },
  {
   "cell_type": "code",
   "execution_count": 390,
   "metadata": {},
   "outputs": [],
   "source": [
    "df = pd.merge(df, mergedf, on = 'id')"
   ]
  },
  {
   "cell_type": "code",
   "execution_count": 391,
   "metadata": {},
   "outputs": [
    {
     "data": {
      "text/html": [
       "<div>\n",
       "<style scoped>\n",
       "    .dataframe tbody tr th:only-of-type {\n",
       "        vertical-align: middle;\n",
       "    }\n",
       "\n",
       "    .dataframe tbody tr th {\n",
       "        vertical-align: top;\n",
       "    }\n",
       "\n",
       "    .dataframe thead th {\n",
       "        text-align: right;\n",
       "    }\n",
       "</style>\n",
       "<table border=\"1\" class=\"dataframe\">\n",
       "  <thead>\n",
       "    <tr style=\"text-align: right;\">\n",
       "      <th></th>\n",
       "      <th>id</th>\n",
       "      <th>v01</th>\n",
       "      <th>v03</th>\n",
       "      <th>v10</th>\n",
       "      <th>v11</th>\n",
       "      <th>v12</th>\n",
       "      <th>v13</th>\n",
       "      <th>v14</th>\n",
       "      <th>a1a</th>\n",
       "      <th>a1b</th>\n",
       "      <th>...</th>\n",
       "      <th>fcareer8</th>\n",
       "      <th>mcareer5</th>\n",
       "      <th>mcareer8</th>\n",
       "      <th>fpartyid</th>\n",
       "      <th>mpartyid</th>\n",
       "      <th>fparty</th>\n",
       "      <th>mparty</th>\n",
       "      <th>w</th>\n",
       "      <th>fedu</th>\n",
       "      <th>medu</th>\n",
       "    </tr>\n",
       "  </thead>\n",
       "  <tbody>\n",
       "    <tr>\n",
       "      <th>0</th>\n",
       "      <td>120101.0</td>\n",
       "      <td>國立臺灣大學</td>\n",
       "      <td>27.0</td>\n",
       "      <td>5.0</td>\n",
       "      <td>13.0</td>\n",
       "      <td>3.0</td>\n",
       "      <td>18.0</td>\n",
       "      <td>5.0</td>\n",
       "      <td>很少</td>\n",
       "      <td>很少</td>\n",
       "      <td>...</td>\n",
       "      <td>私部門管理階層及專業人員</td>\n",
       "      <td>高、中級白領</td>\n",
       "      <td>私部門管理階層及專業人員</td>\n",
       "      <td>無反應及其他政黨</td>\n",
       "      <td>中立及看情形</td>\n",
       "      <td>中立無反應</td>\n",
       "      <td>中立無反應</td>\n",
       "      <td>0.959659</td>\n",
       "      <td>大學及以上</td>\n",
       "      <td>大學及以上</td>\n",
       "    </tr>\n",
       "    <tr>\n",
       "      <th>1</th>\n",
       "      <td>120102.0</td>\n",
       "      <td>國立政治大學</td>\n",
       "      <td>14.0</td>\n",
       "      <td>4.0</td>\n",
       "      <td>22.0</td>\n",
       "      <td>3.0</td>\n",
       "      <td>11.0</td>\n",
       "      <td>50.0</td>\n",
       "      <td>很少</td>\n",
       "      <td>很少</td>\n",
       "      <td>...</td>\n",
       "      <td>軍公教人員</td>\n",
       "      <td>其他</td>\n",
       "      <td>家管</td>\n",
       "      <td>中立及看情形</td>\n",
       "      <td>中立及看情形</td>\n",
       "      <td>中立無反應</td>\n",
       "      <td>中立無反應</td>\n",
       "      <td>0.959659</td>\n",
       "      <td>大學及以上</td>\n",
       "      <td>高中、職</td>\n",
       "    </tr>\n",
       "    <tr>\n",
       "      <th>2</th>\n",
       "      <td>120103.0</td>\n",
       "      <td>國立政治大學</td>\n",
       "      <td>13.0</td>\n",
       "      <td>4.0</td>\n",
       "      <td>14.0</td>\n",
       "      <td>2.0</td>\n",
       "      <td>11.0</td>\n",
       "      <td>6.0</td>\n",
       "      <td>有時</td>\n",
       "      <td>時常</td>\n",
       "      <td>...</td>\n",
       "      <td>私部門勞工</td>\n",
       "      <td>其他</td>\n",
       "      <td>家管</td>\n",
       "      <td>中立及看情形</td>\n",
       "      <td>中立及看情形</td>\n",
       "      <td>中立無反應</td>\n",
       "      <td>中立無反應</td>\n",
       "      <td>0.959659</td>\n",
       "      <td>高中、職</td>\n",
       "      <td>高中、職</td>\n",
       "    </tr>\n",
       "    <tr>\n",
       "      <th>3</th>\n",
       "      <td>120107.0</td>\n",
       "      <td>國立政治大學</td>\n",
       "      <td>25.0</td>\n",
       "      <td>4.0</td>\n",
       "      <td>14.0</td>\n",
       "      <td>2.0</td>\n",
       "      <td>11.0</td>\n",
       "      <td>5.0</td>\n",
       "      <td>很少</td>\n",
       "      <td>很少</td>\n",
       "      <td>...</td>\n",
       "      <td>軍公教人員</td>\n",
       "      <td>高、中級白領</td>\n",
       "      <td>軍公教人員</td>\n",
       "      <td>無反應及其他政黨</td>\n",
       "      <td>國民黨</td>\n",
       "      <td>中立無反應</td>\n",
       "      <td>普通支持國民黨</td>\n",
       "      <td>1.087015</td>\n",
       "      <td>大學及以上</td>\n",
       "      <td>大學及以上</td>\n",
       "    </tr>\n",
       "    <tr>\n",
       "      <th>4</th>\n",
       "      <td>120108.0</td>\n",
       "      <td>國立政治大學</td>\n",
       "      <td>20.0</td>\n",
       "      <td>5.0</td>\n",
       "      <td>5.0</td>\n",
       "      <td>2.0</td>\n",
       "      <td>15.0</td>\n",
       "      <td>26.0</td>\n",
       "      <td>時常</td>\n",
       "      <td>很少</td>\n",
       "      <td>...</td>\n",
       "      <td>私部門管理階層及專業人員</td>\n",
       "      <td>藍領</td>\n",
       "      <td>私部門勞工</td>\n",
       "      <td>民進黨</td>\n",
       "      <td>民進黨</td>\n",
       "      <td>普通支持民進黨</td>\n",
       "      <td>普通支持民進黨</td>\n",
       "      <td>0.959659</td>\n",
       "      <td>專科</td>\n",
       "      <td>高中、職</td>\n",
       "    </tr>\n",
       "    <tr>\n",
       "      <th>...</th>\n",
       "      <td>...</td>\n",
       "      <td>...</td>\n",
       "      <td>...</td>\n",
       "      <td>...</td>\n",
       "      <td>...</td>\n",
       "      <td>...</td>\n",
       "      <td>...</td>\n",
       "      <td>...</td>\n",
       "      <td>...</td>\n",
       "      <td>...</td>\n",
       "      <td>...</td>\n",
       "      <td>...</td>\n",
       "      <td>...</td>\n",
       "      <td>...</td>\n",
       "      <td>...</td>\n",
       "      <td>...</td>\n",
       "      <td>...</td>\n",
       "      <td>...</td>\n",
       "      <td>...</td>\n",
       "      <td>...</td>\n",
       "      <td>...</td>\n",
       "    </tr>\n",
       "    <tr>\n",
       "      <th>1089</th>\n",
       "      <td>2560308.0</td>\n",
       "      <td>國立高雄師範大學</td>\n",
       "      <td>19.0</td>\n",
       "      <td>3.0</td>\n",
       "      <td>26.0</td>\n",
       "      <td>4.0</td>\n",
       "      <td>8.0</td>\n",
       "      <td>40.0</td>\n",
       "      <td>有時</td>\n",
       "      <td>很少</td>\n",
       "      <td>...</td>\n",
       "      <td>私部門勞工</td>\n",
       "      <td>其他</td>\n",
       "      <td>家管</td>\n",
       "      <td>民進黨</td>\n",
       "      <td>民進黨</td>\n",
       "      <td>普通支持民進黨</td>\n",
       "      <td>偏民進黨</td>\n",
       "      <td>0.897055</td>\n",
       "      <td>大學及以上</td>\n",
       "      <td>高中、職</td>\n",
       "    </tr>\n",
       "    <tr>\n",
       "      <th>1090</th>\n",
       "      <td>2560309.0</td>\n",
       "      <td>國立高雄師範大學</td>\n",
       "      <td>18.0</td>\n",
       "      <td>3.0</td>\n",
       "      <td>26.0</td>\n",
       "      <td>4.0</td>\n",
       "      <td>12.0</td>\n",
       "      <td>7.0</td>\n",
       "      <td>有時</td>\n",
       "      <td>很少</td>\n",
       "      <td>...</td>\n",
       "      <td>軍公教人員</td>\n",
       "      <td>高、中級白領</td>\n",
       "      <td>私部門管理階層及專業人員</td>\n",
       "      <td>國民黨</td>\n",
       "      <td>民進黨</td>\n",
       "      <td>普通支持國民黨</td>\n",
       "      <td>偏民進黨</td>\n",
       "      <td>1.016103</td>\n",
       "      <td>專科</td>\n",
       "      <td>高中、職</td>\n",
       "    </tr>\n",
       "    <tr>\n",
       "      <th>1091</th>\n",
       "      <td>2560310.0</td>\n",
       "      <td>國立高雄師範大學</td>\n",
       "      <td>32.0</td>\n",
       "      <td>3.0</td>\n",
       "      <td>26.0</td>\n",
       "      <td>4.0</td>\n",
       "      <td>12.0</td>\n",
       "      <td>6.0</td>\n",
       "      <td>有時</td>\n",
       "      <td>很少</td>\n",
       "      <td>...</td>\n",
       "      <td>軍公教人員</td>\n",
       "      <td>其他</td>\n",
       "      <td>家管</td>\n",
       "      <td>國民黨</td>\n",
       "      <td>國民黨</td>\n",
       "      <td>普通支持國民黨</td>\n",
       "      <td>非常支持國民黨</td>\n",
       "      <td>1.016103</td>\n",
       "      <td>專科</td>\n",
       "      <td>專科</td>\n",
       "    </tr>\n",
       "    <tr>\n",
       "      <th>1092</th>\n",
       "      <td>2560311.0</td>\n",
       "      <td>國立高雄師範大學</td>\n",
       "      <td>15.0</td>\n",
       "      <td>3.0</td>\n",
       "      <td>26.0</td>\n",
       "      <td>4.0</td>\n",
       "      <td>12.0</td>\n",
       "      <td>7.0</td>\n",
       "      <td>有時</td>\n",
       "      <td>有時</td>\n",
       "      <td>...</td>\n",
       "      <td>私部門勞工</td>\n",
       "      <td>藍領</td>\n",
       "      <td>私部門勞工</td>\n",
       "      <td>無反應及其他政黨</td>\n",
       "      <td>無反應及其他政黨</td>\n",
       "      <td>中立無反應</td>\n",
       "      <td>中立無反應</td>\n",
       "      <td>1.016103</td>\n",
       "      <td>高中、職</td>\n",
       "      <td>高中、職</td>\n",
       "    </tr>\n",
       "    <tr>\n",
       "      <th>1093</th>\n",
       "      <td>2560312.0</td>\n",
       "      <td>國立高雄師範大學</td>\n",
       "      <td>21.0</td>\n",
       "      <td>3.0</td>\n",
       "      <td>26.0</td>\n",
       "      <td>4.0</td>\n",
       "      <td>8.0</td>\n",
       "      <td>41.0</td>\n",
       "      <td>很少</td>\n",
       "      <td>從不</td>\n",
       "      <td>...</td>\n",
       "      <td>私部門職員</td>\n",
       "      <td>中低、低級白領</td>\n",
       "      <td>私部門職員</td>\n",
       "      <td>國民黨</td>\n",
       "      <td>國民黨</td>\n",
       "      <td>非常支持國民黨</td>\n",
       "      <td>普通支持國民黨</td>\n",
       "      <td>0.897055</td>\n",
       "      <td>國、初中</td>\n",
       "      <td>高中、職</td>\n",
       "    </tr>\n",
       "  </tbody>\n",
       "</table>\n",
       "<p>1094 rows × 293 columns</p>\n",
       "</div>"
      ],
      "text/plain": [
       "             id       v01   v03  v10   v11  v12   v13   v14 a1a a1b  ...  \\\n",
       "0      120101.0    國立臺灣大學  27.0  5.0  13.0  3.0  18.0   5.0  很少  很少  ...   \n",
       "1      120102.0    國立政治大學  14.0  4.0  22.0  3.0  11.0  50.0  很少  很少  ...   \n",
       "2      120103.0    國立政治大學  13.0  4.0  14.0  2.0  11.0   6.0  有時  時常  ...   \n",
       "3      120107.0    國立政治大學  25.0  4.0  14.0  2.0  11.0   5.0  很少  很少  ...   \n",
       "4      120108.0    國立政治大學  20.0  5.0   5.0  2.0  15.0  26.0  時常  很少  ...   \n",
       "...         ...       ...   ...  ...   ...  ...   ...   ...  ..  ..  ...   \n",
       "1089  2560308.0  國立高雄師範大學  19.0  3.0  26.0  4.0   8.0  40.0  有時  很少  ...   \n",
       "1090  2560309.0  國立高雄師範大學  18.0  3.0  26.0  4.0  12.0   7.0  有時  很少  ...   \n",
       "1091  2560310.0  國立高雄師範大學  32.0  3.0  26.0  4.0  12.0   6.0  有時  很少  ...   \n",
       "1092  2560311.0  國立高雄師範大學  15.0  3.0  26.0  4.0  12.0   7.0  有時  有時  ...   \n",
       "1093  2560312.0  國立高雄師範大學  21.0  3.0  26.0  4.0   8.0  41.0  很少  從不  ...   \n",
       "\n",
       "          fcareer8 mcareer5      mcareer8  fpartyid  mpartyid   fparty  \\\n",
       "0     私部門管理階層及專業人員   高、中級白領  私部門管理階層及專業人員  無反應及其他政黨    中立及看情形    中立無反應   \n",
       "1            軍公教人員       其他            家管    中立及看情形    中立及看情形    中立無反應   \n",
       "2            私部門勞工       其他            家管    中立及看情形    中立及看情形    中立無反應   \n",
       "3            軍公教人員   高、中級白領         軍公教人員  無反應及其他政黨       國民黨    中立無反應   \n",
       "4     私部門管理階層及專業人員       藍領         私部門勞工       民進黨       民進黨  普通支持民進黨   \n",
       "...            ...      ...           ...       ...       ...      ...   \n",
       "1089         私部門勞工       其他            家管       民進黨       民進黨  普通支持民進黨   \n",
       "1090         軍公教人員   高、中級白領  私部門管理階層及專業人員       國民黨       民進黨  普通支持國民黨   \n",
       "1091         軍公教人員       其他            家管       國民黨       國民黨  普通支持國民黨   \n",
       "1092         私部門勞工       藍領         私部門勞工  無反應及其他政黨  無反應及其他政黨    中立無反應   \n",
       "1093         私部門職員  中低、低級白領         私部門職員       國民黨       國民黨  非常支持國民黨   \n",
       "\n",
       "       mparty         w   fedu   medu  \n",
       "0       中立無反應  0.959659  大學及以上  大學及以上  \n",
       "1       中立無反應  0.959659  大學及以上   高中、職  \n",
       "2       中立無反應  0.959659   高中、職   高中、職  \n",
       "3     普通支持國民黨  1.087015  大學及以上  大學及以上  \n",
       "4     普通支持民進黨  0.959659     專科   高中、職  \n",
       "...       ...       ...    ...    ...  \n",
       "1089     偏民進黨  0.897055  大學及以上   高中、職  \n",
       "1090     偏民進黨  1.016103     專科   高中、職  \n",
       "1091  非常支持國民黨  1.016103     專科     專科  \n",
       "1092    中立無反應  1.016103   高中、職   高中、職  \n",
       "1093  普通支持國民黨  0.897055   國、初中   高中、職  \n",
       "\n",
       "[1094 rows x 293 columns]"
      ]
     },
     "execution_count": 391,
     "metadata": {},
     "output_type": "execute_result"
    }
   ],
   "source": [
    "df"
   ]
  },
  {
   "cell_type": "markdown",
   "metadata": {},
   "source": [
    "## Data Cleaning"
   ]
  },
  {
   "cell_type": "markdown",
   "metadata": {},
   "source": [
    "* 家庭\n",
    "* 教育 - v01\n",
    "* 政治參與"
   ]
  },
  {
   "cell_type": "markdown",
   "metadata": {},
   "source": [
    "### 學校屬性"
   ]
  },
  {
   "cell_type": "markdown",
   "metadata": {},
   "source": [
    "* 受訪者學校"
   ]
  },
  {
   "cell_type": "code",
   "execution_count": 392,
   "metadata": {},
   "outputs": [
    {
     "data": {
      "text/plain": [
       "私立技職    404\n",
       "私立一般    359\n",
       "公立一般    210\n",
       "公立技職     83\n",
       "師範       38\n",
       "Name: strata5, dtype: int64"
      ]
     },
     "execution_count": 392,
     "metadata": {},
     "output_type": "execute_result"
    }
   ],
   "source": [
    "df['strata5'].value_counts()"
   ]
  },
  {
   "cell_type": "code",
   "execution_count": 393,
   "metadata": {},
   "outputs": [],
   "source": [
    "def schooltype(strata5):\n",
    "    if strata5 == '私立技職':\n",
    "        return '私立技職'\n",
    "    elif strata5 == '私立一般':\n",
    "        return '私立一般'\n",
    "    elif strata5 == '公立一般':\n",
    "        return '公立一般'\n",
    "    elif strata5 == '公立技職':\n",
    "        return '公立技職'\n",
    "    elif strata5 == '師範':\n",
    "        return '公立一般'\n",
    "    else:\n",
    "        return float('NaN')"
   ]
  },
  {
   "cell_type": "code",
   "execution_count": 394,
   "metadata": {},
   "outputs": [],
   "source": [
    "df['SchoolType'] = df['strata5'].apply(schooltype)"
   ]
  },
  {
   "cell_type": "code",
   "execution_count": 395,
   "metadata": {},
   "outputs": [
    {
     "data": {
      "text/plain": [
       "私立技職    404\n",
       "私立一般    359\n",
       "公立一般    248\n",
       "公立技職     83\n",
       "Name: SchoolType, dtype: int64"
      ]
     },
     "execution_count": 395,
     "metadata": {},
     "output_type": "execute_result"
    }
   ],
   "source": [
    "df['SchoolType'].value_counts()"
   ]
  },
  {
   "cell_type": "code",
   "execution_count": 396,
   "metadata": {},
   "outputs": [
    {
     "data": {
      "application/vnd.plotly.v1+json": {
       "config": {
        "plotlyServerURL": "https://plot.ly"
       },
       "data": [
        {
         "alignmentgroup": "True",
         "hovertemplate": "SchoolType=%{x}<br>y=%{y}<br>text=%{text}<extra></extra>",
         "legendgroup": "公立一般",
         "marker": {
          "color": "#636efa",
          "pattern": {
           "shape": ""
          }
         },
         "name": "公立一般",
         "offsetgroup": "公立一般",
         "orientation": "v",
         "showlegend": true,
         "text": [
          248
         ],
         "textposition": "auto",
         "type": "bar",
         "x": [
          "公立一般"
         ],
         "xaxis": "x",
         "y": [
          248
         ],
         "yaxis": "y"
        },
        {
         "alignmentgroup": "True",
         "hovertemplate": "SchoolType=%{x}<br>y=%{y}<br>text=%{text}<extra></extra>",
         "legendgroup": "公立技職",
         "marker": {
          "color": "#EF553B",
          "pattern": {
           "shape": ""
          }
         },
         "name": "公立技職",
         "offsetgroup": "公立技職",
         "orientation": "v",
         "showlegend": true,
         "text": [
          83
         ],
         "textposition": "auto",
         "type": "bar",
         "x": [
          "公立技職"
         ],
         "xaxis": "x",
         "y": [
          83
         ],
         "yaxis": "y"
        },
        {
         "alignmentgroup": "True",
         "hovertemplate": "SchoolType=%{x}<br>y=%{y}<br>text=%{text}<extra></extra>",
         "legendgroup": "私立一般",
         "marker": {
          "color": "#00cc96",
          "pattern": {
           "shape": ""
          }
         },
         "name": "私立一般",
         "offsetgroup": "私立一般",
         "orientation": "v",
         "showlegend": true,
         "text": [
          359
         ],
         "textposition": "auto",
         "type": "bar",
         "x": [
          "私立一般"
         ],
         "xaxis": "x",
         "y": [
          359
         ],
         "yaxis": "y"
        },
        {
         "alignmentgroup": "True",
         "hovertemplate": "SchoolType=%{x}<br>y=%{y}<br>text=%{text}<extra></extra>",
         "legendgroup": "私立技職",
         "marker": {
          "color": "#ab63fa",
          "pattern": {
           "shape": ""
          }
         },
         "name": "私立技職",
         "offsetgroup": "私立技職",
         "orientation": "v",
         "showlegend": true,
         "text": [
          404
         ],
         "textposition": "auto",
         "type": "bar",
         "x": [
          "私立技職"
         ],
         "xaxis": "x",
         "y": [
          404
         ],
         "yaxis": "y"
        }
       ],
       "layout": {
        "barmode": "relative",
        "height": 500,
        "legend": {
         "title": {
          "text": "SchoolType"
         },
         "tracegroupgap": 0
        },
        "template": {
         "data": {
          "bar": [
           {
            "error_x": {
             "color": "#2a3f5f"
            },
            "error_y": {
             "color": "#2a3f5f"
            },
            "marker": {
             "line": {
              "color": "#E5ECF6",
              "width": 0.5
             },
             "pattern": {
              "fillmode": "overlay",
              "size": 10,
              "solidity": 0.2
             }
            },
            "type": "bar"
           }
          ],
          "barpolar": [
           {
            "marker": {
             "line": {
              "color": "#E5ECF6",
              "width": 0.5
             },
             "pattern": {
              "fillmode": "overlay",
              "size": 10,
              "solidity": 0.2
             }
            },
            "type": "barpolar"
           }
          ],
          "carpet": [
           {
            "aaxis": {
             "endlinecolor": "#2a3f5f",
             "gridcolor": "white",
             "linecolor": "white",
             "minorgridcolor": "white",
             "startlinecolor": "#2a3f5f"
            },
            "baxis": {
             "endlinecolor": "#2a3f5f",
             "gridcolor": "white",
             "linecolor": "white",
             "minorgridcolor": "white",
             "startlinecolor": "#2a3f5f"
            },
            "type": "carpet"
           }
          ],
          "choropleth": [
           {
            "colorbar": {
             "outlinewidth": 0,
             "ticks": ""
            },
            "type": "choropleth"
           }
          ],
          "contour": [
           {
            "colorbar": {
             "outlinewidth": 0,
             "ticks": ""
            },
            "colorscale": [
             [
              0,
              "#0d0887"
             ],
             [
              0.1111111111111111,
              "#46039f"
             ],
             [
              0.2222222222222222,
              "#7201a8"
             ],
             [
              0.3333333333333333,
              "#9c179e"
             ],
             [
              0.4444444444444444,
              "#bd3786"
             ],
             [
              0.5555555555555556,
              "#d8576b"
             ],
             [
              0.6666666666666666,
              "#ed7953"
             ],
             [
              0.7777777777777778,
              "#fb9f3a"
             ],
             [
              0.8888888888888888,
              "#fdca26"
             ],
             [
              1,
              "#f0f921"
             ]
            ],
            "type": "contour"
           }
          ],
          "contourcarpet": [
           {
            "colorbar": {
             "outlinewidth": 0,
             "ticks": ""
            },
            "type": "contourcarpet"
           }
          ],
          "heatmap": [
           {
            "colorbar": {
             "outlinewidth": 0,
             "ticks": ""
            },
            "colorscale": [
             [
              0,
              "#0d0887"
             ],
             [
              0.1111111111111111,
              "#46039f"
             ],
             [
              0.2222222222222222,
              "#7201a8"
             ],
             [
              0.3333333333333333,
              "#9c179e"
             ],
             [
              0.4444444444444444,
              "#bd3786"
             ],
             [
              0.5555555555555556,
              "#d8576b"
             ],
             [
              0.6666666666666666,
              "#ed7953"
             ],
             [
              0.7777777777777778,
              "#fb9f3a"
             ],
             [
              0.8888888888888888,
              "#fdca26"
             ],
             [
              1,
              "#f0f921"
             ]
            ],
            "type": "heatmap"
           }
          ],
          "heatmapgl": [
           {
            "colorbar": {
             "outlinewidth": 0,
             "ticks": ""
            },
            "colorscale": [
             [
              0,
              "#0d0887"
             ],
             [
              0.1111111111111111,
              "#46039f"
             ],
             [
              0.2222222222222222,
              "#7201a8"
             ],
             [
              0.3333333333333333,
              "#9c179e"
             ],
             [
              0.4444444444444444,
              "#bd3786"
             ],
             [
              0.5555555555555556,
              "#d8576b"
             ],
             [
              0.6666666666666666,
              "#ed7953"
             ],
             [
              0.7777777777777778,
              "#fb9f3a"
             ],
             [
              0.8888888888888888,
              "#fdca26"
             ],
             [
              1,
              "#f0f921"
             ]
            ],
            "type": "heatmapgl"
           }
          ],
          "histogram": [
           {
            "marker": {
             "pattern": {
              "fillmode": "overlay",
              "size": 10,
              "solidity": 0.2
             }
            },
            "type": "histogram"
           }
          ],
          "histogram2d": [
           {
            "colorbar": {
             "outlinewidth": 0,
             "ticks": ""
            },
            "colorscale": [
             [
              0,
              "#0d0887"
             ],
             [
              0.1111111111111111,
              "#46039f"
             ],
             [
              0.2222222222222222,
              "#7201a8"
             ],
             [
              0.3333333333333333,
              "#9c179e"
             ],
             [
              0.4444444444444444,
              "#bd3786"
             ],
             [
              0.5555555555555556,
              "#d8576b"
             ],
             [
              0.6666666666666666,
              "#ed7953"
             ],
             [
              0.7777777777777778,
              "#fb9f3a"
             ],
             [
              0.8888888888888888,
              "#fdca26"
             ],
             [
              1,
              "#f0f921"
             ]
            ],
            "type": "histogram2d"
           }
          ],
          "histogram2dcontour": [
           {
            "colorbar": {
             "outlinewidth": 0,
             "ticks": ""
            },
            "colorscale": [
             [
              0,
              "#0d0887"
             ],
             [
              0.1111111111111111,
              "#46039f"
             ],
             [
              0.2222222222222222,
              "#7201a8"
             ],
             [
              0.3333333333333333,
              "#9c179e"
             ],
             [
              0.4444444444444444,
              "#bd3786"
             ],
             [
              0.5555555555555556,
              "#d8576b"
             ],
             [
              0.6666666666666666,
              "#ed7953"
             ],
             [
              0.7777777777777778,
              "#fb9f3a"
             ],
             [
              0.8888888888888888,
              "#fdca26"
             ],
             [
              1,
              "#f0f921"
             ]
            ],
            "type": "histogram2dcontour"
           }
          ],
          "mesh3d": [
           {
            "colorbar": {
             "outlinewidth": 0,
             "ticks": ""
            },
            "type": "mesh3d"
           }
          ],
          "parcoords": [
           {
            "line": {
             "colorbar": {
              "outlinewidth": 0,
              "ticks": ""
             }
            },
            "type": "parcoords"
           }
          ],
          "pie": [
           {
            "automargin": true,
            "type": "pie"
           }
          ],
          "scatter": [
           {
            "fillpattern": {
             "fillmode": "overlay",
             "size": 10,
             "solidity": 0.2
            },
            "type": "scatter"
           }
          ],
          "scatter3d": [
           {
            "line": {
             "colorbar": {
              "outlinewidth": 0,
              "ticks": ""
             }
            },
            "marker": {
             "colorbar": {
              "outlinewidth": 0,
              "ticks": ""
             }
            },
            "type": "scatter3d"
           }
          ],
          "scattercarpet": [
           {
            "marker": {
             "colorbar": {
              "outlinewidth": 0,
              "ticks": ""
             }
            },
            "type": "scattercarpet"
           }
          ],
          "scattergeo": [
           {
            "marker": {
             "colorbar": {
              "outlinewidth": 0,
              "ticks": ""
             }
            },
            "type": "scattergeo"
           }
          ],
          "scattergl": [
           {
            "marker": {
             "colorbar": {
              "outlinewidth": 0,
              "ticks": ""
             }
            },
            "type": "scattergl"
           }
          ],
          "scattermapbox": [
           {
            "marker": {
             "colorbar": {
              "outlinewidth": 0,
              "ticks": ""
             }
            },
            "type": "scattermapbox"
           }
          ],
          "scatterpolar": [
           {
            "marker": {
             "colorbar": {
              "outlinewidth": 0,
              "ticks": ""
             }
            },
            "type": "scatterpolar"
           }
          ],
          "scatterpolargl": [
           {
            "marker": {
             "colorbar": {
              "outlinewidth": 0,
              "ticks": ""
             }
            },
            "type": "scatterpolargl"
           }
          ],
          "scatterternary": [
           {
            "marker": {
             "colorbar": {
              "outlinewidth": 0,
              "ticks": ""
             }
            },
            "type": "scatterternary"
           }
          ],
          "surface": [
           {
            "colorbar": {
             "outlinewidth": 0,
             "ticks": ""
            },
            "colorscale": [
             [
              0,
              "#0d0887"
             ],
             [
              0.1111111111111111,
              "#46039f"
             ],
             [
              0.2222222222222222,
              "#7201a8"
             ],
             [
              0.3333333333333333,
              "#9c179e"
             ],
             [
              0.4444444444444444,
              "#bd3786"
             ],
             [
              0.5555555555555556,
              "#d8576b"
             ],
             [
              0.6666666666666666,
              "#ed7953"
             ],
             [
              0.7777777777777778,
              "#fb9f3a"
             ],
             [
              0.8888888888888888,
              "#fdca26"
             ],
             [
              1,
              "#f0f921"
             ]
            ],
            "type": "surface"
           }
          ],
          "table": [
           {
            "cells": {
             "fill": {
              "color": "#EBF0F8"
             },
             "line": {
              "color": "white"
             }
            },
            "header": {
             "fill": {
              "color": "#C8D4E3"
             },
             "line": {
              "color": "white"
             }
            },
            "type": "table"
           }
          ]
         },
         "layout": {
          "annotationdefaults": {
           "arrowcolor": "#2a3f5f",
           "arrowhead": 0,
           "arrowwidth": 1
          },
          "autotypenumbers": "strict",
          "coloraxis": {
           "colorbar": {
            "outlinewidth": 0,
            "ticks": ""
           }
          },
          "colorscale": {
           "diverging": [
            [
             0,
             "#8e0152"
            ],
            [
             0.1,
             "#c51b7d"
            ],
            [
             0.2,
             "#de77ae"
            ],
            [
             0.3,
             "#f1b6da"
            ],
            [
             0.4,
             "#fde0ef"
            ],
            [
             0.5,
             "#f7f7f7"
            ],
            [
             0.6,
             "#e6f5d0"
            ],
            [
             0.7,
             "#b8e186"
            ],
            [
             0.8,
             "#7fbc41"
            ],
            [
             0.9,
             "#4d9221"
            ],
            [
             1,
             "#276419"
            ]
           ],
           "sequential": [
            [
             0,
             "#0d0887"
            ],
            [
             0.1111111111111111,
             "#46039f"
            ],
            [
             0.2222222222222222,
             "#7201a8"
            ],
            [
             0.3333333333333333,
             "#9c179e"
            ],
            [
             0.4444444444444444,
             "#bd3786"
            ],
            [
             0.5555555555555556,
             "#d8576b"
            ],
            [
             0.6666666666666666,
             "#ed7953"
            ],
            [
             0.7777777777777778,
             "#fb9f3a"
            ],
            [
             0.8888888888888888,
             "#fdca26"
            ],
            [
             1,
             "#f0f921"
            ]
           ],
           "sequentialminus": [
            [
             0,
             "#0d0887"
            ],
            [
             0.1111111111111111,
             "#46039f"
            ],
            [
             0.2222222222222222,
             "#7201a8"
            ],
            [
             0.3333333333333333,
             "#9c179e"
            ],
            [
             0.4444444444444444,
             "#bd3786"
            ],
            [
             0.5555555555555556,
             "#d8576b"
            ],
            [
             0.6666666666666666,
             "#ed7953"
            ],
            [
             0.7777777777777778,
             "#fb9f3a"
            ],
            [
             0.8888888888888888,
             "#fdca26"
            ],
            [
             1,
             "#f0f921"
            ]
           ]
          },
          "colorway": [
           "#636efa",
           "#EF553B",
           "#00cc96",
           "#ab63fa",
           "#FFA15A",
           "#19d3f3",
           "#FF6692",
           "#B6E880",
           "#FF97FF",
           "#FECB52"
          ],
          "font": {
           "color": "#2a3f5f"
          },
          "geo": {
           "bgcolor": "white",
           "lakecolor": "white",
           "landcolor": "#E5ECF6",
           "showlakes": true,
           "showland": true,
           "subunitcolor": "white"
          },
          "hoverlabel": {
           "align": "left"
          },
          "hovermode": "closest",
          "mapbox": {
           "style": "light"
          },
          "paper_bgcolor": "white",
          "plot_bgcolor": "#E5ECF6",
          "polar": {
           "angularaxis": {
            "gridcolor": "white",
            "linecolor": "white",
            "ticks": ""
           },
           "bgcolor": "#E5ECF6",
           "radialaxis": {
            "gridcolor": "white",
            "linecolor": "white",
            "ticks": ""
           }
          },
          "scene": {
           "xaxis": {
            "backgroundcolor": "#E5ECF6",
            "gridcolor": "white",
            "gridwidth": 2,
            "linecolor": "white",
            "showbackground": true,
            "ticks": "",
            "zerolinecolor": "white"
           },
           "yaxis": {
            "backgroundcolor": "#E5ECF6",
            "gridcolor": "white",
            "gridwidth": 2,
            "linecolor": "white",
            "showbackground": true,
            "ticks": "",
            "zerolinecolor": "white"
           },
           "zaxis": {
            "backgroundcolor": "#E5ECF6",
            "gridcolor": "white",
            "gridwidth": 2,
            "linecolor": "white",
            "showbackground": true,
            "ticks": "",
            "zerolinecolor": "white"
           }
          },
          "shapedefaults": {
           "line": {
            "color": "#2a3f5f"
           }
          },
          "ternary": {
           "aaxis": {
            "gridcolor": "white",
            "linecolor": "white",
            "ticks": ""
           },
           "baxis": {
            "gridcolor": "white",
            "linecolor": "white",
            "ticks": ""
           },
           "bgcolor": "#E5ECF6",
           "caxis": {
            "gridcolor": "white",
            "linecolor": "white",
            "ticks": ""
           }
          },
          "title": {
           "x": 0.05
          },
          "xaxis": {
           "automargin": true,
           "gridcolor": "white",
           "linecolor": "white",
           "ticks": "",
           "title": {
            "standoff": 15
           },
           "zerolinecolor": "white",
           "zerolinewidth": 2
          },
          "yaxis": {
           "automargin": true,
           "gridcolor": "white",
           "linecolor": "white",
           "ticks": "",
           "title": {
            "standoff": 15
           },
           "zerolinecolor": "white",
           "zerolinewidth": 2
          }
         }
        },
        "title": {
         "text": "學校屬性分佈"
        },
        "width": 600,
        "xaxis": {
         "anchor": "y",
         "categoryarray": [
          "公立一般",
          "公立技職",
          "私立一般",
          "私立技職"
         ],
         "categoryorder": "array",
         "domain": [
          0,
          1
         ],
         "title": {
          "text": "SchoolType"
         }
        },
        "yaxis": {
         "anchor": "x",
         "domain": [
          0,
          1
         ],
         "title": {
          "text": "y"
         }
        }
       }
      }
     },
     "metadata": {},
     "output_type": "display_data"
    }
   ],
   "source": [
    "df1 = df.groupby([\"SchoolType\"]).count().reset_index()\n",
    "\n",
    "fig1 = px.bar(df1, height=500, width=600,\n",
    "             y = df.groupby([\"SchoolType\"]).size(),\n",
    "             x=\"SchoolType\",\n",
    "             color='SchoolType',\n",
    "             text = df.groupby([\"SchoolType\"]).size(), \n",
    "             title = '學校屬性分佈')\n",
    "fig1.show()"
   ]
  },
  {
   "cell_type": "markdown",
   "metadata": {},
   "source": [
    "* SchoolType to num：數值越大教育資源越高(假設的)"
   ]
  },
  {
   "cell_type": "code",
   "execution_count": 397,
   "metadata": {},
   "outputs": [],
   "source": [
    "def schooltype_num(SchoolType):\n",
    "    if SchoolType == '公立一般':\n",
    "        return float(4)\n",
    "    elif SchoolType == '私立一般':\n",
    "        return float(3)\n",
    "    elif SchoolType == '公立技職':\n",
    "        return float(2)\n",
    "    else:\n",
    "        return float(1)"
   ]
  },
  {
   "cell_type": "code",
   "execution_count": 398,
   "metadata": {},
   "outputs": [],
   "source": [
    "df['SchoolType_num'] = df['SchoolType'].apply(schooltype_num)"
   ]
  },
  {
   "cell_type": "markdown",
   "metadata": {},
   "source": [
    "* 受訪者科系"
   ]
  },
  {
   "cell_type": "code",
   "execution_count": 399,
   "metadata": {},
   "outputs": [
    {
     "data": {
      "text/plain": [
       "商學管理    299\n",
       "工科      296\n",
       "人文藝術    178\n",
       "理科      123\n",
       "經社心理    105\n",
       "醫科       38\n",
       "教育       27\n",
       "農科       19\n",
       "法律        9\n",
       "Name: strata9, dtype: int64"
      ]
     },
     "execution_count": 399,
     "metadata": {},
     "output_type": "execute_result"
    }
   ],
   "source": [
    "df['strata9'].value_counts()"
   ]
  },
  {
   "cell_type": "code",
   "execution_count": 400,
   "metadata": {},
   "outputs": [],
   "source": [
    "def major(strata9):\n",
    "    if strata9 == '經社心理':\n",
    "        return int(1)\n",
    "    else:\n",
    "        return int(0)"
   ]
  },
  {
   "cell_type": "code",
   "execution_count": 401,
   "metadata": {},
   "outputs": [],
   "source": [
    "df['Major'] = df['strata9'].apply(major)"
   ]
  },
  {
   "cell_type": "markdown",
   "metadata": {},
   "source": [
    "* 學校到立法院距離(最短行車距離) </br>\n",
    "資料搜集日期：2022.08.18 14:23-14:45"
   ]
  },
  {
   "cell_type": "code",
   "execution_count": 402,
   "metadata": {},
   "outputs": [],
   "source": [
    "def distance(v01):\n",
    "    if v01 == '明志科技大學':\n",
    "        return float(12.3)\n",
    "    elif v01 == '東吳大學':\n",
    "        return float(9.0)\n",
    "    elif v01 == '明道大學':\n",
    "        return float(202)\n",
    "    elif v01 == '銘傳大學':\n",
    "        return  float(7.1)\n",
    "    elif v01 == '臺南應用科技大學':\n",
    "        return float(299)\n",
    "    elif v01 == '輔仁大學':\n",
    "        return float(10.9)\n",
    "    elif v01 == '高苑科技大學':\n",
    "        return float(325)\n",
    "    elif v01 == '黎明技術學院':\n",
    "        return float(11.9)\n",
    "    elif v01 == '國立中興大學':\n",
    "        return float(166)\n",
    "    elif v01 == '元培醫事科技大學(原:元培科技大學)':\n",
    "        return float(83.9)\n",
    "    elif v01 == '國立成功大學':\n",
    "        return float(306)\n",
    "    elif v01 == '大同技術學院':\n",
    "        return float(251)\n",
    "    elif v01 == '國立東華大學':\n",
    "        return float(172)\n",
    "    elif v01 == '逢甲大學':\n",
    "        return float(155)\n",
    "    elif v01 == '國立政治大學':\n",
    "        return float(12.3)\n",
    "    elif v01 == '元智大學':\n",
    "        return float(36.3)\n",
    "    elif v01 == '龍華科技大學':\n",
    "        return float(15.5)\n",
    "    elif v01 == '國立中央大學':\n",
    "        return float(41.8)\n",
    "    elif v01 == '國立屏東大學(屏商校區)(原:國立屏東商)':\n",
    "        return float(365)\n",
    "    elif v01 == '國立虎尾科技大學':\n",
    "        return float(224)\n",
    "    elif v01 == '國立高雄師範大學':\n",
    "        return float(347)\n",
    "    elif v01 == '國立高雄海洋科技大學':\n",
    "        return float(337)\n",
    "    elif v01 == '中臺科技大學':\n",
    "        return float(159)\n",
    "    elif v01 == '國立臺北教育大學':\n",
    "        return float(4.6)\n",
    "    elif v01 == '國立勤益科技大學':\n",
    "        return float(161)\n",
    "    elif v01 == '國立臺灣大學':\n",
    "        return float(4.0)\n",
    "    else:\n",
    "        return float('NaN')"
   ]
  },
  {
   "cell_type": "code",
   "execution_count": 403,
   "metadata": {},
   "outputs": [],
   "source": [
    "df['Distance'] = df['v01'].apply(distance)"
   ]
  },
  {
   "cell_type": "markdown",
   "metadata": {},
   "source": [
    "* 2012平均最低入取分數"
   ]
  },
  {
   "cell_type": "code",
   "execution_count": 404,
   "metadata": {},
   "outputs": [],
   "source": [
    "def Score(v01):\n",
    "    if v01 == '明志科技大學':\n",
    "        return float(12.3)\n",
    "    elif v01 == '東吳大學':\n",
    "        return float(9.0)\n",
    "    elif v01 == '明道大學':\n",
    "        return float(202)\n",
    "    elif v01 == '銘傳大學':\n",
    "        return  float(7.1)\n",
    "    elif v01 == '臺南應用科技大學':\n",
    "        return float(299)\n",
    "    elif v01 == '輔仁大學':\n",
    "        return float(10.9)\n",
    "    elif v01 == '高苑科技大學':\n",
    "        return float(325)\n",
    "    elif v01 == '黎明技術學院':\n",
    "        return float(11.9)\n",
    "    elif v01 == '國立中興大學':\n",
    "        return float(166)\n",
    "    elif v01 == '元培醫事科技大學(原:元培科技大學)':\n",
    "        return float(83.9)\n",
    "    elif v01 == '國立成功大學':\n",
    "        return float(306)\n",
    "    elif v01 == '大同技術學院':\n",
    "        return float(251)\n",
    "    elif v01 == '國立東華大學':\n",
    "        return float(172)\n",
    "    elif v01 == '逢甲大學':\n",
    "        return float(155)\n",
    "    elif v01 == '國立政治大學':\n",
    "        return float(12.3)\n",
    "    elif v01 == '元智大學':\n",
    "        return float(36.3)\n",
    "    elif v01 == '龍華科技大學':\n",
    "        return float(15.5)\n",
    "    elif v01 == '國立中央大學':\n",
    "        return float(41.8)\n",
    "    elif v01 == '國立屏東大學(屏商校區)(原:國立屏東商)':\n",
    "        return float(365)\n",
    "    elif v01 == '國立虎尾科技大學':\n",
    "        return float(224)\n",
    "    elif v01 == '國立高雄師範大學':\n",
    "        return float(347)\n",
    "    elif v01 == '國立高雄海洋科技大學':\n",
    "        return float(337)\n",
    "    elif v01 == '中臺科技大學':\n",
    "        return float(159)\n",
    "    elif v01 == '國立臺北教育大學':\n",
    "        return float(4.6)\n",
    "    elif v01 == '國立勤益科技大學':\n",
    "        return float(161)\n",
    "    elif v01 == '國立臺灣大學':\n",
    "        return float(4.0)\n",
    "    else:\n",
    "        return float('NaN')"
   ]
  },
  {
   "cell_type": "markdown",
   "metadata": {},
   "source": [
    "### 政治參與 / 投票"
   ]
  },
  {
   "cell_type": "markdown",
   "metadata": {},
   "source": [
    "* 是否參加太陽花學運"
   ]
  },
  {
   "cell_type": "code",
   "execution_count": 405,
   "metadata": {},
   "outputs": [
    {
     "data": {
      "text/plain": [
       "從不(跳答R1題)    772\n",
       "有時           140\n",
       "很少           138\n",
       "時常            42\n",
       "拒答             2\n",
       "Name: q17, dtype: int64"
      ]
     },
     "execution_count": 405,
     "metadata": {},
     "output_type": "execute_result"
    }
   ],
   "source": [
    "df['q17'].value_counts()"
   ]
  },
  {
   "cell_type": "code",
   "execution_count": 406,
   "metadata": {},
   "outputs": [],
   "source": [
    "def Funflower(q17):\n",
    "    if q17 == '從不(跳答R1題)':\n",
    "        return '沒有'\n",
    "    elif q17 == '拒答':\n",
    "        return float('NaN')\n",
    "    else:\n",
    "        return '有'"
   ]
  },
  {
   "cell_type": "code",
   "execution_count": 407,
   "metadata": {},
   "outputs": [],
   "source": [
    "df['Funflower_movement'] = df['q17'].apply(Funflower)"
   ]
  },
  {
   "cell_type": "code",
   "execution_count": 408,
   "metadata": {},
   "outputs": [
    {
     "data": {
      "application/vnd.plotly.v1+json": {
       "config": {
        "plotlyServerURL": "https://plot.ly"
       },
       "data": [
        {
         "alignmentgroup": "True",
         "hovertemplate": "Funflower_movement=%{x}<br>y=%{y}<br>text=%{text}<extra></extra>",
         "legendgroup": "有",
         "marker": {
          "color": "#636efa",
          "pattern": {
           "shape": ""
          }
         },
         "name": "有",
         "offsetgroup": "有",
         "orientation": "v",
         "showlegend": true,
         "text": [
          320
         ],
         "textposition": "auto",
         "type": "bar",
         "x": [
          "有"
         ],
         "xaxis": "x",
         "y": [
          320
         ],
         "yaxis": "y"
        },
        {
         "alignmentgroup": "True",
         "hovertemplate": "Funflower_movement=%{x}<br>y=%{y}<br>text=%{text}<extra></extra>",
         "legendgroup": "沒有",
         "marker": {
          "color": "#EF553B",
          "pattern": {
           "shape": ""
          }
         },
         "name": "沒有",
         "offsetgroup": "沒有",
         "orientation": "v",
         "showlegend": true,
         "text": [
          772
         ],
         "textposition": "auto",
         "type": "bar",
         "x": [
          "沒有"
         ],
         "xaxis": "x",
         "y": [
          772
         ],
         "yaxis": "y"
        }
       ],
       "layout": {
        "barmode": "relative",
        "height": 500,
        "legend": {
         "title": {
          "text": "Funflower_movement"
         },
         "tracegroupgap": 0
        },
        "template": {
         "data": {
          "bar": [
           {
            "error_x": {
             "color": "#2a3f5f"
            },
            "error_y": {
             "color": "#2a3f5f"
            },
            "marker": {
             "line": {
              "color": "#E5ECF6",
              "width": 0.5
             },
             "pattern": {
              "fillmode": "overlay",
              "size": 10,
              "solidity": 0.2
             }
            },
            "type": "bar"
           }
          ],
          "barpolar": [
           {
            "marker": {
             "line": {
              "color": "#E5ECF6",
              "width": 0.5
             },
             "pattern": {
              "fillmode": "overlay",
              "size": 10,
              "solidity": 0.2
             }
            },
            "type": "barpolar"
           }
          ],
          "carpet": [
           {
            "aaxis": {
             "endlinecolor": "#2a3f5f",
             "gridcolor": "white",
             "linecolor": "white",
             "minorgridcolor": "white",
             "startlinecolor": "#2a3f5f"
            },
            "baxis": {
             "endlinecolor": "#2a3f5f",
             "gridcolor": "white",
             "linecolor": "white",
             "minorgridcolor": "white",
             "startlinecolor": "#2a3f5f"
            },
            "type": "carpet"
           }
          ],
          "choropleth": [
           {
            "colorbar": {
             "outlinewidth": 0,
             "ticks": ""
            },
            "type": "choropleth"
           }
          ],
          "contour": [
           {
            "colorbar": {
             "outlinewidth": 0,
             "ticks": ""
            },
            "colorscale": [
             [
              0,
              "#0d0887"
             ],
             [
              0.1111111111111111,
              "#46039f"
             ],
             [
              0.2222222222222222,
              "#7201a8"
             ],
             [
              0.3333333333333333,
              "#9c179e"
             ],
             [
              0.4444444444444444,
              "#bd3786"
             ],
             [
              0.5555555555555556,
              "#d8576b"
             ],
             [
              0.6666666666666666,
              "#ed7953"
             ],
             [
              0.7777777777777778,
              "#fb9f3a"
             ],
             [
              0.8888888888888888,
              "#fdca26"
             ],
             [
              1,
              "#f0f921"
             ]
            ],
            "type": "contour"
           }
          ],
          "contourcarpet": [
           {
            "colorbar": {
             "outlinewidth": 0,
             "ticks": ""
            },
            "type": "contourcarpet"
           }
          ],
          "heatmap": [
           {
            "colorbar": {
             "outlinewidth": 0,
             "ticks": ""
            },
            "colorscale": [
             [
              0,
              "#0d0887"
             ],
             [
              0.1111111111111111,
              "#46039f"
             ],
             [
              0.2222222222222222,
              "#7201a8"
             ],
             [
              0.3333333333333333,
              "#9c179e"
             ],
             [
              0.4444444444444444,
              "#bd3786"
             ],
             [
              0.5555555555555556,
              "#d8576b"
             ],
             [
              0.6666666666666666,
              "#ed7953"
             ],
             [
              0.7777777777777778,
              "#fb9f3a"
             ],
             [
              0.8888888888888888,
              "#fdca26"
             ],
             [
              1,
              "#f0f921"
             ]
            ],
            "type": "heatmap"
           }
          ],
          "heatmapgl": [
           {
            "colorbar": {
             "outlinewidth": 0,
             "ticks": ""
            },
            "colorscale": [
             [
              0,
              "#0d0887"
             ],
             [
              0.1111111111111111,
              "#46039f"
             ],
             [
              0.2222222222222222,
              "#7201a8"
             ],
             [
              0.3333333333333333,
              "#9c179e"
             ],
             [
              0.4444444444444444,
              "#bd3786"
             ],
             [
              0.5555555555555556,
              "#d8576b"
             ],
             [
              0.6666666666666666,
              "#ed7953"
             ],
             [
              0.7777777777777778,
              "#fb9f3a"
             ],
             [
              0.8888888888888888,
              "#fdca26"
             ],
             [
              1,
              "#f0f921"
             ]
            ],
            "type": "heatmapgl"
           }
          ],
          "histogram": [
           {
            "marker": {
             "pattern": {
              "fillmode": "overlay",
              "size": 10,
              "solidity": 0.2
             }
            },
            "type": "histogram"
           }
          ],
          "histogram2d": [
           {
            "colorbar": {
             "outlinewidth": 0,
             "ticks": ""
            },
            "colorscale": [
             [
              0,
              "#0d0887"
             ],
             [
              0.1111111111111111,
              "#46039f"
             ],
             [
              0.2222222222222222,
              "#7201a8"
             ],
             [
              0.3333333333333333,
              "#9c179e"
             ],
             [
              0.4444444444444444,
              "#bd3786"
             ],
             [
              0.5555555555555556,
              "#d8576b"
             ],
             [
              0.6666666666666666,
              "#ed7953"
             ],
             [
              0.7777777777777778,
              "#fb9f3a"
             ],
             [
              0.8888888888888888,
              "#fdca26"
             ],
             [
              1,
              "#f0f921"
             ]
            ],
            "type": "histogram2d"
           }
          ],
          "histogram2dcontour": [
           {
            "colorbar": {
             "outlinewidth": 0,
             "ticks": ""
            },
            "colorscale": [
             [
              0,
              "#0d0887"
             ],
             [
              0.1111111111111111,
              "#46039f"
             ],
             [
              0.2222222222222222,
              "#7201a8"
             ],
             [
              0.3333333333333333,
              "#9c179e"
             ],
             [
              0.4444444444444444,
              "#bd3786"
             ],
             [
              0.5555555555555556,
              "#d8576b"
             ],
             [
              0.6666666666666666,
              "#ed7953"
             ],
             [
              0.7777777777777778,
              "#fb9f3a"
             ],
             [
              0.8888888888888888,
              "#fdca26"
             ],
             [
              1,
              "#f0f921"
             ]
            ],
            "type": "histogram2dcontour"
           }
          ],
          "mesh3d": [
           {
            "colorbar": {
             "outlinewidth": 0,
             "ticks": ""
            },
            "type": "mesh3d"
           }
          ],
          "parcoords": [
           {
            "line": {
             "colorbar": {
              "outlinewidth": 0,
              "ticks": ""
             }
            },
            "type": "parcoords"
           }
          ],
          "pie": [
           {
            "automargin": true,
            "type": "pie"
           }
          ],
          "scatter": [
           {
            "fillpattern": {
             "fillmode": "overlay",
             "size": 10,
             "solidity": 0.2
            },
            "type": "scatter"
           }
          ],
          "scatter3d": [
           {
            "line": {
             "colorbar": {
              "outlinewidth": 0,
              "ticks": ""
             }
            },
            "marker": {
             "colorbar": {
              "outlinewidth": 0,
              "ticks": ""
             }
            },
            "type": "scatter3d"
           }
          ],
          "scattercarpet": [
           {
            "marker": {
             "colorbar": {
              "outlinewidth": 0,
              "ticks": ""
             }
            },
            "type": "scattercarpet"
           }
          ],
          "scattergeo": [
           {
            "marker": {
             "colorbar": {
              "outlinewidth": 0,
              "ticks": ""
             }
            },
            "type": "scattergeo"
           }
          ],
          "scattergl": [
           {
            "marker": {
             "colorbar": {
              "outlinewidth": 0,
              "ticks": ""
             }
            },
            "type": "scattergl"
           }
          ],
          "scattermapbox": [
           {
            "marker": {
             "colorbar": {
              "outlinewidth": 0,
              "ticks": ""
             }
            },
            "type": "scattermapbox"
           }
          ],
          "scatterpolar": [
           {
            "marker": {
             "colorbar": {
              "outlinewidth": 0,
              "ticks": ""
             }
            },
            "type": "scatterpolar"
           }
          ],
          "scatterpolargl": [
           {
            "marker": {
             "colorbar": {
              "outlinewidth": 0,
              "ticks": ""
             }
            },
            "type": "scatterpolargl"
           }
          ],
          "scatterternary": [
           {
            "marker": {
             "colorbar": {
              "outlinewidth": 0,
              "ticks": ""
             }
            },
            "type": "scatterternary"
           }
          ],
          "surface": [
           {
            "colorbar": {
             "outlinewidth": 0,
             "ticks": ""
            },
            "colorscale": [
             [
              0,
              "#0d0887"
             ],
             [
              0.1111111111111111,
              "#46039f"
             ],
             [
              0.2222222222222222,
              "#7201a8"
             ],
             [
              0.3333333333333333,
              "#9c179e"
             ],
             [
              0.4444444444444444,
              "#bd3786"
             ],
             [
              0.5555555555555556,
              "#d8576b"
             ],
             [
              0.6666666666666666,
              "#ed7953"
             ],
             [
              0.7777777777777778,
              "#fb9f3a"
             ],
             [
              0.8888888888888888,
              "#fdca26"
             ],
             [
              1,
              "#f0f921"
             ]
            ],
            "type": "surface"
           }
          ],
          "table": [
           {
            "cells": {
             "fill": {
              "color": "#EBF0F8"
             },
             "line": {
              "color": "white"
             }
            },
            "header": {
             "fill": {
              "color": "#C8D4E3"
             },
             "line": {
              "color": "white"
             }
            },
            "type": "table"
           }
          ]
         },
         "layout": {
          "annotationdefaults": {
           "arrowcolor": "#2a3f5f",
           "arrowhead": 0,
           "arrowwidth": 1
          },
          "autotypenumbers": "strict",
          "coloraxis": {
           "colorbar": {
            "outlinewidth": 0,
            "ticks": ""
           }
          },
          "colorscale": {
           "diverging": [
            [
             0,
             "#8e0152"
            ],
            [
             0.1,
             "#c51b7d"
            ],
            [
             0.2,
             "#de77ae"
            ],
            [
             0.3,
             "#f1b6da"
            ],
            [
             0.4,
             "#fde0ef"
            ],
            [
             0.5,
             "#f7f7f7"
            ],
            [
             0.6,
             "#e6f5d0"
            ],
            [
             0.7,
             "#b8e186"
            ],
            [
             0.8,
             "#7fbc41"
            ],
            [
             0.9,
             "#4d9221"
            ],
            [
             1,
             "#276419"
            ]
           ],
           "sequential": [
            [
             0,
             "#0d0887"
            ],
            [
             0.1111111111111111,
             "#46039f"
            ],
            [
             0.2222222222222222,
             "#7201a8"
            ],
            [
             0.3333333333333333,
             "#9c179e"
            ],
            [
             0.4444444444444444,
             "#bd3786"
            ],
            [
             0.5555555555555556,
             "#d8576b"
            ],
            [
             0.6666666666666666,
             "#ed7953"
            ],
            [
             0.7777777777777778,
             "#fb9f3a"
            ],
            [
             0.8888888888888888,
             "#fdca26"
            ],
            [
             1,
             "#f0f921"
            ]
           ],
           "sequentialminus": [
            [
             0,
             "#0d0887"
            ],
            [
             0.1111111111111111,
             "#46039f"
            ],
            [
             0.2222222222222222,
             "#7201a8"
            ],
            [
             0.3333333333333333,
             "#9c179e"
            ],
            [
             0.4444444444444444,
             "#bd3786"
            ],
            [
             0.5555555555555556,
             "#d8576b"
            ],
            [
             0.6666666666666666,
             "#ed7953"
            ],
            [
             0.7777777777777778,
             "#fb9f3a"
            ],
            [
             0.8888888888888888,
             "#fdca26"
            ],
            [
             1,
             "#f0f921"
            ]
           ]
          },
          "colorway": [
           "#636efa",
           "#EF553B",
           "#00cc96",
           "#ab63fa",
           "#FFA15A",
           "#19d3f3",
           "#FF6692",
           "#B6E880",
           "#FF97FF",
           "#FECB52"
          ],
          "font": {
           "color": "#2a3f5f"
          },
          "geo": {
           "bgcolor": "white",
           "lakecolor": "white",
           "landcolor": "#E5ECF6",
           "showlakes": true,
           "showland": true,
           "subunitcolor": "white"
          },
          "hoverlabel": {
           "align": "left"
          },
          "hovermode": "closest",
          "mapbox": {
           "style": "light"
          },
          "paper_bgcolor": "white",
          "plot_bgcolor": "#E5ECF6",
          "polar": {
           "angularaxis": {
            "gridcolor": "white",
            "linecolor": "white",
            "ticks": ""
           },
           "bgcolor": "#E5ECF6",
           "radialaxis": {
            "gridcolor": "white",
            "linecolor": "white",
            "ticks": ""
           }
          },
          "scene": {
           "xaxis": {
            "backgroundcolor": "#E5ECF6",
            "gridcolor": "white",
            "gridwidth": 2,
            "linecolor": "white",
            "showbackground": true,
            "ticks": "",
            "zerolinecolor": "white"
           },
           "yaxis": {
            "backgroundcolor": "#E5ECF6",
            "gridcolor": "white",
            "gridwidth": 2,
            "linecolor": "white",
            "showbackground": true,
            "ticks": "",
            "zerolinecolor": "white"
           },
           "zaxis": {
            "backgroundcolor": "#E5ECF6",
            "gridcolor": "white",
            "gridwidth": 2,
            "linecolor": "white",
            "showbackground": true,
            "ticks": "",
            "zerolinecolor": "white"
           }
          },
          "shapedefaults": {
           "line": {
            "color": "#2a3f5f"
           }
          },
          "ternary": {
           "aaxis": {
            "gridcolor": "white",
            "linecolor": "white",
            "ticks": ""
           },
           "baxis": {
            "gridcolor": "white",
            "linecolor": "white",
            "ticks": ""
           },
           "bgcolor": "#E5ECF6",
           "caxis": {
            "gridcolor": "white",
            "linecolor": "white",
            "ticks": ""
           }
          },
          "title": {
           "x": 0.05
          },
          "xaxis": {
           "automargin": true,
           "gridcolor": "white",
           "linecolor": "white",
           "ticks": "",
           "title": {
            "standoff": 15
           },
           "zerolinecolor": "white",
           "zerolinewidth": 2
          },
          "yaxis": {
           "automargin": true,
           "gridcolor": "white",
           "linecolor": "white",
           "ticks": "",
           "title": {
            "standoff": 15
           },
           "zerolinecolor": "white",
           "zerolinewidth": 2
          }
         }
        },
        "title": {
         "text": "是否參與太陽花學運"
        },
        "width": 600,
        "xaxis": {
         "anchor": "y",
         "categoryarray": [
          "有",
          "沒有"
         ],
         "categoryorder": "array",
         "domain": [
          0,
          1
         ],
         "title": {
          "text": "Funflower_movement"
         }
        },
        "yaxis": {
         "anchor": "x",
         "domain": [
          0,
          1
         ],
         "title": {
          "text": "y"
         }
        }
       }
      }
     },
     "metadata": {},
     "output_type": "display_data"
    }
   ],
   "source": [
    "df2 = df.groupby([\"Funflower_movement\"]).count().reset_index()\n",
    "\n",
    "fig2 = px.bar(df2, height=500, width=600,\n",
    "             y = df.groupby([\"Funflower_movement\"]).size(),\n",
    "             x=\"Funflower_movement\",\n",
    "             color='Funflower_movement',\n",
    "             text = df.groupby([\"Funflower_movement\"]).size(), \n",
    "             title = '是否參與太陽花學運')\n",
    "fig2.show()"
   ]
  },
  {
   "cell_type": "markdown",
   "metadata": {},
   "source": [
    "* Funflower_movement to dummy"
   ]
  },
  {
   "cell_type": "code",
   "execution_count": 409,
   "metadata": {},
   "outputs": [],
   "source": [
    "def Funflower_num(q17):\n",
    "    if q17 == '從不(跳答R1題)':\n",
    "        return int(0)\n",
    "    elif q17 == '拒答':\n",
    "        return float('NaN')\n",
    "    else:\n",
    "        return int(1)"
   ]
  },
  {
   "cell_type": "code",
   "execution_count": 410,
   "metadata": {},
   "outputs": [],
   "source": [
    "df['Funflower_movement_num'] = df['q17'].apply(Funflower_num)"
   ]
  },
  {
   "cell_type": "markdown",
   "metadata": {},
   "source": [
    "* Vote"
   ]
  },
  {
   "cell_type": "code",
   "execution_count": 411,
   "metadata": {},
   "outputs": [
    {
     "data": {
      "text/plain": [
       "民進黨     347\n",
       "沒有去投    337\n",
       "國民黨     190\n",
       "無黨籍     119\n",
       "投廢票      45\n",
       "沒領票      30\n",
       "不知道      21\n",
       "拒答        3\n",
       "無投票權      2\n",
       "Name: q08, dtype: int64"
      ]
     },
     "execution_count": 411,
     "metadata": {},
     "output_type": "execute_result"
    }
   ],
   "source": [
    "df['q08'].value_counts()"
   ]
  },
  {
   "cell_type": "code",
   "execution_count": 412,
   "metadata": {},
   "outputs": [],
   "source": [
    "def Vote(q08):\n",
    "    if q08 == '民進黨':\n",
    "        return '有'\n",
    "    elif q08 == '沒有去投':\n",
    "        return '沒有'\n",
    "    elif q08 == '國民黨':\n",
    "        return '有'\n",
    "    elif q08 == '無黨籍':\n",
    "        return '有'\n",
    "    elif q08 == '投廢票':\n",
    "        return '有'\n",
    "    elif q08 == '沒領票':\n",
    "        return '沒有'\n",
    "    else:\n",
    "        return float('NaN')"
   ]
  },
  {
   "cell_type": "code",
   "execution_count": 413,
   "metadata": {},
   "outputs": [],
   "source": [
    "df['Vote'] = df['q08'].apply(Vote)"
   ]
  },
  {
   "cell_type": "code",
   "execution_count": 414,
   "metadata": {},
   "outputs": [
    {
     "data": {
      "application/vnd.plotly.v1+json": {
       "config": {
        "plotlyServerURL": "https://plot.ly"
       },
       "data": [
        {
         "alignmentgroup": "True",
         "hovertemplate": "Vote=%{x}<br>y=%{y}<br>text=%{text}<extra></extra>",
         "legendgroup": "有",
         "marker": {
          "color": "#636efa",
          "pattern": {
           "shape": ""
          }
         },
         "name": "有",
         "offsetgroup": "有",
         "orientation": "v",
         "showlegend": true,
         "text": [
          701
         ],
         "textposition": "auto",
         "type": "bar",
         "x": [
          "有"
         ],
         "xaxis": "x",
         "y": [
          701
         ],
         "yaxis": "y"
        },
        {
         "alignmentgroup": "True",
         "hovertemplate": "Vote=%{x}<br>y=%{y}<br>text=%{text}<extra></extra>",
         "legendgroup": "沒有",
         "marker": {
          "color": "#EF553B",
          "pattern": {
           "shape": ""
          }
         },
         "name": "沒有",
         "offsetgroup": "沒有",
         "orientation": "v",
         "showlegend": true,
         "text": [
          367
         ],
         "textposition": "auto",
         "type": "bar",
         "x": [
          "沒有"
         ],
         "xaxis": "x",
         "y": [
          367
         ],
         "yaxis": "y"
        }
       ],
       "layout": {
        "barmode": "relative",
        "height": 500,
        "legend": {
         "title": {
          "text": "Vote"
         },
         "tracegroupgap": 0
        },
        "template": {
         "data": {
          "bar": [
           {
            "error_x": {
             "color": "#2a3f5f"
            },
            "error_y": {
             "color": "#2a3f5f"
            },
            "marker": {
             "line": {
              "color": "#E5ECF6",
              "width": 0.5
             },
             "pattern": {
              "fillmode": "overlay",
              "size": 10,
              "solidity": 0.2
             }
            },
            "type": "bar"
           }
          ],
          "barpolar": [
           {
            "marker": {
             "line": {
              "color": "#E5ECF6",
              "width": 0.5
             },
             "pattern": {
              "fillmode": "overlay",
              "size": 10,
              "solidity": 0.2
             }
            },
            "type": "barpolar"
           }
          ],
          "carpet": [
           {
            "aaxis": {
             "endlinecolor": "#2a3f5f",
             "gridcolor": "white",
             "linecolor": "white",
             "minorgridcolor": "white",
             "startlinecolor": "#2a3f5f"
            },
            "baxis": {
             "endlinecolor": "#2a3f5f",
             "gridcolor": "white",
             "linecolor": "white",
             "minorgridcolor": "white",
             "startlinecolor": "#2a3f5f"
            },
            "type": "carpet"
           }
          ],
          "choropleth": [
           {
            "colorbar": {
             "outlinewidth": 0,
             "ticks": ""
            },
            "type": "choropleth"
           }
          ],
          "contour": [
           {
            "colorbar": {
             "outlinewidth": 0,
             "ticks": ""
            },
            "colorscale": [
             [
              0,
              "#0d0887"
             ],
             [
              0.1111111111111111,
              "#46039f"
             ],
             [
              0.2222222222222222,
              "#7201a8"
             ],
             [
              0.3333333333333333,
              "#9c179e"
             ],
             [
              0.4444444444444444,
              "#bd3786"
             ],
             [
              0.5555555555555556,
              "#d8576b"
             ],
             [
              0.6666666666666666,
              "#ed7953"
             ],
             [
              0.7777777777777778,
              "#fb9f3a"
             ],
             [
              0.8888888888888888,
              "#fdca26"
             ],
             [
              1,
              "#f0f921"
             ]
            ],
            "type": "contour"
           }
          ],
          "contourcarpet": [
           {
            "colorbar": {
             "outlinewidth": 0,
             "ticks": ""
            },
            "type": "contourcarpet"
           }
          ],
          "heatmap": [
           {
            "colorbar": {
             "outlinewidth": 0,
             "ticks": ""
            },
            "colorscale": [
             [
              0,
              "#0d0887"
             ],
             [
              0.1111111111111111,
              "#46039f"
             ],
             [
              0.2222222222222222,
              "#7201a8"
             ],
             [
              0.3333333333333333,
              "#9c179e"
             ],
             [
              0.4444444444444444,
              "#bd3786"
             ],
             [
              0.5555555555555556,
              "#d8576b"
             ],
             [
              0.6666666666666666,
              "#ed7953"
             ],
             [
              0.7777777777777778,
              "#fb9f3a"
             ],
             [
              0.8888888888888888,
              "#fdca26"
             ],
             [
              1,
              "#f0f921"
             ]
            ],
            "type": "heatmap"
           }
          ],
          "heatmapgl": [
           {
            "colorbar": {
             "outlinewidth": 0,
             "ticks": ""
            },
            "colorscale": [
             [
              0,
              "#0d0887"
             ],
             [
              0.1111111111111111,
              "#46039f"
             ],
             [
              0.2222222222222222,
              "#7201a8"
             ],
             [
              0.3333333333333333,
              "#9c179e"
             ],
             [
              0.4444444444444444,
              "#bd3786"
             ],
             [
              0.5555555555555556,
              "#d8576b"
             ],
             [
              0.6666666666666666,
              "#ed7953"
             ],
             [
              0.7777777777777778,
              "#fb9f3a"
             ],
             [
              0.8888888888888888,
              "#fdca26"
             ],
             [
              1,
              "#f0f921"
             ]
            ],
            "type": "heatmapgl"
           }
          ],
          "histogram": [
           {
            "marker": {
             "pattern": {
              "fillmode": "overlay",
              "size": 10,
              "solidity": 0.2
             }
            },
            "type": "histogram"
           }
          ],
          "histogram2d": [
           {
            "colorbar": {
             "outlinewidth": 0,
             "ticks": ""
            },
            "colorscale": [
             [
              0,
              "#0d0887"
             ],
             [
              0.1111111111111111,
              "#46039f"
             ],
             [
              0.2222222222222222,
              "#7201a8"
             ],
             [
              0.3333333333333333,
              "#9c179e"
             ],
             [
              0.4444444444444444,
              "#bd3786"
             ],
             [
              0.5555555555555556,
              "#d8576b"
             ],
             [
              0.6666666666666666,
              "#ed7953"
             ],
             [
              0.7777777777777778,
              "#fb9f3a"
             ],
             [
              0.8888888888888888,
              "#fdca26"
             ],
             [
              1,
              "#f0f921"
             ]
            ],
            "type": "histogram2d"
           }
          ],
          "histogram2dcontour": [
           {
            "colorbar": {
             "outlinewidth": 0,
             "ticks": ""
            },
            "colorscale": [
             [
              0,
              "#0d0887"
             ],
             [
              0.1111111111111111,
              "#46039f"
             ],
             [
              0.2222222222222222,
              "#7201a8"
             ],
             [
              0.3333333333333333,
              "#9c179e"
             ],
             [
              0.4444444444444444,
              "#bd3786"
             ],
             [
              0.5555555555555556,
              "#d8576b"
             ],
             [
              0.6666666666666666,
              "#ed7953"
             ],
             [
              0.7777777777777778,
              "#fb9f3a"
             ],
             [
              0.8888888888888888,
              "#fdca26"
             ],
             [
              1,
              "#f0f921"
             ]
            ],
            "type": "histogram2dcontour"
           }
          ],
          "mesh3d": [
           {
            "colorbar": {
             "outlinewidth": 0,
             "ticks": ""
            },
            "type": "mesh3d"
           }
          ],
          "parcoords": [
           {
            "line": {
             "colorbar": {
              "outlinewidth": 0,
              "ticks": ""
             }
            },
            "type": "parcoords"
           }
          ],
          "pie": [
           {
            "automargin": true,
            "type": "pie"
           }
          ],
          "scatter": [
           {
            "fillpattern": {
             "fillmode": "overlay",
             "size": 10,
             "solidity": 0.2
            },
            "type": "scatter"
           }
          ],
          "scatter3d": [
           {
            "line": {
             "colorbar": {
              "outlinewidth": 0,
              "ticks": ""
             }
            },
            "marker": {
             "colorbar": {
              "outlinewidth": 0,
              "ticks": ""
             }
            },
            "type": "scatter3d"
           }
          ],
          "scattercarpet": [
           {
            "marker": {
             "colorbar": {
              "outlinewidth": 0,
              "ticks": ""
             }
            },
            "type": "scattercarpet"
           }
          ],
          "scattergeo": [
           {
            "marker": {
             "colorbar": {
              "outlinewidth": 0,
              "ticks": ""
             }
            },
            "type": "scattergeo"
           }
          ],
          "scattergl": [
           {
            "marker": {
             "colorbar": {
              "outlinewidth": 0,
              "ticks": ""
             }
            },
            "type": "scattergl"
           }
          ],
          "scattermapbox": [
           {
            "marker": {
             "colorbar": {
              "outlinewidth": 0,
              "ticks": ""
             }
            },
            "type": "scattermapbox"
           }
          ],
          "scatterpolar": [
           {
            "marker": {
             "colorbar": {
              "outlinewidth": 0,
              "ticks": ""
             }
            },
            "type": "scatterpolar"
           }
          ],
          "scatterpolargl": [
           {
            "marker": {
             "colorbar": {
              "outlinewidth": 0,
              "ticks": ""
             }
            },
            "type": "scatterpolargl"
           }
          ],
          "scatterternary": [
           {
            "marker": {
             "colorbar": {
              "outlinewidth": 0,
              "ticks": ""
             }
            },
            "type": "scatterternary"
           }
          ],
          "surface": [
           {
            "colorbar": {
             "outlinewidth": 0,
             "ticks": ""
            },
            "colorscale": [
             [
              0,
              "#0d0887"
             ],
             [
              0.1111111111111111,
              "#46039f"
             ],
             [
              0.2222222222222222,
              "#7201a8"
             ],
             [
              0.3333333333333333,
              "#9c179e"
             ],
             [
              0.4444444444444444,
              "#bd3786"
             ],
             [
              0.5555555555555556,
              "#d8576b"
             ],
             [
              0.6666666666666666,
              "#ed7953"
             ],
             [
              0.7777777777777778,
              "#fb9f3a"
             ],
             [
              0.8888888888888888,
              "#fdca26"
             ],
             [
              1,
              "#f0f921"
             ]
            ],
            "type": "surface"
           }
          ],
          "table": [
           {
            "cells": {
             "fill": {
              "color": "#EBF0F8"
             },
             "line": {
              "color": "white"
             }
            },
            "header": {
             "fill": {
              "color": "#C8D4E3"
             },
             "line": {
              "color": "white"
             }
            },
            "type": "table"
           }
          ]
         },
         "layout": {
          "annotationdefaults": {
           "arrowcolor": "#2a3f5f",
           "arrowhead": 0,
           "arrowwidth": 1
          },
          "autotypenumbers": "strict",
          "coloraxis": {
           "colorbar": {
            "outlinewidth": 0,
            "ticks": ""
           }
          },
          "colorscale": {
           "diverging": [
            [
             0,
             "#8e0152"
            ],
            [
             0.1,
             "#c51b7d"
            ],
            [
             0.2,
             "#de77ae"
            ],
            [
             0.3,
             "#f1b6da"
            ],
            [
             0.4,
             "#fde0ef"
            ],
            [
             0.5,
             "#f7f7f7"
            ],
            [
             0.6,
             "#e6f5d0"
            ],
            [
             0.7,
             "#b8e186"
            ],
            [
             0.8,
             "#7fbc41"
            ],
            [
             0.9,
             "#4d9221"
            ],
            [
             1,
             "#276419"
            ]
           ],
           "sequential": [
            [
             0,
             "#0d0887"
            ],
            [
             0.1111111111111111,
             "#46039f"
            ],
            [
             0.2222222222222222,
             "#7201a8"
            ],
            [
             0.3333333333333333,
             "#9c179e"
            ],
            [
             0.4444444444444444,
             "#bd3786"
            ],
            [
             0.5555555555555556,
             "#d8576b"
            ],
            [
             0.6666666666666666,
             "#ed7953"
            ],
            [
             0.7777777777777778,
             "#fb9f3a"
            ],
            [
             0.8888888888888888,
             "#fdca26"
            ],
            [
             1,
             "#f0f921"
            ]
           ],
           "sequentialminus": [
            [
             0,
             "#0d0887"
            ],
            [
             0.1111111111111111,
             "#46039f"
            ],
            [
             0.2222222222222222,
             "#7201a8"
            ],
            [
             0.3333333333333333,
             "#9c179e"
            ],
            [
             0.4444444444444444,
             "#bd3786"
            ],
            [
             0.5555555555555556,
             "#d8576b"
            ],
            [
             0.6666666666666666,
             "#ed7953"
            ],
            [
             0.7777777777777778,
             "#fb9f3a"
            ],
            [
             0.8888888888888888,
             "#fdca26"
            ],
            [
             1,
             "#f0f921"
            ]
           ]
          },
          "colorway": [
           "#636efa",
           "#EF553B",
           "#00cc96",
           "#ab63fa",
           "#FFA15A",
           "#19d3f3",
           "#FF6692",
           "#B6E880",
           "#FF97FF",
           "#FECB52"
          ],
          "font": {
           "color": "#2a3f5f"
          },
          "geo": {
           "bgcolor": "white",
           "lakecolor": "white",
           "landcolor": "#E5ECF6",
           "showlakes": true,
           "showland": true,
           "subunitcolor": "white"
          },
          "hoverlabel": {
           "align": "left"
          },
          "hovermode": "closest",
          "mapbox": {
           "style": "light"
          },
          "paper_bgcolor": "white",
          "plot_bgcolor": "#E5ECF6",
          "polar": {
           "angularaxis": {
            "gridcolor": "white",
            "linecolor": "white",
            "ticks": ""
           },
           "bgcolor": "#E5ECF6",
           "radialaxis": {
            "gridcolor": "white",
            "linecolor": "white",
            "ticks": ""
           }
          },
          "scene": {
           "xaxis": {
            "backgroundcolor": "#E5ECF6",
            "gridcolor": "white",
            "gridwidth": 2,
            "linecolor": "white",
            "showbackground": true,
            "ticks": "",
            "zerolinecolor": "white"
           },
           "yaxis": {
            "backgroundcolor": "#E5ECF6",
            "gridcolor": "white",
            "gridwidth": 2,
            "linecolor": "white",
            "showbackground": true,
            "ticks": "",
            "zerolinecolor": "white"
           },
           "zaxis": {
            "backgroundcolor": "#E5ECF6",
            "gridcolor": "white",
            "gridwidth": 2,
            "linecolor": "white",
            "showbackground": true,
            "ticks": "",
            "zerolinecolor": "white"
           }
          },
          "shapedefaults": {
           "line": {
            "color": "#2a3f5f"
           }
          },
          "ternary": {
           "aaxis": {
            "gridcolor": "white",
            "linecolor": "white",
            "ticks": ""
           },
           "baxis": {
            "gridcolor": "white",
            "linecolor": "white",
            "ticks": ""
           },
           "bgcolor": "#E5ECF6",
           "caxis": {
            "gridcolor": "white",
            "linecolor": "white",
            "ticks": ""
           }
          },
          "title": {
           "x": 0.05
          },
          "xaxis": {
           "automargin": true,
           "gridcolor": "white",
           "linecolor": "white",
           "ticks": "",
           "title": {
            "standoff": 15
           },
           "zerolinecolor": "white",
           "zerolinewidth": 2
          },
          "yaxis": {
           "automargin": true,
           "gridcolor": "white",
           "linecolor": "white",
           "ticks": "",
           "title": {
            "standoff": 15
           },
           "zerolinecolor": "white",
           "zerolinewidth": 2
          }
         }
        },
        "title": {
         "text": "2014縣市長選舉是否投票"
        },
        "width": 600,
        "xaxis": {
         "anchor": "y",
         "categoryarray": [
          "有",
          "沒有"
         ],
         "categoryorder": "array",
         "domain": [
          0,
          1
         ],
         "title": {
          "text": "Vote"
         }
        },
        "yaxis": {
         "anchor": "x",
         "domain": [
          0,
          1
         ],
         "title": {
          "text": "y"
         }
        }
       }
      }
     },
     "metadata": {},
     "output_type": "display_data"
    }
   ],
   "source": [
    "df3 = df.groupby([\"Vote\"]).count().reset_index()\n",
    "\n",
    "fig3 = px.bar(df3, height=500, width=600,\n",
    "             y = df.groupby([\"Vote\"]).size(),\n",
    "             x=\"Vote\",\n",
    "             color='Vote',\n",
    "             text = df.groupby([\"Vote\"]).size(), \n",
    "             title = '2014縣市長選舉是否投票')\n",
    "fig3.show()"
   ]
  },
  {
   "cell_type": "markdown",
   "metadata": {},
   "source": [
    "* Vote to Dummy"
   ]
  },
  {
   "cell_type": "code",
   "execution_count": 415,
   "metadata": {},
   "outputs": [],
   "source": [
    "def Vote_num(Vote):\n",
    "    if Vote == '沒有':\n",
    "        return int(0)\n",
    "    elif Vote == '有':\n",
    "        return int(1)\n",
    "    else:\n",
    "        return float('NaN')"
   ]
  },
  {
   "cell_type": "code",
   "execution_count": 416,
   "metadata": {},
   "outputs": [],
   "source": [
    "df['Vote_num'] = df['Vote'].apply(Vote_num)"
   ]
  },
  {
   "cell_type": "code",
   "execution_count": 417,
   "metadata": {},
   "outputs": [
    {
     "data": {
      "text/plain": [
       "1.0    701\n",
       "0.0    367\n",
       "Name: Vote_num, dtype: int64"
      ]
     },
     "execution_count": 417,
     "metadata": {},
     "output_type": "execute_result"
    }
   ],
   "source": [
    "df['Vote_num'].value_counts()"
   ]
  },
  {
   "cell_type": "markdown",
   "metadata": {},
   "source": [
    "### 家庭屬性"
   ]
  },
  {
   "cell_type": "markdown",
   "metadata": {},
   "source": [
    "* 主觀階級"
   ]
  },
  {
   "cell_type": "code",
   "execution_count": 418,
   "metadata": {},
   "outputs": [
    {
     "data": {
      "text/plain": [
       "中等    659\n",
       "中下    245\n",
       "中上    133\n",
       "下層     55\n",
       "上層      2\n",
       "Name: u04, dtype: int64"
      ]
     },
     "execution_count": 418,
     "metadata": {},
     "output_type": "execute_result"
    }
   ],
   "source": [
    "df['u04'].value_counts()"
   ]
  },
  {
   "cell_type": "code",
   "execution_count": 419,
   "metadata": {},
   "outputs": [
    {
     "data": {
      "application/vnd.plotly.v1+json": {
       "config": {
        "plotlyServerURL": "https://plot.ly"
       },
       "data": [
        {
         "alignmentgroup": "True",
         "hovertemplate": "u04=%{x}<br>y=%{y}<br>text=%{text}<extra></extra>",
         "legendgroup": "上層",
         "marker": {
          "color": "#636efa",
          "pattern": {
           "shape": ""
          }
         },
         "name": "上層",
         "offsetgroup": "上層",
         "orientation": "v",
         "showlegend": true,
         "text": [
          2
         ],
         "textposition": "auto",
         "type": "bar",
         "x": [
          "上層"
         ],
         "xaxis": "x",
         "y": [
          2
         ],
         "yaxis": "y"
        },
        {
         "alignmentgroup": "True",
         "hovertemplate": "u04=%{x}<br>y=%{y}<br>text=%{text}<extra></extra>",
         "legendgroup": "下層",
         "marker": {
          "color": "#EF553B",
          "pattern": {
           "shape": ""
          }
         },
         "name": "下層",
         "offsetgroup": "下層",
         "orientation": "v",
         "showlegend": true,
         "text": [
          55
         ],
         "textposition": "auto",
         "type": "bar",
         "x": [
          "下層"
         ],
         "xaxis": "x",
         "y": [
          55
         ],
         "yaxis": "y"
        },
        {
         "alignmentgroup": "True",
         "hovertemplate": "u04=%{x}<br>y=%{y}<br>text=%{text}<extra></extra>",
         "legendgroup": "中上",
         "marker": {
          "color": "#00cc96",
          "pattern": {
           "shape": ""
          }
         },
         "name": "中上",
         "offsetgroup": "中上",
         "orientation": "v",
         "showlegend": true,
         "text": [
          133
         ],
         "textposition": "auto",
         "type": "bar",
         "x": [
          "中上"
         ],
         "xaxis": "x",
         "y": [
          133
         ],
         "yaxis": "y"
        },
        {
         "alignmentgroup": "True",
         "hovertemplate": "u04=%{x}<br>y=%{y}<br>text=%{text}<extra></extra>",
         "legendgroup": "中下",
         "marker": {
          "color": "#ab63fa",
          "pattern": {
           "shape": ""
          }
         },
         "name": "中下",
         "offsetgroup": "中下",
         "orientation": "v",
         "showlegend": true,
         "text": [
          245
         ],
         "textposition": "auto",
         "type": "bar",
         "x": [
          "中下"
         ],
         "xaxis": "x",
         "y": [
          245
         ],
         "yaxis": "y"
        },
        {
         "alignmentgroup": "True",
         "hovertemplate": "u04=%{x}<br>y=%{y}<br>text=%{text}<extra></extra>",
         "legendgroup": "中等",
         "marker": {
          "color": "#FFA15A",
          "pattern": {
           "shape": ""
          }
         },
         "name": "中等",
         "offsetgroup": "中等",
         "orientation": "v",
         "showlegend": true,
         "text": [
          659
         ],
         "textposition": "auto",
         "type": "bar",
         "x": [
          "中等"
         ],
         "xaxis": "x",
         "y": [
          659
         ],
         "yaxis": "y"
        }
       ],
       "layout": {
        "barmode": "relative",
        "height": 500,
        "legend": {
         "title": {
          "text": "u04"
         },
         "tracegroupgap": 0
        },
        "template": {
         "data": {
          "bar": [
           {
            "error_x": {
             "color": "#2a3f5f"
            },
            "error_y": {
             "color": "#2a3f5f"
            },
            "marker": {
             "line": {
              "color": "#E5ECF6",
              "width": 0.5
             },
             "pattern": {
              "fillmode": "overlay",
              "size": 10,
              "solidity": 0.2
             }
            },
            "type": "bar"
           }
          ],
          "barpolar": [
           {
            "marker": {
             "line": {
              "color": "#E5ECF6",
              "width": 0.5
             },
             "pattern": {
              "fillmode": "overlay",
              "size": 10,
              "solidity": 0.2
             }
            },
            "type": "barpolar"
           }
          ],
          "carpet": [
           {
            "aaxis": {
             "endlinecolor": "#2a3f5f",
             "gridcolor": "white",
             "linecolor": "white",
             "minorgridcolor": "white",
             "startlinecolor": "#2a3f5f"
            },
            "baxis": {
             "endlinecolor": "#2a3f5f",
             "gridcolor": "white",
             "linecolor": "white",
             "minorgridcolor": "white",
             "startlinecolor": "#2a3f5f"
            },
            "type": "carpet"
           }
          ],
          "choropleth": [
           {
            "colorbar": {
             "outlinewidth": 0,
             "ticks": ""
            },
            "type": "choropleth"
           }
          ],
          "contour": [
           {
            "colorbar": {
             "outlinewidth": 0,
             "ticks": ""
            },
            "colorscale": [
             [
              0,
              "#0d0887"
             ],
             [
              0.1111111111111111,
              "#46039f"
             ],
             [
              0.2222222222222222,
              "#7201a8"
             ],
             [
              0.3333333333333333,
              "#9c179e"
             ],
             [
              0.4444444444444444,
              "#bd3786"
             ],
             [
              0.5555555555555556,
              "#d8576b"
             ],
             [
              0.6666666666666666,
              "#ed7953"
             ],
             [
              0.7777777777777778,
              "#fb9f3a"
             ],
             [
              0.8888888888888888,
              "#fdca26"
             ],
             [
              1,
              "#f0f921"
             ]
            ],
            "type": "contour"
           }
          ],
          "contourcarpet": [
           {
            "colorbar": {
             "outlinewidth": 0,
             "ticks": ""
            },
            "type": "contourcarpet"
           }
          ],
          "heatmap": [
           {
            "colorbar": {
             "outlinewidth": 0,
             "ticks": ""
            },
            "colorscale": [
             [
              0,
              "#0d0887"
             ],
             [
              0.1111111111111111,
              "#46039f"
             ],
             [
              0.2222222222222222,
              "#7201a8"
             ],
             [
              0.3333333333333333,
              "#9c179e"
             ],
             [
              0.4444444444444444,
              "#bd3786"
             ],
             [
              0.5555555555555556,
              "#d8576b"
             ],
             [
              0.6666666666666666,
              "#ed7953"
             ],
             [
              0.7777777777777778,
              "#fb9f3a"
             ],
             [
              0.8888888888888888,
              "#fdca26"
             ],
             [
              1,
              "#f0f921"
             ]
            ],
            "type": "heatmap"
           }
          ],
          "heatmapgl": [
           {
            "colorbar": {
             "outlinewidth": 0,
             "ticks": ""
            },
            "colorscale": [
             [
              0,
              "#0d0887"
             ],
             [
              0.1111111111111111,
              "#46039f"
             ],
             [
              0.2222222222222222,
              "#7201a8"
             ],
             [
              0.3333333333333333,
              "#9c179e"
             ],
             [
              0.4444444444444444,
              "#bd3786"
             ],
             [
              0.5555555555555556,
              "#d8576b"
             ],
             [
              0.6666666666666666,
              "#ed7953"
             ],
             [
              0.7777777777777778,
              "#fb9f3a"
             ],
             [
              0.8888888888888888,
              "#fdca26"
             ],
             [
              1,
              "#f0f921"
             ]
            ],
            "type": "heatmapgl"
           }
          ],
          "histogram": [
           {
            "marker": {
             "pattern": {
              "fillmode": "overlay",
              "size": 10,
              "solidity": 0.2
             }
            },
            "type": "histogram"
           }
          ],
          "histogram2d": [
           {
            "colorbar": {
             "outlinewidth": 0,
             "ticks": ""
            },
            "colorscale": [
             [
              0,
              "#0d0887"
             ],
             [
              0.1111111111111111,
              "#46039f"
             ],
             [
              0.2222222222222222,
              "#7201a8"
             ],
             [
              0.3333333333333333,
              "#9c179e"
             ],
             [
              0.4444444444444444,
              "#bd3786"
             ],
             [
              0.5555555555555556,
              "#d8576b"
             ],
             [
              0.6666666666666666,
              "#ed7953"
             ],
             [
              0.7777777777777778,
              "#fb9f3a"
             ],
             [
              0.8888888888888888,
              "#fdca26"
             ],
             [
              1,
              "#f0f921"
             ]
            ],
            "type": "histogram2d"
           }
          ],
          "histogram2dcontour": [
           {
            "colorbar": {
             "outlinewidth": 0,
             "ticks": ""
            },
            "colorscale": [
             [
              0,
              "#0d0887"
             ],
             [
              0.1111111111111111,
              "#46039f"
             ],
             [
              0.2222222222222222,
              "#7201a8"
             ],
             [
              0.3333333333333333,
              "#9c179e"
             ],
             [
              0.4444444444444444,
              "#bd3786"
             ],
             [
              0.5555555555555556,
              "#d8576b"
             ],
             [
              0.6666666666666666,
              "#ed7953"
             ],
             [
              0.7777777777777778,
              "#fb9f3a"
             ],
             [
              0.8888888888888888,
              "#fdca26"
             ],
             [
              1,
              "#f0f921"
             ]
            ],
            "type": "histogram2dcontour"
           }
          ],
          "mesh3d": [
           {
            "colorbar": {
             "outlinewidth": 0,
             "ticks": ""
            },
            "type": "mesh3d"
           }
          ],
          "parcoords": [
           {
            "line": {
             "colorbar": {
              "outlinewidth": 0,
              "ticks": ""
             }
            },
            "type": "parcoords"
           }
          ],
          "pie": [
           {
            "automargin": true,
            "type": "pie"
           }
          ],
          "scatter": [
           {
            "fillpattern": {
             "fillmode": "overlay",
             "size": 10,
             "solidity": 0.2
            },
            "type": "scatter"
           }
          ],
          "scatter3d": [
           {
            "line": {
             "colorbar": {
              "outlinewidth": 0,
              "ticks": ""
             }
            },
            "marker": {
             "colorbar": {
              "outlinewidth": 0,
              "ticks": ""
             }
            },
            "type": "scatter3d"
           }
          ],
          "scattercarpet": [
           {
            "marker": {
             "colorbar": {
              "outlinewidth": 0,
              "ticks": ""
             }
            },
            "type": "scattercarpet"
           }
          ],
          "scattergeo": [
           {
            "marker": {
             "colorbar": {
              "outlinewidth": 0,
              "ticks": ""
             }
            },
            "type": "scattergeo"
           }
          ],
          "scattergl": [
           {
            "marker": {
             "colorbar": {
              "outlinewidth": 0,
              "ticks": ""
             }
            },
            "type": "scattergl"
           }
          ],
          "scattermapbox": [
           {
            "marker": {
             "colorbar": {
              "outlinewidth": 0,
              "ticks": ""
             }
            },
            "type": "scattermapbox"
           }
          ],
          "scatterpolar": [
           {
            "marker": {
             "colorbar": {
              "outlinewidth": 0,
              "ticks": ""
             }
            },
            "type": "scatterpolar"
           }
          ],
          "scatterpolargl": [
           {
            "marker": {
             "colorbar": {
              "outlinewidth": 0,
              "ticks": ""
             }
            },
            "type": "scatterpolargl"
           }
          ],
          "scatterternary": [
           {
            "marker": {
             "colorbar": {
              "outlinewidth": 0,
              "ticks": ""
             }
            },
            "type": "scatterternary"
           }
          ],
          "surface": [
           {
            "colorbar": {
             "outlinewidth": 0,
             "ticks": ""
            },
            "colorscale": [
             [
              0,
              "#0d0887"
             ],
             [
              0.1111111111111111,
              "#46039f"
             ],
             [
              0.2222222222222222,
              "#7201a8"
             ],
             [
              0.3333333333333333,
              "#9c179e"
             ],
             [
              0.4444444444444444,
              "#bd3786"
             ],
             [
              0.5555555555555556,
              "#d8576b"
             ],
             [
              0.6666666666666666,
              "#ed7953"
             ],
             [
              0.7777777777777778,
              "#fb9f3a"
             ],
             [
              0.8888888888888888,
              "#fdca26"
             ],
             [
              1,
              "#f0f921"
             ]
            ],
            "type": "surface"
           }
          ],
          "table": [
           {
            "cells": {
             "fill": {
              "color": "#EBF0F8"
             },
             "line": {
              "color": "white"
             }
            },
            "header": {
             "fill": {
              "color": "#C8D4E3"
             },
             "line": {
              "color": "white"
             }
            },
            "type": "table"
           }
          ]
         },
         "layout": {
          "annotationdefaults": {
           "arrowcolor": "#2a3f5f",
           "arrowhead": 0,
           "arrowwidth": 1
          },
          "autotypenumbers": "strict",
          "coloraxis": {
           "colorbar": {
            "outlinewidth": 0,
            "ticks": ""
           }
          },
          "colorscale": {
           "diverging": [
            [
             0,
             "#8e0152"
            ],
            [
             0.1,
             "#c51b7d"
            ],
            [
             0.2,
             "#de77ae"
            ],
            [
             0.3,
             "#f1b6da"
            ],
            [
             0.4,
             "#fde0ef"
            ],
            [
             0.5,
             "#f7f7f7"
            ],
            [
             0.6,
             "#e6f5d0"
            ],
            [
             0.7,
             "#b8e186"
            ],
            [
             0.8,
             "#7fbc41"
            ],
            [
             0.9,
             "#4d9221"
            ],
            [
             1,
             "#276419"
            ]
           ],
           "sequential": [
            [
             0,
             "#0d0887"
            ],
            [
             0.1111111111111111,
             "#46039f"
            ],
            [
             0.2222222222222222,
             "#7201a8"
            ],
            [
             0.3333333333333333,
             "#9c179e"
            ],
            [
             0.4444444444444444,
             "#bd3786"
            ],
            [
             0.5555555555555556,
             "#d8576b"
            ],
            [
             0.6666666666666666,
             "#ed7953"
            ],
            [
             0.7777777777777778,
             "#fb9f3a"
            ],
            [
             0.8888888888888888,
             "#fdca26"
            ],
            [
             1,
             "#f0f921"
            ]
           ],
           "sequentialminus": [
            [
             0,
             "#0d0887"
            ],
            [
             0.1111111111111111,
             "#46039f"
            ],
            [
             0.2222222222222222,
             "#7201a8"
            ],
            [
             0.3333333333333333,
             "#9c179e"
            ],
            [
             0.4444444444444444,
             "#bd3786"
            ],
            [
             0.5555555555555556,
             "#d8576b"
            ],
            [
             0.6666666666666666,
             "#ed7953"
            ],
            [
             0.7777777777777778,
             "#fb9f3a"
            ],
            [
             0.8888888888888888,
             "#fdca26"
            ],
            [
             1,
             "#f0f921"
            ]
           ]
          },
          "colorway": [
           "#636efa",
           "#EF553B",
           "#00cc96",
           "#ab63fa",
           "#FFA15A",
           "#19d3f3",
           "#FF6692",
           "#B6E880",
           "#FF97FF",
           "#FECB52"
          ],
          "font": {
           "color": "#2a3f5f"
          },
          "geo": {
           "bgcolor": "white",
           "lakecolor": "white",
           "landcolor": "#E5ECF6",
           "showlakes": true,
           "showland": true,
           "subunitcolor": "white"
          },
          "hoverlabel": {
           "align": "left"
          },
          "hovermode": "closest",
          "mapbox": {
           "style": "light"
          },
          "paper_bgcolor": "white",
          "plot_bgcolor": "#E5ECF6",
          "polar": {
           "angularaxis": {
            "gridcolor": "white",
            "linecolor": "white",
            "ticks": ""
           },
           "bgcolor": "#E5ECF6",
           "radialaxis": {
            "gridcolor": "white",
            "linecolor": "white",
            "ticks": ""
           }
          },
          "scene": {
           "xaxis": {
            "backgroundcolor": "#E5ECF6",
            "gridcolor": "white",
            "gridwidth": 2,
            "linecolor": "white",
            "showbackground": true,
            "ticks": "",
            "zerolinecolor": "white"
           },
           "yaxis": {
            "backgroundcolor": "#E5ECF6",
            "gridcolor": "white",
            "gridwidth": 2,
            "linecolor": "white",
            "showbackground": true,
            "ticks": "",
            "zerolinecolor": "white"
           },
           "zaxis": {
            "backgroundcolor": "#E5ECF6",
            "gridcolor": "white",
            "gridwidth": 2,
            "linecolor": "white",
            "showbackground": true,
            "ticks": "",
            "zerolinecolor": "white"
           }
          },
          "shapedefaults": {
           "line": {
            "color": "#2a3f5f"
           }
          },
          "ternary": {
           "aaxis": {
            "gridcolor": "white",
            "linecolor": "white",
            "ticks": ""
           },
           "baxis": {
            "gridcolor": "white",
            "linecolor": "white",
            "ticks": ""
           },
           "bgcolor": "#E5ECF6",
           "caxis": {
            "gridcolor": "white",
            "linecolor": "white",
            "ticks": ""
           }
          },
          "title": {
           "x": 0.05
          },
          "xaxis": {
           "automargin": true,
           "gridcolor": "white",
           "linecolor": "white",
           "ticks": "",
           "title": {
            "standoff": 15
           },
           "zerolinecolor": "white",
           "zerolinewidth": 2
          },
          "yaxis": {
           "automargin": true,
           "gridcolor": "white",
           "linecolor": "white",
           "ticks": "",
           "title": {
            "standoff": 15
           },
           "zerolinecolor": "white",
           "zerolinewidth": 2
          }
         }
        },
        "title": {
         "text": "原生家庭社經階級"
        },
        "width": 600,
        "xaxis": {
         "anchor": "y",
         "categoryarray": [
          "上層",
          "下層",
          "中上",
          "中下",
          "中等"
         ],
         "categoryorder": "array",
         "domain": [
          0,
          1
         ],
         "title": {
          "text": "u04"
         }
        },
        "yaxis": {
         "anchor": "x",
         "domain": [
          0,
          1
         ],
         "title": {
          "text": "y"
         }
        }
       }
      }
     },
     "metadata": {},
     "output_type": "display_data"
    }
   ],
   "source": [
    "df4 = df.groupby([\"u04\"]).count().reset_index()\n",
    "\n",
    "fig4 = px.bar(df4, height=500, width=600,\n",
    "             y = df.groupby([\"u04\"]).size(),\n",
    "             x=\"u04\",\n",
    "             color='u04',\n",
    "             text = df.groupby([\"u04\"]).size(), \n",
    "             title = '原生家庭社經階級')\n",
    "fig4.show()"
   ]
  },
  {
   "cell_type": "code",
   "execution_count": 420,
   "metadata": {},
   "outputs": [],
   "source": [
    "def Class(u04):\n",
    "    if u04 == '上層':\n",
    "        return int(5)\n",
    "    elif u04 == '中上':\n",
    "        return int(4)\n",
    "    elif u04 == '中等':\n",
    "        return int(3)\n",
    "    elif u04 == '中下':\n",
    "        return int(2)\n",
    "    elif u04 == '下層':\n",
    "        return int(1)\n",
    "    else:\n",
    "        return float('NaN')"
   ]
  },
  {
   "cell_type": "code",
   "execution_count": 421,
   "metadata": {},
   "outputs": [],
   "source": [
    "df['Fam_Class'] = df['u04'].apply(Class)"
   ]
  },
  {
   "cell_type": "code",
   "execution_count": 422,
   "metadata": {},
   "outputs": [
    {
     "data": {
      "text/plain": [
       "3    659\n",
       "2    245\n",
       "4    133\n",
       "1     55\n",
       "5      2\n",
       "Name: Fam_Class, dtype: int64"
      ]
     },
     "execution_count": 422,
     "metadata": {},
     "output_type": "execute_result"
    }
   ],
   "source": [
    "df['Fam_Class'].value_counts()"
   ]
  },
  {
   "cell_type": "markdown",
   "metadata": {},
   "source": [
    "* 父母親收入"
   ]
  },
  {
   "cell_type": "code",
   "execution_count": 423,
   "metadata": {},
   "outputs": [
    {
     "data": {
      "text/plain": [
       "50000-69999      203\n",
       "30000-49999      188\n",
       "70000-99999      175\n",
       "不知道              174\n",
       "100000-199999    125\n",
       "15000-29999      108\n",
       "沒有收入              40\n",
       "1-14999           35\n",
       "200000-300000     16\n",
       "300000以上          11\n",
       "拒答                10\n",
       "看情形                8\n",
       "漏填                 1\n",
       "Name: u13, dtype: int64"
      ]
     },
     "execution_count": 423,
     "metadata": {},
     "output_type": "execute_result"
    }
   ],
   "source": [
    "df['u13'].value_counts()"
   ]
  },
  {
   "cell_type": "code",
   "execution_count": 424,
   "metadata": {},
   "outputs": [],
   "source": [
    "def Income(u13):\n",
    "    if u13 == '300000以上':\n",
    "        return int(8)\n",
    "    elif u13 == '200000-300000':\n",
    "        return int(7)\n",
    "    elif u13 == '100000-199999':\n",
    "        return int(6)\n",
    "    elif u13 == '70000-99999':\n",
    "        return int(5)\n",
    "    elif u13 == '50000-69999':\n",
    "        return int(4)\n",
    "    elif u13 == '30000-49999':\n",
    "        return int(3)    \n",
    "    elif u13 == '15000-29999':\n",
    "        return int(2)    \n",
    "    elif u13 == '1-14999':\n",
    "        return int(1)      \n",
    "    else:\n",
    "        return float('NaN')"
   ]
  },
  {
   "cell_type": "code",
   "execution_count": 425,
   "metadata": {},
   "outputs": [],
   "source": [
    "df['Fam_Income'] = df['u13'].apply(Income)"
   ]
  },
  {
   "cell_type": "markdown",
   "metadata": {},
   "source": [
    "### 控制變數"
   ]
  },
  {
   "cell_type": "markdown",
   "metadata": {},
   "source": [
    "* 性別"
   ]
  },
  {
   "cell_type": "code",
   "execution_count": 426,
   "metadata": {},
   "outputs": [
    {
     "data": {
      "text/plain": [
       "女性    548\n",
       "男性    546\n",
       "Name: sex, dtype: int64"
      ]
     },
     "execution_count": 426,
     "metadata": {},
     "output_type": "execute_result"
    }
   ],
   "source": [
    "df['sex'].value_counts()"
   ]
  },
  {
   "cell_type": "code",
   "execution_count": 427,
   "metadata": {},
   "outputs": [],
   "source": [
    "def Sex(sex):\n",
    "    if sex == '女性':\n",
    "        return int(0)\n",
    "    elif sex == '男性':\n",
    "        return int(1)\n",
    "    else:\n",
    "        return float('NaN')"
   ]
  },
  {
   "cell_type": "code",
   "execution_count": 428,
   "metadata": {},
   "outputs": [],
   "source": [
    "df['Sex'] = df['sex'].apply(Sex)"
   ]
  },
  {
   "cell_type": "code",
   "execution_count": 429,
   "metadata": {},
   "outputs": [
    {
     "data": {
      "text/plain": [
       "0    548\n",
       "1    546\n",
       "Name: Sex, dtype: int64"
      ]
     },
     "execution_count": 429,
     "metadata": {},
     "output_type": "execute_result"
    }
   ],
   "source": [
    "df['Sex'].value_counts()"
   ]
  },
  {
   "cell_type": "markdown",
   "metadata": {},
   "source": [
    "* 年齡"
   ]
  },
  {
   "cell_type": "code",
   "execution_count": 430,
   "metadata": {},
   "outputs": [
    {
     "data": {
      "text/plain": [
       "22.0    691\n",
       "23.0    364\n",
       "24.0     15\n",
       "無反應      11\n",
       "25.0      7\n",
       "21.0      2\n",
       "26.0      1\n",
       "27.0      1\n",
       "28.0      1\n",
       "29.0      1\n",
       "Name: age, dtype: int64"
      ]
     },
     "execution_count": 430,
     "metadata": {},
     "output_type": "execute_result"
    }
   ],
   "source": [
    "df['age'].value_counts()"
   ]
  },
  {
   "cell_type": "code",
   "execution_count": 431,
   "metadata": {},
   "outputs": [],
   "source": [
    "def Age(age):\n",
    "    if age == 22.0:\n",
    "        return int(22.0)\n",
    "    elif age == 23.0:\n",
    "        return int(23.0)\n",
    "    elif age == 24.0:\n",
    "        return int(24.0)\n",
    "    elif age == 25.0:\n",
    "        return int(25.0)\n",
    "    elif age == 21.0:\n",
    "        return int(21.0)\n",
    "    elif age == 26.0:\n",
    "        return int(26.0)\n",
    "    elif age == 27.0:\n",
    "        return int(27.0)\n",
    "    elif age == 28.0:\n",
    "        return int(28.0)\n",
    "    elif age == 29.0:\n",
    "        return int(29.0)\n",
    "    else:\n",
    "        return float('NaN')"
   ]
  },
  {
   "cell_type": "code",
   "execution_count": 432,
   "metadata": {},
   "outputs": [],
   "source": [
    "df['Age'] = df['age'].apply(Age)"
   ]
  },
  {
   "cell_type": "code",
   "execution_count": 433,
   "metadata": {},
   "outputs": [
    {
     "data": {
      "text/plain": [
       "22.0    691\n",
       "23.0    364\n",
       "24.0     15\n",
       "25.0      7\n",
       "21.0      2\n",
       "28.0      1\n",
       "26.0      1\n",
       "27.0      1\n",
       "29.0      1\n",
       "Name: Age, dtype: int64"
      ]
     },
     "execution_count": 433,
     "metadata": {},
     "output_type": "execute_result"
    }
   ],
   "source": [
    "df['Age'].value_counts()"
   ]
  },
  {
   "cell_type": "markdown",
   "metadata": {},
   "source": [
    "* 政黨三分類"
   ]
  },
  {
   "cell_type": "code",
   "execution_count": 434,
   "metadata": {},
   "outputs": [
    {
     "data": {
      "text/plain": [
       "中立無傾向       546\n",
       "泛綠          302\n",
       "泛藍          226\n",
       "無反應及其他政黨     20\n",
       "Name: partyid3, dtype: int64"
      ]
     },
     "execution_count": 434,
     "metadata": {},
     "output_type": "execute_result"
    }
   ],
   "source": [
    "df['partyid3'].value_counts()"
   ]
  },
  {
   "cell_type": "code",
   "execution_count": 435,
   "metadata": {},
   "outputs": [],
   "source": [
    "def party(partyid3):\n",
    "    if partyid3 == '泛藍':\n",
    "        return str('泛藍')\n",
    "    elif partyid3 == '泛綠':\n",
    "        return str('泛綠')\n",
    "    elif partyid3 == '中立無傾向':\n",
    "        return str('中立無傾向')\n",
    "    else:\n",
    "        return float('NaN')"
   ]
  },
  {
   "cell_type": "code",
   "execution_count": 436,
   "metadata": {},
   "outputs": [],
   "source": [
    "df['Party3'] = df['partyid3'].apply(party)"
   ]
  },
  {
   "cell_type": "markdown",
   "metadata": {},
   "source": [
    "* 統獨三分類"
   ]
  },
  {
   "cell_type": "code",
   "execution_count": 437,
   "metadata": {},
   "outputs": [
    {
     "data": {
      "text/plain": [
       "傾向獨立      556\n",
       "傾向維持現狀    442\n",
       "傾向統一       78\n",
       "無反應        18\n",
       "Name: tondu3, dtype: int64"
      ]
     },
     "execution_count": 437,
     "metadata": {},
     "output_type": "execute_result"
    }
   ],
   "source": [
    "df['tondu3'].value_counts()"
   ]
  },
  {
   "cell_type": "code",
   "execution_count": 438,
   "metadata": {},
   "outputs": [],
   "source": [
    "def tondu(tondu3):\n",
    "    if tondu3 == '傾向獨立':\n",
    "        return str('傾向獨立')\n",
    "    elif tondu3 == '傾向維持現狀':\n",
    "        return str('傾向維持現狀')\n",
    "    elif tondu3 == '傾向統一':\n",
    "        return str('傾向統一')\n",
    "    else:\n",
    "        return float('NaN')"
   ]
  },
  {
   "cell_type": "code",
   "execution_count": 439,
   "metadata": {},
   "outputs": [],
   "source": [
    "df['Tondu3'] = df['tondu3'].apply(tondu)"
   ]
  },
  {
   "cell_type": "code",
   "execution_count": 440,
   "metadata": {},
   "outputs": [
    {
     "data": {
      "text/plain": [
       "傾向獨立      556\n",
       "傾向維持現狀    442\n",
       "傾向統一       78\n",
       "Name: Tondu3, dtype: int64"
      ]
     },
     "execution_count": 440,
     "metadata": {},
     "output_type": "execute_result"
    }
   ],
   "source": [
    "df['Tondu3'].value_counts()"
   ]
  },
  {
   "cell_type": "markdown",
   "metadata": {},
   "source": [
    "* 台灣人/中國人認同"
   ]
  },
  {
   "cell_type": "code",
   "execution_count": 441,
   "metadata": {},
   "outputs": [
    {
     "data": {
      "text/plain": [
       "臺灣人    945\n",
       "都是     130\n",
       "中國人     13\n",
       "無反應      6\n",
       "Name: t_cidentity, dtype: int64"
      ]
     },
     "execution_count": 441,
     "metadata": {},
     "output_type": "execute_result"
    }
   ],
   "source": [
    "df['t_cidentity'].value_counts()"
   ]
  },
  {
   "cell_type": "code",
   "execution_count": 442,
   "metadata": {},
   "outputs": [],
   "source": [
    "def TC_identity(t_cidentity):\n",
    "    if t_cidentity == '臺灣人':\n",
    "        return str('臺灣人')\n",
    "    elif t_cidentity == '都是':\n",
    "        return str('都是')\n",
    "    elif t_cidentity == '中國人':\n",
    "        return str('中國人')\n",
    "    else:\n",
    "        return float('NaN')"
   ]
  },
  {
   "cell_type": "code",
   "execution_count": 443,
   "metadata": {},
   "outputs": [],
   "source": [
    "df['TC_identity'] = df['t_cidentity'].apply(TC_identity)"
   ]
  },
  {
   "cell_type": "code",
   "execution_count": 444,
   "metadata": {},
   "outputs": [
    {
     "data": {
      "text/plain": [
       "臺灣人    945\n",
       "都是     130\n",
       "中國人     13\n",
       "Name: TC_identity, dtype: int64"
      ]
     },
     "execution_count": 444,
     "metadata": {},
     "output_type": "execute_result"
    }
   ],
   "source": [
    "df['TC_identity'].value_counts()"
   ]
  },
  {
   "cell_type": "markdown",
   "metadata": {},
   "source": [
    "* 政治興趣"
   ]
  },
  {
   "cell_type": "code",
   "execution_count": 445,
   "metadata": {},
   "outputs": [
    {
     "data": {
      "text/plain": [
       "不太有興趣    551\n",
       "有點興趣     333\n",
       "非常沒興趣    166\n",
       "非常有興趣     44\n",
       "Name: q01, dtype: int64"
      ]
     },
     "execution_count": 445,
     "metadata": {},
     "output_type": "execute_result"
    }
   ],
   "source": [
    "df['q01'].value_counts()"
   ]
  },
  {
   "cell_type": "code",
   "execution_count": 446,
   "metadata": {},
   "outputs": [],
   "source": [
    "def pp_interest(q01):\n",
    "    if q01 == '不太有興趣':\n",
    "        return int(0)\n",
    "    elif q01 == '非常沒興趣':\n",
    "        return int(0)\n",
    "    elif q01 == '有點興趣':\n",
    "        return int(1)\n",
    "    elif q01 == '非常有興趣':\n",
    "        return int(1)\n",
    "    else:\n",
    "        return float('NaN')"
   ]
  },
  {
   "cell_type": "code",
   "execution_count": 447,
   "metadata": {},
   "outputs": [],
   "source": [
    "df['Political_Interest'] = df['q01'].apply(pp_interest)"
   ]
  },
  {
   "cell_type": "code",
   "execution_count": 448,
   "metadata": {},
   "outputs": [
    {
     "data": {
      "text/plain": [
       "0    717\n",
       "1    377\n",
       "Name: Political_Interest, dtype: int64"
      ]
     },
     "execution_count": 448,
     "metadata": {},
     "output_type": "execute_result"
    }
   ],
   "source": [
    "df['Political_Interest'].value_counts()"
   ]
  },
  {
   "cell_type": "markdown",
   "metadata": {},
   "source": [
    "* 對中國態度"
   ]
  },
  {
   "cell_type": "code",
   "execution_count": 449,
   "metadata": {},
   "outputs": [
    {
     "data": {
      "text/plain": [
       "不友善      677\n",
       "友善       247\n",
       "非常不友善    155\n",
       "非常友善      14\n",
       "不知道        1\n",
       "Name: p01, dtype: int64"
      ]
     },
     "execution_count": 449,
     "metadata": {},
     "output_type": "execute_result"
    }
   ],
   "source": [
    "df['p01'].value_counts()"
   ]
  },
  {
   "cell_type": "code",
   "execution_count": 450,
   "metadata": {},
   "outputs": [],
   "source": [
    "def CN_attitude(p01):\n",
    "    if p01 == '非常不友善':\n",
    "        return int(1)\n",
    "    elif p01 == '不友善':\n",
    "        return int(2)\n",
    "    elif p01 == '友善':\n",
    "        return int(3)\n",
    "    elif p01 == '非常友善':\n",
    "        return int(4)\n",
    "    else:\n",
    "        return float('NaN')"
   ]
  },
  {
   "cell_type": "code",
   "execution_count": 451,
   "metadata": {},
   "outputs": [],
   "source": [
    "df['CN_attitude'] = df['p01'].apply(CN_attitude)"
   ]
  },
  {
   "cell_type": "code",
   "execution_count": 452,
   "metadata": {},
   "outputs": [
    {
     "data": {
      "text/plain": [
       "2.0    677\n",
       "3.0    247\n",
       "1.0    155\n",
       "4.0     14\n",
       "Name: CN_attitude, dtype: int64"
      ]
     },
     "execution_count": 452,
     "metadata": {},
     "output_type": "execute_result"
    }
   ],
   "source": [
    "df['CN_attitude'].value_counts()"
   ]
  },
  {
   "cell_type": "markdown",
   "metadata": {},
   "source": [
    "* 父親 / 母親職業 -> 是否受雇於政府部門有影響"
   ]
  },
  {
   "cell_type": "code",
   "execution_count": 453,
   "metadata": {},
   "outputs": [
    {
     "data": {
      "text/plain": [
       "私部門管理階層及專業人員    312\n",
       "私部門勞工           231\n",
       "私部門職員           190\n",
       "軍公教人員           177\n",
       "其他              137\n",
       "農林漁牧             33\n",
       "家管               14\n",
       "Name: fcareer8, dtype: int64"
      ]
     },
     "execution_count": 453,
     "metadata": {},
     "output_type": "execute_result"
    }
   ],
   "source": [
    "df['fcareer8'].value_counts()"
   ]
  },
  {
   "cell_type": "code",
   "execution_count": 454,
   "metadata": {},
   "outputs": [],
   "source": [
    "def career_dummy(fcareer8):\n",
    "    if fcareer8 == '軍公教人員':\n",
    "        return int(1)\n",
    "    elif fcareer8 == '私部門管理階層及專業人員':\n",
    "        return int(0)\n",
    "    elif fcareer8 == '私部門勞工':\n",
    "        return int(0)\n",
    "    elif fcareer8 == '私部門職員':\n",
    "        return int(0)\n",
    "    elif fcareer8 == '其他':\n",
    "        return int(0)\n",
    "    elif fcareer8 == '農林漁牧':\n",
    "        return int(0)   \n",
    "    elif fcareer8 == '家管':\n",
    "        return int(0) \n",
    "    else:\n",
    "        return float('NaN')"
   ]
  },
  {
   "cell_type": "code",
   "execution_count": 455,
   "metadata": {},
   "outputs": [],
   "source": [
    "df['Fcareer'] = df['fcareer8'].apply(career_dummy)"
   ]
  },
  {
   "cell_type": "code",
   "execution_count": 456,
   "metadata": {},
   "outputs": [
    {
     "data": {
      "text/plain": [
       "0    917\n",
       "1    177\n",
       "Name: Fcareer, dtype: int64"
      ]
     },
     "execution_count": 456,
     "metadata": {},
     "output_type": "execute_result"
    }
   ],
   "source": [
    "df['Fcareer'].value_counts()"
   ]
  },
  {
   "cell_type": "code",
   "execution_count": 457,
   "metadata": {},
   "outputs": [
    {
     "data": {
      "text/plain": [
       "家管              351\n",
       "私部門職員           239\n",
       "私部門勞工           132\n",
       "私部門管理階層及專業人員    129\n",
       "軍公教人員           124\n",
       "其他              104\n",
       "農林漁牧             15\n",
       "Name: mcareer8, dtype: int64"
      ]
     },
     "execution_count": 457,
     "metadata": {},
     "output_type": "execute_result"
    }
   ],
   "source": [
    "df['mcareer8'].value_counts()"
   ]
  },
  {
   "cell_type": "code",
   "execution_count": 458,
   "metadata": {},
   "outputs": [],
   "source": [
    "df['Mcareer'] = df['mcareer8'].apply(career_dummy)"
   ]
  },
  {
   "cell_type": "code",
   "execution_count": 459,
   "metadata": {},
   "outputs": [
    {
     "data": {
      "text/plain": [
       "0    970\n",
       "1    124\n",
       "Name: Mcareer, dtype: int64"
      ]
     },
     "execution_count": 459,
     "metadata": {},
     "output_type": "execute_result"
    }
   ],
   "source": [
    "df['Mcareer'].value_counts()"
   ]
  },
  {
   "cell_type": "markdown",
   "metadata": {},
   "source": [
    "* 城鄉差距 - 高中居住縣市"
   ]
  },
  {
   "cell_type": "code",
   "execution_count": 460,
   "metadata": {},
   "outputs": [
    {
     "data": {
      "text/plain": [
       "臺北市    207\n",
       "新北市    181\n",
       "臺中市    128\n",
       "高雄市    117\n",
       "臺南市     87\n",
       "彰化縣     62\n",
       "桃園市     56\n",
       "新竹市     41\n",
       "桃園縣     36\n",
       "宜蘭縣     30\n",
       "嘉義市     24\n",
       "新竹縣     18\n",
       "苗栗縣     17\n",
       "雲林縣     16\n",
       "屏東縣     14\n",
       "基隆市     12\n",
       "嘉義縣     11\n",
       "臺東縣     11\n",
       "花蓮縣     11\n",
       "南投縣     11\n",
       "澎湖縣      2\n",
       "越南       1\n",
       "金門縣      1\n",
       "Name: u10, dtype: int64"
      ]
     },
     "execution_count": 460,
     "metadata": {},
     "output_type": "execute_result"
    }
   ],
   "source": [
    "df['u10'].value_counts()"
   ]
  },
  {
   "cell_type": "code",
   "execution_count": 461,
   "metadata": {},
   "outputs": [],
   "source": [
    "def living_city(u10):\n",
    "    if u10 == '臺北市':\n",
    "        return int(1)\n",
    "    else:\n",
    "        return int(0)"
   ]
  },
  {
   "cell_type": "code",
   "execution_count": 462,
   "metadata": {},
   "outputs": [],
   "source": [
    "df['LivingCity'] = df['u10'].apply(living_city)"
   ]
  },
  {
   "cell_type": "code",
   "execution_count": 463,
   "metadata": {},
   "outputs": [
    {
     "data": {
      "text/plain": [
       "0    887\n",
       "1    207\n",
       "Name: LivingCity, dtype: int64"
      ]
     },
     "execution_count": 463,
     "metadata": {},
     "output_type": "execute_result"
    }
   ],
   "source": [
    "df['LivingCity'].value_counts()"
   ]
  },
  {
   "cell_type": "markdown",
   "metadata": {},
   "source": [
    "* 父親 / 母親教育程度"
   ]
  },
  {
   "cell_type": "code",
   "execution_count": 464,
   "metadata": {},
   "outputs": [
    {
     "data": {
      "text/plain": [
       "高中、職     406\n",
       "大學及以上    239\n",
       "專科       204\n",
       "國、初中     153\n",
       "小學及以下     57\n",
       "無反應       35\n",
       "Name: fedu, dtype: int64"
      ]
     },
     "execution_count": 464,
     "metadata": {},
     "output_type": "execute_result"
    }
   ],
   "source": [
    "df['fedu'].value_counts()"
   ]
  },
  {
   "cell_type": "code",
   "execution_count": 465,
   "metadata": {},
   "outputs": [],
   "source": [
    "def fa_edu(fedu):\n",
    "    if fedu == '大學及以上':\n",
    "        return int(1)\n",
    "    else:\n",
    "        return int(0)"
   ]
  },
  {
   "cell_type": "code",
   "execution_count": 466,
   "metadata": {},
   "outputs": [],
   "source": [
    "df['Fa_Edu'] = df['fedu'].apply(fa_edu)"
   ]
  },
  {
   "cell_type": "code",
   "execution_count": 467,
   "metadata": {},
   "outputs": [
    {
     "data": {
      "text/plain": [
       "0    855\n",
       "1    239\n",
       "Name: Fa_Edu, dtype: int64"
      ]
     },
     "execution_count": 467,
     "metadata": {},
     "output_type": "execute_result"
    }
   ],
   "source": [
    "df['Fa_Edu'].value_counts()"
   ]
  },
  {
   "cell_type": "code",
   "execution_count": 468,
   "metadata": {},
   "outputs": [
    {
     "data": {
      "text/plain": [
       "高中、職     494\n",
       "專科       166\n",
       "大學及以上    165\n",
       "國、初中     154\n",
       "小學及以下     80\n",
       "無反應       35\n",
       "Name: medu, dtype: int64"
      ]
     },
     "execution_count": 468,
     "metadata": {},
     "output_type": "execute_result"
    }
   ],
   "source": [
    "df['medu'].value_counts()"
   ]
  },
  {
   "cell_type": "code",
   "execution_count": 469,
   "metadata": {},
   "outputs": [],
   "source": [
    "df['Ma_Edu'] = df['medu'].apply(fa_edu)"
   ]
  },
  {
   "cell_type": "code",
   "execution_count": 470,
   "metadata": {},
   "outputs": [
    {
     "data": {
      "text/plain": [
       "0    929\n",
       "1    165\n",
       "Name: Ma_Edu, dtype: int64"
      ]
     },
     "execution_count": 470,
     "metadata": {},
     "output_type": "execute_result"
    }
   ],
   "source": [
    "df['Ma_Edu'].value_counts()"
   ]
  },
  {
   "cell_type": "markdown",
   "metadata": {},
   "source": [
    "* 父親 / 母親省級"
   ]
  },
  {
   "cell_type": "code",
   "execution_count": 471,
   "metadata": {},
   "outputs": [
    {
     "data": {
      "text/plain": [
       "本省閩南人     815\n",
       "本省客家人     128\n",
       "大陸各省市人     80\n",
       "無反應及其他     55\n",
       "原住民        16\n",
       "Name: sengi, dtype: int64"
      ]
     },
     "execution_count": 471,
     "metadata": {},
     "output_type": "execute_result"
    }
   ],
   "source": [
    "df['sengi'].value_counts()"
   ]
  },
  {
   "cell_type": "code",
   "execution_count": 472,
   "metadata": {},
   "outputs": [],
   "source": [
    "def sengi_dummy(sengi):\n",
    "    if sengi == '大陸各省市人':\n",
    "        return int(1)\n",
    "    else:\n",
    "        return int(0)"
   ]
  },
  {
   "cell_type": "code",
   "execution_count": 473,
   "metadata": {},
   "outputs": [],
   "source": [
    "df['Fa_Sengi'] = df['sengi'].apply(sengi_dummy)"
   ]
  },
  {
   "cell_type": "code",
   "execution_count": 474,
   "metadata": {},
   "outputs": [
    {
     "data": {
      "text/plain": [
       "0    1014\n",
       "1      80\n",
       "Name: Fa_Sengi, dtype: int64"
      ]
     },
     "execution_count": 474,
     "metadata": {},
     "output_type": "execute_result"
    }
   ],
   "source": [
    "df['Fa_Sengi'].value_counts()"
   ]
  },
  {
   "cell_type": "code",
   "execution_count": 475,
   "metadata": {},
   "outputs": [
    {
     "data": {
      "text/plain": [
       "本省閩南人     830\n",
       "本省客家人     120\n",
       "大陸各省市人     66\n",
       "無反應及其他     54\n",
       "原住民        24\n",
       "Name: msengi, dtype: int64"
      ]
     },
     "execution_count": 475,
     "metadata": {},
     "output_type": "execute_result"
    }
   ],
   "source": [
    "df['msengi'].value_counts()"
   ]
  },
  {
   "cell_type": "code",
   "execution_count": 476,
   "metadata": {},
   "outputs": [],
   "source": [
    "df['Ma_Sengi'] = df['msengi'].apply(sengi_dummy)"
   ]
  },
  {
   "cell_type": "code",
   "execution_count": 477,
   "metadata": {},
   "outputs": [
    {
     "data": {
      "text/plain": [
       "0    1028\n",
       "1      66\n",
       "Name: Ma_Sengi, dtype: int64"
      ]
     },
     "execution_count": 477,
     "metadata": {},
     "output_type": "execute_result"
    }
   ],
   "source": [
    "df['Ma_Sengi'].value_counts()"
   ]
  },
  {
   "cell_type": "markdown",
   "metadata": {},
   "source": [
    "## 模型先驗假設定\n",
    "Doc：\n",
    "https://www.statsmodels.org/devel/regression.html </br>\n",
    "OLS：\n",
    "https://datatofish.com/statsmodels-linear-regression/ </br>\n",
    "Logit：\n",
    "https://www.geeksforgeeks.org/logistic-regression-using-statsmodels/ </br>\n",
    "Ordered Logit：\n",
    "https://www.statsmodels.org/dev/examples/notebooks/generated/ordinal_regression.html</br>\n",
    "moderator–mediator：\n",
    "https://pypi.org/project/PyProcessMacro/"
   ]
  },
  {
   "cell_type": "markdown",
   "metadata": {},
   "source": [
    "#### 變數操作記錄\n",
    "1. **Political_Interest** 放入後會稀釋家庭與學校效果(雖然仍然顯著) **0.000 / 0.059** ->  **0.012 / 0.098**\n",
    "2. 最終模型 **class 0.059** -> **income 0.123**，但家庭對政治參與用 **income 0.010** (要確認)\n",
    "3. **CN_attitude** 家庭對政治參與 fam_class 0.004 -> 0.003 最終模型 **0.000 / 0.059** -> **0.001 / 0.049** (但是已經有放統獨三分類)\n",
    "4. **Age** 最終模型 **0.00 / 0.59** -> **0.00 / 0.45**"
   ]
  },
  {
   "cell_type": "markdown",
   "metadata": {},
   "source": [
    "### Reshape Data"
   ]
  },
  {
   "cell_type": "code",
   "execution_count": 478,
   "metadata": {},
   "outputs": [
    {
     "data": {
      "text/html": [
       "<div>\n",
       "<style scoped>\n",
       "    .dataframe tbody tr th:only-of-type {\n",
       "        vertical-align: middle;\n",
       "    }\n",
       "\n",
       "    .dataframe tbody tr th {\n",
       "        vertical-align: top;\n",
       "    }\n",
       "\n",
       "    .dataframe thead th {\n",
       "        text-align: right;\n",
       "    }\n",
       "</style>\n",
       "<table border=\"1\" class=\"dataframe\">\n",
       "  <thead>\n",
       "    <tr style=\"text-align: right;\">\n",
       "      <th></th>\n",
       "      <th>School</th>\n",
       "      <th>Funflower_movement_num</th>\n",
       "      <th>Vote_num</th>\n",
       "      <th>Fam_Class</th>\n",
       "      <th>Fam_Income</th>\n",
       "      <th>SchoolType</th>\n",
       "      <th>SchoolType_num</th>\n",
       "      <th>Major</th>\n",
       "      <th>Distance</th>\n",
       "      <th>Sex</th>\n",
       "      <th>Party3</th>\n",
       "      <th>Tondu3</th>\n",
       "      <th>TC_identity</th>\n",
       "      <th>Fcareer</th>\n",
       "      <th>Mcareer</th>\n",
       "      <th>LivingCity</th>\n",
       "      <th>Fa_Edu</th>\n",
       "      <th>Ma_Edu</th>\n",
       "      <th>Fa_Sengi</th>\n",
       "      <th>Ma_Sengi</th>\n",
       "    </tr>\n",
       "  </thead>\n",
       "  <tbody>\n",
       "    <tr>\n",
       "      <th>0</th>\n",
       "      <td>國立臺灣大學</td>\n",
       "      <td>1</td>\n",
       "      <td>1</td>\n",
       "      <td>3</td>\n",
       "      <td>5</td>\n",
       "      <td>公立一般</td>\n",
       "      <td>4</td>\n",
       "      <td>0</td>\n",
       "      <td>4.0</td>\n",
       "      <td>0</td>\n",
       "      <td>泛綠</td>\n",
       "      <td>傾向獨立</td>\n",
       "      <td>臺灣人</td>\n",
       "      <td>0</td>\n",
       "      <td>0</td>\n",
       "      <td>1</td>\n",
       "      <td>1</td>\n",
       "      <td>1</td>\n",
       "      <td>1</td>\n",
       "      <td>0</td>\n",
       "    </tr>\n",
       "    <tr>\n",
       "      <th>1</th>\n",
       "      <td>國立政治大學</td>\n",
       "      <td>1</td>\n",
       "      <td>0</td>\n",
       "      <td>3</td>\n",
       "      <td>4</td>\n",
       "      <td>公立一般</td>\n",
       "      <td>4</td>\n",
       "      <td>0</td>\n",
       "      <td>12.3</td>\n",
       "      <td>0</td>\n",
       "      <td>泛綠</td>\n",
       "      <td>傾向獨立</td>\n",
       "      <td>臺灣人</td>\n",
       "      <td>1</td>\n",
       "      <td>0</td>\n",
       "      <td>1</td>\n",
       "      <td>1</td>\n",
       "      <td>0</td>\n",
       "      <td>0</td>\n",
       "      <td>0</td>\n",
       "    </tr>\n",
       "    <tr>\n",
       "      <th>2</th>\n",
       "      <td>國立政治大學</td>\n",
       "      <td>1</td>\n",
       "      <td>1</td>\n",
       "      <td>3</td>\n",
       "      <td>4</td>\n",
       "      <td>公立一般</td>\n",
       "      <td>4</td>\n",
       "      <td>0</td>\n",
       "      <td>12.3</td>\n",
       "      <td>0</td>\n",
       "      <td>泛綠</td>\n",
       "      <td>傾向獨立</td>\n",
       "      <td>臺灣人</td>\n",
       "      <td>0</td>\n",
       "      <td>0</td>\n",
       "      <td>0</td>\n",
       "      <td>0</td>\n",
       "      <td>0</td>\n",
       "      <td>0</td>\n",
       "      <td>0</td>\n",
       "    </tr>\n",
       "    <tr>\n",
       "      <th>4</th>\n",
       "      <td>國立政治大學</td>\n",
       "      <td>1</td>\n",
       "      <td>1</td>\n",
       "      <td>3</td>\n",
       "      <td>5</td>\n",
       "      <td>公立一般</td>\n",
       "      <td>4</td>\n",
       "      <td>0</td>\n",
       "      <td>12.3</td>\n",
       "      <td>0</td>\n",
       "      <td>泛綠</td>\n",
       "      <td>傾向獨立</td>\n",
       "      <td>臺灣人</td>\n",
       "      <td>0</td>\n",
       "      <td>0</td>\n",
       "      <td>0</td>\n",
       "      <td>0</td>\n",
       "      <td>0</td>\n",
       "      <td>0</td>\n",
       "      <td>0</td>\n",
       "    </tr>\n",
       "    <tr>\n",
       "      <th>5</th>\n",
       "      <td>國立政治大學</td>\n",
       "      <td>1</td>\n",
       "      <td>1</td>\n",
       "      <td>3</td>\n",
       "      <td>4</td>\n",
       "      <td>公立一般</td>\n",
       "      <td>4</td>\n",
       "      <td>0</td>\n",
       "      <td>12.3</td>\n",
       "      <td>0</td>\n",
       "      <td>中立無傾向</td>\n",
       "      <td>傾向獨立</td>\n",
       "      <td>臺灣人</td>\n",
       "      <td>1</td>\n",
       "      <td>0</td>\n",
       "      <td>0</td>\n",
       "      <td>1</td>\n",
       "      <td>1</td>\n",
       "      <td>1</td>\n",
       "      <td>1</td>\n",
       "    </tr>\n",
       "    <tr>\n",
       "      <th>...</th>\n",
       "      <td>...</td>\n",
       "      <td>...</td>\n",
       "      <td>...</td>\n",
       "      <td>...</td>\n",
       "      <td>...</td>\n",
       "      <td>...</td>\n",
       "      <td>...</td>\n",
       "      <td>...</td>\n",
       "      <td>...</td>\n",
       "      <td>...</td>\n",
       "      <td>...</td>\n",
       "      <td>...</td>\n",
       "      <td>...</td>\n",
       "      <td>...</td>\n",
       "      <td>...</td>\n",
       "      <td>...</td>\n",
       "      <td>...</td>\n",
       "      <td>...</td>\n",
       "      <td>...</td>\n",
       "      <td>...</td>\n",
       "    </tr>\n",
       "    <tr>\n",
       "      <th>1088</th>\n",
       "      <td>國立高雄師範大學</td>\n",
       "      <td>0</td>\n",
       "      <td>0</td>\n",
       "      <td>2</td>\n",
       "      <td>4</td>\n",
       "      <td>公立一般</td>\n",
       "      <td>4</td>\n",
       "      <td>0</td>\n",
       "      <td>347.0</td>\n",
       "      <td>0</td>\n",
       "      <td>中立無傾向</td>\n",
       "      <td>傾向維持現狀</td>\n",
       "      <td>臺灣人</td>\n",
       "      <td>0</td>\n",
       "      <td>0</td>\n",
       "      <td>0</td>\n",
       "      <td>1</td>\n",
       "      <td>0</td>\n",
       "      <td>0</td>\n",
       "      <td>0</td>\n",
       "    </tr>\n",
       "    <tr>\n",
       "      <th>1089</th>\n",
       "      <td>國立高雄師範大學</td>\n",
       "      <td>1</td>\n",
       "      <td>1</td>\n",
       "      <td>3</td>\n",
       "      <td>5</td>\n",
       "      <td>公立一般</td>\n",
       "      <td>4</td>\n",
       "      <td>0</td>\n",
       "      <td>347.0</td>\n",
       "      <td>0</td>\n",
       "      <td>泛綠</td>\n",
       "      <td>傾向獨立</td>\n",
       "      <td>臺灣人</td>\n",
       "      <td>0</td>\n",
       "      <td>0</td>\n",
       "      <td>0</td>\n",
       "      <td>1</td>\n",
       "      <td>0</td>\n",
       "      <td>0</td>\n",
       "      <td>0</td>\n",
       "    </tr>\n",
       "    <tr>\n",
       "      <th>1090</th>\n",
       "      <td>國立高雄師範大學</td>\n",
       "      <td>0</td>\n",
       "      <td>1</td>\n",
       "      <td>3</td>\n",
       "      <td>4</td>\n",
       "      <td>公立一般</td>\n",
       "      <td>4</td>\n",
       "      <td>0</td>\n",
       "      <td>347.0</td>\n",
       "      <td>1</td>\n",
       "      <td>泛綠</td>\n",
       "      <td>傾向獨立</td>\n",
       "      <td>臺灣人</td>\n",
       "      <td>1</td>\n",
       "      <td>0</td>\n",
       "      <td>0</td>\n",
       "      <td>0</td>\n",
       "      <td>0</td>\n",
       "      <td>0</td>\n",
       "      <td>0</td>\n",
       "    </tr>\n",
       "    <tr>\n",
       "      <th>1092</th>\n",
       "      <td>國立高雄師範大學</td>\n",
       "      <td>1</td>\n",
       "      <td>0</td>\n",
       "      <td>3</td>\n",
       "      <td>4</td>\n",
       "      <td>公立一般</td>\n",
       "      <td>4</td>\n",
       "      <td>0</td>\n",
       "      <td>347.0</td>\n",
       "      <td>1</td>\n",
       "      <td>中立無傾向</td>\n",
       "      <td>傾向獨立</td>\n",
       "      <td>臺灣人</td>\n",
       "      <td>0</td>\n",
       "      <td>0</td>\n",
       "      <td>0</td>\n",
       "      <td>0</td>\n",
       "      <td>0</td>\n",
       "      <td>0</td>\n",
       "      <td>0</td>\n",
       "    </tr>\n",
       "    <tr>\n",
       "      <th>1093</th>\n",
       "      <td>國立高雄師範大學</td>\n",
       "      <td>0</td>\n",
       "      <td>0</td>\n",
       "      <td>3</td>\n",
       "      <td>3</td>\n",
       "      <td>公立一般</td>\n",
       "      <td>4</td>\n",
       "      <td>0</td>\n",
       "      <td>347.0</td>\n",
       "      <td>0</td>\n",
       "      <td>中立無傾向</td>\n",
       "      <td>傾向維持現狀</td>\n",
       "      <td>臺灣人</td>\n",
       "      <td>0</td>\n",
       "      <td>0</td>\n",
       "      <td>0</td>\n",
       "      <td>0</td>\n",
       "      <td>0</td>\n",
       "      <td>0</td>\n",
       "      <td>0</td>\n",
       "    </tr>\n",
       "  </tbody>\n",
       "</table>\n",
       "<p>824 rows × 20 columns</p>\n",
       "</div>"
      ],
      "text/plain": [
       "        School  Funflower_movement_num  Vote_num  Fam_Class  Fam_Income  \\\n",
       "0       國立臺灣大學                       1         1          3           5   \n",
       "1       國立政治大學                       1         0          3           4   \n",
       "2       國立政治大學                       1         1          3           4   \n",
       "4       國立政治大學                       1         1          3           5   \n",
       "5       國立政治大學                       1         1          3           4   \n",
       "...        ...                     ...       ...        ...         ...   \n",
       "1088  國立高雄師範大學                       0         0          2           4   \n",
       "1089  國立高雄師範大學                       1         1          3           5   \n",
       "1090  國立高雄師範大學                       0         1          3           4   \n",
       "1092  國立高雄師範大學                       1         0          3           4   \n",
       "1093  國立高雄師範大學                       0         0          3           3   \n",
       "\n",
       "     SchoolType  SchoolType_num  Major  Distance Sex Party3  Tondu3  \\\n",
       "0          公立一般               4      0       4.0   0     泛綠    傾向獨立   \n",
       "1          公立一般               4      0      12.3   0     泛綠    傾向獨立   \n",
       "2          公立一般               4      0      12.3   0     泛綠    傾向獨立   \n",
       "4          公立一般               4      0      12.3   0     泛綠    傾向獨立   \n",
       "5          公立一般               4      0      12.3   0  中立無傾向    傾向獨立   \n",
       "...         ...             ...    ...       ...  ..    ...     ...   \n",
       "1088       公立一般               4      0     347.0   0  中立無傾向  傾向維持現狀   \n",
       "1089       公立一般               4      0     347.0   0     泛綠    傾向獨立   \n",
       "1090       公立一般               4      0     347.0   1     泛綠    傾向獨立   \n",
       "1092       公立一般               4      0     347.0   1  中立無傾向    傾向獨立   \n",
       "1093       公立一般               4      0     347.0   0  中立無傾向  傾向維持現狀   \n",
       "\n",
       "     TC_identity  Fcareer  Mcareer  LivingCity  Fa_Edu  Ma_Edu  Fa_Sengi  \\\n",
       "0            臺灣人        0        0           1       1       1         1   \n",
       "1            臺灣人        1        0           1       1       0         0   \n",
       "2            臺灣人        0        0           0       0       0         0   \n",
       "4            臺灣人        0        0           0       0       0         0   \n",
       "5            臺灣人        1        0           0       1       1         1   \n",
       "...          ...      ...      ...         ...     ...     ...       ...   \n",
       "1088         臺灣人        0        0           0       1       0         0   \n",
       "1089         臺灣人        0        0           0       1       0         0   \n",
       "1090         臺灣人        1        0           0       0       0         0   \n",
       "1092         臺灣人        0        0           0       0       0         0   \n",
       "1093         臺灣人        0        0           0       0       0         0   \n",
       "\n",
       "      Ma_Sengi  \n",
       "0            0  \n",
       "1            0  \n",
       "2            0  \n",
       "4            0  \n",
       "5            1  \n",
       "...        ...  \n",
       "1088         0  \n",
       "1089         0  \n",
       "1090         0  \n",
       "1092         0  \n",
       "1093         0  \n",
       "\n",
       "[824 rows x 20 columns]"
      ]
     },
     "execution_count": 478,
     "metadata": {},
     "output_type": "execute_result"
    }
   ],
   "source": [
    "ml_data = df.loc[:, ['v01', 'Funflower_movement_num', 'Vote_num', 'Fam_Class', 'Fam_Income', 'SchoolType', 'SchoolType_num', 'Major', 'Distance', 'Sex', 'Party3', 'Tondu3', \n",
    "                'TC_identity', 'Fcareer', 'Mcareer', 'LivingCity', 'Fa_Edu', 'Ma_Edu', 'Fa_Sengi', 'Ma_Sengi']]\n",
    "ml_data = ml_data.rename(columns = {'v01': 'School', 'Funflower_movement_num': 'Funflower_movement_num', 'Vote_num': 'Vote_num', 'Fam_Class': 'Fam_Class', \n",
    "                            'Fam_Income':'Fam_Income', 'SchoolType': 'SchoolType', 'SchoolType_num': 'SchoolType_num', 'Major':'Major', 'Distance': 'Distance', \n",
    "                            'Sex':'Sex', 'Party3': 'Party3', 'Tondu3':'Tondu3','TC_identity':'TC_identity', 'Fcareer':'Fcareer', 'Mcareer':'Mcareer', \n",
    "                            'LivingCity':'LivingCity', 'Fa_Edu':'Fa_Edu', 'Ma_Edu':'Ma_Edu', 'Fa_Sengi':'Fa_Sengi', 'Ma_Sengi':'Ma_Sengi'})\n",
    "ml_data = ml_data.dropna()\n",
    "ml_data = ml_data.astype({\"Funflower_movement_num\":'int64', \"Vote_num\":'int64', \"Fam_Class\":'int64', 'Fam_Income':'int64', \"SchoolType_num\":'int64'}) \n",
    "SchoolType_order = pd.CategoricalDtype(categories = ['公立一般', '私立一般', '公立技職', '私立技職'], ordered = True)\n",
    "ml_data['SchoolType'] = ml_data['SchoolType'].astype(SchoolType_order)\n",
    "ml_data"
   ]
  },
  {
   "cell_type": "markdown",
   "metadata": {},
   "source": [
    "### 最基本三變數模型"
   ]
  },
  {
   "cell_type": "markdown",
   "metadata": {},
   "source": [
    "* 家庭對政治參與"
   ]
  },
  {
   "cell_type": "code",
   "execution_count": 479,
   "metadata": {},
   "outputs": [
    {
     "name": "stdout",
     "output_type": "stream",
     "text": [
      "Optimization terminated successfully.\n",
      "         Current function value: 0.563753\n",
      "         Iterations 6\n"
     ]
    },
    {
     "data": {
      "text/html": [
       "<table class=\"simpletable\">\n",
       "<caption>Logit Regression Results</caption>\n",
       "<tr>\n",
       "  <th>Dep. Variable:</th>   <td>Funflower_movement_num</td> <th>  No. Observations:  </th>  <td>   824</td>  \n",
       "</tr>\n",
       "<tr>\n",
       "  <th>Model:</th>                    <td>Logit</td>         <th>  Df Residuals:      </th>  <td>   814</td>  \n",
       "</tr>\n",
       "<tr>\n",
       "  <th>Method:</th>                    <td>MLE</td>          <th>  Df Model:          </th>  <td>     9</td>  \n",
       "</tr>\n",
       "<tr>\n",
       "  <th>Date:</th>               <td>Fri, 16 Sep 2022</td>    <th>  Pseudo R-squ.:     </th>  <td>0.09712</td> \n",
       "</tr>\n",
       "<tr>\n",
       "  <th>Time:</th>                   <td>13:40:52</td>        <th>  Log-Likelihood:    </th> <td> -464.53</td> \n",
       "</tr>\n",
       "<tr>\n",
       "  <th>converged:</th>                <td>True</td>          <th>  LL-Null:           </th> <td> -514.50</td> \n",
       "</tr>\n",
       "<tr>\n",
       "  <th>Covariance Type:</th>        <td>nonrobust</td>       <th>  LLR p-value:       </th> <td>1.622e-17</td>\n",
       "</tr>\n",
       "</table>\n",
       "<table class=\"simpletable\">\n",
       "<tr>\n",
       "            <td></td>               <th>coef</th>     <th>std err</th>      <th>z</th>      <th>P>|z|</th>  <th>[0.025</th>    <th>0.975]</th>  \n",
       "</tr>\n",
       "<tr>\n",
       "  <th>Intercept</th>             <td>   -2.2690</td> <td>    1.189</td> <td>   -1.909</td> <td> 0.056</td> <td>   -4.599</td> <td>    0.061</td>\n",
       "</tr>\n",
       "<tr>\n",
       "  <th>Sex[T.1]</th>              <td>    0.2948</td> <td>    0.162</td> <td>    1.817</td> <td> 0.069</td> <td>   -0.023</td> <td>    0.613</td>\n",
       "</tr>\n",
       "<tr>\n",
       "  <th>C(Party3)[T.泛綠]</th>       <td>    0.7280</td> <td>    0.184</td> <td>    3.954</td> <td> 0.000</td> <td>    0.367</td> <td>    1.089</td>\n",
       "</tr>\n",
       "<tr>\n",
       "  <th>C(Party3)[T.泛藍]</th>       <td>   -0.1495</td> <td>    0.213</td> <td>   -0.703</td> <td> 0.482</td> <td>   -0.566</td> <td>    0.267</td>\n",
       "</tr>\n",
       "<tr>\n",
       "  <th>C(Tondu3)[T.傾向統一]</th>     <td>   -0.5553</td> <td>    0.350</td> <td>   -1.585</td> <td> 0.113</td> <td>   -1.242</td> <td>    0.132</td>\n",
       "</tr>\n",
       "<tr>\n",
       "  <th>C(Tondu3)[T.傾向維持現狀]</th>   <td>   -0.6309</td> <td>    0.178</td> <td>   -3.553</td> <td> 0.000</td> <td>   -0.979</td> <td>   -0.283</td>\n",
       "</tr>\n",
       "<tr>\n",
       "  <th>C(TC_identity)[T.臺灣人]</th> <td>    1.0051</td> <td>    1.101</td> <td>    0.913</td> <td> 0.361</td> <td>   -1.152</td> <td>    3.162</td>\n",
       "</tr>\n",
       "<tr>\n",
       "  <th>C(TC_identity)[T.都是]</th>  <td>    0.8935</td> <td>    1.118</td> <td>    0.799</td> <td> 0.424</td> <td>   -1.298</td> <td>    3.085</td>\n",
       "</tr>\n",
       "<tr>\n",
       "  <th>Fam_Class</th>             <td>    0.3407</td> <td>    0.117</td> <td>    2.902</td> <td> 0.004</td> <td>    0.111</td> <td>    0.571</td>\n",
       "</tr>\n",
       "<tr>\n",
       "  <th>Distance</th>              <td>   -0.0044</td> <td>    0.001</td> <td>   -6.327</td> <td> 0.000</td> <td>   -0.006</td> <td>   -0.003</td>\n",
       "</tr>\n",
       "</table>"
      ],
      "text/plain": [
       "<class 'statsmodels.iolib.summary.Summary'>\n",
       "\"\"\"\n",
       "                             Logit Regression Results                             \n",
       "==================================================================================\n",
       "Dep. Variable:     Funflower_movement_num   No. Observations:                  824\n",
       "Model:                              Logit   Df Residuals:                      814\n",
       "Method:                               MLE   Df Model:                            9\n",
       "Date:                    Fri, 16 Sep 2022   Pseudo R-squ.:                 0.09712\n",
       "Time:                            13:40:52   Log-Likelihood:                -464.53\n",
       "converged:                           True   LL-Null:                       -514.50\n",
       "Covariance Type:                nonrobust   LLR p-value:                 1.622e-17\n",
       "=========================================================================================\n",
       "                            coef    std err          z      P>|z|      [0.025      0.975]\n",
       "-----------------------------------------------------------------------------------------\n",
       "Intercept                -2.2690      1.189     -1.909      0.056      -4.599       0.061\n",
       "Sex[T.1]                  0.2948      0.162      1.817      0.069      -0.023       0.613\n",
       "C(Party3)[T.泛綠]           0.7280      0.184      3.954      0.000       0.367       1.089\n",
       "C(Party3)[T.泛藍]          -0.1495      0.213     -0.703      0.482      -0.566       0.267\n",
       "C(Tondu3)[T.傾向統一]        -0.5553      0.350     -1.585      0.113      -1.242       0.132\n",
       "C(Tondu3)[T.傾向維持現狀]      -0.6309      0.178     -3.553      0.000      -0.979      -0.283\n",
       "C(TC_identity)[T.臺灣人]     1.0051      1.101      0.913      0.361      -1.152       3.162\n",
       "C(TC_identity)[T.都是]      0.8935      1.118      0.799      0.424      -1.298       3.085\n",
       "Fam_Class                 0.3407      0.117      2.902      0.004       0.111       0.571\n",
       "Distance                 -0.0044      0.001     -6.327      0.000      -0.006      -0.003\n",
       "=========================================================================================\n",
       "\"\"\""
      ]
     },
     "execution_count": 479,
     "metadata": {},
     "output_type": "execute_result"
    }
   ],
   "source": [
    "fam_pp_log = smf.logit(formula = \"Funflower_movement_num ~ Fam_Class + Distance + Sex + C(Party3) + C(Tondu3) + C(TC_identity)\", data = ml_data).fit()\n",
    "fam_pp_log.summary()"
   ]
  },
  {
   "cell_type": "markdown",
   "metadata": {},
   "source": [
    "* 學校對政治參與(不用跑)"
   ]
  },
  {
   "cell_type": "code",
   "execution_count": 480,
   "metadata": {},
   "outputs": [
    {
     "name": "stdout",
     "output_type": "stream",
     "text": [
      "Optimization terminated successfully.\n",
      "         Current function value: 0.554562\n",
      "         Iterations 6\n"
     ]
    },
    {
     "data": {
      "text/html": [
       "<table class=\"simpletable\">\n",
       "<caption>Logit Regression Results</caption>\n",
       "<tr>\n",
       "  <th>Dep. Variable:</th>   <td>Funflower_movement_num</td> <th>  No. Observations:  </th>  <td>   824</td>  \n",
       "</tr>\n",
       "<tr>\n",
       "  <th>Model:</th>                    <td>Logit</td>         <th>  Df Residuals:      </th>  <td>   814</td>  \n",
       "</tr>\n",
       "<tr>\n",
       "  <th>Method:</th>                    <td>MLE</td>          <th>  Df Model:          </th>  <td>     9</td>  \n",
       "</tr>\n",
       "<tr>\n",
       "  <th>Date:</th>               <td>Fri, 16 Sep 2022</td>    <th>  Pseudo R-squ.:     </th>  <td>0.1118</td>  \n",
       "</tr>\n",
       "<tr>\n",
       "  <th>Time:</th>                   <td>13:40:52</td>        <th>  Log-Likelihood:    </th> <td> -456.96</td> \n",
       "</tr>\n",
       "<tr>\n",
       "  <th>converged:</th>                <td>True</td>          <th>  LL-Null:           </th> <td> -514.50</td> \n",
       "</tr>\n",
       "<tr>\n",
       "  <th>Covariance Type:</th>        <td>nonrobust</td>       <th>  LLR p-value:       </th> <td>1.353e-20</td>\n",
       "</tr>\n",
       "</table>\n",
       "<table class=\"simpletable\">\n",
       "<tr>\n",
       "            <td></td>               <th>coef</th>     <th>std err</th>      <th>z</th>      <th>P>|z|</th>  <th>[0.025</th>    <th>0.975]</th>  \n",
       "</tr>\n",
       "<tr>\n",
       "  <th>Intercept</th>             <td>   -1.8248</td> <td>    1.124</td> <td>   -1.623</td> <td> 0.105</td> <td>   -4.028</td> <td>    0.379</td>\n",
       "</tr>\n",
       "<tr>\n",
       "  <th>Sex[T.1]</th>              <td>    0.3429</td> <td>    0.165</td> <td>    2.084</td> <td> 0.037</td> <td>    0.020</td> <td>    0.665</td>\n",
       "</tr>\n",
       "<tr>\n",
       "  <th>C(Party3)[T.泛綠]</th>       <td>    0.7300</td> <td>    0.186</td> <td>    3.917</td> <td> 0.000</td> <td>    0.365</td> <td>    1.095</td>\n",
       "</tr>\n",
       "<tr>\n",
       "  <th>C(Party3)[T.泛藍]</th>       <td>   -0.2040</td> <td>    0.214</td> <td>   -0.951</td> <td> 0.341</td> <td>   -0.624</td> <td>    0.216</td>\n",
       "</tr>\n",
       "<tr>\n",
       "  <th>C(Tondu3)[T.傾向統一]</th>     <td>   -0.4509</td> <td>    0.349</td> <td>   -1.293</td> <td> 0.196</td> <td>   -1.135</td> <td>    0.233</td>\n",
       "</tr>\n",
       "<tr>\n",
       "  <th>C(Tondu3)[T.傾向維持現狀]</th>   <td>   -0.5666</td> <td>    0.179</td> <td>   -3.162</td> <td> 0.002</td> <td>   -0.918</td> <td>   -0.215</td>\n",
       "</tr>\n",
       "<tr>\n",
       "  <th>C(TC_identity)[T.臺灣人]</th> <td>    0.6598</td> <td>    1.099</td> <td>    0.601</td> <td> 0.548</td> <td>   -1.493</td> <td>    2.813</td>\n",
       "</tr>\n",
       "<tr>\n",
       "  <th>C(TC_identity)[T.都是]</th>  <td>    0.5448</td> <td>    1.115</td> <td>    0.489</td> <td> 0.625</td> <td>   -1.640</td> <td>    2.730</td>\n",
       "</tr>\n",
       "<tr>\n",
       "  <th>SchoolType_num</th>        <td>    0.3348</td> <td>    0.070</td> <td>    4.789</td> <td> 0.000</td> <td>    0.198</td> <td>    0.472</td>\n",
       "</tr>\n",
       "<tr>\n",
       "  <th>Distance</th>              <td>   -0.0047</td> <td>    0.001</td> <td>   -6.553</td> <td> 0.000</td> <td>   -0.006</td> <td>   -0.003</td>\n",
       "</tr>\n",
       "</table>"
      ],
      "text/plain": [
       "<class 'statsmodels.iolib.summary.Summary'>\n",
       "\"\"\"\n",
       "                             Logit Regression Results                             \n",
       "==================================================================================\n",
       "Dep. Variable:     Funflower_movement_num   No. Observations:                  824\n",
       "Model:                              Logit   Df Residuals:                      814\n",
       "Method:                               MLE   Df Model:                            9\n",
       "Date:                    Fri, 16 Sep 2022   Pseudo R-squ.:                  0.1118\n",
       "Time:                            13:40:52   Log-Likelihood:                -456.96\n",
       "converged:                           True   LL-Null:                       -514.50\n",
       "Covariance Type:                nonrobust   LLR p-value:                 1.353e-20\n",
       "=========================================================================================\n",
       "                            coef    std err          z      P>|z|      [0.025      0.975]\n",
       "-----------------------------------------------------------------------------------------\n",
       "Intercept                -1.8248      1.124     -1.623      0.105      -4.028       0.379\n",
       "Sex[T.1]                  0.3429      0.165      2.084      0.037       0.020       0.665\n",
       "C(Party3)[T.泛綠]           0.7300      0.186      3.917      0.000       0.365       1.095\n",
       "C(Party3)[T.泛藍]          -0.2040      0.214     -0.951      0.341      -0.624       0.216\n",
       "C(Tondu3)[T.傾向統一]        -0.4509      0.349     -1.293      0.196      -1.135       0.233\n",
       "C(Tondu3)[T.傾向維持現狀]      -0.5666      0.179     -3.162      0.002      -0.918      -0.215\n",
       "C(TC_identity)[T.臺灣人]     0.6598      1.099      0.601      0.548      -1.493       2.813\n",
       "C(TC_identity)[T.都是]      0.5448      1.115      0.489      0.625      -1.640       2.730\n",
       "SchoolType_num            0.3348      0.070      4.789      0.000       0.198       0.472\n",
       "Distance                 -0.0047      0.001     -6.553      0.000      -0.006      -0.003\n",
       "=========================================================================================\n",
       "\"\"\""
      ]
     },
     "execution_count": 480,
     "metadata": {},
     "output_type": "execute_result"
    }
   ],
   "source": [
    "school_pp_log = smf.logit(formula = \"Funflower_movement_num ~ SchoolType_num + Distance + Sex + C(Party3) + C(Tondu3) + C(TC_identity)\", data = ml_data).fit()\n",
    "school_pp_log.summary()"
   ]
  },
  {
   "cell_type": "markdown",
   "metadata": {},
   "source": [
    "* 家庭對學校</br>\n",
    "A -> 預算</br>\n",
    "A 如果是類別的時候</br>\n",
    "order logit試試看"
   ]
  },
  {
   "cell_type": "code",
   "execution_count": 481,
   "metadata": {},
   "outputs": [
    {
     "data": {
      "text/html": [
       "<table class=\"simpletable\">\n",
       "<caption>OLS Regression Results</caption>\n",
       "<tr>\n",
       "  <th>Dep. Variable:</th>     <td>SchoolType_num</td>  <th>  R-squared:         </th> <td>   0.115</td>\n",
       "</tr>\n",
       "<tr>\n",
       "  <th>Model:</th>                   <td>OLS</td>       <th>  Adj. R-squared:    </th> <td>   0.105</td>\n",
       "</tr>\n",
       "<tr>\n",
       "  <th>Method:</th>             <td>Least Squares</td>  <th>  F-statistic:       </th> <td>   11.70</td>\n",
       "</tr>\n",
       "<tr>\n",
       "  <th>Date:</th>             <td>Fri, 16 Sep 2022</td> <th>  Prob (F-statistic):</th> <td>2.06e-17</td>\n",
       "</tr>\n",
       "<tr>\n",
       "  <th>Time:</th>                 <td>13:40:52</td>     <th>  Log-Likelihood:    </th> <td> -1266.1</td>\n",
       "</tr>\n",
       "<tr>\n",
       "  <th>No. Observations:</th>      <td>   824</td>      <th>  AIC:               </th> <td>   2552.</td>\n",
       "</tr>\n",
       "<tr>\n",
       "  <th>Df Residuals:</th>          <td>   814</td>      <th>  BIC:               </th> <td>   2599.</td>\n",
       "</tr>\n",
       "<tr>\n",
       "  <th>Df Model:</th>              <td>     9</td>      <th>                     </th>     <td> </td>   \n",
       "</tr>\n",
       "<tr>\n",
       "  <th>Covariance Type:</th>      <td>nonrobust</td>    <th>                     </th>     <td> </td>   \n",
       "</tr>\n",
       "</table>\n",
       "<table class=\"simpletable\">\n",
       "<tr>\n",
       "       <td></td>         <th>coef</th>     <th>std err</th>      <th>t</th>      <th>P>|t|</th>  <th>[0.025</th>    <th>0.975]</th>  \n",
       "</tr>\n",
       "<tr>\n",
       "  <th>Intercept</th>  <td>    1.5482</td> <td>    0.166</td> <td>    9.350</td> <td> 0.000</td> <td>    1.223</td> <td>    1.873</td>\n",
       "</tr>\n",
       "<tr>\n",
       "  <th>Sex[T.1]</th>   <td>   -0.1145</td> <td>    0.079</td> <td>   -1.448</td> <td> 0.148</td> <td>   -0.270</td> <td>    0.041</td>\n",
       "</tr>\n",
       "<tr>\n",
       "  <th>Fam_Class</th>  <td>    0.2728</td> <td>    0.057</td> <td>    4.750</td> <td> 0.000</td> <td>    0.160</td> <td>    0.386</td>\n",
       "</tr>\n",
       "<tr>\n",
       "  <th>Fcareer</th>    <td>    0.1063</td> <td>    0.113</td> <td>    0.939</td> <td> 0.348</td> <td>   -0.116</td> <td>    0.328</td>\n",
       "</tr>\n",
       "<tr>\n",
       "  <th>Mcareer</th>    <td>   -0.0053</td> <td>    0.137</td> <td>   -0.039</td> <td> 0.969</td> <td>   -0.274</td> <td>    0.263</td>\n",
       "</tr>\n",
       "<tr>\n",
       "  <th>Fa_Edu</th>     <td>    0.5097</td> <td>    0.113</td> <td>    4.494</td> <td> 0.000</td> <td>    0.287</td> <td>    0.732</td>\n",
       "</tr>\n",
       "<tr>\n",
       "  <th>Ma_Edu</th>     <td>    0.1169</td> <td>    0.135</td> <td>    0.865</td> <td> 0.387</td> <td>   -0.148</td> <td>    0.382</td>\n",
       "</tr>\n",
       "<tr>\n",
       "  <th>Fa_Sengi</th>   <td>   -0.0145</td> <td>    0.164</td> <td>   -0.089</td> <td> 0.929</td> <td>   -0.336</td> <td>    0.307</td>\n",
       "</tr>\n",
       "<tr>\n",
       "  <th>Ma_Sengi</th>   <td>   -0.0377</td> <td>    0.173</td> <td>   -0.218</td> <td> 0.828</td> <td>   -0.378</td> <td>    0.303</td>\n",
       "</tr>\n",
       "<tr>\n",
       "  <th>LivingCity</th> <td>    0.3429</td> <td>    0.104</td> <td>    3.307</td> <td> 0.001</td> <td>    0.139</td> <td>    0.546</td>\n",
       "</tr>\n",
       "</table>\n",
       "<table class=\"simpletable\">\n",
       "<tr>\n",
       "  <th>Omnibus:</th>       <td>521.123</td> <th>  Durbin-Watson:     </th> <td>   0.253</td>\n",
       "</tr>\n",
       "<tr>\n",
       "  <th>Prob(Omnibus):</th> <td> 0.000</td>  <th>  Jarque-Bera (JB):  </th> <td>  48.204</td>\n",
       "</tr>\n",
       "<tr>\n",
       "  <th>Skew:</th>          <td>-0.010</td>  <th>  Prob(JB):          </th> <td>3.41e-11</td>\n",
       "</tr>\n",
       "<tr>\n",
       "  <th>Kurtosis:</th>      <td> 1.815</td>  <th>  Cond. No.          </th> <td>    15.3</td>\n",
       "</tr>\n",
       "</table><br/><br/>Notes:<br/>[1] Standard Errors assume that the covariance matrix of the errors is correctly specified."
      ],
      "text/plain": [
       "<class 'statsmodels.iolib.summary.Summary'>\n",
       "\"\"\"\n",
       "                            OLS Regression Results                            \n",
       "==============================================================================\n",
       "Dep. Variable:         SchoolType_num   R-squared:                       0.115\n",
       "Model:                            OLS   Adj. R-squared:                  0.105\n",
       "Method:                 Least Squares   F-statistic:                     11.70\n",
       "Date:                Fri, 16 Sep 2022   Prob (F-statistic):           2.06e-17\n",
       "Time:                        13:40:52   Log-Likelihood:                -1266.1\n",
       "No. Observations:                 824   AIC:                             2552.\n",
       "Df Residuals:                     814   BIC:                             2599.\n",
       "Df Model:                           9                                         \n",
       "Covariance Type:            nonrobust                                         \n",
       "==============================================================================\n",
       "                 coef    std err          t      P>|t|      [0.025      0.975]\n",
       "------------------------------------------------------------------------------\n",
       "Intercept      1.5482      0.166      9.350      0.000       1.223       1.873\n",
       "Sex[T.1]      -0.1145      0.079     -1.448      0.148      -0.270       0.041\n",
       "Fam_Class      0.2728      0.057      4.750      0.000       0.160       0.386\n",
       "Fcareer        0.1063      0.113      0.939      0.348      -0.116       0.328\n",
       "Mcareer       -0.0053      0.137     -0.039      0.969      -0.274       0.263\n",
       "Fa_Edu         0.5097      0.113      4.494      0.000       0.287       0.732\n",
       "Ma_Edu         0.1169      0.135      0.865      0.387      -0.148       0.382\n",
       "Fa_Sengi      -0.0145      0.164     -0.089      0.929      -0.336       0.307\n",
       "Ma_Sengi      -0.0377      0.173     -0.218      0.828      -0.378       0.303\n",
       "LivingCity     0.3429      0.104      3.307      0.001       0.139       0.546\n",
       "==============================================================================\n",
       "Omnibus:                      521.123   Durbin-Watson:                   0.253\n",
       "Prob(Omnibus):                  0.000   Jarque-Bera (JB):               48.204\n",
       "Skew:                          -0.010   Prob(JB):                     3.41e-11\n",
       "Kurtosis:                       1.815   Cond. No.                         15.3\n",
       "==============================================================================\n",
       "\n",
       "Notes:\n",
       "[1] Standard Errors assume that the covariance matrix of the errors is correctly specified.\n",
       "\"\"\""
      ]
     },
     "execution_count": 481,
     "metadata": {},
     "output_type": "execute_result"
    }
   ],
   "source": [
    "school_fm_lm = smf.ols(formula = \"SchoolType_num ~ Fam_Class + Sex + Fcareer + Mcareer + Fa_Edu + Ma_Edu + Fa_Sengi + Ma_Sengi + LivingCity\", data = ml_data).fit()\n",
    "school_fm_lm.summary()"
   ]
  },
  {
   "cell_type": "code",
   "execution_count": 482,
   "metadata": {},
   "outputs": [
    {
     "data": {
      "text/plain": [
       "CategoricalDtype(categories=['公立一般', '私立一般', '公立技職', '私立技職'], ordered=True)"
      ]
     },
     "execution_count": 482,
     "metadata": {},
     "output_type": "execute_result"
    }
   ],
   "source": [
    "# Check SchoolType if as ordinal\n",
    "ml_data['SchoolType'].dtypes"
   ]
  },
  {
   "cell_type": "code",
   "execution_count": 486,
   "metadata": {},
   "outputs": [
    {
     "data": {
      "text/html": [
       "<table class=\"simpletable\">\n",
       "<caption>OrderedModel Results</caption>\n",
       "<tr>\n",
       "  <th>Dep. Variable:</th>        <td>SchoolType</td>     <th>  Log-Likelihood:    </th> <td> -1006.4</td>\n",
       "</tr>\n",
       "<tr>\n",
       "  <th>Model:</th>               <td>OrderedModel</td>    <th>  AIC:               </th> <td>   2037.</td>\n",
       "</tr>\n",
       "<tr>\n",
       "  <th>Method:</th>           <td>Maximum Likelihood</td> <th>  BIC:               </th> <td>   2093.</td>\n",
       "</tr>\n",
       "<tr>\n",
       "  <th>Date:</th>              <td>Fri, 16 Sep 2022</td>  <th>                     </th>     <td> </td>   \n",
       "</tr>\n",
       "<tr>\n",
       "  <th>Time:</th>                  <td>13:41:18</td>      <th>                     </th>     <td> </td>   \n",
       "</tr>\n",
       "<tr>\n",
       "  <th>No. Observations:</th>       <td>   824</td>       <th>                     </th>     <td> </td>   \n",
       "</tr>\n",
       "<tr>\n",
       "  <th>Df Residuals:</th>           <td>   812</td>       <th>                     </th>     <td> </td>   \n",
       "</tr>\n",
       "<tr>\n",
       "  <th>Df Model:</th>               <td>    12</td>       <th>                     </th>     <td> </td>   \n",
       "</tr>\n",
       "</table>\n",
       "<table class=\"simpletable\">\n",
       "<tr>\n",
       "       <td></td>         <th>coef</th>     <th>std err</th>      <th>z</th>      <th>P>|z|</th>  <th>[0.025</th>    <th>0.975]</th>  \n",
       "</tr>\n",
       "<tr>\n",
       "  <th>Sex[T.1]</th>   <td>    0.1251</td> <td>    0.130</td> <td>    0.966</td> <td> 0.334</td> <td>   -0.129</td> <td>    0.379</td>\n",
       "</tr>\n",
       "<tr>\n",
       "  <th>Fam_Class</th>  <td>   -0.4139</td> <td>    0.095</td> <td>   -4.349</td> <td> 0.000</td> <td>   -0.600</td> <td>   -0.227</td>\n",
       "</tr>\n",
       "<tr>\n",
       "  <th>Fcareer</th>    <td>   -0.2207</td> <td>    0.184</td> <td>   -1.199</td> <td> 0.230</td> <td>   -0.581</td> <td>    0.140</td>\n",
       "</tr>\n",
       "<tr>\n",
       "  <th>Mcareer</th>    <td>    0.0120</td> <td>    0.220</td> <td>    0.054</td> <td> 0.957</td> <td>   -0.419</td> <td>    0.443</td>\n",
       "</tr>\n",
       "<tr>\n",
       "  <th>Fa_Edu</th>     <td>   -0.7650</td> <td>    0.185</td> <td>   -4.134</td> <td> 0.000</td> <td>   -1.128</td> <td>   -0.402</td>\n",
       "</tr>\n",
       "<tr>\n",
       "  <th>Ma_Edu</th>     <td>   -0.2586</td> <td>    0.216</td> <td>   -1.199</td> <td> 0.230</td> <td>   -0.681</td> <td>    0.164</td>\n",
       "</tr>\n",
       "<tr>\n",
       "  <th>Fa_Sengi</th>   <td>    0.0324</td> <td>    0.265</td> <td>    0.123</td> <td> 0.903</td> <td>   -0.486</td> <td>    0.551</td>\n",
       "</tr>\n",
       "<tr>\n",
       "  <th>Ma_Sengi</th>   <td>    0.1567</td> <td>    0.280</td> <td>    0.560</td> <td> 0.576</td> <td>   -0.392</td> <td>    0.705</td>\n",
       "</tr>\n",
       "<tr>\n",
       "  <th>LivingCity</th> <td>   -0.5450</td> <td>    0.169</td> <td>   -3.232</td> <td> 0.001</td> <td>   -0.876</td> <td>   -0.215</td>\n",
       "</tr>\n",
       "<tr>\n",
       "  <th>公立一般/私立一般</th>  <td>   -2.6980</td> <td>    0.290</td> <td>   -9.299</td> <td> 0.000</td> <td>   -3.267</td> <td>   -2.129</td>\n",
       "</tr>\n",
       "<tr>\n",
       "  <th>私立一般/公立技職</th>  <td>    0.4512</td> <td>    0.054</td> <td>    8.281</td> <td> 0.000</td> <td>    0.344</td> <td>    0.558</td>\n",
       "</tr>\n",
       "<tr>\n",
       "  <th>公立技職/私立技職</th>  <td>   -0.9920</td> <td>    0.119</td> <td>   -8.305</td> <td> 0.000</td> <td>   -1.226</td> <td>   -0.758</td>\n",
       "</tr>\n",
       "</table>"
      ],
      "text/plain": [
       "<class 'statsmodels.iolib.summary.Summary'>\n",
       "\"\"\"\n",
       "                             OrderedModel Results                             \n",
       "==============================================================================\n",
       "Dep. Variable:             SchoolType   Log-Likelihood:                -1006.4\n",
       "Model:                   OrderedModel   AIC:                             2037.\n",
       "Method:            Maximum Likelihood   BIC:                             2093.\n",
       "Date:                Fri, 16 Sep 2022                                         \n",
       "Time:                        13:41:18                                         \n",
       "No. Observations:                 824                                         \n",
       "Df Residuals:                     812                                         \n",
       "Df Model:                          12                                         \n",
       "==============================================================================\n",
       "                 coef    std err          z      P>|z|      [0.025      0.975]\n",
       "------------------------------------------------------------------------------\n",
       "Sex[T.1]       0.1251      0.130      0.966      0.334      -0.129       0.379\n",
       "Fam_Class     -0.4139      0.095     -4.349      0.000      -0.600      -0.227\n",
       "Fcareer       -0.2207      0.184     -1.199      0.230      -0.581       0.140\n",
       "Mcareer        0.0120      0.220      0.054      0.957      -0.419       0.443\n",
       "Fa_Edu        -0.7650      0.185     -4.134      0.000      -1.128      -0.402\n",
       "Ma_Edu        -0.2586      0.216     -1.199      0.230      -0.681       0.164\n",
       "Fa_Sengi       0.0324      0.265      0.123      0.903      -0.486       0.551\n",
       "Ma_Sengi       0.1567      0.280      0.560      0.576      -0.392       0.705\n",
       "LivingCity    -0.5450      0.169     -3.232      0.001      -0.876      -0.215\n",
       "公立一般/私立一般     -2.6980      0.290     -9.299      0.000      -3.267      -2.129\n",
       "私立一般/公立技職      0.4512      0.054      8.281      0.000       0.344       0.558\n",
       "公立技職/私立技職     -0.9920      0.119     -8.305      0.000      -1.226      -0.758\n",
       "==============================================================================\n",
       "\"\"\""
      ]
     },
     "execution_count": 486,
     "metadata": {},
     "output_type": "execute_result"
    }
   ],
   "source": [
    "# 家庭對學校 Ordered Logit -> 變顯著負相關\n",
    "school_fm_log = OrderedModel.from_formula(\"SchoolType ~ Fam_Class + Sex + Fcareer + Mcareer + Fa_Edu + Ma_Edu + Fa_Sengi + Ma_Sengi + LivingCity\", ml_data, distr = 'logit').fit(method='bfgs', disp=False)                                   \n",
    "school_fm_log.summary()"
   ]
  },
  {
   "cell_type": "markdown",
   "metadata": {},
   "source": [
    "* 家庭 + 學校對政治參與"
   ]
  },
  {
   "cell_type": "code",
   "execution_count": 484,
   "metadata": {},
   "outputs": [
    {
     "name": "stdout",
     "output_type": "stream",
     "text": [
      "Optimization terminated successfully.\n",
      "         Current function value: 0.547352\n",
      "         Iterations 6\n"
     ]
    },
    {
     "data": {
      "text/html": [
       "<table class=\"simpletable\">\n",
       "<caption>Logit Regression Results</caption>\n",
       "<tr>\n",
       "  <th>Dep. Variable:</th>   <td>Funflower_movement_num</td> <th>  No. Observations:  </th>  <td>   824</td>  \n",
       "</tr>\n",
       "<tr>\n",
       "  <th>Model:</th>                    <td>Logit</td>         <th>  Df Residuals:      </th>  <td>   812</td>  \n",
       "</tr>\n",
       "<tr>\n",
       "  <th>Method:</th>                    <td>MLE</td>          <th>  Df Model:          </th>  <td>    11</td>  \n",
       "</tr>\n",
       "<tr>\n",
       "  <th>Date:</th>               <td>Fri, 16 Sep 2022</td>    <th>  Pseudo R-squ.:     </th>  <td>0.1234</td>  \n",
       "</tr>\n",
       "<tr>\n",
       "  <th>Time:</th>                   <td>13:40:52</td>        <th>  Log-Likelihood:    </th> <td> -451.02</td> \n",
       "</tr>\n",
       "<tr>\n",
       "  <th>converged:</th>                <td>True</td>          <th>  LL-Null:           </th> <td> -514.50</td> \n",
       "</tr>\n",
       "<tr>\n",
       "  <th>Covariance Type:</th>        <td>nonrobust</td>       <th>  LLR p-value:       </th> <td>7.150e-22</td>\n",
       "</tr>\n",
       "</table>\n",
       "<table class=\"simpletable\">\n",
       "<tr>\n",
       "            <td></td>               <th>coef</th>     <th>std err</th>      <th>z</th>      <th>P>|z|</th>  <th>[0.025</th>    <th>0.975]</th>  \n",
       "</tr>\n",
       "<tr>\n",
       "  <th>Intercept</th>             <td>   -2.5720</td> <td>    1.194</td> <td>   -2.154</td> <td> 0.031</td> <td>   -4.912</td> <td>   -0.232</td>\n",
       "</tr>\n",
       "<tr>\n",
       "  <th>Sex[T.1]</th>              <td>    0.4053</td> <td>    0.167</td> <td>    2.424</td> <td> 0.015</td> <td>    0.078</td> <td>    0.733</td>\n",
       "</tr>\n",
       "<tr>\n",
       "  <th>C(Party3)[T.泛綠]</th>       <td>    0.7325</td> <td>    0.188</td> <td>    3.901</td> <td> 0.000</td> <td>    0.364</td> <td>    1.101</td>\n",
       "</tr>\n",
       "<tr>\n",
       "  <th>C(Party3)[T.泛藍]</th>       <td>   -0.2420</td> <td>    0.218</td> <td>   -1.110</td> <td> 0.267</td> <td>   -0.669</td> <td>    0.185</td>\n",
       "</tr>\n",
       "<tr>\n",
       "  <th>C(Tondu3)[T.傾向統一]</th>     <td>   -0.4701</td> <td>    0.352</td> <td>   -1.336</td> <td> 0.182</td> <td>   -1.160</td> <td>    0.220</td>\n",
       "</tr>\n",
       "<tr>\n",
       "  <th>C(Tondu3)[T.傾向維持現狀]</th>   <td>   -0.5528</td> <td>    0.181</td> <td>   -3.060</td> <td> 0.002</td> <td>   -0.907</td> <td>   -0.199</td>\n",
       "</tr>\n",
       "<tr>\n",
       "  <th>C(TC_identity)[T.臺灣人]</th> <td>    0.7740</td> <td>    1.103</td> <td>    0.702</td> <td> 0.483</td> <td>   -1.388</td> <td>    2.936</td>\n",
       "</tr>\n",
       "<tr>\n",
       "  <th>C(TC_identity)[T.都是]</th>  <td>    0.6268</td> <td>    1.120</td> <td>    0.560</td> <td> 0.576</td> <td>   -1.568</td> <td>    2.821</td>\n",
       "</tr>\n",
       "<tr>\n",
       "  <th>SchoolType_num</th>        <td>    0.2624</td> <td>    0.073</td> <td>    3.577</td> <td> 0.000</td> <td>    0.119</td> <td>    0.406</td>\n",
       "</tr>\n",
       "<tr>\n",
       "  <th>Fam_Class</th>             <td>    0.2302</td> <td>    0.122</td> <td>    1.885</td> <td> 0.059</td> <td>   -0.009</td> <td>    0.469</td>\n",
       "</tr>\n",
       "<tr>\n",
       "  <th>Distance</th>              <td>   -0.0043</td> <td>    0.001</td> <td>   -5.855</td> <td> 0.000</td> <td>   -0.006</td> <td>   -0.003</td>\n",
       "</tr>\n",
       "<tr>\n",
       "  <th>Major</th>                 <td>    0.7349</td> <td>    0.258</td> <td>    2.843</td> <td> 0.004</td> <td>    0.228</td> <td>    1.242</td>\n",
       "</tr>\n",
       "</table>"
      ],
      "text/plain": [
       "<class 'statsmodels.iolib.summary.Summary'>\n",
       "\"\"\"\n",
       "                             Logit Regression Results                             \n",
       "==================================================================================\n",
       "Dep. Variable:     Funflower_movement_num   No. Observations:                  824\n",
       "Model:                              Logit   Df Residuals:                      812\n",
       "Method:                               MLE   Df Model:                           11\n",
       "Date:                    Fri, 16 Sep 2022   Pseudo R-squ.:                  0.1234\n",
       "Time:                            13:40:52   Log-Likelihood:                -451.02\n",
       "converged:                           True   LL-Null:                       -514.50\n",
       "Covariance Type:                nonrobust   LLR p-value:                 7.150e-22\n",
       "=========================================================================================\n",
       "                            coef    std err          z      P>|z|      [0.025      0.975]\n",
       "-----------------------------------------------------------------------------------------\n",
       "Intercept                -2.5720      1.194     -2.154      0.031      -4.912      -0.232\n",
       "Sex[T.1]                  0.4053      0.167      2.424      0.015       0.078       0.733\n",
       "C(Party3)[T.泛綠]           0.7325      0.188      3.901      0.000       0.364       1.101\n",
       "C(Party3)[T.泛藍]          -0.2420      0.218     -1.110      0.267      -0.669       0.185\n",
       "C(Tondu3)[T.傾向統一]        -0.4701      0.352     -1.336      0.182      -1.160       0.220\n",
       "C(Tondu3)[T.傾向維持現狀]      -0.5528      0.181     -3.060      0.002      -0.907      -0.199\n",
       "C(TC_identity)[T.臺灣人]     0.7740      1.103      0.702      0.483      -1.388       2.936\n",
       "C(TC_identity)[T.都是]      0.6268      1.120      0.560      0.576      -1.568       2.821\n",
       "SchoolType_num            0.2624      0.073      3.577      0.000       0.119       0.406\n",
       "Fam_Class                 0.2302      0.122      1.885      0.059      -0.009       0.469\n",
       "Distance                 -0.0043      0.001     -5.855      0.000      -0.006      -0.003\n",
       "Major                     0.7349      0.258      2.843      0.004       0.228       1.242\n",
       "=========================================================================================\n",
       "\"\"\""
      ]
     },
     "execution_count": 484,
     "metadata": {},
     "output_type": "execute_result"
    }
   ],
   "source": [
    "school_fam_pp_log = smf.logit(formula = \"Funflower_movement_num ~ SchoolType_num + Fam_Class + Distance + Sex + Major + C(Party3) + C(Tondu3) + C(TC_identity)\", data = ml_data).fit()\n",
    "school_fam_pp_log.summary()"
   ]
  },
  {
   "cell_type": "markdown",
   "metadata": {},
   "source": [
    "#### Political Socialization Agent\n",
    "1. 家庭 - 省級 家庭討論\n",
    "2. 學校 - 學校討論 相關課程\n",
    "3. 媒體 - 媒體接觸\n",
    "4. 同儕 - 同儕討論 同儕態度\n",
    "5. 重要事件 - 太陽花(V)\n",
    "6. 世代 - 同世代不討論(V)"
   ]
  }
 ],
 "metadata": {
  "kernelspec": {
   "display_name": "Python 3.9.12 ('base')",
   "language": "python",
   "name": "python3"
  },
  "language_info": {
   "codemirror_mode": {
    "name": "ipython",
    "version": 3
   },
   "file_extension": ".py",
   "mimetype": "text/x-python",
   "name": "python",
   "nbconvert_exporter": "python",
   "pygments_lexer": "ipython3",
   "version": "3.9.12"
  },
  "orig_nbformat": 4,
  "vscode": {
   "interpreter": {
    "hash": "6602c2885c02d123719f05763fdd31327dda850adf85d09c83d4eb769f341e41"
   }
  }
 },
 "nbformat": 4,
 "nbformat_minor": 2
}
